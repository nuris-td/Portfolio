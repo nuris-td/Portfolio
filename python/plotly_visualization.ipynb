{
 "cells": [
  {
   "cell_type": "code",
   "execution_count": 3,
   "metadata": {},
   "outputs": [
    {
     "data": {
      "text/html": [
       "        <script type=\"text/javascript\">\n",
       "        window.PlotlyConfig = {MathJaxConfig: 'local'};\n",
       "        if (window.MathJax) {MathJax.Hub.Config({SVG: {font: \"STIX-Web\"}});}\n",
       "        if (typeof require !== 'undefined') {\n",
       "        require.undef(\"plotly\");\n",
       "        requirejs.config({\n",
       "            paths: {\n",
       "                'plotly': ['https://cdn.plot.ly/plotly-2.9.0.min']\n",
       "            }\n",
       "        });\n",
       "        require(['plotly'], function(Plotly) {\n",
       "            window._Plotly = Plotly;\n",
       "        });\n",
       "        }\n",
       "        </script>\n",
       "        "
      ]
     },
     "metadata": {},
     "output_type": "display_data"
    },
    {
     "data": {
      "text/html": [
       "        <script type=\"text/javascript\">\n",
       "        window.PlotlyConfig = {MathJaxConfig: 'local'};\n",
       "        if (window.MathJax) {MathJax.Hub.Config({SVG: {font: \"STIX-Web\"}});}\n",
       "        if (typeof require !== 'undefined') {\n",
       "        require.undef(\"plotly\");\n",
       "        requirejs.config({\n",
       "            paths: {\n",
       "                'plotly': ['https://cdn.plot.ly/plotly-2.9.0.min']\n",
       "            }\n",
       "        });\n",
       "        require(['plotly'], function(Plotly) {\n",
       "            window._Plotly = Plotly;\n",
       "        });\n",
       "        }\n",
       "        </script>\n",
       "        "
      ]
     },
     "metadata": {},
     "output_type": "display_data"
    }
   ],
   "source": [
    "import chart_studio.plotly as py\n",
    "import plotly.graph_objs as go\n",
    "from plotly.offline import iplot, init_notebook_mode\n",
    "# Using plotly + cufflinks in offline mode\n",
    "import cufflinks\n",
    "cufflinks.go_offline(connected=True)\n",
    "init_notebook_mode(connected=True)\n",
    "import plotly.express as px\n",
    "from plotly.subplots import make_subplots"
   ]
  },
  {
   "cell_type": "code",
   "execution_count": 4,
   "metadata": {},
   "outputs": [],
   "source": [
    "import pandas as pd\n",
    "import numpy as np\n",
    "import plotly"
   ]
  },
  {
   "cell_type": "code",
   "execution_count": 5,
   "metadata": {},
   "outputs": [
    {
     "data": {
      "application/vnd.plotly.v1+json": {
       "config": {
        "plotlyServerURL": "https://plot.ly"
       },
       "data": [
        {
         "hovertemplate": "x=%{x}<br>y=%{y}<extra></extra>",
         "legendgroup": "",
         "marker": {
          "color": "#636efa",
          "symbol": "circle"
         },
         "mode": "markers",
         "name": "",
         "orientation": "v",
         "showlegend": false,
         "type": "scatter",
         "x": [
          0,
          1,
          2,
          3,
          4,
          5,
          6,
          7,
          8,
          9,
          10,
          11,
          12,
          13,
          14,
          15,
          16,
          17,
          18,
          19,
          20,
          21,
          22,
          23,
          24,
          25,
          26,
          27,
          28,
          29,
          30,
          31,
          32,
          33,
          34,
          35,
          36,
          37,
          38,
          39,
          40,
          41,
          42,
          43,
          44,
          45,
          46,
          47,
          48,
          49,
          50,
          51,
          52,
          53,
          54,
          55,
          56,
          57,
          58,
          59,
          60,
          61,
          62,
          63,
          64,
          65,
          66,
          67,
          68,
          69,
          70,
          71,
          72,
          73,
          74,
          75,
          76,
          77,
          78,
          79,
          80,
          81,
          82,
          83,
          84,
          85,
          86,
          87,
          88,
          89
         ],
         "xaxis": "x",
         "y": [
          0,
          1,
          4,
          9,
          16,
          25,
          36,
          49,
          64,
          81,
          100,
          121,
          144,
          169,
          196,
          225,
          256,
          289,
          324,
          361,
          400,
          441,
          484,
          529,
          576,
          625,
          676,
          729,
          784,
          841,
          900,
          961,
          1024,
          1089,
          1156,
          1225,
          1296,
          1369,
          1444,
          1521,
          1600,
          1681,
          1764,
          1849,
          1936,
          2025,
          2116,
          2209,
          2304,
          2401,
          2500,
          2601,
          2704,
          2809,
          2916,
          3025,
          3136,
          3249,
          3364,
          3481,
          3600,
          3721,
          3844,
          3969,
          4096,
          4225,
          4356,
          4489,
          4624,
          4761,
          4900,
          5041,
          5184,
          5329,
          5476,
          5625,
          5776,
          5929,
          6084,
          6241,
          6400,
          6561,
          6724,
          6889,
          7056,
          7225,
          7396,
          7569,
          7744,
          7921
         ],
         "yaxis": "y"
        }
       ],
       "layout": {
        "legend": {
         "tracegroupgap": 0
        },
        "margin": {
         "t": 60
        },
        "template": {
         "data": {
          "bar": [
           {
            "error_x": {
             "color": "#2a3f5f"
            },
            "error_y": {
             "color": "#2a3f5f"
            },
            "marker": {
             "line": {
              "color": "#E5ECF6",
              "width": 0.5
             },
             "pattern": {
              "fillmode": "overlay",
              "size": 10,
              "solidity": 0.2
             }
            },
            "type": "bar"
           }
          ],
          "barpolar": [
           {
            "marker": {
             "line": {
              "color": "#E5ECF6",
              "width": 0.5
             },
             "pattern": {
              "fillmode": "overlay",
              "size": 10,
              "solidity": 0.2
             }
            },
            "type": "barpolar"
           }
          ],
          "carpet": [
           {
            "aaxis": {
             "endlinecolor": "#2a3f5f",
             "gridcolor": "white",
             "linecolor": "white",
             "minorgridcolor": "white",
             "startlinecolor": "#2a3f5f"
            },
            "baxis": {
             "endlinecolor": "#2a3f5f",
             "gridcolor": "white",
             "linecolor": "white",
             "minorgridcolor": "white",
             "startlinecolor": "#2a3f5f"
            },
            "type": "carpet"
           }
          ],
          "choropleth": [
           {
            "colorbar": {
             "outlinewidth": 0,
             "ticks": ""
            },
            "type": "choropleth"
           }
          ],
          "contour": [
           {
            "colorbar": {
             "outlinewidth": 0,
             "ticks": ""
            },
            "colorscale": [
             [
              0,
              "#0d0887"
             ],
             [
              0.1111111111111111,
              "#46039f"
             ],
             [
              0.2222222222222222,
              "#7201a8"
             ],
             [
              0.3333333333333333,
              "#9c179e"
             ],
             [
              0.4444444444444444,
              "#bd3786"
             ],
             [
              0.5555555555555556,
              "#d8576b"
             ],
             [
              0.6666666666666666,
              "#ed7953"
             ],
             [
              0.7777777777777778,
              "#fb9f3a"
             ],
             [
              0.8888888888888888,
              "#fdca26"
             ],
             [
              1,
              "#f0f921"
             ]
            ],
            "type": "contour"
           }
          ],
          "contourcarpet": [
           {
            "colorbar": {
             "outlinewidth": 0,
             "ticks": ""
            },
            "type": "contourcarpet"
           }
          ],
          "heatmap": [
           {
            "colorbar": {
             "outlinewidth": 0,
             "ticks": ""
            },
            "colorscale": [
             [
              0,
              "#0d0887"
             ],
             [
              0.1111111111111111,
              "#46039f"
             ],
             [
              0.2222222222222222,
              "#7201a8"
             ],
             [
              0.3333333333333333,
              "#9c179e"
             ],
             [
              0.4444444444444444,
              "#bd3786"
             ],
             [
              0.5555555555555556,
              "#d8576b"
             ],
             [
              0.6666666666666666,
              "#ed7953"
             ],
             [
              0.7777777777777778,
              "#fb9f3a"
             ],
             [
              0.8888888888888888,
              "#fdca26"
             ],
             [
              1,
              "#f0f921"
             ]
            ],
            "type": "heatmap"
           }
          ],
          "heatmapgl": [
           {
            "colorbar": {
             "outlinewidth": 0,
             "ticks": ""
            },
            "colorscale": [
             [
              0,
              "#0d0887"
             ],
             [
              0.1111111111111111,
              "#46039f"
             ],
             [
              0.2222222222222222,
              "#7201a8"
             ],
             [
              0.3333333333333333,
              "#9c179e"
             ],
             [
              0.4444444444444444,
              "#bd3786"
             ],
             [
              0.5555555555555556,
              "#d8576b"
             ],
             [
              0.6666666666666666,
              "#ed7953"
             ],
             [
              0.7777777777777778,
              "#fb9f3a"
             ],
             [
              0.8888888888888888,
              "#fdca26"
             ],
             [
              1,
              "#f0f921"
             ]
            ],
            "type": "heatmapgl"
           }
          ],
          "histogram": [
           {
            "marker": {
             "pattern": {
              "fillmode": "overlay",
              "size": 10,
              "solidity": 0.2
             }
            },
            "type": "histogram"
           }
          ],
          "histogram2d": [
           {
            "colorbar": {
             "outlinewidth": 0,
             "ticks": ""
            },
            "colorscale": [
             [
              0,
              "#0d0887"
             ],
             [
              0.1111111111111111,
              "#46039f"
             ],
             [
              0.2222222222222222,
              "#7201a8"
             ],
             [
              0.3333333333333333,
              "#9c179e"
             ],
             [
              0.4444444444444444,
              "#bd3786"
             ],
             [
              0.5555555555555556,
              "#d8576b"
             ],
             [
              0.6666666666666666,
              "#ed7953"
             ],
             [
              0.7777777777777778,
              "#fb9f3a"
             ],
             [
              0.8888888888888888,
              "#fdca26"
             ],
             [
              1,
              "#f0f921"
             ]
            ],
            "type": "histogram2d"
           }
          ],
          "histogram2dcontour": [
           {
            "colorbar": {
             "outlinewidth": 0,
             "ticks": ""
            },
            "colorscale": [
             [
              0,
              "#0d0887"
             ],
             [
              0.1111111111111111,
              "#46039f"
             ],
             [
              0.2222222222222222,
              "#7201a8"
             ],
             [
              0.3333333333333333,
              "#9c179e"
             ],
             [
              0.4444444444444444,
              "#bd3786"
             ],
             [
              0.5555555555555556,
              "#d8576b"
             ],
             [
              0.6666666666666666,
              "#ed7953"
             ],
             [
              0.7777777777777778,
              "#fb9f3a"
             ],
             [
              0.8888888888888888,
              "#fdca26"
             ],
             [
              1,
              "#f0f921"
             ]
            ],
            "type": "histogram2dcontour"
           }
          ],
          "mesh3d": [
           {
            "colorbar": {
             "outlinewidth": 0,
             "ticks": ""
            },
            "type": "mesh3d"
           }
          ],
          "parcoords": [
           {
            "line": {
             "colorbar": {
              "outlinewidth": 0,
              "ticks": ""
             }
            },
            "type": "parcoords"
           }
          ],
          "pie": [
           {
            "automargin": true,
            "type": "pie"
           }
          ],
          "scatter": [
           {
            "marker": {
             "colorbar": {
              "outlinewidth": 0,
              "ticks": ""
             }
            },
            "type": "scatter"
           }
          ],
          "scatter3d": [
           {
            "line": {
             "colorbar": {
              "outlinewidth": 0,
              "ticks": ""
             }
            },
            "marker": {
             "colorbar": {
              "outlinewidth": 0,
              "ticks": ""
             }
            },
            "type": "scatter3d"
           }
          ],
          "scattercarpet": [
           {
            "marker": {
             "colorbar": {
              "outlinewidth": 0,
              "ticks": ""
             }
            },
            "type": "scattercarpet"
           }
          ],
          "scattergeo": [
           {
            "marker": {
             "colorbar": {
              "outlinewidth": 0,
              "ticks": ""
             }
            },
            "type": "scattergeo"
           }
          ],
          "scattergl": [
           {
            "marker": {
             "colorbar": {
              "outlinewidth": 0,
              "ticks": ""
             }
            },
            "type": "scattergl"
           }
          ],
          "scattermapbox": [
           {
            "marker": {
             "colorbar": {
              "outlinewidth": 0,
              "ticks": ""
             }
            },
            "type": "scattermapbox"
           }
          ],
          "scatterpolar": [
           {
            "marker": {
             "colorbar": {
              "outlinewidth": 0,
              "ticks": ""
             }
            },
            "type": "scatterpolar"
           }
          ],
          "scatterpolargl": [
           {
            "marker": {
             "colorbar": {
              "outlinewidth": 0,
              "ticks": ""
             }
            },
            "type": "scatterpolargl"
           }
          ],
          "scatterternary": [
           {
            "marker": {
             "colorbar": {
              "outlinewidth": 0,
              "ticks": ""
             }
            },
            "type": "scatterternary"
           }
          ],
          "surface": [
           {
            "colorbar": {
             "outlinewidth": 0,
             "ticks": ""
            },
            "colorscale": [
             [
              0,
              "#0d0887"
             ],
             [
              0.1111111111111111,
              "#46039f"
             ],
             [
              0.2222222222222222,
              "#7201a8"
             ],
             [
              0.3333333333333333,
              "#9c179e"
             ],
             [
              0.4444444444444444,
              "#bd3786"
             ],
             [
              0.5555555555555556,
              "#d8576b"
             ],
             [
              0.6666666666666666,
              "#ed7953"
             ],
             [
              0.7777777777777778,
              "#fb9f3a"
             ],
             [
              0.8888888888888888,
              "#fdca26"
             ],
             [
              1,
              "#f0f921"
             ]
            ],
            "type": "surface"
           }
          ],
          "table": [
           {
            "cells": {
             "fill": {
              "color": "#EBF0F8"
             },
             "line": {
              "color": "white"
             }
            },
            "header": {
             "fill": {
              "color": "#C8D4E3"
             },
             "line": {
              "color": "white"
             }
            },
            "type": "table"
           }
          ]
         },
         "layout": {
          "annotationdefaults": {
           "arrowcolor": "#2a3f5f",
           "arrowhead": 0,
           "arrowwidth": 1
          },
          "autotypenumbers": "strict",
          "coloraxis": {
           "colorbar": {
            "outlinewidth": 0,
            "ticks": ""
           }
          },
          "colorscale": {
           "diverging": [
            [
             0,
             "#8e0152"
            ],
            [
             0.1,
             "#c51b7d"
            ],
            [
             0.2,
             "#de77ae"
            ],
            [
             0.3,
             "#f1b6da"
            ],
            [
             0.4,
             "#fde0ef"
            ],
            [
             0.5,
             "#f7f7f7"
            ],
            [
             0.6,
             "#e6f5d0"
            ],
            [
             0.7,
             "#b8e186"
            ],
            [
             0.8,
             "#7fbc41"
            ],
            [
             0.9,
             "#4d9221"
            ],
            [
             1,
             "#276419"
            ]
           ],
           "sequential": [
            [
             0,
             "#0d0887"
            ],
            [
             0.1111111111111111,
             "#46039f"
            ],
            [
             0.2222222222222222,
             "#7201a8"
            ],
            [
             0.3333333333333333,
             "#9c179e"
            ],
            [
             0.4444444444444444,
             "#bd3786"
            ],
            [
             0.5555555555555556,
             "#d8576b"
            ],
            [
             0.6666666666666666,
             "#ed7953"
            ],
            [
             0.7777777777777778,
             "#fb9f3a"
            ],
            [
             0.8888888888888888,
             "#fdca26"
            ],
            [
             1,
             "#f0f921"
            ]
           ],
           "sequentialminus": [
            [
             0,
             "#0d0887"
            ],
            [
             0.1111111111111111,
             "#46039f"
            ],
            [
             0.2222222222222222,
             "#7201a8"
            ],
            [
             0.3333333333333333,
             "#9c179e"
            ],
            [
             0.4444444444444444,
             "#bd3786"
            ],
            [
             0.5555555555555556,
             "#d8576b"
            ],
            [
             0.6666666666666666,
             "#ed7953"
            ],
            [
             0.7777777777777778,
             "#fb9f3a"
            ],
            [
             0.8888888888888888,
             "#fdca26"
            ],
            [
             1,
             "#f0f921"
            ]
           ]
          },
          "colorway": [
           "#636efa",
           "#EF553B",
           "#00cc96",
           "#ab63fa",
           "#FFA15A",
           "#19d3f3",
           "#FF6692",
           "#B6E880",
           "#FF97FF",
           "#FECB52"
          ],
          "font": {
           "color": "#2a3f5f"
          },
          "geo": {
           "bgcolor": "white",
           "lakecolor": "white",
           "landcolor": "#E5ECF6",
           "showlakes": true,
           "showland": true,
           "subunitcolor": "white"
          },
          "hoverlabel": {
           "align": "left"
          },
          "hovermode": "closest",
          "mapbox": {
           "style": "light"
          },
          "paper_bgcolor": "white",
          "plot_bgcolor": "#E5ECF6",
          "polar": {
           "angularaxis": {
            "gridcolor": "white",
            "linecolor": "white",
            "ticks": ""
           },
           "bgcolor": "#E5ECF6",
           "radialaxis": {
            "gridcolor": "white",
            "linecolor": "white",
            "ticks": ""
           }
          },
          "scene": {
           "xaxis": {
            "backgroundcolor": "#E5ECF6",
            "gridcolor": "white",
            "gridwidth": 2,
            "linecolor": "white",
            "showbackground": true,
            "ticks": "",
            "zerolinecolor": "white"
           },
           "yaxis": {
            "backgroundcolor": "#E5ECF6",
            "gridcolor": "white",
            "gridwidth": 2,
            "linecolor": "white",
            "showbackground": true,
            "ticks": "",
            "zerolinecolor": "white"
           },
           "zaxis": {
            "backgroundcolor": "#E5ECF6",
            "gridcolor": "white",
            "gridwidth": 2,
            "linecolor": "white",
            "showbackground": true,
            "ticks": "",
            "zerolinecolor": "white"
           }
          },
          "shapedefaults": {
           "line": {
            "color": "#2a3f5f"
           }
          },
          "ternary": {
           "aaxis": {
            "gridcolor": "white",
            "linecolor": "white",
            "ticks": ""
           },
           "baxis": {
            "gridcolor": "white",
            "linecolor": "white",
            "ticks": ""
           },
           "bgcolor": "#E5ECF6",
           "caxis": {
            "gridcolor": "white",
            "linecolor": "white",
            "ticks": ""
           }
          },
          "title": {
           "x": 0.05
          },
          "xaxis": {
           "automargin": true,
           "gridcolor": "white",
           "linecolor": "white",
           "ticks": "",
           "title": {
            "standoff": 15
           },
           "zerolinecolor": "white",
           "zerolinewidth": 2
          },
          "yaxis": {
           "automargin": true,
           "gridcolor": "white",
           "linecolor": "white",
           "ticks": "",
           "title": {
            "standoff": 15
           },
           "zerolinecolor": "white",
           "zerolinewidth": 2
          }
         }
        },
        "xaxis": {
         "anchor": "y",
         "domain": [
          0,
          1
         ],
         "title": {
          "text": "x"
         }
        },
        "yaxis": {
         "anchor": "x",
         "domain": [
          0,
          1
         ],
         "title": {
          "text": "y"
         }
        }
       }
      },
      "text/html": [
       "<div>                            <div id=\"9b05efdb-fd6f-4a10-8db0-b3b8f826d6ea\" class=\"plotly-graph-div\" style=\"height:525px; width:100%;\"></div>            <script type=\"text/javascript\">                require([\"plotly\"], function(Plotly) {                    window.PLOTLYENV=window.PLOTLYENV || {};                                    if (document.getElementById(\"9b05efdb-fd6f-4a10-8db0-b3b8f826d6ea\")) {                    Plotly.newPlot(                        \"9b05efdb-fd6f-4a10-8db0-b3b8f826d6ea\",                        [{\"hovertemplate\":\"x=%{x}<br>y=%{y}<extra></extra>\",\"legendgroup\":\"\",\"marker\":{\"color\":\"#636efa\",\"symbol\":\"circle\"},\"mode\":\"markers\",\"name\":\"\",\"orientation\":\"v\",\"showlegend\":false,\"x\":[0,1,2,3,4,5,6,7,8,9,10,11,12,13,14,15,16,17,18,19,20,21,22,23,24,25,26,27,28,29,30,31,32,33,34,35,36,37,38,39,40,41,42,43,44,45,46,47,48,49,50,51,52,53,54,55,56,57,58,59,60,61,62,63,64,65,66,67,68,69,70,71,72,73,74,75,76,77,78,79,80,81,82,83,84,85,86,87,88,89],\"xaxis\":\"x\",\"y\":[0,1,4,9,16,25,36,49,64,81,100,121,144,169,196,225,256,289,324,361,400,441,484,529,576,625,676,729,784,841,900,961,1024,1089,1156,1225,1296,1369,1444,1521,1600,1681,1764,1849,1936,2025,2116,2209,2304,2401,2500,2601,2704,2809,2916,3025,3136,3249,3364,3481,3600,3721,3844,3969,4096,4225,4356,4489,4624,4761,4900,5041,5184,5329,5476,5625,5776,5929,6084,6241,6400,6561,6724,6889,7056,7225,7396,7569,7744,7921],\"yaxis\":\"y\",\"type\":\"scatter\"}],                        {\"template\":{\"data\":{\"bar\":[{\"error_x\":{\"color\":\"#2a3f5f\"},\"error_y\":{\"color\":\"#2a3f5f\"},\"marker\":{\"line\":{\"color\":\"#E5ECF6\",\"width\":0.5},\"pattern\":{\"fillmode\":\"overlay\",\"size\":10,\"solidity\":0.2}},\"type\":\"bar\"}],\"barpolar\":[{\"marker\":{\"line\":{\"color\":\"#E5ECF6\",\"width\":0.5},\"pattern\":{\"fillmode\":\"overlay\",\"size\":10,\"solidity\":0.2}},\"type\":\"barpolar\"}],\"carpet\":[{\"aaxis\":{\"endlinecolor\":\"#2a3f5f\",\"gridcolor\":\"white\",\"linecolor\":\"white\",\"minorgridcolor\":\"white\",\"startlinecolor\":\"#2a3f5f\"},\"baxis\":{\"endlinecolor\":\"#2a3f5f\",\"gridcolor\":\"white\",\"linecolor\":\"white\",\"minorgridcolor\":\"white\",\"startlinecolor\":\"#2a3f5f\"},\"type\":\"carpet\"}],\"choropleth\":[{\"colorbar\":{\"outlinewidth\":0,\"ticks\":\"\"},\"type\":\"choropleth\"}],\"contour\":[{\"colorbar\":{\"outlinewidth\":0,\"ticks\":\"\"},\"colorscale\":[[0.0,\"#0d0887\"],[0.1111111111111111,\"#46039f\"],[0.2222222222222222,\"#7201a8\"],[0.3333333333333333,\"#9c179e\"],[0.4444444444444444,\"#bd3786\"],[0.5555555555555556,\"#d8576b\"],[0.6666666666666666,\"#ed7953\"],[0.7777777777777778,\"#fb9f3a\"],[0.8888888888888888,\"#fdca26\"],[1.0,\"#f0f921\"]],\"type\":\"contour\"}],\"contourcarpet\":[{\"colorbar\":{\"outlinewidth\":0,\"ticks\":\"\"},\"type\":\"contourcarpet\"}],\"heatmap\":[{\"colorbar\":{\"outlinewidth\":0,\"ticks\":\"\"},\"colorscale\":[[0.0,\"#0d0887\"],[0.1111111111111111,\"#46039f\"],[0.2222222222222222,\"#7201a8\"],[0.3333333333333333,\"#9c179e\"],[0.4444444444444444,\"#bd3786\"],[0.5555555555555556,\"#d8576b\"],[0.6666666666666666,\"#ed7953\"],[0.7777777777777778,\"#fb9f3a\"],[0.8888888888888888,\"#fdca26\"],[1.0,\"#f0f921\"]],\"type\":\"heatmap\"}],\"heatmapgl\":[{\"colorbar\":{\"outlinewidth\":0,\"ticks\":\"\"},\"colorscale\":[[0.0,\"#0d0887\"],[0.1111111111111111,\"#46039f\"],[0.2222222222222222,\"#7201a8\"],[0.3333333333333333,\"#9c179e\"],[0.4444444444444444,\"#bd3786\"],[0.5555555555555556,\"#d8576b\"],[0.6666666666666666,\"#ed7953\"],[0.7777777777777778,\"#fb9f3a\"],[0.8888888888888888,\"#fdca26\"],[1.0,\"#f0f921\"]],\"type\":\"heatmapgl\"}],\"histogram\":[{\"marker\":{\"pattern\":{\"fillmode\":\"overlay\",\"size\":10,\"solidity\":0.2}},\"type\":\"histogram\"}],\"histogram2d\":[{\"colorbar\":{\"outlinewidth\":0,\"ticks\":\"\"},\"colorscale\":[[0.0,\"#0d0887\"],[0.1111111111111111,\"#46039f\"],[0.2222222222222222,\"#7201a8\"],[0.3333333333333333,\"#9c179e\"],[0.4444444444444444,\"#bd3786\"],[0.5555555555555556,\"#d8576b\"],[0.6666666666666666,\"#ed7953\"],[0.7777777777777778,\"#fb9f3a\"],[0.8888888888888888,\"#fdca26\"],[1.0,\"#f0f921\"]],\"type\":\"histogram2d\"}],\"histogram2dcontour\":[{\"colorbar\":{\"outlinewidth\":0,\"ticks\":\"\"},\"colorscale\":[[0.0,\"#0d0887\"],[0.1111111111111111,\"#46039f\"],[0.2222222222222222,\"#7201a8\"],[0.3333333333333333,\"#9c179e\"],[0.4444444444444444,\"#bd3786\"],[0.5555555555555556,\"#d8576b\"],[0.6666666666666666,\"#ed7953\"],[0.7777777777777778,\"#fb9f3a\"],[0.8888888888888888,\"#fdca26\"],[1.0,\"#f0f921\"]],\"type\":\"histogram2dcontour\"}],\"mesh3d\":[{\"colorbar\":{\"outlinewidth\":0,\"ticks\":\"\"},\"type\":\"mesh3d\"}],\"parcoords\":[{\"line\":{\"colorbar\":{\"outlinewidth\":0,\"ticks\":\"\"}},\"type\":\"parcoords\"}],\"pie\":[{\"automargin\":true,\"type\":\"pie\"}],\"scatter\":[{\"marker\":{\"colorbar\":{\"outlinewidth\":0,\"ticks\":\"\"}},\"type\":\"scatter\"}],\"scatter3d\":[{\"line\":{\"colorbar\":{\"outlinewidth\":0,\"ticks\":\"\"}},\"marker\":{\"colorbar\":{\"outlinewidth\":0,\"ticks\":\"\"}},\"type\":\"scatter3d\"}],\"scattercarpet\":[{\"marker\":{\"colorbar\":{\"outlinewidth\":0,\"ticks\":\"\"}},\"type\":\"scattercarpet\"}],\"scattergeo\":[{\"marker\":{\"colorbar\":{\"outlinewidth\":0,\"ticks\":\"\"}},\"type\":\"scattergeo\"}],\"scattergl\":[{\"marker\":{\"colorbar\":{\"outlinewidth\":0,\"ticks\":\"\"}},\"type\":\"scattergl\"}],\"scattermapbox\":[{\"marker\":{\"colorbar\":{\"outlinewidth\":0,\"ticks\":\"\"}},\"type\":\"scattermapbox\"}],\"scatterpolar\":[{\"marker\":{\"colorbar\":{\"outlinewidth\":0,\"ticks\":\"\"}},\"type\":\"scatterpolar\"}],\"scatterpolargl\":[{\"marker\":{\"colorbar\":{\"outlinewidth\":0,\"ticks\":\"\"}},\"type\":\"scatterpolargl\"}],\"scatterternary\":[{\"marker\":{\"colorbar\":{\"outlinewidth\":0,\"ticks\":\"\"}},\"type\":\"scatterternary\"}],\"surface\":[{\"colorbar\":{\"outlinewidth\":0,\"ticks\":\"\"},\"colorscale\":[[0.0,\"#0d0887\"],[0.1111111111111111,\"#46039f\"],[0.2222222222222222,\"#7201a8\"],[0.3333333333333333,\"#9c179e\"],[0.4444444444444444,\"#bd3786\"],[0.5555555555555556,\"#d8576b\"],[0.6666666666666666,\"#ed7953\"],[0.7777777777777778,\"#fb9f3a\"],[0.8888888888888888,\"#fdca26\"],[1.0,\"#f0f921\"]],\"type\":\"surface\"}],\"table\":[{\"cells\":{\"fill\":{\"color\":\"#EBF0F8\"},\"line\":{\"color\":\"white\"}},\"header\":{\"fill\":{\"color\":\"#C8D4E3\"},\"line\":{\"color\":\"white\"}},\"type\":\"table\"}]},\"layout\":{\"annotationdefaults\":{\"arrowcolor\":\"#2a3f5f\",\"arrowhead\":0,\"arrowwidth\":1},\"autotypenumbers\":\"strict\",\"coloraxis\":{\"colorbar\":{\"outlinewidth\":0,\"ticks\":\"\"}},\"colorscale\":{\"diverging\":[[0,\"#8e0152\"],[0.1,\"#c51b7d\"],[0.2,\"#de77ae\"],[0.3,\"#f1b6da\"],[0.4,\"#fde0ef\"],[0.5,\"#f7f7f7\"],[0.6,\"#e6f5d0\"],[0.7,\"#b8e186\"],[0.8,\"#7fbc41\"],[0.9,\"#4d9221\"],[1,\"#276419\"]],\"sequential\":[[0.0,\"#0d0887\"],[0.1111111111111111,\"#46039f\"],[0.2222222222222222,\"#7201a8\"],[0.3333333333333333,\"#9c179e\"],[0.4444444444444444,\"#bd3786\"],[0.5555555555555556,\"#d8576b\"],[0.6666666666666666,\"#ed7953\"],[0.7777777777777778,\"#fb9f3a\"],[0.8888888888888888,\"#fdca26\"],[1.0,\"#f0f921\"]],\"sequentialminus\":[[0.0,\"#0d0887\"],[0.1111111111111111,\"#46039f\"],[0.2222222222222222,\"#7201a8\"],[0.3333333333333333,\"#9c179e\"],[0.4444444444444444,\"#bd3786\"],[0.5555555555555556,\"#d8576b\"],[0.6666666666666666,\"#ed7953\"],[0.7777777777777778,\"#fb9f3a\"],[0.8888888888888888,\"#fdca26\"],[1.0,\"#f0f921\"]]},\"colorway\":[\"#636efa\",\"#EF553B\",\"#00cc96\",\"#ab63fa\",\"#FFA15A\",\"#19d3f3\",\"#FF6692\",\"#B6E880\",\"#FF97FF\",\"#FECB52\"],\"font\":{\"color\":\"#2a3f5f\"},\"geo\":{\"bgcolor\":\"white\",\"lakecolor\":\"white\",\"landcolor\":\"#E5ECF6\",\"showlakes\":true,\"showland\":true,\"subunitcolor\":\"white\"},\"hoverlabel\":{\"align\":\"left\"},\"hovermode\":\"closest\",\"mapbox\":{\"style\":\"light\"},\"paper_bgcolor\":\"white\",\"plot_bgcolor\":\"#E5ECF6\",\"polar\":{\"angularaxis\":{\"gridcolor\":\"white\",\"linecolor\":\"white\",\"ticks\":\"\"},\"bgcolor\":\"#E5ECF6\",\"radialaxis\":{\"gridcolor\":\"white\",\"linecolor\":\"white\",\"ticks\":\"\"}},\"scene\":{\"xaxis\":{\"backgroundcolor\":\"#E5ECF6\",\"gridcolor\":\"white\",\"gridwidth\":2,\"linecolor\":\"white\",\"showbackground\":true,\"ticks\":\"\",\"zerolinecolor\":\"white\"},\"yaxis\":{\"backgroundcolor\":\"#E5ECF6\",\"gridcolor\":\"white\",\"gridwidth\":2,\"linecolor\":\"white\",\"showbackground\":true,\"ticks\":\"\",\"zerolinecolor\":\"white\"},\"zaxis\":{\"backgroundcolor\":\"#E5ECF6\",\"gridcolor\":\"white\",\"gridwidth\":2,\"linecolor\":\"white\",\"showbackground\":true,\"ticks\":\"\",\"zerolinecolor\":\"white\"}},\"shapedefaults\":{\"line\":{\"color\":\"#2a3f5f\"}},\"ternary\":{\"aaxis\":{\"gridcolor\":\"white\",\"linecolor\":\"white\",\"ticks\":\"\"},\"baxis\":{\"gridcolor\":\"white\",\"linecolor\":\"white\",\"ticks\":\"\"},\"bgcolor\":\"#E5ECF6\",\"caxis\":{\"gridcolor\":\"white\",\"linecolor\":\"white\",\"ticks\":\"\"}},\"title\":{\"x\":0.05},\"xaxis\":{\"automargin\":true,\"gridcolor\":\"white\",\"linecolor\":\"white\",\"ticks\":\"\",\"title\":{\"standoff\":15},\"zerolinecolor\":\"white\",\"zerolinewidth\":2},\"yaxis\":{\"automargin\":true,\"gridcolor\":\"white\",\"linecolor\":\"white\",\"ticks\":\"\",\"title\":{\"standoff\":15},\"zerolinecolor\":\"white\",\"zerolinewidth\":2}}},\"xaxis\":{\"anchor\":\"y\",\"domain\":[0.0,1.0],\"title\":{\"text\":\"x\"}},\"yaxis\":{\"anchor\":\"x\",\"domain\":[0.0,1.0],\"title\":{\"text\":\"y\"}},\"legend\":{\"tracegroupgap\":0},\"margin\":{\"t\":60}},                        {\"responsive\": true}                    ).then(function(){\n",
       "                            \n",
       "var gd = document.getElementById('9b05efdb-fd6f-4a10-8db0-b3b8f826d6ea');\n",
       "var x = new MutationObserver(function (mutations, observer) {{\n",
       "        var display = window.getComputedStyle(gd).display;\n",
       "        if (!display || display === 'none') {{\n",
       "            console.log([gd, 'removed!']);\n",
       "            Plotly.purge(gd);\n",
       "            observer.disconnect();\n",
       "        }}\n",
       "}});\n",
       "\n",
       "// Listen for the removal of the full notebook cells\n",
       "var notebookContainer = gd.closest('#notebook-container');\n",
       "if (notebookContainer) {{\n",
       "    x.observe(notebookContainer, {childList: true});\n",
       "}}\n",
       "\n",
       "// Listen for the clearing of the current output cell\n",
       "var outputEl = gd.closest('.output');\n",
       "if (outputEl) {{\n",
       "    x.observe(outputEl, {childList: true});\n",
       "}}\n",
       "\n",
       "                        })                };                });            </script>        </div>"
      ]
     },
     "metadata": {},
     "output_type": "display_data"
    }
   ],
   "source": [
    "x = np.arange(0, 90, 1)\n",
    "px.scatter(x=x, y=x**2)"
   ]
  },
  {
   "cell_type": "code",
   "execution_count": 6,
   "metadata": {},
   "outputs": [
    {
     "data": {
      "application/vnd.plotly.v1+json": {
       "config": {
        "plotlyServerURL": "https://plot.ly"
       },
       "data": [
        {
         "mode": "lines+markers",
         "name": "f(x)=x<sup>2</sup>",
         "type": "scatter",
         "x": [
          0,
          0.1,
          0.2,
          0.30000000000000004,
          0.4,
          0.5,
          0.6000000000000001,
          0.7000000000000001,
          0.8,
          0.9,
          1,
          1.1,
          1.2000000000000002,
          1.3,
          1.4000000000000001,
          1.5,
          1.6,
          1.7000000000000002,
          1.8,
          1.9000000000000001,
          2,
          2.1,
          2.2,
          2.3000000000000003,
          2.4000000000000004,
          2.5,
          2.6,
          2.7,
          2.8000000000000003,
          2.9000000000000004,
          3,
          3.1,
          3.2,
          3.3000000000000003,
          3.4000000000000004,
          3.5,
          3.6,
          3.7,
          3.8000000000000003,
          3.9000000000000004,
          4,
          4.1000000000000005,
          4.2,
          4.3,
          4.4,
          4.5,
          4.6000000000000005,
          4.7,
          4.800000000000001,
          4.9
         ],
         "y": [
          0,
          0.010000000000000002,
          0.04000000000000001,
          0.09000000000000002,
          0.16000000000000003,
          0.25,
          0.3600000000000001,
          0.4900000000000001,
          0.6400000000000001,
          0.81,
          1,
          1.2100000000000002,
          1.4400000000000004,
          1.6900000000000002,
          1.9600000000000004,
          2.25,
          2.5600000000000005,
          2.8900000000000006,
          3.24,
          3.6100000000000003,
          4,
          4.41,
          4.840000000000001,
          5.290000000000001,
          5.760000000000002,
          6.25,
          6.760000000000001,
          7.290000000000001,
          7.840000000000002,
          8.410000000000002,
          9,
          9.610000000000001,
          10.240000000000002,
          10.890000000000002,
          11.560000000000002,
          12.25,
          12.96,
          13.690000000000001,
          14.440000000000001,
          15.210000000000003,
          16,
          16.810000000000006,
          17.64,
          18.49,
          19.360000000000003,
          20.25,
          21.160000000000004,
          22.090000000000003,
          23.040000000000006,
          24.010000000000005
         ]
        },
        {
         "mode": "markers",
         "name": "g(x)=x",
         "type": "scatter",
         "x": [
          0,
          0.1,
          0.2,
          0.30000000000000004,
          0.4,
          0.5,
          0.6000000000000001,
          0.7000000000000001,
          0.8,
          0.9,
          1,
          1.1,
          1.2000000000000002,
          1.3,
          1.4000000000000001,
          1.5,
          1.6,
          1.7000000000000002,
          1.8,
          1.9000000000000001,
          2,
          2.1,
          2.2,
          2.3000000000000003,
          2.4000000000000004,
          2.5,
          2.6,
          2.7,
          2.8000000000000003,
          2.9000000000000004,
          3,
          3.1,
          3.2,
          3.3000000000000003,
          3.4000000000000004,
          3.5,
          3.6,
          3.7,
          3.8000000000000003,
          3.9000000000000004,
          4,
          4.1000000000000005,
          4.2,
          4.3,
          4.4,
          4.5,
          4.6000000000000005,
          4.7,
          4.800000000000001,
          4.9
         ],
         "y": [
          0,
          0.1,
          0.2,
          0.30000000000000004,
          0.4,
          0.5,
          0.6000000000000001,
          0.7000000000000001,
          0.8,
          0.9,
          1,
          1.1,
          1.2000000000000002,
          1.3,
          1.4000000000000001,
          1.5,
          1.6,
          1.7000000000000002,
          1.8,
          1.9000000000000001,
          2,
          2.1,
          2.2,
          2.3000000000000003,
          2.4000000000000004,
          2.5,
          2.6,
          2.7,
          2.8000000000000003,
          2.9000000000000004,
          3,
          3.1,
          3.2,
          3.3000000000000003,
          3.4000000000000004,
          3.5,
          3.6,
          3.7,
          3.8000000000000003,
          3.9000000000000004,
          4,
          4.1000000000000005,
          4.2,
          4.3,
          4.4,
          4.5,
          4.6000000000000005,
          4.7,
          4.800000000000001,
          4.9
         ]
        }
       ],
       "layout": {
        "legend": {
         "orientation": "h",
         "x": 0.5,
         "xanchor": "center"
        },
        "margin": {
         "b": 15,
         "l": 25,
         "r": 25,
         "t": 30
        },
        "template": {
         "data": {
          "bar": [
           {
            "error_x": {
             "color": "#2a3f5f"
            },
            "error_y": {
             "color": "#2a3f5f"
            },
            "marker": {
             "line": {
              "color": "#E5ECF6",
              "width": 0.5
             },
             "pattern": {
              "fillmode": "overlay",
              "size": 10,
              "solidity": 0.2
             }
            },
            "type": "bar"
           }
          ],
          "barpolar": [
           {
            "marker": {
             "line": {
              "color": "#E5ECF6",
              "width": 0.5
             },
             "pattern": {
              "fillmode": "overlay",
              "size": 10,
              "solidity": 0.2
             }
            },
            "type": "barpolar"
           }
          ],
          "carpet": [
           {
            "aaxis": {
             "endlinecolor": "#2a3f5f",
             "gridcolor": "white",
             "linecolor": "white",
             "minorgridcolor": "white",
             "startlinecolor": "#2a3f5f"
            },
            "baxis": {
             "endlinecolor": "#2a3f5f",
             "gridcolor": "white",
             "linecolor": "white",
             "minorgridcolor": "white",
             "startlinecolor": "#2a3f5f"
            },
            "type": "carpet"
           }
          ],
          "choropleth": [
           {
            "colorbar": {
             "outlinewidth": 0,
             "ticks": ""
            },
            "type": "choropleth"
           }
          ],
          "contour": [
           {
            "colorbar": {
             "outlinewidth": 0,
             "ticks": ""
            },
            "colorscale": [
             [
              0,
              "#0d0887"
             ],
             [
              0.1111111111111111,
              "#46039f"
             ],
             [
              0.2222222222222222,
              "#7201a8"
             ],
             [
              0.3333333333333333,
              "#9c179e"
             ],
             [
              0.4444444444444444,
              "#bd3786"
             ],
             [
              0.5555555555555556,
              "#d8576b"
             ],
             [
              0.6666666666666666,
              "#ed7953"
             ],
             [
              0.7777777777777778,
              "#fb9f3a"
             ],
             [
              0.8888888888888888,
              "#fdca26"
             ],
             [
              1,
              "#f0f921"
             ]
            ],
            "type": "contour"
           }
          ],
          "contourcarpet": [
           {
            "colorbar": {
             "outlinewidth": 0,
             "ticks": ""
            },
            "type": "contourcarpet"
           }
          ],
          "heatmap": [
           {
            "colorbar": {
             "outlinewidth": 0,
             "ticks": ""
            },
            "colorscale": [
             [
              0,
              "#0d0887"
             ],
             [
              0.1111111111111111,
              "#46039f"
             ],
             [
              0.2222222222222222,
              "#7201a8"
             ],
             [
              0.3333333333333333,
              "#9c179e"
             ],
             [
              0.4444444444444444,
              "#bd3786"
             ],
             [
              0.5555555555555556,
              "#d8576b"
             ],
             [
              0.6666666666666666,
              "#ed7953"
             ],
             [
              0.7777777777777778,
              "#fb9f3a"
             ],
             [
              0.8888888888888888,
              "#fdca26"
             ],
             [
              1,
              "#f0f921"
             ]
            ],
            "type": "heatmap"
           }
          ],
          "heatmapgl": [
           {
            "colorbar": {
             "outlinewidth": 0,
             "ticks": ""
            },
            "colorscale": [
             [
              0,
              "#0d0887"
             ],
             [
              0.1111111111111111,
              "#46039f"
             ],
             [
              0.2222222222222222,
              "#7201a8"
             ],
             [
              0.3333333333333333,
              "#9c179e"
             ],
             [
              0.4444444444444444,
              "#bd3786"
             ],
             [
              0.5555555555555556,
              "#d8576b"
             ],
             [
              0.6666666666666666,
              "#ed7953"
             ],
             [
              0.7777777777777778,
              "#fb9f3a"
             ],
             [
              0.8888888888888888,
              "#fdca26"
             ],
             [
              1,
              "#f0f921"
             ]
            ],
            "type": "heatmapgl"
           }
          ],
          "histogram": [
           {
            "marker": {
             "pattern": {
              "fillmode": "overlay",
              "size": 10,
              "solidity": 0.2
             }
            },
            "type": "histogram"
           }
          ],
          "histogram2d": [
           {
            "colorbar": {
             "outlinewidth": 0,
             "ticks": ""
            },
            "colorscale": [
             [
              0,
              "#0d0887"
             ],
             [
              0.1111111111111111,
              "#46039f"
             ],
             [
              0.2222222222222222,
              "#7201a8"
             ],
             [
              0.3333333333333333,
              "#9c179e"
             ],
             [
              0.4444444444444444,
              "#bd3786"
             ],
             [
              0.5555555555555556,
              "#d8576b"
             ],
             [
              0.6666666666666666,
              "#ed7953"
             ],
             [
              0.7777777777777778,
              "#fb9f3a"
             ],
             [
              0.8888888888888888,
              "#fdca26"
             ],
             [
              1,
              "#f0f921"
             ]
            ],
            "type": "histogram2d"
           }
          ],
          "histogram2dcontour": [
           {
            "colorbar": {
             "outlinewidth": 0,
             "ticks": ""
            },
            "colorscale": [
             [
              0,
              "#0d0887"
             ],
             [
              0.1111111111111111,
              "#46039f"
             ],
             [
              0.2222222222222222,
              "#7201a8"
             ],
             [
              0.3333333333333333,
              "#9c179e"
             ],
             [
              0.4444444444444444,
              "#bd3786"
             ],
             [
              0.5555555555555556,
              "#d8576b"
             ],
             [
              0.6666666666666666,
              "#ed7953"
             ],
             [
              0.7777777777777778,
              "#fb9f3a"
             ],
             [
              0.8888888888888888,
              "#fdca26"
             ],
             [
              1,
              "#f0f921"
             ]
            ],
            "type": "histogram2dcontour"
           }
          ],
          "mesh3d": [
           {
            "colorbar": {
             "outlinewidth": 0,
             "ticks": ""
            },
            "type": "mesh3d"
           }
          ],
          "parcoords": [
           {
            "line": {
             "colorbar": {
              "outlinewidth": 0,
              "ticks": ""
             }
            },
            "type": "parcoords"
           }
          ],
          "pie": [
           {
            "automargin": true,
            "type": "pie"
           }
          ],
          "scatter": [
           {
            "marker": {
             "colorbar": {
              "outlinewidth": 0,
              "ticks": ""
             }
            },
            "type": "scatter"
           }
          ],
          "scatter3d": [
           {
            "line": {
             "colorbar": {
              "outlinewidth": 0,
              "ticks": ""
             }
            },
            "marker": {
             "colorbar": {
              "outlinewidth": 0,
              "ticks": ""
             }
            },
            "type": "scatter3d"
           }
          ],
          "scattercarpet": [
           {
            "marker": {
             "colorbar": {
              "outlinewidth": 0,
              "ticks": ""
             }
            },
            "type": "scattercarpet"
           }
          ],
          "scattergeo": [
           {
            "marker": {
             "colorbar": {
              "outlinewidth": 0,
              "ticks": ""
             }
            },
            "type": "scattergeo"
           }
          ],
          "scattergl": [
           {
            "marker": {
             "colorbar": {
              "outlinewidth": 0,
              "ticks": ""
             }
            },
            "type": "scattergl"
           }
          ],
          "scattermapbox": [
           {
            "marker": {
             "colorbar": {
              "outlinewidth": 0,
              "ticks": ""
             }
            },
            "type": "scattermapbox"
           }
          ],
          "scatterpolar": [
           {
            "marker": {
             "colorbar": {
              "outlinewidth": 0,
              "ticks": ""
             }
            },
            "type": "scatterpolar"
           }
          ],
          "scatterpolargl": [
           {
            "marker": {
             "colorbar": {
              "outlinewidth": 0,
              "ticks": ""
             }
            },
            "type": "scatterpolargl"
           }
          ],
          "scatterternary": [
           {
            "marker": {
             "colorbar": {
              "outlinewidth": 0,
              "ticks": ""
             }
            },
            "type": "scatterternary"
           }
          ],
          "surface": [
           {
            "colorbar": {
             "outlinewidth": 0,
             "ticks": ""
            },
            "colorscale": [
             [
              0,
              "#0d0887"
             ],
             [
              0.1111111111111111,
              "#46039f"
             ],
             [
              0.2222222222222222,
              "#7201a8"
             ],
             [
              0.3333333333333333,
              "#9c179e"
             ],
             [
              0.4444444444444444,
              "#bd3786"
             ],
             [
              0.5555555555555556,
              "#d8576b"
             ],
             [
              0.6666666666666666,
              "#ed7953"
             ],
             [
              0.7777777777777778,
              "#fb9f3a"
             ],
             [
              0.8888888888888888,
              "#fdca26"
             ],
             [
              1,
              "#f0f921"
             ]
            ],
            "type": "surface"
           }
          ],
          "table": [
           {
            "cells": {
             "fill": {
              "color": "#EBF0F8"
             },
             "line": {
              "color": "white"
             }
            },
            "header": {
             "fill": {
              "color": "#C8D4E3"
             },
             "line": {
              "color": "white"
             }
            },
            "type": "table"
           }
          ]
         },
         "layout": {
          "annotationdefaults": {
           "arrowcolor": "#2a3f5f",
           "arrowhead": 0,
           "arrowwidth": 1
          },
          "autotypenumbers": "strict",
          "coloraxis": {
           "colorbar": {
            "outlinewidth": 0,
            "ticks": ""
           }
          },
          "colorscale": {
           "diverging": [
            [
             0,
             "#8e0152"
            ],
            [
             0.1,
             "#c51b7d"
            ],
            [
             0.2,
             "#de77ae"
            ],
            [
             0.3,
             "#f1b6da"
            ],
            [
             0.4,
             "#fde0ef"
            ],
            [
             0.5,
             "#f7f7f7"
            ],
            [
             0.6,
             "#e6f5d0"
            ],
            [
             0.7,
             "#b8e186"
            ],
            [
             0.8,
             "#7fbc41"
            ],
            [
             0.9,
             "#4d9221"
            ],
            [
             1,
             "#276419"
            ]
           ],
           "sequential": [
            [
             0,
             "#0d0887"
            ],
            [
             0.1111111111111111,
             "#46039f"
            ],
            [
             0.2222222222222222,
             "#7201a8"
            ],
            [
             0.3333333333333333,
             "#9c179e"
            ],
            [
             0.4444444444444444,
             "#bd3786"
            ],
            [
             0.5555555555555556,
             "#d8576b"
            ],
            [
             0.6666666666666666,
             "#ed7953"
            ],
            [
             0.7777777777777778,
             "#fb9f3a"
            ],
            [
             0.8888888888888888,
             "#fdca26"
            ],
            [
             1,
             "#f0f921"
            ]
           ],
           "sequentialminus": [
            [
             0,
             "#0d0887"
            ],
            [
             0.1111111111111111,
             "#46039f"
            ],
            [
             0.2222222222222222,
             "#7201a8"
            ],
            [
             0.3333333333333333,
             "#9c179e"
            ],
            [
             0.4444444444444444,
             "#bd3786"
            ],
            [
             0.5555555555555556,
             "#d8576b"
            ],
            [
             0.6666666666666666,
             "#ed7953"
            ],
            [
             0.7777777777777778,
             "#fb9f3a"
            ],
            [
             0.8888888888888888,
             "#fdca26"
            ],
            [
             1,
             "#f0f921"
            ]
           ]
          },
          "colorway": [
           "#636efa",
           "#EF553B",
           "#00cc96",
           "#ab63fa",
           "#FFA15A",
           "#19d3f3",
           "#FF6692",
           "#B6E880",
           "#FF97FF",
           "#FECB52"
          ],
          "font": {
           "color": "#2a3f5f"
          },
          "geo": {
           "bgcolor": "white",
           "lakecolor": "white",
           "landcolor": "#E5ECF6",
           "showlakes": true,
           "showland": true,
           "subunitcolor": "white"
          },
          "hoverlabel": {
           "align": "left"
          },
          "hovermode": "closest",
          "mapbox": {
           "style": "light"
          },
          "paper_bgcolor": "white",
          "plot_bgcolor": "#E5ECF6",
          "polar": {
           "angularaxis": {
            "gridcolor": "white",
            "linecolor": "white",
            "ticks": ""
           },
           "bgcolor": "#E5ECF6",
           "radialaxis": {
            "gridcolor": "white",
            "linecolor": "white",
            "ticks": ""
           }
          },
          "scene": {
           "xaxis": {
            "backgroundcolor": "#E5ECF6",
            "gridcolor": "white",
            "gridwidth": 2,
            "linecolor": "white",
            "showbackground": true,
            "ticks": "",
            "zerolinecolor": "white"
           },
           "yaxis": {
            "backgroundcolor": "#E5ECF6",
            "gridcolor": "white",
            "gridwidth": 2,
            "linecolor": "white",
            "showbackground": true,
            "ticks": "",
            "zerolinecolor": "white"
           },
           "zaxis": {
            "backgroundcolor": "#E5ECF6",
            "gridcolor": "white",
            "gridwidth": 2,
            "linecolor": "white",
            "showbackground": true,
            "ticks": "",
            "zerolinecolor": "white"
           }
          },
          "shapedefaults": {
           "line": {
            "color": "#2a3f5f"
           }
          },
          "ternary": {
           "aaxis": {
            "gridcolor": "white",
            "linecolor": "white",
            "ticks": ""
           },
           "baxis": {
            "gridcolor": "white",
            "linecolor": "white",
            "ticks": ""
           },
           "bgcolor": "#E5ECF6",
           "caxis": {
            "gridcolor": "white",
            "linecolor": "white",
            "ticks": ""
           }
          },
          "title": {
           "x": 0.05
          },
          "xaxis": {
           "automargin": true,
           "gridcolor": "white",
           "linecolor": "white",
           "ticks": "",
           "title": {
            "standoff": 15
           },
           "zerolinecolor": "white",
           "zerolinewidth": 2
          },
          "yaxis": {
           "automargin": true,
           "gridcolor": "white",
           "linecolor": "white",
           "ticks": "",
           "title": {
            "standoff": 15
           },
           "zerolinecolor": "white",
           "zerolinewidth": 2
          }
         }
        },
        "title": {
         "text": "Plot Title"
        },
        "xaxis": {
         "title": {
          "text": "x Axis Title"
         }
        },
        "yaxis": {
         "title": {
          "text": "y Axis Title"
         }
        }
       }
      },
      "text/html": [
       "<div>                            <div id=\"84ecc800-40ce-4a53-8a66-607385b33c5c\" class=\"plotly-graph-div\" style=\"height:525px; width:100%;\"></div>            <script type=\"text/javascript\">                require([\"plotly\"], function(Plotly) {                    window.PLOTLYENV=window.PLOTLYENV || {};                                    if (document.getElementById(\"84ecc800-40ce-4a53-8a66-607385b33c5c\")) {                    Plotly.newPlot(                        \"84ecc800-40ce-4a53-8a66-607385b33c5c\",                        [{\"mode\":\"lines+markers\",\"name\":\"f(x)=x<sup>2</sup>\",\"x\":[0.0,0.1,0.2,0.30000000000000004,0.4,0.5,0.6000000000000001,0.7000000000000001,0.8,0.9,1.0,1.1,1.2000000000000002,1.3,1.4000000000000001,1.5,1.6,1.7000000000000002,1.8,1.9000000000000001,2.0,2.1,2.2,2.3000000000000003,2.4000000000000004,2.5,2.6,2.7,2.8000000000000003,2.9000000000000004,3.0,3.1,3.2,3.3000000000000003,3.4000000000000004,3.5,3.6,3.7,3.8000000000000003,3.9000000000000004,4.0,4.1000000000000005,4.2,4.3,4.4,4.5,4.6000000000000005,4.7,4.800000000000001,4.9],\"y\":[0.0,0.010000000000000002,0.04000000000000001,0.09000000000000002,0.16000000000000003,0.25,0.3600000000000001,0.4900000000000001,0.6400000000000001,0.81,1.0,1.2100000000000002,1.4400000000000004,1.6900000000000002,1.9600000000000004,2.25,2.5600000000000005,2.8900000000000006,3.24,3.6100000000000003,4.0,4.41,4.840000000000001,5.290000000000001,5.760000000000002,6.25,6.760000000000001,7.290000000000001,7.840000000000002,8.410000000000002,9.0,9.610000000000001,10.240000000000002,10.890000000000002,11.560000000000002,12.25,12.96,13.690000000000001,14.440000000000001,15.210000000000003,16.0,16.810000000000006,17.64,18.49,19.360000000000003,20.25,21.160000000000004,22.090000000000003,23.040000000000006,24.010000000000005],\"type\":\"scatter\"},{\"mode\":\"markers\",\"name\":\"g(x)=x\",\"x\":[0.0,0.1,0.2,0.30000000000000004,0.4,0.5,0.6000000000000001,0.7000000000000001,0.8,0.9,1.0,1.1,1.2000000000000002,1.3,1.4000000000000001,1.5,1.6,1.7000000000000002,1.8,1.9000000000000001,2.0,2.1,2.2,2.3000000000000003,2.4000000000000004,2.5,2.6,2.7,2.8000000000000003,2.9000000000000004,3.0,3.1,3.2,3.3000000000000003,3.4000000000000004,3.5,3.6,3.7,3.8000000000000003,3.9000000000000004,4.0,4.1000000000000005,4.2,4.3,4.4,4.5,4.6000000000000005,4.7,4.800000000000001,4.9],\"y\":[0.0,0.1,0.2,0.30000000000000004,0.4,0.5,0.6000000000000001,0.7000000000000001,0.8,0.9,1.0,1.1,1.2000000000000002,1.3,1.4000000000000001,1.5,1.6,1.7000000000000002,1.8,1.9000000000000001,2.0,2.1,2.2,2.3000000000000003,2.4000000000000004,2.5,2.6,2.7,2.8000000000000003,2.9000000000000004,3.0,3.1,3.2,3.3000000000000003,3.4000000000000004,3.5,3.6,3.7,3.8000000000000003,3.9000000000000004,4.0,4.1000000000000005,4.2,4.3,4.4,4.5,4.6000000000000005,4.7,4.800000000000001,4.9],\"type\":\"scatter\"}],                        {\"template\":{\"data\":{\"bar\":[{\"error_x\":{\"color\":\"#2a3f5f\"},\"error_y\":{\"color\":\"#2a3f5f\"},\"marker\":{\"line\":{\"color\":\"#E5ECF6\",\"width\":0.5},\"pattern\":{\"fillmode\":\"overlay\",\"size\":10,\"solidity\":0.2}},\"type\":\"bar\"}],\"barpolar\":[{\"marker\":{\"line\":{\"color\":\"#E5ECF6\",\"width\":0.5},\"pattern\":{\"fillmode\":\"overlay\",\"size\":10,\"solidity\":0.2}},\"type\":\"barpolar\"}],\"carpet\":[{\"aaxis\":{\"endlinecolor\":\"#2a3f5f\",\"gridcolor\":\"white\",\"linecolor\":\"white\",\"minorgridcolor\":\"white\",\"startlinecolor\":\"#2a3f5f\"},\"baxis\":{\"endlinecolor\":\"#2a3f5f\",\"gridcolor\":\"white\",\"linecolor\":\"white\",\"minorgridcolor\":\"white\",\"startlinecolor\":\"#2a3f5f\"},\"type\":\"carpet\"}],\"choropleth\":[{\"colorbar\":{\"outlinewidth\":0,\"ticks\":\"\"},\"type\":\"choropleth\"}],\"contour\":[{\"colorbar\":{\"outlinewidth\":0,\"ticks\":\"\"},\"colorscale\":[[0.0,\"#0d0887\"],[0.1111111111111111,\"#46039f\"],[0.2222222222222222,\"#7201a8\"],[0.3333333333333333,\"#9c179e\"],[0.4444444444444444,\"#bd3786\"],[0.5555555555555556,\"#d8576b\"],[0.6666666666666666,\"#ed7953\"],[0.7777777777777778,\"#fb9f3a\"],[0.8888888888888888,\"#fdca26\"],[1.0,\"#f0f921\"]],\"type\":\"contour\"}],\"contourcarpet\":[{\"colorbar\":{\"outlinewidth\":0,\"ticks\":\"\"},\"type\":\"contourcarpet\"}],\"heatmap\":[{\"colorbar\":{\"outlinewidth\":0,\"ticks\":\"\"},\"colorscale\":[[0.0,\"#0d0887\"],[0.1111111111111111,\"#46039f\"],[0.2222222222222222,\"#7201a8\"],[0.3333333333333333,\"#9c179e\"],[0.4444444444444444,\"#bd3786\"],[0.5555555555555556,\"#d8576b\"],[0.6666666666666666,\"#ed7953\"],[0.7777777777777778,\"#fb9f3a\"],[0.8888888888888888,\"#fdca26\"],[1.0,\"#f0f921\"]],\"type\":\"heatmap\"}],\"heatmapgl\":[{\"colorbar\":{\"outlinewidth\":0,\"ticks\":\"\"},\"colorscale\":[[0.0,\"#0d0887\"],[0.1111111111111111,\"#46039f\"],[0.2222222222222222,\"#7201a8\"],[0.3333333333333333,\"#9c179e\"],[0.4444444444444444,\"#bd3786\"],[0.5555555555555556,\"#d8576b\"],[0.6666666666666666,\"#ed7953\"],[0.7777777777777778,\"#fb9f3a\"],[0.8888888888888888,\"#fdca26\"],[1.0,\"#f0f921\"]],\"type\":\"heatmapgl\"}],\"histogram\":[{\"marker\":{\"pattern\":{\"fillmode\":\"overlay\",\"size\":10,\"solidity\":0.2}},\"type\":\"histogram\"}],\"histogram2d\":[{\"colorbar\":{\"outlinewidth\":0,\"ticks\":\"\"},\"colorscale\":[[0.0,\"#0d0887\"],[0.1111111111111111,\"#46039f\"],[0.2222222222222222,\"#7201a8\"],[0.3333333333333333,\"#9c179e\"],[0.4444444444444444,\"#bd3786\"],[0.5555555555555556,\"#d8576b\"],[0.6666666666666666,\"#ed7953\"],[0.7777777777777778,\"#fb9f3a\"],[0.8888888888888888,\"#fdca26\"],[1.0,\"#f0f921\"]],\"type\":\"histogram2d\"}],\"histogram2dcontour\":[{\"colorbar\":{\"outlinewidth\":0,\"ticks\":\"\"},\"colorscale\":[[0.0,\"#0d0887\"],[0.1111111111111111,\"#46039f\"],[0.2222222222222222,\"#7201a8\"],[0.3333333333333333,\"#9c179e\"],[0.4444444444444444,\"#bd3786\"],[0.5555555555555556,\"#d8576b\"],[0.6666666666666666,\"#ed7953\"],[0.7777777777777778,\"#fb9f3a\"],[0.8888888888888888,\"#fdca26\"],[1.0,\"#f0f921\"]],\"type\":\"histogram2dcontour\"}],\"mesh3d\":[{\"colorbar\":{\"outlinewidth\":0,\"ticks\":\"\"},\"type\":\"mesh3d\"}],\"parcoords\":[{\"line\":{\"colorbar\":{\"outlinewidth\":0,\"ticks\":\"\"}},\"type\":\"parcoords\"}],\"pie\":[{\"automargin\":true,\"type\":\"pie\"}],\"scatter\":[{\"marker\":{\"colorbar\":{\"outlinewidth\":0,\"ticks\":\"\"}},\"type\":\"scatter\"}],\"scatter3d\":[{\"line\":{\"colorbar\":{\"outlinewidth\":0,\"ticks\":\"\"}},\"marker\":{\"colorbar\":{\"outlinewidth\":0,\"ticks\":\"\"}},\"type\":\"scatter3d\"}],\"scattercarpet\":[{\"marker\":{\"colorbar\":{\"outlinewidth\":0,\"ticks\":\"\"}},\"type\":\"scattercarpet\"}],\"scattergeo\":[{\"marker\":{\"colorbar\":{\"outlinewidth\":0,\"ticks\":\"\"}},\"type\":\"scattergeo\"}],\"scattergl\":[{\"marker\":{\"colorbar\":{\"outlinewidth\":0,\"ticks\":\"\"}},\"type\":\"scattergl\"}],\"scattermapbox\":[{\"marker\":{\"colorbar\":{\"outlinewidth\":0,\"ticks\":\"\"}},\"type\":\"scattermapbox\"}],\"scatterpolar\":[{\"marker\":{\"colorbar\":{\"outlinewidth\":0,\"ticks\":\"\"}},\"type\":\"scatterpolar\"}],\"scatterpolargl\":[{\"marker\":{\"colorbar\":{\"outlinewidth\":0,\"ticks\":\"\"}},\"type\":\"scatterpolargl\"}],\"scatterternary\":[{\"marker\":{\"colorbar\":{\"outlinewidth\":0,\"ticks\":\"\"}},\"type\":\"scatterternary\"}],\"surface\":[{\"colorbar\":{\"outlinewidth\":0,\"ticks\":\"\"},\"colorscale\":[[0.0,\"#0d0887\"],[0.1111111111111111,\"#46039f\"],[0.2222222222222222,\"#7201a8\"],[0.3333333333333333,\"#9c179e\"],[0.4444444444444444,\"#bd3786\"],[0.5555555555555556,\"#d8576b\"],[0.6666666666666666,\"#ed7953\"],[0.7777777777777778,\"#fb9f3a\"],[0.8888888888888888,\"#fdca26\"],[1.0,\"#f0f921\"]],\"type\":\"surface\"}],\"table\":[{\"cells\":{\"fill\":{\"color\":\"#EBF0F8\"},\"line\":{\"color\":\"white\"}},\"header\":{\"fill\":{\"color\":\"#C8D4E3\"},\"line\":{\"color\":\"white\"}},\"type\":\"table\"}]},\"layout\":{\"annotationdefaults\":{\"arrowcolor\":\"#2a3f5f\",\"arrowhead\":0,\"arrowwidth\":1},\"autotypenumbers\":\"strict\",\"coloraxis\":{\"colorbar\":{\"outlinewidth\":0,\"ticks\":\"\"}},\"colorscale\":{\"diverging\":[[0,\"#8e0152\"],[0.1,\"#c51b7d\"],[0.2,\"#de77ae\"],[0.3,\"#f1b6da\"],[0.4,\"#fde0ef\"],[0.5,\"#f7f7f7\"],[0.6,\"#e6f5d0\"],[0.7,\"#b8e186\"],[0.8,\"#7fbc41\"],[0.9,\"#4d9221\"],[1,\"#276419\"]],\"sequential\":[[0.0,\"#0d0887\"],[0.1111111111111111,\"#46039f\"],[0.2222222222222222,\"#7201a8\"],[0.3333333333333333,\"#9c179e\"],[0.4444444444444444,\"#bd3786\"],[0.5555555555555556,\"#d8576b\"],[0.6666666666666666,\"#ed7953\"],[0.7777777777777778,\"#fb9f3a\"],[0.8888888888888888,\"#fdca26\"],[1.0,\"#f0f921\"]],\"sequentialminus\":[[0.0,\"#0d0887\"],[0.1111111111111111,\"#46039f\"],[0.2222222222222222,\"#7201a8\"],[0.3333333333333333,\"#9c179e\"],[0.4444444444444444,\"#bd3786\"],[0.5555555555555556,\"#d8576b\"],[0.6666666666666666,\"#ed7953\"],[0.7777777777777778,\"#fb9f3a\"],[0.8888888888888888,\"#fdca26\"],[1.0,\"#f0f921\"]]},\"colorway\":[\"#636efa\",\"#EF553B\",\"#00cc96\",\"#ab63fa\",\"#FFA15A\",\"#19d3f3\",\"#FF6692\",\"#B6E880\",\"#FF97FF\",\"#FECB52\"],\"font\":{\"color\":\"#2a3f5f\"},\"geo\":{\"bgcolor\":\"white\",\"lakecolor\":\"white\",\"landcolor\":\"#E5ECF6\",\"showlakes\":true,\"showland\":true,\"subunitcolor\":\"white\"},\"hoverlabel\":{\"align\":\"left\"},\"hovermode\":\"closest\",\"mapbox\":{\"style\":\"light\"},\"paper_bgcolor\":\"white\",\"plot_bgcolor\":\"#E5ECF6\",\"polar\":{\"angularaxis\":{\"gridcolor\":\"white\",\"linecolor\":\"white\",\"ticks\":\"\"},\"bgcolor\":\"#E5ECF6\",\"radialaxis\":{\"gridcolor\":\"white\",\"linecolor\":\"white\",\"ticks\":\"\"}},\"scene\":{\"xaxis\":{\"backgroundcolor\":\"#E5ECF6\",\"gridcolor\":\"white\",\"gridwidth\":2,\"linecolor\":\"white\",\"showbackground\":true,\"ticks\":\"\",\"zerolinecolor\":\"white\"},\"yaxis\":{\"backgroundcolor\":\"#E5ECF6\",\"gridcolor\":\"white\",\"gridwidth\":2,\"linecolor\":\"white\",\"showbackground\":true,\"ticks\":\"\",\"zerolinecolor\":\"white\"},\"zaxis\":{\"backgroundcolor\":\"#E5ECF6\",\"gridcolor\":\"white\",\"gridwidth\":2,\"linecolor\":\"white\",\"showbackground\":true,\"ticks\":\"\",\"zerolinecolor\":\"white\"}},\"shapedefaults\":{\"line\":{\"color\":\"#2a3f5f\"}},\"ternary\":{\"aaxis\":{\"gridcolor\":\"white\",\"linecolor\":\"white\",\"ticks\":\"\"},\"baxis\":{\"gridcolor\":\"white\",\"linecolor\":\"white\",\"ticks\":\"\"},\"bgcolor\":\"#E5ECF6\",\"caxis\":{\"gridcolor\":\"white\",\"linecolor\":\"white\",\"ticks\":\"\"}},\"title\":{\"x\":0.05},\"xaxis\":{\"automargin\":true,\"gridcolor\":\"white\",\"linecolor\":\"white\",\"ticks\":\"\",\"title\":{\"standoff\":15},\"zerolinecolor\":\"white\",\"zerolinewidth\":2},\"yaxis\":{\"automargin\":true,\"gridcolor\":\"white\",\"linecolor\":\"white\",\"ticks\":\"\",\"title\":{\"standoff\":15},\"zerolinecolor\":\"white\",\"zerolinewidth\":2}}},\"legend\":{\"orientation\":\"h\",\"x\":0.5,\"xanchor\":\"center\"},\"margin\":{\"l\":25,\"r\":25,\"t\":30,\"b\":15},\"title\":{\"text\":\"Plot Title\"},\"xaxis\":{\"title\":{\"text\":\"x Axis Title\"}},\"yaxis\":{\"title\":{\"text\":\"y Axis Title\"}}},                        {\"responsive\": true}                    ).then(function(){\n",
       "                            \n",
       "var gd = document.getElementById('84ecc800-40ce-4a53-8a66-607385b33c5c');\n",
       "var x = new MutationObserver(function (mutations, observer) {{\n",
       "        var display = window.getComputedStyle(gd).display;\n",
       "        if (!display || display === 'none') {{\n",
       "            console.log([gd, 'removed!']);\n",
       "            Plotly.purge(gd);\n",
       "            observer.disconnect();\n",
       "        }}\n",
       "}});\n",
       "\n",
       "// Listen for the removal of the full notebook cells\n",
       "var notebookContainer = gd.closest('#notebook-container');\n",
       "if (notebookContainer) {{\n",
       "    x.observe(notebookContainer, {childList: true});\n",
       "}}\n",
       "\n",
       "// Listen for the clearing of the current output cell\n",
       "var outputEl = gd.closest('.output');\n",
       "if (outputEl) {{\n",
       "    x.observe(outputEl, {childList: true});\n",
       "}}\n",
       "\n",
       "                        })                };                });            </script>        </div>"
      ]
     },
     "metadata": {},
     "output_type": "display_data"
    }
   ],
   "source": [
    "x=np.arange(0,5,0.1)\n",
    "fig = go.Figure()\n",
    "fig.add_trace(go.Scatter(x=x, y=x*x,mode='lines+markers', name='f(x)=x<sup>2</sup>'))\n",
    "fig.add_trace(go.Scatter(x=x, y=x,mode='markers', name='g(x)=x'))\n",
    "fig.update_layout(legend_orientation=\"h\",\n",
    "                    legend=dict(x=.5, xanchor=\"center\"))\n",
    "fig.update_layout(margin=dict(l=25, r=25, t=30, b=15))\n",
    "fig.update_layout(title=\"Plot Title\",\n",
    "                  xaxis_title=\"x Axis Title\",\n",
    "                  yaxis_title=\"y Axis Title\",)\n",
    "fig.show()"
   ]
  },
  {
   "cell_type": "code",
   "execution_count": 7,
   "metadata": {},
   "outputs": [
    {
     "data": {
      "application/vnd.plotly.v1+json": {
       "config": {
        "plotlyServerURL": "https://plot.ly"
       },
       "data": [
        {
         "hoverinfo": "all",
         "hovertemplate": "Аргумент: %{x}<br>Функция: %{y}",
         "mode": "lines+markers",
         "name": "f(x)=x<sup>2</sup>",
         "type": "scatter",
         "x": [
          0,
          0.1,
          0.2,
          0.30000000000000004,
          0.4,
          0.5,
          0.6000000000000001,
          0.7000000000000001,
          0.8,
          0.9,
          1,
          1.1,
          1.2000000000000002,
          1.3,
          1.4000000000000001,
          1.5,
          1.6,
          1.7000000000000002,
          1.8,
          1.9000000000000001,
          2,
          2.1,
          2.2,
          2.3000000000000003,
          2.4000000000000004,
          2.5,
          2.6,
          2.7,
          2.8000000000000003,
          2.9000000000000004,
          3,
          3.1,
          3.2,
          3.3000000000000003,
          3.4000000000000004,
          3.5,
          3.6,
          3.7,
          3.8000000000000003,
          3.9000000000000004,
          4,
          4.1000000000000005,
          4.2,
          4.3,
          4.4,
          4.5,
          4.6000000000000005,
          4.7,
          4.800000000000001,
          4.9
         ],
         "y": [
          0,
          0.010000000000000002,
          0.04000000000000001,
          0.09000000000000002,
          0.16000000000000003,
          0.25,
          0.3600000000000001,
          0.4900000000000001,
          0.6400000000000001,
          0.81,
          1,
          1.2100000000000002,
          1.4400000000000004,
          1.6900000000000002,
          1.9600000000000004,
          2.25,
          2.5600000000000005,
          2.8900000000000006,
          3.24,
          3.6100000000000003,
          4,
          4.41,
          4.840000000000001,
          5.290000000000001,
          5.760000000000002,
          6.25,
          6.760000000000001,
          7.290000000000001,
          7.840000000000002,
          8.410000000000002,
          9,
          9.610000000000001,
          10.240000000000002,
          10.890000000000002,
          11.560000000000002,
          12.25,
          12.96,
          13.690000000000001,
          14.440000000000001,
          15.210000000000003,
          16,
          16.810000000000006,
          17.64,
          18.49,
          19.360000000000003,
          20.25,
          21.160000000000004,
          22.090000000000003,
          23.040000000000006,
          24.010000000000005
         ]
        },
        {
         "hoverinfo": "all",
         "hovertemplate": "Аргумент: %{x}<br>Функция: %{y}",
         "mode": "markers",
         "name": "g(x)=x",
         "type": "scatter",
         "x": [
          0,
          0.1,
          0.2,
          0.30000000000000004,
          0.4,
          0.5,
          0.6000000000000001,
          0.7000000000000001,
          0.8,
          0.9,
          1,
          1.1,
          1.2000000000000002,
          1.3,
          1.4000000000000001,
          1.5,
          1.6,
          1.7000000000000002,
          1.8,
          1.9000000000000001,
          2,
          2.1,
          2.2,
          2.3000000000000003,
          2.4000000000000004,
          2.5,
          2.6,
          2.7,
          2.8000000000000003,
          2.9000000000000004,
          3,
          3.1,
          3.2,
          3.3000000000000003,
          3.4000000000000004,
          3.5,
          3.6,
          3.7,
          3.8000000000000003,
          3.9000000000000004,
          4,
          4.1000000000000005,
          4.2,
          4.3,
          4.4,
          4.5,
          4.6000000000000005,
          4.7,
          4.800000000000001,
          4.9
         ],
         "y": [
          0,
          0.1,
          0.2,
          0.30000000000000004,
          0.4,
          0.5,
          0.6000000000000001,
          0.7000000000000001,
          0.8,
          0.9,
          1,
          1.1,
          1.2000000000000002,
          1.3,
          1.4000000000000001,
          1.5,
          1.6,
          1.7000000000000002,
          1.8,
          1.9000000000000001,
          2,
          2.1,
          2.2,
          2.3000000000000003,
          2.4000000000000004,
          2.5,
          2.6,
          2.7,
          2.8000000000000003,
          2.9000000000000004,
          3,
          3.1,
          3.2,
          3.3000000000000003,
          3.4000000000000004,
          3.5,
          3.6,
          3.7,
          3.8000000000000003,
          3.9000000000000004,
          4,
          4.1000000000000005,
          4.2,
          4.3,
          4.4,
          4.5,
          4.6000000000000005,
          4.7,
          4.800000000000001,
          4.9
         ]
        }
       ],
       "layout": {
        "legend": {
         "orientation": "h",
         "x": 0.5,
         "xanchor": "center"
        },
        "margin": {
         "b": 0,
         "l": 0,
         "r": 0,
         "t": 0
        },
        "template": {
         "data": {
          "bar": [
           {
            "error_x": {
             "color": "#2a3f5f"
            },
            "error_y": {
             "color": "#2a3f5f"
            },
            "marker": {
             "line": {
              "color": "#E5ECF6",
              "width": 0.5
             },
             "pattern": {
              "fillmode": "overlay",
              "size": 10,
              "solidity": 0.2
             }
            },
            "type": "bar"
           }
          ],
          "barpolar": [
           {
            "marker": {
             "line": {
              "color": "#E5ECF6",
              "width": 0.5
             },
             "pattern": {
              "fillmode": "overlay",
              "size": 10,
              "solidity": 0.2
             }
            },
            "type": "barpolar"
           }
          ],
          "carpet": [
           {
            "aaxis": {
             "endlinecolor": "#2a3f5f",
             "gridcolor": "white",
             "linecolor": "white",
             "minorgridcolor": "white",
             "startlinecolor": "#2a3f5f"
            },
            "baxis": {
             "endlinecolor": "#2a3f5f",
             "gridcolor": "white",
             "linecolor": "white",
             "minorgridcolor": "white",
             "startlinecolor": "#2a3f5f"
            },
            "type": "carpet"
           }
          ],
          "choropleth": [
           {
            "colorbar": {
             "outlinewidth": 0,
             "ticks": ""
            },
            "type": "choropleth"
           }
          ],
          "contour": [
           {
            "colorbar": {
             "outlinewidth": 0,
             "ticks": ""
            },
            "colorscale": [
             [
              0,
              "#0d0887"
             ],
             [
              0.1111111111111111,
              "#46039f"
             ],
             [
              0.2222222222222222,
              "#7201a8"
             ],
             [
              0.3333333333333333,
              "#9c179e"
             ],
             [
              0.4444444444444444,
              "#bd3786"
             ],
             [
              0.5555555555555556,
              "#d8576b"
             ],
             [
              0.6666666666666666,
              "#ed7953"
             ],
             [
              0.7777777777777778,
              "#fb9f3a"
             ],
             [
              0.8888888888888888,
              "#fdca26"
             ],
             [
              1,
              "#f0f921"
             ]
            ],
            "type": "contour"
           }
          ],
          "contourcarpet": [
           {
            "colorbar": {
             "outlinewidth": 0,
             "ticks": ""
            },
            "type": "contourcarpet"
           }
          ],
          "heatmap": [
           {
            "colorbar": {
             "outlinewidth": 0,
             "ticks": ""
            },
            "colorscale": [
             [
              0,
              "#0d0887"
             ],
             [
              0.1111111111111111,
              "#46039f"
             ],
             [
              0.2222222222222222,
              "#7201a8"
             ],
             [
              0.3333333333333333,
              "#9c179e"
             ],
             [
              0.4444444444444444,
              "#bd3786"
             ],
             [
              0.5555555555555556,
              "#d8576b"
             ],
             [
              0.6666666666666666,
              "#ed7953"
             ],
             [
              0.7777777777777778,
              "#fb9f3a"
             ],
             [
              0.8888888888888888,
              "#fdca26"
             ],
             [
              1,
              "#f0f921"
             ]
            ],
            "type": "heatmap"
           }
          ],
          "heatmapgl": [
           {
            "colorbar": {
             "outlinewidth": 0,
             "ticks": ""
            },
            "colorscale": [
             [
              0,
              "#0d0887"
             ],
             [
              0.1111111111111111,
              "#46039f"
             ],
             [
              0.2222222222222222,
              "#7201a8"
             ],
             [
              0.3333333333333333,
              "#9c179e"
             ],
             [
              0.4444444444444444,
              "#bd3786"
             ],
             [
              0.5555555555555556,
              "#d8576b"
             ],
             [
              0.6666666666666666,
              "#ed7953"
             ],
             [
              0.7777777777777778,
              "#fb9f3a"
             ],
             [
              0.8888888888888888,
              "#fdca26"
             ],
             [
              1,
              "#f0f921"
             ]
            ],
            "type": "heatmapgl"
           }
          ],
          "histogram": [
           {
            "marker": {
             "pattern": {
              "fillmode": "overlay",
              "size": 10,
              "solidity": 0.2
             }
            },
            "type": "histogram"
           }
          ],
          "histogram2d": [
           {
            "colorbar": {
             "outlinewidth": 0,
             "ticks": ""
            },
            "colorscale": [
             [
              0,
              "#0d0887"
             ],
             [
              0.1111111111111111,
              "#46039f"
             ],
             [
              0.2222222222222222,
              "#7201a8"
             ],
             [
              0.3333333333333333,
              "#9c179e"
             ],
             [
              0.4444444444444444,
              "#bd3786"
             ],
             [
              0.5555555555555556,
              "#d8576b"
             ],
             [
              0.6666666666666666,
              "#ed7953"
             ],
             [
              0.7777777777777778,
              "#fb9f3a"
             ],
             [
              0.8888888888888888,
              "#fdca26"
             ],
             [
              1,
              "#f0f921"
             ]
            ],
            "type": "histogram2d"
           }
          ],
          "histogram2dcontour": [
           {
            "colorbar": {
             "outlinewidth": 0,
             "ticks": ""
            },
            "colorscale": [
             [
              0,
              "#0d0887"
             ],
             [
              0.1111111111111111,
              "#46039f"
             ],
             [
              0.2222222222222222,
              "#7201a8"
             ],
             [
              0.3333333333333333,
              "#9c179e"
             ],
             [
              0.4444444444444444,
              "#bd3786"
             ],
             [
              0.5555555555555556,
              "#d8576b"
             ],
             [
              0.6666666666666666,
              "#ed7953"
             ],
             [
              0.7777777777777778,
              "#fb9f3a"
             ],
             [
              0.8888888888888888,
              "#fdca26"
             ],
             [
              1,
              "#f0f921"
             ]
            ],
            "type": "histogram2dcontour"
           }
          ],
          "mesh3d": [
           {
            "colorbar": {
             "outlinewidth": 0,
             "ticks": ""
            },
            "type": "mesh3d"
           }
          ],
          "parcoords": [
           {
            "line": {
             "colorbar": {
              "outlinewidth": 0,
              "ticks": ""
             }
            },
            "type": "parcoords"
           }
          ],
          "pie": [
           {
            "automargin": true,
            "type": "pie"
           }
          ],
          "scatter": [
           {
            "marker": {
             "colorbar": {
              "outlinewidth": 0,
              "ticks": ""
             }
            },
            "type": "scatter"
           }
          ],
          "scatter3d": [
           {
            "line": {
             "colorbar": {
              "outlinewidth": 0,
              "ticks": ""
             }
            },
            "marker": {
             "colorbar": {
              "outlinewidth": 0,
              "ticks": ""
             }
            },
            "type": "scatter3d"
           }
          ],
          "scattercarpet": [
           {
            "marker": {
             "colorbar": {
              "outlinewidth": 0,
              "ticks": ""
             }
            },
            "type": "scattercarpet"
           }
          ],
          "scattergeo": [
           {
            "marker": {
             "colorbar": {
              "outlinewidth": 0,
              "ticks": ""
             }
            },
            "type": "scattergeo"
           }
          ],
          "scattergl": [
           {
            "marker": {
             "colorbar": {
              "outlinewidth": 0,
              "ticks": ""
             }
            },
            "type": "scattergl"
           }
          ],
          "scattermapbox": [
           {
            "marker": {
             "colorbar": {
              "outlinewidth": 0,
              "ticks": ""
             }
            },
            "type": "scattermapbox"
           }
          ],
          "scatterpolar": [
           {
            "marker": {
             "colorbar": {
              "outlinewidth": 0,
              "ticks": ""
             }
            },
            "type": "scatterpolar"
           }
          ],
          "scatterpolargl": [
           {
            "marker": {
             "colorbar": {
              "outlinewidth": 0,
              "ticks": ""
             }
            },
            "type": "scatterpolargl"
           }
          ],
          "scatterternary": [
           {
            "marker": {
             "colorbar": {
              "outlinewidth": 0,
              "ticks": ""
             }
            },
            "type": "scatterternary"
           }
          ],
          "surface": [
           {
            "colorbar": {
             "outlinewidth": 0,
             "ticks": ""
            },
            "colorscale": [
             [
              0,
              "#0d0887"
             ],
             [
              0.1111111111111111,
              "#46039f"
             ],
             [
              0.2222222222222222,
              "#7201a8"
             ],
             [
              0.3333333333333333,
              "#9c179e"
             ],
             [
              0.4444444444444444,
              "#bd3786"
             ],
             [
              0.5555555555555556,
              "#d8576b"
             ],
             [
              0.6666666666666666,
              "#ed7953"
             ],
             [
              0.7777777777777778,
              "#fb9f3a"
             ],
             [
              0.8888888888888888,
              "#fdca26"
             ],
             [
              1,
              "#f0f921"
             ]
            ],
            "type": "surface"
           }
          ],
          "table": [
           {
            "cells": {
             "fill": {
              "color": "#EBF0F8"
             },
             "line": {
              "color": "white"
             }
            },
            "header": {
             "fill": {
              "color": "#C8D4E3"
             },
             "line": {
              "color": "white"
             }
            },
            "type": "table"
           }
          ]
         },
         "layout": {
          "annotationdefaults": {
           "arrowcolor": "#2a3f5f",
           "arrowhead": 0,
           "arrowwidth": 1
          },
          "autotypenumbers": "strict",
          "coloraxis": {
           "colorbar": {
            "outlinewidth": 0,
            "ticks": ""
           }
          },
          "colorscale": {
           "diverging": [
            [
             0,
             "#8e0152"
            ],
            [
             0.1,
             "#c51b7d"
            ],
            [
             0.2,
             "#de77ae"
            ],
            [
             0.3,
             "#f1b6da"
            ],
            [
             0.4,
             "#fde0ef"
            ],
            [
             0.5,
             "#f7f7f7"
            ],
            [
             0.6,
             "#e6f5d0"
            ],
            [
             0.7,
             "#b8e186"
            ],
            [
             0.8,
             "#7fbc41"
            ],
            [
             0.9,
             "#4d9221"
            ],
            [
             1,
             "#276419"
            ]
           ],
           "sequential": [
            [
             0,
             "#0d0887"
            ],
            [
             0.1111111111111111,
             "#46039f"
            ],
            [
             0.2222222222222222,
             "#7201a8"
            ],
            [
             0.3333333333333333,
             "#9c179e"
            ],
            [
             0.4444444444444444,
             "#bd3786"
            ],
            [
             0.5555555555555556,
             "#d8576b"
            ],
            [
             0.6666666666666666,
             "#ed7953"
            ],
            [
             0.7777777777777778,
             "#fb9f3a"
            ],
            [
             0.8888888888888888,
             "#fdca26"
            ],
            [
             1,
             "#f0f921"
            ]
           ],
           "sequentialminus": [
            [
             0,
             "#0d0887"
            ],
            [
             0.1111111111111111,
             "#46039f"
            ],
            [
             0.2222222222222222,
             "#7201a8"
            ],
            [
             0.3333333333333333,
             "#9c179e"
            ],
            [
             0.4444444444444444,
             "#bd3786"
            ],
            [
             0.5555555555555556,
             "#d8576b"
            ],
            [
             0.6666666666666666,
             "#ed7953"
            ],
            [
             0.7777777777777778,
             "#fb9f3a"
            ],
            [
             0.8888888888888888,
             "#fdca26"
            ],
            [
             1,
             "#f0f921"
            ]
           ]
          },
          "colorway": [
           "#636efa",
           "#EF553B",
           "#00cc96",
           "#ab63fa",
           "#FFA15A",
           "#19d3f3",
           "#FF6692",
           "#B6E880",
           "#FF97FF",
           "#FECB52"
          ],
          "font": {
           "color": "#2a3f5f"
          },
          "geo": {
           "bgcolor": "white",
           "lakecolor": "white",
           "landcolor": "#E5ECF6",
           "showlakes": true,
           "showland": true,
           "subunitcolor": "white"
          },
          "hoverlabel": {
           "align": "left"
          },
          "hovermode": "closest",
          "mapbox": {
           "style": "light"
          },
          "paper_bgcolor": "white",
          "plot_bgcolor": "#E5ECF6",
          "polar": {
           "angularaxis": {
            "gridcolor": "white",
            "linecolor": "white",
            "ticks": ""
           },
           "bgcolor": "#E5ECF6",
           "radialaxis": {
            "gridcolor": "white",
            "linecolor": "white",
            "ticks": ""
           }
          },
          "scene": {
           "xaxis": {
            "backgroundcolor": "#E5ECF6",
            "gridcolor": "white",
            "gridwidth": 2,
            "linecolor": "white",
            "showbackground": true,
            "ticks": "",
            "zerolinecolor": "white"
           },
           "yaxis": {
            "backgroundcolor": "#E5ECF6",
            "gridcolor": "white",
            "gridwidth": 2,
            "linecolor": "white",
            "showbackground": true,
            "ticks": "",
            "zerolinecolor": "white"
           },
           "zaxis": {
            "backgroundcolor": "#E5ECF6",
            "gridcolor": "white",
            "gridwidth": 2,
            "linecolor": "white",
            "showbackground": true,
            "ticks": "",
            "zerolinecolor": "white"
           }
          },
          "shapedefaults": {
           "line": {
            "color": "#2a3f5f"
           }
          },
          "ternary": {
           "aaxis": {
            "gridcolor": "white",
            "linecolor": "white",
            "ticks": ""
           },
           "baxis": {
            "gridcolor": "white",
            "linecolor": "white",
            "ticks": ""
           },
           "bgcolor": "#E5ECF6",
           "caxis": {
            "gridcolor": "white",
            "linecolor": "white",
            "ticks": ""
           }
          },
          "title": {
           "x": 0.05
          },
          "xaxis": {
           "automargin": true,
           "gridcolor": "white",
           "linecolor": "white",
           "ticks": "",
           "title": {
            "standoff": 15
           },
           "zerolinecolor": "white",
           "zerolinewidth": 2
          },
          "yaxis": {
           "automargin": true,
           "gridcolor": "white",
           "linecolor": "white",
           "ticks": "",
           "title": {
            "standoff": 15
           },
           "zerolinecolor": "white",
           "zerolinewidth": 2
          }
         }
        },
        "xaxis": {
         "range": [
          -0.5,
          1.5
         ],
         "zeroline": true,
         "zerolinecolor": "#008000",
         "zerolinewidth": 2
        },
        "yaxis": {
         "range": [
          -0.5,
          1.5
         ],
         "zeroline": true,
         "zerolinecolor": "LightPink",
         "zerolinewidth": 2
        }
       }
      },
      "text/html": [
       "<div>                            <div id=\"280e21f3-483b-4c2d-9e36-95e7655b91b3\" class=\"plotly-graph-div\" style=\"height:525px; width:100%;\"></div>            <script type=\"text/javascript\">                require([\"plotly\"], function(Plotly) {                    window.PLOTLYENV=window.PLOTLYENV || {};                                    if (document.getElementById(\"280e21f3-483b-4c2d-9e36-95e7655b91b3\")) {                    Plotly.newPlot(                        \"280e21f3-483b-4c2d-9e36-95e7655b91b3\",                        [{\"mode\":\"lines+markers\",\"name\":\"f(x)=x<sup>2</sup>\",\"x\":[0.0,0.1,0.2,0.30000000000000004,0.4,0.5,0.6000000000000001,0.7000000000000001,0.8,0.9,1.0,1.1,1.2000000000000002,1.3,1.4000000000000001,1.5,1.6,1.7000000000000002,1.8,1.9000000000000001,2.0,2.1,2.2,2.3000000000000003,2.4000000000000004,2.5,2.6,2.7,2.8000000000000003,2.9000000000000004,3.0,3.1,3.2,3.3000000000000003,3.4000000000000004,3.5,3.6,3.7,3.8000000000000003,3.9000000000000004,4.0,4.1000000000000005,4.2,4.3,4.4,4.5,4.6000000000000005,4.7,4.800000000000001,4.9],\"y\":[0.0,0.010000000000000002,0.04000000000000001,0.09000000000000002,0.16000000000000003,0.25,0.3600000000000001,0.4900000000000001,0.6400000000000001,0.81,1.0,1.2100000000000002,1.4400000000000004,1.6900000000000002,1.9600000000000004,2.25,2.5600000000000005,2.8900000000000006,3.24,3.6100000000000003,4.0,4.41,4.840000000000001,5.290000000000001,5.760000000000002,6.25,6.760000000000001,7.290000000000001,7.840000000000002,8.410000000000002,9.0,9.610000000000001,10.240000000000002,10.890000000000002,11.560000000000002,12.25,12.96,13.690000000000001,14.440000000000001,15.210000000000003,16.0,16.810000000000006,17.64,18.49,19.360000000000003,20.25,21.160000000000004,22.090000000000003,23.040000000000006,24.010000000000005],\"type\":\"scatter\",\"hoverinfo\":\"all\",\"hovertemplate\":\"\\u0410\\u0440\\u0433\\u0443\\u043c\\u0435\\u043d\\u0442: %{x}<br>\\u0424\\u0443\\u043d\\u043a\\u0446\\u0438\\u044f: %{y}\"},{\"mode\":\"markers\",\"name\":\"g(x)=x\",\"x\":[0.0,0.1,0.2,0.30000000000000004,0.4,0.5,0.6000000000000001,0.7000000000000001,0.8,0.9,1.0,1.1,1.2000000000000002,1.3,1.4000000000000001,1.5,1.6,1.7000000000000002,1.8,1.9000000000000001,2.0,2.1,2.2,2.3000000000000003,2.4000000000000004,2.5,2.6,2.7,2.8000000000000003,2.9000000000000004,3.0,3.1,3.2,3.3000000000000003,3.4000000000000004,3.5,3.6,3.7,3.8000000000000003,3.9000000000000004,4.0,4.1000000000000005,4.2,4.3,4.4,4.5,4.6000000000000005,4.7,4.800000000000001,4.9],\"y\":[0.0,0.1,0.2,0.30000000000000004,0.4,0.5,0.6000000000000001,0.7000000000000001,0.8,0.9,1.0,1.1,1.2000000000000002,1.3,1.4000000000000001,1.5,1.6,1.7000000000000002,1.8,1.9000000000000001,2.0,2.1,2.2,2.3000000000000003,2.4000000000000004,2.5,2.6,2.7,2.8000000000000003,2.9000000000000004,3.0,3.1,3.2,3.3000000000000003,3.4000000000000004,3.5,3.6,3.7,3.8000000000000003,3.9000000000000004,4.0,4.1000000000000005,4.2,4.3,4.4,4.5,4.6000000000000005,4.7,4.800000000000001,4.9],\"type\":\"scatter\",\"hoverinfo\":\"all\",\"hovertemplate\":\"\\u0410\\u0440\\u0433\\u0443\\u043c\\u0435\\u043d\\u0442: %{x}<br>\\u0424\\u0443\\u043d\\u043a\\u0446\\u0438\\u044f: %{y}\"}],                        {\"template\":{\"data\":{\"bar\":[{\"error_x\":{\"color\":\"#2a3f5f\"},\"error_y\":{\"color\":\"#2a3f5f\"},\"marker\":{\"line\":{\"color\":\"#E5ECF6\",\"width\":0.5},\"pattern\":{\"fillmode\":\"overlay\",\"size\":10,\"solidity\":0.2}},\"type\":\"bar\"}],\"barpolar\":[{\"marker\":{\"line\":{\"color\":\"#E5ECF6\",\"width\":0.5},\"pattern\":{\"fillmode\":\"overlay\",\"size\":10,\"solidity\":0.2}},\"type\":\"barpolar\"}],\"carpet\":[{\"aaxis\":{\"endlinecolor\":\"#2a3f5f\",\"gridcolor\":\"white\",\"linecolor\":\"white\",\"minorgridcolor\":\"white\",\"startlinecolor\":\"#2a3f5f\"},\"baxis\":{\"endlinecolor\":\"#2a3f5f\",\"gridcolor\":\"white\",\"linecolor\":\"white\",\"minorgridcolor\":\"white\",\"startlinecolor\":\"#2a3f5f\"},\"type\":\"carpet\"}],\"choropleth\":[{\"colorbar\":{\"outlinewidth\":0,\"ticks\":\"\"},\"type\":\"choropleth\"}],\"contour\":[{\"colorbar\":{\"outlinewidth\":0,\"ticks\":\"\"},\"colorscale\":[[0.0,\"#0d0887\"],[0.1111111111111111,\"#46039f\"],[0.2222222222222222,\"#7201a8\"],[0.3333333333333333,\"#9c179e\"],[0.4444444444444444,\"#bd3786\"],[0.5555555555555556,\"#d8576b\"],[0.6666666666666666,\"#ed7953\"],[0.7777777777777778,\"#fb9f3a\"],[0.8888888888888888,\"#fdca26\"],[1.0,\"#f0f921\"]],\"type\":\"contour\"}],\"contourcarpet\":[{\"colorbar\":{\"outlinewidth\":0,\"ticks\":\"\"},\"type\":\"contourcarpet\"}],\"heatmap\":[{\"colorbar\":{\"outlinewidth\":0,\"ticks\":\"\"},\"colorscale\":[[0.0,\"#0d0887\"],[0.1111111111111111,\"#46039f\"],[0.2222222222222222,\"#7201a8\"],[0.3333333333333333,\"#9c179e\"],[0.4444444444444444,\"#bd3786\"],[0.5555555555555556,\"#d8576b\"],[0.6666666666666666,\"#ed7953\"],[0.7777777777777778,\"#fb9f3a\"],[0.8888888888888888,\"#fdca26\"],[1.0,\"#f0f921\"]],\"type\":\"heatmap\"}],\"heatmapgl\":[{\"colorbar\":{\"outlinewidth\":0,\"ticks\":\"\"},\"colorscale\":[[0.0,\"#0d0887\"],[0.1111111111111111,\"#46039f\"],[0.2222222222222222,\"#7201a8\"],[0.3333333333333333,\"#9c179e\"],[0.4444444444444444,\"#bd3786\"],[0.5555555555555556,\"#d8576b\"],[0.6666666666666666,\"#ed7953\"],[0.7777777777777778,\"#fb9f3a\"],[0.8888888888888888,\"#fdca26\"],[1.0,\"#f0f921\"]],\"type\":\"heatmapgl\"}],\"histogram\":[{\"marker\":{\"pattern\":{\"fillmode\":\"overlay\",\"size\":10,\"solidity\":0.2}},\"type\":\"histogram\"}],\"histogram2d\":[{\"colorbar\":{\"outlinewidth\":0,\"ticks\":\"\"},\"colorscale\":[[0.0,\"#0d0887\"],[0.1111111111111111,\"#46039f\"],[0.2222222222222222,\"#7201a8\"],[0.3333333333333333,\"#9c179e\"],[0.4444444444444444,\"#bd3786\"],[0.5555555555555556,\"#d8576b\"],[0.6666666666666666,\"#ed7953\"],[0.7777777777777778,\"#fb9f3a\"],[0.8888888888888888,\"#fdca26\"],[1.0,\"#f0f921\"]],\"type\":\"histogram2d\"}],\"histogram2dcontour\":[{\"colorbar\":{\"outlinewidth\":0,\"ticks\":\"\"},\"colorscale\":[[0.0,\"#0d0887\"],[0.1111111111111111,\"#46039f\"],[0.2222222222222222,\"#7201a8\"],[0.3333333333333333,\"#9c179e\"],[0.4444444444444444,\"#bd3786\"],[0.5555555555555556,\"#d8576b\"],[0.6666666666666666,\"#ed7953\"],[0.7777777777777778,\"#fb9f3a\"],[0.8888888888888888,\"#fdca26\"],[1.0,\"#f0f921\"]],\"type\":\"histogram2dcontour\"}],\"mesh3d\":[{\"colorbar\":{\"outlinewidth\":0,\"ticks\":\"\"},\"type\":\"mesh3d\"}],\"parcoords\":[{\"line\":{\"colorbar\":{\"outlinewidth\":0,\"ticks\":\"\"}},\"type\":\"parcoords\"}],\"pie\":[{\"automargin\":true,\"type\":\"pie\"}],\"scatter\":[{\"marker\":{\"colorbar\":{\"outlinewidth\":0,\"ticks\":\"\"}},\"type\":\"scatter\"}],\"scatter3d\":[{\"line\":{\"colorbar\":{\"outlinewidth\":0,\"ticks\":\"\"}},\"marker\":{\"colorbar\":{\"outlinewidth\":0,\"ticks\":\"\"}},\"type\":\"scatter3d\"}],\"scattercarpet\":[{\"marker\":{\"colorbar\":{\"outlinewidth\":0,\"ticks\":\"\"}},\"type\":\"scattercarpet\"}],\"scattergeo\":[{\"marker\":{\"colorbar\":{\"outlinewidth\":0,\"ticks\":\"\"}},\"type\":\"scattergeo\"}],\"scattergl\":[{\"marker\":{\"colorbar\":{\"outlinewidth\":0,\"ticks\":\"\"}},\"type\":\"scattergl\"}],\"scattermapbox\":[{\"marker\":{\"colorbar\":{\"outlinewidth\":0,\"ticks\":\"\"}},\"type\":\"scattermapbox\"}],\"scatterpolar\":[{\"marker\":{\"colorbar\":{\"outlinewidth\":0,\"ticks\":\"\"}},\"type\":\"scatterpolar\"}],\"scatterpolargl\":[{\"marker\":{\"colorbar\":{\"outlinewidth\":0,\"ticks\":\"\"}},\"type\":\"scatterpolargl\"}],\"scatterternary\":[{\"marker\":{\"colorbar\":{\"outlinewidth\":0,\"ticks\":\"\"}},\"type\":\"scatterternary\"}],\"surface\":[{\"colorbar\":{\"outlinewidth\":0,\"ticks\":\"\"},\"colorscale\":[[0.0,\"#0d0887\"],[0.1111111111111111,\"#46039f\"],[0.2222222222222222,\"#7201a8\"],[0.3333333333333333,\"#9c179e\"],[0.4444444444444444,\"#bd3786\"],[0.5555555555555556,\"#d8576b\"],[0.6666666666666666,\"#ed7953\"],[0.7777777777777778,\"#fb9f3a\"],[0.8888888888888888,\"#fdca26\"],[1.0,\"#f0f921\"]],\"type\":\"surface\"}],\"table\":[{\"cells\":{\"fill\":{\"color\":\"#EBF0F8\"},\"line\":{\"color\":\"white\"}},\"header\":{\"fill\":{\"color\":\"#C8D4E3\"},\"line\":{\"color\":\"white\"}},\"type\":\"table\"}]},\"layout\":{\"annotationdefaults\":{\"arrowcolor\":\"#2a3f5f\",\"arrowhead\":0,\"arrowwidth\":1},\"autotypenumbers\":\"strict\",\"coloraxis\":{\"colorbar\":{\"outlinewidth\":0,\"ticks\":\"\"}},\"colorscale\":{\"diverging\":[[0,\"#8e0152\"],[0.1,\"#c51b7d\"],[0.2,\"#de77ae\"],[0.3,\"#f1b6da\"],[0.4,\"#fde0ef\"],[0.5,\"#f7f7f7\"],[0.6,\"#e6f5d0\"],[0.7,\"#b8e186\"],[0.8,\"#7fbc41\"],[0.9,\"#4d9221\"],[1,\"#276419\"]],\"sequential\":[[0.0,\"#0d0887\"],[0.1111111111111111,\"#46039f\"],[0.2222222222222222,\"#7201a8\"],[0.3333333333333333,\"#9c179e\"],[0.4444444444444444,\"#bd3786\"],[0.5555555555555556,\"#d8576b\"],[0.6666666666666666,\"#ed7953\"],[0.7777777777777778,\"#fb9f3a\"],[0.8888888888888888,\"#fdca26\"],[1.0,\"#f0f921\"]],\"sequentialminus\":[[0.0,\"#0d0887\"],[0.1111111111111111,\"#46039f\"],[0.2222222222222222,\"#7201a8\"],[0.3333333333333333,\"#9c179e\"],[0.4444444444444444,\"#bd3786\"],[0.5555555555555556,\"#d8576b\"],[0.6666666666666666,\"#ed7953\"],[0.7777777777777778,\"#fb9f3a\"],[0.8888888888888888,\"#fdca26\"],[1.0,\"#f0f921\"]]},\"colorway\":[\"#636efa\",\"#EF553B\",\"#00cc96\",\"#ab63fa\",\"#FFA15A\",\"#19d3f3\",\"#FF6692\",\"#B6E880\",\"#FF97FF\",\"#FECB52\"],\"font\":{\"color\":\"#2a3f5f\"},\"geo\":{\"bgcolor\":\"white\",\"lakecolor\":\"white\",\"landcolor\":\"#E5ECF6\",\"showlakes\":true,\"showland\":true,\"subunitcolor\":\"white\"},\"hoverlabel\":{\"align\":\"left\"},\"hovermode\":\"closest\",\"mapbox\":{\"style\":\"light\"},\"paper_bgcolor\":\"white\",\"plot_bgcolor\":\"#E5ECF6\",\"polar\":{\"angularaxis\":{\"gridcolor\":\"white\",\"linecolor\":\"white\",\"ticks\":\"\"},\"bgcolor\":\"#E5ECF6\",\"radialaxis\":{\"gridcolor\":\"white\",\"linecolor\":\"white\",\"ticks\":\"\"}},\"scene\":{\"xaxis\":{\"backgroundcolor\":\"#E5ECF6\",\"gridcolor\":\"white\",\"gridwidth\":2,\"linecolor\":\"white\",\"showbackground\":true,\"ticks\":\"\",\"zerolinecolor\":\"white\"},\"yaxis\":{\"backgroundcolor\":\"#E5ECF6\",\"gridcolor\":\"white\",\"gridwidth\":2,\"linecolor\":\"white\",\"showbackground\":true,\"ticks\":\"\",\"zerolinecolor\":\"white\"},\"zaxis\":{\"backgroundcolor\":\"#E5ECF6\",\"gridcolor\":\"white\",\"gridwidth\":2,\"linecolor\":\"white\",\"showbackground\":true,\"ticks\":\"\",\"zerolinecolor\":\"white\"}},\"shapedefaults\":{\"line\":{\"color\":\"#2a3f5f\"}},\"ternary\":{\"aaxis\":{\"gridcolor\":\"white\",\"linecolor\":\"white\",\"ticks\":\"\"},\"baxis\":{\"gridcolor\":\"white\",\"linecolor\":\"white\",\"ticks\":\"\"},\"bgcolor\":\"#E5ECF6\",\"caxis\":{\"gridcolor\":\"white\",\"linecolor\":\"white\",\"ticks\":\"\"}},\"title\":{\"x\":0.05},\"xaxis\":{\"automargin\":true,\"gridcolor\":\"white\",\"linecolor\":\"white\",\"ticks\":\"\",\"title\":{\"standoff\":15},\"zerolinecolor\":\"white\",\"zerolinewidth\":2},\"yaxis\":{\"automargin\":true,\"gridcolor\":\"white\",\"linecolor\":\"white\",\"ticks\":\"\",\"title\":{\"standoff\":15},\"zerolinecolor\":\"white\",\"zerolinewidth\":2}}},\"yaxis\":{\"range\":[-0.5,1.5],\"zeroline\":true,\"zerolinewidth\":2,\"zerolinecolor\":\"LightPink\"},\"xaxis\":{\"range\":[-0.5,1.5],\"zeroline\":true,\"zerolinewidth\":2,\"zerolinecolor\":\"#008000\"},\"legend\":{\"orientation\":\"h\",\"x\":0.5,\"xanchor\":\"center\"},\"margin\":{\"l\":0,\"r\":0,\"t\":0,\"b\":0}},                        {\"responsive\": true}                    ).then(function(){\n",
       "                            \n",
       "var gd = document.getElementById('280e21f3-483b-4c2d-9e36-95e7655b91b3');\n",
       "var x = new MutationObserver(function (mutations, observer) {{\n",
       "        var display = window.getComputedStyle(gd).display;\n",
       "        if (!display || display === 'none') {{\n",
       "            console.log([gd, 'removed!']);\n",
       "            Plotly.purge(gd);\n",
       "            observer.disconnect();\n",
       "        }}\n",
       "}});\n",
       "\n",
       "// Listen for the removal of the full notebook cells\n",
       "var notebookContainer = gd.closest('#notebook-container');\n",
       "if (notebookContainer) {{\n",
       "    x.observe(notebookContainer, {childList: true});\n",
       "}}\n",
       "\n",
       "// Listen for the clearing of the current output cell\n",
       "var outputEl = gd.closest('.output');\n",
       "if (outputEl) {{\n",
       "    x.observe(outputEl, {childList: true});\n",
       "}}\n",
       "\n",
       "                        })                };                });            </script>        </div>"
      ]
     },
     "metadata": {},
     "output_type": "display_data"
    }
   ],
   "source": [
    "fig = go.Figure()\n",
    "fig.update_yaxes(range=[-0.5, 1.5], zeroline=True, zerolinewidth=2, zerolinecolor='LightPink')\n",
    "fig.update_xaxes(range=[-0.5, 1.5], zeroline=True, zerolinewidth=2, zerolinecolor='#008000')\n",
    "fig.add_trace(go.Scatter(x=x, y=x*x, mode='lines+markers',  name='f(x)=x<sup>2</sup>'))\n",
    "fig.add_trace(go.Scatter(x=x, y=x, mode='markers', name='g(x)=x'))\n",
    "fig.update_layout(legend_orientation=\"h\",\n",
    "                  legend=dict(x=.5, xanchor=\"center\"),\n",
    "                  margin=dict(l=0, r=0, t=0, b=0))\n",
    "fig.update_traces(hoverinfo=\"all\", hovertemplate=\"Аргумент: %{x}<br>Функция: %{y}\")\n",
    "fig.show()"
   ]
  },
  {
   "cell_type": "code",
   "execution_count": 8,
   "metadata": {},
   "outputs": [
    {
     "data": {
      "application/vnd.plotly.v1+json": {
       "config": {
        "plotlyServerURL": "https://plot.ly"
       },
       "data": [
        {
         "hovertemplate": "Аргумент: %{x}<br>Функция: %{y}",
         "mode": "lines",
         "name": "c(x)=cos(x)",
         "type": "scatter",
         "x": [
          0,
          0.1,
          0.2,
          0.30000000000000004,
          0.4,
          0.5,
          0.6000000000000001,
          0.7000000000000001,
          0.8,
          0.9,
          1,
          1.1,
          1.2000000000000002,
          1.3,
          1.4000000000000001,
          1.5,
          1.6,
          1.7000000000000002,
          1.8,
          1.9000000000000001,
          2,
          2.1,
          2.2,
          2.3000000000000003,
          2.4000000000000004,
          2.5,
          2.6,
          2.7,
          2.8000000000000003,
          2.9000000000000004,
          3,
          3.1,
          3.2,
          3.3000000000000003,
          3.4000000000000004,
          3.5,
          3.6,
          3.7,
          3.8000000000000003,
          3.9000000000000004,
          4,
          4.1000000000000005,
          4.2,
          4.3,
          4.4,
          4.5,
          4.6000000000000005,
          4.7,
          4.800000000000001,
          4.9
         ],
         "xaxis": "x",
         "y": [
          1,
          0.9950041652780258,
          0.9800665778412416,
          0.955336489125606,
          0.9210609940028851,
          0.8775825618903728,
          0.8253356149096782,
          0.7648421872844884,
          0.6967067093471654,
          0.6216099682706644,
          0.5403023058681398,
          0.4535961214255773,
          0.3623577544766734,
          0.26749882862458735,
          0.16996714290024081,
          0.0707372016677029,
          -0.029199522301288815,
          -0.12884449429552486,
          -0.2272020946930871,
          -0.3232895668635036,
          -0.4161468365471424,
          -0.5048461045998576,
          -0.5885011172553458,
          -0.6662760212798244,
          -0.7373937155412458,
          -0.8011436155469337,
          -0.8568887533689473,
          -0.9040721420170612,
          -0.9422223406686583,
          -0.9709581651495907,
          -0.9899924966004454,
          -0.9991351502732795,
          -0.9982947757947531,
          -0.9874797699088649,
          -0.9667981925794609,
          -0.9364566872907963,
          -0.896758416334147,
          -0.848100031710408,
          -0.7909677119144165,
          -0.7259323042001399,
          -0.6536436208636119,
          -0.5748239465332685,
          -0.4902608213406994,
          -0.40079917207997545,
          -0.30733286997841935,
          -0.2107957994307797,
          -0.11215252693505398,
          -0.01238866346289056,
          0.08749898343944727,
          0.18651236942257576
         ],
         "yaxis": "y"
        },
        {
         "hovertemplate": "Аргумент: %{x}<br>Функция: %{y}",
         "mode": "lines",
         "name": "s(x)=sin(x)",
         "type": "scatter",
         "x": [
          0,
          0.1,
          0.2,
          0.30000000000000004,
          0.4,
          0.5,
          0.6000000000000001,
          0.7000000000000001,
          0.8,
          0.9,
          1,
          1.1,
          1.2000000000000002,
          1.3,
          1.4000000000000001,
          1.5,
          1.6,
          1.7000000000000002,
          1.8,
          1.9000000000000001,
          2,
          2.1,
          2.2,
          2.3000000000000003,
          2.4000000000000004,
          2.5,
          2.6,
          2.7,
          2.8000000000000003,
          2.9000000000000004,
          3,
          3.1,
          3.2,
          3.3000000000000003,
          3.4000000000000004,
          3.5,
          3.6,
          3.7,
          3.8000000000000003,
          3.9000000000000004,
          4,
          4.1000000000000005,
          4.2,
          4.3,
          4.4,
          4.5,
          4.6000000000000005,
          4.7,
          4.800000000000001,
          4.9
         ],
         "xaxis": "x",
         "y": [
          0,
          0.09983341664682815,
          0.19866933079506122,
          0.2955202066613396,
          0.3894183423086505,
          0.479425538604203,
          0.5646424733950355,
          0.6442176872376911,
          0.7173560908995228,
          0.7833269096274834,
          0.8414709848078965,
          0.8912073600614354,
          0.9320390859672264,
          0.963558185417193,
          0.9854497299884603,
          0.9974949866040544,
          0.9995736030415051,
          0.9916648104524686,
          0.9738476308781951,
          0.9463000876874145,
          0.9092974268256817,
          0.8632093666488737,
          0.8084964038195901,
          0.74570521217672,
          0.6754631805511506,
          0.5984721441039564,
          0.5155013718214642,
          0.4273798802338298,
          0.33498815015590466,
          0.23924932921398198,
          0.1411200080598672,
          0.04158066243329049,
          -0.058374143427580086,
          -0.15774569414324865,
          -0.25554110202683167,
          -0.35078322768961984,
          -0.44252044329485246,
          -0.5298361409084934,
          -0.6118578909427193,
          -0.6877661591839741,
          -0.7568024953079282,
          -0.8182771110644108,
          -0.8715757724135882,
          -0.9161659367494549,
          -0.9516020738895161,
          -0.977530117665097,
          -0.9936910036334645,
          -0.9999232575641008,
          -0.9961646088358406,
          -0.9824526126243325
         ],
         "yaxis": "y"
        },
        {
         "hovertemplate": "Аргумент: %{x}<br>Функция: %{y}",
         "mode": "markers+lines",
         "name": "u(x)=x<sup>2<sup>",
         "type": "scatter",
         "x": [
          0,
          0.1,
          0.2,
          0.30000000000000004,
          0.4,
          0.5,
          0.6000000000000001,
          0.7000000000000001,
          0.8,
          0.9,
          1,
          1.1,
          1.2000000000000002,
          1.3,
          1.4000000000000001,
          1.5,
          1.6,
          1.7000000000000002,
          1.8,
          1.9000000000000001,
          2,
          2.1,
          2.2,
          2.3000000000000003,
          2.4000000000000004,
          2.5,
          2.6,
          2.7,
          2.8000000000000003,
          2.9000000000000004,
          3,
          3.1,
          3.2,
          3.3000000000000003,
          3.4000000000000004,
          3.5,
          3.6,
          3.7,
          3.8000000000000003,
          3.9000000000000004,
          4,
          4.1000000000000005,
          4.2,
          4.3,
          4.4,
          4.5,
          4.6000000000000005,
          4.7,
          4.800000000000001,
          4.9
         ],
         "xaxis": "x2",
         "y": [
          0,
          0.010000000000000002,
          0.04000000000000001,
          0.09000000000000002,
          0.16000000000000003,
          0.25,
          0.3600000000000001,
          0.4900000000000001,
          0.6400000000000001,
          0.81,
          1,
          1.2100000000000002,
          1.4400000000000004,
          1.6900000000000002,
          1.9600000000000004,
          2.25,
          2.5600000000000005,
          2.8900000000000006,
          3.24,
          3.6100000000000003,
          4,
          4.41,
          4.840000000000001,
          5.290000000000001,
          5.760000000000002,
          6.25,
          6.760000000000001,
          7.290000000000001,
          7.840000000000002,
          8.410000000000002,
          9,
          9.610000000000001,
          10.240000000000002,
          10.890000000000002,
          11.560000000000002,
          12.25,
          12.96,
          13.690000000000001,
          14.440000000000001,
          15.210000000000003,
          16,
          16.810000000000006,
          17.64,
          18.49,
          19.360000000000003,
          20.25,
          21.160000000000004,
          22.090000000000003,
          23.040000000000006,
          24.010000000000005
         ],
         "yaxis": "y2"
        },
        {
         "hovertemplate": "Аргумент: %{x}<br>Функция: %{y}",
         "mode": "markers+lines",
         "name": "l(x)=x",
         "type": "scatter",
         "x": [
          0,
          0.1,
          0.2,
          0.30000000000000004,
          0.4,
          0.5,
          0.6000000000000001,
          0.7000000000000001,
          0.8,
          0.9,
          1,
          1.1,
          1.2000000000000002,
          1.3,
          1.4000000000000001,
          1.5,
          1.6,
          1.7000000000000002,
          1.8,
          1.9000000000000001,
          2,
          2.1,
          2.2,
          2.3000000000000003,
          2.4000000000000004,
          2.5,
          2.6,
          2.7,
          2.8000000000000003,
          2.9000000000000004,
          3,
          3.1,
          3.2,
          3.3000000000000003,
          3.4000000000000004,
          3.5,
          3.6,
          3.7,
          3.8000000000000003,
          3.9000000000000004,
          4,
          4.1000000000000005,
          4.2,
          4.3,
          4.4,
          4.5,
          4.6000000000000005,
          4.7,
          4.800000000000001,
          4.9
         ],
         "xaxis": "x2",
         "y": [
          0,
          0.1,
          0.2,
          0.30000000000000004,
          0.4,
          0.5,
          0.6000000000000001,
          0.7000000000000001,
          0.8,
          0.9,
          1,
          1.1,
          1.2000000000000002,
          1.3,
          1.4000000000000001,
          1.5,
          1.6,
          1.7000000000000002,
          1.8,
          1.9000000000000001,
          2,
          2.1,
          2.2,
          2.3000000000000003,
          2.4000000000000004,
          2.5,
          2.6,
          2.7,
          2.8000000000000003,
          2.9000000000000004,
          3,
          3.1,
          3.2,
          3.3000000000000003,
          3.4000000000000004,
          3.5,
          3.6,
          3.7,
          3.8000000000000003,
          3.9000000000000004,
          4,
          4.1000000000000005,
          4.2,
          4.3,
          4.4,
          4.5,
          4.6000000000000005,
          4.7,
          4.800000000000001,
          4.9
         ],
         "yaxis": "y2"
        }
       ],
       "layout": {
        "template": {
         "data": {
          "bar": [
           {
            "error_x": {
             "color": "#2a3f5f"
            },
            "error_y": {
             "color": "#2a3f5f"
            },
            "marker": {
             "line": {
              "color": "#E5ECF6",
              "width": 0.5
             },
             "pattern": {
              "fillmode": "overlay",
              "size": 10,
              "solidity": 0.2
             }
            },
            "type": "bar"
           }
          ],
          "barpolar": [
           {
            "marker": {
             "line": {
              "color": "#E5ECF6",
              "width": 0.5
             },
             "pattern": {
              "fillmode": "overlay",
              "size": 10,
              "solidity": 0.2
             }
            },
            "type": "barpolar"
           }
          ],
          "carpet": [
           {
            "aaxis": {
             "endlinecolor": "#2a3f5f",
             "gridcolor": "white",
             "linecolor": "white",
             "minorgridcolor": "white",
             "startlinecolor": "#2a3f5f"
            },
            "baxis": {
             "endlinecolor": "#2a3f5f",
             "gridcolor": "white",
             "linecolor": "white",
             "minorgridcolor": "white",
             "startlinecolor": "#2a3f5f"
            },
            "type": "carpet"
           }
          ],
          "choropleth": [
           {
            "colorbar": {
             "outlinewidth": 0,
             "ticks": ""
            },
            "type": "choropleth"
           }
          ],
          "contour": [
           {
            "colorbar": {
             "outlinewidth": 0,
             "ticks": ""
            },
            "colorscale": [
             [
              0,
              "#0d0887"
             ],
             [
              0.1111111111111111,
              "#46039f"
             ],
             [
              0.2222222222222222,
              "#7201a8"
             ],
             [
              0.3333333333333333,
              "#9c179e"
             ],
             [
              0.4444444444444444,
              "#bd3786"
             ],
             [
              0.5555555555555556,
              "#d8576b"
             ],
             [
              0.6666666666666666,
              "#ed7953"
             ],
             [
              0.7777777777777778,
              "#fb9f3a"
             ],
             [
              0.8888888888888888,
              "#fdca26"
             ],
             [
              1,
              "#f0f921"
             ]
            ],
            "type": "contour"
           }
          ],
          "contourcarpet": [
           {
            "colorbar": {
             "outlinewidth": 0,
             "ticks": ""
            },
            "type": "contourcarpet"
           }
          ],
          "heatmap": [
           {
            "colorbar": {
             "outlinewidth": 0,
             "ticks": ""
            },
            "colorscale": [
             [
              0,
              "#0d0887"
             ],
             [
              0.1111111111111111,
              "#46039f"
             ],
             [
              0.2222222222222222,
              "#7201a8"
             ],
             [
              0.3333333333333333,
              "#9c179e"
             ],
             [
              0.4444444444444444,
              "#bd3786"
             ],
             [
              0.5555555555555556,
              "#d8576b"
             ],
             [
              0.6666666666666666,
              "#ed7953"
             ],
             [
              0.7777777777777778,
              "#fb9f3a"
             ],
             [
              0.8888888888888888,
              "#fdca26"
             ],
             [
              1,
              "#f0f921"
             ]
            ],
            "type": "heatmap"
           }
          ],
          "heatmapgl": [
           {
            "colorbar": {
             "outlinewidth": 0,
             "ticks": ""
            },
            "colorscale": [
             [
              0,
              "#0d0887"
             ],
             [
              0.1111111111111111,
              "#46039f"
             ],
             [
              0.2222222222222222,
              "#7201a8"
             ],
             [
              0.3333333333333333,
              "#9c179e"
             ],
             [
              0.4444444444444444,
              "#bd3786"
             ],
             [
              0.5555555555555556,
              "#d8576b"
             ],
             [
              0.6666666666666666,
              "#ed7953"
             ],
             [
              0.7777777777777778,
              "#fb9f3a"
             ],
             [
              0.8888888888888888,
              "#fdca26"
             ],
             [
              1,
              "#f0f921"
             ]
            ],
            "type": "heatmapgl"
           }
          ],
          "histogram": [
           {
            "marker": {
             "pattern": {
              "fillmode": "overlay",
              "size": 10,
              "solidity": 0.2
             }
            },
            "type": "histogram"
           }
          ],
          "histogram2d": [
           {
            "colorbar": {
             "outlinewidth": 0,
             "ticks": ""
            },
            "colorscale": [
             [
              0,
              "#0d0887"
             ],
             [
              0.1111111111111111,
              "#46039f"
             ],
             [
              0.2222222222222222,
              "#7201a8"
             ],
             [
              0.3333333333333333,
              "#9c179e"
             ],
             [
              0.4444444444444444,
              "#bd3786"
             ],
             [
              0.5555555555555556,
              "#d8576b"
             ],
             [
              0.6666666666666666,
              "#ed7953"
             ],
             [
              0.7777777777777778,
              "#fb9f3a"
             ],
             [
              0.8888888888888888,
              "#fdca26"
             ],
             [
              1,
              "#f0f921"
             ]
            ],
            "type": "histogram2d"
           }
          ],
          "histogram2dcontour": [
           {
            "colorbar": {
             "outlinewidth": 0,
             "ticks": ""
            },
            "colorscale": [
             [
              0,
              "#0d0887"
             ],
             [
              0.1111111111111111,
              "#46039f"
             ],
             [
              0.2222222222222222,
              "#7201a8"
             ],
             [
              0.3333333333333333,
              "#9c179e"
             ],
             [
              0.4444444444444444,
              "#bd3786"
             ],
             [
              0.5555555555555556,
              "#d8576b"
             ],
             [
              0.6666666666666666,
              "#ed7953"
             ],
             [
              0.7777777777777778,
              "#fb9f3a"
             ],
             [
              0.8888888888888888,
              "#fdca26"
             ],
             [
              1,
              "#f0f921"
             ]
            ],
            "type": "histogram2dcontour"
           }
          ],
          "mesh3d": [
           {
            "colorbar": {
             "outlinewidth": 0,
             "ticks": ""
            },
            "type": "mesh3d"
           }
          ],
          "parcoords": [
           {
            "line": {
             "colorbar": {
              "outlinewidth": 0,
              "ticks": ""
             }
            },
            "type": "parcoords"
           }
          ],
          "pie": [
           {
            "automargin": true,
            "type": "pie"
           }
          ],
          "scatter": [
           {
            "marker": {
             "colorbar": {
              "outlinewidth": 0,
              "ticks": ""
             }
            },
            "type": "scatter"
           }
          ],
          "scatter3d": [
           {
            "line": {
             "colorbar": {
              "outlinewidth": 0,
              "ticks": ""
             }
            },
            "marker": {
             "colorbar": {
              "outlinewidth": 0,
              "ticks": ""
             }
            },
            "type": "scatter3d"
           }
          ],
          "scattercarpet": [
           {
            "marker": {
             "colorbar": {
              "outlinewidth": 0,
              "ticks": ""
             }
            },
            "type": "scattercarpet"
           }
          ],
          "scattergeo": [
           {
            "marker": {
             "colorbar": {
              "outlinewidth": 0,
              "ticks": ""
             }
            },
            "type": "scattergeo"
           }
          ],
          "scattergl": [
           {
            "marker": {
             "colorbar": {
              "outlinewidth": 0,
              "ticks": ""
             }
            },
            "type": "scattergl"
           }
          ],
          "scattermapbox": [
           {
            "marker": {
             "colorbar": {
              "outlinewidth": 0,
              "ticks": ""
             }
            },
            "type": "scattermapbox"
           }
          ],
          "scatterpolar": [
           {
            "marker": {
             "colorbar": {
              "outlinewidth": 0,
              "ticks": ""
             }
            },
            "type": "scatterpolar"
           }
          ],
          "scatterpolargl": [
           {
            "marker": {
             "colorbar": {
              "outlinewidth": 0,
              "ticks": ""
             }
            },
            "type": "scatterpolargl"
           }
          ],
          "scatterternary": [
           {
            "marker": {
             "colorbar": {
              "outlinewidth": 0,
              "ticks": ""
             }
            },
            "type": "scatterternary"
           }
          ],
          "surface": [
           {
            "colorbar": {
             "outlinewidth": 0,
             "ticks": ""
            },
            "colorscale": [
             [
              0,
              "#0d0887"
             ],
             [
              0.1111111111111111,
              "#46039f"
             ],
             [
              0.2222222222222222,
              "#7201a8"
             ],
             [
              0.3333333333333333,
              "#9c179e"
             ],
             [
              0.4444444444444444,
              "#bd3786"
             ],
             [
              0.5555555555555556,
              "#d8576b"
             ],
             [
              0.6666666666666666,
              "#ed7953"
             ],
             [
              0.7777777777777778,
              "#fb9f3a"
             ],
             [
              0.8888888888888888,
              "#fdca26"
             ],
             [
              1,
              "#f0f921"
             ]
            ],
            "type": "surface"
           }
          ],
          "table": [
           {
            "cells": {
             "fill": {
              "color": "#EBF0F8"
             },
             "line": {
              "color": "white"
             }
            },
            "header": {
             "fill": {
              "color": "#C8D4E3"
             },
             "line": {
              "color": "white"
             }
            },
            "type": "table"
           }
          ]
         },
         "layout": {
          "annotationdefaults": {
           "arrowcolor": "#2a3f5f",
           "arrowhead": 0,
           "arrowwidth": 1
          },
          "autotypenumbers": "strict",
          "coloraxis": {
           "colorbar": {
            "outlinewidth": 0,
            "ticks": ""
           }
          },
          "colorscale": {
           "diverging": [
            [
             0,
             "#8e0152"
            ],
            [
             0.1,
             "#c51b7d"
            ],
            [
             0.2,
             "#de77ae"
            ],
            [
             0.3,
             "#f1b6da"
            ],
            [
             0.4,
             "#fde0ef"
            ],
            [
             0.5,
             "#f7f7f7"
            ],
            [
             0.6,
             "#e6f5d0"
            ],
            [
             0.7,
             "#b8e186"
            ],
            [
             0.8,
             "#7fbc41"
            ],
            [
             0.9,
             "#4d9221"
            ],
            [
             1,
             "#276419"
            ]
           ],
           "sequential": [
            [
             0,
             "#0d0887"
            ],
            [
             0.1111111111111111,
             "#46039f"
            ],
            [
             0.2222222222222222,
             "#7201a8"
            ],
            [
             0.3333333333333333,
             "#9c179e"
            ],
            [
             0.4444444444444444,
             "#bd3786"
            ],
            [
             0.5555555555555556,
             "#d8576b"
            ],
            [
             0.6666666666666666,
             "#ed7953"
            ],
            [
             0.7777777777777778,
             "#fb9f3a"
            ],
            [
             0.8888888888888888,
             "#fdca26"
            ],
            [
             1,
             "#f0f921"
            ]
           ],
           "sequentialminus": [
            [
             0,
             "#0d0887"
            ],
            [
             0.1111111111111111,
             "#46039f"
            ],
            [
             0.2222222222222222,
             "#7201a8"
            ],
            [
             0.3333333333333333,
             "#9c179e"
            ],
            [
             0.4444444444444444,
             "#bd3786"
            ],
            [
             0.5555555555555556,
             "#d8576b"
            ],
            [
             0.6666666666666666,
             "#ed7953"
            ],
            [
             0.7777777777777778,
             "#fb9f3a"
            ],
            [
             0.8888888888888888,
             "#fdca26"
            ],
            [
             1,
             "#f0f921"
            ]
           ]
          },
          "colorway": [
           "#636efa",
           "#EF553B",
           "#00cc96",
           "#ab63fa",
           "#FFA15A",
           "#19d3f3",
           "#FF6692",
           "#B6E880",
           "#FF97FF",
           "#FECB52"
          ],
          "font": {
           "color": "#2a3f5f"
          },
          "geo": {
           "bgcolor": "white",
           "lakecolor": "white",
           "landcolor": "#E5ECF6",
           "showlakes": true,
           "showland": true,
           "subunitcolor": "white"
          },
          "hoverlabel": {
           "align": "left"
          },
          "hovermode": "closest",
          "mapbox": {
           "style": "light"
          },
          "paper_bgcolor": "white",
          "plot_bgcolor": "#E5ECF6",
          "polar": {
           "angularaxis": {
            "gridcolor": "white",
            "linecolor": "white",
            "ticks": ""
           },
           "bgcolor": "#E5ECF6",
           "radialaxis": {
            "gridcolor": "white",
            "linecolor": "white",
            "ticks": ""
           }
          },
          "scene": {
           "xaxis": {
            "backgroundcolor": "#E5ECF6",
            "gridcolor": "white",
            "gridwidth": 2,
            "linecolor": "white",
            "showbackground": true,
            "ticks": "",
            "zerolinecolor": "white"
           },
           "yaxis": {
            "backgroundcolor": "#E5ECF6",
            "gridcolor": "white",
            "gridwidth": 2,
            "linecolor": "white",
            "showbackground": true,
            "ticks": "",
            "zerolinecolor": "white"
           },
           "zaxis": {
            "backgroundcolor": "#E5ECF6",
            "gridcolor": "white",
            "gridwidth": 2,
            "linecolor": "white",
            "showbackground": true,
            "ticks": "",
            "zerolinecolor": "white"
           }
          },
          "shapedefaults": {
           "line": {
            "color": "#2a3f5f"
           }
          },
          "ternary": {
           "aaxis": {
            "gridcolor": "white",
            "linecolor": "white",
            "ticks": ""
           },
           "baxis": {
            "gridcolor": "white",
            "linecolor": "white",
            "ticks": ""
           },
           "bgcolor": "#E5ECF6",
           "caxis": {
            "gridcolor": "white",
            "linecolor": "white",
            "ticks": ""
           }
          },
          "title": {
           "x": 0.05
          },
          "xaxis": {
           "automargin": true,
           "gridcolor": "white",
           "linecolor": "white",
           "ticks": "",
           "title": {
            "standoff": 15
           },
           "zerolinecolor": "white",
           "zerolinewidth": 2
          },
          "yaxis": {
           "automargin": true,
           "gridcolor": "white",
           "linecolor": "white",
           "ticks": "",
           "title": {
            "standoff": 15
           },
           "zerolinecolor": "white",
           "zerolinewidth": 2
          }
         }
        },
        "xaxis": {
         "anchor": "y",
         "domain": [
          0,
          0.6
         ],
         "range": [
          -0.5,
          2
         ],
         "zeroline": true,
         "zerolinecolor": "black",
         "zerolinewidth": 2
        },
        "xaxis2": {
         "anchor": "y2",
         "domain": [
          0.7,
          1
         ],
         "range": [
          -0.5,
          2
         ],
         "zeroline": true,
         "zerolinecolor": "black",
         "zerolinewidth": 2
        },
        "yaxis": {
         "anchor": "x",
         "domain": [
          0,
          1
         ],
         "range": [
          -0.5,
          1.5
         ],
         "zeroline": true,
         "zerolinecolor": "black",
         "zerolinewidth": 2
        },
        "yaxis2": {
         "anchor": "x2",
         "domain": [
          0,
          1
         ],
         "range": [
          -0.5,
          1.5
         ],
         "zeroline": true,
         "zerolinecolor": "black",
         "zerolinewidth": 2
        }
       }
      },
      "text/html": [
       "<div>                            <div id=\"ccdbf839-0cbb-4693-89d6-270f4a6adf66\" class=\"plotly-graph-div\" style=\"height:525px; width:100%;\"></div>            <script type=\"text/javascript\">                require([\"plotly\"], function(Plotly) {                    window.PLOTLYENV=window.PLOTLYENV || {};                                    if (document.getElementById(\"ccdbf839-0cbb-4693-89d6-270f4a6adf66\")) {                    Plotly.newPlot(                        \"ccdbf839-0cbb-4693-89d6-270f4a6adf66\",                        [{\"mode\":\"lines\",\"name\":\"c(x)=cos(x)\",\"x\":[0.0,0.1,0.2,0.30000000000000004,0.4,0.5,0.6000000000000001,0.7000000000000001,0.8,0.9,1.0,1.1,1.2000000000000002,1.3,1.4000000000000001,1.5,1.6,1.7000000000000002,1.8,1.9000000000000001,2.0,2.1,2.2,2.3000000000000003,2.4000000000000004,2.5,2.6,2.7,2.8000000000000003,2.9000000000000004,3.0,3.1,3.2,3.3000000000000003,3.4000000000000004,3.5,3.6,3.7,3.8000000000000003,3.9000000000000004,4.0,4.1000000000000005,4.2,4.3,4.4,4.5,4.6000000000000005,4.7,4.800000000000001,4.9],\"y\":[1.0,0.9950041652780258,0.9800665778412416,0.955336489125606,0.9210609940028851,0.8775825618903728,0.8253356149096782,0.7648421872844884,0.6967067093471654,0.6216099682706644,0.5403023058681398,0.4535961214255773,0.3623577544766734,0.26749882862458735,0.16996714290024081,0.0707372016677029,-0.029199522301288815,-0.12884449429552486,-0.2272020946930871,-0.3232895668635036,-0.4161468365471424,-0.5048461045998576,-0.5885011172553458,-0.6662760212798244,-0.7373937155412458,-0.8011436155469337,-0.8568887533689473,-0.9040721420170612,-0.9422223406686583,-0.9709581651495907,-0.9899924966004454,-0.9991351502732795,-0.9982947757947531,-0.9874797699088649,-0.9667981925794609,-0.9364566872907963,-0.896758416334147,-0.848100031710408,-0.7909677119144165,-0.7259323042001399,-0.6536436208636119,-0.5748239465332685,-0.4902608213406994,-0.40079917207997545,-0.30733286997841935,-0.2107957994307797,-0.11215252693505398,-0.01238866346289056,0.08749898343944727,0.18651236942257576],\"type\":\"scatter\",\"xaxis\":\"x\",\"yaxis\":\"y\",\"hovertemplate\":\"\\u0410\\u0440\\u0433\\u0443\\u043c\\u0435\\u043d\\u0442: %{x}<br>\\u0424\\u0443\\u043d\\u043a\\u0446\\u0438\\u044f: %{y}\"},{\"mode\":\"lines\",\"name\":\"s(x)=sin(x)\",\"x\":[0.0,0.1,0.2,0.30000000000000004,0.4,0.5,0.6000000000000001,0.7000000000000001,0.8,0.9,1.0,1.1,1.2000000000000002,1.3,1.4000000000000001,1.5,1.6,1.7000000000000002,1.8,1.9000000000000001,2.0,2.1,2.2,2.3000000000000003,2.4000000000000004,2.5,2.6,2.7,2.8000000000000003,2.9000000000000004,3.0,3.1,3.2,3.3000000000000003,3.4000000000000004,3.5,3.6,3.7,3.8000000000000003,3.9000000000000004,4.0,4.1000000000000005,4.2,4.3,4.4,4.5,4.6000000000000005,4.7,4.800000000000001,4.9],\"y\":[0.0,0.09983341664682815,0.19866933079506122,0.2955202066613396,0.3894183423086505,0.479425538604203,0.5646424733950355,0.6442176872376911,0.7173560908995228,0.7833269096274834,0.8414709848078965,0.8912073600614354,0.9320390859672264,0.963558185417193,0.9854497299884603,0.9974949866040544,0.9995736030415051,0.9916648104524686,0.9738476308781951,0.9463000876874145,0.9092974268256817,0.8632093666488737,0.8084964038195901,0.74570521217672,0.6754631805511506,0.5984721441039564,0.5155013718214642,0.4273798802338298,0.33498815015590466,0.23924932921398198,0.1411200080598672,0.04158066243329049,-0.058374143427580086,-0.15774569414324865,-0.25554110202683167,-0.35078322768961984,-0.44252044329485246,-0.5298361409084934,-0.6118578909427193,-0.6877661591839741,-0.7568024953079282,-0.8182771110644108,-0.8715757724135882,-0.9161659367494549,-0.9516020738895161,-0.977530117665097,-0.9936910036334645,-0.9999232575641008,-0.9961646088358406,-0.9824526126243325],\"type\":\"scatter\",\"xaxis\":\"x\",\"yaxis\":\"y\",\"hovertemplate\":\"\\u0410\\u0440\\u0433\\u0443\\u043c\\u0435\\u043d\\u0442: %{x}<br>\\u0424\\u0443\\u043d\\u043a\\u0446\\u0438\\u044f: %{y}\"},{\"mode\":\"markers+lines\",\"name\":\"u(x)=x<sup>2<sup>\",\"x\":[0.0,0.1,0.2,0.30000000000000004,0.4,0.5,0.6000000000000001,0.7000000000000001,0.8,0.9,1.0,1.1,1.2000000000000002,1.3,1.4000000000000001,1.5,1.6,1.7000000000000002,1.8,1.9000000000000001,2.0,2.1,2.2,2.3000000000000003,2.4000000000000004,2.5,2.6,2.7,2.8000000000000003,2.9000000000000004,3.0,3.1,3.2,3.3000000000000003,3.4000000000000004,3.5,3.6,3.7,3.8000000000000003,3.9000000000000004,4.0,4.1000000000000005,4.2,4.3,4.4,4.5,4.6000000000000005,4.7,4.800000000000001,4.9],\"y\":[0.0,0.010000000000000002,0.04000000000000001,0.09000000000000002,0.16000000000000003,0.25,0.3600000000000001,0.4900000000000001,0.6400000000000001,0.81,1.0,1.2100000000000002,1.4400000000000004,1.6900000000000002,1.9600000000000004,2.25,2.5600000000000005,2.8900000000000006,3.24,3.6100000000000003,4.0,4.41,4.840000000000001,5.290000000000001,5.760000000000002,6.25,6.760000000000001,7.290000000000001,7.840000000000002,8.410000000000002,9.0,9.610000000000001,10.240000000000002,10.890000000000002,11.560000000000002,12.25,12.96,13.690000000000001,14.440000000000001,15.210000000000003,16.0,16.810000000000006,17.64,18.49,19.360000000000003,20.25,21.160000000000004,22.090000000000003,23.040000000000006,24.010000000000005],\"type\":\"scatter\",\"xaxis\":\"x2\",\"yaxis\":\"y2\",\"hovertemplate\":\"\\u0410\\u0440\\u0433\\u0443\\u043c\\u0435\\u043d\\u0442: %{x}<br>\\u0424\\u0443\\u043d\\u043a\\u0446\\u0438\\u044f: %{y}\"},{\"mode\":\"markers+lines\",\"name\":\"l(x)=x\",\"x\":[0.0,0.1,0.2,0.30000000000000004,0.4,0.5,0.6000000000000001,0.7000000000000001,0.8,0.9,1.0,1.1,1.2000000000000002,1.3,1.4000000000000001,1.5,1.6,1.7000000000000002,1.8,1.9000000000000001,2.0,2.1,2.2,2.3000000000000003,2.4000000000000004,2.5,2.6,2.7,2.8000000000000003,2.9000000000000004,3.0,3.1,3.2,3.3000000000000003,3.4000000000000004,3.5,3.6,3.7,3.8000000000000003,3.9000000000000004,4.0,4.1000000000000005,4.2,4.3,4.4,4.5,4.6000000000000005,4.7,4.800000000000001,4.9],\"y\":[0.0,0.1,0.2,0.30000000000000004,0.4,0.5,0.6000000000000001,0.7000000000000001,0.8,0.9,1.0,1.1,1.2000000000000002,1.3,1.4000000000000001,1.5,1.6,1.7000000000000002,1.8,1.9000000000000001,2.0,2.1,2.2,2.3000000000000003,2.4000000000000004,2.5,2.6,2.7,2.8000000000000003,2.9000000000000004,3.0,3.1,3.2,3.3000000000000003,3.4000000000000004,3.5,3.6,3.7,3.8000000000000003,3.9000000000000004,4.0,4.1000000000000005,4.2,4.3,4.4,4.5,4.6000000000000005,4.7,4.800000000000001,4.9],\"type\":\"scatter\",\"xaxis\":\"x2\",\"yaxis\":\"y2\",\"hovertemplate\":\"\\u0410\\u0440\\u0433\\u0443\\u043c\\u0435\\u043d\\u0442: %{x}<br>\\u0424\\u0443\\u043d\\u043a\\u0446\\u0438\\u044f: %{y}\"}],                        {\"template\":{\"data\":{\"bar\":[{\"error_x\":{\"color\":\"#2a3f5f\"},\"error_y\":{\"color\":\"#2a3f5f\"},\"marker\":{\"line\":{\"color\":\"#E5ECF6\",\"width\":0.5},\"pattern\":{\"fillmode\":\"overlay\",\"size\":10,\"solidity\":0.2}},\"type\":\"bar\"}],\"barpolar\":[{\"marker\":{\"line\":{\"color\":\"#E5ECF6\",\"width\":0.5},\"pattern\":{\"fillmode\":\"overlay\",\"size\":10,\"solidity\":0.2}},\"type\":\"barpolar\"}],\"carpet\":[{\"aaxis\":{\"endlinecolor\":\"#2a3f5f\",\"gridcolor\":\"white\",\"linecolor\":\"white\",\"minorgridcolor\":\"white\",\"startlinecolor\":\"#2a3f5f\"},\"baxis\":{\"endlinecolor\":\"#2a3f5f\",\"gridcolor\":\"white\",\"linecolor\":\"white\",\"minorgridcolor\":\"white\",\"startlinecolor\":\"#2a3f5f\"},\"type\":\"carpet\"}],\"choropleth\":[{\"colorbar\":{\"outlinewidth\":0,\"ticks\":\"\"},\"type\":\"choropleth\"}],\"contour\":[{\"colorbar\":{\"outlinewidth\":0,\"ticks\":\"\"},\"colorscale\":[[0.0,\"#0d0887\"],[0.1111111111111111,\"#46039f\"],[0.2222222222222222,\"#7201a8\"],[0.3333333333333333,\"#9c179e\"],[0.4444444444444444,\"#bd3786\"],[0.5555555555555556,\"#d8576b\"],[0.6666666666666666,\"#ed7953\"],[0.7777777777777778,\"#fb9f3a\"],[0.8888888888888888,\"#fdca26\"],[1.0,\"#f0f921\"]],\"type\":\"contour\"}],\"contourcarpet\":[{\"colorbar\":{\"outlinewidth\":0,\"ticks\":\"\"},\"type\":\"contourcarpet\"}],\"heatmap\":[{\"colorbar\":{\"outlinewidth\":0,\"ticks\":\"\"},\"colorscale\":[[0.0,\"#0d0887\"],[0.1111111111111111,\"#46039f\"],[0.2222222222222222,\"#7201a8\"],[0.3333333333333333,\"#9c179e\"],[0.4444444444444444,\"#bd3786\"],[0.5555555555555556,\"#d8576b\"],[0.6666666666666666,\"#ed7953\"],[0.7777777777777778,\"#fb9f3a\"],[0.8888888888888888,\"#fdca26\"],[1.0,\"#f0f921\"]],\"type\":\"heatmap\"}],\"heatmapgl\":[{\"colorbar\":{\"outlinewidth\":0,\"ticks\":\"\"},\"colorscale\":[[0.0,\"#0d0887\"],[0.1111111111111111,\"#46039f\"],[0.2222222222222222,\"#7201a8\"],[0.3333333333333333,\"#9c179e\"],[0.4444444444444444,\"#bd3786\"],[0.5555555555555556,\"#d8576b\"],[0.6666666666666666,\"#ed7953\"],[0.7777777777777778,\"#fb9f3a\"],[0.8888888888888888,\"#fdca26\"],[1.0,\"#f0f921\"]],\"type\":\"heatmapgl\"}],\"histogram\":[{\"marker\":{\"pattern\":{\"fillmode\":\"overlay\",\"size\":10,\"solidity\":0.2}},\"type\":\"histogram\"}],\"histogram2d\":[{\"colorbar\":{\"outlinewidth\":0,\"ticks\":\"\"},\"colorscale\":[[0.0,\"#0d0887\"],[0.1111111111111111,\"#46039f\"],[0.2222222222222222,\"#7201a8\"],[0.3333333333333333,\"#9c179e\"],[0.4444444444444444,\"#bd3786\"],[0.5555555555555556,\"#d8576b\"],[0.6666666666666666,\"#ed7953\"],[0.7777777777777778,\"#fb9f3a\"],[0.8888888888888888,\"#fdca26\"],[1.0,\"#f0f921\"]],\"type\":\"histogram2d\"}],\"histogram2dcontour\":[{\"colorbar\":{\"outlinewidth\":0,\"ticks\":\"\"},\"colorscale\":[[0.0,\"#0d0887\"],[0.1111111111111111,\"#46039f\"],[0.2222222222222222,\"#7201a8\"],[0.3333333333333333,\"#9c179e\"],[0.4444444444444444,\"#bd3786\"],[0.5555555555555556,\"#d8576b\"],[0.6666666666666666,\"#ed7953\"],[0.7777777777777778,\"#fb9f3a\"],[0.8888888888888888,\"#fdca26\"],[1.0,\"#f0f921\"]],\"type\":\"histogram2dcontour\"}],\"mesh3d\":[{\"colorbar\":{\"outlinewidth\":0,\"ticks\":\"\"},\"type\":\"mesh3d\"}],\"parcoords\":[{\"line\":{\"colorbar\":{\"outlinewidth\":0,\"ticks\":\"\"}},\"type\":\"parcoords\"}],\"pie\":[{\"automargin\":true,\"type\":\"pie\"}],\"scatter\":[{\"marker\":{\"colorbar\":{\"outlinewidth\":0,\"ticks\":\"\"}},\"type\":\"scatter\"}],\"scatter3d\":[{\"line\":{\"colorbar\":{\"outlinewidth\":0,\"ticks\":\"\"}},\"marker\":{\"colorbar\":{\"outlinewidth\":0,\"ticks\":\"\"}},\"type\":\"scatter3d\"}],\"scattercarpet\":[{\"marker\":{\"colorbar\":{\"outlinewidth\":0,\"ticks\":\"\"}},\"type\":\"scattercarpet\"}],\"scattergeo\":[{\"marker\":{\"colorbar\":{\"outlinewidth\":0,\"ticks\":\"\"}},\"type\":\"scattergeo\"}],\"scattergl\":[{\"marker\":{\"colorbar\":{\"outlinewidth\":0,\"ticks\":\"\"}},\"type\":\"scattergl\"}],\"scattermapbox\":[{\"marker\":{\"colorbar\":{\"outlinewidth\":0,\"ticks\":\"\"}},\"type\":\"scattermapbox\"}],\"scatterpolar\":[{\"marker\":{\"colorbar\":{\"outlinewidth\":0,\"ticks\":\"\"}},\"type\":\"scatterpolar\"}],\"scatterpolargl\":[{\"marker\":{\"colorbar\":{\"outlinewidth\":0,\"ticks\":\"\"}},\"type\":\"scatterpolargl\"}],\"scatterternary\":[{\"marker\":{\"colorbar\":{\"outlinewidth\":0,\"ticks\":\"\"}},\"type\":\"scatterternary\"}],\"surface\":[{\"colorbar\":{\"outlinewidth\":0,\"ticks\":\"\"},\"colorscale\":[[0.0,\"#0d0887\"],[0.1111111111111111,\"#46039f\"],[0.2222222222222222,\"#7201a8\"],[0.3333333333333333,\"#9c179e\"],[0.4444444444444444,\"#bd3786\"],[0.5555555555555556,\"#d8576b\"],[0.6666666666666666,\"#ed7953\"],[0.7777777777777778,\"#fb9f3a\"],[0.8888888888888888,\"#fdca26\"],[1.0,\"#f0f921\"]],\"type\":\"surface\"}],\"table\":[{\"cells\":{\"fill\":{\"color\":\"#EBF0F8\"},\"line\":{\"color\":\"white\"}},\"header\":{\"fill\":{\"color\":\"#C8D4E3\"},\"line\":{\"color\":\"white\"}},\"type\":\"table\"}]},\"layout\":{\"annotationdefaults\":{\"arrowcolor\":\"#2a3f5f\",\"arrowhead\":0,\"arrowwidth\":1},\"autotypenumbers\":\"strict\",\"coloraxis\":{\"colorbar\":{\"outlinewidth\":0,\"ticks\":\"\"}},\"colorscale\":{\"diverging\":[[0,\"#8e0152\"],[0.1,\"#c51b7d\"],[0.2,\"#de77ae\"],[0.3,\"#f1b6da\"],[0.4,\"#fde0ef\"],[0.5,\"#f7f7f7\"],[0.6,\"#e6f5d0\"],[0.7,\"#b8e186\"],[0.8,\"#7fbc41\"],[0.9,\"#4d9221\"],[1,\"#276419\"]],\"sequential\":[[0.0,\"#0d0887\"],[0.1111111111111111,\"#46039f\"],[0.2222222222222222,\"#7201a8\"],[0.3333333333333333,\"#9c179e\"],[0.4444444444444444,\"#bd3786\"],[0.5555555555555556,\"#d8576b\"],[0.6666666666666666,\"#ed7953\"],[0.7777777777777778,\"#fb9f3a\"],[0.8888888888888888,\"#fdca26\"],[1.0,\"#f0f921\"]],\"sequentialminus\":[[0.0,\"#0d0887\"],[0.1111111111111111,\"#46039f\"],[0.2222222222222222,\"#7201a8\"],[0.3333333333333333,\"#9c179e\"],[0.4444444444444444,\"#bd3786\"],[0.5555555555555556,\"#d8576b\"],[0.6666666666666666,\"#ed7953\"],[0.7777777777777778,\"#fb9f3a\"],[0.8888888888888888,\"#fdca26\"],[1.0,\"#f0f921\"]]},\"colorway\":[\"#636efa\",\"#EF553B\",\"#00cc96\",\"#ab63fa\",\"#FFA15A\",\"#19d3f3\",\"#FF6692\",\"#B6E880\",\"#FF97FF\",\"#FECB52\"],\"font\":{\"color\":\"#2a3f5f\"},\"geo\":{\"bgcolor\":\"white\",\"lakecolor\":\"white\",\"landcolor\":\"#E5ECF6\",\"showlakes\":true,\"showland\":true,\"subunitcolor\":\"white\"},\"hoverlabel\":{\"align\":\"left\"},\"hovermode\":\"closest\",\"mapbox\":{\"style\":\"light\"},\"paper_bgcolor\":\"white\",\"plot_bgcolor\":\"#E5ECF6\",\"polar\":{\"angularaxis\":{\"gridcolor\":\"white\",\"linecolor\":\"white\",\"ticks\":\"\"},\"bgcolor\":\"#E5ECF6\",\"radialaxis\":{\"gridcolor\":\"white\",\"linecolor\":\"white\",\"ticks\":\"\"}},\"scene\":{\"xaxis\":{\"backgroundcolor\":\"#E5ECF6\",\"gridcolor\":\"white\",\"gridwidth\":2,\"linecolor\":\"white\",\"showbackground\":true,\"ticks\":\"\",\"zerolinecolor\":\"white\"},\"yaxis\":{\"backgroundcolor\":\"#E5ECF6\",\"gridcolor\":\"white\",\"gridwidth\":2,\"linecolor\":\"white\",\"showbackground\":true,\"ticks\":\"\",\"zerolinecolor\":\"white\"},\"zaxis\":{\"backgroundcolor\":\"#E5ECF6\",\"gridcolor\":\"white\",\"gridwidth\":2,\"linecolor\":\"white\",\"showbackground\":true,\"ticks\":\"\",\"zerolinecolor\":\"white\"}},\"shapedefaults\":{\"line\":{\"color\":\"#2a3f5f\"}},\"ternary\":{\"aaxis\":{\"gridcolor\":\"white\",\"linecolor\":\"white\",\"ticks\":\"\"},\"baxis\":{\"gridcolor\":\"white\",\"linecolor\":\"white\",\"ticks\":\"\"},\"bgcolor\":\"#E5ECF6\",\"caxis\":{\"gridcolor\":\"white\",\"linecolor\":\"white\",\"ticks\":\"\"}},\"title\":{\"x\":0.05},\"xaxis\":{\"automargin\":true,\"gridcolor\":\"white\",\"linecolor\":\"white\",\"ticks\":\"\",\"title\":{\"standoff\":15},\"zerolinecolor\":\"white\",\"zerolinewidth\":2},\"yaxis\":{\"automargin\":true,\"gridcolor\":\"white\",\"linecolor\":\"white\",\"ticks\":\"\",\"title\":{\"standoff\":15},\"zerolinecolor\":\"white\",\"zerolinewidth\":2}}},\"xaxis\":{\"anchor\":\"y\",\"domain\":[0.0,0.6],\"range\":[-0.5,2],\"zeroline\":true,\"zerolinewidth\":2,\"zerolinecolor\":\"black\"},\"yaxis\":{\"anchor\":\"x\",\"domain\":[0.0,1.0],\"range\":[-0.5,1.5],\"zeroline\":true,\"zerolinewidth\":2,\"zerolinecolor\":\"black\"},\"xaxis2\":{\"anchor\":\"y2\",\"domain\":[0.7,1.0],\"range\":[-0.5,2],\"zeroline\":true,\"zerolinewidth\":2,\"zerolinecolor\":\"black\"},\"yaxis2\":{\"anchor\":\"x2\",\"domain\":[0.0,1.0],\"range\":[-0.5,1.5],\"zeroline\":true,\"zerolinewidth\":2,\"zerolinecolor\":\"black\"}},                        {\"responsive\": true}                    ).then(function(){\n",
       "                            \n",
       "var gd = document.getElementById('ccdbf839-0cbb-4693-89d6-270f4a6adf66');\n",
       "var x = new MutationObserver(function (mutations, observer) {{\n",
       "        var display = window.getComputedStyle(gd).display;\n",
       "        if (!display || display === 'none') {{\n",
       "            console.log([gd, 'removed!']);\n",
       "            Plotly.purge(gd);\n",
       "            observer.disconnect();\n",
       "        }}\n",
       "}});\n",
       "\n",
       "// Listen for the removal of the full notebook cells\n",
       "var notebookContainer = gd.closest('#notebook-container');\n",
       "if (notebookContainer) {{\n",
       "    x.observe(notebookContainer, {childList: true});\n",
       "}}\n",
       "\n",
       "// Listen for the clearing of the current output cell\n",
       "var outputEl = gd.closest('.output');\n",
       "if (outputEl) {{\n",
       "    x.observe(outputEl, {childList: true});\n",
       "}}\n",
       "\n",
       "                        })                };                });            </script>        </div>"
      ]
     },
     "metadata": {},
     "output_type": "display_data"
    }
   ],
   "source": [
    "# создаем два полотна\n",
    "fig = make_subplots(rows=1,cols=2,column_widths=[2,1]) \n",
    "#Правляем оси Х и У\n",
    "fig.update_yaxes(range=[-0.5, 1.5],zeroline=True,zerolinewidth=2,zerolinecolor='black')\n",
    "fig.update_xaxes(range=[-0.5, 2],zeroline=True,zerolinewidth=2,zerolinecolor='black')\n",
    "#Рисуем графики (указываем к какому полотну принадлежит)\n",
    "fig.add_traces(go.Scatter(x=x, y = np.cos(x), mode='lines',name='c(x)=cos(x)'),1,1)\n",
    "fig.add_traces(go.Scatter(x=x, y = np.sin(x), mode='lines',name='s(x)=sin(x)'),1,1)# first gobelin\n",
    "fig.add_traces(go.Scatter(x=x, y = x*x, mode='markers+lines',name='u(x)=x<sup>2<sup>'),1,2)# second gobelin \n",
    "fig.add_traces(go.Scatter(x=x, y = x, mode='markers+lines',name='l(x)=x'),1,2)\n",
    "fig.update_traces( hovertemplate=\"Аргумент: %{x}<br>Функция: %{y}\")\n",
    "\n"
   ]
  },
  {
   "cell_type": "code",
   "execution_count": 9,
   "metadata": {},
   "outputs": [
    {
     "data": {
      "application/vnd.plotly.v1+json": {
       "config": {
        "plotlyServerURL": "https://plot.ly"
       },
       "data": [
        {
         "hoverinfo": "all",
         "hovertemplate": "Аргумент: %{x}<br>Функция: %{y}",
         "mode": "lines+markers",
         "name": "f(x)=x<sup>2</sup>",
         "type": "scatter",
         "x": [
          0
         ],
         "y": [
          0
         ]
        }
       ],
       "frames": [
        {
         "data": [
          {
           "type": "scatter",
           "x": [
            0,
            0.1
           ],
           "y": [
            0,
            0.010000000000000002
           ]
          }
         ]
        },
        {
         "data": [
          {
           "type": "scatter",
           "x": [
            0,
            0.1,
            0.2
           ],
           "y": [
            0,
            0.010000000000000002,
            0.04000000000000001
           ]
          }
         ]
        },
        {
         "data": [
          {
           "type": "scatter",
           "x": [
            0,
            0.1,
            0.2,
            0.30000000000000004
           ],
           "y": [
            0,
            0.010000000000000002,
            0.04000000000000001,
            0.09000000000000002
           ]
          }
         ]
        },
        {
         "data": [
          {
           "type": "scatter",
           "x": [
            0,
            0.1,
            0.2,
            0.30000000000000004,
            0.4
           ],
           "y": [
            0,
            0.010000000000000002,
            0.04000000000000001,
            0.09000000000000002,
            0.16000000000000003
           ]
          }
         ]
        },
        {
         "data": [
          {
           "type": "scatter",
           "x": [
            0,
            0.1,
            0.2,
            0.30000000000000004,
            0.4,
            0.5
           ],
           "y": [
            0,
            0.010000000000000002,
            0.04000000000000001,
            0.09000000000000002,
            0.16000000000000003,
            0.25
           ]
          }
         ]
        },
        {
         "data": [
          {
           "type": "scatter",
           "x": [
            0,
            0.1,
            0.2,
            0.30000000000000004,
            0.4,
            0.5,
            0.6000000000000001
           ],
           "y": [
            0,
            0.010000000000000002,
            0.04000000000000001,
            0.09000000000000002,
            0.16000000000000003,
            0.25,
            0.3600000000000001
           ]
          }
         ]
        },
        {
         "data": [
          {
           "type": "scatter",
           "x": [
            0,
            0.1,
            0.2,
            0.30000000000000004,
            0.4,
            0.5,
            0.6000000000000001,
            0.7000000000000001
           ],
           "y": [
            0,
            0.010000000000000002,
            0.04000000000000001,
            0.09000000000000002,
            0.16000000000000003,
            0.25,
            0.3600000000000001,
            0.4900000000000001
           ]
          }
         ]
        },
        {
         "data": [
          {
           "type": "scatter",
           "x": [
            0,
            0.1,
            0.2,
            0.30000000000000004,
            0.4,
            0.5,
            0.6000000000000001,
            0.7000000000000001,
            0.8
           ],
           "y": [
            0,
            0.010000000000000002,
            0.04000000000000001,
            0.09000000000000002,
            0.16000000000000003,
            0.25,
            0.3600000000000001,
            0.4900000000000001,
            0.6400000000000001
           ]
          }
         ]
        },
        {
         "data": [
          {
           "type": "scatter",
           "x": [
            0,
            0.1,
            0.2,
            0.30000000000000004,
            0.4,
            0.5,
            0.6000000000000001,
            0.7000000000000001,
            0.8,
            0.9
           ],
           "y": [
            0,
            0.010000000000000002,
            0.04000000000000001,
            0.09000000000000002,
            0.16000000000000003,
            0.25,
            0.3600000000000001,
            0.4900000000000001,
            0.6400000000000001,
            0.81
           ]
          }
         ]
        },
        {
         "data": [
          {
           "type": "scatter",
           "x": [
            0,
            0.1,
            0.2,
            0.30000000000000004,
            0.4,
            0.5,
            0.6000000000000001,
            0.7000000000000001,
            0.8,
            0.9,
            1
           ],
           "y": [
            0,
            0.010000000000000002,
            0.04000000000000001,
            0.09000000000000002,
            0.16000000000000003,
            0.25,
            0.3600000000000001,
            0.4900000000000001,
            0.6400000000000001,
            0.81,
            1
           ]
          }
         ]
        },
        {
         "data": [
          {
           "type": "scatter",
           "x": [
            0,
            0.1,
            0.2,
            0.30000000000000004,
            0.4,
            0.5,
            0.6000000000000001,
            0.7000000000000001,
            0.8,
            0.9,
            1,
            1.1
           ],
           "y": [
            0,
            0.010000000000000002,
            0.04000000000000001,
            0.09000000000000002,
            0.16000000000000003,
            0.25,
            0.3600000000000001,
            0.4900000000000001,
            0.6400000000000001,
            0.81,
            1,
            1.2100000000000002
           ]
          }
         ]
        },
        {
         "data": [
          {
           "type": "scatter",
           "x": [
            0,
            0.1,
            0.2,
            0.30000000000000004,
            0.4,
            0.5,
            0.6000000000000001,
            0.7000000000000001,
            0.8,
            0.9,
            1,
            1.1,
            1.2000000000000002
           ],
           "y": [
            0,
            0.010000000000000002,
            0.04000000000000001,
            0.09000000000000002,
            0.16000000000000003,
            0.25,
            0.3600000000000001,
            0.4900000000000001,
            0.6400000000000001,
            0.81,
            1,
            1.2100000000000002,
            1.4400000000000004
           ]
          }
         ]
        },
        {
         "data": [
          {
           "type": "scatter",
           "x": [
            0,
            0.1,
            0.2,
            0.30000000000000004,
            0.4,
            0.5,
            0.6000000000000001,
            0.7000000000000001,
            0.8,
            0.9,
            1,
            1.1,
            1.2000000000000002,
            1.3
           ],
           "y": [
            0,
            0.010000000000000002,
            0.04000000000000001,
            0.09000000000000002,
            0.16000000000000003,
            0.25,
            0.3600000000000001,
            0.4900000000000001,
            0.6400000000000001,
            0.81,
            1,
            1.2100000000000002,
            1.4400000000000004,
            1.6900000000000002
           ]
          }
         ]
        },
        {
         "data": [
          {
           "type": "scatter",
           "x": [
            0,
            0.1,
            0.2,
            0.30000000000000004,
            0.4,
            0.5,
            0.6000000000000001,
            0.7000000000000001,
            0.8,
            0.9,
            1,
            1.1,
            1.2000000000000002,
            1.3,
            1.4000000000000001
           ],
           "y": [
            0,
            0.010000000000000002,
            0.04000000000000001,
            0.09000000000000002,
            0.16000000000000003,
            0.25,
            0.3600000000000001,
            0.4900000000000001,
            0.6400000000000001,
            0.81,
            1,
            1.2100000000000002,
            1.4400000000000004,
            1.6900000000000002,
            1.9600000000000004
           ]
          }
         ]
        },
        {
         "data": [
          {
           "type": "scatter",
           "x": [
            0,
            0.1,
            0.2,
            0.30000000000000004,
            0.4,
            0.5,
            0.6000000000000001,
            0.7000000000000001,
            0.8,
            0.9,
            1,
            1.1,
            1.2000000000000002,
            1.3,
            1.4000000000000001,
            1.5
           ],
           "y": [
            0,
            0.010000000000000002,
            0.04000000000000001,
            0.09000000000000002,
            0.16000000000000003,
            0.25,
            0.3600000000000001,
            0.4900000000000001,
            0.6400000000000001,
            0.81,
            1,
            1.2100000000000002,
            1.4400000000000004,
            1.6900000000000002,
            1.9600000000000004,
            2.25
           ]
          }
         ]
        },
        {
         "data": [
          {
           "type": "scatter",
           "x": [
            0,
            0.1,
            0.2,
            0.30000000000000004,
            0.4,
            0.5,
            0.6000000000000001,
            0.7000000000000001,
            0.8,
            0.9,
            1,
            1.1,
            1.2000000000000002,
            1.3,
            1.4000000000000001,
            1.5,
            1.6
           ],
           "y": [
            0,
            0.010000000000000002,
            0.04000000000000001,
            0.09000000000000002,
            0.16000000000000003,
            0.25,
            0.3600000000000001,
            0.4900000000000001,
            0.6400000000000001,
            0.81,
            1,
            1.2100000000000002,
            1.4400000000000004,
            1.6900000000000002,
            1.9600000000000004,
            2.25,
            2.5600000000000005
           ]
          }
         ]
        },
        {
         "data": [
          {
           "type": "scatter",
           "x": [
            0,
            0.1,
            0.2,
            0.30000000000000004,
            0.4,
            0.5,
            0.6000000000000001,
            0.7000000000000001,
            0.8,
            0.9,
            1,
            1.1,
            1.2000000000000002,
            1.3,
            1.4000000000000001,
            1.5,
            1.6,
            1.7000000000000002
           ],
           "y": [
            0,
            0.010000000000000002,
            0.04000000000000001,
            0.09000000000000002,
            0.16000000000000003,
            0.25,
            0.3600000000000001,
            0.4900000000000001,
            0.6400000000000001,
            0.81,
            1,
            1.2100000000000002,
            1.4400000000000004,
            1.6900000000000002,
            1.9600000000000004,
            2.25,
            2.5600000000000005,
            2.8900000000000006
           ]
          }
         ]
        },
        {
         "data": [
          {
           "type": "scatter",
           "x": [
            0,
            0.1,
            0.2,
            0.30000000000000004,
            0.4,
            0.5,
            0.6000000000000001,
            0.7000000000000001,
            0.8,
            0.9,
            1,
            1.1,
            1.2000000000000002,
            1.3,
            1.4000000000000001,
            1.5,
            1.6,
            1.7000000000000002,
            1.8
           ],
           "y": [
            0,
            0.010000000000000002,
            0.04000000000000001,
            0.09000000000000002,
            0.16000000000000003,
            0.25,
            0.3600000000000001,
            0.4900000000000001,
            0.6400000000000001,
            0.81,
            1,
            1.2100000000000002,
            1.4400000000000004,
            1.6900000000000002,
            1.9600000000000004,
            2.25,
            2.5600000000000005,
            2.8900000000000006,
            3.24
           ]
          }
         ]
        },
        {
         "data": [
          {
           "type": "scatter",
           "x": [
            0,
            0.1,
            0.2,
            0.30000000000000004,
            0.4,
            0.5,
            0.6000000000000001,
            0.7000000000000001,
            0.8,
            0.9,
            1,
            1.1,
            1.2000000000000002,
            1.3,
            1.4000000000000001,
            1.5,
            1.6,
            1.7000000000000002,
            1.8,
            1.9000000000000001
           ],
           "y": [
            0,
            0.010000000000000002,
            0.04000000000000001,
            0.09000000000000002,
            0.16000000000000003,
            0.25,
            0.3600000000000001,
            0.4900000000000001,
            0.6400000000000001,
            0.81,
            1,
            1.2100000000000002,
            1.4400000000000004,
            1.6900000000000002,
            1.9600000000000004,
            2.25,
            2.5600000000000005,
            2.8900000000000006,
            3.24,
            3.6100000000000003
           ]
          }
         ]
        },
        {
         "data": [
          {
           "type": "scatter",
           "x": [
            0,
            0.1,
            0.2,
            0.30000000000000004,
            0.4,
            0.5,
            0.6000000000000001,
            0.7000000000000001,
            0.8,
            0.9,
            1,
            1.1,
            1.2000000000000002,
            1.3,
            1.4000000000000001,
            1.5,
            1.6,
            1.7000000000000002,
            1.8,
            1.9000000000000001,
            2
           ],
           "y": [
            0,
            0.010000000000000002,
            0.04000000000000001,
            0.09000000000000002,
            0.16000000000000003,
            0.25,
            0.3600000000000001,
            0.4900000000000001,
            0.6400000000000001,
            0.81,
            1,
            1.2100000000000002,
            1.4400000000000004,
            1.6900000000000002,
            1.9600000000000004,
            2.25,
            2.5600000000000005,
            2.8900000000000006,
            3.24,
            3.6100000000000003,
            4
           ]
          }
         ]
        },
        {
         "data": [
          {
           "type": "scatter",
           "x": [
            0,
            0.1,
            0.2,
            0.30000000000000004,
            0.4,
            0.5,
            0.6000000000000001,
            0.7000000000000001,
            0.8,
            0.9,
            1,
            1.1,
            1.2000000000000002,
            1.3,
            1.4000000000000001,
            1.5,
            1.6,
            1.7000000000000002,
            1.8,
            1.9000000000000001,
            2,
            2.1
           ],
           "y": [
            0,
            0.010000000000000002,
            0.04000000000000001,
            0.09000000000000002,
            0.16000000000000003,
            0.25,
            0.3600000000000001,
            0.4900000000000001,
            0.6400000000000001,
            0.81,
            1,
            1.2100000000000002,
            1.4400000000000004,
            1.6900000000000002,
            1.9600000000000004,
            2.25,
            2.5600000000000005,
            2.8900000000000006,
            3.24,
            3.6100000000000003,
            4,
            4.41
           ]
          }
         ]
        },
        {
         "data": [
          {
           "type": "scatter",
           "x": [
            0,
            0.1,
            0.2,
            0.30000000000000004,
            0.4,
            0.5,
            0.6000000000000001,
            0.7000000000000001,
            0.8,
            0.9,
            1,
            1.1,
            1.2000000000000002,
            1.3,
            1.4000000000000001,
            1.5,
            1.6,
            1.7000000000000002,
            1.8,
            1.9000000000000001,
            2,
            2.1,
            2.2
           ],
           "y": [
            0,
            0.010000000000000002,
            0.04000000000000001,
            0.09000000000000002,
            0.16000000000000003,
            0.25,
            0.3600000000000001,
            0.4900000000000001,
            0.6400000000000001,
            0.81,
            1,
            1.2100000000000002,
            1.4400000000000004,
            1.6900000000000002,
            1.9600000000000004,
            2.25,
            2.5600000000000005,
            2.8900000000000006,
            3.24,
            3.6100000000000003,
            4,
            4.41,
            4.840000000000001
           ]
          }
         ]
        },
        {
         "data": [
          {
           "type": "scatter",
           "x": [
            0,
            0.1,
            0.2,
            0.30000000000000004,
            0.4,
            0.5,
            0.6000000000000001,
            0.7000000000000001,
            0.8,
            0.9,
            1,
            1.1,
            1.2000000000000002,
            1.3,
            1.4000000000000001,
            1.5,
            1.6,
            1.7000000000000002,
            1.8,
            1.9000000000000001,
            2,
            2.1,
            2.2,
            2.3000000000000003
           ],
           "y": [
            0,
            0.010000000000000002,
            0.04000000000000001,
            0.09000000000000002,
            0.16000000000000003,
            0.25,
            0.3600000000000001,
            0.4900000000000001,
            0.6400000000000001,
            0.81,
            1,
            1.2100000000000002,
            1.4400000000000004,
            1.6900000000000002,
            1.9600000000000004,
            2.25,
            2.5600000000000005,
            2.8900000000000006,
            3.24,
            3.6100000000000003,
            4,
            4.41,
            4.840000000000001,
            5.290000000000001
           ]
          }
         ]
        },
        {
         "data": [
          {
           "type": "scatter",
           "x": [
            0,
            0.1,
            0.2,
            0.30000000000000004,
            0.4,
            0.5,
            0.6000000000000001,
            0.7000000000000001,
            0.8,
            0.9,
            1,
            1.1,
            1.2000000000000002,
            1.3,
            1.4000000000000001,
            1.5,
            1.6,
            1.7000000000000002,
            1.8,
            1.9000000000000001,
            2,
            2.1,
            2.2,
            2.3000000000000003,
            2.4000000000000004
           ],
           "y": [
            0,
            0.010000000000000002,
            0.04000000000000001,
            0.09000000000000002,
            0.16000000000000003,
            0.25,
            0.3600000000000001,
            0.4900000000000001,
            0.6400000000000001,
            0.81,
            1,
            1.2100000000000002,
            1.4400000000000004,
            1.6900000000000002,
            1.9600000000000004,
            2.25,
            2.5600000000000005,
            2.8900000000000006,
            3.24,
            3.6100000000000003,
            4,
            4.41,
            4.840000000000001,
            5.290000000000001,
            5.760000000000002
           ]
          }
         ]
        },
        {
         "data": [
          {
           "type": "scatter",
           "x": [
            0,
            0.1,
            0.2,
            0.30000000000000004,
            0.4,
            0.5,
            0.6000000000000001,
            0.7000000000000001,
            0.8,
            0.9,
            1,
            1.1,
            1.2000000000000002,
            1.3,
            1.4000000000000001,
            1.5,
            1.6,
            1.7000000000000002,
            1.8,
            1.9000000000000001,
            2,
            2.1,
            2.2,
            2.3000000000000003,
            2.4000000000000004,
            2.5
           ],
           "y": [
            0,
            0.010000000000000002,
            0.04000000000000001,
            0.09000000000000002,
            0.16000000000000003,
            0.25,
            0.3600000000000001,
            0.4900000000000001,
            0.6400000000000001,
            0.81,
            1,
            1.2100000000000002,
            1.4400000000000004,
            1.6900000000000002,
            1.9600000000000004,
            2.25,
            2.5600000000000005,
            2.8900000000000006,
            3.24,
            3.6100000000000003,
            4,
            4.41,
            4.840000000000001,
            5.290000000000001,
            5.760000000000002,
            6.25
           ]
          }
         ]
        },
        {
         "data": [
          {
           "type": "scatter",
           "x": [
            0,
            0.1,
            0.2,
            0.30000000000000004,
            0.4,
            0.5,
            0.6000000000000001,
            0.7000000000000001,
            0.8,
            0.9,
            1,
            1.1,
            1.2000000000000002,
            1.3,
            1.4000000000000001,
            1.5,
            1.6,
            1.7000000000000002,
            1.8,
            1.9000000000000001,
            2,
            2.1,
            2.2,
            2.3000000000000003,
            2.4000000000000004,
            2.5,
            2.6
           ],
           "y": [
            0,
            0.010000000000000002,
            0.04000000000000001,
            0.09000000000000002,
            0.16000000000000003,
            0.25,
            0.3600000000000001,
            0.4900000000000001,
            0.6400000000000001,
            0.81,
            1,
            1.2100000000000002,
            1.4400000000000004,
            1.6900000000000002,
            1.9600000000000004,
            2.25,
            2.5600000000000005,
            2.8900000000000006,
            3.24,
            3.6100000000000003,
            4,
            4.41,
            4.840000000000001,
            5.290000000000001,
            5.760000000000002,
            6.25,
            6.760000000000001
           ]
          }
         ]
        },
        {
         "data": [
          {
           "type": "scatter",
           "x": [
            0,
            0.1,
            0.2,
            0.30000000000000004,
            0.4,
            0.5,
            0.6000000000000001,
            0.7000000000000001,
            0.8,
            0.9,
            1,
            1.1,
            1.2000000000000002,
            1.3,
            1.4000000000000001,
            1.5,
            1.6,
            1.7000000000000002,
            1.8,
            1.9000000000000001,
            2,
            2.1,
            2.2,
            2.3000000000000003,
            2.4000000000000004,
            2.5,
            2.6,
            2.7
           ],
           "y": [
            0,
            0.010000000000000002,
            0.04000000000000001,
            0.09000000000000002,
            0.16000000000000003,
            0.25,
            0.3600000000000001,
            0.4900000000000001,
            0.6400000000000001,
            0.81,
            1,
            1.2100000000000002,
            1.4400000000000004,
            1.6900000000000002,
            1.9600000000000004,
            2.25,
            2.5600000000000005,
            2.8900000000000006,
            3.24,
            3.6100000000000003,
            4,
            4.41,
            4.840000000000001,
            5.290000000000001,
            5.760000000000002,
            6.25,
            6.760000000000001,
            7.290000000000001
           ]
          }
         ]
        },
        {
         "data": [
          {
           "type": "scatter",
           "x": [
            0,
            0.1,
            0.2,
            0.30000000000000004,
            0.4,
            0.5,
            0.6000000000000001,
            0.7000000000000001,
            0.8,
            0.9,
            1,
            1.1,
            1.2000000000000002,
            1.3,
            1.4000000000000001,
            1.5,
            1.6,
            1.7000000000000002,
            1.8,
            1.9000000000000001,
            2,
            2.1,
            2.2,
            2.3000000000000003,
            2.4000000000000004,
            2.5,
            2.6,
            2.7,
            2.8000000000000003
           ],
           "y": [
            0,
            0.010000000000000002,
            0.04000000000000001,
            0.09000000000000002,
            0.16000000000000003,
            0.25,
            0.3600000000000001,
            0.4900000000000001,
            0.6400000000000001,
            0.81,
            1,
            1.2100000000000002,
            1.4400000000000004,
            1.6900000000000002,
            1.9600000000000004,
            2.25,
            2.5600000000000005,
            2.8900000000000006,
            3.24,
            3.6100000000000003,
            4,
            4.41,
            4.840000000000001,
            5.290000000000001,
            5.760000000000002,
            6.25,
            6.760000000000001,
            7.290000000000001,
            7.840000000000002
           ]
          }
         ]
        },
        {
         "data": [
          {
           "type": "scatter",
           "x": [
            0,
            0.1,
            0.2,
            0.30000000000000004,
            0.4,
            0.5,
            0.6000000000000001,
            0.7000000000000001,
            0.8,
            0.9,
            1,
            1.1,
            1.2000000000000002,
            1.3,
            1.4000000000000001,
            1.5,
            1.6,
            1.7000000000000002,
            1.8,
            1.9000000000000001,
            2,
            2.1,
            2.2,
            2.3000000000000003,
            2.4000000000000004,
            2.5,
            2.6,
            2.7,
            2.8000000000000003,
            2.9000000000000004
           ],
           "y": [
            0,
            0.010000000000000002,
            0.04000000000000001,
            0.09000000000000002,
            0.16000000000000003,
            0.25,
            0.3600000000000001,
            0.4900000000000001,
            0.6400000000000001,
            0.81,
            1,
            1.2100000000000002,
            1.4400000000000004,
            1.6900000000000002,
            1.9600000000000004,
            2.25,
            2.5600000000000005,
            2.8900000000000006,
            3.24,
            3.6100000000000003,
            4,
            4.41,
            4.840000000000001,
            5.290000000000001,
            5.760000000000002,
            6.25,
            6.760000000000001,
            7.290000000000001,
            7.840000000000002,
            8.410000000000002
           ]
          }
         ]
        },
        {
         "data": [
          {
           "type": "scatter",
           "x": [
            0,
            0.1,
            0.2,
            0.30000000000000004,
            0.4,
            0.5,
            0.6000000000000001,
            0.7000000000000001,
            0.8,
            0.9,
            1,
            1.1,
            1.2000000000000002,
            1.3,
            1.4000000000000001,
            1.5,
            1.6,
            1.7000000000000002,
            1.8,
            1.9000000000000001,
            2,
            2.1,
            2.2,
            2.3000000000000003,
            2.4000000000000004,
            2.5,
            2.6,
            2.7,
            2.8000000000000003,
            2.9000000000000004,
            3
           ],
           "y": [
            0,
            0.010000000000000002,
            0.04000000000000001,
            0.09000000000000002,
            0.16000000000000003,
            0.25,
            0.3600000000000001,
            0.4900000000000001,
            0.6400000000000001,
            0.81,
            1,
            1.2100000000000002,
            1.4400000000000004,
            1.6900000000000002,
            1.9600000000000004,
            2.25,
            2.5600000000000005,
            2.8900000000000006,
            3.24,
            3.6100000000000003,
            4,
            4.41,
            4.840000000000001,
            5.290000000000001,
            5.760000000000002,
            6.25,
            6.760000000000001,
            7.290000000000001,
            7.840000000000002,
            8.410000000000002,
            9
           ]
          }
         ]
        },
        {
         "data": [
          {
           "type": "scatter",
           "x": [
            0,
            0.1,
            0.2,
            0.30000000000000004,
            0.4,
            0.5,
            0.6000000000000001,
            0.7000000000000001,
            0.8,
            0.9,
            1,
            1.1,
            1.2000000000000002,
            1.3,
            1.4000000000000001,
            1.5,
            1.6,
            1.7000000000000002,
            1.8,
            1.9000000000000001,
            2,
            2.1,
            2.2,
            2.3000000000000003,
            2.4000000000000004,
            2.5,
            2.6,
            2.7,
            2.8000000000000003,
            2.9000000000000004,
            3,
            3.1
           ],
           "y": [
            0,
            0.010000000000000002,
            0.04000000000000001,
            0.09000000000000002,
            0.16000000000000003,
            0.25,
            0.3600000000000001,
            0.4900000000000001,
            0.6400000000000001,
            0.81,
            1,
            1.2100000000000002,
            1.4400000000000004,
            1.6900000000000002,
            1.9600000000000004,
            2.25,
            2.5600000000000005,
            2.8900000000000006,
            3.24,
            3.6100000000000003,
            4,
            4.41,
            4.840000000000001,
            5.290000000000001,
            5.760000000000002,
            6.25,
            6.760000000000001,
            7.290000000000001,
            7.840000000000002,
            8.410000000000002,
            9,
            9.610000000000001
           ]
          }
         ]
        },
        {
         "data": [
          {
           "type": "scatter",
           "x": [
            0,
            0.1,
            0.2,
            0.30000000000000004,
            0.4,
            0.5,
            0.6000000000000001,
            0.7000000000000001,
            0.8,
            0.9,
            1,
            1.1,
            1.2000000000000002,
            1.3,
            1.4000000000000001,
            1.5,
            1.6,
            1.7000000000000002,
            1.8,
            1.9000000000000001,
            2,
            2.1,
            2.2,
            2.3000000000000003,
            2.4000000000000004,
            2.5,
            2.6,
            2.7,
            2.8000000000000003,
            2.9000000000000004,
            3,
            3.1,
            3.2
           ],
           "y": [
            0,
            0.010000000000000002,
            0.04000000000000001,
            0.09000000000000002,
            0.16000000000000003,
            0.25,
            0.3600000000000001,
            0.4900000000000001,
            0.6400000000000001,
            0.81,
            1,
            1.2100000000000002,
            1.4400000000000004,
            1.6900000000000002,
            1.9600000000000004,
            2.25,
            2.5600000000000005,
            2.8900000000000006,
            3.24,
            3.6100000000000003,
            4,
            4.41,
            4.840000000000001,
            5.290000000000001,
            5.760000000000002,
            6.25,
            6.760000000000001,
            7.290000000000001,
            7.840000000000002,
            8.410000000000002,
            9,
            9.610000000000001,
            10.240000000000002
           ]
          }
         ]
        },
        {
         "data": [
          {
           "type": "scatter",
           "x": [
            0,
            0.1,
            0.2,
            0.30000000000000004,
            0.4,
            0.5,
            0.6000000000000001,
            0.7000000000000001,
            0.8,
            0.9,
            1,
            1.1,
            1.2000000000000002,
            1.3,
            1.4000000000000001,
            1.5,
            1.6,
            1.7000000000000002,
            1.8,
            1.9000000000000001,
            2,
            2.1,
            2.2,
            2.3000000000000003,
            2.4000000000000004,
            2.5,
            2.6,
            2.7,
            2.8000000000000003,
            2.9000000000000004,
            3,
            3.1,
            3.2,
            3.3000000000000003
           ],
           "y": [
            0,
            0.010000000000000002,
            0.04000000000000001,
            0.09000000000000002,
            0.16000000000000003,
            0.25,
            0.3600000000000001,
            0.4900000000000001,
            0.6400000000000001,
            0.81,
            1,
            1.2100000000000002,
            1.4400000000000004,
            1.6900000000000002,
            1.9600000000000004,
            2.25,
            2.5600000000000005,
            2.8900000000000006,
            3.24,
            3.6100000000000003,
            4,
            4.41,
            4.840000000000001,
            5.290000000000001,
            5.760000000000002,
            6.25,
            6.760000000000001,
            7.290000000000001,
            7.840000000000002,
            8.410000000000002,
            9,
            9.610000000000001,
            10.240000000000002,
            10.890000000000002
           ]
          }
         ]
        },
        {
         "data": [
          {
           "type": "scatter",
           "x": [
            0,
            0.1,
            0.2,
            0.30000000000000004,
            0.4,
            0.5,
            0.6000000000000001,
            0.7000000000000001,
            0.8,
            0.9,
            1,
            1.1,
            1.2000000000000002,
            1.3,
            1.4000000000000001,
            1.5,
            1.6,
            1.7000000000000002,
            1.8,
            1.9000000000000001,
            2,
            2.1,
            2.2,
            2.3000000000000003,
            2.4000000000000004,
            2.5,
            2.6,
            2.7,
            2.8000000000000003,
            2.9000000000000004,
            3,
            3.1,
            3.2,
            3.3000000000000003,
            3.4000000000000004
           ],
           "y": [
            0,
            0.010000000000000002,
            0.04000000000000001,
            0.09000000000000002,
            0.16000000000000003,
            0.25,
            0.3600000000000001,
            0.4900000000000001,
            0.6400000000000001,
            0.81,
            1,
            1.2100000000000002,
            1.4400000000000004,
            1.6900000000000002,
            1.9600000000000004,
            2.25,
            2.5600000000000005,
            2.8900000000000006,
            3.24,
            3.6100000000000003,
            4,
            4.41,
            4.840000000000001,
            5.290000000000001,
            5.760000000000002,
            6.25,
            6.760000000000001,
            7.290000000000001,
            7.840000000000002,
            8.410000000000002,
            9,
            9.610000000000001,
            10.240000000000002,
            10.890000000000002,
            11.560000000000002
           ]
          }
         ]
        },
        {
         "data": [
          {
           "type": "scatter",
           "x": [
            0,
            0.1,
            0.2,
            0.30000000000000004,
            0.4,
            0.5,
            0.6000000000000001,
            0.7000000000000001,
            0.8,
            0.9,
            1,
            1.1,
            1.2000000000000002,
            1.3,
            1.4000000000000001,
            1.5,
            1.6,
            1.7000000000000002,
            1.8,
            1.9000000000000001,
            2,
            2.1,
            2.2,
            2.3000000000000003,
            2.4000000000000004,
            2.5,
            2.6,
            2.7,
            2.8000000000000003,
            2.9000000000000004,
            3,
            3.1,
            3.2,
            3.3000000000000003,
            3.4000000000000004,
            3.5
           ],
           "y": [
            0,
            0.010000000000000002,
            0.04000000000000001,
            0.09000000000000002,
            0.16000000000000003,
            0.25,
            0.3600000000000001,
            0.4900000000000001,
            0.6400000000000001,
            0.81,
            1,
            1.2100000000000002,
            1.4400000000000004,
            1.6900000000000002,
            1.9600000000000004,
            2.25,
            2.5600000000000005,
            2.8900000000000006,
            3.24,
            3.6100000000000003,
            4,
            4.41,
            4.840000000000001,
            5.290000000000001,
            5.760000000000002,
            6.25,
            6.760000000000001,
            7.290000000000001,
            7.840000000000002,
            8.410000000000002,
            9,
            9.610000000000001,
            10.240000000000002,
            10.890000000000002,
            11.560000000000002,
            12.25
           ]
          }
         ]
        },
        {
         "data": [
          {
           "type": "scatter",
           "x": [
            0,
            0.1,
            0.2,
            0.30000000000000004,
            0.4,
            0.5,
            0.6000000000000001,
            0.7000000000000001,
            0.8,
            0.9,
            1,
            1.1,
            1.2000000000000002,
            1.3,
            1.4000000000000001,
            1.5,
            1.6,
            1.7000000000000002,
            1.8,
            1.9000000000000001,
            2,
            2.1,
            2.2,
            2.3000000000000003,
            2.4000000000000004,
            2.5,
            2.6,
            2.7,
            2.8000000000000003,
            2.9000000000000004,
            3,
            3.1,
            3.2,
            3.3000000000000003,
            3.4000000000000004,
            3.5,
            3.6
           ],
           "y": [
            0,
            0.010000000000000002,
            0.04000000000000001,
            0.09000000000000002,
            0.16000000000000003,
            0.25,
            0.3600000000000001,
            0.4900000000000001,
            0.6400000000000001,
            0.81,
            1,
            1.2100000000000002,
            1.4400000000000004,
            1.6900000000000002,
            1.9600000000000004,
            2.25,
            2.5600000000000005,
            2.8900000000000006,
            3.24,
            3.6100000000000003,
            4,
            4.41,
            4.840000000000001,
            5.290000000000001,
            5.760000000000002,
            6.25,
            6.760000000000001,
            7.290000000000001,
            7.840000000000002,
            8.410000000000002,
            9,
            9.610000000000001,
            10.240000000000002,
            10.890000000000002,
            11.560000000000002,
            12.25,
            12.96
           ]
          }
         ]
        },
        {
         "data": [
          {
           "type": "scatter",
           "x": [
            0,
            0.1,
            0.2,
            0.30000000000000004,
            0.4,
            0.5,
            0.6000000000000001,
            0.7000000000000001,
            0.8,
            0.9,
            1,
            1.1,
            1.2000000000000002,
            1.3,
            1.4000000000000001,
            1.5,
            1.6,
            1.7000000000000002,
            1.8,
            1.9000000000000001,
            2,
            2.1,
            2.2,
            2.3000000000000003,
            2.4000000000000004,
            2.5,
            2.6,
            2.7,
            2.8000000000000003,
            2.9000000000000004,
            3,
            3.1,
            3.2,
            3.3000000000000003,
            3.4000000000000004,
            3.5,
            3.6,
            3.7
           ],
           "y": [
            0,
            0.010000000000000002,
            0.04000000000000001,
            0.09000000000000002,
            0.16000000000000003,
            0.25,
            0.3600000000000001,
            0.4900000000000001,
            0.6400000000000001,
            0.81,
            1,
            1.2100000000000002,
            1.4400000000000004,
            1.6900000000000002,
            1.9600000000000004,
            2.25,
            2.5600000000000005,
            2.8900000000000006,
            3.24,
            3.6100000000000003,
            4,
            4.41,
            4.840000000000001,
            5.290000000000001,
            5.760000000000002,
            6.25,
            6.760000000000001,
            7.290000000000001,
            7.840000000000002,
            8.410000000000002,
            9,
            9.610000000000001,
            10.240000000000002,
            10.890000000000002,
            11.560000000000002,
            12.25,
            12.96,
            13.690000000000001
           ]
          }
         ]
        },
        {
         "data": [
          {
           "type": "scatter",
           "x": [
            0,
            0.1,
            0.2,
            0.30000000000000004,
            0.4,
            0.5,
            0.6000000000000001,
            0.7000000000000001,
            0.8,
            0.9,
            1,
            1.1,
            1.2000000000000002,
            1.3,
            1.4000000000000001,
            1.5,
            1.6,
            1.7000000000000002,
            1.8,
            1.9000000000000001,
            2,
            2.1,
            2.2,
            2.3000000000000003,
            2.4000000000000004,
            2.5,
            2.6,
            2.7,
            2.8000000000000003,
            2.9000000000000004,
            3,
            3.1,
            3.2,
            3.3000000000000003,
            3.4000000000000004,
            3.5,
            3.6,
            3.7,
            3.8000000000000003
           ],
           "y": [
            0,
            0.010000000000000002,
            0.04000000000000001,
            0.09000000000000002,
            0.16000000000000003,
            0.25,
            0.3600000000000001,
            0.4900000000000001,
            0.6400000000000001,
            0.81,
            1,
            1.2100000000000002,
            1.4400000000000004,
            1.6900000000000002,
            1.9600000000000004,
            2.25,
            2.5600000000000005,
            2.8900000000000006,
            3.24,
            3.6100000000000003,
            4,
            4.41,
            4.840000000000001,
            5.290000000000001,
            5.760000000000002,
            6.25,
            6.760000000000001,
            7.290000000000001,
            7.840000000000002,
            8.410000000000002,
            9,
            9.610000000000001,
            10.240000000000002,
            10.890000000000002,
            11.560000000000002,
            12.25,
            12.96,
            13.690000000000001,
            14.440000000000001
           ]
          }
         ]
        },
        {
         "data": [
          {
           "type": "scatter",
           "x": [
            0,
            0.1,
            0.2,
            0.30000000000000004,
            0.4,
            0.5,
            0.6000000000000001,
            0.7000000000000001,
            0.8,
            0.9,
            1,
            1.1,
            1.2000000000000002,
            1.3,
            1.4000000000000001,
            1.5,
            1.6,
            1.7000000000000002,
            1.8,
            1.9000000000000001,
            2,
            2.1,
            2.2,
            2.3000000000000003,
            2.4000000000000004,
            2.5,
            2.6,
            2.7,
            2.8000000000000003,
            2.9000000000000004,
            3,
            3.1,
            3.2,
            3.3000000000000003,
            3.4000000000000004,
            3.5,
            3.6,
            3.7,
            3.8000000000000003,
            3.9000000000000004
           ],
           "y": [
            0,
            0.010000000000000002,
            0.04000000000000001,
            0.09000000000000002,
            0.16000000000000003,
            0.25,
            0.3600000000000001,
            0.4900000000000001,
            0.6400000000000001,
            0.81,
            1,
            1.2100000000000002,
            1.4400000000000004,
            1.6900000000000002,
            1.9600000000000004,
            2.25,
            2.5600000000000005,
            2.8900000000000006,
            3.24,
            3.6100000000000003,
            4,
            4.41,
            4.840000000000001,
            5.290000000000001,
            5.760000000000002,
            6.25,
            6.760000000000001,
            7.290000000000001,
            7.840000000000002,
            8.410000000000002,
            9,
            9.610000000000001,
            10.240000000000002,
            10.890000000000002,
            11.560000000000002,
            12.25,
            12.96,
            13.690000000000001,
            14.440000000000001,
            15.210000000000003
           ]
          }
         ]
        },
        {
         "data": [
          {
           "type": "scatter",
           "x": [
            0,
            0.1,
            0.2,
            0.30000000000000004,
            0.4,
            0.5,
            0.6000000000000001,
            0.7000000000000001,
            0.8,
            0.9,
            1,
            1.1,
            1.2000000000000002,
            1.3,
            1.4000000000000001,
            1.5,
            1.6,
            1.7000000000000002,
            1.8,
            1.9000000000000001,
            2,
            2.1,
            2.2,
            2.3000000000000003,
            2.4000000000000004,
            2.5,
            2.6,
            2.7,
            2.8000000000000003,
            2.9000000000000004,
            3,
            3.1,
            3.2,
            3.3000000000000003,
            3.4000000000000004,
            3.5,
            3.6,
            3.7,
            3.8000000000000003,
            3.9000000000000004,
            4
           ],
           "y": [
            0,
            0.010000000000000002,
            0.04000000000000001,
            0.09000000000000002,
            0.16000000000000003,
            0.25,
            0.3600000000000001,
            0.4900000000000001,
            0.6400000000000001,
            0.81,
            1,
            1.2100000000000002,
            1.4400000000000004,
            1.6900000000000002,
            1.9600000000000004,
            2.25,
            2.5600000000000005,
            2.8900000000000006,
            3.24,
            3.6100000000000003,
            4,
            4.41,
            4.840000000000001,
            5.290000000000001,
            5.760000000000002,
            6.25,
            6.760000000000001,
            7.290000000000001,
            7.840000000000002,
            8.410000000000002,
            9,
            9.610000000000001,
            10.240000000000002,
            10.890000000000002,
            11.560000000000002,
            12.25,
            12.96,
            13.690000000000001,
            14.440000000000001,
            15.210000000000003,
            16
           ]
          }
         ]
        },
        {
         "data": [
          {
           "type": "scatter",
           "x": [
            0,
            0.1,
            0.2,
            0.30000000000000004,
            0.4,
            0.5,
            0.6000000000000001,
            0.7000000000000001,
            0.8,
            0.9,
            1,
            1.1,
            1.2000000000000002,
            1.3,
            1.4000000000000001,
            1.5,
            1.6,
            1.7000000000000002,
            1.8,
            1.9000000000000001,
            2,
            2.1,
            2.2,
            2.3000000000000003,
            2.4000000000000004,
            2.5,
            2.6,
            2.7,
            2.8000000000000003,
            2.9000000000000004,
            3,
            3.1,
            3.2,
            3.3000000000000003,
            3.4000000000000004,
            3.5,
            3.6,
            3.7,
            3.8000000000000003,
            3.9000000000000004,
            4,
            4.1000000000000005
           ],
           "y": [
            0,
            0.010000000000000002,
            0.04000000000000001,
            0.09000000000000002,
            0.16000000000000003,
            0.25,
            0.3600000000000001,
            0.4900000000000001,
            0.6400000000000001,
            0.81,
            1,
            1.2100000000000002,
            1.4400000000000004,
            1.6900000000000002,
            1.9600000000000004,
            2.25,
            2.5600000000000005,
            2.8900000000000006,
            3.24,
            3.6100000000000003,
            4,
            4.41,
            4.840000000000001,
            5.290000000000001,
            5.760000000000002,
            6.25,
            6.760000000000001,
            7.290000000000001,
            7.840000000000002,
            8.410000000000002,
            9,
            9.610000000000001,
            10.240000000000002,
            10.890000000000002,
            11.560000000000002,
            12.25,
            12.96,
            13.690000000000001,
            14.440000000000001,
            15.210000000000003,
            16,
            16.810000000000006
           ]
          }
         ]
        },
        {
         "data": [
          {
           "type": "scatter",
           "x": [
            0,
            0.1,
            0.2,
            0.30000000000000004,
            0.4,
            0.5,
            0.6000000000000001,
            0.7000000000000001,
            0.8,
            0.9,
            1,
            1.1,
            1.2000000000000002,
            1.3,
            1.4000000000000001,
            1.5,
            1.6,
            1.7000000000000002,
            1.8,
            1.9000000000000001,
            2,
            2.1,
            2.2,
            2.3000000000000003,
            2.4000000000000004,
            2.5,
            2.6,
            2.7,
            2.8000000000000003,
            2.9000000000000004,
            3,
            3.1,
            3.2,
            3.3000000000000003,
            3.4000000000000004,
            3.5,
            3.6,
            3.7,
            3.8000000000000003,
            3.9000000000000004,
            4,
            4.1000000000000005,
            4.2
           ],
           "y": [
            0,
            0.010000000000000002,
            0.04000000000000001,
            0.09000000000000002,
            0.16000000000000003,
            0.25,
            0.3600000000000001,
            0.4900000000000001,
            0.6400000000000001,
            0.81,
            1,
            1.2100000000000002,
            1.4400000000000004,
            1.6900000000000002,
            1.9600000000000004,
            2.25,
            2.5600000000000005,
            2.8900000000000006,
            3.24,
            3.6100000000000003,
            4,
            4.41,
            4.840000000000001,
            5.290000000000001,
            5.760000000000002,
            6.25,
            6.760000000000001,
            7.290000000000001,
            7.840000000000002,
            8.410000000000002,
            9,
            9.610000000000001,
            10.240000000000002,
            10.890000000000002,
            11.560000000000002,
            12.25,
            12.96,
            13.690000000000001,
            14.440000000000001,
            15.210000000000003,
            16,
            16.810000000000006,
            17.64
           ]
          }
         ]
        },
        {
         "data": [
          {
           "type": "scatter",
           "x": [
            0,
            0.1,
            0.2,
            0.30000000000000004,
            0.4,
            0.5,
            0.6000000000000001,
            0.7000000000000001,
            0.8,
            0.9,
            1,
            1.1,
            1.2000000000000002,
            1.3,
            1.4000000000000001,
            1.5,
            1.6,
            1.7000000000000002,
            1.8,
            1.9000000000000001,
            2,
            2.1,
            2.2,
            2.3000000000000003,
            2.4000000000000004,
            2.5,
            2.6,
            2.7,
            2.8000000000000003,
            2.9000000000000004,
            3,
            3.1,
            3.2,
            3.3000000000000003,
            3.4000000000000004,
            3.5,
            3.6,
            3.7,
            3.8000000000000003,
            3.9000000000000004,
            4,
            4.1000000000000005,
            4.2,
            4.3
           ],
           "y": [
            0,
            0.010000000000000002,
            0.04000000000000001,
            0.09000000000000002,
            0.16000000000000003,
            0.25,
            0.3600000000000001,
            0.4900000000000001,
            0.6400000000000001,
            0.81,
            1,
            1.2100000000000002,
            1.4400000000000004,
            1.6900000000000002,
            1.9600000000000004,
            2.25,
            2.5600000000000005,
            2.8900000000000006,
            3.24,
            3.6100000000000003,
            4,
            4.41,
            4.840000000000001,
            5.290000000000001,
            5.760000000000002,
            6.25,
            6.760000000000001,
            7.290000000000001,
            7.840000000000002,
            8.410000000000002,
            9,
            9.610000000000001,
            10.240000000000002,
            10.890000000000002,
            11.560000000000002,
            12.25,
            12.96,
            13.690000000000001,
            14.440000000000001,
            15.210000000000003,
            16,
            16.810000000000006,
            17.64,
            18.49
           ]
          }
         ]
        },
        {
         "data": [
          {
           "type": "scatter",
           "x": [
            0,
            0.1,
            0.2,
            0.30000000000000004,
            0.4,
            0.5,
            0.6000000000000001,
            0.7000000000000001,
            0.8,
            0.9,
            1,
            1.1,
            1.2000000000000002,
            1.3,
            1.4000000000000001,
            1.5,
            1.6,
            1.7000000000000002,
            1.8,
            1.9000000000000001,
            2,
            2.1,
            2.2,
            2.3000000000000003,
            2.4000000000000004,
            2.5,
            2.6,
            2.7,
            2.8000000000000003,
            2.9000000000000004,
            3,
            3.1,
            3.2,
            3.3000000000000003,
            3.4000000000000004,
            3.5,
            3.6,
            3.7,
            3.8000000000000003,
            3.9000000000000004,
            4,
            4.1000000000000005,
            4.2,
            4.3,
            4.4
           ],
           "y": [
            0,
            0.010000000000000002,
            0.04000000000000001,
            0.09000000000000002,
            0.16000000000000003,
            0.25,
            0.3600000000000001,
            0.4900000000000001,
            0.6400000000000001,
            0.81,
            1,
            1.2100000000000002,
            1.4400000000000004,
            1.6900000000000002,
            1.9600000000000004,
            2.25,
            2.5600000000000005,
            2.8900000000000006,
            3.24,
            3.6100000000000003,
            4,
            4.41,
            4.840000000000001,
            5.290000000000001,
            5.760000000000002,
            6.25,
            6.760000000000001,
            7.290000000000001,
            7.840000000000002,
            8.410000000000002,
            9,
            9.610000000000001,
            10.240000000000002,
            10.890000000000002,
            11.560000000000002,
            12.25,
            12.96,
            13.690000000000001,
            14.440000000000001,
            15.210000000000003,
            16,
            16.810000000000006,
            17.64,
            18.49,
            19.360000000000003
           ]
          }
         ]
        },
        {
         "data": [
          {
           "type": "scatter",
           "x": [
            0,
            0.1,
            0.2,
            0.30000000000000004,
            0.4,
            0.5,
            0.6000000000000001,
            0.7000000000000001,
            0.8,
            0.9,
            1,
            1.1,
            1.2000000000000002,
            1.3,
            1.4000000000000001,
            1.5,
            1.6,
            1.7000000000000002,
            1.8,
            1.9000000000000001,
            2,
            2.1,
            2.2,
            2.3000000000000003,
            2.4000000000000004,
            2.5,
            2.6,
            2.7,
            2.8000000000000003,
            2.9000000000000004,
            3,
            3.1,
            3.2,
            3.3000000000000003,
            3.4000000000000004,
            3.5,
            3.6,
            3.7,
            3.8000000000000003,
            3.9000000000000004,
            4,
            4.1000000000000005,
            4.2,
            4.3,
            4.4,
            4.5
           ],
           "y": [
            0,
            0.010000000000000002,
            0.04000000000000001,
            0.09000000000000002,
            0.16000000000000003,
            0.25,
            0.3600000000000001,
            0.4900000000000001,
            0.6400000000000001,
            0.81,
            1,
            1.2100000000000002,
            1.4400000000000004,
            1.6900000000000002,
            1.9600000000000004,
            2.25,
            2.5600000000000005,
            2.8900000000000006,
            3.24,
            3.6100000000000003,
            4,
            4.41,
            4.840000000000001,
            5.290000000000001,
            5.760000000000002,
            6.25,
            6.760000000000001,
            7.290000000000001,
            7.840000000000002,
            8.410000000000002,
            9,
            9.610000000000001,
            10.240000000000002,
            10.890000000000002,
            11.560000000000002,
            12.25,
            12.96,
            13.690000000000001,
            14.440000000000001,
            15.210000000000003,
            16,
            16.810000000000006,
            17.64,
            18.49,
            19.360000000000003,
            20.25
           ]
          }
         ]
        },
        {
         "data": [
          {
           "type": "scatter",
           "x": [
            0,
            0.1,
            0.2,
            0.30000000000000004,
            0.4,
            0.5,
            0.6000000000000001,
            0.7000000000000001,
            0.8,
            0.9,
            1,
            1.1,
            1.2000000000000002,
            1.3,
            1.4000000000000001,
            1.5,
            1.6,
            1.7000000000000002,
            1.8,
            1.9000000000000001,
            2,
            2.1,
            2.2,
            2.3000000000000003,
            2.4000000000000004,
            2.5,
            2.6,
            2.7,
            2.8000000000000003,
            2.9000000000000004,
            3,
            3.1,
            3.2,
            3.3000000000000003,
            3.4000000000000004,
            3.5,
            3.6,
            3.7,
            3.8000000000000003,
            3.9000000000000004,
            4,
            4.1000000000000005,
            4.2,
            4.3,
            4.4,
            4.5,
            4.6000000000000005
           ],
           "y": [
            0,
            0.010000000000000002,
            0.04000000000000001,
            0.09000000000000002,
            0.16000000000000003,
            0.25,
            0.3600000000000001,
            0.4900000000000001,
            0.6400000000000001,
            0.81,
            1,
            1.2100000000000002,
            1.4400000000000004,
            1.6900000000000002,
            1.9600000000000004,
            2.25,
            2.5600000000000005,
            2.8900000000000006,
            3.24,
            3.6100000000000003,
            4,
            4.41,
            4.840000000000001,
            5.290000000000001,
            5.760000000000002,
            6.25,
            6.760000000000001,
            7.290000000000001,
            7.840000000000002,
            8.410000000000002,
            9,
            9.610000000000001,
            10.240000000000002,
            10.890000000000002,
            11.560000000000002,
            12.25,
            12.96,
            13.690000000000001,
            14.440000000000001,
            15.210000000000003,
            16,
            16.810000000000006,
            17.64,
            18.49,
            19.360000000000003,
            20.25,
            21.160000000000004
           ]
          }
         ]
        },
        {
         "data": [
          {
           "type": "scatter",
           "x": [
            0,
            0.1,
            0.2,
            0.30000000000000004,
            0.4,
            0.5,
            0.6000000000000001,
            0.7000000000000001,
            0.8,
            0.9,
            1,
            1.1,
            1.2000000000000002,
            1.3,
            1.4000000000000001,
            1.5,
            1.6,
            1.7000000000000002,
            1.8,
            1.9000000000000001,
            2,
            2.1,
            2.2,
            2.3000000000000003,
            2.4000000000000004,
            2.5,
            2.6,
            2.7,
            2.8000000000000003,
            2.9000000000000004,
            3,
            3.1,
            3.2,
            3.3000000000000003,
            3.4000000000000004,
            3.5,
            3.6,
            3.7,
            3.8000000000000003,
            3.9000000000000004,
            4,
            4.1000000000000005,
            4.2,
            4.3,
            4.4,
            4.5,
            4.6000000000000005,
            4.7
           ],
           "y": [
            0,
            0.010000000000000002,
            0.04000000000000001,
            0.09000000000000002,
            0.16000000000000003,
            0.25,
            0.3600000000000001,
            0.4900000000000001,
            0.6400000000000001,
            0.81,
            1,
            1.2100000000000002,
            1.4400000000000004,
            1.6900000000000002,
            1.9600000000000004,
            2.25,
            2.5600000000000005,
            2.8900000000000006,
            3.24,
            3.6100000000000003,
            4,
            4.41,
            4.840000000000001,
            5.290000000000001,
            5.760000000000002,
            6.25,
            6.760000000000001,
            7.290000000000001,
            7.840000000000002,
            8.410000000000002,
            9,
            9.610000000000001,
            10.240000000000002,
            10.890000000000002,
            11.560000000000002,
            12.25,
            12.96,
            13.690000000000001,
            14.440000000000001,
            15.210000000000003,
            16,
            16.810000000000006,
            17.64,
            18.49,
            19.360000000000003,
            20.25,
            21.160000000000004,
            22.090000000000003
           ]
          }
         ]
        },
        {
         "data": [
          {
           "type": "scatter",
           "x": [
            0,
            0.1,
            0.2,
            0.30000000000000004,
            0.4,
            0.5,
            0.6000000000000001,
            0.7000000000000001,
            0.8,
            0.9,
            1,
            1.1,
            1.2000000000000002,
            1.3,
            1.4000000000000001,
            1.5,
            1.6,
            1.7000000000000002,
            1.8,
            1.9000000000000001,
            2,
            2.1,
            2.2,
            2.3000000000000003,
            2.4000000000000004,
            2.5,
            2.6,
            2.7,
            2.8000000000000003,
            2.9000000000000004,
            3,
            3.1,
            3.2,
            3.3000000000000003,
            3.4000000000000004,
            3.5,
            3.6,
            3.7,
            3.8000000000000003,
            3.9000000000000004,
            4,
            4.1000000000000005,
            4.2,
            4.3,
            4.4,
            4.5,
            4.6000000000000005,
            4.7,
            4.800000000000001
           ],
           "y": [
            0,
            0.010000000000000002,
            0.04000000000000001,
            0.09000000000000002,
            0.16000000000000003,
            0.25,
            0.3600000000000001,
            0.4900000000000001,
            0.6400000000000001,
            0.81,
            1,
            1.2100000000000002,
            1.4400000000000004,
            1.6900000000000002,
            1.9600000000000004,
            2.25,
            2.5600000000000005,
            2.8900000000000006,
            3.24,
            3.6100000000000003,
            4,
            4.41,
            4.840000000000001,
            5.290000000000001,
            5.760000000000002,
            6.25,
            6.760000000000001,
            7.290000000000001,
            7.840000000000002,
            8.410000000000002,
            9,
            9.610000000000001,
            10.240000000000002,
            10.890000000000002,
            11.560000000000002,
            12.25,
            12.96,
            13.690000000000001,
            14.440000000000001,
            15.210000000000003,
            16,
            16.810000000000006,
            17.64,
            18.49,
            19.360000000000003,
            20.25,
            21.160000000000004,
            22.090000000000003,
            23.040000000000006
           ]
          }
         ]
        },
        {
         "data": [
          {
           "type": "scatter",
           "x": [
            0,
            0.1,
            0.2,
            0.30000000000000004,
            0.4,
            0.5,
            0.6000000000000001,
            0.7000000000000001,
            0.8,
            0.9,
            1,
            1.1,
            1.2000000000000002,
            1.3,
            1.4000000000000001,
            1.5,
            1.6,
            1.7000000000000002,
            1.8,
            1.9000000000000001,
            2,
            2.1,
            2.2,
            2.3000000000000003,
            2.4000000000000004,
            2.5,
            2.6,
            2.7,
            2.8000000000000003,
            2.9000000000000004,
            3,
            3.1,
            3.2,
            3.3000000000000003,
            3.4000000000000004,
            3.5,
            3.6,
            3.7,
            3.8000000000000003,
            3.9000000000000004,
            4,
            4.1000000000000005,
            4.2,
            4.3,
            4.4,
            4.5,
            4.6000000000000005,
            4.7,
            4.800000000000001,
            4.9
           ],
           "y": [
            0,
            0.010000000000000002,
            0.04000000000000001,
            0.09000000000000002,
            0.16000000000000003,
            0.25,
            0.3600000000000001,
            0.4900000000000001,
            0.6400000000000001,
            0.81,
            1,
            1.2100000000000002,
            1.4400000000000004,
            1.6900000000000002,
            1.9600000000000004,
            2.25,
            2.5600000000000005,
            2.8900000000000006,
            3.24,
            3.6100000000000003,
            4,
            4.41,
            4.840000000000001,
            5.290000000000001,
            5.760000000000002,
            6.25,
            6.760000000000001,
            7.290000000000001,
            7.840000000000002,
            8.410000000000002,
            9,
            9.610000000000001,
            10.240000000000002,
            10.890000000000002,
            11.560000000000002,
            12.25,
            12.96,
            13.690000000000001,
            14.440000000000001,
            15.210000000000003,
            16,
            16.810000000000006,
            17.64,
            18.49,
            19.360000000000003,
            20.25,
            21.160000000000004,
            22.090000000000003,
            23.040000000000006,
            24.010000000000005
           ]
          }
         ]
        }
       ],
       "layout": {
        "autosize": false,
        "height": 500,
        "legend": {
         "orientation": "h",
         "x": 0.5,
         "xanchor": "center"
        },
        "template": {
         "data": {
          "bar": [
           {
            "error_x": {
             "color": "#2a3f5f"
            },
            "error_y": {
             "color": "#2a3f5f"
            },
            "marker": {
             "line": {
              "color": "#E5ECF6",
              "width": 0.5
             },
             "pattern": {
              "fillmode": "overlay",
              "size": 10,
              "solidity": 0.2
             }
            },
            "type": "bar"
           }
          ],
          "barpolar": [
           {
            "marker": {
             "line": {
              "color": "#E5ECF6",
              "width": 0.5
             },
             "pattern": {
              "fillmode": "overlay",
              "size": 10,
              "solidity": 0.2
             }
            },
            "type": "barpolar"
           }
          ],
          "carpet": [
           {
            "aaxis": {
             "endlinecolor": "#2a3f5f",
             "gridcolor": "white",
             "linecolor": "white",
             "minorgridcolor": "white",
             "startlinecolor": "#2a3f5f"
            },
            "baxis": {
             "endlinecolor": "#2a3f5f",
             "gridcolor": "white",
             "linecolor": "white",
             "minorgridcolor": "white",
             "startlinecolor": "#2a3f5f"
            },
            "type": "carpet"
           }
          ],
          "choropleth": [
           {
            "colorbar": {
             "outlinewidth": 0,
             "ticks": ""
            },
            "type": "choropleth"
           }
          ],
          "contour": [
           {
            "colorbar": {
             "outlinewidth": 0,
             "ticks": ""
            },
            "colorscale": [
             [
              0,
              "#0d0887"
             ],
             [
              0.1111111111111111,
              "#46039f"
             ],
             [
              0.2222222222222222,
              "#7201a8"
             ],
             [
              0.3333333333333333,
              "#9c179e"
             ],
             [
              0.4444444444444444,
              "#bd3786"
             ],
             [
              0.5555555555555556,
              "#d8576b"
             ],
             [
              0.6666666666666666,
              "#ed7953"
             ],
             [
              0.7777777777777778,
              "#fb9f3a"
             ],
             [
              0.8888888888888888,
              "#fdca26"
             ],
             [
              1,
              "#f0f921"
             ]
            ],
            "type": "contour"
           }
          ],
          "contourcarpet": [
           {
            "colorbar": {
             "outlinewidth": 0,
             "ticks": ""
            },
            "type": "contourcarpet"
           }
          ],
          "heatmap": [
           {
            "colorbar": {
             "outlinewidth": 0,
             "ticks": ""
            },
            "colorscale": [
             [
              0,
              "#0d0887"
             ],
             [
              0.1111111111111111,
              "#46039f"
             ],
             [
              0.2222222222222222,
              "#7201a8"
             ],
             [
              0.3333333333333333,
              "#9c179e"
             ],
             [
              0.4444444444444444,
              "#bd3786"
             ],
             [
              0.5555555555555556,
              "#d8576b"
             ],
             [
              0.6666666666666666,
              "#ed7953"
             ],
             [
              0.7777777777777778,
              "#fb9f3a"
             ],
             [
              0.8888888888888888,
              "#fdca26"
             ],
             [
              1,
              "#f0f921"
             ]
            ],
            "type": "heatmap"
           }
          ],
          "heatmapgl": [
           {
            "colorbar": {
             "outlinewidth": 0,
             "ticks": ""
            },
            "colorscale": [
             [
              0,
              "#0d0887"
             ],
             [
              0.1111111111111111,
              "#46039f"
             ],
             [
              0.2222222222222222,
              "#7201a8"
             ],
             [
              0.3333333333333333,
              "#9c179e"
             ],
             [
              0.4444444444444444,
              "#bd3786"
             ],
             [
              0.5555555555555556,
              "#d8576b"
             ],
             [
              0.6666666666666666,
              "#ed7953"
             ],
             [
              0.7777777777777778,
              "#fb9f3a"
             ],
             [
              0.8888888888888888,
              "#fdca26"
             ],
             [
              1,
              "#f0f921"
             ]
            ],
            "type": "heatmapgl"
           }
          ],
          "histogram": [
           {
            "marker": {
             "pattern": {
              "fillmode": "overlay",
              "size": 10,
              "solidity": 0.2
             }
            },
            "type": "histogram"
           }
          ],
          "histogram2d": [
           {
            "colorbar": {
             "outlinewidth": 0,
             "ticks": ""
            },
            "colorscale": [
             [
              0,
              "#0d0887"
             ],
             [
              0.1111111111111111,
              "#46039f"
             ],
             [
              0.2222222222222222,
              "#7201a8"
             ],
             [
              0.3333333333333333,
              "#9c179e"
             ],
             [
              0.4444444444444444,
              "#bd3786"
             ],
             [
              0.5555555555555556,
              "#d8576b"
             ],
             [
              0.6666666666666666,
              "#ed7953"
             ],
             [
              0.7777777777777778,
              "#fb9f3a"
             ],
             [
              0.8888888888888888,
              "#fdca26"
             ],
             [
              1,
              "#f0f921"
             ]
            ],
            "type": "histogram2d"
           }
          ],
          "histogram2dcontour": [
           {
            "colorbar": {
             "outlinewidth": 0,
             "ticks": ""
            },
            "colorscale": [
             [
              0,
              "#0d0887"
             ],
             [
              0.1111111111111111,
              "#46039f"
             ],
             [
              0.2222222222222222,
              "#7201a8"
             ],
             [
              0.3333333333333333,
              "#9c179e"
             ],
             [
              0.4444444444444444,
              "#bd3786"
             ],
             [
              0.5555555555555556,
              "#d8576b"
             ],
             [
              0.6666666666666666,
              "#ed7953"
             ],
             [
              0.7777777777777778,
              "#fb9f3a"
             ],
             [
              0.8888888888888888,
              "#fdca26"
             ],
             [
              1,
              "#f0f921"
             ]
            ],
            "type": "histogram2dcontour"
           }
          ],
          "mesh3d": [
           {
            "colorbar": {
             "outlinewidth": 0,
             "ticks": ""
            },
            "type": "mesh3d"
           }
          ],
          "parcoords": [
           {
            "line": {
             "colorbar": {
              "outlinewidth": 0,
              "ticks": ""
             }
            },
            "type": "parcoords"
           }
          ],
          "pie": [
           {
            "automargin": true,
            "type": "pie"
           }
          ],
          "scatter": [
           {
            "marker": {
             "colorbar": {
              "outlinewidth": 0,
              "ticks": ""
             }
            },
            "type": "scatter"
           }
          ],
          "scatter3d": [
           {
            "line": {
             "colorbar": {
              "outlinewidth": 0,
              "ticks": ""
             }
            },
            "marker": {
             "colorbar": {
              "outlinewidth": 0,
              "ticks": ""
             }
            },
            "type": "scatter3d"
           }
          ],
          "scattercarpet": [
           {
            "marker": {
             "colorbar": {
              "outlinewidth": 0,
              "ticks": ""
             }
            },
            "type": "scattercarpet"
           }
          ],
          "scattergeo": [
           {
            "marker": {
             "colorbar": {
              "outlinewidth": 0,
              "ticks": ""
             }
            },
            "type": "scattergeo"
           }
          ],
          "scattergl": [
           {
            "marker": {
             "colorbar": {
              "outlinewidth": 0,
              "ticks": ""
             }
            },
            "type": "scattergl"
           }
          ],
          "scattermapbox": [
           {
            "marker": {
             "colorbar": {
              "outlinewidth": 0,
              "ticks": ""
             }
            },
            "type": "scattermapbox"
           }
          ],
          "scatterpolar": [
           {
            "marker": {
             "colorbar": {
              "outlinewidth": 0,
              "ticks": ""
             }
            },
            "type": "scatterpolar"
           }
          ],
          "scatterpolargl": [
           {
            "marker": {
             "colorbar": {
              "outlinewidth": 0,
              "ticks": ""
             }
            },
            "type": "scatterpolargl"
           }
          ],
          "scatterternary": [
           {
            "marker": {
             "colorbar": {
              "outlinewidth": 0,
              "ticks": ""
             }
            },
            "type": "scatterternary"
           }
          ],
          "surface": [
           {
            "colorbar": {
             "outlinewidth": 0,
             "ticks": ""
            },
            "colorscale": [
             [
              0,
              "#0d0887"
             ],
             [
              0.1111111111111111,
              "#46039f"
             ],
             [
              0.2222222222222222,
              "#7201a8"
             ],
             [
              0.3333333333333333,
              "#9c179e"
             ],
             [
              0.4444444444444444,
              "#bd3786"
             ],
             [
              0.5555555555555556,
              "#d8576b"
             ],
             [
              0.6666666666666666,
              "#ed7953"
             ],
             [
              0.7777777777777778,
              "#fb9f3a"
             ],
             [
              0.8888888888888888,
              "#fdca26"
             ],
             [
              1,
              "#f0f921"
             ]
            ],
            "type": "surface"
           }
          ],
          "table": [
           {
            "cells": {
             "fill": {
              "color": "#EBF0F8"
             },
             "line": {
              "color": "white"
             }
            },
            "header": {
             "fill": {
              "color": "#C8D4E3"
             },
             "line": {
              "color": "white"
             }
            },
            "type": "table"
           }
          ]
         },
         "layout": {
          "annotationdefaults": {
           "arrowcolor": "#2a3f5f",
           "arrowhead": 0,
           "arrowwidth": 1
          },
          "autotypenumbers": "strict",
          "coloraxis": {
           "colorbar": {
            "outlinewidth": 0,
            "ticks": ""
           }
          },
          "colorscale": {
           "diverging": [
            [
             0,
             "#8e0152"
            ],
            [
             0.1,
             "#c51b7d"
            ],
            [
             0.2,
             "#de77ae"
            ],
            [
             0.3,
             "#f1b6da"
            ],
            [
             0.4,
             "#fde0ef"
            ],
            [
             0.5,
             "#f7f7f7"
            ],
            [
             0.6,
             "#e6f5d0"
            ],
            [
             0.7,
             "#b8e186"
            ],
            [
             0.8,
             "#7fbc41"
            ],
            [
             0.9,
             "#4d9221"
            ],
            [
             1,
             "#276419"
            ]
           ],
           "sequential": [
            [
             0,
             "#0d0887"
            ],
            [
             0.1111111111111111,
             "#46039f"
            ],
            [
             0.2222222222222222,
             "#7201a8"
            ],
            [
             0.3333333333333333,
             "#9c179e"
            ],
            [
             0.4444444444444444,
             "#bd3786"
            ],
            [
             0.5555555555555556,
             "#d8576b"
            ],
            [
             0.6666666666666666,
             "#ed7953"
            ],
            [
             0.7777777777777778,
             "#fb9f3a"
            ],
            [
             0.8888888888888888,
             "#fdca26"
            ],
            [
             1,
             "#f0f921"
            ]
           ],
           "sequentialminus": [
            [
             0,
             "#0d0887"
            ],
            [
             0.1111111111111111,
             "#46039f"
            ],
            [
             0.2222222222222222,
             "#7201a8"
            ],
            [
             0.3333333333333333,
             "#9c179e"
            ],
            [
             0.4444444444444444,
             "#bd3786"
            ],
            [
             0.5555555555555556,
             "#d8576b"
            ],
            [
             0.6666666666666666,
             "#ed7953"
            ],
            [
             0.7777777777777778,
             "#fb9f3a"
            ],
            [
             0.8888888888888888,
             "#fdca26"
            ],
            [
             1,
             "#f0f921"
            ]
           ]
          },
          "colorway": [
           "#636efa",
           "#EF553B",
           "#00cc96",
           "#ab63fa",
           "#FFA15A",
           "#19d3f3",
           "#FF6692",
           "#B6E880",
           "#FF97FF",
           "#FECB52"
          ],
          "font": {
           "color": "#2a3f5f"
          },
          "geo": {
           "bgcolor": "white",
           "lakecolor": "white",
           "landcolor": "#E5ECF6",
           "showlakes": true,
           "showland": true,
           "subunitcolor": "white"
          },
          "hoverlabel": {
           "align": "left"
          },
          "hovermode": "closest",
          "mapbox": {
           "style": "light"
          },
          "paper_bgcolor": "white",
          "plot_bgcolor": "#E5ECF6",
          "polar": {
           "angularaxis": {
            "gridcolor": "white",
            "linecolor": "white",
            "ticks": ""
           },
           "bgcolor": "#E5ECF6",
           "radialaxis": {
            "gridcolor": "white",
            "linecolor": "white",
            "ticks": ""
           }
          },
          "scene": {
           "xaxis": {
            "backgroundcolor": "#E5ECF6",
            "gridcolor": "white",
            "gridwidth": 2,
            "linecolor": "white",
            "showbackground": true,
            "ticks": "",
            "zerolinecolor": "white"
           },
           "yaxis": {
            "backgroundcolor": "#E5ECF6",
            "gridcolor": "white",
            "gridwidth": 2,
            "linecolor": "white",
            "showbackground": true,
            "ticks": "",
            "zerolinecolor": "white"
           },
           "zaxis": {
            "backgroundcolor": "#E5ECF6",
            "gridcolor": "white",
            "gridwidth": 2,
            "linecolor": "white",
            "showbackground": true,
            "ticks": "",
            "zerolinecolor": "white"
           }
          },
          "shapedefaults": {
           "line": {
            "color": "#2a3f5f"
           }
          },
          "ternary": {
           "aaxis": {
            "gridcolor": "white",
            "linecolor": "white",
            "ticks": ""
           },
           "baxis": {
            "gridcolor": "white",
            "linecolor": "white",
            "ticks": ""
           },
           "bgcolor": "#E5ECF6",
           "caxis": {
            "gridcolor": "white",
            "linecolor": "white",
            "ticks": ""
           }
          },
          "title": {
           "x": 0.05
          },
          "xaxis": {
           "automargin": true,
           "gridcolor": "white",
           "linecolor": "white",
           "ticks": "",
           "title": {
            "standoff": 15
           },
           "zerolinecolor": "white",
           "zerolinewidth": 2
          },
          "yaxis": {
           "automargin": true,
           "gridcolor": "white",
           "linecolor": "white",
           "ticks": "",
           "title": {
            "standoff": 15
           },
           "zerolinecolor": "white",
           "zerolinewidth": 2
          }
         }
        },
        "updatemenus": [
         {
          "buttons": [
           {
            "args": [
             null
            ],
            "label": "Play",
            "method": "animate"
           }
          ],
          "type": "buttons"
         }
        ],
        "width": 500
       }
      },
      "text/html": [
       "<div>                            <div id=\"dd98a656-6e24-4498-a845-4fa448add186\" class=\"plotly-graph-div\" style=\"height:500px; width:500px;\"></div>            <script type=\"text/javascript\">                require([\"plotly\"], function(Plotly) {                    window.PLOTLYENV=window.PLOTLYENV || {};                                    if (document.getElementById(\"dd98a656-6e24-4498-a845-4fa448add186\")) {                    Plotly.newPlot(                        \"dd98a656-6e24-4498-a845-4fa448add186\",                        [{\"mode\":\"lines+markers\",\"name\":\"f(x)=x<sup>2</sup>\",\"x\":[0.0],\"y\":[0.0],\"type\":\"scatter\",\"hoverinfo\":\"all\",\"hovertemplate\":\"\\u0410\\u0440\\u0433\\u0443\\u043c\\u0435\\u043d\\u0442: %{x}<br>\\u0424\\u0443\\u043d\\u043a\\u0446\\u0438\\u044f: %{y}\"}],                        {\"template\":{\"data\":{\"bar\":[{\"error_x\":{\"color\":\"#2a3f5f\"},\"error_y\":{\"color\":\"#2a3f5f\"},\"marker\":{\"line\":{\"color\":\"#E5ECF6\",\"width\":0.5},\"pattern\":{\"fillmode\":\"overlay\",\"size\":10,\"solidity\":0.2}},\"type\":\"bar\"}],\"barpolar\":[{\"marker\":{\"line\":{\"color\":\"#E5ECF6\",\"width\":0.5},\"pattern\":{\"fillmode\":\"overlay\",\"size\":10,\"solidity\":0.2}},\"type\":\"barpolar\"}],\"carpet\":[{\"aaxis\":{\"endlinecolor\":\"#2a3f5f\",\"gridcolor\":\"white\",\"linecolor\":\"white\",\"minorgridcolor\":\"white\",\"startlinecolor\":\"#2a3f5f\"},\"baxis\":{\"endlinecolor\":\"#2a3f5f\",\"gridcolor\":\"white\",\"linecolor\":\"white\",\"minorgridcolor\":\"white\",\"startlinecolor\":\"#2a3f5f\"},\"type\":\"carpet\"}],\"choropleth\":[{\"colorbar\":{\"outlinewidth\":0,\"ticks\":\"\"},\"type\":\"choropleth\"}],\"contour\":[{\"colorbar\":{\"outlinewidth\":0,\"ticks\":\"\"},\"colorscale\":[[0.0,\"#0d0887\"],[0.1111111111111111,\"#46039f\"],[0.2222222222222222,\"#7201a8\"],[0.3333333333333333,\"#9c179e\"],[0.4444444444444444,\"#bd3786\"],[0.5555555555555556,\"#d8576b\"],[0.6666666666666666,\"#ed7953\"],[0.7777777777777778,\"#fb9f3a\"],[0.8888888888888888,\"#fdca26\"],[1.0,\"#f0f921\"]],\"type\":\"contour\"}],\"contourcarpet\":[{\"colorbar\":{\"outlinewidth\":0,\"ticks\":\"\"},\"type\":\"contourcarpet\"}],\"heatmap\":[{\"colorbar\":{\"outlinewidth\":0,\"ticks\":\"\"},\"colorscale\":[[0.0,\"#0d0887\"],[0.1111111111111111,\"#46039f\"],[0.2222222222222222,\"#7201a8\"],[0.3333333333333333,\"#9c179e\"],[0.4444444444444444,\"#bd3786\"],[0.5555555555555556,\"#d8576b\"],[0.6666666666666666,\"#ed7953\"],[0.7777777777777778,\"#fb9f3a\"],[0.8888888888888888,\"#fdca26\"],[1.0,\"#f0f921\"]],\"type\":\"heatmap\"}],\"heatmapgl\":[{\"colorbar\":{\"outlinewidth\":0,\"ticks\":\"\"},\"colorscale\":[[0.0,\"#0d0887\"],[0.1111111111111111,\"#46039f\"],[0.2222222222222222,\"#7201a8\"],[0.3333333333333333,\"#9c179e\"],[0.4444444444444444,\"#bd3786\"],[0.5555555555555556,\"#d8576b\"],[0.6666666666666666,\"#ed7953\"],[0.7777777777777778,\"#fb9f3a\"],[0.8888888888888888,\"#fdca26\"],[1.0,\"#f0f921\"]],\"type\":\"heatmapgl\"}],\"histogram\":[{\"marker\":{\"pattern\":{\"fillmode\":\"overlay\",\"size\":10,\"solidity\":0.2}},\"type\":\"histogram\"}],\"histogram2d\":[{\"colorbar\":{\"outlinewidth\":0,\"ticks\":\"\"},\"colorscale\":[[0.0,\"#0d0887\"],[0.1111111111111111,\"#46039f\"],[0.2222222222222222,\"#7201a8\"],[0.3333333333333333,\"#9c179e\"],[0.4444444444444444,\"#bd3786\"],[0.5555555555555556,\"#d8576b\"],[0.6666666666666666,\"#ed7953\"],[0.7777777777777778,\"#fb9f3a\"],[0.8888888888888888,\"#fdca26\"],[1.0,\"#f0f921\"]],\"type\":\"histogram2d\"}],\"histogram2dcontour\":[{\"colorbar\":{\"outlinewidth\":0,\"ticks\":\"\"},\"colorscale\":[[0.0,\"#0d0887\"],[0.1111111111111111,\"#46039f\"],[0.2222222222222222,\"#7201a8\"],[0.3333333333333333,\"#9c179e\"],[0.4444444444444444,\"#bd3786\"],[0.5555555555555556,\"#d8576b\"],[0.6666666666666666,\"#ed7953\"],[0.7777777777777778,\"#fb9f3a\"],[0.8888888888888888,\"#fdca26\"],[1.0,\"#f0f921\"]],\"type\":\"histogram2dcontour\"}],\"mesh3d\":[{\"colorbar\":{\"outlinewidth\":0,\"ticks\":\"\"},\"type\":\"mesh3d\"}],\"parcoords\":[{\"line\":{\"colorbar\":{\"outlinewidth\":0,\"ticks\":\"\"}},\"type\":\"parcoords\"}],\"pie\":[{\"automargin\":true,\"type\":\"pie\"}],\"scatter\":[{\"marker\":{\"colorbar\":{\"outlinewidth\":0,\"ticks\":\"\"}},\"type\":\"scatter\"}],\"scatter3d\":[{\"line\":{\"colorbar\":{\"outlinewidth\":0,\"ticks\":\"\"}},\"marker\":{\"colorbar\":{\"outlinewidth\":0,\"ticks\":\"\"}},\"type\":\"scatter3d\"}],\"scattercarpet\":[{\"marker\":{\"colorbar\":{\"outlinewidth\":0,\"ticks\":\"\"}},\"type\":\"scattercarpet\"}],\"scattergeo\":[{\"marker\":{\"colorbar\":{\"outlinewidth\":0,\"ticks\":\"\"}},\"type\":\"scattergeo\"}],\"scattergl\":[{\"marker\":{\"colorbar\":{\"outlinewidth\":0,\"ticks\":\"\"}},\"type\":\"scattergl\"}],\"scattermapbox\":[{\"marker\":{\"colorbar\":{\"outlinewidth\":0,\"ticks\":\"\"}},\"type\":\"scattermapbox\"}],\"scatterpolar\":[{\"marker\":{\"colorbar\":{\"outlinewidth\":0,\"ticks\":\"\"}},\"type\":\"scatterpolar\"}],\"scatterpolargl\":[{\"marker\":{\"colorbar\":{\"outlinewidth\":0,\"ticks\":\"\"}},\"type\":\"scatterpolargl\"}],\"scatterternary\":[{\"marker\":{\"colorbar\":{\"outlinewidth\":0,\"ticks\":\"\"}},\"type\":\"scatterternary\"}],\"surface\":[{\"colorbar\":{\"outlinewidth\":0,\"ticks\":\"\"},\"colorscale\":[[0.0,\"#0d0887\"],[0.1111111111111111,\"#46039f\"],[0.2222222222222222,\"#7201a8\"],[0.3333333333333333,\"#9c179e\"],[0.4444444444444444,\"#bd3786\"],[0.5555555555555556,\"#d8576b\"],[0.6666666666666666,\"#ed7953\"],[0.7777777777777778,\"#fb9f3a\"],[0.8888888888888888,\"#fdca26\"],[1.0,\"#f0f921\"]],\"type\":\"surface\"}],\"table\":[{\"cells\":{\"fill\":{\"color\":\"#EBF0F8\"},\"line\":{\"color\":\"white\"}},\"header\":{\"fill\":{\"color\":\"#C8D4E3\"},\"line\":{\"color\":\"white\"}},\"type\":\"table\"}]},\"layout\":{\"annotationdefaults\":{\"arrowcolor\":\"#2a3f5f\",\"arrowhead\":0,\"arrowwidth\":1},\"autotypenumbers\":\"strict\",\"coloraxis\":{\"colorbar\":{\"outlinewidth\":0,\"ticks\":\"\"}},\"colorscale\":{\"diverging\":[[0,\"#8e0152\"],[0.1,\"#c51b7d\"],[0.2,\"#de77ae\"],[0.3,\"#f1b6da\"],[0.4,\"#fde0ef\"],[0.5,\"#f7f7f7\"],[0.6,\"#e6f5d0\"],[0.7,\"#b8e186\"],[0.8,\"#7fbc41\"],[0.9,\"#4d9221\"],[1,\"#276419\"]],\"sequential\":[[0.0,\"#0d0887\"],[0.1111111111111111,\"#46039f\"],[0.2222222222222222,\"#7201a8\"],[0.3333333333333333,\"#9c179e\"],[0.4444444444444444,\"#bd3786\"],[0.5555555555555556,\"#d8576b\"],[0.6666666666666666,\"#ed7953\"],[0.7777777777777778,\"#fb9f3a\"],[0.8888888888888888,\"#fdca26\"],[1.0,\"#f0f921\"]],\"sequentialminus\":[[0.0,\"#0d0887\"],[0.1111111111111111,\"#46039f\"],[0.2222222222222222,\"#7201a8\"],[0.3333333333333333,\"#9c179e\"],[0.4444444444444444,\"#bd3786\"],[0.5555555555555556,\"#d8576b\"],[0.6666666666666666,\"#ed7953\"],[0.7777777777777778,\"#fb9f3a\"],[0.8888888888888888,\"#fdca26\"],[1.0,\"#f0f921\"]]},\"colorway\":[\"#636efa\",\"#EF553B\",\"#00cc96\",\"#ab63fa\",\"#FFA15A\",\"#19d3f3\",\"#FF6692\",\"#B6E880\",\"#FF97FF\",\"#FECB52\"],\"font\":{\"color\":\"#2a3f5f\"},\"geo\":{\"bgcolor\":\"white\",\"lakecolor\":\"white\",\"landcolor\":\"#E5ECF6\",\"showlakes\":true,\"showland\":true,\"subunitcolor\":\"white\"},\"hoverlabel\":{\"align\":\"left\"},\"hovermode\":\"closest\",\"mapbox\":{\"style\":\"light\"},\"paper_bgcolor\":\"white\",\"plot_bgcolor\":\"#E5ECF6\",\"polar\":{\"angularaxis\":{\"gridcolor\":\"white\",\"linecolor\":\"white\",\"ticks\":\"\"},\"bgcolor\":\"#E5ECF6\",\"radialaxis\":{\"gridcolor\":\"white\",\"linecolor\":\"white\",\"ticks\":\"\"}},\"scene\":{\"xaxis\":{\"backgroundcolor\":\"#E5ECF6\",\"gridcolor\":\"white\",\"gridwidth\":2,\"linecolor\":\"white\",\"showbackground\":true,\"ticks\":\"\",\"zerolinecolor\":\"white\"},\"yaxis\":{\"backgroundcolor\":\"#E5ECF6\",\"gridcolor\":\"white\",\"gridwidth\":2,\"linecolor\":\"white\",\"showbackground\":true,\"ticks\":\"\",\"zerolinecolor\":\"white\"},\"zaxis\":{\"backgroundcolor\":\"#E5ECF6\",\"gridcolor\":\"white\",\"gridwidth\":2,\"linecolor\":\"white\",\"showbackground\":true,\"ticks\":\"\",\"zerolinecolor\":\"white\"}},\"shapedefaults\":{\"line\":{\"color\":\"#2a3f5f\"}},\"ternary\":{\"aaxis\":{\"gridcolor\":\"white\",\"linecolor\":\"white\",\"ticks\":\"\"},\"baxis\":{\"gridcolor\":\"white\",\"linecolor\":\"white\",\"ticks\":\"\"},\"bgcolor\":\"#E5ECF6\",\"caxis\":{\"gridcolor\":\"white\",\"linecolor\":\"white\",\"ticks\":\"\"}},\"title\":{\"x\":0.05},\"xaxis\":{\"automargin\":true,\"gridcolor\":\"white\",\"linecolor\":\"white\",\"ticks\":\"\",\"title\":{\"standoff\":15},\"zerolinecolor\":\"white\",\"zerolinewidth\":2},\"yaxis\":{\"automargin\":true,\"gridcolor\":\"white\",\"linecolor\":\"white\",\"ticks\":\"\",\"title\":{\"standoff\":15},\"zerolinecolor\":\"white\",\"zerolinewidth\":2}}},\"legend\":{\"orientation\":\"h\",\"x\":0.5,\"xanchor\":\"center\"},\"updatemenus\":[{\"buttons\":[{\"args\":[null],\"label\":\"Play\",\"method\":\"animate\"}],\"type\":\"buttons\"}],\"autosize\":false,\"width\":500,\"height\":500},                        {\"responsive\": true}                    ).then(function(){\n",
       "                            Plotly.addFrames('dd98a656-6e24-4498-a845-4fa448add186', [{\"data\":[{\"x\":[0.0,0.1],\"y\":[0.0,0.010000000000000002],\"type\":\"scatter\"}]},{\"data\":[{\"x\":[0.0,0.1,0.2],\"y\":[0.0,0.010000000000000002,0.04000000000000001],\"type\":\"scatter\"}]},{\"data\":[{\"x\":[0.0,0.1,0.2,0.30000000000000004],\"y\":[0.0,0.010000000000000002,0.04000000000000001,0.09000000000000002],\"type\":\"scatter\"}]},{\"data\":[{\"x\":[0.0,0.1,0.2,0.30000000000000004,0.4],\"y\":[0.0,0.010000000000000002,0.04000000000000001,0.09000000000000002,0.16000000000000003],\"type\":\"scatter\"}]},{\"data\":[{\"x\":[0.0,0.1,0.2,0.30000000000000004,0.4,0.5],\"y\":[0.0,0.010000000000000002,0.04000000000000001,0.09000000000000002,0.16000000000000003,0.25],\"type\":\"scatter\"}]},{\"data\":[{\"x\":[0.0,0.1,0.2,0.30000000000000004,0.4,0.5,0.6000000000000001],\"y\":[0.0,0.010000000000000002,0.04000000000000001,0.09000000000000002,0.16000000000000003,0.25,0.3600000000000001],\"type\":\"scatter\"}]},{\"data\":[{\"x\":[0.0,0.1,0.2,0.30000000000000004,0.4,0.5,0.6000000000000001,0.7000000000000001],\"y\":[0.0,0.010000000000000002,0.04000000000000001,0.09000000000000002,0.16000000000000003,0.25,0.3600000000000001,0.4900000000000001],\"type\":\"scatter\"}]},{\"data\":[{\"x\":[0.0,0.1,0.2,0.30000000000000004,0.4,0.5,0.6000000000000001,0.7000000000000001,0.8],\"y\":[0.0,0.010000000000000002,0.04000000000000001,0.09000000000000002,0.16000000000000003,0.25,0.3600000000000001,0.4900000000000001,0.6400000000000001],\"type\":\"scatter\"}]},{\"data\":[{\"x\":[0.0,0.1,0.2,0.30000000000000004,0.4,0.5,0.6000000000000001,0.7000000000000001,0.8,0.9],\"y\":[0.0,0.010000000000000002,0.04000000000000001,0.09000000000000002,0.16000000000000003,0.25,0.3600000000000001,0.4900000000000001,0.6400000000000001,0.81],\"type\":\"scatter\"}]},{\"data\":[{\"x\":[0.0,0.1,0.2,0.30000000000000004,0.4,0.5,0.6000000000000001,0.7000000000000001,0.8,0.9,1.0],\"y\":[0.0,0.010000000000000002,0.04000000000000001,0.09000000000000002,0.16000000000000003,0.25,0.3600000000000001,0.4900000000000001,0.6400000000000001,0.81,1.0],\"type\":\"scatter\"}]},{\"data\":[{\"x\":[0.0,0.1,0.2,0.30000000000000004,0.4,0.5,0.6000000000000001,0.7000000000000001,0.8,0.9,1.0,1.1],\"y\":[0.0,0.010000000000000002,0.04000000000000001,0.09000000000000002,0.16000000000000003,0.25,0.3600000000000001,0.4900000000000001,0.6400000000000001,0.81,1.0,1.2100000000000002],\"type\":\"scatter\"}]},{\"data\":[{\"x\":[0.0,0.1,0.2,0.30000000000000004,0.4,0.5,0.6000000000000001,0.7000000000000001,0.8,0.9,1.0,1.1,1.2000000000000002],\"y\":[0.0,0.010000000000000002,0.04000000000000001,0.09000000000000002,0.16000000000000003,0.25,0.3600000000000001,0.4900000000000001,0.6400000000000001,0.81,1.0,1.2100000000000002,1.4400000000000004],\"type\":\"scatter\"}]},{\"data\":[{\"x\":[0.0,0.1,0.2,0.30000000000000004,0.4,0.5,0.6000000000000001,0.7000000000000001,0.8,0.9,1.0,1.1,1.2000000000000002,1.3],\"y\":[0.0,0.010000000000000002,0.04000000000000001,0.09000000000000002,0.16000000000000003,0.25,0.3600000000000001,0.4900000000000001,0.6400000000000001,0.81,1.0,1.2100000000000002,1.4400000000000004,1.6900000000000002],\"type\":\"scatter\"}]},{\"data\":[{\"x\":[0.0,0.1,0.2,0.30000000000000004,0.4,0.5,0.6000000000000001,0.7000000000000001,0.8,0.9,1.0,1.1,1.2000000000000002,1.3,1.4000000000000001],\"y\":[0.0,0.010000000000000002,0.04000000000000001,0.09000000000000002,0.16000000000000003,0.25,0.3600000000000001,0.4900000000000001,0.6400000000000001,0.81,1.0,1.2100000000000002,1.4400000000000004,1.6900000000000002,1.9600000000000004],\"type\":\"scatter\"}]},{\"data\":[{\"x\":[0.0,0.1,0.2,0.30000000000000004,0.4,0.5,0.6000000000000001,0.7000000000000001,0.8,0.9,1.0,1.1,1.2000000000000002,1.3,1.4000000000000001,1.5],\"y\":[0.0,0.010000000000000002,0.04000000000000001,0.09000000000000002,0.16000000000000003,0.25,0.3600000000000001,0.4900000000000001,0.6400000000000001,0.81,1.0,1.2100000000000002,1.4400000000000004,1.6900000000000002,1.9600000000000004,2.25],\"type\":\"scatter\"}]},{\"data\":[{\"x\":[0.0,0.1,0.2,0.30000000000000004,0.4,0.5,0.6000000000000001,0.7000000000000001,0.8,0.9,1.0,1.1,1.2000000000000002,1.3,1.4000000000000001,1.5,1.6],\"y\":[0.0,0.010000000000000002,0.04000000000000001,0.09000000000000002,0.16000000000000003,0.25,0.3600000000000001,0.4900000000000001,0.6400000000000001,0.81,1.0,1.2100000000000002,1.4400000000000004,1.6900000000000002,1.9600000000000004,2.25,2.5600000000000005],\"type\":\"scatter\"}]},{\"data\":[{\"x\":[0.0,0.1,0.2,0.30000000000000004,0.4,0.5,0.6000000000000001,0.7000000000000001,0.8,0.9,1.0,1.1,1.2000000000000002,1.3,1.4000000000000001,1.5,1.6,1.7000000000000002],\"y\":[0.0,0.010000000000000002,0.04000000000000001,0.09000000000000002,0.16000000000000003,0.25,0.3600000000000001,0.4900000000000001,0.6400000000000001,0.81,1.0,1.2100000000000002,1.4400000000000004,1.6900000000000002,1.9600000000000004,2.25,2.5600000000000005,2.8900000000000006],\"type\":\"scatter\"}]},{\"data\":[{\"x\":[0.0,0.1,0.2,0.30000000000000004,0.4,0.5,0.6000000000000001,0.7000000000000001,0.8,0.9,1.0,1.1,1.2000000000000002,1.3,1.4000000000000001,1.5,1.6,1.7000000000000002,1.8],\"y\":[0.0,0.010000000000000002,0.04000000000000001,0.09000000000000002,0.16000000000000003,0.25,0.3600000000000001,0.4900000000000001,0.6400000000000001,0.81,1.0,1.2100000000000002,1.4400000000000004,1.6900000000000002,1.9600000000000004,2.25,2.5600000000000005,2.8900000000000006,3.24],\"type\":\"scatter\"}]},{\"data\":[{\"x\":[0.0,0.1,0.2,0.30000000000000004,0.4,0.5,0.6000000000000001,0.7000000000000001,0.8,0.9,1.0,1.1,1.2000000000000002,1.3,1.4000000000000001,1.5,1.6,1.7000000000000002,1.8,1.9000000000000001],\"y\":[0.0,0.010000000000000002,0.04000000000000001,0.09000000000000002,0.16000000000000003,0.25,0.3600000000000001,0.4900000000000001,0.6400000000000001,0.81,1.0,1.2100000000000002,1.4400000000000004,1.6900000000000002,1.9600000000000004,2.25,2.5600000000000005,2.8900000000000006,3.24,3.6100000000000003],\"type\":\"scatter\"}]},{\"data\":[{\"x\":[0.0,0.1,0.2,0.30000000000000004,0.4,0.5,0.6000000000000001,0.7000000000000001,0.8,0.9,1.0,1.1,1.2000000000000002,1.3,1.4000000000000001,1.5,1.6,1.7000000000000002,1.8,1.9000000000000001,2.0],\"y\":[0.0,0.010000000000000002,0.04000000000000001,0.09000000000000002,0.16000000000000003,0.25,0.3600000000000001,0.4900000000000001,0.6400000000000001,0.81,1.0,1.2100000000000002,1.4400000000000004,1.6900000000000002,1.9600000000000004,2.25,2.5600000000000005,2.8900000000000006,3.24,3.6100000000000003,4.0],\"type\":\"scatter\"}]},{\"data\":[{\"x\":[0.0,0.1,0.2,0.30000000000000004,0.4,0.5,0.6000000000000001,0.7000000000000001,0.8,0.9,1.0,1.1,1.2000000000000002,1.3,1.4000000000000001,1.5,1.6,1.7000000000000002,1.8,1.9000000000000001,2.0,2.1],\"y\":[0.0,0.010000000000000002,0.04000000000000001,0.09000000000000002,0.16000000000000003,0.25,0.3600000000000001,0.4900000000000001,0.6400000000000001,0.81,1.0,1.2100000000000002,1.4400000000000004,1.6900000000000002,1.9600000000000004,2.25,2.5600000000000005,2.8900000000000006,3.24,3.6100000000000003,4.0,4.41],\"type\":\"scatter\"}]},{\"data\":[{\"x\":[0.0,0.1,0.2,0.30000000000000004,0.4,0.5,0.6000000000000001,0.7000000000000001,0.8,0.9,1.0,1.1,1.2000000000000002,1.3,1.4000000000000001,1.5,1.6,1.7000000000000002,1.8,1.9000000000000001,2.0,2.1,2.2],\"y\":[0.0,0.010000000000000002,0.04000000000000001,0.09000000000000002,0.16000000000000003,0.25,0.3600000000000001,0.4900000000000001,0.6400000000000001,0.81,1.0,1.2100000000000002,1.4400000000000004,1.6900000000000002,1.9600000000000004,2.25,2.5600000000000005,2.8900000000000006,3.24,3.6100000000000003,4.0,4.41,4.840000000000001],\"type\":\"scatter\"}]},{\"data\":[{\"x\":[0.0,0.1,0.2,0.30000000000000004,0.4,0.5,0.6000000000000001,0.7000000000000001,0.8,0.9,1.0,1.1,1.2000000000000002,1.3,1.4000000000000001,1.5,1.6,1.7000000000000002,1.8,1.9000000000000001,2.0,2.1,2.2,2.3000000000000003],\"y\":[0.0,0.010000000000000002,0.04000000000000001,0.09000000000000002,0.16000000000000003,0.25,0.3600000000000001,0.4900000000000001,0.6400000000000001,0.81,1.0,1.2100000000000002,1.4400000000000004,1.6900000000000002,1.9600000000000004,2.25,2.5600000000000005,2.8900000000000006,3.24,3.6100000000000003,4.0,4.41,4.840000000000001,5.290000000000001],\"type\":\"scatter\"}]},{\"data\":[{\"x\":[0.0,0.1,0.2,0.30000000000000004,0.4,0.5,0.6000000000000001,0.7000000000000001,0.8,0.9,1.0,1.1,1.2000000000000002,1.3,1.4000000000000001,1.5,1.6,1.7000000000000002,1.8,1.9000000000000001,2.0,2.1,2.2,2.3000000000000003,2.4000000000000004],\"y\":[0.0,0.010000000000000002,0.04000000000000001,0.09000000000000002,0.16000000000000003,0.25,0.3600000000000001,0.4900000000000001,0.6400000000000001,0.81,1.0,1.2100000000000002,1.4400000000000004,1.6900000000000002,1.9600000000000004,2.25,2.5600000000000005,2.8900000000000006,3.24,3.6100000000000003,4.0,4.41,4.840000000000001,5.290000000000001,5.760000000000002],\"type\":\"scatter\"}]},{\"data\":[{\"x\":[0.0,0.1,0.2,0.30000000000000004,0.4,0.5,0.6000000000000001,0.7000000000000001,0.8,0.9,1.0,1.1,1.2000000000000002,1.3,1.4000000000000001,1.5,1.6,1.7000000000000002,1.8,1.9000000000000001,2.0,2.1,2.2,2.3000000000000003,2.4000000000000004,2.5],\"y\":[0.0,0.010000000000000002,0.04000000000000001,0.09000000000000002,0.16000000000000003,0.25,0.3600000000000001,0.4900000000000001,0.6400000000000001,0.81,1.0,1.2100000000000002,1.4400000000000004,1.6900000000000002,1.9600000000000004,2.25,2.5600000000000005,2.8900000000000006,3.24,3.6100000000000003,4.0,4.41,4.840000000000001,5.290000000000001,5.760000000000002,6.25],\"type\":\"scatter\"}]},{\"data\":[{\"x\":[0.0,0.1,0.2,0.30000000000000004,0.4,0.5,0.6000000000000001,0.7000000000000001,0.8,0.9,1.0,1.1,1.2000000000000002,1.3,1.4000000000000001,1.5,1.6,1.7000000000000002,1.8,1.9000000000000001,2.0,2.1,2.2,2.3000000000000003,2.4000000000000004,2.5,2.6],\"y\":[0.0,0.010000000000000002,0.04000000000000001,0.09000000000000002,0.16000000000000003,0.25,0.3600000000000001,0.4900000000000001,0.6400000000000001,0.81,1.0,1.2100000000000002,1.4400000000000004,1.6900000000000002,1.9600000000000004,2.25,2.5600000000000005,2.8900000000000006,3.24,3.6100000000000003,4.0,4.41,4.840000000000001,5.290000000000001,5.760000000000002,6.25,6.760000000000001],\"type\":\"scatter\"}]},{\"data\":[{\"x\":[0.0,0.1,0.2,0.30000000000000004,0.4,0.5,0.6000000000000001,0.7000000000000001,0.8,0.9,1.0,1.1,1.2000000000000002,1.3,1.4000000000000001,1.5,1.6,1.7000000000000002,1.8,1.9000000000000001,2.0,2.1,2.2,2.3000000000000003,2.4000000000000004,2.5,2.6,2.7],\"y\":[0.0,0.010000000000000002,0.04000000000000001,0.09000000000000002,0.16000000000000003,0.25,0.3600000000000001,0.4900000000000001,0.6400000000000001,0.81,1.0,1.2100000000000002,1.4400000000000004,1.6900000000000002,1.9600000000000004,2.25,2.5600000000000005,2.8900000000000006,3.24,3.6100000000000003,4.0,4.41,4.840000000000001,5.290000000000001,5.760000000000002,6.25,6.760000000000001,7.290000000000001],\"type\":\"scatter\"}]},{\"data\":[{\"x\":[0.0,0.1,0.2,0.30000000000000004,0.4,0.5,0.6000000000000001,0.7000000000000001,0.8,0.9,1.0,1.1,1.2000000000000002,1.3,1.4000000000000001,1.5,1.6,1.7000000000000002,1.8,1.9000000000000001,2.0,2.1,2.2,2.3000000000000003,2.4000000000000004,2.5,2.6,2.7,2.8000000000000003],\"y\":[0.0,0.010000000000000002,0.04000000000000001,0.09000000000000002,0.16000000000000003,0.25,0.3600000000000001,0.4900000000000001,0.6400000000000001,0.81,1.0,1.2100000000000002,1.4400000000000004,1.6900000000000002,1.9600000000000004,2.25,2.5600000000000005,2.8900000000000006,3.24,3.6100000000000003,4.0,4.41,4.840000000000001,5.290000000000001,5.760000000000002,6.25,6.760000000000001,7.290000000000001,7.840000000000002],\"type\":\"scatter\"}]},{\"data\":[{\"x\":[0.0,0.1,0.2,0.30000000000000004,0.4,0.5,0.6000000000000001,0.7000000000000001,0.8,0.9,1.0,1.1,1.2000000000000002,1.3,1.4000000000000001,1.5,1.6,1.7000000000000002,1.8,1.9000000000000001,2.0,2.1,2.2,2.3000000000000003,2.4000000000000004,2.5,2.6,2.7,2.8000000000000003,2.9000000000000004],\"y\":[0.0,0.010000000000000002,0.04000000000000001,0.09000000000000002,0.16000000000000003,0.25,0.3600000000000001,0.4900000000000001,0.6400000000000001,0.81,1.0,1.2100000000000002,1.4400000000000004,1.6900000000000002,1.9600000000000004,2.25,2.5600000000000005,2.8900000000000006,3.24,3.6100000000000003,4.0,4.41,4.840000000000001,5.290000000000001,5.760000000000002,6.25,6.760000000000001,7.290000000000001,7.840000000000002,8.410000000000002],\"type\":\"scatter\"}]},{\"data\":[{\"x\":[0.0,0.1,0.2,0.30000000000000004,0.4,0.5,0.6000000000000001,0.7000000000000001,0.8,0.9,1.0,1.1,1.2000000000000002,1.3,1.4000000000000001,1.5,1.6,1.7000000000000002,1.8,1.9000000000000001,2.0,2.1,2.2,2.3000000000000003,2.4000000000000004,2.5,2.6,2.7,2.8000000000000003,2.9000000000000004,3.0],\"y\":[0.0,0.010000000000000002,0.04000000000000001,0.09000000000000002,0.16000000000000003,0.25,0.3600000000000001,0.4900000000000001,0.6400000000000001,0.81,1.0,1.2100000000000002,1.4400000000000004,1.6900000000000002,1.9600000000000004,2.25,2.5600000000000005,2.8900000000000006,3.24,3.6100000000000003,4.0,4.41,4.840000000000001,5.290000000000001,5.760000000000002,6.25,6.760000000000001,7.290000000000001,7.840000000000002,8.410000000000002,9.0],\"type\":\"scatter\"}]},{\"data\":[{\"x\":[0.0,0.1,0.2,0.30000000000000004,0.4,0.5,0.6000000000000001,0.7000000000000001,0.8,0.9,1.0,1.1,1.2000000000000002,1.3,1.4000000000000001,1.5,1.6,1.7000000000000002,1.8,1.9000000000000001,2.0,2.1,2.2,2.3000000000000003,2.4000000000000004,2.5,2.6,2.7,2.8000000000000003,2.9000000000000004,3.0,3.1],\"y\":[0.0,0.010000000000000002,0.04000000000000001,0.09000000000000002,0.16000000000000003,0.25,0.3600000000000001,0.4900000000000001,0.6400000000000001,0.81,1.0,1.2100000000000002,1.4400000000000004,1.6900000000000002,1.9600000000000004,2.25,2.5600000000000005,2.8900000000000006,3.24,3.6100000000000003,4.0,4.41,4.840000000000001,5.290000000000001,5.760000000000002,6.25,6.760000000000001,7.290000000000001,7.840000000000002,8.410000000000002,9.0,9.610000000000001],\"type\":\"scatter\"}]},{\"data\":[{\"x\":[0.0,0.1,0.2,0.30000000000000004,0.4,0.5,0.6000000000000001,0.7000000000000001,0.8,0.9,1.0,1.1,1.2000000000000002,1.3,1.4000000000000001,1.5,1.6,1.7000000000000002,1.8,1.9000000000000001,2.0,2.1,2.2,2.3000000000000003,2.4000000000000004,2.5,2.6,2.7,2.8000000000000003,2.9000000000000004,3.0,3.1,3.2],\"y\":[0.0,0.010000000000000002,0.04000000000000001,0.09000000000000002,0.16000000000000003,0.25,0.3600000000000001,0.4900000000000001,0.6400000000000001,0.81,1.0,1.2100000000000002,1.4400000000000004,1.6900000000000002,1.9600000000000004,2.25,2.5600000000000005,2.8900000000000006,3.24,3.6100000000000003,4.0,4.41,4.840000000000001,5.290000000000001,5.760000000000002,6.25,6.760000000000001,7.290000000000001,7.840000000000002,8.410000000000002,9.0,9.610000000000001,10.240000000000002],\"type\":\"scatter\"}]},{\"data\":[{\"x\":[0.0,0.1,0.2,0.30000000000000004,0.4,0.5,0.6000000000000001,0.7000000000000001,0.8,0.9,1.0,1.1,1.2000000000000002,1.3,1.4000000000000001,1.5,1.6,1.7000000000000002,1.8,1.9000000000000001,2.0,2.1,2.2,2.3000000000000003,2.4000000000000004,2.5,2.6,2.7,2.8000000000000003,2.9000000000000004,3.0,3.1,3.2,3.3000000000000003],\"y\":[0.0,0.010000000000000002,0.04000000000000001,0.09000000000000002,0.16000000000000003,0.25,0.3600000000000001,0.4900000000000001,0.6400000000000001,0.81,1.0,1.2100000000000002,1.4400000000000004,1.6900000000000002,1.9600000000000004,2.25,2.5600000000000005,2.8900000000000006,3.24,3.6100000000000003,4.0,4.41,4.840000000000001,5.290000000000001,5.760000000000002,6.25,6.760000000000001,7.290000000000001,7.840000000000002,8.410000000000002,9.0,9.610000000000001,10.240000000000002,10.890000000000002],\"type\":\"scatter\"}]},{\"data\":[{\"x\":[0.0,0.1,0.2,0.30000000000000004,0.4,0.5,0.6000000000000001,0.7000000000000001,0.8,0.9,1.0,1.1,1.2000000000000002,1.3,1.4000000000000001,1.5,1.6,1.7000000000000002,1.8,1.9000000000000001,2.0,2.1,2.2,2.3000000000000003,2.4000000000000004,2.5,2.6,2.7,2.8000000000000003,2.9000000000000004,3.0,3.1,3.2,3.3000000000000003,3.4000000000000004],\"y\":[0.0,0.010000000000000002,0.04000000000000001,0.09000000000000002,0.16000000000000003,0.25,0.3600000000000001,0.4900000000000001,0.6400000000000001,0.81,1.0,1.2100000000000002,1.4400000000000004,1.6900000000000002,1.9600000000000004,2.25,2.5600000000000005,2.8900000000000006,3.24,3.6100000000000003,4.0,4.41,4.840000000000001,5.290000000000001,5.760000000000002,6.25,6.760000000000001,7.290000000000001,7.840000000000002,8.410000000000002,9.0,9.610000000000001,10.240000000000002,10.890000000000002,11.560000000000002],\"type\":\"scatter\"}]},{\"data\":[{\"x\":[0.0,0.1,0.2,0.30000000000000004,0.4,0.5,0.6000000000000001,0.7000000000000001,0.8,0.9,1.0,1.1,1.2000000000000002,1.3,1.4000000000000001,1.5,1.6,1.7000000000000002,1.8,1.9000000000000001,2.0,2.1,2.2,2.3000000000000003,2.4000000000000004,2.5,2.6,2.7,2.8000000000000003,2.9000000000000004,3.0,3.1,3.2,3.3000000000000003,3.4000000000000004,3.5],\"y\":[0.0,0.010000000000000002,0.04000000000000001,0.09000000000000002,0.16000000000000003,0.25,0.3600000000000001,0.4900000000000001,0.6400000000000001,0.81,1.0,1.2100000000000002,1.4400000000000004,1.6900000000000002,1.9600000000000004,2.25,2.5600000000000005,2.8900000000000006,3.24,3.6100000000000003,4.0,4.41,4.840000000000001,5.290000000000001,5.760000000000002,6.25,6.760000000000001,7.290000000000001,7.840000000000002,8.410000000000002,9.0,9.610000000000001,10.240000000000002,10.890000000000002,11.560000000000002,12.25],\"type\":\"scatter\"}]},{\"data\":[{\"x\":[0.0,0.1,0.2,0.30000000000000004,0.4,0.5,0.6000000000000001,0.7000000000000001,0.8,0.9,1.0,1.1,1.2000000000000002,1.3,1.4000000000000001,1.5,1.6,1.7000000000000002,1.8,1.9000000000000001,2.0,2.1,2.2,2.3000000000000003,2.4000000000000004,2.5,2.6,2.7,2.8000000000000003,2.9000000000000004,3.0,3.1,3.2,3.3000000000000003,3.4000000000000004,3.5,3.6],\"y\":[0.0,0.010000000000000002,0.04000000000000001,0.09000000000000002,0.16000000000000003,0.25,0.3600000000000001,0.4900000000000001,0.6400000000000001,0.81,1.0,1.2100000000000002,1.4400000000000004,1.6900000000000002,1.9600000000000004,2.25,2.5600000000000005,2.8900000000000006,3.24,3.6100000000000003,4.0,4.41,4.840000000000001,5.290000000000001,5.760000000000002,6.25,6.760000000000001,7.290000000000001,7.840000000000002,8.410000000000002,9.0,9.610000000000001,10.240000000000002,10.890000000000002,11.560000000000002,12.25,12.96],\"type\":\"scatter\"}]},{\"data\":[{\"x\":[0.0,0.1,0.2,0.30000000000000004,0.4,0.5,0.6000000000000001,0.7000000000000001,0.8,0.9,1.0,1.1,1.2000000000000002,1.3,1.4000000000000001,1.5,1.6,1.7000000000000002,1.8,1.9000000000000001,2.0,2.1,2.2,2.3000000000000003,2.4000000000000004,2.5,2.6,2.7,2.8000000000000003,2.9000000000000004,3.0,3.1,3.2,3.3000000000000003,3.4000000000000004,3.5,3.6,3.7],\"y\":[0.0,0.010000000000000002,0.04000000000000001,0.09000000000000002,0.16000000000000003,0.25,0.3600000000000001,0.4900000000000001,0.6400000000000001,0.81,1.0,1.2100000000000002,1.4400000000000004,1.6900000000000002,1.9600000000000004,2.25,2.5600000000000005,2.8900000000000006,3.24,3.6100000000000003,4.0,4.41,4.840000000000001,5.290000000000001,5.760000000000002,6.25,6.760000000000001,7.290000000000001,7.840000000000002,8.410000000000002,9.0,9.610000000000001,10.240000000000002,10.890000000000002,11.560000000000002,12.25,12.96,13.690000000000001],\"type\":\"scatter\"}]},{\"data\":[{\"x\":[0.0,0.1,0.2,0.30000000000000004,0.4,0.5,0.6000000000000001,0.7000000000000001,0.8,0.9,1.0,1.1,1.2000000000000002,1.3,1.4000000000000001,1.5,1.6,1.7000000000000002,1.8,1.9000000000000001,2.0,2.1,2.2,2.3000000000000003,2.4000000000000004,2.5,2.6,2.7,2.8000000000000003,2.9000000000000004,3.0,3.1,3.2,3.3000000000000003,3.4000000000000004,3.5,3.6,3.7,3.8000000000000003],\"y\":[0.0,0.010000000000000002,0.04000000000000001,0.09000000000000002,0.16000000000000003,0.25,0.3600000000000001,0.4900000000000001,0.6400000000000001,0.81,1.0,1.2100000000000002,1.4400000000000004,1.6900000000000002,1.9600000000000004,2.25,2.5600000000000005,2.8900000000000006,3.24,3.6100000000000003,4.0,4.41,4.840000000000001,5.290000000000001,5.760000000000002,6.25,6.760000000000001,7.290000000000001,7.840000000000002,8.410000000000002,9.0,9.610000000000001,10.240000000000002,10.890000000000002,11.560000000000002,12.25,12.96,13.690000000000001,14.440000000000001],\"type\":\"scatter\"}]},{\"data\":[{\"x\":[0.0,0.1,0.2,0.30000000000000004,0.4,0.5,0.6000000000000001,0.7000000000000001,0.8,0.9,1.0,1.1,1.2000000000000002,1.3,1.4000000000000001,1.5,1.6,1.7000000000000002,1.8,1.9000000000000001,2.0,2.1,2.2,2.3000000000000003,2.4000000000000004,2.5,2.6,2.7,2.8000000000000003,2.9000000000000004,3.0,3.1,3.2,3.3000000000000003,3.4000000000000004,3.5,3.6,3.7,3.8000000000000003,3.9000000000000004],\"y\":[0.0,0.010000000000000002,0.04000000000000001,0.09000000000000002,0.16000000000000003,0.25,0.3600000000000001,0.4900000000000001,0.6400000000000001,0.81,1.0,1.2100000000000002,1.4400000000000004,1.6900000000000002,1.9600000000000004,2.25,2.5600000000000005,2.8900000000000006,3.24,3.6100000000000003,4.0,4.41,4.840000000000001,5.290000000000001,5.760000000000002,6.25,6.760000000000001,7.290000000000001,7.840000000000002,8.410000000000002,9.0,9.610000000000001,10.240000000000002,10.890000000000002,11.560000000000002,12.25,12.96,13.690000000000001,14.440000000000001,15.210000000000003],\"type\":\"scatter\"}]},{\"data\":[{\"x\":[0.0,0.1,0.2,0.30000000000000004,0.4,0.5,0.6000000000000001,0.7000000000000001,0.8,0.9,1.0,1.1,1.2000000000000002,1.3,1.4000000000000001,1.5,1.6,1.7000000000000002,1.8,1.9000000000000001,2.0,2.1,2.2,2.3000000000000003,2.4000000000000004,2.5,2.6,2.7,2.8000000000000003,2.9000000000000004,3.0,3.1,3.2,3.3000000000000003,3.4000000000000004,3.5,3.6,3.7,3.8000000000000003,3.9000000000000004,4.0],\"y\":[0.0,0.010000000000000002,0.04000000000000001,0.09000000000000002,0.16000000000000003,0.25,0.3600000000000001,0.4900000000000001,0.6400000000000001,0.81,1.0,1.2100000000000002,1.4400000000000004,1.6900000000000002,1.9600000000000004,2.25,2.5600000000000005,2.8900000000000006,3.24,3.6100000000000003,4.0,4.41,4.840000000000001,5.290000000000001,5.760000000000002,6.25,6.760000000000001,7.290000000000001,7.840000000000002,8.410000000000002,9.0,9.610000000000001,10.240000000000002,10.890000000000002,11.560000000000002,12.25,12.96,13.690000000000001,14.440000000000001,15.210000000000003,16.0],\"type\":\"scatter\"}]},{\"data\":[{\"x\":[0.0,0.1,0.2,0.30000000000000004,0.4,0.5,0.6000000000000001,0.7000000000000001,0.8,0.9,1.0,1.1,1.2000000000000002,1.3,1.4000000000000001,1.5,1.6,1.7000000000000002,1.8,1.9000000000000001,2.0,2.1,2.2,2.3000000000000003,2.4000000000000004,2.5,2.6,2.7,2.8000000000000003,2.9000000000000004,3.0,3.1,3.2,3.3000000000000003,3.4000000000000004,3.5,3.6,3.7,3.8000000000000003,3.9000000000000004,4.0,4.1000000000000005],\"y\":[0.0,0.010000000000000002,0.04000000000000001,0.09000000000000002,0.16000000000000003,0.25,0.3600000000000001,0.4900000000000001,0.6400000000000001,0.81,1.0,1.2100000000000002,1.4400000000000004,1.6900000000000002,1.9600000000000004,2.25,2.5600000000000005,2.8900000000000006,3.24,3.6100000000000003,4.0,4.41,4.840000000000001,5.290000000000001,5.760000000000002,6.25,6.760000000000001,7.290000000000001,7.840000000000002,8.410000000000002,9.0,9.610000000000001,10.240000000000002,10.890000000000002,11.560000000000002,12.25,12.96,13.690000000000001,14.440000000000001,15.210000000000003,16.0,16.810000000000006],\"type\":\"scatter\"}]},{\"data\":[{\"x\":[0.0,0.1,0.2,0.30000000000000004,0.4,0.5,0.6000000000000001,0.7000000000000001,0.8,0.9,1.0,1.1,1.2000000000000002,1.3,1.4000000000000001,1.5,1.6,1.7000000000000002,1.8,1.9000000000000001,2.0,2.1,2.2,2.3000000000000003,2.4000000000000004,2.5,2.6,2.7,2.8000000000000003,2.9000000000000004,3.0,3.1,3.2,3.3000000000000003,3.4000000000000004,3.5,3.6,3.7,3.8000000000000003,3.9000000000000004,4.0,4.1000000000000005,4.2],\"y\":[0.0,0.010000000000000002,0.04000000000000001,0.09000000000000002,0.16000000000000003,0.25,0.3600000000000001,0.4900000000000001,0.6400000000000001,0.81,1.0,1.2100000000000002,1.4400000000000004,1.6900000000000002,1.9600000000000004,2.25,2.5600000000000005,2.8900000000000006,3.24,3.6100000000000003,4.0,4.41,4.840000000000001,5.290000000000001,5.760000000000002,6.25,6.760000000000001,7.290000000000001,7.840000000000002,8.410000000000002,9.0,9.610000000000001,10.240000000000002,10.890000000000002,11.560000000000002,12.25,12.96,13.690000000000001,14.440000000000001,15.210000000000003,16.0,16.810000000000006,17.64],\"type\":\"scatter\"}]},{\"data\":[{\"x\":[0.0,0.1,0.2,0.30000000000000004,0.4,0.5,0.6000000000000001,0.7000000000000001,0.8,0.9,1.0,1.1,1.2000000000000002,1.3,1.4000000000000001,1.5,1.6,1.7000000000000002,1.8,1.9000000000000001,2.0,2.1,2.2,2.3000000000000003,2.4000000000000004,2.5,2.6,2.7,2.8000000000000003,2.9000000000000004,3.0,3.1,3.2,3.3000000000000003,3.4000000000000004,3.5,3.6,3.7,3.8000000000000003,3.9000000000000004,4.0,4.1000000000000005,4.2,4.3],\"y\":[0.0,0.010000000000000002,0.04000000000000001,0.09000000000000002,0.16000000000000003,0.25,0.3600000000000001,0.4900000000000001,0.6400000000000001,0.81,1.0,1.2100000000000002,1.4400000000000004,1.6900000000000002,1.9600000000000004,2.25,2.5600000000000005,2.8900000000000006,3.24,3.6100000000000003,4.0,4.41,4.840000000000001,5.290000000000001,5.760000000000002,6.25,6.760000000000001,7.290000000000001,7.840000000000002,8.410000000000002,9.0,9.610000000000001,10.240000000000002,10.890000000000002,11.560000000000002,12.25,12.96,13.690000000000001,14.440000000000001,15.210000000000003,16.0,16.810000000000006,17.64,18.49],\"type\":\"scatter\"}]},{\"data\":[{\"x\":[0.0,0.1,0.2,0.30000000000000004,0.4,0.5,0.6000000000000001,0.7000000000000001,0.8,0.9,1.0,1.1,1.2000000000000002,1.3,1.4000000000000001,1.5,1.6,1.7000000000000002,1.8,1.9000000000000001,2.0,2.1,2.2,2.3000000000000003,2.4000000000000004,2.5,2.6,2.7,2.8000000000000003,2.9000000000000004,3.0,3.1,3.2,3.3000000000000003,3.4000000000000004,3.5,3.6,3.7,3.8000000000000003,3.9000000000000004,4.0,4.1000000000000005,4.2,4.3,4.4],\"y\":[0.0,0.010000000000000002,0.04000000000000001,0.09000000000000002,0.16000000000000003,0.25,0.3600000000000001,0.4900000000000001,0.6400000000000001,0.81,1.0,1.2100000000000002,1.4400000000000004,1.6900000000000002,1.9600000000000004,2.25,2.5600000000000005,2.8900000000000006,3.24,3.6100000000000003,4.0,4.41,4.840000000000001,5.290000000000001,5.760000000000002,6.25,6.760000000000001,7.290000000000001,7.840000000000002,8.410000000000002,9.0,9.610000000000001,10.240000000000002,10.890000000000002,11.560000000000002,12.25,12.96,13.690000000000001,14.440000000000001,15.210000000000003,16.0,16.810000000000006,17.64,18.49,19.360000000000003],\"type\":\"scatter\"}]},{\"data\":[{\"x\":[0.0,0.1,0.2,0.30000000000000004,0.4,0.5,0.6000000000000001,0.7000000000000001,0.8,0.9,1.0,1.1,1.2000000000000002,1.3,1.4000000000000001,1.5,1.6,1.7000000000000002,1.8,1.9000000000000001,2.0,2.1,2.2,2.3000000000000003,2.4000000000000004,2.5,2.6,2.7,2.8000000000000003,2.9000000000000004,3.0,3.1,3.2,3.3000000000000003,3.4000000000000004,3.5,3.6,3.7,3.8000000000000003,3.9000000000000004,4.0,4.1000000000000005,4.2,4.3,4.4,4.5],\"y\":[0.0,0.010000000000000002,0.04000000000000001,0.09000000000000002,0.16000000000000003,0.25,0.3600000000000001,0.4900000000000001,0.6400000000000001,0.81,1.0,1.2100000000000002,1.4400000000000004,1.6900000000000002,1.9600000000000004,2.25,2.5600000000000005,2.8900000000000006,3.24,3.6100000000000003,4.0,4.41,4.840000000000001,5.290000000000001,5.760000000000002,6.25,6.760000000000001,7.290000000000001,7.840000000000002,8.410000000000002,9.0,9.610000000000001,10.240000000000002,10.890000000000002,11.560000000000002,12.25,12.96,13.690000000000001,14.440000000000001,15.210000000000003,16.0,16.810000000000006,17.64,18.49,19.360000000000003,20.25],\"type\":\"scatter\"}]},{\"data\":[{\"x\":[0.0,0.1,0.2,0.30000000000000004,0.4,0.5,0.6000000000000001,0.7000000000000001,0.8,0.9,1.0,1.1,1.2000000000000002,1.3,1.4000000000000001,1.5,1.6,1.7000000000000002,1.8,1.9000000000000001,2.0,2.1,2.2,2.3000000000000003,2.4000000000000004,2.5,2.6,2.7,2.8000000000000003,2.9000000000000004,3.0,3.1,3.2,3.3000000000000003,3.4000000000000004,3.5,3.6,3.7,3.8000000000000003,3.9000000000000004,4.0,4.1000000000000005,4.2,4.3,4.4,4.5,4.6000000000000005],\"y\":[0.0,0.010000000000000002,0.04000000000000001,0.09000000000000002,0.16000000000000003,0.25,0.3600000000000001,0.4900000000000001,0.6400000000000001,0.81,1.0,1.2100000000000002,1.4400000000000004,1.6900000000000002,1.9600000000000004,2.25,2.5600000000000005,2.8900000000000006,3.24,3.6100000000000003,4.0,4.41,4.840000000000001,5.290000000000001,5.760000000000002,6.25,6.760000000000001,7.290000000000001,7.840000000000002,8.410000000000002,9.0,9.610000000000001,10.240000000000002,10.890000000000002,11.560000000000002,12.25,12.96,13.690000000000001,14.440000000000001,15.210000000000003,16.0,16.810000000000006,17.64,18.49,19.360000000000003,20.25,21.160000000000004],\"type\":\"scatter\"}]},{\"data\":[{\"x\":[0.0,0.1,0.2,0.30000000000000004,0.4,0.5,0.6000000000000001,0.7000000000000001,0.8,0.9,1.0,1.1,1.2000000000000002,1.3,1.4000000000000001,1.5,1.6,1.7000000000000002,1.8,1.9000000000000001,2.0,2.1,2.2,2.3000000000000003,2.4000000000000004,2.5,2.6,2.7,2.8000000000000003,2.9000000000000004,3.0,3.1,3.2,3.3000000000000003,3.4000000000000004,3.5,3.6,3.7,3.8000000000000003,3.9000000000000004,4.0,4.1000000000000005,4.2,4.3,4.4,4.5,4.6000000000000005,4.7],\"y\":[0.0,0.010000000000000002,0.04000000000000001,0.09000000000000002,0.16000000000000003,0.25,0.3600000000000001,0.4900000000000001,0.6400000000000001,0.81,1.0,1.2100000000000002,1.4400000000000004,1.6900000000000002,1.9600000000000004,2.25,2.5600000000000005,2.8900000000000006,3.24,3.6100000000000003,4.0,4.41,4.840000000000001,5.290000000000001,5.760000000000002,6.25,6.760000000000001,7.290000000000001,7.840000000000002,8.410000000000002,9.0,9.610000000000001,10.240000000000002,10.890000000000002,11.560000000000002,12.25,12.96,13.690000000000001,14.440000000000001,15.210000000000003,16.0,16.810000000000006,17.64,18.49,19.360000000000003,20.25,21.160000000000004,22.090000000000003],\"type\":\"scatter\"}]},{\"data\":[{\"x\":[0.0,0.1,0.2,0.30000000000000004,0.4,0.5,0.6000000000000001,0.7000000000000001,0.8,0.9,1.0,1.1,1.2000000000000002,1.3,1.4000000000000001,1.5,1.6,1.7000000000000002,1.8,1.9000000000000001,2.0,2.1,2.2,2.3000000000000003,2.4000000000000004,2.5,2.6,2.7,2.8000000000000003,2.9000000000000004,3.0,3.1,3.2,3.3000000000000003,3.4000000000000004,3.5,3.6,3.7,3.8000000000000003,3.9000000000000004,4.0,4.1000000000000005,4.2,4.3,4.4,4.5,4.6000000000000005,4.7,4.800000000000001],\"y\":[0.0,0.010000000000000002,0.04000000000000001,0.09000000000000002,0.16000000000000003,0.25,0.3600000000000001,0.4900000000000001,0.6400000000000001,0.81,1.0,1.2100000000000002,1.4400000000000004,1.6900000000000002,1.9600000000000004,2.25,2.5600000000000005,2.8900000000000006,3.24,3.6100000000000003,4.0,4.41,4.840000000000001,5.290000000000001,5.760000000000002,6.25,6.760000000000001,7.290000000000001,7.840000000000002,8.410000000000002,9.0,9.610000000000001,10.240000000000002,10.890000000000002,11.560000000000002,12.25,12.96,13.690000000000001,14.440000000000001,15.210000000000003,16.0,16.810000000000006,17.64,18.49,19.360000000000003,20.25,21.160000000000004,22.090000000000003,23.040000000000006],\"type\":\"scatter\"}]},{\"data\":[{\"x\":[0.0,0.1,0.2,0.30000000000000004,0.4,0.5,0.6000000000000001,0.7000000000000001,0.8,0.9,1.0,1.1,1.2000000000000002,1.3,1.4000000000000001,1.5,1.6,1.7000000000000002,1.8,1.9000000000000001,2.0,2.1,2.2,2.3000000000000003,2.4000000000000004,2.5,2.6,2.7,2.8000000000000003,2.9000000000000004,3.0,3.1,3.2,3.3000000000000003,3.4000000000000004,3.5,3.6,3.7,3.8000000000000003,3.9000000000000004,4.0,4.1000000000000005,4.2,4.3,4.4,4.5,4.6000000000000005,4.7,4.800000000000001,4.9],\"y\":[0.0,0.010000000000000002,0.04000000000000001,0.09000000000000002,0.16000000000000003,0.25,0.3600000000000001,0.4900000000000001,0.6400000000000001,0.81,1.0,1.2100000000000002,1.4400000000000004,1.6900000000000002,1.9600000000000004,2.25,2.5600000000000005,2.8900000000000006,3.24,3.6100000000000003,4.0,4.41,4.840000000000001,5.290000000000001,5.760000000000002,6.25,6.760000000000001,7.290000000000001,7.840000000000002,8.410000000000002,9.0,9.610000000000001,10.240000000000002,10.890000000000002,11.560000000000002,12.25,12.96,13.690000000000001,14.440000000000001,15.210000000000003,16.0,16.810000000000006,17.64,18.49,19.360000000000003,20.25,21.160000000000004,22.090000000000003,23.040000000000006,24.010000000000005],\"type\":\"scatter\"}]}]);\n",
       "                        }).then(function(){\n",
       "                            \n",
       "var gd = document.getElementById('dd98a656-6e24-4498-a845-4fa448add186');\n",
       "var x = new MutationObserver(function (mutations, observer) {{\n",
       "        var display = window.getComputedStyle(gd).display;\n",
       "        if (!display || display === 'none') {{\n",
       "            console.log([gd, 'removed!']);\n",
       "            Plotly.purge(gd);\n",
       "            observer.disconnect();\n",
       "        }}\n",
       "}});\n",
       "\n",
       "// Listen for the removal of the full notebook cells\n",
       "var notebookContainer = gd.closest('#notebook-container');\n",
       "if (notebookContainer) {{\n",
       "    x.observe(notebookContainer, {childList: true});\n",
       "}}\n",
       "\n",
       "// Listen for the clearing of the current output cell\n",
       "var outputEl = gd.closest('.output');\n",
       "if (outputEl) {{\n",
       "    x.observe(outputEl, {childList: true});\n",
       "}}\n",
       "\n",
       "                        })                };                });            </script>        </div>"
      ]
     },
     "metadata": {},
     "output_type": "display_data"
    }
   ],
   "source": [
    "def f(x):\n",
    "    return x**2\n",
    "fig = go.Figure()\n",
    "fig.add_trace(go.Scatter(x=[x[0]], y=[f(x)[0]], mode='lines+markers',  name='f(x)=x<sup>2</sup>'))\n",
    "\n",
    "frames=[]\n",
    "for i in range(1, len(x)):\n",
    "    frames.append(go.Frame(data=[go.Scatter(x=x[:i+1], y=f(x[:i+1]))]))# СОЗДАЕМ ФРЕЙМЫ\n",
    "\n",
    "fig.frames = frames# УКАЗЫВАЕМ ФРЕЙМЫ\n",
    "\n",
    "fig.update_layout(legend_orientation=\"h\",\n",
    "                  legend=dict(x=.5, xanchor=\"center\"),\n",
    "                  updatemenus=[dict(type=\"buttons\", buttons=[dict(label=\"Play\", method=\"animate\", args=[None])])],# ДЛЯ КНОПКИ ЗАПУСКА\n",
    "                  )\n",
    "fig.update_layout(autosize = False, width=500,height=500 ) # МЕНЯТЬ РАЗМЕР ПОЛОТНА \n",
    "fig.update_traces(hoverinfo=\"all\", hovertemplate=\"Аргумент: %{x}<br>Функция: %{y}\")"
   ]
  },
  {
   "cell_type": "code",
   "execution_count": 10,
   "metadata": {},
   "outputs": [
    {
     "data": {
      "application/vnd.plotly.v1+json": {
       "config": {
        "plotlyServerURL": "https://plot.ly"
       },
       "data": [
        {
         "hoverinfo": "all",
         "hovertemplate": "Аргумент: %{x}<br>Функция: %{y}",
         "marker": {
          "color": 0,
          "colorbar": {
           "title": {
            "text": "h(x)=sin(x)"
           }
          },
          "colorscale": [
           [
            0,
            "#000004"
           ],
           [
            0.1111111111111111,
            "#1b0c41"
           ],
           [
            0.2222222222222222,
            "#4a0c6b"
           ],
           [
            0.3333333333333333,
            "#781c6d"
           ],
           [
            0.4444444444444444,
            "#a52c60"
           ],
           [
            0.5555555555555556,
            "#cf4446"
           ],
           [
            0.6666666666666666,
            "#ed6925"
           ],
           [
            0.7777777777777778,
            "#fb9b06"
           ],
           [
            0.8888888888888888,
            "#f7d13d"
           ],
           [
            1,
            "#fcffa4"
           ]
          ],
          "size": 0
         },
         "mode": "lines+markers",
         "name": "f(x)=x<sup>2</sup>",
         "type": "scatter",
         "x": [
          0
         ],
         "y": [
          0
         ]
        }
       ],
       "frames": [
        {
         "data": [
          {
           "marker": {
            "color": [
             0,
             0.09983341664682815
            ],
            "size": [
             0,
             1.996668332936563
            ]
           },
           "type": "scatter",
           "x": [
            0,
            0.1
           ],
           "y": [
            0,
            0.010000000000000002
           ]
          }
         ]
        },
        {
         "data": [
          {
           "marker": {
            "color": [
             0,
             0.09983341664682815,
             0.19866933079506122
            ],
            "size": [
             0,
             1.996668332936563,
             3.9733866159012243
            ]
           },
           "type": "scatter",
           "x": [
            0,
            0.1,
            0.2
           ],
           "y": [
            0,
            0.010000000000000002,
            0.04000000000000001
           ]
          }
         ]
        },
        {
         "data": [
          {
           "marker": {
            "color": [
             0,
             0.09983341664682815,
             0.19866933079506122,
             0.2955202066613396
            ],
            "size": [
             0,
             1.996668332936563,
             3.9733866159012243,
             5.910404133226792
            ]
           },
           "type": "scatter",
           "x": [
            0,
            0.1,
            0.2,
            0.30000000000000004
           ],
           "y": [
            0,
            0.010000000000000002,
            0.04000000000000001,
            0.09000000000000002
           ]
          }
         ]
        },
        {
         "data": [
          {
           "marker": {
            "color": [
             0,
             0.09983341664682815,
             0.19866933079506122,
             0.2955202066613396,
             0.3894183423086505
            ],
            "size": [
             0,
             1.996668332936563,
             3.9733866159012243,
             5.910404133226792,
             7.788366846173011
            ]
           },
           "type": "scatter",
           "x": [
            0,
            0.1,
            0.2,
            0.30000000000000004,
            0.4
           ],
           "y": [
            0,
            0.010000000000000002,
            0.04000000000000001,
            0.09000000000000002,
            0.16000000000000003
           ]
          }
         ]
        },
        {
         "data": [
          {
           "marker": {
            "color": [
             0,
             0.09983341664682815,
             0.19866933079506122,
             0.2955202066613396,
             0.3894183423086505,
             0.479425538604203
            ],
            "size": [
             0,
             1.996668332936563,
             3.9733866159012243,
             5.910404133226792,
             7.788366846173011,
             9.58851077208406
            ]
           },
           "type": "scatter",
           "x": [
            0,
            0.1,
            0.2,
            0.30000000000000004,
            0.4,
            0.5
           ],
           "y": [
            0,
            0.010000000000000002,
            0.04000000000000001,
            0.09000000000000002,
            0.16000000000000003,
            0.25
           ]
          }
         ]
        },
        {
         "data": [
          {
           "marker": {
            "color": [
             0,
             0.09983341664682815,
             0.19866933079506122,
             0.2955202066613396,
             0.3894183423086505,
             0.479425538604203,
             0.5646424733950355
            ],
            "size": [
             0,
             1.996668332936563,
             3.9733866159012243,
             5.910404133226792,
             7.788366846173011,
             9.58851077208406,
             11.292849467900709
            ]
           },
           "type": "scatter",
           "x": [
            0,
            0.1,
            0.2,
            0.30000000000000004,
            0.4,
            0.5,
            0.6000000000000001
           ],
           "y": [
            0,
            0.010000000000000002,
            0.04000000000000001,
            0.09000000000000002,
            0.16000000000000003,
            0.25,
            0.3600000000000001
           ]
          }
         ]
        },
        {
         "data": [
          {
           "marker": {
            "color": [
             0,
             0.09983341664682815,
             0.19866933079506122,
             0.2955202066613396,
             0.3894183423086505,
             0.479425538604203,
             0.5646424733950355,
             0.6442176872376911
            ],
            "size": [
             0,
             1.996668332936563,
             3.9733866159012243,
             5.910404133226792,
             7.788366846173011,
             9.58851077208406,
             11.292849467900709,
             12.884353744753822
            ]
           },
           "type": "scatter",
           "x": [
            0,
            0.1,
            0.2,
            0.30000000000000004,
            0.4,
            0.5,
            0.6000000000000001,
            0.7000000000000001
           ],
           "y": [
            0,
            0.010000000000000002,
            0.04000000000000001,
            0.09000000000000002,
            0.16000000000000003,
            0.25,
            0.3600000000000001,
            0.4900000000000001
           ]
          }
         ]
        },
        {
         "data": [
          {
           "marker": {
            "color": [
             0,
             0.09983341664682815,
             0.19866933079506122,
             0.2955202066613396,
             0.3894183423086505,
             0.479425538604203,
             0.5646424733950355,
             0.6442176872376911,
             0.7173560908995228
            ],
            "size": [
             0,
             1.996668332936563,
             3.9733866159012243,
             5.910404133226792,
             7.788366846173011,
             9.58851077208406,
             11.292849467900709,
             12.884353744753822,
             14.347121817990455
            ]
           },
           "type": "scatter",
           "x": [
            0,
            0.1,
            0.2,
            0.30000000000000004,
            0.4,
            0.5,
            0.6000000000000001,
            0.7000000000000001,
            0.8
           ],
           "y": [
            0,
            0.010000000000000002,
            0.04000000000000001,
            0.09000000000000002,
            0.16000000000000003,
            0.25,
            0.3600000000000001,
            0.4900000000000001,
            0.6400000000000001
           ]
          }
         ]
        },
        {
         "data": [
          {
           "marker": {
            "color": [
             0,
             0.09983341664682815,
             0.19866933079506122,
             0.2955202066613396,
             0.3894183423086505,
             0.479425538604203,
             0.5646424733950355,
             0.6442176872376911,
             0.7173560908995228,
             0.7833269096274834
            ],
            "size": [
             0,
             1.996668332936563,
             3.9733866159012243,
             5.910404133226792,
             7.788366846173011,
             9.58851077208406,
             11.292849467900709,
             12.884353744753822,
             14.347121817990455,
             15.666538192549668
            ]
           },
           "type": "scatter",
           "x": [
            0,
            0.1,
            0.2,
            0.30000000000000004,
            0.4,
            0.5,
            0.6000000000000001,
            0.7000000000000001,
            0.8,
            0.9
           ],
           "y": [
            0,
            0.010000000000000002,
            0.04000000000000001,
            0.09000000000000002,
            0.16000000000000003,
            0.25,
            0.3600000000000001,
            0.4900000000000001,
            0.6400000000000001,
            0.81
           ]
          }
         ]
        },
        {
         "data": [
          {
           "marker": {
            "color": [
             0,
             0.09983341664682815,
             0.19866933079506122,
             0.2955202066613396,
             0.3894183423086505,
             0.479425538604203,
             0.5646424733950355,
             0.6442176872376911,
             0.7173560908995228,
             0.7833269096274834,
             0.8414709848078965
            ],
            "size": [
             0,
             1.996668332936563,
             3.9733866159012243,
             5.910404133226792,
             7.788366846173011,
             9.58851077208406,
             11.292849467900709,
             12.884353744753822,
             14.347121817990455,
             15.666538192549668,
             16.82941969615793
            ]
           },
           "type": "scatter",
           "x": [
            0,
            0.1,
            0.2,
            0.30000000000000004,
            0.4,
            0.5,
            0.6000000000000001,
            0.7000000000000001,
            0.8,
            0.9,
            1
           ],
           "y": [
            0,
            0.010000000000000002,
            0.04000000000000001,
            0.09000000000000002,
            0.16000000000000003,
            0.25,
            0.3600000000000001,
            0.4900000000000001,
            0.6400000000000001,
            0.81,
            1
           ]
          }
         ]
        },
        {
         "data": [
          {
           "marker": {
            "color": [
             0,
             0.09983341664682815,
             0.19866933079506122,
             0.2955202066613396,
             0.3894183423086505,
             0.479425538604203,
             0.5646424733950355,
             0.6442176872376911,
             0.7173560908995228,
             0.7833269096274834,
             0.8414709848078965,
             0.8912073600614354
            ],
            "size": [
             0,
             1.996668332936563,
             3.9733866159012243,
             5.910404133226792,
             7.788366846173011,
             9.58851077208406,
             11.292849467900709,
             12.884353744753822,
             14.347121817990455,
             15.666538192549668,
             16.82941969615793,
             17.82414720122871
            ]
           },
           "type": "scatter",
           "x": [
            0,
            0.1,
            0.2,
            0.30000000000000004,
            0.4,
            0.5,
            0.6000000000000001,
            0.7000000000000001,
            0.8,
            0.9,
            1,
            1.1
           ],
           "y": [
            0,
            0.010000000000000002,
            0.04000000000000001,
            0.09000000000000002,
            0.16000000000000003,
            0.25,
            0.3600000000000001,
            0.4900000000000001,
            0.6400000000000001,
            0.81,
            1,
            1.2100000000000002
           ]
          }
         ]
        },
        {
         "data": [
          {
           "marker": {
            "color": [
             0,
             0.09983341664682815,
             0.19866933079506122,
             0.2955202066613396,
             0.3894183423086505,
             0.479425538604203,
             0.5646424733950355,
             0.6442176872376911,
             0.7173560908995228,
             0.7833269096274834,
             0.8414709848078965,
             0.8912073600614354,
             0.9320390859672264
            ],
            "size": [
             0,
             1.996668332936563,
             3.9733866159012243,
             5.910404133226792,
             7.788366846173011,
             9.58851077208406,
             11.292849467900709,
             12.884353744753822,
             14.347121817990455,
             15.666538192549668,
             16.82941969615793,
             17.82414720122871,
             18.640781719344528
            ]
           },
           "type": "scatter",
           "x": [
            0,
            0.1,
            0.2,
            0.30000000000000004,
            0.4,
            0.5,
            0.6000000000000001,
            0.7000000000000001,
            0.8,
            0.9,
            1,
            1.1,
            1.2000000000000002
           ],
           "y": [
            0,
            0.010000000000000002,
            0.04000000000000001,
            0.09000000000000002,
            0.16000000000000003,
            0.25,
            0.3600000000000001,
            0.4900000000000001,
            0.6400000000000001,
            0.81,
            1,
            1.2100000000000002,
            1.4400000000000004
           ]
          }
         ]
        },
        {
         "data": [
          {
           "marker": {
            "color": [
             0,
             0.09983341664682815,
             0.19866933079506122,
             0.2955202066613396,
             0.3894183423086505,
             0.479425538604203,
             0.5646424733950355,
             0.6442176872376911,
             0.7173560908995228,
             0.7833269096274834,
             0.8414709848078965,
             0.8912073600614354,
             0.9320390859672264,
             0.963558185417193
            ],
            "size": [
             0,
             1.996668332936563,
             3.9733866159012243,
             5.910404133226792,
             7.788366846173011,
             9.58851077208406,
             11.292849467900709,
             12.884353744753822,
             14.347121817990455,
             15.666538192549668,
             16.82941969615793,
             17.82414720122871,
             18.640781719344528,
             19.27116370834386
            ]
           },
           "type": "scatter",
           "x": [
            0,
            0.1,
            0.2,
            0.30000000000000004,
            0.4,
            0.5,
            0.6000000000000001,
            0.7000000000000001,
            0.8,
            0.9,
            1,
            1.1,
            1.2000000000000002,
            1.3
           ],
           "y": [
            0,
            0.010000000000000002,
            0.04000000000000001,
            0.09000000000000002,
            0.16000000000000003,
            0.25,
            0.3600000000000001,
            0.4900000000000001,
            0.6400000000000001,
            0.81,
            1,
            1.2100000000000002,
            1.4400000000000004,
            1.6900000000000002
           ]
          }
         ]
        },
        {
         "data": [
          {
           "marker": {
            "color": [
             0,
             0.09983341664682815,
             0.19866933079506122,
             0.2955202066613396,
             0.3894183423086505,
             0.479425538604203,
             0.5646424733950355,
             0.6442176872376911,
             0.7173560908995228,
             0.7833269096274834,
             0.8414709848078965,
             0.8912073600614354,
             0.9320390859672264,
             0.963558185417193,
             0.9854497299884603
            ],
            "size": [
             0,
             1.996668332936563,
             3.9733866159012243,
             5.910404133226792,
             7.788366846173011,
             9.58851077208406,
             11.292849467900709,
             12.884353744753822,
             14.347121817990455,
             15.666538192549668,
             16.82941969615793,
             17.82414720122871,
             18.640781719344528,
             19.27116370834386,
             19.708994599769206
            ]
           },
           "type": "scatter",
           "x": [
            0,
            0.1,
            0.2,
            0.30000000000000004,
            0.4,
            0.5,
            0.6000000000000001,
            0.7000000000000001,
            0.8,
            0.9,
            1,
            1.1,
            1.2000000000000002,
            1.3,
            1.4000000000000001
           ],
           "y": [
            0,
            0.010000000000000002,
            0.04000000000000001,
            0.09000000000000002,
            0.16000000000000003,
            0.25,
            0.3600000000000001,
            0.4900000000000001,
            0.6400000000000001,
            0.81,
            1,
            1.2100000000000002,
            1.4400000000000004,
            1.6900000000000002,
            1.9600000000000004
           ]
          }
         ]
        },
        {
         "data": [
          {
           "marker": {
            "color": [
             0,
             0.09983341664682815,
             0.19866933079506122,
             0.2955202066613396,
             0.3894183423086505,
             0.479425538604203,
             0.5646424733950355,
             0.6442176872376911,
             0.7173560908995228,
             0.7833269096274834,
             0.8414709848078965,
             0.8912073600614354,
             0.9320390859672264,
             0.963558185417193,
             0.9854497299884603,
             0.9974949866040544
            ],
            "size": [
             0,
             1.996668332936563,
             3.9733866159012243,
             5.910404133226792,
             7.788366846173011,
             9.58851077208406,
             11.292849467900709,
             12.884353744753822,
             14.347121817990455,
             15.666538192549668,
             16.82941969615793,
             17.82414720122871,
             18.640781719344528,
             19.27116370834386,
             19.708994599769206,
             19.94989973208109
            ]
           },
           "type": "scatter",
           "x": [
            0,
            0.1,
            0.2,
            0.30000000000000004,
            0.4,
            0.5,
            0.6000000000000001,
            0.7000000000000001,
            0.8,
            0.9,
            1,
            1.1,
            1.2000000000000002,
            1.3,
            1.4000000000000001,
            1.5
           ],
           "y": [
            0,
            0.010000000000000002,
            0.04000000000000001,
            0.09000000000000002,
            0.16000000000000003,
            0.25,
            0.3600000000000001,
            0.4900000000000001,
            0.6400000000000001,
            0.81,
            1,
            1.2100000000000002,
            1.4400000000000004,
            1.6900000000000002,
            1.9600000000000004,
            2.25
           ]
          }
         ]
        },
        {
         "data": [
          {
           "marker": {
            "color": [
             0,
             0.09983341664682815,
             0.19866933079506122,
             0.2955202066613396,
             0.3894183423086505,
             0.479425538604203,
             0.5646424733950355,
             0.6442176872376911,
             0.7173560908995228,
             0.7833269096274834,
             0.8414709848078965,
             0.8912073600614354,
             0.9320390859672264,
             0.963558185417193,
             0.9854497299884603,
             0.9974949866040544,
             0.9995736030415051
            ],
            "size": [
             0,
             1.996668332936563,
             3.9733866159012243,
             5.910404133226792,
             7.788366846173011,
             9.58851077208406,
             11.292849467900709,
             12.884353744753822,
             14.347121817990455,
             15.666538192549668,
             16.82941969615793,
             17.82414720122871,
             18.640781719344528,
             19.27116370834386,
             19.708994599769206,
             19.94989973208109,
             19.9914720608301
            ]
           },
           "type": "scatter",
           "x": [
            0,
            0.1,
            0.2,
            0.30000000000000004,
            0.4,
            0.5,
            0.6000000000000001,
            0.7000000000000001,
            0.8,
            0.9,
            1,
            1.1,
            1.2000000000000002,
            1.3,
            1.4000000000000001,
            1.5,
            1.6
           ],
           "y": [
            0,
            0.010000000000000002,
            0.04000000000000001,
            0.09000000000000002,
            0.16000000000000003,
            0.25,
            0.3600000000000001,
            0.4900000000000001,
            0.6400000000000001,
            0.81,
            1,
            1.2100000000000002,
            1.4400000000000004,
            1.6900000000000002,
            1.9600000000000004,
            2.25,
            2.5600000000000005
           ]
          }
         ]
        },
        {
         "data": [
          {
           "marker": {
            "color": [
             0,
             0.09983341664682815,
             0.19866933079506122,
             0.2955202066613396,
             0.3894183423086505,
             0.479425538604203,
             0.5646424733950355,
             0.6442176872376911,
             0.7173560908995228,
             0.7833269096274834,
             0.8414709848078965,
             0.8912073600614354,
             0.9320390859672264,
             0.963558185417193,
             0.9854497299884603,
             0.9974949866040544,
             0.9995736030415051,
             0.9916648104524686
            ],
            "size": [
             0,
             1.996668332936563,
             3.9733866159012243,
             5.910404133226792,
             7.788366846173011,
             9.58851077208406,
             11.292849467900709,
             12.884353744753822,
             14.347121817990455,
             15.666538192549668,
             16.82941969615793,
             17.82414720122871,
             18.640781719344528,
             19.27116370834386,
             19.708994599769206,
             19.94989973208109,
             19.9914720608301,
             19.833296209049372
            ]
           },
           "type": "scatter",
           "x": [
            0,
            0.1,
            0.2,
            0.30000000000000004,
            0.4,
            0.5,
            0.6000000000000001,
            0.7000000000000001,
            0.8,
            0.9,
            1,
            1.1,
            1.2000000000000002,
            1.3,
            1.4000000000000001,
            1.5,
            1.6,
            1.7000000000000002
           ],
           "y": [
            0,
            0.010000000000000002,
            0.04000000000000001,
            0.09000000000000002,
            0.16000000000000003,
            0.25,
            0.3600000000000001,
            0.4900000000000001,
            0.6400000000000001,
            0.81,
            1,
            1.2100000000000002,
            1.4400000000000004,
            1.6900000000000002,
            1.9600000000000004,
            2.25,
            2.5600000000000005,
            2.8900000000000006
           ]
          }
         ]
        },
        {
         "data": [
          {
           "marker": {
            "color": [
             0,
             0.09983341664682815,
             0.19866933079506122,
             0.2955202066613396,
             0.3894183423086505,
             0.479425538604203,
             0.5646424733950355,
             0.6442176872376911,
             0.7173560908995228,
             0.7833269096274834,
             0.8414709848078965,
             0.8912073600614354,
             0.9320390859672264,
             0.963558185417193,
             0.9854497299884603,
             0.9974949866040544,
             0.9995736030415051,
             0.9916648104524686,
             0.9738476308781951
            ],
            "size": [
             0,
             1.996668332936563,
             3.9733866159012243,
             5.910404133226792,
             7.788366846173011,
             9.58851077208406,
             11.292849467900709,
             12.884353744753822,
             14.347121817990455,
             15.666538192549668,
             16.82941969615793,
             17.82414720122871,
             18.640781719344528,
             19.27116370834386,
             19.708994599769206,
             19.94989973208109,
             19.9914720608301,
             19.833296209049372,
             19.476952617563903
            ]
           },
           "type": "scatter",
           "x": [
            0,
            0.1,
            0.2,
            0.30000000000000004,
            0.4,
            0.5,
            0.6000000000000001,
            0.7000000000000001,
            0.8,
            0.9,
            1,
            1.1,
            1.2000000000000002,
            1.3,
            1.4000000000000001,
            1.5,
            1.6,
            1.7000000000000002,
            1.8
           ],
           "y": [
            0,
            0.010000000000000002,
            0.04000000000000001,
            0.09000000000000002,
            0.16000000000000003,
            0.25,
            0.3600000000000001,
            0.4900000000000001,
            0.6400000000000001,
            0.81,
            1,
            1.2100000000000002,
            1.4400000000000004,
            1.6900000000000002,
            1.9600000000000004,
            2.25,
            2.5600000000000005,
            2.8900000000000006,
            3.24
           ]
          }
         ]
        },
        {
         "data": [
          {
           "marker": {
            "color": [
             0,
             0.09983341664682815,
             0.19866933079506122,
             0.2955202066613396,
             0.3894183423086505,
             0.479425538604203,
             0.5646424733950355,
             0.6442176872376911,
             0.7173560908995228,
             0.7833269096274834,
             0.8414709848078965,
             0.8912073600614354,
             0.9320390859672264,
             0.963558185417193,
             0.9854497299884603,
             0.9974949866040544,
             0.9995736030415051,
             0.9916648104524686,
             0.9738476308781951,
             0.9463000876874145
            ],
            "size": [
             0,
             1.996668332936563,
             3.9733866159012243,
             5.910404133226792,
             7.788366846173011,
             9.58851077208406,
             11.292849467900709,
             12.884353744753822,
             14.347121817990455,
             15.666538192549668,
             16.82941969615793,
             17.82414720122871,
             18.640781719344528,
             19.27116370834386,
             19.708994599769206,
             19.94989973208109,
             19.9914720608301,
             19.833296209049372,
             19.476952617563903,
             18.926001753748288
            ]
           },
           "type": "scatter",
           "x": [
            0,
            0.1,
            0.2,
            0.30000000000000004,
            0.4,
            0.5,
            0.6000000000000001,
            0.7000000000000001,
            0.8,
            0.9,
            1,
            1.1,
            1.2000000000000002,
            1.3,
            1.4000000000000001,
            1.5,
            1.6,
            1.7000000000000002,
            1.8,
            1.9000000000000001
           ],
           "y": [
            0,
            0.010000000000000002,
            0.04000000000000001,
            0.09000000000000002,
            0.16000000000000003,
            0.25,
            0.3600000000000001,
            0.4900000000000001,
            0.6400000000000001,
            0.81,
            1,
            1.2100000000000002,
            1.4400000000000004,
            1.6900000000000002,
            1.9600000000000004,
            2.25,
            2.5600000000000005,
            2.8900000000000006,
            3.24,
            3.6100000000000003
           ]
          }
         ]
        },
        {
         "data": [
          {
           "marker": {
            "color": [
             0,
             0.09983341664682815,
             0.19866933079506122,
             0.2955202066613396,
             0.3894183423086505,
             0.479425538604203,
             0.5646424733950355,
             0.6442176872376911,
             0.7173560908995228,
             0.7833269096274834,
             0.8414709848078965,
             0.8912073600614354,
             0.9320390859672264,
             0.963558185417193,
             0.9854497299884603,
             0.9974949866040544,
             0.9995736030415051,
             0.9916648104524686,
             0.9738476308781951,
             0.9463000876874145,
             0.9092974268256817
            ],
            "size": [
             0,
             1.996668332936563,
             3.9733866159012243,
             5.910404133226792,
             7.788366846173011,
             9.58851077208406,
             11.292849467900709,
             12.884353744753822,
             14.347121817990455,
             15.666538192549668,
             16.82941969615793,
             17.82414720122871,
             18.640781719344528,
             19.27116370834386,
             19.708994599769206,
             19.94989973208109,
             19.9914720608301,
             19.833296209049372,
             19.476952617563903,
             18.926001753748288,
             18.185948536513635
            ]
           },
           "type": "scatter",
           "x": [
            0,
            0.1,
            0.2,
            0.30000000000000004,
            0.4,
            0.5,
            0.6000000000000001,
            0.7000000000000001,
            0.8,
            0.9,
            1,
            1.1,
            1.2000000000000002,
            1.3,
            1.4000000000000001,
            1.5,
            1.6,
            1.7000000000000002,
            1.8,
            1.9000000000000001,
            2
           ],
           "y": [
            0,
            0.010000000000000002,
            0.04000000000000001,
            0.09000000000000002,
            0.16000000000000003,
            0.25,
            0.3600000000000001,
            0.4900000000000001,
            0.6400000000000001,
            0.81,
            1,
            1.2100000000000002,
            1.4400000000000004,
            1.6900000000000002,
            1.9600000000000004,
            2.25,
            2.5600000000000005,
            2.8900000000000006,
            3.24,
            3.6100000000000003,
            4
           ]
          }
         ]
        },
        {
         "data": [
          {
           "marker": {
            "color": [
             0,
             0.09983341664682815,
             0.19866933079506122,
             0.2955202066613396,
             0.3894183423086505,
             0.479425538604203,
             0.5646424733950355,
             0.6442176872376911,
             0.7173560908995228,
             0.7833269096274834,
             0.8414709848078965,
             0.8912073600614354,
             0.9320390859672264,
             0.963558185417193,
             0.9854497299884603,
             0.9974949866040544,
             0.9995736030415051,
             0.9916648104524686,
             0.9738476308781951,
             0.9463000876874145,
             0.9092974268256817,
             0.8632093666488737
            ],
            "size": [
             0,
             1.996668332936563,
             3.9733866159012243,
             5.910404133226792,
             7.788366846173011,
             9.58851077208406,
             11.292849467900709,
             12.884353744753822,
             14.347121817990455,
             15.666538192549668,
             16.82941969615793,
             17.82414720122871,
             18.640781719344528,
             19.27116370834386,
             19.708994599769206,
             19.94989973208109,
             19.9914720608301,
             19.833296209049372,
             19.476952617563903,
             18.926001753748288,
             18.185948536513635,
             17.264187332977475
            ]
           },
           "type": "scatter",
           "x": [
            0,
            0.1,
            0.2,
            0.30000000000000004,
            0.4,
            0.5,
            0.6000000000000001,
            0.7000000000000001,
            0.8,
            0.9,
            1,
            1.1,
            1.2000000000000002,
            1.3,
            1.4000000000000001,
            1.5,
            1.6,
            1.7000000000000002,
            1.8,
            1.9000000000000001,
            2,
            2.1
           ],
           "y": [
            0,
            0.010000000000000002,
            0.04000000000000001,
            0.09000000000000002,
            0.16000000000000003,
            0.25,
            0.3600000000000001,
            0.4900000000000001,
            0.6400000000000001,
            0.81,
            1,
            1.2100000000000002,
            1.4400000000000004,
            1.6900000000000002,
            1.9600000000000004,
            2.25,
            2.5600000000000005,
            2.8900000000000006,
            3.24,
            3.6100000000000003,
            4,
            4.41
           ]
          }
         ]
        },
        {
         "data": [
          {
           "marker": {
            "color": [
             0,
             0.09983341664682815,
             0.19866933079506122,
             0.2955202066613396,
             0.3894183423086505,
             0.479425538604203,
             0.5646424733950355,
             0.6442176872376911,
             0.7173560908995228,
             0.7833269096274834,
             0.8414709848078965,
             0.8912073600614354,
             0.9320390859672264,
             0.963558185417193,
             0.9854497299884603,
             0.9974949866040544,
             0.9995736030415051,
             0.9916648104524686,
             0.9738476308781951,
             0.9463000876874145,
             0.9092974268256817,
             0.8632093666488737,
             0.8084964038195901
            ],
            "size": [
             0,
             1.996668332936563,
             3.9733866159012243,
             5.910404133226792,
             7.788366846173011,
             9.58851077208406,
             11.292849467900709,
             12.884353744753822,
             14.347121817990455,
             15.666538192549668,
             16.82941969615793,
             17.82414720122871,
             18.640781719344528,
             19.27116370834386,
             19.708994599769206,
             19.94989973208109,
             19.9914720608301,
             19.833296209049372,
             19.476952617563903,
             18.926001753748288,
             18.185948536513635,
             17.264187332977475,
             16.169928076391802
            ]
           },
           "type": "scatter",
           "x": [
            0,
            0.1,
            0.2,
            0.30000000000000004,
            0.4,
            0.5,
            0.6000000000000001,
            0.7000000000000001,
            0.8,
            0.9,
            1,
            1.1,
            1.2000000000000002,
            1.3,
            1.4000000000000001,
            1.5,
            1.6,
            1.7000000000000002,
            1.8,
            1.9000000000000001,
            2,
            2.1,
            2.2
           ],
           "y": [
            0,
            0.010000000000000002,
            0.04000000000000001,
            0.09000000000000002,
            0.16000000000000003,
            0.25,
            0.3600000000000001,
            0.4900000000000001,
            0.6400000000000001,
            0.81,
            1,
            1.2100000000000002,
            1.4400000000000004,
            1.6900000000000002,
            1.9600000000000004,
            2.25,
            2.5600000000000005,
            2.8900000000000006,
            3.24,
            3.6100000000000003,
            4,
            4.41,
            4.840000000000001
           ]
          }
         ]
        },
        {
         "data": [
          {
           "marker": {
            "color": [
             0,
             0.09983341664682815,
             0.19866933079506122,
             0.2955202066613396,
             0.3894183423086505,
             0.479425538604203,
             0.5646424733950355,
             0.6442176872376911,
             0.7173560908995228,
             0.7833269096274834,
             0.8414709848078965,
             0.8912073600614354,
             0.9320390859672264,
             0.963558185417193,
             0.9854497299884603,
             0.9974949866040544,
             0.9995736030415051,
             0.9916648104524686,
             0.9738476308781951,
             0.9463000876874145,
             0.9092974268256817,
             0.8632093666488737,
             0.8084964038195901,
             0.74570521217672
            ],
            "size": [
             0,
             1.996668332936563,
             3.9733866159012243,
             5.910404133226792,
             7.788366846173011,
             9.58851077208406,
             11.292849467900709,
             12.884353744753822,
             14.347121817990455,
             15.666538192549668,
             16.82941969615793,
             17.82414720122871,
             18.640781719344528,
             19.27116370834386,
             19.708994599769206,
             19.94989973208109,
             19.9914720608301,
             19.833296209049372,
             19.476952617563903,
             18.926001753748288,
             18.185948536513635,
             17.264187332977475,
             16.169928076391802,
             14.9141042435344
            ]
           },
           "type": "scatter",
           "x": [
            0,
            0.1,
            0.2,
            0.30000000000000004,
            0.4,
            0.5,
            0.6000000000000001,
            0.7000000000000001,
            0.8,
            0.9,
            1,
            1.1,
            1.2000000000000002,
            1.3,
            1.4000000000000001,
            1.5,
            1.6,
            1.7000000000000002,
            1.8,
            1.9000000000000001,
            2,
            2.1,
            2.2,
            2.3000000000000003
           ],
           "y": [
            0,
            0.010000000000000002,
            0.04000000000000001,
            0.09000000000000002,
            0.16000000000000003,
            0.25,
            0.3600000000000001,
            0.4900000000000001,
            0.6400000000000001,
            0.81,
            1,
            1.2100000000000002,
            1.4400000000000004,
            1.6900000000000002,
            1.9600000000000004,
            2.25,
            2.5600000000000005,
            2.8900000000000006,
            3.24,
            3.6100000000000003,
            4,
            4.41,
            4.840000000000001,
            5.290000000000001
           ]
          }
         ]
        },
        {
         "data": [
          {
           "marker": {
            "color": [
             0,
             0.09983341664682815,
             0.19866933079506122,
             0.2955202066613396,
             0.3894183423086505,
             0.479425538604203,
             0.5646424733950355,
             0.6442176872376911,
             0.7173560908995228,
             0.7833269096274834,
             0.8414709848078965,
             0.8912073600614354,
             0.9320390859672264,
             0.963558185417193,
             0.9854497299884603,
             0.9974949866040544,
             0.9995736030415051,
             0.9916648104524686,
             0.9738476308781951,
             0.9463000876874145,
             0.9092974268256817,
             0.8632093666488737,
             0.8084964038195901,
             0.74570521217672,
             0.6754631805511506
            ],
            "size": [
             0,
             1.996668332936563,
             3.9733866159012243,
             5.910404133226792,
             7.788366846173011,
             9.58851077208406,
             11.292849467900709,
             12.884353744753822,
             14.347121817990455,
             15.666538192549668,
             16.82941969615793,
             17.82414720122871,
             18.640781719344528,
             19.27116370834386,
             19.708994599769206,
             19.94989973208109,
             19.9914720608301,
             19.833296209049372,
             19.476952617563903,
             18.926001753748288,
             18.185948536513635,
             17.264187332977475,
             16.169928076391802,
             14.9141042435344,
             13.509263611023012
            ]
           },
           "type": "scatter",
           "x": [
            0,
            0.1,
            0.2,
            0.30000000000000004,
            0.4,
            0.5,
            0.6000000000000001,
            0.7000000000000001,
            0.8,
            0.9,
            1,
            1.1,
            1.2000000000000002,
            1.3,
            1.4000000000000001,
            1.5,
            1.6,
            1.7000000000000002,
            1.8,
            1.9000000000000001,
            2,
            2.1,
            2.2,
            2.3000000000000003,
            2.4000000000000004
           ],
           "y": [
            0,
            0.010000000000000002,
            0.04000000000000001,
            0.09000000000000002,
            0.16000000000000003,
            0.25,
            0.3600000000000001,
            0.4900000000000001,
            0.6400000000000001,
            0.81,
            1,
            1.2100000000000002,
            1.4400000000000004,
            1.6900000000000002,
            1.9600000000000004,
            2.25,
            2.5600000000000005,
            2.8900000000000006,
            3.24,
            3.6100000000000003,
            4,
            4.41,
            4.840000000000001,
            5.290000000000001,
            5.760000000000002
           ]
          }
         ]
        },
        {
         "data": [
          {
           "marker": {
            "color": [
             0,
             0.09983341664682815,
             0.19866933079506122,
             0.2955202066613396,
             0.3894183423086505,
             0.479425538604203,
             0.5646424733950355,
             0.6442176872376911,
             0.7173560908995228,
             0.7833269096274834,
             0.8414709848078965,
             0.8912073600614354,
             0.9320390859672264,
             0.963558185417193,
             0.9854497299884603,
             0.9974949866040544,
             0.9995736030415051,
             0.9916648104524686,
             0.9738476308781951,
             0.9463000876874145,
             0.9092974268256817,
             0.8632093666488737,
             0.8084964038195901,
             0.74570521217672,
             0.6754631805511506,
             0.5984721441039564
            ],
            "size": [
             0,
             1.996668332936563,
             3.9733866159012243,
             5.910404133226792,
             7.788366846173011,
             9.58851077208406,
             11.292849467900709,
             12.884353744753822,
             14.347121817990455,
             15.666538192549668,
             16.82941969615793,
             17.82414720122871,
             18.640781719344528,
             19.27116370834386,
             19.708994599769206,
             19.94989973208109,
             19.9914720608301,
             19.833296209049372,
             19.476952617563903,
             18.926001753748288,
             18.185948536513635,
             17.264187332977475,
             16.169928076391802,
             14.9141042435344,
             13.509263611023012,
             11.969442882079129
            ]
           },
           "type": "scatter",
           "x": [
            0,
            0.1,
            0.2,
            0.30000000000000004,
            0.4,
            0.5,
            0.6000000000000001,
            0.7000000000000001,
            0.8,
            0.9,
            1,
            1.1,
            1.2000000000000002,
            1.3,
            1.4000000000000001,
            1.5,
            1.6,
            1.7000000000000002,
            1.8,
            1.9000000000000001,
            2,
            2.1,
            2.2,
            2.3000000000000003,
            2.4000000000000004,
            2.5
           ],
           "y": [
            0,
            0.010000000000000002,
            0.04000000000000001,
            0.09000000000000002,
            0.16000000000000003,
            0.25,
            0.3600000000000001,
            0.4900000000000001,
            0.6400000000000001,
            0.81,
            1,
            1.2100000000000002,
            1.4400000000000004,
            1.6900000000000002,
            1.9600000000000004,
            2.25,
            2.5600000000000005,
            2.8900000000000006,
            3.24,
            3.6100000000000003,
            4,
            4.41,
            4.840000000000001,
            5.290000000000001,
            5.760000000000002,
            6.25
           ]
          }
         ]
        },
        {
         "data": [
          {
           "marker": {
            "color": [
             0,
             0.09983341664682815,
             0.19866933079506122,
             0.2955202066613396,
             0.3894183423086505,
             0.479425538604203,
             0.5646424733950355,
             0.6442176872376911,
             0.7173560908995228,
             0.7833269096274834,
             0.8414709848078965,
             0.8912073600614354,
             0.9320390859672264,
             0.963558185417193,
             0.9854497299884603,
             0.9974949866040544,
             0.9995736030415051,
             0.9916648104524686,
             0.9738476308781951,
             0.9463000876874145,
             0.9092974268256817,
             0.8632093666488737,
             0.8084964038195901,
             0.74570521217672,
             0.6754631805511506,
             0.5984721441039564,
             0.5155013718214642
            ],
            "size": [
             0,
             1.996668332936563,
             3.9733866159012243,
             5.910404133226792,
             7.788366846173011,
             9.58851077208406,
             11.292849467900709,
             12.884353744753822,
             14.347121817990455,
             15.666538192549668,
             16.82941969615793,
             17.82414720122871,
             18.640781719344528,
             19.27116370834386,
             19.708994599769206,
             19.94989973208109,
             19.9914720608301,
             19.833296209049372,
             19.476952617563903,
             18.926001753748288,
             18.185948536513635,
             17.264187332977475,
             16.169928076391802,
             14.9141042435344,
             13.509263611023012,
             11.969442882079129,
             10.310027436429284
            ]
           },
           "type": "scatter",
           "x": [
            0,
            0.1,
            0.2,
            0.30000000000000004,
            0.4,
            0.5,
            0.6000000000000001,
            0.7000000000000001,
            0.8,
            0.9,
            1,
            1.1,
            1.2000000000000002,
            1.3,
            1.4000000000000001,
            1.5,
            1.6,
            1.7000000000000002,
            1.8,
            1.9000000000000001,
            2,
            2.1,
            2.2,
            2.3000000000000003,
            2.4000000000000004,
            2.5,
            2.6
           ],
           "y": [
            0,
            0.010000000000000002,
            0.04000000000000001,
            0.09000000000000002,
            0.16000000000000003,
            0.25,
            0.3600000000000001,
            0.4900000000000001,
            0.6400000000000001,
            0.81,
            1,
            1.2100000000000002,
            1.4400000000000004,
            1.6900000000000002,
            1.9600000000000004,
            2.25,
            2.5600000000000005,
            2.8900000000000006,
            3.24,
            3.6100000000000003,
            4,
            4.41,
            4.840000000000001,
            5.290000000000001,
            5.760000000000002,
            6.25,
            6.760000000000001
           ]
          }
         ]
        },
        {
         "data": [
          {
           "marker": {
            "color": [
             0,
             0.09983341664682815,
             0.19866933079506122,
             0.2955202066613396,
             0.3894183423086505,
             0.479425538604203,
             0.5646424733950355,
             0.6442176872376911,
             0.7173560908995228,
             0.7833269096274834,
             0.8414709848078965,
             0.8912073600614354,
             0.9320390859672264,
             0.963558185417193,
             0.9854497299884603,
             0.9974949866040544,
             0.9995736030415051,
             0.9916648104524686,
             0.9738476308781951,
             0.9463000876874145,
             0.9092974268256817,
             0.8632093666488737,
             0.8084964038195901,
             0.74570521217672,
             0.6754631805511506,
             0.5984721441039564,
             0.5155013718214642,
             0.4273798802338298
            ],
            "size": [
             0,
             1.996668332936563,
             3.9733866159012243,
             5.910404133226792,
             7.788366846173011,
             9.58851077208406,
             11.292849467900709,
             12.884353744753822,
             14.347121817990455,
             15.666538192549668,
             16.82941969615793,
             17.82414720122871,
             18.640781719344528,
             19.27116370834386,
             19.708994599769206,
             19.94989973208109,
             19.9914720608301,
             19.833296209049372,
             19.476952617563903,
             18.926001753748288,
             18.185948536513635,
             17.264187332977475,
             16.169928076391802,
             14.9141042435344,
             13.509263611023012,
             11.969442882079129,
             10.310027436429284,
             8.547597604676596
            ]
           },
           "type": "scatter",
           "x": [
            0,
            0.1,
            0.2,
            0.30000000000000004,
            0.4,
            0.5,
            0.6000000000000001,
            0.7000000000000001,
            0.8,
            0.9,
            1,
            1.1,
            1.2000000000000002,
            1.3,
            1.4000000000000001,
            1.5,
            1.6,
            1.7000000000000002,
            1.8,
            1.9000000000000001,
            2,
            2.1,
            2.2,
            2.3000000000000003,
            2.4000000000000004,
            2.5,
            2.6,
            2.7
           ],
           "y": [
            0,
            0.010000000000000002,
            0.04000000000000001,
            0.09000000000000002,
            0.16000000000000003,
            0.25,
            0.3600000000000001,
            0.4900000000000001,
            0.6400000000000001,
            0.81,
            1,
            1.2100000000000002,
            1.4400000000000004,
            1.6900000000000002,
            1.9600000000000004,
            2.25,
            2.5600000000000005,
            2.8900000000000006,
            3.24,
            3.6100000000000003,
            4,
            4.41,
            4.840000000000001,
            5.290000000000001,
            5.760000000000002,
            6.25,
            6.760000000000001,
            7.290000000000001
           ]
          }
         ]
        },
        {
         "data": [
          {
           "marker": {
            "color": [
             0,
             0.09983341664682815,
             0.19866933079506122,
             0.2955202066613396,
             0.3894183423086505,
             0.479425538604203,
             0.5646424733950355,
             0.6442176872376911,
             0.7173560908995228,
             0.7833269096274834,
             0.8414709848078965,
             0.8912073600614354,
             0.9320390859672264,
             0.963558185417193,
             0.9854497299884603,
             0.9974949866040544,
             0.9995736030415051,
             0.9916648104524686,
             0.9738476308781951,
             0.9463000876874145,
             0.9092974268256817,
             0.8632093666488737,
             0.8084964038195901,
             0.74570521217672,
             0.6754631805511506,
             0.5984721441039564,
             0.5155013718214642,
             0.4273798802338298,
             0.33498815015590466
            ],
            "size": [
             0,
             1.996668332936563,
             3.9733866159012243,
             5.910404133226792,
             7.788366846173011,
             9.58851077208406,
             11.292849467900709,
             12.884353744753822,
             14.347121817990455,
             15.666538192549668,
             16.82941969615793,
             17.82414720122871,
             18.640781719344528,
             19.27116370834386,
             19.708994599769206,
             19.94989973208109,
             19.9914720608301,
             19.833296209049372,
             19.476952617563903,
             18.926001753748288,
             18.185948536513635,
             17.264187332977475,
             16.169928076391802,
             14.9141042435344,
             13.509263611023012,
             11.969442882079129,
             10.310027436429284,
             8.547597604676596,
             6.699763003118093
            ]
           },
           "type": "scatter",
           "x": [
            0,
            0.1,
            0.2,
            0.30000000000000004,
            0.4,
            0.5,
            0.6000000000000001,
            0.7000000000000001,
            0.8,
            0.9,
            1,
            1.1,
            1.2000000000000002,
            1.3,
            1.4000000000000001,
            1.5,
            1.6,
            1.7000000000000002,
            1.8,
            1.9000000000000001,
            2,
            2.1,
            2.2,
            2.3000000000000003,
            2.4000000000000004,
            2.5,
            2.6,
            2.7,
            2.8000000000000003
           ],
           "y": [
            0,
            0.010000000000000002,
            0.04000000000000001,
            0.09000000000000002,
            0.16000000000000003,
            0.25,
            0.3600000000000001,
            0.4900000000000001,
            0.6400000000000001,
            0.81,
            1,
            1.2100000000000002,
            1.4400000000000004,
            1.6900000000000002,
            1.9600000000000004,
            2.25,
            2.5600000000000005,
            2.8900000000000006,
            3.24,
            3.6100000000000003,
            4,
            4.41,
            4.840000000000001,
            5.290000000000001,
            5.760000000000002,
            6.25,
            6.760000000000001,
            7.290000000000001,
            7.840000000000002
           ]
          }
         ]
        },
        {
         "data": [
          {
           "marker": {
            "color": [
             0,
             0.09983341664682815,
             0.19866933079506122,
             0.2955202066613396,
             0.3894183423086505,
             0.479425538604203,
             0.5646424733950355,
             0.6442176872376911,
             0.7173560908995228,
             0.7833269096274834,
             0.8414709848078965,
             0.8912073600614354,
             0.9320390859672264,
             0.963558185417193,
             0.9854497299884603,
             0.9974949866040544,
             0.9995736030415051,
             0.9916648104524686,
             0.9738476308781951,
             0.9463000876874145,
             0.9092974268256817,
             0.8632093666488737,
             0.8084964038195901,
             0.74570521217672,
             0.6754631805511506,
             0.5984721441039564,
             0.5155013718214642,
             0.4273798802338298,
             0.33498815015590466,
             0.23924932921398198
            ],
            "size": [
             0,
             1.996668332936563,
             3.9733866159012243,
             5.910404133226792,
             7.788366846173011,
             9.58851077208406,
             11.292849467900709,
             12.884353744753822,
             14.347121817990455,
             15.666538192549668,
             16.82941969615793,
             17.82414720122871,
             18.640781719344528,
             19.27116370834386,
             19.708994599769206,
             19.94989973208109,
             19.9914720608301,
             19.833296209049372,
             19.476952617563903,
             18.926001753748288,
             18.185948536513635,
             17.264187332977475,
             16.169928076391802,
             14.9141042435344,
             13.509263611023012,
             11.969442882079129,
             10.310027436429284,
             8.547597604676596,
             6.699763003118093,
             4.78498658427964
            ]
           },
           "type": "scatter",
           "x": [
            0,
            0.1,
            0.2,
            0.30000000000000004,
            0.4,
            0.5,
            0.6000000000000001,
            0.7000000000000001,
            0.8,
            0.9,
            1,
            1.1,
            1.2000000000000002,
            1.3,
            1.4000000000000001,
            1.5,
            1.6,
            1.7000000000000002,
            1.8,
            1.9000000000000001,
            2,
            2.1,
            2.2,
            2.3000000000000003,
            2.4000000000000004,
            2.5,
            2.6,
            2.7,
            2.8000000000000003,
            2.9000000000000004
           ],
           "y": [
            0,
            0.010000000000000002,
            0.04000000000000001,
            0.09000000000000002,
            0.16000000000000003,
            0.25,
            0.3600000000000001,
            0.4900000000000001,
            0.6400000000000001,
            0.81,
            1,
            1.2100000000000002,
            1.4400000000000004,
            1.6900000000000002,
            1.9600000000000004,
            2.25,
            2.5600000000000005,
            2.8900000000000006,
            3.24,
            3.6100000000000003,
            4,
            4.41,
            4.840000000000001,
            5.290000000000001,
            5.760000000000002,
            6.25,
            6.760000000000001,
            7.290000000000001,
            7.840000000000002,
            8.410000000000002
           ]
          }
         ]
        },
        {
         "data": [
          {
           "marker": {
            "color": [
             0,
             0.09983341664682815,
             0.19866933079506122,
             0.2955202066613396,
             0.3894183423086505,
             0.479425538604203,
             0.5646424733950355,
             0.6442176872376911,
             0.7173560908995228,
             0.7833269096274834,
             0.8414709848078965,
             0.8912073600614354,
             0.9320390859672264,
             0.963558185417193,
             0.9854497299884603,
             0.9974949866040544,
             0.9995736030415051,
             0.9916648104524686,
             0.9738476308781951,
             0.9463000876874145,
             0.9092974268256817,
             0.8632093666488737,
             0.8084964038195901,
             0.74570521217672,
             0.6754631805511506,
             0.5984721441039564,
             0.5155013718214642,
             0.4273798802338298,
             0.33498815015590466,
             0.23924932921398198,
             0.1411200080598672
            ],
            "size": [
             0,
             1.996668332936563,
             3.9733866159012243,
             5.910404133226792,
             7.788366846173011,
             9.58851077208406,
             11.292849467900709,
             12.884353744753822,
             14.347121817990455,
             15.666538192549668,
             16.82941969615793,
             17.82414720122871,
             18.640781719344528,
             19.27116370834386,
             19.708994599769206,
             19.94989973208109,
             19.9914720608301,
             19.833296209049372,
             19.476952617563903,
             18.926001753748288,
             18.185948536513635,
             17.264187332977475,
             16.169928076391802,
             14.9141042435344,
             13.509263611023012,
             11.969442882079129,
             10.310027436429284,
             8.547597604676596,
             6.699763003118093,
             4.78498658427964,
             2.8224001611973444
            ]
           },
           "type": "scatter",
           "x": [
            0,
            0.1,
            0.2,
            0.30000000000000004,
            0.4,
            0.5,
            0.6000000000000001,
            0.7000000000000001,
            0.8,
            0.9,
            1,
            1.1,
            1.2000000000000002,
            1.3,
            1.4000000000000001,
            1.5,
            1.6,
            1.7000000000000002,
            1.8,
            1.9000000000000001,
            2,
            2.1,
            2.2,
            2.3000000000000003,
            2.4000000000000004,
            2.5,
            2.6,
            2.7,
            2.8000000000000003,
            2.9000000000000004,
            3
           ],
           "y": [
            0,
            0.010000000000000002,
            0.04000000000000001,
            0.09000000000000002,
            0.16000000000000003,
            0.25,
            0.3600000000000001,
            0.4900000000000001,
            0.6400000000000001,
            0.81,
            1,
            1.2100000000000002,
            1.4400000000000004,
            1.6900000000000002,
            1.9600000000000004,
            2.25,
            2.5600000000000005,
            2.8900000000000006,
            3.24,
            3.6100000000000003,
            4,
            4.41,
            4.840000000000001,
            5.290000000000001,
            5.760000000000002,
            6.25,
            6.760000000000001,
            7.290000000000001,
            7.840000000000002,
            8.410000000000002,
            9
           ]
          }
         ]
        },
        {
         "data": [
          {
           "marker": {
            "color": [
             0,
             0.09983341664682815,
             0.19866933079506122,
             0.2955202066613396,
             0.3894183423086505,
             0.479425538604203,
             0.5646424733950355,
             0.6442176872376911,
             0.7173560908995228,
             0.7833269096274834,
             0.8414709848078965,
             0.8912073600614354,
             0.9320390859672264,
             0.963558185417193,
             0.9854497299884603,
             0.9974949866040544,
             0.9995736030415051,
             0.9916648104524686,
             0.9738476308781951,
             0.9463000876874145,
             0.9092974268256817,
             0.8632093666488737,
             0.8084964038195901,
             0.74570521217672,
             0.6754631805511506,
             0.5984721441039564,
             0.5155013718214642,
             0.4273798802338298,
             0.33498815015590466,
             0.23924932921398198,
             0.1411200080598672,
             0.04158066243329049
            ],
            "size": [
             0,
             1.996668332936563,
             3.9733866159012243,
             5.910404133226792,
             7.788366846173011,
             9.58851077208406,
             11.292849467900709,
             12.884353744753822,
             14.347121817990455,
             15.666538192549668,
             16.82941969615793,
             17.82414720122871,
             18.640781719344528,
             19.27116370834386,
             19.708994599769206,
             19.94989973208109,
             19.9914720608301,
             19.833296209049372,
             19.476952617563903,
             18.926001753748288,
             18.185948536513635,
             17.264187332977475,
             16.169928076391802,
             14.9141042435344,
             13.509263611023012,
             11.969442882079129,
             10.310027436429284,
             8.547597604676596,
             6.699763003118093,
             4.78498658427964,
             2.8224001611973444,
             0.8316132486658099
            ]
           },
           "type": "scatter",
           "x": [
            0,
            0.1,
            0.2,
            0.30000000000000004,
            0.4,
            0.5,
            0.6000000000000001,
            0.7000000000000001,
            0.8,
            0.9,
            1,
            1.1,
            1.2000000000000002,
            1.3,
            1.4000000000000001,
            1.5,
            1.6,
            1.7000000000000002,
            1.8,
            1.9000000000000001,
            2,
            2.1,
            2.2,
            2.3000000000000003,
            2.4000000000000004,
            2.5,
            2.6,
            2.7,
            2.8000000000000003,
            2.9000000000000004,
            3,
            3.1
           ],
           "y": [
            0,
            0.010000000000000002,
            0.04000000000000001,
            0.09000000000000002,
            0.16000000000000003,
            0.25,
            0.3600000000000001,
            0.4900000000000001,
            0.6400000000000001,
            0.81,
            1,
            1.2100000000000002,
            1.4400000000000004,
            1.6900000000000002,
            1.9600000000000004,
            2.25,
            2.5600000000000005,
            2.8900000000000006,
            3.24,
            3.6100000000000003,
            4,
            4.41,
            4.840000000000001,
            5.290000000000001,
            5.760000000000002,
            6.25,
            6.760000000000001,
            7.290000000000001,
            7.840000000000002,
            8.410000000000002,
            9,
            9.610000000000001
           ]
          }
         ]
        },
        {
         "data": [
          {
           "marker": {
            "color": [
             0,
             0.09983341664682815,
             0.19866933079506122,
             0.2955202066613396,
             0.3894183423086505,
             0.479425538604203,
             0.5646424733950355,
             0.6442176872376911,
             0.7173560908995228,
             0.7833269096274834,
             0.8414709848078965,
             0.8912073600614354,
             0.9320390859672264,
             0.963558185417193,
             0.9854497299884603,
             0.9974949866040544,
             0.9995736030415051,
             0.9916648104524686,
             0.9738476308781951,
             0.9463000876874145,
             0.9092974268256817,
             0.8632093666488737,
             0.8084964038195901,
             0.74570521217672,
             0.6754631805511506,
             0.5984721441039564,
             0.5155013718214642,
             0.4273798802338298,
             0.33498815015590466,
             0.23924932921398198,
             0.1411200080598672,
             0.04158066243329049,
             -0.058374143427580086
            ],
            "size": [
             0,
             1.996668332936563,
             3.9733866159012243,
             5.910404133226792,
             7.788366846173011,
             9.58851077208406,
             11.292849467900709,
             12.884353744753822,
             14.347121817990455,
             15.666538192549668,
             16.82941969615793,
             17.82414720122871,
             18.640781719344528,
             19.27116370834386,
             19.708994599769206,
             19.94989973208109,
             19.9914720608301,
             19.833296209049372,
             19.476952617563903,
             18.926001753748288,
             18.185948536513635,
             17.264187332977475,
             16.169928076391802,
             14.9141042435344,
             13.509263611023012,
             11.969442882079129,
             10.310027436429284,
             8.547597604676596,
             6.699763003118093,
             4.78498658427964,
             2.8224001611973444,
             0.8316132486658099,
             1.1674828685516017
            ]
           },
           "type": "scatter",
           "x": [
            0,
            0.1,
            0.2,
            0.30000000000000004,
            0.4,
            0.5,
            0.6000000000000001,
            0.7000000000000001,
            0.8,
            0.9,
            1,
            1.1,
            1.2000000000000002,
            1.3,
            1.4000000000000001,
            1.5,
            1.6,
            1.7000000000000002,
            1.8,
            1.9000000000000001,
            2,
            2.1,
            2.2,
            2.3000000000000003,
            2.4000000000000004,
            2.5,
            2.6,
            2.7,
            2.8000000000000003,
            2.9000000000000004,
            3,
            3.1,
            3.2
           ],
           "y": [
            0,
            0.010000000000000002,
            0.04000000000000001,
            0.09000000000000002,
            0.16000000000000003,
            0.25,
            0.3600000000000001,
            0.4900000000000001,
            0.6400000000000001,
            0.81,
            1,
            1.2100000000000002,
            1.4400000000000004,
            1.6900000000000002,
            1.9600000000000004,
            2.25,
            2.5600000000000005,
            2.8900000000000006,
            3.24,
            3.6100000000000003,
            4,
            4.41,
            4.840000000000001,
            5.290000000000001,
            5.760000000000002,
            6.25,
            6.760000000000001,
            7.290000000000001,
            7.840000000000002,
            8.410000000000002,
            9,
            9.610000000000001,
            10.240000000000002
           ]
          }
         ]
        },
        {
         "data": [
          {
           "marker": {
            "color": [
             0,
             0.09983341664682815,
             0.19866933079506122,
             0.2955202066613396,
             0.3894183423086505,
             0.479425538604203,
             0.5646424733950355,
             0.6442176872376911,
             0.7173560908995228,
             0.7833269096274834,
             0.8414709848078965,
             0.8912073600614354,
             0.9320390859672264,
             0.963558185417193,
             0.9854497299884603,
             0.9974949866040544,
             0.9995736030415051,
             0.9916648104524686,
             0.9738476308781951,
             0.9463000876874145,
             0.9092974268256817,
             0.8632093666488737,
             0.8084964038195901,
             0.74570521217672,
             0.6754631805511506,
             0.5984721441039564,
             0.5155013718214642,
             0.4273798802338298,
             0.33498815015590466,
             0.23924932921398198,
             0.1411200080598672,
             0.04158066243329049,
             -0.058374143427580086,
             -0.15774569414324865
            ],
            "size": [
             0,
             1.996668332936563,
             3.9733866159012243,
             5.910404133226792,
             7.788366846173011,
             9.58851077208406,
             11.292849467900709,
             12.884353744753822,
             14.347121817990455,
             15.666538192549668,
             16.82941969615793,
             17.82414720122871,
             18.640781719344528,
             19.27116370834386,
             19.708994599769206,
             19.94989973208109,
             19.9914720608301,
             19.833296209049372,
             19.476952617563903,
             18.926001753748288,
             18.185948536513635,
             17.264187332977475,
             16.169928076391802,
             14.9141042435344,
             13.509263611023012,
             11.969442882079129,
             10.310027436429284,
             8.547597604676596,
             6.699763003118093,
             4.78498658427964,
             2.8224001611973444,
             0.8316132486658099,
             1.1674828685516017,
             3.154913882864973
            ]
           },
           "type": "scatter",
           "x": [
            0,
            0.1,
            0.2,
            0.30000000000000004,
            0.4,
            0.5,
            0.6000000000000001,
            0.7000000000000001,
            0.8,
            0.9,
            1,
            1.1,
            1.2000000000000002,
            1.3,
            1.4000000000000001,
            1.5,
            1.6,
            1.7000000000000002,
            1.8,
            1.9000000000000001,
            2,
            2.1,
            2.2,
            2.3000000000000003,
            2.4000000000000004,
            2.5,
            2.6,
            2.7,
            2.8000000000000003,
            2.9000000000000004,
            3,
            3.1,
            3.2,
            3.3000000000000003
           ],
           "y": [
            0,
            0.010000000000000002,
            0.04000000000000001,
            0.09000000000000002,
            0.16000000000000003,
            0.25,
            0.3600000000000001,
            0.4900000000000001,
            0.6400000000000001,
            0.81,
            1,
            1.2100000000000002,
            1.4400000000000004,
            1.6900000000000002,
            1.9600000000000004,
            2.25,
            2.5600000000000005,
            2.8900000000000006,
            3.24,
            3.6100000000000003,
            4,
            4.41,
            4.840000000000001,
            5.290000000000001,
            5.760000000000002,
            6.25,
            6.760000000000001,
            7.290000000000001,
            7.840000000000002,
            8.410000000000002,
            9,
            9.610000000000001,
            10.240000000000002,
            10.890000000000002
           ]
          }
         ]
        },
        {
         "data": [
          {
           "marker": {
            "color": [
             0,
             0.09983341664682815,
             0.19866933079506122,
             0.2955202066613396,
             0.3894183423086505,
             0.479425538604203,
             0.5646424733950355,
             0.6442176872376911,
             0.7173560908995228,
             0.7833269096274834,
             0.8414709848078965,
             0.8912073600614354,
             0.9320390859672264,
             0.963558185417193,
             0.9854497299884603,
             0.9974949866040544,
             0.9995736030415051,
             0.9916648104524686,
             0.9738476308781951,
             0.9463000876874145,
             0.9092974268256817,
             0.8632093666488737,
             0.8084964038195901,
             0.74570521217672,
             0.6754631805511506,
             0.5984721441039564,
             0.5155013718214642,
             0.4273798802338298,
             0.33498815015590466,
             0.23924932921398198,
             0.1411200080598672,
             0.04158066243329049,
             -0.058374143427580086,
             -0.15774569414324865,
             -0.25554110202683167
            ],
            "size": [
             0,
             1.996668332936563,
             3.9733866159012243,
             5.910404133226792,
             7.788366846173011,
             9.58851077208406,
             11.292849467900709,
             12.884353744753822,
             14.347121817990455,
             15.666538192549668,
             16.82941969615793,
             17.82414720122871,
             18.640781719344528,
             19.27116370834386,
             19.708994599769206,
             19.94989973208109,
             19.9914720608301,
             19.833296209049372,
             19.476952617563903,
             18.926001753748288,
             18.185948536513635,
             17.264187332977475,
             16.169928076391802,
             14.9141042435344,
             13.509263611023012,
             11.969442882079129,
             10.310027436429284,
             8.547597604676596,
             6.699763003118093,
             4.78498658427964,
             2.8224001611973444,
             0.8316132486658099,
             1.1674828685516017,
             3.154913882864973,
             5.110822040536633
            ]
           },
           "type": "scatter",
           "x": [
            0,
            0.1,
            0.2,
            0.30000000000000004,
            0.4,
            0.5,
            0.6000000000000001,
            0.7000000000000001,
            0.8,
            0.9,
            1,
            1.1,
            1.2000000000000002,
            1.3,
            1.4000000000000001,
            1.5,
            1.6,
            1.7000000000000002,
            1.8,
            1.9000000000000001,
            2,
            2.1,
            2.2,
            2.3000000000000003,
            2.4000000000000004,
            2.5,
            2.6,
            2.7,
            2.8000000000000003,
            2.9000000000000004,
            3,
            3.1,
            3.2,
            3.3000000000000003,
            3.4000000000000004
           ],
           "y": [
            0,
            0.010000000000000002,
            0.04000000000000001,
            0.09000000000000002,
            0.16000000000000003,
            0.25,
            0.3600000000000001,
            0.4900000000000001,
            0.6400000000000001,
            0.81,
            1,
            1.2100000000000002,
            1.4400000000000004,
            1.6900000000000002,
            1.9600000000000004,
            2.25,
            2.5600000000000005,
            2.8900000000000006,
            3.24,
            3.6100000000000003,
            4,
            4.41,
            4.840000000000001,
            5.290000000000001,
            5.760000000000002,
            6.25,
            6.760000000000001,
            7.290000000000001,
            7.840000000000002,
            8.410000000000002,
            9,
            9.610000000000001,
            10.240000000000002,
            10.890000000000002,
            11.560000000000002
           ]
          }
         ]
        },
        {
         "data": [
          {
           "marker": {
            "color": [
             0,
             0.09983341664682815,
             0.19866933079506122,
             0.2955202066613396,
             0.3894183423086505,
             0.479425538604203,
             0.5646424733950355,
             0.6442176872376911,
             0.7173560908995228,
             0.7833269096274834,
             0.8414709848078965,
             0.8912073600614354,
             0.9320390859672264,
             0.963558185417193,
             0.9854497299884603,
             0.9974949866040544,
             0.9995736030415051,
             0.9916648104524686,
             0.9738476308781951,
             0.9463000876874145,
             0.9092974268256817,
             0.8632093666488737,
             0.8084964038195901,
             0.74570521217672,
             0.6754631805511506,
             0.5984721441039564,
             0.5155013718214642,
             0.4273798802338298,
             0.33498815015590466,
             0.23924932921398198,
             0.1411200080598672,
             0.04158066243329049,
             -0.058374143427580086,
             -0.15774569414324865,
             -0.25554110202683167,
             -0.35078322768961984
            ],
            "size": [
             0,
             1.996668332936563,
             3.9733866159012243,
             5.910404133226792,
             7.788366846173011,
             9.58851077208406,
             11.292849467900709,
             12.884353744753822,
             14.347121817990455,
             15.666538192549668,
             16.82941969615793,
             17.82414720122871,
             18.640781719344528,
             19.27116370834386,
             19.708994599769206,
             19.94989973208109,
             19.9914720608301,
             19.833296209049372,
             19.476952617563903,
             18.926001753748288,
             18.185948536513635,
             17.264187332977475,
             16.169928076391802,
             14.9141042435344,
             13.509263611023012,
             11.969442882079129,
             10.310027436429284,
             8.547597604676596,
             6.699763003118093,
             4.78498658427964,
             2.8224001611973444,
             0.8316132486658099,
             1.1674828685516017,
             3.154913882864973,
             5.110822040536633,
             7.015664553792397
            ]
           },
           "type": "scatter",
           "x": [
            0,
            0.1,
            0.2,
            0.30000000000000004,
            0.4,
            0.5,
            0.6000000000000001,
            0.7000000000000001,
            0.8,
            0.9,
            1,
            1.1,
            1.2000000000000002,
            1.3,
            1.4000000000000001,
            1.5,
            1.6,
            1.7000000000000002,
            1.8,
            1.9000000000000001,
            2,
            2.1,
            2.2,
            2.3000000000000003,
            2.4000000000000004,
            2.5,
            2.6,
            2.7,
            2.8000000000000003,
            2.9000000000000004,
            3,
            3.1,
            3.2,
            3.3000000000000003,
            3.4000000000000004,
            3.5
           ],
           "y": [
            0,
            0.010000000000000002,
            0.04000000000000001,
            0.09000000000000002,
            0.16000000000000003,
            0.25,
            0.3600000000000001,
            0.4900000000000001,
            0.6400000000000001,
            0.81,
            1,
            1.2100000000000002,
            1.4400000000000004,
            1.6900000000000002,
            1.9600000000000004,
            2.25,
            2.5600000000000005,
            2.8900000000000006,
            3.24,
            3.6100000000000003,
            4,
            4.41,
            4.840000000000001,
            5.290000000000001,
            5.760000000000002,
            6.25,
            6.760000000000001,
            7.290000000000001,
            7.840000000000002,
            8.410000000000002,
            9,
            9.610000000000001,
            10.240000000000002,
            10.890000000000002,
            11.560000000000002,
            12.25
           ]
          }
         ]
        },
        {
         "data": [
          {
           "marker": {
            "color": [
             0,
             0.09983341664682815,
             0.19866933079506122,
             0.2955202066613396,
             0.3894183423086505,
             0.479425538604203,
             0.5646424733950355,
             0.6442176872376911,
             0.7173560908995228,
             0.7833269096274834,
             0.8414709848078965,
             0.8912073600614354,
             0.9320390859672264,
             0.963558185417193,
             0.9854497299884603,
             0.9974949866040544,
             0.9995736030415051,
             0.9916648104524686,
             0.9738476308781951,
             0.9463000876874145,
             0.9092974268256817,
             0.8632093666488737,
             0.8084964038195901,
             0.74570521217672,
             0.6754631805511506,
             0.5984721441039564,
             0.5155013718214642,
             0.4273798802338298,
             0.33498815015590466,
             0.23924932921398198,
             0.1411200080598672,
             0.04158066243329049,
             -0.058374143427580086,
             -0.15774569414324865,
             -0.25554110202683167,
             -0.35078322768961984,
             -0.44252044329485246
            ],
            "size": [
             0,
             1.996668332936563,
             3.9733866159012243,
             5.910404133226792,
             7.788366846173011,
             9.58851077208406,
             11.292849467900709,
             12.884353744753822,
             14.347121817990455,
             15.666538192549668,
             16.82941969615793,
             17.82414720122871,
             18.640781719344528,
             19.27116370834386,
             19.708994599769206,
             19.94989973208109,
             19.9914720608301,
             19.833296209049372,
             19.476952617563903,
             18.926001753748288,
             18.185948536513635,
             17.264187332977475,
             16.169928076391802,
             14.9141042435344,
             13.509263611023012,
             11.969442882079129,
             10.310027436429284,
             8.547597604676596,
             6.699763003118093,
             4.78498658427964,
             2.8224001611973444,
             0.8316132486658099,
             1.1674828685516017,
             3.154913882864973,
             5.110822040536633,
             7.015664553792397,
             8.85040886589705
            ]
           },
           "type": "scatter",
           "x": [
            0,
            0.1,
            0.2,
            0.30000000000000004,
            0.4,
            0.5,
            0.6000000000000001,
            0.7000000000000001,
            0.8,
            0.9,
            1,
            1.1,
            1.2000000000000002,
            1.3,
            1.4000000000000001,
            1.5,
            1.6,
            1.7000000000000002,
            1.8,
            1.9000000000000001,
            2,
            2.1,
            2.2,
            2.3000000000000003,
            2.4000000000000004,
            2.5,
            2.6,
            2.7,
            2.8000000000000003,
            2.9000000000000004,
            3,
            3.1,
            3.2,
            3.3000000000000003,
            3.4000000000000004,
            3.5,
            3.6
           ],
           "y": [
            0,
            0.010000000000000002,
            0.04000000000000001,
            0.09000000000000002,
            0.16000000000000003,
            0.25,
            0.3600000000000001,
            0.4900000000000001,
            0.6400000000000001,
            0.81,
            1,
            1.2100000000000002,
            1.4400000000000004,
            1.6900000000000002,
            1.9600000000000004,
            2.25,
            2.5600000000000005,
            2.8900000000000006,
            3.24,
            3.6100000000000003,
            4,
            4.41,
            4.840000000000001,
            5.290000000000001,
            5.760000000000002,
            6.25,
            6.760000000000001,
            7.290000000000001,
            7.840000000000002,
            8.410000000000002,
            9,
            9.610000000000001,
            10.240000000000002,
            10.890000000000002,
            11.560000000000002,
            12.25,
            12.96
           ]
          }
         ]
        },
        {
         "data": [
          {
           "marker": {
            "color": [
             0,
             0.09983341664682815,
             0.19866933079506122,
             0.2955202066613396,
             0.3894183423086505,
             0.479425538604203,
             0.5646424733950355,
             0.6442176872376911,
             0.7173560908995228,
             0.7833269096274834,
             0.8414709848078965,
             0.8912073600614354,
             0.9320390859672264,
             0.963558185417193,
             0.9854497299884603,
             0.9974949866040544,
             0.9995736030415051,
             0.9916648104524686,
             0.9738476308781951,
             0.9463000876874145,
             0.9092974268256817,
             0.8632093666488737,
             0.8084964038195901,
             0.74570521217672,
             0.6754631805511506,
             0.5984721441039564,
             0.5155013718214642,
             0.4273798802338298,
             0.33498815015590466,
             0.23924932921398198,
             0.1411200080598672,
             0.04158066243329049,
             -0.058374143427580086,
             -0.15774569414324865,
             -0.25554110202683167,
             -0.35078322768961984,
             -0.44252044329485246,
             -0.5298361409084934
            ],
            "size": [
             0,
             1.996668332936563,
             3.9733866159012243,
             5.910404133226792,
             7.788366846173011,
             9.58851077208406,
             11.292849467900709,
             12.884353744753822,
             14.347121817990455,
             15.666538192549668,
             16.82941969615793,
             17.82414720122871,
             18.640781719344528,
             19.27116370834386,
             19.708994599769206,
             19.94989973208109,
             19.9914720608301,
             19.833296209049372,
             19.476952617563903,
             18.926001753748288,
             18.185948536513635,
             17.264187332977475,
             16.169928076391802,
             14.9141042435344,
             13.509263611023012,
             11.969442882079129,
             10.310027436429284,
             8.547597604676596,
             6.699763003118093,
             4.78498658427964,
             2.8224001611973444,
             0.8316132486658099,
             1.1674828685516017,
             3.154913882864973,
             5.110822040536633,
             7.015664553792397,
             8.85040886589705,
             10.596722818169868
            ]
           },
           "type": "scatter",
           "x": [
            0,
            0.1,
            0.2,
            0.30000000000000004,
            0.4,
            0.5,
            0.6000000000000001,
            0.7000000000000001,
            0.8,
            0.9,
            1,
            1.1,
            1.2000000000000002,
            1.3,
            1.4000000000000001,
            1.5,
            1.6,
            1.7000000000000002,
            1.8,
            1.9000000000000001,
            2,
            2.1,
            2.2,
            2.3000000000000003,
            2.4000000000000004,
            2.5,
            2.6,
            2.7,
            2.8000000000000003,
            2.9000000000000004,
            3,
            3.1,
            3.2,
            3.3000000000000003,
            3.4000000000000004,
            3.5,
            3.6,
            3.7
           ],
           "y": [
            0,
            0.010000000000000002,
            0.04000000000000001,
            0.09000000000000002,
            0.16000000000000003,
            0.25,
            0.3600000000000001,
            0.4900000000000001,
            0.6400000000000001,
            0.81,
            1,
            1.2100000000000002,
            1.4400000000000004,
            1.6900000000000002,
            1.9600000000000004,
            2.25,
            2.5600000000000005,
            2.8900000000000006,
            3.24,
            3.6100000000000003,
            4,
            4.41,
            4.840000000000001,
            5.290000000000001,
            5.760000000000002,
            6.25,
            6.760000000000001,
            7.290000000000001,
            7.840000000000002,
            8.410000000000002,
            9,
            9.610000000000001,
            10.240000000000002,
            10.890000000000002,
            11.560000000000002,
            12.25,
            12.96,
            13.690000000000001
           ]
          }
         ]
        },
        {
         "data": [
          {
           "marker": {
            "color": [
             0,
             0.09983341664682815,
             0.19866933079506122,
             0.2955202066613396,
             0.3894183423086505,
             0.479425538604203,
             0.5646424733950355,
             0.6442176872376911,
             0.7173560908995228,
             0.7833269096274834,
             0.8414709848078965,
             0.8912073600614354,
             0.9320390859672264,
             0.963558185417193,
             0.9854497299884603,
             0.9974949866040544,
             0.9995736030415051,
             0.9916648104524686,
             0.9738476308781951,
             0.9463000876874145,
             0.9092974268256817,
             0.8632093666488737,
             0.8084964038195901,
             0.74570521217672,
             0.6754631805511506,
             0.5984721441039564,
             0.5155013718214642,
             0.4273798802338298,
             0.33498815015590466,
             0.23924932921398198,
             0.1411200080598672,
             0.04158066243329049,
             -0.058374143427580086,
             -0.15774569414324865,
             -0.25554110202683167,
             -0.35078322768961984,
             -0.44252044329485246,
             -0.5298361409084934,
             -0.6118578909427193
            ],
            "size": [
             0,
             1.996668332936563,
             3.9733866159012243,
             5.910404133226792,
             7.788366846173011,
             9.58851077208406,
             11.292849467900709,
             12.884353744753822,
             14.347121817990455,
             15.666538192549668,
             16.82941969615793,
             17.82414720122871,
             18.640781719344528,
             19.27116370834386,
             19.708994599769206,
             19.94989973208109,
             19.9914720608301,
             19.833296209049372,
             19.476952617563903,
             18.926001753748288,
             18.185948536513635,
             17.264187332977475,
             16.169928076391802,
             14.9141042435344,
             13.509263611023012,
             11.969442882079129,
             10.310027436429284,
             8.547597604676596,
             6.699763003118093,
             4.78498658427964,
             2.8224001611973444,
             0.8316132486658099,
             1.1674828685516017,
             3.154913882864973,
             5.110822040536633,
             7.015664553792397,
             8.85040886589705,
             10.596722818169868,
             12.237157818854385
            ]
           },
           "type": "scatter",
           "x": [
            0,
            0.1,
            0.2,
            0.30000000000000004,
            0.4,
            0.5,
            0.6000000000000001,
            0.7000000000000001,
            0.8,
            0.9,
            1,
            1.1,
            1.2000000000000002,
            1.3,
            1.4000000000000001,
            1.5,
            1.6,
            1.7000000000000002,
            1.8,
            1.9000000000000001,
            2,
            2.1,
            2.2,
            2.3000000000000003,
            2.4000000000000004,
            2.5,
            2.6,
            2.7,
            2.8000000000000003,
            2.9000000000000004,
            3,
            3.1,
            3.2,
            3.3000000000000003,
            3.4000000000000004,
            3.5,
            3.6,
            3.7,
            3.8000000000000003
           ],
           "y": [
            0,
            0.010000000000000002,
            0.04000000000000001,
            0.09000000000000002,
            0.16000000000000003,
            0.25,
            0.3600000000000001,
            0.4900000000000001,
            0.6400000000000001,
            0.81,
            1,
            1.2100000000000002,
            1.4400000000000004,
            1.6900000000000002,
            1.9600000000000004,
            2.25,
            2.5600000000000005,
            2.8900000000000006,
            3.24,
            3.6100000000000003,
            4,
            4.41,
            4.840000000000001,
            5.290000000000001,
            5.760000000000002,
            6.25,
            6.760000000000001,
            7.290000000000001,
            7.840000000000002,
            8.410000000000002,
            9,
            9.610000000000001,
            10.240000000000002,
            10.890000000000002,
            11.560000000000002,
            12.25,
            12.96,
            13.690000000000001,
            14.440000000000001
           ]
          }
         ]
        },
        {
         "data": [
          {
           "marker": {
            "color": [
             0,
             0.09983341664682815,
             0.19866933079506122,
             0.2955202066613396,
             0.3894183423086505,
             0.479425538604203,
             0.5646424733950355,
             0.6442176872376911,
             0.7173560908995228,
             0.7833269096274834,
             0.8414709848078965,
             0.8912073600614354,
             0.9320390859672264,
             0.963558185417193,
             0.9854497299884603,
             0.9974949866040544,
             0.9995736030415051,
             0.9916648104524686,
             0.9738476308781951,
             0.9463000876874145,
             0.9092974268256817,
             0.8632093666488737,
             0.8084964038195901,
             0.74570521217672,
             0.6754631805511506,
             0.5984721441039564,
             0.5155013718214642,
             0.4273798802338298,
             0.33498815015590466,
             0.23924932921398198,
             0.1411200080598672,
             0.04158066243329049,
             -0.058374143427580086,
             -0.15774569414324865,
             -0.25554110202683167,
             -0.35078322768961984,
             -0.44252044329485246,
             -0.5298361409084934,
             -0.6118578909427193,
             -0.6877661591839741
            ],
            "size": [
             0,
             1.996668332936563,
             3.9733866159012243,
             5.910404133226792,
             7.788366846173011,
             9.58851077208406,
             11.292849467900709,
             12.884353744753822,
             14.347121817990455,
             15.666538192549668,
             16.82941969615793,
             17.82414720122871,
             18.640781719344528,
             19.27116370834386,
             19.708994599769206,
             19.94989973208109,
             19.9914720608301,
             19.833296209049372,
             19.476952617563903,
             18.926001753748288,
             18.185948536513635,
             17.264187332977475,
             16.169928076391802,
             14.9141042435344,
             13.509263611023012,
             11.969442882079129,
             10.310027436429284,
             8.547597604676596,
             6.699763003118093,
             4.78498658427964,
             2.8224001611973444,
             0.8316132486658099,
             1.1674828685516017,
             3.154913882864973,
             5.110822040536633,
             7.015664553792397,
             8.85040886589705,
             10.596722818169868,
             12.237157818854385,
             13.755323183679483
            ]
           },
           "type": "scatter",
           "x": [
            0,
            0.1,
            0.2,
            0.30000000000000004,
            0.4,
            0.5,
            0.6000000000000001,
            0.7000000000000001,
            0.8,
            0.9,
            1,
            1.1,
            1.2000000000000002,
            1.3,
            1.4000000000000001,
            1.5,
            1.6,
            1.7000000000000002,
            1.8,
            1.9000000000000001,
            2,
            2.1,
            2.2,
            2.3000000000000003,
            2.4000000000000004,
            2.5,
            2.6,
            2.7,
            2.8000000000000003,
            2.9000000000000004,
            3,
            3.1,
            3.2,
            3.3000000000000003,
            3.4000000000000004,
            3.5,
            3.6,
            3.7,
            3.8000000000000003,
            3.9000000000000004
           ],
           "y": [
            0,
            0.010000000000000002,
            0.04000000000000001,
            0.09000000000000002,
            0.16000000000000003,
            0.25,
            0.3600000000000001,
            0.4900000000000001,
            0.6400000000000001,
            0.81,
            1,
            1.2100000000000002,
            1.4400000000000004,
            1.6900000000000002,
            1.9600000000000004,
            2.25,
            2.5600000000000005,
            2.8900000000000006,
            3.24,
            3.6100000000000003,
            4,
            4.41,
            4.840000000000001,
            5.290000000000001,
            5.760000000000002,
            6.25,
            6.760000000000001,
            7.290000000000001,
            7.840000000000002,
            8.410000000000002,
            9,
            9.610000000000001,
            10.240000000000002,
            10.890000000000002,
            11.560000000000002,
            12.25,
            12.96,
            13.690000000000001,
            14.440000000000001,
            15.210000000000003
           ]
          }
         ]
        },
        {
         "data": [
          {
           "marker": {
            "color": [
             0,
             0.09983341664682815,
             0.19866933079506122,
             0.2955202066613396,
             0.3894183423086505,
             0.479425538604203,
             0.5646424733950355,
             0.6442176872376911,
             0.7173560908995228,
             0.7833269096274834,
             0.8414709848078965,
             0.8912073600614354,
             0.9320390859672264,
             0.963558185417193,
             0.9854497299884603,
             0.9974949866040544,
             0.9995736030415051,
             0.9916648104524686,
             0.9738476308781951,
             0.9463000876874145,
             0.9092974268256817,
             0.8632093666488737,
             0.8084964038195901,
             0.74570521217672,
             0.6754631805511506,
             0.5984721441039564,
             0.5155013718214642,
             0.4273798802338298,
             0.33498815015590466,
             0.23924932921398198,
             0.1411200080598672,
             0.04158066243329049,
             -0.058374143427580086,
             -0.15774569414324865,
             -0.25554110202683167,
             -0.35078322768961984,
             -0.44252044329485246,
             -0.5298361409084934,
             -0.6118578909427193,
             -0.6877661591839741,
             -0.7568024953079282
            ],
            "size": [
             0,
             1.996668332936563,
             3.9733866159012243,
             5.910404133226792,
             7.788366846173011,
             9.58851077208406,
             11.292849467900709,
             12.884353744753822,
             14.347121817990455,
             15.666538192549668,
             16.82941969615793,
             17.82414720122871,
             18.640781719344528,
             19.27116370834386,
             19.708994599769206,
             19.94989973208109,
             19.9914720608301,
             19.833296209049372,
             19.476952617563903,
             18.926001753748288,
             18.185948536513635,
             17.264187332977475,
             16.169928076391802,
             14.9141042435344,
             13.509263611023012,
             11.969442882079129,
             10.310027436429284,
             8.547597604676596,
             6.699763003118093,
             4.78498658427964,
             2.8224001611973444,
             0.8316132486658099,
             1.1674828685516017,
             3.154913882864973,
             5.110822040536633,
             7.015664553792397,
             8.85040886589705,
             10.596722818169868,
             12.237157818854385,
             13.755323183679483,
             15.136049906158565
            ]
           },
           "type": "scatter",
           "x": [
            0,
            0.1,
            0.2,
            0.30000000000000004,
            0.4,
            0.5,
            0.6000000000000001,
            0.7000000000000001,
            0.8,
            0.9,
            1,
            1.1,
            1.2000000000000002,
            1.3,
            1.4000000000000001,
            1.5,
            1.6,
            1.7000000000000002,
            1.8,
            1.9000000000000001,
            2,
            2.1,
            2.2,
            2.3000000000000003,
            2.4000000000000004,
            2.5,
            2.6,
            2.7,
            2.8000000000000003,
            2.9000000000000004,
            3,
            3.1,
            3.2,
            3.3000000000000003,
            3.4000000000000004,
            3.5,
            3.6,
            3.7,
            3.8000000000000003,
            3.9000000000000004,
            4
           ],
           "y": [
            0,
            0.010000000000000002,
            0.04000000000000001,
            0.09000000000000002,
            0.16000000000000003,
            0.25,
            0.3600000000000001,
            0.4900000000000001,
            0.6400000000000001,
            0.81,
            1,
            1.2100000000000002,
            1.4400000000000004,
            1.6900000000000002,
            1.9600000000000004,
            2.25,
            2.5600000000000005,
            2.8900000000000006,
            3.24,
            3.6100000000000003,
            4,
            4.41,
            4.840000000000001,
            5.290000000000001,
            5.760000000000002,
            6.25,
            6.760000000000001,
            7.290000000000001,
            7.840000000000002,
            8.410000000000002,
            9,
            9.610000000000001,
            10.240000000000002,
            10.890000000000002,
            11.560000000000002,
            12.25,
            12.96,
            13.690000000000001,
            14.440000000000001,
            15.210000000000003,
            16
           ]
          }
         ]
        },
        {
         "data": [
          {
           "marker": {
            "color": [
             0,
             0.09983341664682815,
             0.19866933079506122,
             0.2955202066613396,
             0.3894183423086505,
             0.479425538604203,
             0.5646424733950355,
             0.6442176872376911,
             0.7173560908995228,
             0.7833269096274834,
             0.8414709848078965,
             0.8912073600614354,
             0.9320390859672264,
             0.963558185417193,
             0.9854497299884603,
             0.9974949866040544,
             0.9995736030415051,
             0.9916648104524686,
             0.9738476308781951,
             0.9463000876874145,
             0.9092974268256817,
             0.8632093666488737,
             0.8084964038195901,
             0.74570521217672,
             0.6754631805511506,
             0.5984721441039564,
             0.5155013718214642,
             0.4273798802338298,
             0.33498815015590466,
             0.23924932921398198,
             0.1411200080598672,
             0.04158066243329049,
             -0.058374143427580086,
             -0.15774569414324865,
             -0.25554110202683167,
             -0.35078322768961984,
             -0.44252044329485246,
             -0.5298361409084934,
             -0.6118578909427193,
             -0.6877661591839741,
             -0.7568024953079282,
             -0.8182771110644108
            ],
            "size": [
             0,
             1.996668332936563,
             3.9733866159012243,
             5.910404133226792,
             7.788366846173011,
             9.58851077208406,
             11.292849467900709,
             12.884353744753822,
             14.347121817990455,
             15.666538192549668,
             16.82941969615793,
             17.82414720122871,
             18.640781719344528,
             19.27116370834386,
             19.708994599769206,
             19.94989973208109,
             19.9914720608301,
             19.833296209049372,
             19.476952617563903,
             18.926001753748288,
             18.185948536513635,
             17.264187332977475,
             16.169928076391802,
             14.9141042435344,
             13.509263611023012,
             11.969442882079129,
             10.310027436429284,
             8.547597604676596,
             6.699763003118093,
             4.78498658427964,
             2.8224001611973444,
             0.8316132486658099,
             1.1674828685516017,
             3.154913882864973,
             5.110822040536633,
             7.015664553792397,
             8.85040886589705,
             10.596722818169868,
             12.237157818854385,
             13.755323183679483,
             15.136049906158565,
             16.365542221288216
            ]
           },
           "type": "scatter",
           "x": [
            0,
            0.1,
            0.2,
            0.30000000000000004,
            0.4,
            0.5,
            0.6000000000000001,
            0.7000000000000001,
            0.8,
            0.9,
            1,
            1.1,
            1.2000000000000002,
            1.3,
            1.4000000000000001,
            1.5,
            1.6,
            1.7000000000000002,
            1.8,
            1.9000000000000001,
            2,
            2.1,
            2.2,
            2.3000000000000003,
            2.4000000000000004,
            2.5,
            2.6,
            2.7,
            2.8000000000000003,
            2.9000000000000004,
            3,
            3.1,
            3.2,
            3.3000000000000003,
            3.4000000000000004,
            3.5,
            3.6,
            3.7,
            3.8000000000000003,
            3.9000000000000004,
            4,
            4.1000000000000005
           ],
           "y": [
            0,
            0.010000000000000002,
            0.04000000000000001,
            0.09000000000000002,
            0.16000000000000003,
            0.25,
            0.3600000000000001,
            0.4900000000000001,
            0.6400000000000001,
            0.81,
            1,
            1.2100000000000002,
            1.4400000000000004,
            1.6900000000000002,
            1.9600000000000004,
            2.25,
            2.5600000000000005,
            2.8900000000000006,
            3.24,
            3.6100000000000003,
            4,
            4.41,
            4.840000000000001,
            5.290000000000001,
            5.760000000000002,
            6.25,
            6.760000000000001,
            7.290000000000001,
            7.840000000000002,
            8.410000000000002,
            9,
            9.610000000000001,
            10.240000000000002,
            10.890000000000002,
            11.560000000000002,
            12.25,
            12.96,
            13.690000000000001,
            14.440000000000001,
            15.210000000000003,
            16,
            16.810000000000006
           ]
          }
         ]
        },
        {
         "data": [
          {
           "marker": {
            "color": [
             0,
             0.09983341664682815,
             0.19866933079506122,
             0.2955202066613396,
             0.3894183423086505,
             0.479425538604203,
             0.5646424733950355,
             0.6442176872376911,
             0.7173560908995228,
             0.7833269096274834,
             0.8414709848078965,
             0.8912073600614354,
             0.9320390859672264,
             0.963558185417193,
             0.9854497299884603,
             0.9974949866040544,
             0.9995736030415051,
             0.9916648104524686,
             0.9738476308781951,
             0.9463000876874145,
             0.9092974268256817,
             0.8632093666488737,
             0.8084964038195901,
             0.74570521217672,
             0.6754631805511506,
             0.5984721441039564,
             0.5155013718214642,
             0.4273798802338298,
             0.33498815015590466,
             0.23924932921398198,
             0.1411200080598672,
             0.04158066243329049,
             -0.058374143427580086,
             -0.15774569414324865,
             -0.25554110202683167,
             -0.35078322768961984,
             -0.44252044329485246,
             -0.5298361409084934,
             -0.6118578909427193,
             -0.6877661591839741,
             -0.7568024953079282,
             -0.8182771110644108,
             -0.8715757724135882
            ],
            "size": [
             0,
             1.996668332936563,
             3.9733866159012243,
             5.910404133226792,
             7.788366846173011,
             9.58851077208406,
             11.292849467900709,
             12.884353744753822,
             14.347121817990455,
             15.666538192549668,
             16.82941969615793,
             17.82414720122871,
             18.640781719344528,
             19.27116370834386,
             19.708994599769206,
             19.94989973208109,
             19.9914720608301,
             19.833296209049372,
             19.476952617563903,
             18.926001753748288,
             18.185948536513635,
             17.264187332977475,
             16.169928076391802,
             14.9141042435344,
             13.509263611023012,
             11.969442882079129,
             10.310027436429284,
             8.547597604676596,
             6.699763003118093,
             4.78498658427964,
             2.8224001611973444,
             0.8316132486658099,
             1.1674828685516017,
             3.154913882864973,
             5.110822040536633,
             7.015664553792397,
             8.85040886589705,
             10.596722818169868,
             12.237157818854385,
             13.755323183679483,
             15.136049906158565,
             16.365542221288216,
             17.431515448271764
            ]
           },
           "type": "scatter",
           "x": [
            0,
            0.1,
            0.2,
            0.30000000000000004,
            0.4,
            0.5,
            0.6000000000000001,
            0.7000000000000001,
            0.8,
            0.9,
            1,
            1.1,
            1.2000000000000002,
            1.3,
            1.4000000000000001,
            1.5,
            1.6,
            1.7000000000000002,
            1.8,
            1.9000000000000001,
            2,
            2.1,
            2.2,
            2.3000000000000003,
            2.4000000000000004,
            2.5,
            2.6,
            2.7,
            2.8000000000000003,
            2.9000000000000004,
            3,
            3.1,
            3.2,
            3.3000000000000003,
            3.4000000000000004,
            3.5,
            3.6,
            3.7,
            3.8000000000000003,
            3.9000000000000004,
            4,
            4.1000000000000005,
            4.2
           ],
           "y": [
            0,
            0.010000000000000002,
            0.04000000000000001,
            0.09000000000000002,
            0.16000000000000003,
            0.25,
            0.3600000000000001,
            0.4900000000000001,
            0.6400000000000001,
            0.81,
            1,
            1.2100000000000002,
            1.4400000000000004,
            1.6900000000000002,
            1.9600000000000004,
            2.25,
            2.5600000000000005,
            2.8900000000000006,
            3.24,
            3.6100000000000003,
            4,
            4.41,
            4.840000000000001,
            5.290000000000001,
            5.760000000000002,
            6.25,
            6.760000000000001,
            7.290000000000001,
            7.840000000000002,
            8.410000000000002,
            9,
            9.610000000000001,
            10.240000000000002,
            10.890000000000002,
            11.560000000000002,
            12.25,
            12.96,
            13.690000000000001,
            14.440000000000001,
            15.210000000000003,
            16,
            16.810000000000006,
            17.64
           ]
          }
         ]
        },
        {
         "data": [
          {
           "marker": {
            "color": [
             0,
             0.09983341664682815,
             0.19866933079506122,
             0.2955202066613396,
             0.3894183423086505,
             0.479425538604203,
             0.5646424733950355,
             0.6442176872376911,
             0.7173560908995228,
             0.7833269096274834,
             0.8414709848078965,
             0.8912073600614354,
             0.9320390859672264,
             0.963558185417193,
             0.9854497299884603,
             0.9974949866040544,
             0.9995736030415051,
             0.9916648104524686,
             0.9738476308781951,
             0.9463000876874145,
             0.9092974268256817,
             0.8632093666488737,
             0.8084964038195901,
             0.74570521217672,
             0.6754631805511506,
             0.5984721441039564,
             0.5155013718214642,
             0.4273798802338298,
             0.33498815015590466,
             0.23924932921398198,
             0.1411200080598672,
             0.04158066243329049,
             -0.058374143427580086,
             -0.15774569414324865,
             -0.25554110202683167,
             -0.35078322768961984,
             -0.44252044329485246,
             -0.5298361409084934,
             -0.6118578909427193,
             -0.6877661591839741,
             -0.7568024953079282,
             -0.8182771110644108,
             -0.8715757724135882,
             -0.9161659367494549
            ],
            "size": [
             0,
             1.996668332936563,
             3.9733866159012243,
             5.910404133226792,
             7.788366846173011,
             9.58851077208406,
             11.292849467900709,
             12.884353744753822,
             14.347121817990455,
             15.666538192549668,
             16.82941969615793,
             17.82414720122871,
             18.640781719344528,
             19.27116370834386,
             19.708994599769206,
             19.94989973208109,
             19.9914720608301,
             19.833296209049372,
             19.476952617563903,
             18.926001753748288,
             18.185948536513635,
             17.264187332977475,
             16.169928076391802,
             14.9141042435344,
             13.509263611023012,
             11.969442882079129,
             10.310027436429284,
             8.547597604676596,
             6.699763003118093,
             4.78498658427964,
             2.8224001611973444,
             0.8316132486658099,
             1.1674828685516017,
             3.154913882864973,
             5.110822040536633,
             7.015664553792397,
             8.85040886589705,
             10.596722818169868,
             12.237157818854385,
             13.755323183679483,
             15.136049906158565,
             16.365542221288216,
             17.431515448271764,
             18.323318734989098
            ]
           },
           "type": "scatter",
           "x": [
            0,
            0.1,
            0.2,
            0.30000000000000004,
            0.4,
            0.5,
            0.6000000000000001,
            0.7000000000000001,
            0.8,
            0.9,
            1,
            1.1,
            1.2000000000000002,
            1.3,
            1.4000000000000001,
            1.5,
            1.6,
            1.7000000000000002,
            1.8,
            1.9000000000000001,
            2,
            2.1,
            2.2,
            2.3000000000000003,
            2.4000000000000004,
            2.5,
            2.6,
            2.7,
            2.8000000000000003,
            2.9000000000000004,
            3,
            3.1,
            3.2,
            3.3000000000000003,
            3.4000000000000004,
            3.5,
            3.6,
            3.7,
            3.8000000000000003,
            3.9000000000000004,
            4,
            4.1000000000000005,
            4.2,
            4.3
           ],
           "y": [
            0,
            0.010000000000000002,
            0.04000000000000001,
            0.09000000000000002,
            0.16000000000000003,
            0.25,
            0.3600000000000001,
            0.4900000000000001,
            0.6400000000000001,
            0.81,
            1,
            1.2100000000000002,
            1.4400000000000004,
            1.6900000000000002,
            1.9600000000000004,
            2.25,
            2.5600000000000005,
            2.8900000000000006,
            3.24,
            3.6100000000000003,
            4,
            4.41,
            4.840000000000001,
            5.290000000000001,
            5.760000000000002,
            6.25,
            6.760000000000001,
            7.290000000000001,
            7.840000000000002,
            8.410000000000002,
            9,
            9.610000000000001,
            10.240000000000002,
            10.890000000000002,
            11.560000000000002,
            12.25,
            12.96,
            13.690000000000001,
            14.440000000000001,
            15.210000000000003,
            16,
            16.810000000000006,
            17.64,
            18.49
           ]
          }
         ]
        },
        {
         "data": [
          {
           "marker": {
            "color": [
             0,
             0.09983341664682815,
             0.19866933079506122,
             0.2955202066613396,
             0.3894183423086505,
             0.479425538604203,
             0.5646424733950355,
             0.6442176872376911,
             0.7173560908995228,
             0.7833269096274834,
             0.8414709848078965,
             0.8912073600614354,
             0.9320390859672264,
             0.963558185417193,
             0.9854497299884603,
             0.9974949866040544,
             0.9995736030415051,
             0.9916648104524686,
             0.9738476308781951,
             0.9463000876874145,
             0.9092974268256817,
             0.8632093666488737,
             0.8084964038195901,
             0.74570521217672,
             0.6754631805511506,
             0.5984721441039564,
             0.5155013718214642,
             0.4273798802338298,
             0.33498815015590466,
             0.23924932921398198,
             0.1411200080598672,
             0.04158066243329049,
             -0.058374143427580086,
             -0.15774569414324865,
             -0.25554110202683167,
             -0.35078322768961984,
             -0.44252044329485246,
             -0.5298361409084934,
             -0.6118578909427193,
             -0.6877661591839741,
             -0.7568024953079282,
             -0.8182771110644108,
             -0.8715757724135882,
             -0.9161659367494549,
             -0.9516020738895161
            ],
            "size": [
             0,
             1.996668332936563,
             3.9733866159012243,
             5.910404133226792,
             7.788366846173011,
             9.58851077208406,
             11.292849467900709,
             12.884353744753822,
             14.347121817990455,
             15.666538192549668,
             16.82941969615793,
             17.82414720122871,
             18.640781719344528,
             19.27116370834386,
             19.708994599769206,
             19.94989973208109,
             19.9914720608301,
             19.833296209049372,
             19.476952617563903,
             18.926001753748288,
             18.185948536513635,
             17.264187332977475,
             16.169928076391802,
             14.9141042435344,
             13.509263611023012,
             11.969442882079129,
             10.310027436429284,
             8.547597604676596,
             6.699763003118093,
             4.78498658427964,
             2.8224001611973444,
             0.8316132486658099,
             1.1674828685516017,
             3.154913882864973,
             5.110822040536633,
             7.015664553792397,
             8.85040886589705,
             10.596722818169868,
             12.237157818854385,
             13.755323183679483,
             15.136049906158565,
             16.365542221288216,
             17.431515448271764,
             18.323318734989098,
             19.032041477790322
            ]
           },
           "type": "scatter",
           "x": [
            0,
            0.1,
            0.2,
            0.30000000000000004,
            0.4,
            0.5,
            0.6000000000000001,
            0.7000000000000001,
            0.8,
            0.9,
            1,
            1.1,
            1.2000000000000002,
            1.3,
            1.4000000000000001,
            1.5,
            1.6,
            1.7000000000000002,
            1.8,
            1.9000000000000001,
            2,
            2.1,
            2.2,
            2.3000000000000003,
            2.4000000000000004,
            2.5,
            2.6,
            2.7,
            2.8000000000000003,
            2.9000000000000004,
            3,
            3.1,
            3.2,
            3.3000000000000003,
            3.4000000000000004,
            3.5,
            3.6,
            3.7,
            3.8000000000000003,
            3.9000000000000004,
            4,
            4.1000000000000005,
            4.2,
            4.3,
            4.4
           ],
           "y": [
            0,
            0.010000000000000002,
            0.04000000000000001,
            0.09000000000000002,
            0.16000000000000003,
            0.25,
            0.3600000000000001,
            0.4900000000000001,
            0.6400000000000001,
            0.81,
            1,
            1.2100000000000002,
            1.4400000000000004,
            1.6900000000000002,
            1.9600000000000004,
            2.25,
            2.5600000000000005,
            2.8900000000000006,
            3.24,
            3.6100000000000003,
            4,
            4.41,
            4.840000000000001,
            5.290000000000001,
            5.760000000000002,
            6.25,
            6.760000000000001,
            7.290000000000001,
            7.840000000000002,
            8.410000000000002,
            9,
            9.610000000000001,
            10.240000000000002,
            10.890000000000002,
            11.560000000000002,
            12.25,
            12.96,
            13.690000000000001,
            14.440000000000001,
            15.210000000000003,
            16,
            16.810000000000006,
            17.64,
            18.49,
            19.360000000000003
           ]
          }
         ]
        },
        {
         "data": [
          {
           "marker": {
            "color": [
             0,
             0.09983341664682815,
             0.19866933079506122,
             0.2955202066613396,
             0.3894183423086505,
             0.479425538604203,
             0.5646424733950355,
             0.6442176872376911,
             0.7173560908995228,
             0.7833269096274834,
             0.8414709848078965,
             0.8912073600614354,
             0.9320390859672264,
             0.963558185417193,
             0.9854497299884603,
             0.9974949866040544,
             0.9995736030415051,
             0.9916648104524686,
             0.9738476308781951,
             0.9463000876874145,
             0.9092974268256817,
             0.8632093666488737,
             0.8084964038195901,
             0.74570521217672,
             0.6754631805511506,
             0.5984721441039564,
             0.5155013718214642,
             0.4273798802338298,
             0.33498815015590466,
             0.23924932921398198,
             0.1411200080598672,
             0.04158066243329049,
             -0.058374143427580086,
             -0.15774569414324865,
             -0.25554110202683167,
             -0.35078322768961984,
             -0.44252044329485246,
             -0.5298361409084934,
             -0.6118578909427193,
             -0.6877661591839741,
             -0.7568024953079282,
             -0.8182771110644108,
             -0.8715757724135882,
             -0.9161659367494549,
             -0.9516020738895161,
             -0.977530117665097
            ],
            "size": [
             0,
             1.996668332936563,
             3.9733866159012243,
             5.910404133226792,
             7.788366846173011,
             9.58851077208406,
             11.292849467900709,
             12.884353744753822,
             14.347121817990455,
             15.666538192549668,
             16.82941969615793,
             17.82414720122871,
             18.640781719344528,
             19.27116370834386,
             19.708994599769206,
             19.94989973208109,
             19.9914720608301,
             19.833296209049372,
             19.476952617563903,
             18.926001753748288,
             18.185948536513635,
             17.264187332977475,
             16.169928076391802,
             14.9141042435344,
             13.509263611023012,
             11.969442882079129,
             10.310027436429284,
             8.547597604676596,
             6.699763003118093,
             4.78498658427964,
             2.8224001611973444,
             0.8316132486658099,
             1.1674828685516017,
             3.154913882864973,
             5.110822040536633,
             7.015664553792397,
             8.85040886589705,
             10.596722818169868,
             12.237157818854385,
             13.755323183679483,
             15.136049906158565,
             16.365542221288216,
             17.431515448271764,
             18.323318734989098,
             19.032041477790322,
             19.55060235330194
            ]
           },
           "type": "scatter",
           "x": [
            0,
            0.1,
            0.2,
            0.30000000000000004,
            0.4,
            0.5,
            0.6000000000000001,
            0.7000000000000001,
            0.8,
            0.9,
            1,
            1.1,
            1.2000000000000002,
            1.3,
            1.4000000000000001,
            1.5,
            1.6,
            1.7000000000000002,
            1.8,
            1.9000000000000001,
            2,
            2.1,
            2.2,
            2.3000000000000003,
            2.4000000000000004,
            2.5,
            2.6,
            2.7,
            2.8000000000000003,
            2.9000000000000004,
            3,
            3.1,
            3.2,
            3.3000000000000003,
            3.4000000000000004,
            3.5,
            3.6,
            3.7,
            3.8000000000000003,
            3.9000000000000004,
            4,
            4.1000000000000005,
            4.2,
            4.3,
            4.4,
            4.5
           ],
           "y": [
            0,
            0.010000000000000002,
            0.04000000000000001,
            0.09000000000000002,
            0.16000000000000003,
            0.25,
            0.3600000000000001,
            0.4900000000000001,
            0.6400000000000001,
            0.81,
            1,
            1.2100000000000002,
            1.4400000000000004,
            1.6900000000000002,
            1.9600000000000004,
            2.25,
            2.5600000000000005,
            2.8900000000000006,
            3.24,
            3.6100000000000003,
            4,
            4.41,
            4.840000000000001,
            5.290000000000001,
            5.760000000000002,
            6.25,
            6.760000000000001,
            7.290000000000001,
            7.840000000000002,
            8.410000000000002,
            9,
            9.610000000000001,
            10.240000000000002,
            10.890000000000002,
            11.560000000000002,
            12.25,
            12.96,
            13.690000000000001,
            14.440000000000001,
            15.210000000000003,
            16,
            16.810000000000006,
            17.64,
            18.49,
            19.360000000000003,
            20.25
           ]
          }
         ]
        },
        {
         "data": [
          {
           "marker": {
            "color": [
             0,
             0.09983341664682815,
             0.19866933079506122,
             0.2955202066613396,
             0.3894183423086505,
             0.479425538604203,
             0.5646424733950355,
             0.6442176872376911,
             0.7173560908995228,
             0.7833269096274834,
             0.8414709848078965,
             0.8912073600614354,
             0.9320390859672264,
             0.963558185417193,
             0.9854497299884603,
             0.9974949866040544,
             0.9995736030415051,
             0.9916648104524686,
             0.9738476308781951,
             0.9463000876874145,
             0.9092974268256817,
             0.8632093666488737,
             0.8084964038195901,
             0.74570521217672,
             0.6754631805511506,
             0.5984721441039564,
             0.5155013718214642,
             0.4273798802338298,
             0.33498815015590466,
             0.23924932921398198,
             0.1411200080598672,
             0.04158066243329049,
             -0.058374143427580086,
             -0.15774569414324865,
             -0.25554110202683167,
             -0.35078322768961984,
             -0.44252044329485246,
             -0.5298361409084934,
             -0.6118578909427193,
             -0.6877661591839741,
             -0.7568024953079282,
             -0.8182771110644108,
             -0.8715757724135882,
             -0.9161659367494549,
             -0.9516020738895161,
             -0.977530117665097,
             -0.9936910036334645
            ],
            "size": [
             0,
             1.996668332936563,
             3.9733866159012243,
             5.910404133226792,
             7.788366846173011,
             9.58851077208406,
             11.292849467900709,
             12.884353744753822,
             14.347121817990455,
             15.666538192549668,
             16.82941969615793,
             17.82414720122871,
             18.640781719344528,
             19.27116370834386,
             19.708994599769206,
             19.94989973208109,
             19.9914720608301,
             19.833296209049372,
             19.476952617563903,
             18.926001753748288,
             18.185948536513635,
             17.264187332977475,
             16.169928076391802,
             14.9141042435344,
             13.509263611023012,
             11.969442882079129,
             10.310027436429284,
             8.547597604676596,
             6.699763003118093,
             4.78498658427964,
             2.8224001611973444,
             0.8316132486658099,
             1.1674828685516017,
             3.154913882864973,
             5.110822040536633,
             7.015664553792397,
             8.85040886589705,
             10.596722818169868,
             12.237157818854385,
             13.755323183679483,
             15.136049906158565,
             16.365542221288216,
             17.431515448271764,
             18.323318734989098,
             19.032041477790322,
             19.55060235330194,
             19.87382007266929
            ]
           },
           "type": "scatter",
           "x": [
            0,
            0.1,
            0.2,
            0.30000000000000004,
            0.4,
            0.5,
            0.6000000000000001,
            0.7000000000000001,
            0.8,
            0.9,
            1,
            1.1,
            1.2000000000000002,
            1.3,
            1.4000000000000001,
            1.5,
            1.6,
            1.7000000000000002,
            1.8,
            1.9000000000000001,
            2,
            2.1,
            2.2,
            2.3000000000000003,
            2.4000000000000004,
            2.5,
            2.6,
            2.7,
            2.8000000000000003,
            2.9000000000000004,
            3,
            3.1,
            3.2,
            3.3000000000000003,
            3.4000000000000004,
            3.5,
            3.6,
            3.7,
            3.8000000000000003,
            3.9000000000000004,
            4,
            4.1000000000000005,
            4.2,
            4.3,
            4.4,
            4.5,
            4.6000000000000005
           ],
           "y": [
            0,
            0.010000000000000002,
            0.04000000000000001,
            0.09000000000000002,
            0.16000000000000003,
            0.25,
            0.3600000000000001,
            0.4900000000000001,
            0.6400000000000001,
            0.81,
            1,
            1.2100000000000002,
            1.4400000000000004,
            1.6900000000000002,
            1.9600000000000004,
            2.25,
            2.5600000000000005,
            2.8900000000000006,
            3.24,
            3.6100000000000003,
            4,
            4.41,
            4.840000000000001,
            5.290000000000001,
            5.760000000000002,
            6.25,
            6.760000000000001,
            7.290000000000001,
            7.840000000000002,
            8.410000000000002,
            9,
            9.610000000000001,
            10.240000000000002,
            10.890000000000002,
            11.560000000000002,
            12.25,
            12.96,
            13.690000000000001,
            14.440000000000001,
            15.210000000000003,
            16,
            16.810000000000006,
            17.64,
            18.49,
            19.360000000000003,
            20.25,
            21.160000000000004
           ]
          }
         ]
        },
        {
         "data": [
          {
           "marker": {
            "color": [
             0,
             0.09983341664682815,
             0.19866933079506122,
             0.2955202066613396,
             0.3894183423086505,
             0.479425538604203,
             0.5646424733950355,
             0.6442176872376911,
             0.7173560908995228,
             0.7833269096274834,
             0.8414709848078965,
             0.8912073600614354,
             0.9320390859672264,
             0.963558185417193,
             0.9854497299884603,
             0.9974949866040544,
             0.9995736030415051,
             0.9916648104524686,
             0.9738476308781951,
             0.9463000876874145,
             0.9092974268256817,
             0.8632093666488737,
             0.8084964038195901,
             0.74570521217672,
             0.6754631805511506,
             0.5984721441039564,
             0.5155013718214642,
             0.4273798802338298,
             0.33498815015590466,
             0.23924932921398198,
             0.1411200080598672,
             0.04158066243329049,
             -0.058374143427580086,
             -0.15774569414324865,
             -0.25554110202683167,
             -0.35078322768961984,
             -0.44252044329485246,
             -0.5298361409084934,
             -0.6118578909427193,
             -0.6877661591839741,
             -0.7568024953079282,
             -0.8182771110644108,
             -0.8715757724135882,
             -0.9161659367494549,
             -0.9516020738895161,
             -0.977530117665097,
             -0.9936910036334645,
             -0.9999232575641008
            ],
            "size": [
             0,
             1.996668332936563,
             3.9733866159012243,
             5.910404133226792,
             7.788366846173011,
             9.58851077208406,
             11.292849467900709,
             12.884353744753822,
             14.347121817990455,
             15.666538192549668,
             16.82941969615793,
             17.82414720122871,
             18.640781719344528,
             19.27116370834386,
             19.708994599769206,
             19.94989973208109,
             19.9914720608301,
             19.833296209049372,
             19.476952617563903,
             18.926001753748288,
             18.185948536513635,
             17.264187332977475,
             16.169928076391802,
             14.9141042435344,
             13.509263611023012,
             11.969442882079129,
             10.310027436429284,
             8.547597604676596,
             6.699763003118093,
             4.78498658427964,
             2.8224001611973444,
             0.8316132486658099,
             1.1674828685516017,
             3.154913882864973,
             5.110822040536633,
             7.015664553792397,
             8.85040886589705,
             10.596722818169868,
             12.237157818854385,
             13.755323183679483,
             15.136049906158565,
             16.365542221288216,
             17.431515448271764,
             18.323318734989098,
             19.032041477790322,
             19.55060235330194,
             19.87382007266929,
             19.998465151282016
            ]
           },
           "type": "scatter",
           "x": [
            0,
            0.1,
            0.2,
            0.30000000000000004,
            0.4,
            0.5,
            0.6000000000000001,
            0.7000000000000001,
            0.8,
            0.9,
            1,
            1.1,
            1.2000000000000002,
            1.3,
            1.4000000000000001,
            1.5,
            1.6,
            1.7000000000000002,
            1.8,
            1.9000000000000001,
            2,
            2.1,
            2.2,
            2.3000000000000003,
            2.4000000000000004,
            2.5,
            2.6,
            2.7,
            2.8000000000000003,
            2.9000000000000004,
            3,
            3.1,
            3.2,
            3.3000000000000003,
            3.4000000000000004,
            3.5,
            3.6,
            3.7,
            3.8000000000000003,
            3.9000000000000004,
            4,
            4.1000000000000005,
            4.2,
            4.3,
            4.4,
            4.5,
            4.6000000000000005,
            4.7
           ],
           "y": [
            0,
            0.010000000000000002,
            0.04000000000000001,
            0.09000000000000002,
            0.16000000000000003,
            0.25,
            0.3600000000000001,
            0.4900000000000001,
            0.6400000000000001,
            0.81,
            1,
            1.2100000000000002,
            1.4400000000000004,
            1.6900000000000002,
            1.9600000000000004,
            2.25,
            2.5600000000000005,
            2.8900000000000006,
            3.24,
            3.6100000000000003,
            4,
            4.41,
            4.840000000000001,
            5.290000000000001,
            5.760000000000002,
            6.25,
            6.760000000000001,
            7.290000000000001,
            7.840000000000002,
            8.410000000000002,
            9,
            9.610000000000001,
            10.240000000000002,
            10.890000000000002,
            11.560000000000002,
            12.25,
            12.96,
            13.690000000000001,
            14.440000000000001,
            15.210000000000003,
            16,
            16.810000000000006,
            17.64,
            18.49,
            19.360000000000003,
            20.25,
            21.160000000000004,
            22.090000000000003
           ]
          }
         ]
        },
        {
         "data": [
          {
           "marker": {
            "color": [
             0,
             0.09983341664682815,
             0.19866933079506122,
             0.2955202066613396,
             0.3894183423086505,
             0.479425538604203,
             0.5646424733950355,
             0.6442176872376911,
             0.7173560908995228,
             0.7833269096274834,
             0.8414709848078965,
             0.8912073600614354,
             0.9320390859672264,
             0.963558185417193,
             0.9854497299884603,
             0.9974949866040544,
             0.9995736030415051,
             0.9916648104524686,
             0.9738476308781951,
             0.9463000876874145,
             0.9092974268256817,
             0.8632093666488737,
             0.8084964038195901,
             0.74570521217672,
             0.6754631805511506,
             0.5984721441039564,
             0.5155013718214642,
             0.4273798802338298,
             0.33498815015590466,
             0.23924932921398198,
             0.1411200080598672,
             0.04158066243329049,
             -0.058374143427580086,
             -0.15774569414324865,
             -0.25554110202683167,
             -0.35078322768961984,
             -0.44252044329485246,
             -0.5298361409084934,
             -0.6118578909427193,
             -0.6877661591839741,
             -0.7568024953079282,
             -0.8182771110644108,
             -0.8715757724135882,
             -0.9161659367494549,
             -0.9516020738895161,
             -0.977530117665097,
             -0.9936910036334645,
             -0.9999232575641008,
             -0.9961646088358406
            ],
            "size": [
             0,
             1.996668332936563,
             3.9733866159012243,
             5.910404133226792,
             7.788366846173011,
             9.58851077208406,
             11.292849467900709,
             12.884353744753822,
             14.347121817990455,
             15.666538192549668,
             16.82941969615793,
             17.82414720122871,
             18.640781719344528,
             19.27116370834386,
             19.708994599769206,
             19.94989973208109,
             19.9914720608301,
             19.833296209049372,
             19.476952617563903,
             18.926001753748288,
             18.185948536513635,
             17.264187332977475,
             16.169928076391802,
             14.9141042435344,
             13.509263611023012,
             11.969442882079129,
             10.310027436429284,
             8.547597604676596,
             6.699763003118093,
             4.78498658427964,
             2.8224001611973444,
             0.8316132486658099,
             1.1674828685516017,
             3.154913882864973,
             5.110822040536633,
             7.015664553792397,
             8.85040886589705,
             10.596722818169868,
             12.237157818854385,
             13.755323183679483,
             15.136049906158565,
             16.365542221288216,
             17.431515448271764,
             18.323318734989098,
             19.032041477790322,
             19.55060235330194,
             19.87382007266929,
             19.998465151282016,
             19.92329217671681
            ]
           },
           "type": "scatter",
           "x": [
            0,
            0.1,
            0.2,
            0.30000000000000004,
            0.4,
            0.5,
            0.6000000000000001,
            0.7000000000000001,
            0.8,
            0.9,
            1,
            1.1,
            1.2000000000000002,
            1.3,
            1.4000000000000001,
            1.5,
            1.6,
            1.7000000000000002,
            1.8,
            1.9000000000000001,
            2,
            2.1,
            2.2,
            2.3000000000000003,
            2.4000000000000004,
            2.5,
            2.6,
            2.7,
            2.8000000000000003,
            2.9000000000000004,
            3,
            3.1,
            3.2,
            3.3000000000000003,
            3.4000000000000004,
            3.5,
            3.6,
            3.7,
            3.8000000000000003,
            3.9000000000000004,
            4,
            4.1000000000000005,
            4.2,
            4.3,
            4.4,
            4.5,
            4.6000000000000005,
            4.7,
            4.800000000000001
           ],
           "y": [
            0,
            0.010000000000000002,
            0.04000000000000001,
            0.09000000000000002,
            0.16000000000000003,
            0.25,
            0.3600000000000001,
            0.4900000000000001,
            0.6400000000000001,
            0.81,
            1,
            1.2100000000000002,
            1.4400000000000004,
            1.6900000000000002,
            1.9600000000000004,
            2.25,
            2.5600000000000005,
            2.8900000000000006,
            3.24,
            3.6100000000000003,
            4,
            4.41,
            4.840000000000001,
            5.290000000000001,
            5.760000000000002,
            6.25,
            6.760000000000001,
            7.290000000000001,
            7.840000000000002,
            8.410000000000002,
            9,
            9.610000000000001,
            10.240000000000002,
            10.890000000000002,
            11.560000000000002,
            12.25,
            12.96,
            13.690000000000001,
            14.440000000000001,
            15.210000000000003,
            16,
            16.810000000000006,
            17.64,
            18.49,
            19.360000000000003,
            20.25,
            21.160000000000004,
            22.090000000000003,
            23.040000000000006
           ]
          }
         ]
        },
        {
         "data": [
          {
           "marker": {
            "color": [
             0,
             0.09983341664682815,
             0.19866933079506122,
             0.2955202066613396,
             0.3894183423086505,
             0.479425538604203,
             0.5646424733950355,
             0.6442176872376911,
             0.7173560908995228,
             0.7833269096274834,
             0.8414709848078965,
             0.8912073600614354,
             0.9320390859672264,
             0.963558185417193,
             0.9854497299884603,
             0.9974949866040544,
             0.9995736030415051,
             0.9916648104524686,
             0.9738476308781951,
             0.9463000876874145,
             0.9092974268256817,
             0.8632093666488737,
             0.8084964038195901,
             0.74570521217672,
             0.6754631805511506,
             0.5984721441039564,
             0.5155013718214642,
             0.4273798802338298,
             0.33498815015590466,
             0.23924932921398198,
             0.1411200080598672,
             0.04158066243329049,
             -0.058374143427580086,
             -0.15774569414324865,
             -0.25554110202683167,
             -0.35078322768961984,
             -0.44252044329485246,
             -0.5298361409084934,
             -0.6118578909427193,
             -0.6877661591839741,
             -0.7568024953079282,
             -0.8182771110644108,
             -0.8715757724135882,
             -0.9161659367494549,
             -0.9516020738895161,
             -0.977530117665097,
             -0.9936910036334645,
             -0.9999232575641008,
             -0.9961646088358406,
             -0.9824526126243325
            ],
            "size": [
             0,
             1.996668332936563,
             3.9733866159012243,
             5.910404133226792,
             7.788366846173011,
             9.58851077208406,
             11.292849467900709,
             12.884353744753822,
             14.347121817990455,
             15.666538192549668,
             16.82941969615793,
             17.82414720122871,
             18.640781719344528,
             19.27116370834386,
             19.708994599769206,
             19.94989973208109,
             19.9914720608301,
             19.833296209049372,
             19.476952617563903,
             18.926001753748288,
             18.185948536513635,
             17.264187332977475,
             16.169928076391802,
             14.9141042435344,
             13.509263611023012,
             11.969442882079129,
             10.310027436429284,
             8.547597604676596,
             6.699763003118093,
             4.78498658427964,
             2.8224001611973444,
             0.8316132486658099,
             1.1674828685516017,
             3.154913882864973,
             5.110822040536633,
             7.015664553792397,
             8.85040886589705,
             10.596722818169868,
             12.237157818854385,
             13.755323183679483,
             15.136049906158565,
             16.365542221288216,
             17.431515448271764,
             18.323318734989098,
             19.032041477790322,
             19.55060235330194,
             19.87382007266929,
             19.998465151282016,
             19.92329217671681,
             19.649052252486648
            ]
           },
           "type": "scatter",
           "x": [
            0,
            0.1,
            0.2,
            0.30000000000000004,
            0.4,
            0.5,
            0.6000000000000001,
            0.7000000000000001,
            0.8,
            0.9,
            1,
            1.1,
            1.2000000000000002,
            1.3,
            1.4000000000000001,
            1.5,
            1.6,
            1.7000000000000002,
            1.8,
            1.9000000000000001,
            2,
            2.1,
            2.2,
            2.3000000000000003,
            2.4000000000000004,
            2.5,
            2.6,
            2.7,
            2.8000000000000003,
            2.9000000000000004,
            3,
            3.1,
            3.2,
            3.3000000000000003,
            3.4000000000000004,
            3.5,
            3.6,
            3.7,
            3.8000000000000003,
            3.9000000000000004,
            4,
            4.1000000000000005,
            4.2,
            4.3,
            4.4,
            4.5,
            4.6000000000000005,
            4.7,
            4.800000000000001,
            4.9
           ],
           "y": [
            0,
            0.010000000000000002,
            0.04000000000000001,
            0.09000000000000002,
            0.16000000000000003,
            0.25,
            0.3600000000000001,
            0.4900000000000001,
            0.6400000000000001,
            0.81,
            1,
            1.2100000000000002,
            1.4400000000000004,
            1.6900000000000002,
            1.9600000000000004,
            2.25,
            2.5600000000000005,
            2.8900000000000006,
            3.24,
            3.6100000000000003,
            4,
            4.41,
            4.840000000000001,
            5.290000000000001,
            5.760000000000002,
            6.25,
            6.760000000000001,
            7.290000000000001,
            7.840000000000002,
            8.410000000000002,
            9,
            9.610000000000001,
            10.240000000000002,
            10.890000000000002,
            11.560000000000002,
            12.25,
            12.96,
            13.690000000000001,
            14.440000000000001,
            15.210000000000003,
            16,
            16.810000000000006,
            17.64,
            18.49,
            19.360000000000003,
            20.25,
            21.160000000000004,
            22.090000000000003,
            23.040000000000006,
            24.010000000000005
           ]
          }
         ]
        }
       ],
       "layout": {
        "autosize": false,
        "height": 500,
        "legend": {
         "orientation": "h",
         "x": 0.5,
         "xanchor": "center"
        },
        "template": {
         "data": {
          "bar": [
           {
            "error_x": {
             "color": "#2a3f5f"
            },
            "error_y": {
             "color": "#2a3f5f"
            },
            "marker": {
             "line": {
              "color": "#E5ECF6",
              "width": 0.5
             },
             "pattern": {
              "fillmode": "overlay",
              "size": 10,
              "solidity": 0.2
             }
            },
            "type": "bar"
           }
          ],
          "barpolar": [
           {
            "marker": {
             "line": {
              "color": "#E5ECF6",
              "width": 0.5
             },
             "pattern": {
              "fillmode": "overlay",
              "size": 10,
              "solidity": 0.2
             }
            },
            "type": "barpolar"
           }
          ],
          "carpet": [
           {
            "aaxis": {
             "endlinecolor": "#2a3f5f",
             "gridcolor": "white",
             "linecolor": "white",
             "minorgridcolor": "white",
             "startlinecolor": "#2a3f5f"
            },
            "baxis": {
             "endlinecolor": "#2a3f5f",
             "gridcolor": "white",
             "linecolor": "white",
             "minorgridcolor": "white",
             "startlinecolor": "#2a3f5f"
            },
            "type": "carpet"
           }
          ],
          "choropleth": [
           {
            "colorbar": {
             "outlinewidth": 0,
             "ticks": ""
            },
            "type": "choropleth"
           }
          ],
          "contour": [
           {
            "colorbar": {
             "outlinewidth": 0,
             "ticks": ""
            },
            "colorscale": [
             [
              0,
              "#0d0887"
             ],
             [
              0.1111111111111111,
              "#46039f"
             ],
             [
              0.2222222222222222,
              "#7201a8"
             ],
             [
              0.3333333333333333,
              "#9c179e"
             ],
             [
              0.4444444444444444,
              "#bd3786"
             ],
             [
              0.5555555555555556,
              "#d8576b"
             ],
             [
              0.6666666666666666,
              "#ed7953"
             ],
             [
              0.7777777777777778,
              "#fb9f3a"
             ],
             [
              0.8888888888888888,
              "#fdca26"
             ],
             [
              1,
              "#f0f921"
             ]
            ],
            "type": "contour"
           }
          ],
          "contourcarpet": [
           {
            "colorbar": {
             "outlinewidth": 0,
             "ticks": ""
            },
            "type": "contourcarpet"
           }
          ],
          "heatmap": [
           {
            "colorbar": {
             "outlinewidth": 0,
             "ticks": ""
            },
            "colorscale": [
             [
              0,
              "#0d0887"
             ],
             [
              0.1111111111111111,
              "#46039f"
             ],
             [
              0.2222222222222222,
              "#7201a8"
             ],
             [
              0.3333333333333333,
              "#9c179e"
             ],
             [
              0.4444444444444444,
              "#bd3786"
             ],
             [
              0.5555555555555556,
              "#d8576b"
             ],
             [
              0.6666666666666666,
              "#ed7953"
             ],
             [
              0.7777777777777778,
              "#fb9f3a"
             ],
             [
              0.8888888888888888,
              "#fdca26"
             ],
             [
              1,
              "#f0f921"
             ]
            ],
            "type": "heatmap"
           }
          ],
          "heatmapgl": [
           {
            "colorbar": {
             "outlinewidth": 0,
             "ticks": ""
            },
            "colorscale": [
             [
              0,
              "#0d0887"
             ],
             [
              0.1111111111111111,
              "#46039f"
             ],
             [
              0.2222222222222222,
              "#7201a8"
             ],
             [
              0.3333333333333333,
              "#9c179e"
             ],
             [
              0.4444444444444444,
              "#bd3786"
             ],
             [
              0.5555555555555556,
              "#d8576b"
             ],
             [
              0.6666666666666666,
              "#ed7953"
             ],
             [
              0.7777777777777778,
              "#fb9f3a"
             ],
             [
              0.8888888888888888,
              "#fdca26"
             ],
             [
              1,
              "#f0f921"
             ]
            ],
            "type": "heatmapgl"
           }
          ],
          "histogram": [
           {
            "marker": {
             "pattern": {
              "fillmode": "overlay",
              "size": 10,
              "solidity": 0.2
             }
            },
            "type": "histogram"
           }
          ],
          "histogram2d": [
           {
            "colorbar": {
             "outlinewidth": 0,
             "ticks": ""
            },
            "colorscale": [
             [
              0,
              "#0d0887"
             ],
             [
              0.1111111111111111,
              "#46039f"
             ],
             [
              0.2222222222222222,
              "#7201a8"
             ],
             [
              0.3333333333333333,
              "#9c179e"
             ],
             [
              0.4444444444444444,
              "#bd3786"
             ],
             [
              0.5555555555555556,
              "#d8576b"
             ],
             [
              0.6666666666666666,
              "#ed7953"
             ],
             [
              0.7777777777777778,
              "#fb9f3a"
             ],
             [
              0.8888888888888888,
              "#fdca26"
             ],
             [
              1,
              "#f0f921"
             ]
            ],
            "type": "histogram2d"
           }
          ],
          "histogram2dcontour": [
           {
            "colorbar": {
             "outlinewidth": 0,
             "ticks": ""
            },
            "colorscale": [
             [
              0,
              "#0d0887"
             ],
             [
              0.1111111111111111,
              "#46039f"
             ],
             [
              0.2222222222222222,
              "#7201a8"
             ],
             [
              0.3333333333333333,
              "#9c179e"
             ],
             [
              0.4444444444444444,
              "#bd3786"
             ],
             [
              0.5555555555555556,
              "#d8576b"
             ],
             [
              0.6666666666666666,
              "#ed7953"
             ],
             [
              0.7777777777777778,
              "#fb9f3a"
             ],
             [
              0.8888888888888888,
              "#fdca26"
             ],
             [
              1,
              "#f0f921"
             ]
            ],
            "type": "histogram2dcontour"
           }
          ],
          "mesh3d": [
           {
            "colorbar": {
             "outlinewidth": 0,
             "ticks": ""
            },
            "type": "mesh3d"
           }
          ],
          "parcoords": [
           {
            "line": {
             "colorbar": {
              "outlinewidth": 0,
              "ticks": ""
             }
            },
            "type": "parcoords"
           }
          ],
          "pie": [
           {
            "automargin": true,
            "type": "pie"
           }
          ],
          "scatter": [
           {
            "marker": {
             "colorbar": {
              "outlinewidth": 0,
              "ticks": ""
             }
            },
            "type": "scatter"
           }
          ],
          "scatter3d": [
           {
            "line": {
             "colorbar": {
              "outlinewidth": 0,
              "ticks": ""
             }
            },
            "marker": {
             "colorbar": {
              "outlinewidth": 0,
              "ticks": ""
             }
            },
            "type": "scatter3d"
           }
          ],
          "scattercarpet": [
           {
            "marker": {
             "colorbar": {
              "outlinewidth": 0,
              "ticks": ""
             }
            },
            "type": "scattercarpet"
           }
          ],
          "scattergeo": [
           {
            "marker": {
             "colorbar": {
              "outlinewidth": 0,
              "ticks": ""
             }
            },
            "type": "scattergeo"
           }
          ],
          "scattergl": [
           {
            "marker": {
             "colorbar": {
              "outlinewidth": 0,
              "ticks": ""
             }
            },
            "type": "scattergl"
           }
          ],
          "scattermapbox": [
           {
            "marker": {
             "colorbar": {
              "outlinewidth": 0,
              "ticks": ""
             }
            },
            "type": "scattermapbox"
           }
          ],
          "scatterpolar": [
           {
            "marker": {
             "colorbar": {
              "outlinewidth": 0,
              "ticks": ""
             }
            },
            "type": "scatterpolar"
           }
          ],
          "scatterpolargl": [
           {
            "marker": {
             "colorbar": {
              "outlinewidth": 0,
              "ticks": ""
             }
            },
            "type": "scatterpolargl"
           }
          ],
          "scatterternary": [
           {
            "marker": {
             "colorbar": {
              "outlinewidth": 0,
              "ticks": ""
             }
            },
            "type": "scatterternary"
           }
          ],
          "surface": [
           {
            "colorbar": {
             "outlinewidth": 0,
             "ticks": ""
            },
            "colorscale": [
             [
              0,
              "#0d0887"
             ],
             [
              0.1111111111111111,
              "#46039f"
             ],
             [
              0.2222222222222222,
              "#7201a8"
             ],
             [
              0.3333333333333333,
              "#9c179e"
             ],
             [
              0.4444444444444444,
              "#bd3786"
             ],
             [
              0.5555555555555556,
              "#d8576b"
             ],
             [
              0.6666666666666666,
              "#ed7953"
             ],
             [
              0.7777777777777778,
              "#fb9f3a"
             ],
             [
              0.8888888888888888,
              "#fdca26"
             ],
             [
              1,
              "#f0f921"
             ]
            ],
            "type": "surface"
           }
          ],
          "table": [
           {
            "cells": {
             "fill": {
              "color": "#EBF0F8"
             },
             "line": {
              "color": "white"
             }
            },
            "header": {
             "fill": {
              "color": "#C8D4E3"
             },
             "line": {
              "color": "white"
             }
            },
            "type": "table"
           }
          ]
         },
         "layout": {
          "annotationdefaults": {
           "arrowcolor": "#2a3f5f",
           "arrowhead": 0,
           "arrowwidth": 1
          },
          "autotypenumbers": "strict",
          "coloraxis": {
           "colorbar": {
            "outlinewidth": 0,
            "ticks": ""
           }
          },
          "colorscale": {
           "diverging": [
            [
             0,
             "#8e0152"
            ],
            [
             0.1,
             "#c51b7d"
            ],
            [
             0.2,
             "#de77ae"
            ],
            [
             0.3,
             "#f1b6da"
            ],
            [
             0.4,
             "#fde0ef"
            ],
            [
             0.5,
             "#f7f7f7"
            ],
            [
             0.6,
             "#e6f5d0"
            ],
            [
             0.7,
             "#b8e186"
            ],
            [
             0.8,
             "#7fbc41"
            ],
            [
             0.9,
             "#4d9221"
            ],
            [
             1,
             "#276419"
            ]
           ],
           "sequential": [
            [
             0,
             "#0d0887"
            ],
            [
             0.1111111111111111,
             "#46039f"
            ],
            [
             0.2222222222222222,
             "#7201a8"
            ],
            [
             0.3333333333333333,
             "#9c179e"
            ],
            [
             0.4444444444444444,
             "#bd3786"
            ],
            [
             0.5555555555555556,
             "#d8576b"
            ],
            [
             0.6666666666666666,
             "#ed7953"
            ],
            [
             0.7777777777777778,
             "#fb9f3a"
            ],
            [
             0.8888888888888888,
             "#fdca26"
            ],
            [
             1,
             "#f0f921"
            ]
           ],
           "sequentialminus": [
            [
             0,
             "#0d0887"
            ],
            [
             0.1111111111111111,
             "#46039f"
            ],
            [
             0.2222222222222222,
             "#7201a8"
            ],
            [
             0.3333333333333333,
             "#9c179e"
            ],
            [
             0.4444444444444444,
             "#bd3786"
            ],
            [
             0.5555555555555556,
             "#d8576b"
            ],
            [
             0.6666666666666666,
             "#ed7953"
            ],
            [
             0.7777777777777778,
             "#fb9f3a"
            ],
            [
             0.8888888888888888,
             "#fdca26"
            ],
            [
             1,
             "#f0f921"
            ]
           ]
          },
          "colorway": [
           "#636efa",
           "#EF553B",
           "#00cc96",
           "#ab63fa",
           "#FFA15A",
           "#19d3f3",
           "#FF6692",
           "#B6E880",
           "#FF97FF",
           "#FECB52"
          ],
          "font": {
           "color": "#2a3f5f"
          },
          "geo": {
           "bgcolor": "white",
           "lakecolor": "white",
           "landcolor": "#E5ECF6",
           "showlakes": true,
           "showland": true,
           "subunitcolor": "white"
          },
          "hoverlabel": {
           "align": "left"
          },
          "hovermode": "closest",
          "mapbox": {
           "style": "light"
          },
          "paper_bgcolor": "white",
          "plot_bgcolor": "#E5ECF6",
          "polar": {
           "angularaxis": {
            "gridcolor": "white",
            "linecolor": "white",
            "ticks": ""
           },
           "bgcolor": "#E5ECF6",
           "radialaxis": {
            "gridcolor": "white",
            "linecolor": "white",
            "ticks": ""
           }
          },
          "scene": {
           "xaxis": {
            "backgroundcolor": "#E5ECF6",
            "gridcolor": "white",
            "gridwidth": 2,
            "linecolor": "white",
            "showbackground": true,
            "ticks": "",
            "zerolinecolor": "white"
           },
           "yaxis": {
            "backgroundcolor": "#E5ECF6",
            "gridcolor": "white",
            "gridwidth": 2,
            "linecolor": "white",
            "showbackground": true,
            "ticks": "",
            "zerolinecolor": "white"
           },
           "zaxis": {
            "backgroundcolor": "#E5ECF6",
            "gridcolor": "white",
            "gridwidth": 2,
            "linecolor": "white",
            "showbackground": true,
            "ticks": "",
            "zerolinecolor": "white"
           }
          },
          "shapedefaults": {
           "line": {
            "color": "#2a3f5f"
           }
          },
          "ternary": {
           "aaxis": {
            "gridcolor": "white",
            "linecolor": "white",
            "ticks": ""
           },
           "baxis": {
            "gridcolor": "white",
            "linecolor": "white",
            "ticks": ""
           },
           "bgcolor": "#E5ECF6",
           "caxis": {
            "gridcolor": "white",
            "linecolor": "white",
            "ticks": ""
           }
          },
          "title": {
           "x": 0.05
          },
          "xaxis": {
           "automargin": true,
           "gridcolor": "white",
           "linecolor": "white",
           "ticks": "",
           "title": {
            "standoff": 15
           },
           "zerolinecolor": "white",
           "zerolinewidth": 2
          },
          "yaxis": {
           "automargin": true,
           "gridcolor": "white",
           "linecolor": "white",
           "ticks": "",
           "title": {
            "standoff": 15
           },
           "zerolinecolor": "white",
           "zerolinewidth": 2
          }
         }
        },
        "updatemenus": [
         {
          "buttons": [
           {
            "args": [
             null,
             {
              "fromcurrent": true
             }
            ],
            "label": "►",
            "method": "animate"
           },
           {
            "args": [
             [
              null
             ],
             {
              "frame": {
               "duration": 0,
               "redraw": false
              },
              "mode": "immediate",
              "transition": {
               "duration": 0
              }
             }
            ],
            "label": "❚❚",
            "method": "animate"
           }
          ],
          "type": "buttons"
         }
        ],
        "width": 500
       }
      },
      "text/html": [
       "<div>                            <div id=\"41cde5e6-fa3c-48a8-a7cd-3238723d1298\" class=\"plotly-graph-div\" style=\"height:500px; width:500px;\"></div>            <script type=\"text/javascript\">                require([\"plotly\"], function(Plotly) {                    window.PLOTLYENV=window.PLOTLYENV || {};                                    if (document.getElementById(\"41cde5e6-fa3c-48a8-a7cd-3238723d1298\")) {                    Plotly.newPlot(                        \"41cde5e6-fa3c-48a8-a7cd-3238723d1298\",                        [{\"marker\":{\"color\":0.0,\"colorbar\":{\"title\":{\"text\":\"h(x)=sin(x)\"}},\"colorscale\":[[0.0,\"#000004\"],[0.1111111111111111,\"#1b0c41\"],[0.2222222222222222,\"#4a0c6b\"],[0.3333333333333333,\"#781c6d\"],[0.4444444444444444,\"#a52c60\"],[0.5555555555555556,\"#cf4446\"],[0.6666666666666666,\"#ed6925\"],[0.7777777777777778,\"#fb9b06\"],[0.8888888888888888,\"#f7d13d\"],[1.0,\"#fcffa4\"]],\"size\":0.0},\"mode\":\"lines+markers\",\"name\":\"f(x)=x<sup>2</sup>\",\"x\":[0.0],\"y\":[0.0],\"type\":\"scatter\",\"hoverinfo\":\"all\",\"hovertemplate\":\"\\u0410\\u0440\\u0433\\u0443\\u043c\\u0435\\u043d\\u0442: %{x}<br>\\u0424\\u0443\\u043d\\u043a\\u0446\\u0438\\u044f: %{y}\"}],                        {\"template\":{\"data\":{\"bar\":[{\"error_x\":{\"color\":\"#2a3f5f\"},\"error_y\":{\"color\":\"#2a3f5f\"},\"marker\":{\"line\":{\"color\":\"#E5ECF6\",\"width\":0.5},\"pattern\":{\"fillmode\":\"overlay\",\"size\":10,\"solidity\":0.2}},\"type\":\"bar\"}],\"barpolar\":[{\"marker\":{\"line\":{\"color\":\"#E5ECF6\",\"width\":0.5},\"pattern\":{\"fillmode\":\"overlay\",\"size\":10,\"solidity\":0.2}},\"type\":\"barpolar\"}],\"carpet\":[{\"aaxis\":{\"endlinecolor\":\"#2a3f5f\",\"gridcolor\":\"white\",\"linecolor\":\"white\",\"minorgridcolor\":\"white\",\"startlinecolor\":\"#2a3f5f\"},\"baxis\":{\"endlinecolor\":\"#2a3f5f\",\"gridcolor\":\"white\",\"linecolor\":\"white\",\"minorgridcolor\":\"white\",\"startlinecolor\":\"#2a3f5f\"},\"type\":\"carpet\"}],\"choropleth\":[{\"colorbar\":{\"outlinewidth\":0,\"ticks\":\"\"},\"type\":\"choropleth\"}],\"contour\":[{\"colorbar\":{\"outlinewidth\":0,\"ticks\":\"\"},\"colorscale\":[[0.0,\"#0d0887\"],[0.1111111111111111,\"#46039f\"],[0.2222222222222222,\"#7201a8\"],[0.3333333333333333,\"#9c179e\"],[0.4444444444444444,\"#bd3786\"],[0.5555555555555556,\"#d8576b\"],[0.6666666666666666,\"#ed7953\"],[0.7777777777777778,\"#fb9f3a\"],[0.8888888888888888,\"#fdca26\"],[1.0,\"#f0f921\"]],\"type\":\"contour\"}],\"contourcarpet\":[{\"colorbar\":{\"outlinewidth\":0,\"ticks\":\"\"},\"type\":\"contourcarpet\"}],\"heatmap\":[{\"colorbar\":{\"outlinewidth\":0,\"ticks\":\"\"},\"colorscale\":[[0.0,\"#0d0887\"],[0.1111111111111111,\"#46039f\"],[0.2222222222222222,\"#7201a8\"],[0.3333333333333333,\"#9c179e\"],[0.4444444444444444,\"#bd3786\"],[0.5555555555555556,\"#d8576b\"],[0.6666666666666666,\"#ed7953\"],[0.7777777777777778,\"#fb9f3a\"],[0.8888888888888888,\"#fdca26\"],[1.0,\"#f0f921\"]],\"type\":\"heatmap\"}],\"heatmapgl\":[{\"colorbar\":{\"outlinewidth\":0,\"ticks\":\"\"},\"colorscale\":[[0.0,\"#0d0887\"],[0.1111111111111111,\"#46039f\"],[0.2222222222222222,\"#7201a8\"],[0.3333333333333333,\"#9c179e\"],[0.4444444444444444,\"#bd3786\"],[0.5555555555555556,\"#d8576b\"],[0.6666666666666666,\"#ed7953\"],[0.7777777777777778,\"#fb9f3a\"],[0.8888888888888888,\"#fdca26\"],[1.0,\"#f0f921\"]],\"type\":\"heatmapgl\"}],\"histogram\":[{\"marker\":{\"pattern\":{\"fillmode\":\"overlay\",\"size\":10,\"solidity\":0.2}},\"type\":\"histogram\"}],\"histogram2d\":[{\"colorbar\":{\"outlinewidth\":0,\"ticks\":\"\"},\"colorscale\":[[0.0,\"#0d0887\"],[0.1111111111111111,\"#46039f\"],[0.2222222222222222,\"#7201a8\"],[0.3333333333333333,\"#9c179e\"],[0.4444444444444444,\"#bd3786\"],[0.5555555555555556,\"#d8576b\"],[0.6666666666666666,\"#ed7953\"],[0.7777777777777778,\"#fb9f3a\"],[0.8888888888888888,\"#fdca26\"],[1.0,\"#f0f921\"]],\"type\":\"histogram2d\"}],\"histogram2dcontour\":[{\"colorbar\":{\"outlinewidth\":0,\"ticks\":\"\"},\"colorscale\":[[0.0,\"#0d0887\"],[0.1111111111111111,\"#46039f\"],[0.2222222222222222,\"#7201a8\"],[0.3333333333333333,\"#9c179e\"],[0.4444444444444444,\"#bd3786\"],[0.5555555555555556,\"#d8576b\"],[0.6666666666666666,\"#ed7953\"],[0.7777777777777778,\"#fb9f3a\"],[0.8888888888888888,\"#fdca26\"],[1.0,\"#f0f921\"]],\"type\":\"histogram2dcontour\"}],\"mesh3d\":[{\"colorbar\":{\"outlinewidth\":0,\"ticks\":\"\"},\"type\":\"mesh3d\"}],\"parcoords\":[{\"line\":{\"colorbar\":{\"outlinewidth\":0,\"ticks\":\"\"}},\"type\":\"parcoords\"}],\"pie\":[{\"automargin\":true,\"type\":\"pie\"}],\"scatter\":[{\"marker\":{\"colorbar\":{\"outlinewidth\":0,\"ticks\":\"\"}},\"type\":\"scatter\"}],\"scatter3d\":[{\"line\":{\"colorbar\":{\"outlinewidth\":0,\"ticks\":\"\"}},\"marker\":{\"colorbar\":{\"outlinewidth\":0,\"ticks\":\"\"}},\"type\":\"scatter3d\"}],\"scattercarpet\":[{\"marker\":{\"colorbar\":{\"outlinewidth\":0,\"ticks\":\"\"}},\"type\":\"scattercarpet\"}],\"scattergeo\":[{\"marker\":{\"colorbar\":{\"outlinewidth\":0,\"ticks\":\"\"}},\"type\":\"scattergeo\"}],\"scattergl\":[{\"marker\":{\"colorbar\":{\"outlinewidth\":0,\"ticks\":\"\"}},\"type\":\"scattergl\"}],\"scattermapbox\":[{\"marker\":{\"colorbar\":{\"outlinewidth\":0,\"ticks\":\"\"}},\"type\":\"scattermapbox\"}],\"scatterpolar\":[{\"marker\":{\"colorbar\":{\"outlinewidth\":0,\"ticks\":\"\"}},\"type\":\"scatterpolar\"}],\"scatterpolargl\":[{\"marker\":{\"colorbar\":{\"outlinewidth\":0,\"ticks\":\"\"}},\"type\":\"scatterpolargl\"}],\"scatterternary\":[{\"marker\":{\"colorbar\":{\"outlinewidth\":0,\"ticks\":\"\"}},\"type\":\"scatterternary\"}],\"surface\":[{\"colorbar\":{\"outlinewidth\":0,\"ticks\":\"\"},\"colorscale\":[[0.0,\"#0d0887\"],[0.1111111111111111,\"#46039f\"],[0.2222222222222222,\"#7201a8\"],[0.3333333333333333,\"#9c179e\"],[0.4444444444444444,\"#bd3786\"],[0.5555555555555556,\"#d8576b\"],[0.6666666666666666,\"#ed7953\"],[0.7777777777777778,\"#fb9f3a\"],[0.8888888888888888,\"#fdca26\"],[1.0,\"#f0f921\"]],\"type\":\"surface\"}],\"table\":[{\"cells\":{\"fill\":{\"color\":\"#EBF0F8\"},\"line\":{\"color\":\"white\"}},\"header\":{\"fill\":{\"color\":\"#C8D4E3\"},\"line\":{\"color\":\"white\"}},\"type\":\"table\"}]},\"layout\":{\"annotationdefaults\":{\"arrowcolor\":\"#2a3f5f\",\"arrowhead\":0,\"arrowwidth\":1},\"autotypenumbers\":\"strict\",\"coloraxis\":{\"colorbar\":{\"outlinewidth\":0,\"ticks\":\"\"}},\"colorscale\":{\"diverging\":[[0,\"#8e0152\"],[0.1,\"#c51b7d\"],[0.2,\"#de77ae\"],[0.3,\"#f1b6da\"],[0.4,\"#fde0ef\"],[0.5,\"#f7f7f7\"],[0.6,\"#e6f5d0\"],[0.7,\"#b8e186\"],[0.8,\"#7fbc41\"],[0.9,\"#4d9221\"],[1,\"#276419\"]],\"sequential\":[[0.0,\"#0d0887\"],[0.1111111111111111,\"#46039f\"],[0.2222222222222222,\"#7201a8\"],[0.3333333333333333,\"#9c179e\"],[0.4444444444444444,\"#bd3786\"],[0.5555555555555556,\"#d8576b\"],[0.6666666666666666,\"#ed7953\"],[0.7777777777777778,\"#fb9f3a\"],[0.8888888888888888,\"#fdca26\"],[1.0,\"#f0f921\"]],\"sequentialminus\":[[0.0,\"#0d0887\"],[0.1111111111111111,\"#46039f\"],[0.2222222222222222,\"#7201a8\"],[0.3333333333333333,\"#9c179e\"],[0.4444444444444444,\"#bd3786\"],[0.5555555555555556,\"#d8576b\"],[0.6666666666666666,\"#ed7953\"],[0.7777777777777778,\"#fb9f3a\"],[0.8888888888888888,\"#fdca26\"],[1.0,\"#f0f921\"]]},\"colorway\":[\"#636efa\",\"#EF553B\",\"#00cc96\",\"#ab63fa\",\"#FFA15A\",\"#19d3f3\",\"#FF6692\",\"#B6E880\",\"#FF97FF\",\"#FECB52\"],\"font\":{\"color\":\"#2a3f5f\"},\"geo\":{\"bgcolor\":\"white\",\"lakecolor\":\"white\",\"landcolor\":\"#E5ECF6\",\"showlakes\":true,\"showland\":true,\"subunitcolor\":\"white\"},\"hoverlabel\":{\"align\":\"left\"},\"hovermode\":\"closest\",\"mapbox\":{\"style\":\"light\"},\"paper_bgcolor\":\"white\",\"plot_bgcolor\":\"#E5ECF6\",\"polar\":{\"angularaxis\":{\"gridcolor\":\"white\",\"linecolor\":\"white\",\"ticks\":\"\"},\"bgcolor\":\"#E5ECF6\",\"radialaxis\":{\"gridcolor\":\"white\",\"linecolor\":\"white\",\"ticks\":\"\"}},\"scene\":{\"xaxis\":{\"backgroundcolor\":\"#E5ECF6\",\"gridcolor\":\"white\",\"gridwidth\":2,\"linecolor\":\"white\",\"showbackground\":true,\"ticks\":\"\",\"zerolinecolor\":\"white\"},\"yaxis\":{\"backgroundcolor\":\"#E5ECF6\",\"gridcolor\":\"white\",\"gridwidth\":2,\"linecolor\":\"white\",\"showbackground\":true,\"ticks\":\"\",\"zerolinecolor\":\"white\"},\"zaxis\":{\"backgroundcolor\":\"#E5ECF6\",\"gridcolor\":\"white\",\"gridwidth\":2,\"linecolor\":\"white\",\"showbackground\":true,\"ticks\":\"\",\"zerolinecolor\":\"white\"}},\"shapedefaults\":{\"line\":{\"color\":\"#2a3f5f\"}},\"ternary\":{\"aaxis\":{\"gridcolor\":\"white\",\"linecolor\":\"white\",\"ticks\":\"\"},\"baxis\":{\"gridcolor\":\"white\",\"linecolor\":\"white\",\"ticks\":\"\"},\"bgcolor\":\"#E5ECF6\",\"caxis\":{\"gridcolor\":\"white\",\"linecolor\":\"white\",\"ticks\":\"\"}},\"title\":{\"x\":0.05},\"xaxis\":{\"automargin\":true,\"gridcolor\":\"white\",\"linecolor\":\"white\",\"ticks\":\"\",\"title\":{\"standoff\":15},\"zerolinecolor\":\"white\",\"zerolinewidth\":2},\"yaxis\":{\"automargin\":true,\"gridcolor\":\"white\",\"linecolor\":\"white\",\"ticks\":\"\",\"title\":{\"standoff\":15},\"zerolinecolor\":\"white\",\"zerolinewidth\":2}}},\"legend\":{\"orientation\":\"h\",\"x\":0.5,\"xanchor\":\"center\"},\"updatemenus\":[{\"buttons\":[{\"args\":[null,{\"fromcurrent\":true}],\"label\":\"\\u25ba\",\"method\":\"animate\"},{\"args\":[[null],{\"frame\":{\"duration\":0,\"redraw\":false},\"mode\":\"immediate\",\"transition\":{\"duration\":0}}],\"label\":\"\\u275a\\u275a\",\"method\":\"animate\"}],\"type\":\"buttons\"}],\"autosize\":false,\"width\":500,\"height\":500},                        {\"responsive\": true}                    ).then(function(){\n",
       "                            Plotly.addFrames('41cde5e6-fa3c-48a8-a7cd-3238723d1298', [{\"data\":[{\"marker\":{\"color\":[0.0,0.09983341664682815],\"size\":[0.0,1.996668332936563]},\"x\":[0.0,0.1],\"y\":[0.0,0.010000000000000002],\"type\":\"scatter\"}]},{\"data\":[{\"marker\":{\"color\":[0.0,0.09983341664682815,0.19866933079506122],\"size\":[0.0,1.996668332936563,3.9733866159012243]},\"x\":[0.0,0.1,0.2],\"y\":[0.0,0.010000000000000002,0.04000000000000001],\"type\":\"scatter\"}]},{\"data\":[{\"marker\":{\"color\":[0.0,0.09983341664682815,0.19866933079506122,0.2955202066613396],\"size\":[0.0,1.996668332936563,3.9733866159012243,5.910404133226792]},\"x\":[0.0,0.1,0.2,0.30000000000000004],\"y\":[0.0,0.010000000000000002,0.04000000000000001,0.09000000000000002],\"type\":\"scatter\"}]},{\"data\":[{\"marker\":{\"color\":[0.0,0.09983341664682815,0.19866933079506122,0.2955202066613396,0.3894183423086505],\"size\":[0.0,1.996668332936563,3.9733866159012243,5.910404133226792,7.788366846173011]},\"x\":[0.0,0.1,0.2,0.30000000000000004,0.4],\"y\":[0.0,0.010000000000000002,0.04000000000000001,0.09000000000000002,0.16000000000000003],\"type\":\"scatter\"}]},{\"data\":[{\"marker\":{\"color\":[0.0,0.09983341664682815,0.19866933079506122,0.2955202066613396,0.3894183423086505,0.479425538604203],\"size\":[0.0,1.996668332936563,3.9733866159012243,5.910404133226792,7.788366846173011,9.58851077208406]},\"x\":[0.0,0.1,0.2,0.30000000000000004,0.4,0.5],\"y\":[0.0,0.010000000000000002,0.04000000000000001,0.09000000000000002,0.16000000000000003,0.25],\"type\":\"scatter\"}]},{\"data\":[{\"marker\":{\"color\":[0.0,0.09983341664682815,0.19866933079506122,0.2955202066613396,0.3894183423086505,0.479425538604203,0.5646424733950355],\"size\":[0.0,1.996668332936563,3.9733866159012243,5.910404133226792,7.788366846173011,9.58851077208406,11.292849467900709]},\"x\":[0.0,0.1,0.2,0.30000000000000004,0.4,0.5,0.6000000000000001],\"y\":[0.0,0.010000000000000002,0.04000000000000001,0.09000000000000002,0.16000000000000003,0.25,0.3600000000000001],\"type\":\"scatter\"}]},{\"data\":[{\"marker\":{\"color\":[0.0,0.09983341664682815,0.19866933079506122,0.2955202066613396,0.3894183423086505,0.479425538604203,0.5646424733950355,0.6442176872376911],\"size\":[0.0,1.996668332936563,3.9733866159012243,5.910404133226792,7.788366846173011,9.58851077208406,11.292849467900709,12.884353744753822]},\"x\":[0.0,0.1,0.2,0.30000000000000004,0.4,0.5,0.6000000000000001,0.7000000000000001],\"y\":[0.0,0.010000000000000002,0.04000000000000001,0.09000000000000002,0.16000000000000003,0.25,0.3600000000000001,0.4900000000000001],\"type\":\"scatter\"}]},{\"data\":[{\"marker\":{\"color\":[0.0,0.09983341664682815,0.19866933079506122,0.2955202066613396,0.3894183423086505,0.479425538604203,0.5646424733950355,0.6442176872376911,0.7173560908995228],\"size\":[0.0,1.996668332936563,3.9733866159012243,5.910404133226792,7.788366846173011,9.58851077208406,11.292849467900709,12.884353744753822,14.347121817990455]},\"x\":[0.0,0.1,0.2,0.30000000000000004,0.4,0.5,0.6000000000000001,0.7000000000000001,0.8],\"y\":[0.0,0.010000000000000002,0.04000000000000001,0.09000000000000002,0.16000000000000003,0.25,0.3600000000000001,0.4900000000000001,0.6400000000000001],\"type\":\"scatter\"}]},{\"data\":[{\"marker\":{\"color\":[0.0,0.09983341664682815,0.19866933079506122,0.2955202066613396,0.3894183423086505,0.479425538604203,0.5646424733950355,0.6442176872376911,0.7173560908995228,0.7833269096274834],\"size\":[0.0,1.996668332936563,3.9733866159012243,5.910404133226792,7.788366846173011,9.58851077208406,11.292849467900709,12.884353744753822,14.347121817990455,15.666538192549668]},\"x\":[0.0,0.1,0.2,0.30000000000000004,0.4,0.5,0.6000000000000001,0.7000000000000001,0.8,0.9],\"y\":[0.0,0.010000000000000002,0.04000000000000001,0.09000000000000002,0.16000000000000003,0.25,0.3600000000000001,0.4900000000000001,0.6400000000000001,0.81],\"type\":\"scatter\"}]},{\"data\":[{\"marker\":{\"color\":[0.0,0.09983341664682815,0.19866933079506122,0.2955202066613396,0.3894183423086505,0.479425538604203,0.5646424733950355,0.6442176872376911,0.7173560908995228,0.7833269096274834,0.8414709848078965],\"size\":[0.0,1.996668332936563,3.9733866159012243,5.910404133226792,7.788366846173011,9.58851077208406,11.292849467900709,12.884353744753822,14.347121817990455,15.666538192549668,16.82941969615793]},\"x\":[0.0,0.1,0.2,0.30000000000000004,0.4,0.5,0.6000000000000001,0.7000000000000001,0.8,0.9,1.0],\"y\":[0.0,0.010000000000000002,0.04000000000000001,0.09000000000000002,0.16000000000000003,0.25,0.3600000000000001,0.4900000000000001,0.6400000000000001,0.81,1.0],\"type\":\"scatter\"}]},{\"data\":[{\"marker\":{\"color\":[0.0,0.09983341664682815,0.19866933079506122,0.2955202066613396,0.3894183423086505,0.479425538604203,0.5646424733950355,0.6442176872376911,0.7173560908995228,0.7833269096274834,0.8414709848078965,0.8912073600614354],\"size\":[0.0,1.996668332936563,3.9733866159012243,5.910404133226792,7.788366846173011,9.58851077208406,11.292849467900709,12.884353744753822,14.347121817990455,15.666538192549668,16.82941969615793,17.82414720122871]},\"x\":[0.0,0.1,0.2,0.30000000000000004,0.4,0.5,0.6000000000000001,0.7000000000000001,0.8,0.9,1.0,1.1],\"y\":[0.0,0.010000000000000002,0.04000000000000001,0.09000000000000002,0.16000000000000003,0.25,0.3600000000000001,0.4900000000000001,0.6400000000000001,0.81,1.0,1.2100000000000002],\"type\":\"scatter\"}]},{\"data\":[{\"marker\":{\"color\":[0.0,0.09983341664682815,0.19866933079506122,0.2955202066613396,0.3894183423086505,0.479425538604203,0.5646424733950355,0.6442176872376911,0.7173560908995228,0.7833269096274834,0.8414709848078965,0.8912073600614354,0.9320390859672264],\"size\":[0.0,1.996668332936563,3.9733866159012243,5.910404133226792,7.788366846173011,9.58851077208406,11.292849467900709,12.884353744753822,14.347121817990455,15.666538192549668,16.82941969615793,17.82414720122871,18.640781719344528]},\"x\":[0.0,0.1,0.2,0.30000000000000004,0.4,0.5,0.6000000000000001,0.7000000000000001,0.8,0.9,1.0,1.1,1.2000000000000002],\"y\":[0.0,0.010000000000000002,0.04000000000000001,0.09000000000000002,0.16000000000000003,0.25,0.3600000000000001,0.4900000000000001,0.6400000000000001,0.81,1.0,1.2100000000000002,1.4400000000000004],\"type\":\"scatter\"}]},{\"data\":[{\"marker\":{\"color\":[0.0,0.09983341664682815,0.19866933079506122,0.2955202066613396,0.3894183423086505,0.479425538604203,0.5646424733950355,0.6442176872376911,0.7173560908995228,0.7833269096274834,0.8414709848078965,0.8912073600614354,0.9320390859672264,0.963558185417193],\"size\":[0.0,1.996668332936563,3.9733866159012243,5.910404133226792,7.788366846173011,9.58851077208406,11.292849467900709,12.884353744753822,14.347121817990455,15.666538192549668,16.82941969615793,17.82414720122871,18.640781719344528,19.27116370834386]},\"x\":[0.0,0.1,0.2,0.30000000000000004,0.4,0.5,0.6000000000000001,0.7000000000000001,0.8,0.9,1.0,1.1,1.2000000000000002,1.3],\"y\":[0.0,0.010000000000000002,0.04000000000000001,0.09000000000000002,0.16000000000000003,0.25,0.3600000000000001,0.4900000000000001,0.6400000000000001,0.81,1.0,1.2100000000000002,1.4400000000000004,1.6900000000000002],\"type\":\"scatter\"}]},{\"data\":[{\"marker\":{\"color\":[0.0,0.09983341664682815,0.19866933079506122,0.2955202066613396,0.3894183423086505,0.479425538604203,0.5646424733950355,0.6442176872376911,0.7173560908995228,0.7833269096274834,0.8414709848078965,0.8912073600614354,0.9320390859672264,0.963558185417193,0.9854497299884603],\"size\":[0.0,1.996668332936563,3.9733866159012243,5.910404133226792,7.788366846173011,9.58851077208406,11.292849467900709,12.884353744753822,14.347121817990455,15.666538192549668,16.82941969615793,17.82414720122871,18.640781719344528,19.27116370834386,19.708994599769206]},\"x\":[0.0,0.1,0.2,0.30000000000000004,0.4,0.5,0.6000000000000001,0.7000000000000001,0.8,0.9,1.0,1.1,1.2000000000000002,1.3,1.4000000000000001],\"y\":[0.0,0.010000000000000002,0.04000000000000001,0.09000000000000002,0.16000000000000003,0.25,0.3600000000000001,0.4900000000000001,0.6400000000000001,0.81,1.0,1.2100000000000002,1.4400000000000004,1.6900000000000002,1.9600000000000004],\"type\":\"scatter\"}]},{\"data\":[{\"marker\":{\"color\":[0.0,0.09983341664682815,0.19866933079506122,0.2955202066613396,0.3894183423086505,0.479425538604203,0.5646424733950355,0.6442176872376911,0.7173560908995228,0.7833269096274834,0.8414709848078965,0.8912073600614354,0.9320390859672264,0.963558185417193,0.9854497299884603,0.9974949866040544],\"size\":[0.0,1.996668332936563,3.9733866159012243,5.910404133226792,7.788366846173011,9.58851077208406,11.292849467900709,12.884353744753822,14.347121817990455,15.666538192549668,16.82941969615793,17.82414720122871,18.640781719344528,19.27116370834386,19.708994599769206,19.94989973208109]},\"x\":[0.0,0.1,0.2,0.30000000000000004,0.4,0.5,0.6000000000000001,0.7000000000000001,0.8,0.9,1.0,1.1,1.2000000000000002,1.3,1.4000000000000001,1.5],\"y\":[0.0,0.010000000000000002,0.04000000000000001,0.09000000000000002,0.16000000000000003,0.25,0.3600000000000001,0.4900000000000001,0.6400000000000001,0.81,1.0,1.2100000000000002,1.4400000000000004,1.6900000000000002,1.9600000000000004,2.25],\"type\":\"scatter\"}]},{\"data\":[{\"marker\":{\"color\":[0.0,0.09983341664682815,0.19866933079506122,0.2955202066613396,0.3894183423086505,0.479425538604203,0.5646424733950355,0.6442176872376911,0.7173560908995228,0.7833269096274834,0.8414709848078965,0.8912073600614354,0.9320390859672264,0.963558185417193,0.9854497299884603,0.9974949866040544,0.9995736030415051],\"size\":[0.0,1.996668332936563,3.9733866159012243,5.910404133226792,7.788366846173011,9.58851077208406,11.292849467900709,12.884353744753822,14.347121817990455,15.666538192549668,16.82941969615793,17.82414720122871,18.640781719344528,19.27116370834386,19.708994599769206,19.94989973208109,19.9914720608301]},\"x\":[0.0,0.1,0.2,0.30000000000000004,0.4,0.5,0.6000000000000001,0.7000000000000001,0.8,0.9,1.0,1.1,1.2000000000000002,1.3,1.4000000000000001,1.5,1.6],\"y\":[0.0,0.010000000000000002,0.04000000000000001,0.09000000000000002,0.16000000000000003,0.25,0.3600000000000001,0.4900000000000001,0.6400000000000001,0.81,1.0,1.2100000000000002,1.4400000000000004,1.6900000000000002,1.9600000000000004,2.25,2.5600000000000005],\"type\":\"scatter\"}]},{\"data\":[{\"marker\":{\"color\":[0.0,0.09983341664682815,0.19866933079506122,0.2955202066613396,0.3894183423086505,0.479425538604203,0.5646424733950355,0.6442176872376911,0.7173560908995228,0.7833269096274834,0.8414709848078965,0.8912073600614354,0.9320390859672264,0.963558185417193,0.9854497299884603,0.9974949866040544,0.9995736030415051,0.9916648104524686],\"size\":[0.0,1.996668332936563,3.9733866159012243,5.910404133226792,7.788366846173011,9.58851077208406,11.292849467900709,12.884353744753822,14.347121817990455,15.666538192549668,16.82941969615793,17.82414720122871,18.640781719344528,19.27116370834386,19.708994599769206,19.94989973208109,19.9914720608301,19.833296209049372]},\"x\":[0.0,0.1,0.2,0.30000000000000004,0.4,0.5,0.6000000000000001,0.7000000000000001,0.8,0.9,1.0,1.1,1.2000000000000002,1.3,1.4000000000000001,1.5,1.6,1.7000000000000002],\"y\":[0.0,0.010000000000000002,0.04000000000000001,0.09000000000000002,0.16000000000000003,0.25,0.3600000000000001,0.4900000000000001,0.6400000000000001,0.81,1.0,1.2100000000000002,1.4400000000000004,1.6900000000000002,1.9600000000000004,2.25,2.5600000000000005,2.8900000000000006],\"type\":\"scatter\"}]},{\"data\":[{\"marker\":{\"color\":[0.0,0.09983341664682815,0.19866933079506122,0.2955202066613396,0.3894183423086505,0.479425538604203,0.5646424733950355,0.6442176872376911,0.7173560908995228,0.7833269096274834,0.8414709848078965,0.8912073600614354,0.9320390859672264,0.963558185417193,0.9854497299884603,0.9974949866040544,0.9995736030415051,0.9916648104524686,0.9738476308781951],\"size\":[0.0,1.996668332936563,3.9733866159012243,5.910404133226792,7.788366846173011,9.58851077208406,11.292849467900709,12.884353744753822,14.347121817990455,15.666538192549668,16.82941969615793,17.82414720122871,18.640781719344528,19.27116370834386,19.708994599769206,19.94989973208109,19.9914720608301,19.833296209049372,19.476952617563903]},\"x\":[0.0,0.1,0.2,0.30000000000000004,0.4,0.5,0.6000000000000001,0.7000000000000001,0.8,0.9,1.0,1.1,1.2000000000000002,1.3,1.4000000000000001,1.5,1.6,1.7000000000000002,1.8],\"y\":[0.0,0.010000000000000002,0.04000000000000001,0.09000000000000002,0.16000000000000003,0.25,0.3600000000000001,0.4900000000000001,0.6400000000000001,0.81,1.0,1.2100000000000002,1.4400000000000004,1.6900000000000002,1.9600000000000004,2.25,2.5600000000000005,2.8900000000000006,3.24],\"type\":\"scatter\"}]},{\"data\":[{\"marker\":{\"color\":[0.0,0.09983341664682815,0.19866933079506122,0.2955202066613396,0.3894183423086505,0.479425538604203,0.5646424733950355,0.6442176872376911,0.7173560908995228,0.7833269096274834,0.8414709848078965,0.8912073600614354,0.9320390859672264,0.963558185417193,0.9854497299884603,0.9974949866040544,0.9995736030415051,0.9916648104524686,0.9738476308781951,0.9463000876874145],\"size\":[0.0,1.996668332936563,3.9733866159012243,5.910404133226792,7.788366846173011,9.58851077208406,11.292849467900709,12.884353744753822,14.347121817990455,15.666538192549668,16.82941969615793,17.82414720122871,18.640781719344528,19.27116370834386,19.708994599769206,19.94989973208109,19.9914720608301,19.833296209049372,19.476952617563903,18.926001753748288]},\"x\":[0.0,0.1,0.2,0.30000000000000004,0.4,0.5,0.6000000000000001,0.7000000000000001,0.8,0.9,1.0,1.1,1.2000000000000002,1.3,1.4000000000000001,1.5,1.6,1.7000000000000002,1.8,1.9000000000000001],\"y\":[0.0,0.010000000000000002,0.04000000000000001,0.09000000000000002,0.16000000000000003,0.25,0.3600000000000001,0.4900000000000001,0.6400000000000001,0.81,1.0,1.2100000000000002,1.4400000000000004,1.6900000000000002,1.9600000000000004,2.25,2.5600000000000005,2.8900000000000006,3.24,3.6100000000000003],\"type\":\"scatter\"}]},{\"data\":[{\"marker\":{\"color\":[0.0,0.09983341664682815,0.19866933079506122,0.2955202066613396,0.3894183423086505,0.479425538604203,0.5646424733950355,0.6442176872376911,0.7173560908995228,0.7833269096274834,0.8414709848078965,0.8912073600614354,0.9320390859672264,0.963558185417193,0.9854497299884603,0.9974949866040544,0.9995736030415051,0.9916648104524686,0.9738476308781951,0.9463000876874145,0.9092974268256817],\"size\":[0.0,1.996668332936563,3.9733866159012243,5.910404133226792,7.788366846173011,9.58851077208406,11.292849467900709,12.884353744753822,14.347121817990455,15.666538192549668,16.82941969615793,17.82414720122871,18.640781719344528,19.27116370834386,19.708994599769206,19.94989973208109,19.9914720608301,19.833296209049372,19.476952617563903,18.926001753748288,18.185948536513635]},\"x\":[0.0,0.1,0.2,0.30000000000000004,0.4,0.5,0.6000000000000001,0.7000000000000001,0.8,0.9,1.0,1.1,1.2000000000000002,1.3,1.4000000000000001,1.5,1.6,1.7000000000000002,1.8,1.9000000000000001,2.0],\"y\":[0.0,0.010000000000000002,0.04000000000000001,0.09000000000000002,0.16000000000000003,0.25,0.3600000000000001,0.4900000000000001,0.6400000000000001,0.81,1.0,1.2100000000000002,1.4400000000000004,1.6900000000000002,1.9600000000000004,2.25,2.5600000000000005,2.8900000000000006,3.24,3.6100000000000003,4.0],\"type\":\"scatter\"}]},{\"data\":[{\"marker\":{\"color\":[0.0,0.09983341664682815,0.19866933079506122,0.2955202066613396,0.3894183423086505,0.479425538604203,0.5646424733950355,0.6442176872376911,0.7173560908995228,0.7833269096274834,0.8414709848078965,0.8912073600614354,0.9320390859672264,0.963558185417193,0.9854497299884603,0.9974949866040544,0.9995736030415051,0.9916648104524686,0.9738476308781951,0.9463000876874145,0.9092974268256817,0.8632093666488737],\"size\":[0.0,1.996668332936563,3.9733866159012243,5.910404133226792,7.788366846173011,9.58851077208406,11.292849467900709,12.884353744753822,14.347121817990455,15.666538192549668,16.82941969615793,17.82414720122871,18.640781719344528,19.27116370834386,19.708994599769206,19.94989973208109,19.9914720608301,19.833296209049372,19.476952617563903,18.926001753748288,18.185948536513635,17.264187332977475]},\"x\":[0.0,0.1,0.2,0.30000000000000004,0.4,0.5,0.6000000000000001,0.7000000000000001,0.8,0.9,1.0,1.1,1.2000000000000002,1.3,1.4000000000000001,1.5,1.6,1.7000000000000002,1.8,1.9000000000000001,2.0,2.1],\"y\":[0.0,0.010000000000000002,0.04000000000000001,0.09000000000000002,0.16000000000000003,0.25,0.3600000000000001,0.4900000000000001,0.6400000000000001,0.81,1.0,1.2100000000000002,1.4400000000000004,1.6900000000000002,1.9600000000000004,2.25,2.5600000000000005,2.8900000000000006,3.24,3.6100000000000003,4.0,4.41],\"type\":\"scatter\"}]},{\"data\":[{\"marker\":{\"color\":[0.0,0.09983341664682815,0.19866933079506122,0.2955202066613396,0.3894183423086505,0.479425538604203,0.5646424733950355,0.6442176872376911,0.7173560908995228,0.7833269096274834,0.8414709848078965,0.8912073600614354,0.9320390859672264,0.963558185417193,0.9854497299884603,0.9974949866040544,0.9995736030415051,0.9916648104524686,0.9738476308781951,0.9463000876874145,0.9092974268256817,0.8632093666488737,0.8084964038195901],\"size\":[0.0,1.996668332936563,3.9733866159012243,5.910404133226792,7.788366846173011,9.58851077208406,11.292849467900709,12.884353744753822,14.347121817990455,15.666538192549668,16.82941969615793,17.82414720122871,18.640781719344528,19.27116370834386,19.708994599769206,19.94989973208109,19.9914720608301,19.833296209049372,19.476952617563903,18.926001753748288,18.185948536513635,17.264187332977475,16.169928076391802]},\"x\":[0.0,0.1,0.2,0.30000000000000004,0.4,0.5,0.6000000000000001,0.7000000000000001,0.8,0.9,1.0,1.1,1.2000000000000002,1.3,1.4000000000000001,1.5,1.6,1.7000000000000002,1.8,1.9000000000000001,2.0,2.1,2.2],\"y\":[0.0,0.010000000000000002,0.04000000000000001,0.09000000000000002,0.16000000000000003,0.25,0.3600000000000001,0.4900000000000001,0.6400000000000001,0.81,1.0,1.2100000000000002,1.4400000000000004,1.6900000000000002,1.9600000000000004,2.25,2.5600000000000005,2.8900000000000006,3.24,3.6100000000000003,4.0,4.41,4.840000000000001],\"type\":\"scatter\"}]},{\"data\":[{\"marker\":{\"color\":[0.0,0.09983341664682815,0.19866933079506122,0.2955202066613396,0.3894183423086505,0.479425538604203,0.5646424733950355,0.6442176872376911,0.7173560908995228,0.7833269096274834,0.8414709848078965,0.8912073600614354,0.9320390859672264,0.963558185417193,0.9854497299884603,0.9974949866040544,0.9995736030415051,0.9916648104524686,0.9738476308781951,0.9463000876874145,0.9092974268256817,0.8632093666488737,0.8084964038195901,0.74570521217672],\"size\":[0.0,1.996668332936563,3.9733866159012243,5.910404133226792,7.788366846173011,9.58851077208406,11.292849467900709,12.884353744753822,14.347121817990455,15.666538192549668,16.82941969615793,17.82414720122871,18.640781719344528,19.27116370834386,19.708994599769206,19.94989973208109,19.9914720608301,19.833296209049372,19.476952617563903,18.926001753748288,18.185948536513635,17.264187332977475,16.169928076391802,14.9141042435344]},\"x\":[0.0,0.1,0.2,0.30000000000000004,0.4,0.5,0.6000000000000001,0.7000000000000001,0.8,0.9,1.0,1.1,1.2000000000000002,1.3,1.4000000000000001,1.5,1.6,1.7000000000000002,1.8,1.9000000000000001,2.0,2.1,2.2,2.3000000000000003],\"y\":[0.0,0.010000000000000002,0.04000000000000001,0.09000000000000002,0.16000000000000003,0.25,0.3600000000000001,0.4900000000000001,0.6400000000000001,0.81,1.0,1.2100000000000002,1.4400000000000004,1.6900000000000002,1.9600000000000004,2.25,2.5600000000000005,2.8900000000000006,3.24,3.6100000000000003,4.0,4.41,4.840000000000001,5.290000000000001],\"type\":\"scatter\"}]},{\"data\":[{\"marker\":{\"color\":[0.0,0.09983341664682815,0.19866933079506122,0.2955202066613396,0.3894183423086505,0.479425538604203,0.5646424733950355,0.6442176872376911,0.7173560908995228,0.7833269096274834,0.8414709848078965,0.8912073600614354,0.9320390859672264,0.963558185417193,0.9854497299884603,0.9974949866040544,0.9995736030415051,0.9916648104524686,0.9738476308781951,0.9463000876874145,0.9092974268256817,0.8632093666488737,0.8084964038195901,0.74570521217672,0.6754631805511506],\"size\":[0.0,1.996668332936563,3.9733866159012243,5.910404133226792,7.788366846173011,9.58851077208406,11.292849467900709,12.884353744753822,14.347121817990455,15.666538192549668,16.82941969615793,17.82414720122871,18.640781719344528,19.27116370834386,19.708994599769206,19.94989973208109,19.9914720608301,19.833296209049372,19.476952617563903,18.926001753748288,18.185948536513635,17.264187332977475,16.169928076391802,14.9141042435344,13.509263611023012]},\"x\":[0.0,0.1,0.2,0.30000000000000004,0.4,0.5,0.6000000000000001,0.7000000000000001,0.8,0.9,1.0,1.1,1.2000000000000002,1.3,1.4000000000000001,1.5,1.6,1.7000000000000002,1.8,1.9000000000000001,2.0,2.1,2.2,2.3000000000000003,2.4000000000000004],\"y\":[0.0,0.010000000000000002,0.04000000000000001,0.09000000000000002,0.16000000000000003,0.25,0.3600000000000001,0.4900000000000001,0.6400000000000001,0.81,1.0,1.2100000000000002,1.4400000000000004,1.6900000000000002,1.9600000000000004,2.25,2.5600000000000005,2.8900000000000006,3.24,3.6100000000000003,4.0,4.41,4.840000000000001,5.290000000000001,5.760000000000002],\"type\":\"scatter\"}]},{\"data\":[{\"marker\":{\"color\":[0.0,0.09983341664682815,0.19866933079506122,0.2955202066613396,0.3894183423086505,0.479425538604203,0.5646424733950355,0.6442176872376911,0.7173560908995228,0.7833269096274834,0.8414709848078965,0.8912073600614354,0.9320390859672264,0.963558185417193,0.9854497299884603,0.9974949866040544,0.9995736030415051,0.9916648104524686,0.9738476308781951,0.9463000876874145,0.9092974268256817,0.8632093666488737,0.8084964038195901,0.74570521217672,0.6754631805511506,0.5984721441039564],\"size\":[0.0,1.996668332936563,3.9733866159012243,5.910404133226792,7.788366846173011,9.58851077208406,11.292849467900709,12.884353744753822,14.347121817990455,15.666538192549668,16.82941969615793,17.82414720122871,18.640781719344528,19.27116370834386,19.708994599769206,19.94989973208109,19.9914720608301,19.833296209049372,19.476952617563903,18.926001753748288,18.185948536513635,17.264187332977475,16.169928076391802,14.9141042435344,13.509263611023012,11.969442882079129]},\"x\":[0.0,0.1,0.2,0.30000000000000004,0.4,0.5,0.6000000000000001,0.7000000000000001,0.8,0.9,1.0,1.1,1.2000000000000002,1.3,1.4000000000000001,1.5,1.6,1.7000000000000002,1.8,1.9000000000000001,2.0,2.1,2.2,2.3000000000000003,2.4000000000000004,2.5],\"y\":[0.0,0.010000000000000002,0.04000000000000001,0.09000000000000002,0.16000000000000003,0.25,0.3600000000000001,0.4900000000000001,0.6400000000000001,0.81,1.0,1.2100000000000002,1.4400000000000004,1.6900000000000002,1.9600000000000004,2.25,2.5600000000000005,2.8900000000000006,3.24,3.6100000000000003,4.0,4.41,4.840000000000001,5.290000000000001,5.760000000000002,6.25],\"type\":\"scatter\"}]},{\"data\":[{\"marker\":{\"color\":[0.0,0.09983341664682815,0.19866933079506122,0.2955202066613396,0.3894183423086505,0.479425538604203,0.5646424733950355,0.6442176872376911,0.7173560908995228,0.7833269096274834,0.8414709848078965,0.8912073600614354,0.9320390859672264,0.963558185417193,0.9854497299884603,0.9974949866040544,0.9995736030415051,0.9916648104524686,0.9738476308781951,0.9463000876874145,0.9092974268256817,0.8632093666488737,0.8084964038195901,0.74570521217672,0.6754631805511506,0.5984721441039564,0.5155013718214642],\"size\":[0.0,1.996668332936563,3.9733866159012243,5.910404133226792,7.788366846173011,9.58851077208406,11.292849467900709,12.884353744753822,14.347121817990455,15.666538192549668,16.82941969615793,17.82414720122871,18.640781719344528,19.27116370834386,19.708994599769206,19.94989973208109,19.9914720608301,19.833296209049372,19.476952617563903,18.926001753748288,18.185948536513635,17.264187332977475,16.169928076391802,14.9141042435344,13.509263611023012,11.969442882079129,10.310027436429284]},\"x\":[0.0,0.1,0.2,0.30000000000000004,0.4,0.5,0.6000000000000001,0.7000000000000001,0.8,0.9,1.0,1.1,1.2000000000000002,1.3,1.4000000000000001,1.5,1.6,1.7000000000000002,1.8,1.9000000000000001,2.0,2.1,2.2,2.3000000000000003,2.4000000000000004,2.5,2.6],\"y\":[0.0,0.010000000000000002,0.04000000000000001,0.09000000000000002,0.16000000000000003,0.25,0.3600000000000001,0.4900000000000001,0.6400000000000001,0.81,1.0,1.2100000000000002,1.4400000000000004,1.6900000000000002,1.9600000000000004,2.25,2.5600000000000005,2.8900000000000006,3.24,3.6100000000000003,4.0,4.41,4.840000000000001,5.290000000000001,5.760000000000002,6.25,6.760000000000001],\"type\":\"scatter\"}]},{\"data\":[{\"marker\":{\"color\":[0.0,0.09983341664682815,0.19866933079506122,0.2955202066613396,0.3894183423086505,0.479425538604203,0.5646424733950355,0.6442176872376911,0.7173560908995228,0.7833269096274834,0.8414709848078965,0.8912073600614354,0.9320390859672264,0.963558185417193,0.9854497299884603,0.9974949866040544,0.9995736030415051,0.9916648104524686,0.9738476308781951,0.9463000876874145,0.9092974268256817,0.8632093666488737,0.8084964038195901,0.74570521217672,0.6754631805511506,0.5984721441039564,0.5155013718214642,0.4273798802338298],\"size\":[0.0,1.996668332936563,3.9733866159012243,5.910404133226792,7.788366846173011,9.58851077208406,11.292849467900709,12.884353744753822,14.347121817990455,15.666538192549668,16.82941969615793,17.82414720122871,18.640781719344528,19.27116370834386,19.708994599769206,19.94989973208109,19.9914720608301,19.833296209049372,19.476952617563903,18.926001753748288,18.185948536513635,17.264187332977475,16.169928076391802,14.9141042435344,13.509263611023012,11.969442882079129,10.310027436429284,8.547597604676596]},\"x\":[0.0,0.1,0.2,0.30000000000000004,0.4,0.5,0.6000000000000001,0.7000000000000001,0.8,0.9,1.0,1.1,1.2000000000000002,1.3,1.4000000000000001,1.5,1.6,1.7000000000000002,1.8,1.9000000000000001,2.0,2.1,2.2,2.3000000000000003,2.4000000000000004,2.5,2.6,2.7],\"y\":[0.0,0.010000000000000002,0.04000000000000001,0.09000000000000002,0.16000000000000003,0.25,0.3600000000000001,0.4900000000000001,0.6400000000000001,0.81,1.0,1.2100000000000002,1.4400000000000004,1.6900000000000002,1.9600000000000004,2.25,2.5600000000000005,2.8900000000000006,3.24,3.6100000000000003,4.0,4.41,4.840000000000001,5.290000000000001,5.760000000000002,6.25,6.760000000000001,7.290000000000001],\"type\":\"scatter\"}]},{\"data\":[{\"marker\":{\"color\":[0.0,0.09983341664682815,0.19866933079506122,0.2955202066613396,0.3894183423086505,0.479425538604203,0.5646424733950355,0.6442176872376911,0.7173560908995228,0.7833269096274834,0.8414709848078965,0.8912073600614354,0.9320390859672264,0.963558185417193,0.9854497299884603,0.9974949866040544,0.9995736030415051,0.9916648104524686,0.9738476308781951,0.9463000876874145,0.9092974268256817,0.8632093666488737,0.8084964038195901,0.74570521217672,0.6754631805511506,0.5984721441039564,0.5155013718214642,0.4273798802338298,0.33498815015590466],\"size\":[0.0,1.996668332936563,3.9733866159012243,5.910404133226792,7.788366846173011,9.58851077208406,11.292849467900709,12.884353744753822,14.347121817990455,15.666538192549668,16.82941969615793,17.82414720122871,18.640781719344528,19.27116370834386,19.708994599769206,19.94989973208109,19.9914720608301,19.833296209049372,19.476952617563903,18.926001753748288,18.185948536513635,17.264187332977475,16.169928076391802,14.9141042435344,13.509263611023012,11.969442882079129,10.310027436429284,8.547597604676596,6.699763003118093]},\"x\":[0.0,0.1,0.2,0.30000000000000004,0.4,0.5,0.6000000000000001,0.7000000000000001,0.8,0.9,1.0,1.1,1.2000000000000002,1.3,1.4000000000000001,1.5,1.6,1.7000000000000002,1.8,1.9000000000000001,2.0,2.1,2.2,2.3000000000000003,2.4000000000000004,2.5,2.6,2.7,2.8000000000000003],\"y\":[0.0,0.010000000000000002,0.04000000000000001,0.09000000000000002,0.16000000000000003,0.25,0.3600000000000001,0.4900000000000001,0.6400000000000001,0.81,1.0,1.2100000000000002,1.4400000000000004,1.6900000000000002,1.9600000000000004,2.25,2.5600000000000005,2.8900000000000006,3.24,3.6100000000000003,4.0,4.41,4.840000000000001,5.290000000000001,5.760000000000002,6.25,6.760000000000001,7.290000000000001,7.840000000000002],\"type\":\"scatter\"}]},{\"data\":[{\"marker\":{\"color\":[0.0,0.09983341664682815,0.19866933079506122,0.2955202066613396,0.3894183423086505,0.479425538604203,0.5646424733950355,0.6442176872376911,0.7173560908995228,0.7833269096274834,0.8414709848078965,0.8912073600614354,0.9320390859672264,0.963558185417193,0.9854497299884603,0.9974949866040544,0.9995736030415051,0.9916648104524686,0.9738476308781951,0.9463000876874145,0.9092974268256817,0.8632093666488737,0.8084964038195901,0.74570521217672,0.6754631805511506,0.5984721441039564,0.5155013718214642,0.4273798802338298,0.33498815015590466,0.23924932921398198],\"size\":[0.0,1.996668332936563,3.9733866159012243,5.910404133226792,7.788366846173011,9.58851077208406,11.292849467900709,12.884353744753822,14.347121817990455,15.666538192549668,16.82941969615793,17.82414720122871,18.640781719344528,19.27116370834386,19.708994599769206,19.94989973208109,19.9914720608301,19.833296209049372,19.476952617563903,18.926001753748288,18.185948536513635,17.264187332977475,16.169928076391802,14.9141042435344,13.509263611023012,11.969442882079129,10.310027436429284,8.547597604676596,6.699763003118093,4.78498658427964]},\"x\":[0.0,0.1,0.2,0.30000000000000004,0.4,0.5,0.6000000000000001,0.7000000000000001,0.8,0.9,1.0,1.1,1.2000000000000002,1.3,1.4000000000000001,1.5,1.6,1.7000000000000002,1.8,1.9000000000000001,2.0,2.1,2.2,2.3000000000000003,2.4000000000000004,2.5,2.6,2.7,2.8000000000000003,2.9000000000000004],\"y\":[0.0,0.010000000000000002,0.04000000000000001,0.09000000000000002,0.16000000000000003,0.25,0.3600000000000001,0.4900000000000001,0.6400000000000001,0.81,1.0,1.2100000000000002,1.4400000000000004,1.6900000000000002,1.9600000000000004,2.25,2.5600000000000005,2.8900000000000006,3.24,3.6100000000000003,4.0,4.41,4.840000000000001,5.290000000000001,5.760000000000002,6.25,6.760000000000001,7.290000000000001,7.840000000000002,8.410000000000002],\"type\":\"scatter\"}]},{\"data\":[{\"marker\":{\"color\":[0.0,0.09983341664682815,0.19866933079506122,0.2955202066613396,0.3894183423086505,0.479425538604203,0.5646424733950355,0.6442176872376911,0.7173560908995228,0.7833269096274834,0.8414709848078965,0.8912073600614354,0.9320390859672264,0.963558185417193,0.9854497299884603,0.9974949866040544,0.9995736030415051,0.9916648104524686,0.9738476308781951,0.9463000876874145,0.9092974268256817,0.8632093666488737,0.8084964038195901,0.74570521217672,0.6754631805511506,0.5984721441039564,0.5155013718214642,0.4273798802338298,0.33498815015590466,0.23924932921398198,0.1411200080598672],\"size\":[0.0,1.996668332936563,3.9733866159012243,5.910404133226792,7.788366846173011,9.58851077208406,11.292849467900709,12.884353744753822,14.347121817990455,15.666538192549668,16.82941969615793,17.82414720122871,18.640781719344528,19.27116370834386,19.708994599769206,19.94989973208109,19.9914720608301,19.833296209049372,19.476952617563903,18.926001753748288,18.185948536513635,17.264187332977475,16.169928076391802,14.9141042435344,13.509263611023012,11.969442882079129,10.310027436429284,8.547597604676596,6.699763003118093,4.78498658427964,2.8224001611973444]},\"x\":[0.0,0.1,0.2,0.30000000000000004,0.4,0.5,0.6000000000000001,0.7000000000000001,0.8,0.9,1.0,1.1,1.2000000000000002,1.3,1.4000000000000001,1.5,1.6,1.7000000000000002,1.8,1.9000000000000001,2.0,2.1,2.2,2.3000000000000003,2.4000000000000004,2.5,2.6,2.7,2.8000000000000003,2.9000000000000004,3.0],\"y\":[0.0,0.010000000000000002,0.04000000000000001,0.09000000000000002,0.16000000000000003,0.25,0.3600000000000001,0.4900000000000001,0.6400000000000001,0.81,1.0,1.2100000000000002,1.4400000000000004,1.6900000000000002,1.9600000000000004,2.25,2.5600000000000005,2.8900000000000006,3.24,3.6100000000000003,4.0,4.41,4.840000000000001,5.290000000000001,5.760000000000002,6.25,6.760000000000001,7.290000000000001,7.840000000000002,8.410000000000002,9.0],\"type\":\"scatter\"}]},{\"data\":[{\"marker\":{\"color\":[0.0,0.09983341664682815,0.19866933079506122,0.2955202066613396,0.3894183423086505,0.479425538604203,0.5646424733950355,0.6442176872376911,0.7173560908995228,0.7833269096274834,0.8414709848078965,0.8912073600614354,0.9320390859672264,0.963558185417193,0.9854497299884603,0.9974949866040544,0.9995736030415051,0.9916648104524686,0.9738476308781951,0.9463000876874145,0.9092974268256817,0.8632093666488737,0.8084964038195901,0.74570521217672,0.6754631805511506,0.5984721441039564,0.5155013718214642,0.4273798802338298,0.33498815015590466,0.23924932921398198,0.1411200080598672,0.04158066243329049],\"size\":[0.0,1.996668332936563,3.9733866159012243,5.910404133226792,7.788366846173011,9.58851077208406,11.292849467900709,12.884353744753822,14.347121817990455,15.666538192549668,16.82941969615793,17.82414720122871,18.640781719344528,19.27116370834386,19.708994599769206,19.94989973208109,19.9914720608301,19.833296209049372,19.476952617563903,18.926001753748288,18.185948536513635,17.264187332977475,16.169928076391802,14.9141042435344,13.509263611023012,11.969442882079129,10.310027436429284,8.547597604676596,6.699763003118093,4.78498658427964,2.8224001611973444,0.8316132486658099]},\"x\":[0.0,0.1,0.2,0.30000000000000004,0.4,0.5,0.6000000000000001,0.7000000000000001,0.8,0.9,1.0,1.1,1.2000000000000002,1.3,1.4000000000000001,1.5,1.6,1.7000000000000002,1.8,1.9000000000000001,2.0,2.1,2.2,2.3000000000000003,2.4000000000000004,2.5,2.6,2.7,2.8000000000000003,2.9000000000000004,3.0,3.1],\"y\":[0.0,0.010000000000000002,0.04000000000000001,0.09000000000000002,0.16000000000000003,0.25,0.3600000000000001,0.4900000000000001,0.6400000000000001,0.81,1.0,1.2100000000000002,1.4400000000000004,1.6900000000000002,1.9600000000000004,2.25,2.5600000000000005,2.8900000000000006,3.24,3.6100000000000003,4.0,4.41,4.840000000000001,5.290000000000001,5.760000000000002,6.25,6.760000000000001,7.290000000000001,7.840000000000002,8.410000000000002,9.0,9.610000000000001],\"type\":\"scatter\"}]},{\"data\":[{\"marker\":{\"color\":[0.0,0.09983341664682815,0.19866933079506122,0.2955202066613396,0.3894183423086505,0.479425538604203,0.5646424733950355,0.6442176872376911,0.7173560908995228,0.7833269096274834,0.8414709848078965,0.8912073600614354,0.9320390859672264,0.963558185417193,0.9854497299884603,0.9974949866040544,0.9995736030415051,0.9916648104524686,0.9738476308781951,0.9463000876874145,0.9092974268256817,0.8632093666488737,0.8084964038195901,0.74570521217672,0.6754631805511506,0.5984721441039564,0.5155013718214642,0.4273798802338298,0.33498815015590466,0.23924932921398198,0.1411200080598672,0.04158066243329049,-0.058374143427580086],\"size\":[0.0,1.996668332936563,3.9733866159012243,5.910404133226792,7.788366846173011,9.58851077208406,11.292849467900709,12.884353744753822,14.347121817990455,15.666538192549668,16.82941969615793,17.82414720122871,18.640781719344528,19.27116370834386,19.708994599769206,19.94989973208109,19.9914720608301,19.833296209049372,19.476952617563903,18.926001753748288,18.185948536513635,17.264187332977475,16.169928076391802,14.9141042435344,13.509263611023012,11.969442882079129,10.310027436429284,8.547597604676596,6.699763003118093,4.78498658427964,2.8224001611973444,0.8316132486658099,1.1674828685516017]},\"x\":[0.0,0.1,0.2,0.30000000000000004,0.4,0.5,0.6000000000000001,0.7000000000000001,0.8,0.9,1.0,1.1,1.2000000000000002,1.3,1.4000000000000001,1.5,1.6,1.7000000000000002,1.8,1.9000000000000001,2.0,2.1,2.2,2.3000000000000003,2.4000000000000004,2.5,2.6,2.7,2.8000000000000003,2.9000000000000004,3.0,3.1,3.2],\"y\":[0.0,0.010000000000000002,0.04000000000000001,0.09000000000000002,0.16000000000000003,0.25,0.3600000000000001,0.4900000000000001,0.6400000000000001,0.81,1.0,1.2100000000000002,1.4400000000000004,1.6900000000000002,1.9600000000000004,2.25,2.5600000000000005,2.8900000000000006,3.24,3.6100000000000003,4.0,4.41,4.840000000000001,5.290000000000001,5.760000000000002,6.25,6.760000000000001,7.290000000000001,7.840000000000002,8.410000000000002,9.0,9.610000000000001,10.240000000000002],\"type\":\"scatter\"}]},{\"data\":[{\"marker\":{\"color\":[0.0,0.09983341664682815,0.19866933079506122,0.2955202066613396,0.3894183423086505,0.479425538604203,0.5646424733950355,0.6442176872376911,0.7173560908995228,0.7833269096274834,0.8414709848078965,0.8912073600614354,0.9320390859672264,0.963558185417193,0.9854497299884603,0.9974949866040544,0.9995736030415051,0.9916648104524686,0.9738476308781951,0.9463000876874145,0.9092974268256817,0.8632093666488737,0.8084964038195901,0.74570521217672,0.6754631805511506,0.5984721441039564,0.5155013718214642,0.4273798802338298,0.33498815015590466,0.23924932921398198,0.1411200080598672,0.04158066243329049,-0.058374143427580086,-0.15774569414324865],\"size\":[0.0,1.996668332936563,3.9733866159012243,5.910404133226792,7.788366846173011,9.58851077208406,11.292849467900709,12.884353744753822,14.347121817990455,15.666538192549668,16.82941969615793,17.82414720122871,18.640781719344528,19.27116370834386,19.708994599769206,19.94989973208109,19.9914720608301,19.833296209049372,19.476952617563903,18.926001753748288,18.185948536513635,17.264187332977475,16.169928076391802,14.9141042435344,13.509263611023012,11.969442882079129,10.310027436429284,8.547597604676596,6.699763003118093,4.78498658427964,2.8224001611973444,0.8316132486658099,1.1674828685516017,3.154913882864973]},\"x\":[0.0,0.1,0.2,0.30000000000000004,0.4,0.5,0.6000000000000001,0.7000000000000001,0.8,0.9,1.0,1.1,1.2000000000000002,1.3,1.4000000000000001,1.5,1.6,1.7000000000000002,1.8,1.9000000000000001,2.0,2.1,2.2,2.3000000000000003,2.4000000000000004,2.5,2.6,2.7,2.8000000000000003,2.9000000000000004,3.0,3.1,3.2,3.3000000000000003],\"y\":[0.0,0.010000000000000002,0.04000000000000001,0.09000000000000002,0.16000000000000003,0.25,0.3600000000000001,0.4900000000000001,0.6400000000000001,0.81,1.0,1.2100000000000002,1.4400000000000004,1.6900000000000002,1.9600000000000004,2.25,2.5600000000000005,2.8900000000000006,3.24,3.6100000000000003,4.0,4.41,4.840000000000001,5.290000000000001,5.760000000000002,6.25,6.760000000000001,7.290000000000001,7.840000000000002,8.410000000000002,9.0,9.610000000000001,10.240000000000002,10.890000000000002],\"type\":\"scatter\"}]},{\"data\":[{\"marker\":{\"color\":[0.0,0.09983341664682815,0.19866933079506122,0.2955202066613396,0.3894183423086505,0.479425538604203,0.5646424733950355,0.6442176872376911,0.7173560908995228,0.7833269096274834,0.8414709848078965,0.8912073600614354,0.9320390859672264,0.963558185417193,0.9854497299884603,0.9974949866040544,0.9995736030415051,0.9916648104524686,0.9738476308781951,0.9463000876874145,0.9092974268256817,0.8632093666488737,0.8084964038195901,0.74570521217672,0.6754631805511506,0.5984721441039564,0.5155013718214642,0.4273798802338298,0.33498815015590466,0.23924932921398198,0.1411200080598672,0.04158066243329049,-0.058374143427580086,-0.15774569414324865,-0.25554110202683167],\"size\":[0.0,1.996668332936563,3.9733866159012243,5.910404133226792,7.788366846173011,9.58851077208406,11.292849467900709,12.884353744753822,14.347121817990455,15.666538192549668,16.82941969615793,17.82414720122871,18.640781719344528,19.27116370834386,19.708994599769206,19.94989973208109,19.9914720608301,19.833296209049372,19.476952617563903,18.926001753748288,18.185948536513635,17.264187332977475,16.169928076391802,14.9141042435344,13.509263611023012,11.969442882079129,10.310027436429284,8.547597604676596,6.699763003118093,4.78498658427964,2.8224001611973444,0.8316132486658099,1.1674828685516017,3.154913882864973,5.110822040536633]},\"x\":[0.0,0.1,0.2,0.30000000000000004,0.4,0.5,0.6000000000000001,0.7000000000000001,0.8,0.9,1.0,1.1,1.2000000000000002,1.3,1.4000000000000001,1.5,1.6,1.7000000000000002,1.8,1.9000000000000001,2.0,2.1,2.2,2.3000000000000003,2.4000000000000004,2.5,2.6,2.7,2.8000000000000003,2.9000000000000004,3.0,3.1,3.2,3.3000000000000003,3.4000000000000004],\"y\":[0.0,0.010000000000000002,0.04000000000000001,0.09000000000000002,0.16000000000000003,0.25,0.3600000000000001,0.4900000000000001,0.6400000000000001,0.81,1.0,1.2100000000000002,1.4400000000000004,1.6900000000000002,1.9600000000000004,2.25,2.5600000000000005,2.8900000000000006,3.24,3.6100000000000003,4.0,4.41,4.840000000000001,5.290000000000001,5.760000000000002,6.25,6.760000000000001,7.290000000000001,7.840000000000002,8.410000000000002,9.0,9.610000000000001,10.240000000000002,10.890000000000002,11.560000000000002],\"type\":\"scatter\"}]},{\"data\":[{\"marker\":{\"color\":[0.0,0.09983341664682815,0.19866933079506122,0.2955202066613396,0.3894183423086505,0.479425538604203,0.5646424733950355,0.6442176872376911,0.7173560908995228,0.7833269096274834,0.8414709848078965,0.8912073600614354,0.9320390859672264,0.963558185417193,0.9854497299884603,0.9974949866040544,0.9995736030415051,0.9916648104524686,0.9738476308781951,0.9463000876874145,0.9092974268256817,0.8632093666488737,0.8084964038195901,0.74570521217672,0.6754631805511506,0.5984721441039564,0.5155013718214642,0.4273798802338298,0.33498815015590466,0.23924932921398198,0.1411200080598672,0.04158066243329049,-0.058374143427580086,-0.15774569414324865,-0.25554110202683167,-0.35078322768961984],\"size\":[0.0,1.996668332936563,3.9733866159012243,5.910404133226792,7.788366846173011,9.58851077208406,11.292849467900709,12.884353744753822,14.347121817990455,15.666538192549668,16.82941969615793,17.82414720122871,18.640781719344528,19.27116370834386,19.708994599769206,19.94989973208109,19.9914720608301,19.833296209049372,19.476952617563903,18.926001753748288,18.185948536513635,17.264187332977475,16.169928076391802,14.9141042435344,13.509263611023012,11.969442882079129,10.310027436429284,8.547597604676596,6.699763003118093,4.78498658427964,2.8224001611973444,0.8316132486658099,1.1674828685516017,3.154913882864973,5.110822040536633,7.015664553792397]},\"x\":[0.0,0.1,0.2,0.30000000000000004,0.4,0.5,0.6000000000000001,0.7000000000000001,0.8,0.9,1.0,1.1,1.2000000000000002,1.3,1.4000000000000001,1.5,1.6,1.7000000000000002,1.8,1.9000000000000001,2.0,2.1,2.2,2.3000000000000003,2.4000000000000004,2.5,2.6,2.7,2.8000000000000003,2.9000000000000004,3.0,3.1,3.2,3.3000000000000003,3.4000000000000004,3.5],\"y\":[0.0,0.010000000000000002,0.04000000000000001,0.09000000000000002,0.16000000000000003,0.25,0.3600000000000001,0.4900000000000001,0.6400000000000001,0.81,1.0,1.2100000000000002,1.4400000000000004,1.6900000000000002,1.9600000000000004,2.25,2.5600000000000005,2.8900000000000006,3.24,3.6100000000000003,4.0,4.41,4.840000000000001,5.290000000000001,5.760000000000002,6.25,6.760000000000001,7.290000000000001,7.840000000000002,8.410000000000002,9.0,9.610000000000001,10.240000000000002,10.890000000000002,11.560000000000002,12.25],\"type\":\"scatter\"}]},{\"data\":[{\"marker\":{\"color\":[0.0,0.09983341664682815,0.19866933079506122,0.2955202066613396,0.3894183423086505,0.479425538604203,0.5646424733950355,0.6442176872376911,0.7173560908995228,0.7833269096274834,0.8414709848078965,0.8912073600614354,0.9320390859672264,0.963558185417193,0.9854497299884603,0.9974949866040544,0.9995736030415051,0.9916648104524686,0.9738476308781951,0.9463000876874145,0.9092974268256817,0.8632093666488737,0.8084964038195901,0.74570521217672,0.6754631805511506,0.5984721441039564,0.5155013718214642,0.4273798802338298,0.33498815015590466,0.23924932921398198,0.1411200080598672,0.04158066243329049,-0.058374143427580086,-0.15774569414324865,-0.25554110202683167,-0.35078322768961984,-0.44252044329485246],\"size\":[0.0,1.996668332936563,3.9733866159012243,5.910404133226792,7.788366846173011,9.58851077208406,11.292849467900709,12.884353744753822,14.347121817990455,15.666538192549668,16.82941969615793,17.82414720122871,18.640781719344528,19.27116370834386,19.708994599769206,19.94989973208109,19.9914720608301,19.833296209049372,19.476952617563903,18.926001753748288,18.185948536513635,17.264187332977475,16.169928076391802,14.9141042435344,13.509263611023012,11.969442882079129,10.310027436429284,8.547597604676596,6.699763003118093,4.78498658427964,2.8224001611973444,0.8316132486658099,1.1674828685516017,3.154913882864973,5.110822040536633,7.015664553792397,8.85040886589705]},\"x\":[0.0,0.1,0.2,0.30000000000000004,0.4,0.5,0.6000000000000001,0.7000000000000001,0.8,0.9,1.0,1.1,1.2000000000000002,1.3,1.4000000000000001,1.5,1.6,1.7000000000000002,1.8,1.9000000000000001,2.0,2.1,2.2,2.3000000000000003,2.4000000000000004,2.5,2.6,2.7,2.8000000000000003,2.9000000000000004,3.0,3.1,3.2,3.3000000000000003,3.4000000000000004,3.5,3.6],\"y\":[0.0,0.010000000000000002,0.04000000000000001,0.09000000000000002,0.16000000000000003,0.25,0.3600000000000001,0.4900000000000001,0.6400000000000001,0.81,1.0,1.2100000000000002,1.4400000000000004,1.6900000000000002,1.9600000000000004,2.25,2.5600000000000005,2.8900000000000006,3.24,3.6100000000000003,4.0,4.41,4.840000000000001,5.290000000000001,5.760000000000002,6.25,6.760000000000001,7.290000000000001,7.840000000000002,8.410000000000002,9.0,9.610000000000001,10.240000000000002,10.890000000000002,11.560000000000002,12.25,12.96],\"type\":\"scatter\"}]},{\"data\":[{\"marker\":{\"color\":[0.0,0.09983341664682815,0.19866933079506122,0.2955202066613396,0.3894183423086505,0.479425538604203,0.5646424733950355,0.6442176872376911,0.7173560908995228,0.7833269096274834,0.8414709848078965,0.8912073600614354,0.9320390859672264,0.963558185417193,0.9854497299884603,0.9974949866040544,0.9995736030415051,0.9916648104524686,0.9738476308781951,0.9463000876874145,0.9092974268256817,0.8632093666488737,0.8084964038195901,0.74570521217672,0.6754631805511506,0.5984721441039564,0.5155013718214642,0.4273798802338298,0.33498815015590466,0.23924932921398198,0.1411200080598672,0.04158066243329049,-0.058374143427580086,-0.15774569414324865,-0.25554110202683167,-0.35078322768961984,-0.44252044329485246,-0.5298361409084934],\"size\":[0.0,1.996668332936563,3.9733866159012243,5.910404133226792,7.788366846173011,9.58851077208406,11.292849467900709,12.884353744753822,14.347121817990455,15.666538192549668,16.82941969615793,17.82414720122871,18.640781719344528,19.27116370834386,19.708994599769206,19.94989973208109,19.9914720608301,19.833296209049372,19.476952617563903,18.926001753748288,18.185948536513635,17.264187332977475,16.169928076391802,14.9141042435344,13.509263611023012,11.969442882079129,10.310027436429284,8.547597604676596,6.699763003118093,4.78498658427964,2.8224001611973444,0.8316132486658099,1.1674828685516017,3.154913882864973,5.110822040536633,7.015664553792397,8.85040886589705,10.596722818169868]},\"x\":[0.0,0.1,0.2,0.30000000000000004,0.4,0.5,0.6000000000000001,0.7000000000000001,0.8,0.9,1.0,1.1,1.2000000000000002,1.3,1.4000000000000001,1.5,1.6,1.7000000000000002,1.8,1.9000000000000001,2.0,2.1,2.2,2.3000000000000003,2.4000000000000004,2.5,2.6,2.7,2.8000000000000003,2.9000000000000004,3.0,3.1,3.2,3.3000000000000003,3.4000000000000004,3.5,3.6,3.7],\"y\":[0.0,0.010000000000000002,0.04000000000000001,0.09000000000000002,0.16000000000000003,0.25,0.3600000000000001,0.4900000000000001,0.6400000000000001,0.81,1.0,1.2100000000000002,1.4400000000000004,1.6900000000000002,1.9600000000000004,2.25,2.5600000000000005,2.8900000000000006,3.24,3.6100000000000003,4.0,4.41,4.840000000000001,5.290000000000001,5.760000000000002,6.25,6.760000000000001,7.290000000000001,7.840000000000002,8.410000000000002,9.0,9.610000000000001,10.240000000000002,10.890000000000002,11.560000000000002,12.25,12.96,13.690000000000001],\"type\":\"scatter\"}]},{\"data\":[{\"marker\":{\"color\":[0.0,0.09983341664682815,0.19866933079506122,0.2955202066613396,0.3894183423086505,0.479425538604203,0.5646424733950355,0.6442176872376911,0.7173560908995228,0.7833269096274834,0.8414709848078965,0.8912073600614354,0.9320390859672264,0.963558185417193,0.9854497299884603,0.9974949866040544,0.9995736030415051,0.9916648104524686,0.9738476308781951,0.9463000876874145,0.9092974268256817,0.8632093666488737,0.8084964038195901,0.74570521217672,0.6754631805511506,0.5984721441039564,0.5155013718214642,0.4273798802338298,0.33498815015590466,0.23924932921398198,0.1411200080598672,0.04158066243329049,-0.058374143427580086,-0.15774569414324865,-0.25554110202683167,-0.35078322768961984,-0.44252044329485246,-0.5298361409084934,-0.6118578909427193],\"size\":[0.0,1.996668332936563,3.9733866159012243,5.910404133226792,7.788366846173011,9.58851077208406,11.292849467900709,12.884353744753822,14.347121817990455,15.666538192549668,16.82941969615793,17.82414720122871,18.640781719344528,19.27116370834386,19.708994599769206,19.94989973208109,19.9914720608301,19.833296209049372,19.476952617563903,18.926001753748288,18.185948536513635,17.264187332977475,16.169928076391802,14.9141042435344,13.509263611023012,11.969442882079129,10.310027436429284,8.547597604676596,6.699763003118093,4.78498658427964,2.8224001611973444,0.8316132486658099,1.1674828685516017,3.154913882864973,5.110822040536633,7.015664553792397,8.85040886589705,10.596722818169868,12.237157818854385]},\"x\":[0.0,0.1,0.2,0.30000000000000004,0.4,0.5,0.6000000000000001,0.7000000000000001,0.8,0.9,1.0,1.1,1.2000000000000002,1.3,1.4000000000000001,1.5,1.6,1.7000000000000002,1.8,1.9000000000000001,2.0,2.1,2.2,2.3000000000000003,2.4000000000000004,2.5,2.6,2.7,2.8000000000000003,2.9000000000000004,3.0,3.1,3.2,3.3000000000000003,3.4000000000000004,3.5,3.6,3.7,3.8000000000000003],\"y\":[0.0,0.010000000000000002,0.04000000000000001,0.09000000000000002,0.16000000000000003,0.25,0.3600000000000001,0.4900000000000001,0.6400000000000001,0.81,1.0,1.2100000000000002,1.4400000000000004,1.6900000000000002,1.9600000000000004,2.25,2.5600000000000005,2.8900000000000006,3.24,3.6100000000000003,4.0,4.41,4.840000000000001,5.290000000000001,5.760000000000002,6.25,6.760000000000001,7.290000000000001,7.840000000000002,8.410000000000002,9.0,9.610000000000001,10.240000000000002,10.890000000000002,11.560000000000002,12.25,12.96,13.690000000000001,14.440000000000001],\"type\":\"scatter\"}]},{\"data\":[{\"marker\":{\"color\":[0.0,0.09983341664682815,0.19866933079506122,0.2955202066613396,0.3894183423086505,0.479425538604203,0.5646424733950355,0.6442176872376911,0.7173560908995228,0.7833269096274834,0.8414709848078965,0.8912073600614354,0.9320390859672264,0.963558185417193,0.9854497299884603,0.9974949866040544,0.9995736030415051,0.9916648104524686,0.9738476308781951,0.9463000876874145,0.9092974268256817,0.8632093666488737,0.8084964038195901,0.74570521217672,0.6754631805511506,0.5984721441039564,0.5155013718214642,0.4273798802338298,0.33498815015590466,0.23924932921398198,0.1411200080598672,0.04158066243329049,-0.058374143427580086,-0.15774569414324865,-0.25554110202683167,-0.35078322768961984,-0.44252044329485246,-0.5298361409084934,-0.6118578909427193,-0.6877661591839741],\"size\":[0.0,1.996668332936563,3.9733866159012243,5.910404133226792,7.788366846173011,9.58851077208406,11.292849467900709,12.884353744753822,14.347121817990455,15.666538192549668,16.82941969615793,17.82414720122871,18.640781719344528,19.27116370834386,19.708994599769206,19.94989973208109,19.9914720608301,19.833296209049372,19.476952617563903,18.926001753748288,18.185948536513635,17.264187332977475,16.169928076391802,14.9141042435344,13.509263611023012,11.969442882079129,10.310027436429284,8.547597604676596,6.699763003118093,4.78498658427964,2.8224001611973444,0.8316132486658099,1.1674828685516017,3.154913882864973,5.110822040536633,7.015664553792397,8.85040886589705,10.596722818169868,12.237157818854385,13.755323183679483]},\"x\":[0.0,0.1,0.2,0.30000000000000004,0.4,0.5,0.6000000000000001,0.7000000000000001,0.8,0.9,1.0,1.1,1.2000000000000002,1.3,1.4000000000000001,1.5,1.6,1.7000000000000002,1.8,1.9000000000000001,2.0,2.1,2.2,2.3000000000000003,2.4000000000000004,2.5,2.6,2.7,2.8000000000000003,2.9000000000000004,3.0,3.1,3.2,3.3000000000000003,3.4000000000000004,3.5,3.6,3.7,3.8000000000000003,3.9000000000000004],\"y\":[0.0,0.010000000000000002,0.04000000000000001,0.09000000000000002,0.16000000000000003,0.25,0.3600000000000001,0.4900000000000001,0.6400000000000001,0.81,1.0,1.2100000000000002,1.4400000000000004,1.6900000000000002,1.9600000000000004,2.25,2.5600000000000005,2.8900000000000006,3.24,3.6100000000000003,4.0,4.41,4.840000000000001,5.290000000000001,5.760000000000002,6.25,6.760000000000001,7.290000000000001,7.840000000000002,8.410000000000002,9.0,9.610000000000001,10.240000000000002,10.890000000000002,11.560000000000002,12.25,12.96,13.690000000000001,14.440000000000001,15.210000000000003],\"type\":\"scatter\"}]},{\"data\":[{\"marker\":{\"color\":[0.0,0.09983341664682815,0.19866933079506122,0.2955202066613396,0.3894183423086505,0.479425538604203,0.5646424733950355,0.6442176872376911,0.7173560908995228,0.7833269096274834,0.8414709848078965,0.8912073600614354,0.9320390859672264,0.963558185417193,0.9854497299884603,0.9974949866040544,0.9995736030415051,0.9916648104524686,0.9738476308781951,0.9463000876874145,0.9092974268256817,0.8632093666488737,0.8084964038195901,0.74570521217672,0.6754631805511506,0.5984721441039564,0.5155013718214642,0.4273798802338298,0.33498815015590466,0.23924932921398198,0.1411200080598672,0.04158066243329049,-0.058374143427580086,-0.15774569414324865,-0.25554110202683167,-0.35078322768961984,-0.44252044329485246,-0.5298361409084934,-0.6118578909427193,-0.6877661591839741,-0.7568024953079282],\"size\":[0.0,1.996668332936563,3.9733866159012243,5.910404133226792,7.788366846173011,9.58851077208406,11.292849467900709,12.884353744753822,14.347121817990455,15.666538192549668,16.82941969615793,17.82414720122871,18.640781719344528,19.27116370834386,19.708994599769206,19.94989973208109,19.9914720608301,19.833296209049372,19.476952617563903,18.926001753748288,18.185948536513635,17.264187332977475,16.169928076391802,14.9141042435344,13.509263611023012,11.969442882079129,10.310027436429284,8.547597604676596,6.699763003118093,4.78498658427964,2.8224001611973444,0.8316132486658099,1.1674828685516017,3.154913882864973,5.110822040536633,7.015664553792397,8.85040886589705,10.596722818169868,12.237157818854385,13.755323183679483,15.136049906158565]},\"x\":[0.0,0.1,0.2,0.30000000000000004,0.4,0.5,0.6000000000000001,0.7000000000000001,0.8,0.9,1.0,1.1,1.2000000000000002,1.3,1.4000000000000001,1.5,1.6,1.7000000000000002,1.8,1.9000000000000001,2.0,2.1,2.2,2.3000000000000003,2.4000000000000004,2.5,2.6,2.7,2.8000000000000003,2.9000000000000004,3.0,3.1,3.2,3.3000000000000003,3.4000000000000004,3.5,3.6,3.7,3.8000000000000003,3.9000000000000004,4.0],\"y\":[0.0,0.010000000000000002,0.04000000000000001,0.09000000000000002,0.16000000000000003,0.25,0.3600000000000001,0.4900000000000001,0.6400000000000001,0.81,1.0,1.2100000000000002,1.4400000000000004,1.6900000000000002,1.9600000000000004,2.25,2.5600000000000005,2.8900000000000006,3.24,3.6100000000000003,4.0,4.41,4.840000000000001,5.290000000000001,5.760000000000002,6.25,6.760000000000001,7.290000000000001,7.840000000000002,8.410000000000002,9.0,9.610000000000001,10.240000000000002,10.890000000000002,11.560000000000002,12.25,12.96,13.690000000000001,14.440000000000001,15.210000000000003,16.0],\"type\":\"scatter\"}]},{\"data\":[{\"marker\":{\"color\":[0.0,0.09983341664682815,0.19866933079506122,0.2955202066613396,0.3894183423086505,0.479425538604203,0.5646424733950355,0.6442176872376911,0.7173560908995228,0.7833269096274834,0.8414709848078965,0.8912073600614354,0.9320390859672264,0.963558185417193,0.9854497299884603,0.9974949866040544,0.9995736030415051,0.9916648104524686,0.9738476308781951,0.9463000876874145,0.9092974268256817,0.8632093666488737,0.8084964038195901,0.74570521217672,0.6754631805511506,0.5984721441039564,0.5155013718214642,0.4273798802338298,0.33498815015590466,0.23924932921398198,0.1411200080598672,0.04158066243329049,-0.058374143427580086,-0.15774569414324865,-0.25554110202683167,-0.35078322768961984,-0.44252044329485246,-0.5298361409084934,-0.6118578909427193,-0.6877661591839741,-0.7568024953079282,-0.8182771110644108],\"size\":[0.0,1.996668332936563,3.9733866159012243,5.910404133226792,7.788366846173011,9.58851077208406,11.292849467900709,12.884353744753822,14.347121817990455,15.666538192549668,16.82941969615793,17.82414720122871,18.640781719344528,19.27116370834386,19.708994599769206,19.94989973208109,19.9914720608301,19.833296209049372,19.476952617563903,18.926001753748288,18.185948536513635,17.264187332977475,16.169928076391802,14.9141042435344,13.509263611023012,11.969442882079129,10.310027436429284,8.547597604676596,6.699763003118093,4.78498658427964,2.8224001611973444,0.8316132486658099,1.1674828685516017,3.154913882864973,5.110822040536633,7.015664553792397,8.85040886589705,10.596722818169868,12.237157818854385,13.755323183679483,15.136049906158565,16.365542221288216]},\"x\":[0.0,0.1,0.2,0.30000000000000004,0.4,0.5,0.6000000000000001,0.7000000000000001,0.8,0.9,1.0,1.1,1.2000000000000002,1.3,1.4000000000000001,1.5,1.6,1.7000000000000002,1.8,1.9000000000000001,2.0,2.1,2.2,2.3000000000000003,2.4000000000000004,2.5,2.6,2.7,2.8000000000000003,2.9000000000000004,3.0,3.1,3.2,3.3000000000000003,3.4000000000000004,3.5,3.6,3.7,3.8000000000000003,3.9000000000000004,4.0,4.1000000000000005],\"y\":[0.0,0.010000000000000002,0.04000000000000001,0.09000000000000002,0.16000000000000003,0.25,0.3600000000000001,0.4900000000000001,0.6400000000000001,0.81,1.0,1.2100000000000002,1.4400000000000004,1.6900000000000002,1.9600000000000004,2.25,2.5600000000000005,2.8900000000000006,3.24,3.6100000000000003,4.0,4.41,4.840000000000001,5.290000000000001,5.760000000000002,6.25,6.760000000000001,7.290000000000001,7.840000000000002,8.410000000000002,9.0,9.610000000000001,10.240000000000002,10.890000000000002,11.560000000000002,12.25,12.96,13.690000000000001,14.440000000000001,15.210000000000003,16.0,16.810000000000006],\"type\":\"scatter\"}]},{\"data\":[{\"marker\":{\"color\":[0.0,0.09983341664682815,0.19866933079506122,0.2955202066613396,0.3894183423086505,0.479425538604203,0.5646424733950355,0.6442176872376911,0.7173560908995228,0.7833269096274834,0.8414709848078965,0.8912073600614354,0.9320390859672264,0.963558185417193,0.9854497299884603,0.9974949866040544,0.9995736030415051,0.9916648104524686,0.9738476308781951,0.9463000876874145,0.9092974268256817,0.8632093666488737,0.8084964038195901,0.74570521217672,0.6754631805511506,0.5984721441039564,0.5155013718214642,0.4273798802338298,0.33498815015590466,0.23924932921398198,0.1411200080598672,0.04158066243329049,-0.058374143427580086,-0.15774569414324865,-0.25554110202683167,-0.35078322768961984,-0.44252044329485246,-0.5298361409084934,-0.6118578909427193,-0.6877661591839741,-0.7568024953079282,-0.8182771110644108,-0.8715757724135882],\"size\":[0.0,1.996668332936563,3.9733866159012243,5.910404133226792,7.788366846173011,9.58851077208406,11.292849467900709,12.884353744753822,14.347121817990455,15.666538192549668,16.82941969615793,17.82414720122871,18.640781719344528,19.27116370834386,19.708994599769206,19.94989973208109,19.9914720608301,19.833296209049372,19.476952617563903,18.926001753748288,18.185948536513635,17.264187332977475,16.169928076391802,14.9141042435344,13.509263611023012,11.969442882079129,10.310027436429284,8.547597604676596,6.699763003118093,4.78498658427964,2.8224001611973444,0.8316132486658099,1.1674828685516017,3.154913882864973,5.110822040536633,7.015664553792397,8.85040886589705,10.596722818169868,12.237157818854385,13.755323183679483,15.136049906158565,16.365542221288216,17.431515448271764]},\"x\":[0.0,0.1,0.2,0.30000000000000004,0.4,0.5,0.6000000000000001,0.7000000000000001,0.8,0.9,1.0,1.1,1.2000000000000002,1.3,1.4000000000000001,1.5,1.6,1.7000000000000002,1.8,1.9000000000000001,2.0,2.1,2.2,2.3000000000000003,2.4000000000000004,2.5,2.6,2.7,2.8000000000000003,2.9000000000000004,3.0,3.1,3.2,3.3000000000000003,3.4000000000000004,3.5,3.6,3.7,3.8000000000000003,3.9000000000000004,4.0,4.1000000000000005,4.2],\"y\":[0.0,0.010000000000000002,0.04000000000000001,0.09000000000000002,0.16000000000000003,0.25,0.3600000000000001,0.4900000000000001,0.6400000000000001,0.81,1.0,1.2100000000000002,1.4400000000000004,1.6900000000000002,1.9600000000000004,2.25,2.5600000000000005,2.8900000000000006,3.24,3.6100000000000003,4.0,4.41,4.840000000000001,5.290000000000001,5.760000000000002,6.25,6.760000000000001,7.290000000000001,7.840000000000002,8.410000000000002,9.0,9.610000000000001,10.240000000000002,10.890000000000002,11.560000000000002,12.25,12.96,13.690000000000001,14.440000000000001,15.210000000000003,16.0,16.810000000000006,17.64],\"type\":\"scatter\"}]},{\"data\":[{\"marker\":{\"color\":[0.0,0.09983341664682815,0.19866933079506122,0.2955202066613396,0.3894183423086505,0.479425538604203,0.5646424733950355,0.6442176872376911,0.7173560908995228,0.7833269096274834,0.8414709848078965,0.8912073600614354,0.9320390859672264,0.963558185417193,0.9854497299884603,0.9974949866040544,0.9995736030415051,0.9916648104524686,0.9738476308781951,0.9463000876874145,0.9092974268256817,0.8632093666488737,0.8084964038195901,0.74570521217672,0.6754631805511506,0.5984721441039564,0.5155013718214642,0.4273798802338298,0.33498815015590466,0.23924932921398198,0.1411200080598672,0.04158066243329049,-0.058374143427580086,-0.15774569414324865,-0.25554110202683167,-0.35078322768961984,-0.44252044329485246,-0.5298361409084934,-0.6118578909427193,-0.6877661591839741,-0.7568024953079282,-0.8182771110644108,-0.8715757724135882,-0.9161659367494549],\"size\":[0.0,1.996668332936563,3.9733866159012243,5.910404133226792,7.788366846173011,9.58851077208406,11.292849467900709,12.884353744753822,14.347121817990455,15.666538192549668,16.82941969615793,17.82414720122871,18.640781719344528,19.27116370834386,19.708994599769206,19.94989973208109,19.9914720608301,19.833296209049372,19.476952617563903,18.926001753748288,18.185948536513635,17.264187332977475,16.169928076391802,14.9141042435344,13.509263611023012,11.969442882079129,10.310027436429284,8.547597604676596,6.699763003118093,4.78498658427964,2.8224001611973444,0.8316132486658099,1.1674828685516017,3.154913882864973,5.110822040536633,7.015664553792397,8.85040886589705,10.596722818169868,12.237157818854385,13.755323183679483,15.136049906158565,16.365542221288216,17.431515448271764,18.323318734989098]},\"x\":[0.0,0.1,0.2,0.30000000000000004,0.4,0.5,0.6000000000000001,0.7000000000000001,0.8,0.9,1.0,1.1,1.2000000000000002,1.3,1.4000000000000001,1.5,1.6,1.7000000000000002,1.8,1.9000000000000001,2.0,2.1,2.2,2.3000000000000003,2.4000000000000004,2.5,2.6,2.7,2.8000000000000003,2.9000000000000004,3.0,3.1,3.2,3.3000000000000003,3.4000000000000004,3.5,3.6,3.7,3.8000000000000003,3.9000000000000004,4.0,4.1000000000000005,4.2,4.3],\"y\":[0.0,0.010000000000000002,0.04000000000000001,0.09000000000000002,0.16000000000000003,0.25,0.3600000000000001,0.4900000000000001,0.6400000000000001,0.81,1.0,1.2100000000000002,1.4400000000000004,1.6900000000000002,1.9600000000000004,2.25,2.5600000000000005,2.8900000000000006,3.24,3.6100000000000003,4.0,4.41,4.840000000000001,5.290000000000001,5.760000000000002,6.25,6.760000000000001,7.290000000000001,7.840000000000002,8.410000000000002,9.0,9.610000000000001,10.240000000000002,10.890000000000002,11.560000000000002,12.25,12.96,13.690000000000001,14.440000000000001,15.210000000000003,16.0,16.810000000000006,17.64,18.49],\"type\":\"scatter\"}]},{\"data\":[{\"marker\":{\"color\":[0.0,0.09983341664682815,0.19866933079506122,0.2955202066613396,0.3894183423086505,0.479425538604203,0.5646424733950355,0.6442176872376911,0.7173560908995228,0.7833269096274834,0.8414709848078965,0.8912073600614354,0.9320390859672264,0.963558185417193,0.9854497299884603,0.9974949866040544,0.9995736030415051,0.9916648104524686,0.9738476308781951,0.9463000876874145,0.9092974268256817,0.8632093666488737,0.8084964038195901,0.74570521217672,0.6754631805511506,0.5984721441039564,0.5155013718214642,0.4273798802338298,0.33498815015590466,0.23924932921398198,0.1411200080598672,0.04158066243329049,-0.058374143427580086,-0.15774569414324865,-0.25554110202683167,-0.35078322768961984,-0.44252044329485246,-0.5298361409084934,-0.6118578909427193,-0.6877661591839741,-0.7568024953079282,-0.8182771110644108,-0.8715757724135882,-0.9161659367494549,-0.9516020738895161],\"size\":[0.0,1.996668332936563,3.9733866159012243,5.910404133226792,7.788366846173011,9.58851077208406,11.292849467900709,12.884353744753822,14.347121817990455,15.666538192549668,16.82941969615793,17.82414720122871,18.640781719344528,19.27116370834386,19.708994599769206,19.94989973208109,19.9914720608301,19.833296209049372,19.476952617563903,18.926001753748288,18.185948536513635,17.264187332977475,16.169928076391802,14.9141042435344,13.509263611023012,11.969442882079129,10.310027436429284,8.547597604676596,6.699763003118093,4.78498658427964,2.8224001611973444,0.8316132486658099,1.1674828685516017,3.154913882864973,5.110822040536633,7.015664553792397,8.85040886589705,10.596722818169868,12.237157818854385,13.755323183679483,15.136049906158565,16.365542221288216,17.431515448271764,18.323318734989098,19.032041477790322]},\"x\":[0.0,0.1,0.2,0.30000000000000004,0.4,0.5,0.6000000000000001,0.7000000000000001,0.8,0.9,1.0,1.1,1.2000000000000002,1.3,1.4000000000000001,1.5,1.6,1.7000000000000002,1.8,1.9000000000000001,2.0,2.1,2.2,2.3000000000000003,2.4000000000000004,2.5,2.6,2.7,2.8000000000000003,2.9000000000000004,3.0,3.1,3.2,3.3000000000000003,3.4000000000000004,3.5,3.6,3.7,3.8000000000000003,3.9000000000000004,4.0,4.1000000000000005,4.2,4.3,4.4],\"y\":[0.0,0.010000000000000002,0.04000000000000001,0.09000000000000002,0.16000000000000003,0.25,0.3600000000000001,0.4900000000000001,0.6400000000000001,0.81,1.0,1.2100000000000002,1.4400000000000004,1.6900000000000002,1.9600000000000004,2.25,2.5600000000000005,2.8900000000000006,3.24,3.6100000000000003,4.0,4.41,4.840000000000001,5.290000000000001,5.760000000000002,6.25,6.760000000000001,7.290000000000001,7.840000000000002,8.410000000000002,9.0,9.610000000000001,10.240000000000002,10.890000000000002,11.560000000000002,12.25,12.96,13.690000000000001,14.440000000000001,15.210000000000003,16.0,16.810000000000006,17.64,18.49,19.360000000000003],\"type\":\"scatter\"}]},{\"data\":[{\"marker\":{\"color\":[0.0,0.09983341664682815,0.19866933079506122,0.2955202066613396,0.3894183423086505,0.479425538604203,0.5646424733950355,0.6442176872376911,0.7173560908995228,0.7833269096274834,0.8414709848078965,0.8912073600614354,0.9320390859672264,0.963558185417193,0.9854497299884603,0.9974949866040544,0.9995736030415051,0.9916648104524686,0.9738476308781951,0.9463000876874145,0.9092974268256817,0.8632093666488737,0.8084964038195901,0.74570521217672,0.6754631805511506,0.5984721441039564,0.5155013718214642,0.4273798802338298,0.33498815015590466,0.23924932921398198,0.1411200080598672,0.04158066243329049,-0.058374143427580086,-0.15774569414324865,-0.25554110202683167,-0.35078322768961984,-0.44252044329485246,-0.5298361409084934,-0.6118578909427193,-0.6877661591839741,-0.7568024953079282,-0.8182771110644108,-0.8715757724135882,-0.9161659367494549,-0.9516020738895161,-0.977530117665097],\"size\":[0.0,1.996668332936563,3.9733866159012243,5.910404133226792,7.788366846173011,9.58851077208406,11.292849467900709,12.884353744753822,14.347121817990455,15.666538192549668,16.82941969615793,17.82414720122871,18.640781719344528,19.27116370834386,19.708994599769206,19.94989973208109,19.9914720608301,19.833296209049372,19.476952617563903,18.926001753748288,18.185948536513635,17.264187332977475,16.169928076391802,14.9141042435344,13.509263611023012,11.969442882079129,10.310027436429284,8.547597604676596,6.699763003118093,4.78498658427964,2.8224001611973444,0.8316132486658099,1.1674828685516017,3.154913882864973,5.110822040536633,7.015664553792397,8.85040886589705,10.596722818169868,12.237157818854385,13.755323183679483,15.136049906158565,16.365542221288216,17.431515448271764,18.323318734989098,19.032041477790322,19.55060235330194]},\"x\":[0.0,0.1,0.2,0.30000000000000004,0.4,0.5,0.6000000000000001,0.7000000000000001,0.8,0.9,1.0,1.1,1.2000000000000002,1.3,1.4000000000000001,1.5,1.6,1.7000000000000002,1.8,1.9000000000000001,2.0,2.1,2.2,2.3000000000000003,2.4000000000000004,2.5,2.6,2.7,2.8000000000000003,2.9000000000000004,3.0,3.1,3.2,3.3000000000000003,3.4000000000000004,3.5,3.6,3.7,3.8000000000000003,3.9000000000000004,4.0,4.1000000000000005,4.2,4.3,4.4,4.5],\"y\":[0.0,0.010000000000000002,0.04000000000000001,0.09000000000000002,0.16000000000000003,0.25,0.3600000000000001,0.4900000000000001,0.6400000000000001,0.81,1.0,1.2100000000000002,1.4400000000000004,1.6900000000000002,1.9600000000000004,2.25,2.5600000000000005,2.8900000000000006,3.24,3.6100000000000003,4.0,4.41,4.840000000000001,5.290000000000001,5.760000000000002,6.25,6.760000000000001,7.290000000000001,7.840000000000002,8.410000000000002,9.0,9.610000000000001,10.240000000000002,10.890000000000002,11.560000000000002,12.25,12.96,13.690000000000001,14.440000000000001,15.210000000000003,16.0,16.810000000000006,17.64,18.49,19.360000000000003,20.25],\"type\":\"scatter\"}]},{\"data\":[{\"marker\":{\"color\":[0.0,0.09983341664682815,0.19866933079506122,0.2955202066613396,0.3894183423086505,0.479425538604203,0.5646424733950355,0.6442176872376911,0.7173560908995228,0.7833269096274834,0.8414709848078965,0.8912073600614354,0.9320390859672264,0.963558185417193,0.9854497299884603,0.9974949866040544,0.9995736030415051,0.9916648104524686,0.9738476308781951,0.9463000876874145,0.9092974268256817,0.8632093666488737,0.8084964038195901,0.74570521217672,0.6754631805511506,0.5984721441039564,0.5155013718214642,0.4273798802338298,0.33498815015590466,0.23924932921398198,0.1411200080598672,0.04158066243329049,-0.058374143427580086,-0.15774569414324865,-0.25554110202683167,-0.35078322768961984,-0.44252044329485246,-0.5298361409084934,-0.6118578909427193,-0.6877661591839741,-0.7568024953079282,-0.8182771110644108,-0.8715757724135882,-0.9161659367494549,-0.9516020738895161,-0.977530117665097,-0.9936910036334645],\"size\":[0.0,1.996668332936563,3.9733866159012243,5.910404133226792,7.788366846173011,9.58851077208406,11.292849467900709,12.884353744753822,14.347121817990455,15.666538192549668,16.82941969615793,17.82414720122871,18.640781719344528,19.27116370834386,19.708994599769206,19.94989973208109,19.9914720608301,19.833296209049372,19.476952617563903,18.926001753748288,18.185948536513635,17.264187332977475,16.169928076391802,14.9141042435344,13.509263611023012,11.969442882079129,10.310027436429284,8.547597604676596,6.699763003118093,4.78498658427964,2.8224001611973444,0.8316132486658099,1.1674828685516017,3.154913882864973,5.110822040536633,7.015664553792397,8.85040886589705,10.596722818169868,12.237157818854385,13.755323183679483,15.136049906158565,16.365542221288216,17.431515448271764,18.323318734989098,19.032041477790322,19.55060235330194,19.87382007266929]},\"x\":[0.0,0.1,0.2,0.30000000000000004,0.4,0.5,0.6000000000000001,0.7000000000000001,0.8,0.9,1.0,1.1,1.2000000000000002,1.3,1.4000000000000001,1.5,1.6,1.7000000000000002,1.8,1.9000000000000001,2.0,2.1,2.2,2.3000000000000003,2.4000000000000004,2.5,2.6,2.7,2.8000000000000003,2.9000000000000004,3.0,3.1,3.2,3.3000000000000003,3.4000000000000004,3.5,3.6,3.7,3.8000000000000003,3.9000000000000004,4.0,4.1000000000000005,4.2,4.3,4.4,4.5,4.6000000000000005],\"y\":[0.0,0.010000000000000002,0.04000000000000001,0.09000000000000002,0.16000000000000003,0.25,0.3600000000000001,0.4900000000000001,0.6400000000000001,0.81,1.0,1.2100000000000002,1.4400000000000004,1.6900000000000002,1.9600000000000004,2.25,2.5600000000000005,2.8900000000000006,3.24,3.6100000000000003,4.0,4.41,4.840000000000001,5.290000000000001,5.760000000000002,6.25,6.760000000000001,7.290000000000001,7.840000000000002,8.410000000000002,9.0,9.610000000000001,10.240000000000002,10.890000000000002,11.560000000000002,12.25,12.96,13.690000000000001,14.440000000000001,15.210000000000003,16.0,16.810000000000006,17.64,18.49,19.360000000000003,20.25,21.160000000000004],\"type\":\"scatter\"}]},{\"data\":[{\"marker\":{\"color\":[0.0,0.09983341664682815,0.19866933079506122,0.2955202066613396,0.3894183423086505,0.479425538604203,0.5646424733950355,0.6442176872376911,0.7173560908995228,0.7833269096274834,0.8414709848078965,0.8912073600614354,0.9320390859672264,0.963558185417193,0.9854497299884603,0.9974949866040544,0.9995736030415051,0.9916648104524686,0.9738476308781951,0.9463000876874145,0.9092974268256817,0.8632093666488737,0.8084964038195901,0.74570521217672,0.6754631805511506,0.5984721441039564,0.5155013718214642,0.4273798802338298,0.33498815015590466,0.23924932921398198,0.1411200080598672,0.04158066243329049,-0.058374143427580086,-0.15774569414324865,-0.25554110202683167,-0.35078322768961984,-0.44252044329485246,-0.5298361409084934,-0.6118578909427193,-0.6877661591839741,-0.7568024953079282,-0.8182771110644108,-0.8715757724135882,-0.9161659367494549,-0.9516020738895161,-0.977530117665097,-0.9936910036334645,-0.9999232575641008],\"size\":[0.0,1.996668332936563,3.9733866159012243,5.910404133226792,7.788366846173011,9.58851077208406,11.292849467900709,12.884353744753822,14.347121817990455,15.666538192549668,16.82941969615793,17.82414720122871,18.640781719344528,19.27116370834386,19.708994599769206,19.94989973208109,19.9914720608301,19.833296209049372,19.476952617563903,18.926001753748288,18.185948536513635,17.264187332977475,16.169928076391802,14.9141042435344,13.509263611023012,11.969442882079129,10.310027436429284,8.547597604676596,6.699763003118093,4.78498658427964,2.8224001611973444,0.8316132486658099,1.1674828685516017,3.154913882864973,5.110822040536633,7.015664553792397,8.85040886589705,10.596722818169868,12.237157818854385,13.755323183679483,15.136049906158565,16.365542221288216,17.431515448271764,18.323318734989098,19.032041477790322,19.55060235330194,19.87382007266929,19.998465151282016]},\"x\":[0.0,0.1,0.2,0.30000000000000004,0.4,0.5,0.6000000000000001,0.7000000000000001,0.8,0.9,1.0,1.1,1.2000000000000002,1.3,1.4000000000000001,1.5,1.6,1.7000000000000002,1.8,1.9000000000000001,2.0,2.1,2.2,2.3000000000000003,2.4000000000000004,2.5,2.6,2.7,2.8000000000000003,2.9000000000000004,3.0,3.1,3.2,3.3000000000000003,3.4000000000000004,3.5,3.6,3.7,3.8000000000000003,3.9000000000000004,4.0,4.1000000000000005,4.2,4.3,4.4,4.5,4.6000000000000005,4.7],\"y\":[0.0,0.010000000000000002,0.04000000000000001,0.09000000000000002,0.16000000000000003,0.25,0.3600000000000001,0.4900000000000001,0.6400000000000001,0.81,1.0,1.2100000000000002,1.4400000000000004,1.6900000000000002,1.9600000000000004,2.25,2.5600000000000005,2.8900000000000006,3.24,3.6100000000000003,4.0,4.41,4.840000000000001,5.290000000000001,5.760000000000002,6.25,6.760000000000001,7.290000000000001,7.840000000000002,8.410000000000002,9.0,9.610000000000001,10.240000000000002,10.890000000000002,11.560000000000002,12.25,12.96,13.690000000000001,14.440000000000001,15.210000000000003,16.0,16.810000000000006,17.64,18.49,19.360000000000003,20.25,21.160000000000004,22.090000000000003],\"type\":\"scatter\"}]},{\"data\":[{\"marker\":{\"color\":[0.0,0.09983341664682815,0.19866933079506122,0.2955202066613396,0.3894183423086505,0.479425538604203,0.5646424733950355,0.6442176872376911,0.7173560908995228,0.7833269096274834,0.8414709848078965,0.8912073600614354,0.9320390859672264,0.963558185417193,0.9854497299884603,0.9974949866040544,0.9995736030415051,0.9916648104524686,0.9738476308781951,0.9463000876874145,0.9092974268256817,0.8632093666488737,0.8084964038195901,0.74570521217672,0.6754631805511506,0.5984721441039564,0.5155013718214642,0.4273798802338298,0.33498815015590466,0.23924932921398198,0.1411200080598672,0.04158066243329049,-0.058374143427580086,-0.15774569414324865,-0.25554110202683167,-0.35078322768961984,-0.44252044329485246,-0.5298361409084934,-0.6118578909427193,-0.6877661591839741,-0.7568024953079282,-0.8182771110644108,-0.8715757724135882,-0.9161659367494549,-0.9516020738895161,-0.977530117665097,-0.9936910036334645,-0.9999232575641008,-0.9961646088358406],\"size\":[0.0,1.996668332936563,3.9733866159012243,5.910404133226792,7.788366846173011,9.58851077208406,11.292849467900709,12.884353744753822,14.347121817990455,15.666538192549668,16.82941969615793,17.82414720122871,18.640781719344528,19.27116370834386,19.708994599769206,19.94989973208109,19.9914720608301,19.833296209049372,19.476952617563903,18.926001753748288,18.185948536513635,17.264187332977475,16.169928076391802,14.9141042435344,13.509263611023012,11.969442882079129,10.310027436429284,8.547597604676596,6.699763003118093,4.78498658427964,2.8224001611973444,0.8316132486658099,1.1674828685516017,3.154913882864973,5.110822040536633,7.015664553792397,8.85040886589705,10.596722818169868,12.237157818854385,13.755323183679483,15.136049906158565,16.365542221288216,17.431515448271764,18.323318734989098,19.032041477790322,19.55060235330194,19.87382007266929,19.998465151282016,19.92329217671681]},\"x\":[0.0,0.1,0.2,0.30000000000000004,0.4,0.5,0.6000000000000001,0.7000000000000001,0.8,0.9,1.0,1.1,1.2000000000000002,1.3,1.4000000000000001,1.5,1.6,1.7000000000000002,1.8,1.9000000000000001,2.0,2.1,2.2,2.3000000000000003,2.4000000000000004,2.5,2.6,2.7,2.8000000000000003,2.9000000000000004,3.0,3.1,3.2,3.3000000000000003,3.4000000000000004,3.5,3.6,3.7,3.8000000000000003,3.9000000000000004,4.0,4.1000000000000005,4.2,4.3,4.4,4.5,4.6000000000000005,4.7,4.800000000000001],\"y\":[0.0,0.010000000000000002,0.04000000000000001,0.09000000000000002,0.16000000000000003,0.25,0.3600000000000001,0.4900000000000001,0.6400000000000001,0.81,1.0,1.2100000000000002,1.4400000000000004,1.6900000000000002,1.9600000000000004,2.25,2.5600000000000005,2.8900000000000006,3.24,3.6100000000000003,4.0,4.41,4.840000000000001,5.290000000000001,5.760000000000002,6.25,6.760000000000001,7.290000000000001,7.840000000000002,8.410000000000002,9.0,9.610000000000001,10.240000000000002,10.890000000000002,11.560000000000002,12.25,12.96,13.690000000000001,14.440000000000001,15.210000000000003,16.0,16.810000000000006,17.64,18.49,19.360000000000003,20.25,21.160000000000004,22.090000000000003,23.040000000000006],\"type\":\"scatter\"}]},{\"data\":[{\"marker\":{\"color\":[0.0,0.09983341664682815,0.19866933079506122,0.2955202066613396,0.3894183423086505,0.479425538604203,0.5646424733950355,0.6442176872376911,0.7173560908995228,0.7833269096274834,0.8414709848078965,0.8912073600614354,0.9320390859672264,0.963558185417193,0.9854497299884603,0.9974949866040544,0.9995736030415051,0.9916648104524686,0.9738476308781951,0.9463000876874145,0.9092974268256817,0.8632093666488737,0.8084964038195901,0.74570521217672,0.6754631805511506,0.5984721441039564,0.5155013718214642,0.4273798802338298,0.33498815015590466,0.23924932921398198,0.1411200080598672,0.04158066243329049,-0.058374143427580086,-0.15774569414324865,-0.25554110202683167,-0.35078322768961984,-0.44252044329485246,-0.5298361409084934,-0.6118578909427193,-0.6877661591839741,-0.7568024953079282,-0.8182771110644108,-0.8715757724135882,-0.9161659367494549,-0.9516020738895161,-0.977530117665097,-0.9936910036334645,-0.9999232575641008,-0.9961646088358406,-0.9824526126243325],\"size\":[0.0,1.996668332936563,3.9733866159012243,5.910404133226792,7.788366846173011,9.58851077208406,11.292849467900709,12.884353744753822,14.347121817990455,15.666538192549668,16.82941969615793,17.82414720122871,18.640781719344528,19.27116370834386,19.708994599769206,19.94989973208109,19.9914720608301,19.833296209049372,19.476952617563903,18.926001753748288,18.185948536513635,17.264187332977475,16.169928076391802,14.9141042435344,13.509263611023012,11.969442882079129,10.310027436429284,8.547597604676596,6.699763003118093,4.78498658427964,2.8224001611973444,0.8316132486658099,1.1674828685516017,3.154913882864973,5.110822040536633,7.015664553792397,8.85040886589705,10.596722818169868,12.237157818854385,13.755323183679483,15.136049906158565,16.365542221288216,17.431515448271764,18.323318734989098,19.032041477790322,19.55060235330194,19.87382007266929,19.998465151282016,19.92329217671681,19.649052252486648]},\"x\":[0.0,0.1,0.2,0.30000000000000004,0.4,0.5,0.6000000000000001,0.7000000000000001,0.8,0.9,1.0,1.1,1.2000000000000002,1.3,1.4000000000000001,1.5,1.6,1.7000000000000002,1.8,1.9000000000000001,2.0,2.1,2.2,2.3000000000000003,2.4000000000000004,2.5,2.6,2.7,2.8000000000000003,2.9000000000000004,3.0,3.1,3.2,3.3000000000000003,3.4000000000000004,3.5,3.6,3.7,3.8000000000000003,3.9000000000000004,4.0,4.1000000000000005,4.2,4.3,4.4,4.5,4.6000000000000005,4.7,4.800000000000001,4.9],\"y\":[0.0,0.010000000000000002,0.04000000000000001,0.09000000000000002,0.16000000000000003,0.25,0.3600000000000001,0.4900000000000001,0.6400000000000001,0.81,1.0,1.2100000000000002,1.4400000000000004,1.6900000000000002,1.9600000000000004,2.25,2.5600000000000005,2.8900000000000006,3.24,3.6100000000000003,4.0,4.41,4.840000000000001,5.290000000000001,5.760000000000002,6.25,6.760000000000001,7.290000000000001,7.840000000000002,8.410000000000002,9.0,9.610000000000001,10.240000000000002,10.890000000000002,11.560000000000002,12.25,12.96,13.690000000000001,14.440000000000001,15.210000000000003,16.0,16.810000000000006,17.64,18.49,19.360000000000003,20.25,21.160000000000004,22.090000000000003,23.040000000000006,24.010000000000005],\"type\":\"scatter\"}]}]);\n",
       "                        }).then(function(){\n",
       "                            \n",
       "var gd = document.getElementById('41cde5e6-fa3c-48a8-a7cd-3238723d1298');\n",
       "var x = new MutationObserver(function (mutations, observer) {{\n",
       "        var display = window.getComputedStyle(gd).display;\n",
       "        if (!display || display === 'none') {{\n",
       "            console.log([gd, 'removed!']);\n",
       "            Plotly.purge(gd);\n",
       "            observer.disconnect();\n",
       "        }}\n",
       "}});\n",
       "\n",
       "// Listen for the removal of the full notebook cells\n",
       "var notebookContainer = gd.closest('#notebook-container');\n",
       "if (notebookContainer) {{\n",
       "    x.observe(notebookContainer, {childList: true});\n",
       "}}\n",
       "\n",
       "// Listen for the clearing of the current output cell\n",
       "var outputEl = gd.closest('.output');\n",
       "if (outputEl) {{\n",
       "    x.observe(outputEl, {childList: true});\n",
       "}}\n",
       "\n",
       "                        })                };                });            </script>        </div>"
      ]
     },
     "metadata": {},
     "output_type": "display_data"
    }
   ],
   "source": [
    "def h(x):\n",
    "    return np.sin(x)\n",
    "fig = go.Figure()\n",
    "fig.add_trace(go.Scatter(x=[x[0]], y=[f(x)[0]], mode='lines+markers',  name='f(x)=x<sup>2</sup>',\n",
    "                         marker=dict(color=h(x[0]), colorbar=dict(title=\"h(x)=sin(x)\"), colorscale='Inferno', size=20*abs(h(x[0])))\n",
    "                        ))\n",
    "\n",
    "frames=[]\n",
    "for i in range(1, len(x)):\n",
    "    frames.append(go.Frame(data=[go.Scatter(x=x[:i+1], y=f(x[:i+1]), marker=dict(color=h(x[:i+1]), size=20*abs(h(x[:i+1]))))]))\n",
    "\n",
    "fig.frames = frames   \n",
    "\n",
    "fig.update_layout(legend_orientation=\"h\",\n",
    "                  legend=dict(x=.5, xanchor=\"center\"),\n",
    "                  updatemenus=[dict(type=\"buttons\", buttons=[dict(label=\"►\", method=\"animate\", args=[None, {\"fromcurrent\": True}]),\n",
    "                                                             dict(label=\"❚❚\", method=\"animate\", args=[[None], {\"frame\": {\"duration\": 0, \"redraw\": False},\n",
    "                                                                                                               \"mode\": \"immediate\",\n",
    "                                                                                                               \"transition\": {\"duration\": 0}}])])],\n",
    "                  )\n",
    "fig.update_layout(autosize = False, width=500,height=500 ) # МЕНЯТЬ РАЗМЕР ПОЛОТНА \n",
    "fig.update_traces(hoverinfo=\"all\", hovertemplate=\"Аргумент: %{x}<br>Функция: %{y}\")\n",
    "fig.show()"
   ]
  },
  {
   "cell_type": "code",
   "execution_count": 11,
   "metadata": {},
   "outputs": [
    {
     "data": {
      "application/vnd.plotly.v1+json": {
       "config": {
        "plotlyServerURL": "https://plot.ly"
       },
       "data": [
        {
         "hoverinfo": "all",
         "hovertemplate": "Аргумент: %{x}<br>Функция: %{y}",
         "marker": {
          "color": 0,
          "colorbar": {
           "title": {
            "text": "h(x)=sin(x)"
           }
          },
          "colorscale": [
           [
            0,
            "#000004"
           ],
           [
            0.1111111111111111,
            "#1b0c41"
           ],
           [
            0.2222222222222222,
            "#4a0c6b"
           ],
           [
            0.3333333333333333,
            "#781c6d"
           ],
           [
            0.4444444444444444,
            "#a52c60"
           ],
           [
            0.5555555555555556,
            "#cf4446"
           ],
           [
            0.6666666666666666,
            "#ed6925"
           ],
           [
            0.7777777777777778,
            "#fb9b06"
           ],
           [
            0.8888888888888888,
            "#f7d13d"
           ],
           [
            1,
            "#fcffa4"
           ]
          ]
         },
         "mode": "lines+markers",
         "name": "f(x)=x<sup>2</sup>",
         "type": "scatter",
         "x": [
          0
         ],
         "y": [
          0
         ]
        }
       ],
       "frames": [
        {
         "data": [
          {
           "marker": {
            "color": [
             0,
             0.09983341664682815
            ]
           },
           "type": "scatter",
           "x": [
            0,
            0.1
           ],
           "y": [
            0,
            0.010000000000000002
           ]
          }
         ]
        },
        {
         "data": [
          {
           "marker": {
            "color": [
             0,
             0.09983341664682815,
             0.19866933079506122
            ]
           },
           "type": "scatter",
           "x": [
            0,
            0.1,
            0.2
           ],
           "y": [
            0,
            0.010000000000000002,
            0.04000000000000001
           ]
          }
         ]
        },
        {
         "data": [
          {
           "marker": {
            "color": [
             0,
             0.09983341664682815,
             0.19866933079506122,
             0.2955202066613396
            ]
           },
           "type": "scatter",
           "x": [
            0,
            0.1,
            0.2,
            0.30000000000000004
           ],
           "y": [
            0,
            0.010000000000000002,
            0.04000000000000001,
            0.09000000000000002
           ]
          }
         ]
        },
        {
         "data": [
          {
           "marker": {
            "color": [
             0,
             0.09983341664682815,
             0.19866933079506122,
             0.2955202066613396,
             0.3894183423086505
            ]
           },
           "type": "scatter",
           "x": [
            0,
            0.1,
            0.2,
            0.30000000000000004,
            0.4
           ],
           "y": [
            0,
            0.010000000000000002,
            0.04000000000000001,
            0.09000000000000002,
            0.16000000000000003
           ]
          }
         ]
        },
        {
         "data": [
          {
           "marker": {
            "color": [
             0,
             0.09983341664682815,
             0.19866933079506122,
             0.2955202066613396,
             0.3894183423086505,
             0.479425538604203
            ]
           },
           "type": "scatter",
           "x": [
            0,
            0.1,
            0.2,
            0.30000000000000004,
            0.4,
            0.5
           ],
           "y": [
            0,
            0.010000000000000002,
            0.04000000000000001,
            0.09000000000000002,
            0.16000000000000003,
            0.25
           ]
          }
         ]
        },
        {
         "data": [
          {
           "marker": {
            "color": [
             0,
             0.09983341664682815,
             0.19866933079506122,
             0.2955202066613396,
             0.3894183423086505,
             0.479425538604203,
             0.5646424733950355
            ]
           },
           "type": "scatter",
           "x": [
            0,
            0.1,
            0.2,
            0.30000000000000004,
            0.4,
            0.5,
            0.6000000000000001
           ],
           "y": [
            0,
            0.010000000000000002,
            0.04000000000000001,
            0.09000000000000002,
            0.16000000000000003,
            0.25,
            0.3600000000000001
           ]
          }
         ]
        },
        {
         "data": [
          {
           "marker": {
            "color": [
             0,
             0.09983341664682815,
             0.19866933079506122,
             0.2955202066613396,
             0.3894183423086505,
             0.479425538604203,
             0.5646424733950355,
             0.6442176872376911
            ]
           },
           "type": "scatter",
           "x": [
            0,
            0.1,
            0.2,
            0.30000000000000004,
            0.4,
            0.5,
            0.6000000000000001,
            0.7000000000000001
           ],
           "y": [
            0,
            0.010000000000000002,
            0.04000000000000001,
            0.09000000000000002,
            0.16000000000000003,
            0.25,
            0.3600000000000001,
            0.4900000000000001
           ]
          }
         ]
        },
        {
         "data": [
          {
           "marker": {
            "color": [
             0,
             0.09983341664682815,
             0.19866933079506122,
             0.2955202066613396,
             0.3894183423086505,
             0.479425538604203,
             0.5646424733950355,
             0.6442176872376911,
             0.7173560908995228
            ]
           },
           "type": "scatter",
           "x": [
            0,
            0.1,
            0.2,
            0.30000000000000004,
            0.4,
            0.5,
            0.6000000000000001,
            0.7000000000000001,
            0.8
           ],
           "y": [
            0,
            0.010000000000000002,
            0.04000000000000001,
            0.09000000000000002,
            0.16000000000000003,
            0.25,
            0.3600000000000001,
            0.4900000000000001,
            0.6400000000000001
           ]
          }
         ]
        },
        {
         "data": [
          {
           "marker": {
            "color": [
             0,
             0.09983341664682815,
             0.19866933079506122,
             0.2955202066613396,
             0.3894183423086505,
             0.479425538604203,
             0.5646424733950355,
             0.6442176872376911,
             0.7173560908995228,
             0.7833269096274834
            ]
           },
           "type": "scatter",
           "x": [
            0,
            0.1,
            0.2,
            0.30000000000000004,
            0.4,
            0.5,
            0.6000000000000001,
            0.7000000000000001,
            0.8,
            0.9
           ],
           "y": [
            0,
            0.010000000000000002,
            0.04000000000000001,
            0.09000000000000002,
            0.16000000000000003,
            0.25,
            0.3600000000000001,
            0.4900000000000001,
            0.6400000000000001,
            0.81
           ]
          }
         ]
        },
        {
         "data": [
          {
           "marker": {
            "color": [
             0,
             0.09983341664682815,
             0.19866933079506122,
             0.2955202066613396,
             0.3894183423086505,
             0.479425538604203,
             0.5646424733950355,
             0.6442176872376911,
             0.7173560908995228,
             0.7833269096274834,
             0.8414709848078965
            ]
           },
           "type": "scatter",
           "x": [
            0,
            0.1,
            0.2,
            0.30000000000000004,
            0.4,
            0.5,
            0.6000000000000001,
            0.7000000000000001,
            0.8,
            0.9,
            1
           ],
           "y": [
            0,
            0.010000000000000002,
            0.04000000000000001,
            0.09000000000000002,
            0.16000000000000003,
            0.25,
            0.3600000000000001,
            0.4900000000000001,
            0.6400000000000001,
            0.81,
            1
           ]
          }
         ]
        },
        {
         "data": [
          {
           "marker": {
            "color": [
             0,
             0.09983341664682815,
             0.19866933079506122,
             0.2955202066613396,
             0.3894183423086505,
             0.479425538604203,
             0.5646424733950355,
             0.6442176872376911,
             0.7173560908995228,
             0.7833269096274834,
             0.8414709848078965,
             0.8912073600614354
            ]
           },
           "type": "scatter",
           "x": [
            0,
            0.1,
            0.2,
            0.30000000000000004,
            0.4,
            0.5,
            0.6000000000000001,
            0.7000000000000001,
            0.8,
            0.9,
            1,
            1.1
           ],
           "y": [
            0,
            0.010000000000000002,
            0.04000000000000001,
            0.09000000000000002,
            0.16000000000000003,
            0.25,
            0.3600000000000001,
            0.4900000000000001,
            0.6400000000000001,
            0.81,
            1,
            1.2100000000000002
           ]
          }
         ]
        },
        {
         "data": [
          {
           "marker": {
            "color": [
             0,
             0.09983341664682815,
             0.19866933079506122,
             0.2955202066613396,
             0.3894183423086505,
             0.479425538604203,
             0.5646424733950355,
             0.6442176872376911,
             0.7173560908995228,
             0.7833269096274834,
             0.8414709848078965,
             0.8912073600614354,
             0.9320390859672264
            ]
           },
           "type": "scatter",
           "x": [
            0,
            0.1,
            0.2,
            0.30000000000000004,
            0.4,
            0.5,
            0.6000000000000001,
            0.7000000000000001,
            0.8,
            0.9,
            1,
            1.1,
            1.2000000000000002
           ],
           "y": [
            0,
            0.010000000000000002,
            0.04000000000000001,
            0.09000000000000002,
            0.16000000000000003,
            0.25,
            0.3600000000000001,
            0.4900000000000001,
            0.6400000000000001,
            0.81,
            1,
            1.2100000000000002,
            1.4400000000000004
           ]
          }
         ]
        },
        {
         "data": [
          {
           "marker": {
            "color": [
             0,
             0.09983341664682815,
             0.19866933079506122,
             0.2955202066613396,
             0.3894183423086505,
             0.479425538604203,
             0.5646424733950355,
             0.6442176872376911,
             0.7173560908995228,
             0.7833269096274834,
             0.8414709848078965,
             0.8912073600614354,
             0.9320390859672264,
             0.963558185417193
            ]
           },
           "type": "scatter",
           "x": [
            0,
            0.1,
            0.2,
            0.30000000000000004,
            0.4,
            0.5,
            0.6000000000000001,
            0.7000000000000001,
            0.8,
            0.9,
            1,
            1.1,
            1.2000000000000002,
            1.3
           ],
           "y": [
            0,
            0.010000000000000002,
            0.04000000000000001,
            0.09000000000000002,
            0.16000000000000003,
            0.25,
            0.3600000000000001,
            0.4900000000000001,
            0.6400000000000001,
            0.81,
            1,
            1.2100000000000002,
            1.4400000000000004,
            1.6900000000000002
           ]
          }
         ]
        },
        {
         "data": [
          {
           "marker": {
            "color": [
             0,
             0.09983341664682815,
             0.19866933079506122,
             0.2955202066613396,
             0.3894183423086505,
             0.479425538604203,
             0.5646424733950355,
             0.6442176872376911,
             0.7173560908995228,
             0.7833269096274834,
             0.8414709848078965,
             0.8912073600614354,
             0.9320390859672264,
             0.963558185417193,
             0.9854497299884603
            ]
           },
           "type": "scatter",
           "x": [
            0,
            0.1,
            0.2,
            0.30000000000000004,
            0.4,
            0.5,
            0.6000000000000001,
            0.7000000000000001,
            0.8,
            0.9,
            1,
            1.1,
            1.2000000000000002,
            1.3,
            1.4000000000000001
           ],
           "y": [
            0,
            0.010000000000000002,
            0.04000000000000001,
            0.09000000000000002,
            0.16000000000000003,
            0.25,
            0.3600000000000001,
            0.4900000000000001,
            0.6400000000000001,
            0.81,
            1,
            1.2100000000000002,
            1.4400000000000004,
            1.6900000000000002,
            1.9600000000000004
           ]
          }
         ]
        },
        {
         "data": [
          {
           "marker": {
            "color": [
             0,
             0.09983341664682815,
             0.19866933079506122,
             0.2955202066613396,
             0.3894183423086505,
             0.479425538604203,
             0.5646424733950355,
             0.6442176872376911,
             0.7173560908995228,
             0.7833269096274834,
             0.8414709848078965,
             0.8912073600614354,
             0.9320390859672264,
             0.963558185417193,
             0.9854497299884603,
             0.9974949866040544
            ]
           },
           "type": "scatter",
           "x": [
            0,
            0.1,
            0.2,
            0.30000000000000004,
            0.4,
            0.5,
            0.6000000000000001,
            0.7000000000000001,
            0.8,
            0.9,
            1,
            1.1,
            1.2000000000000002,
            1.3,
            1.4000000000000001,
            1.5
           ],
           "y": [
            0,
            0.010000000000000002,
            0.04000000000000001,
            0.09000000000000002,
            0.16000000000000003,
            0.25,
            0.3600000000000001,
            0.4900000000000001,
            0.6400000000000001,
            0.81,
            1,
            1.2100000000000002,
            1.4400000000000004,
            1.6900000000000002,
            1.9600000000000004,
            2.25
           ]
          }
         ]
        },
        {
         "data": [
          {
           "marker": {
            "color": [
             0,
             0.09983341664682815,
             0.19866933079506122,
             0.2955202066613396,
             0.3894183423086505,
             0.479425538604203,
             0.5646424733950355,
             0.6442176872376911,
             0.7173560908995228,
             0.7833269096274834,
             0.8414709848078965,
             0.8912073600614354,
             0.9320390859672264,
             0.963558185417193,
             0.9854497299884603,
             0.9974949866040544,
             0.9995736030415051
            ]
           },
           "type": "scatter",
           "x": [
            0,
            0.1,
            0.2,
            0.30000000000000004,
            0.4,
            0.5,
            0.6000000000000001,
            0.7000000000000001,
            0.8,
            0.9,
            1,
            1.1,
            1.2000000000000002,
            1.3,
            1.4000000000000001,
            1.5,
            1.6
           ],
           "y": [
            0,
            0.010000000000000002,
            0.04000000000000001,
            0.09000000000000002,
            0.16000000000000003,
            0.25,
            0.3600000000000001,
            0.4900000000000001,
            0.6400000000000001,
            0.81,
            1,
            1.2100000000000002,
            1.4400000000000004,
            1.6900000000000002,
            1.9600000000000004,
            2.25,
            2.5600000000000005
           ]
          }
         ]
        },
        {
         "data": [
          {
           "marker": {
            "color": [
             0,
             0.09983341664682815,
             0.19866933079506122,
             0.2955202066613396,
             0.3894183423086505,
             0.479425538604203,
             0.5646424733950355,
             0.6442176872376911,
             0.7173560908995228,
             0.7833269096274834,
             0.8414709848078965,
             0.8912073600614354,
             0.9320390859672264,
             0.963558185417193,
             0.9854497299884603,
             0.9974949866040544,
             0.9995736030415051,
             0.9916648104524686
            ]
           },
           "type": "scatter",
           "x": [
            0,
            0.1,
            0.2,
            0.30000000000000004,
            0.4,
            0.5,
            0.6000000000000001,
            0.7000000000000001,
            0.8,
            0.9,
            1,
            1.1,
            1.2000000000000002,
            1.3,
            1.4000000000000001,
            1.5,
            1.6,
            1.7000000000000002
           ],
           "y": [
            0,
            0.010000000000000002,
            0.04000000000000001,
            0.09000000000000002,
            0.16000000000000003,
            0.25,
            0.3600000000000001,
            0.4900000000000001,
            0.6400000000000001,
            0.81,
            1,
            1.2100000000000002,
            1.4400000000000004,
            1.6900000000000002,
            1.9600000000000004,
            2.25,
            2.5600000000000005,
            2.8900000000000006
           ]
          }
         ]
        },
        {
         "data": [
          {
           "marker": {
            "color": [
             0,
             0.09983341664682815,
             0.19866933079506122,
             0.2955202066613396,
             0.3894183423086505,
             0.479425538604203,
             0.5646424733950355,
             0.6442176872376911,
             0.7173560908995228,
             0.7833269096274834,
             0.8414709848078965,
             0.8912073600614354,
             0.9320390859672264,
             0.963558185417193,
             0.9854497299884603,
             0.9974949866040544,
             0.9995736030415051,
             0.9916648104524686,
             0.9738476308781951
            ]
           },
           "type": "scatter",
           "x": [
            0,
            0.1,
            0.2,
            0.30000000000000004,
            0.4,
            0.5,
            0.6000000000000001,
            0.7000000000000001,
            0.8,
            0.9,
            1,
            1.1,
            1.2000000000000002,
            1.3,
            1.4000000000000001,
            1.5,
            1.6,
            1.7000000000000002,
            1.8
           ],
           "y": [
            0,
            0.010000000000000002,
            0.04000000000000001,
            0.09000000000000002,
            0.16000000000000003,
            0.25,
            0.3600000000000001,
            0.4900000000000001,
            0.6400000000000001,
            0.81,
            1,
            1.2100000000000002,
            1.4400000000000004,
            1.6900000000000002,
            1.9600000000000004,
            2.25,
            2.5600000000000005,
            2.8900000000000006,
            3.24
           ]
          }
         ]
        },
        {
         "data": [
          {
           "marker": {
            "color": [
             0,
             0.09983341664682815,
             0.19866933079506122,
             0.2955202066613396,
             0.3894183423086505,
             0.479425538604203,
             0.5646424733950355,
             0.6442176872376911,
             0.7173560908995228,
             0.7833269096274834,
             0.8414709848078965,
             0.8912073600614354,
             0.9320390859672264,
             0.963558185417193,
             0.9854497299884603,
             0.9974949866040544,
             0.9995736030415051,
             0.9916648104524686,
             0.9738476308781951,
             0.9463000876874145
            ]
           },
           "type": "scatter",
           "x": [
            0,
            0.1,
            0.2,
            0.30000000000000004,
            0.4,
            0.5,
            0.6000000000000001,
            0.7000000000000001,
            0.8,
            0.9,
            1,
            1.1,
            1.2000000000000002,
            1.3,
            1.4000000000000001,
            1.5,
            1.6,
            1.7000000000000002,
            1.8,
            1.9000000000000001
           ],
           "y": [
            0,
            0.010000000000000002,
            0.04000000000000001,
            0.09000000000000002,
            0.16000000000000003,
            0.25,
            0.3600000000000001,
            0.4900000000000001,
            0.6400000000000001,
            0.81,
            1,
            1.2100000000000002,
            1.4400000000000004,
            1.6900000000000002,
            1.9600000000000004,
            2.25,
            2.5600000000000005,
            2.8900000000000006,
            3.24,
            3.6100000000000003
           ]
          }
         ]
        },
        {
         "data": [
          {
           "marker": {
            "color": [
             0,
             0.09983341664682815,
             0.19866933079506122,
             0.2955202066613396,
             0.3894183423086505,
             0.479425538604203,
             0.5646424733950355,
             0.6442176872376911,
             0.7173560908995228,
             0.7833269096274834,
             0.8414709848078965,
             0.8912073600614354,
             0.9320390859672264,
             0.963558185417193,
             0.9854497299884603,
             0.9974949866040544,
             0.9995736030415051,
             0.9916648104524686,
             0.9738476308781951,
             0.9463000876874145,
             0.9092974268256817
            ]
           },
           "type": "scatter",
           "x": [
            0,
            0.1,
            0.2,
            0.30000000000000004,
            0.4,
            0.5,
            0.6000000000000001,
            0.7000000000000001,
            0.8,
            0.9,
            1,
            1.1,
            1.2000000000000002,
            1.3,
            1.4000000000000001,
            1.5,
            1.6,
            1.7000000000000002,
            1.8,
            1.9000000000000001,
            2
           ],
           "y": [
            0,
            0.010000000000000002,
            0.04000000000000001,
            0.09000000000000002,
            0.16000000000000003,
            0.25,
            0.3600000000000001,
            0.4900000000000001,
            0.6400000000000001,
            0.81,
            1,
            1.2100000000000002,
            1.4400000000000004,
            1.6900000000000002,
            1.9600000000000004,
            2.25,
            2.5600000000000005,
            2.8900000000000006,
            3.24,
            3.6100000000000003,
            4
           ]
          }
         ]
        },
        {
         "data": [
          {
           "marker": {
            "color": [
             0,
             0.09983341664682815,
             0.19866933079506122,
             0.2955202066613396,
             0.3894183423086505,
             0.479425538604203,
             0.5646424733950355,
             0.6442176872376911,
             0.7173560908995228,
             0.7833269096274834,
             0.8414709848078965,
             0.8912073600614354,
             0.9320390859672264,
             0.963558185417193,
             0.9854497299884603,
             0.9974949866040544,
             0.9995736030415051,
             0.9916648104524686,
             0.9738476308781951,
             0.9463000876874145,
             0.9092974268256817,
             0.8632093666488737
            ]
           },
           "type": "scatter",
           "x": [
            0,
            0.1,
            0.2,
            0.30000000000000004,
            0.4,
            0.5,
            0.6000000000000001,
            0.7000000000000001,
            0.8,
            0.9,
            1,
            1.1,
            1.2000000000000002,
            1.3,
            1.4000000000000001,
            1.5,
            1.6,
            1.7000000000000002,
            1.8,
            1.9000000000000001,
            2,
            2.1
           ],
           "y": [
            0,
            0.010000000000000002,
            0.04000000000000001,
            0.09000000000000002,
            0.16000000000000003,
            0.25,
            0.3600000000000001,
            0.4900000000000001,
            0.6400000000000001,
            0.81,
            1,
            1.2100000000000002,
            1.4400000000000004,
            1.6900000000000002,
            1.9600000000000004,
            2.25,
            2.5600000000000005,
            2.8900000000000006,
            3.24,
            3.6100000000000003,
            4,
            4.41
           ]
          }
         ]
        },
        {
         "data": [
          {
           "marker": {
            "color": [
             0,
             0.09983341664682815,
             0.19866933079506122,
             0.2955202066613396,
             0.3894183423086505,
             0.479425538604203,
             0.5646424733950355,
             0.6442176872376911,
             0.7173560908995228,
             0.7833269096274834,
             0.8414709848078965,
             0.8912073600614354,
             0.9320390859672264,
             0.963558185417193,
             0.9854497299884603,
             0.9974949866040544,
             0.9995736030415051,
             0.9916648104524686,
             0.9738476308781951,
             0.9463000876874145,
             0.9092974268256817,
             0.8632093666488737,
             0.8084964038195901
            ]
           },
           "type": "scatter",
           "x": [
            0,
            0.1,
            0.2,
            0.30000000000000004,
            0.4,
            0.5,
            0.6000000000000001,
            0.7000000000000001,
            0.8,
            0.9,
            1,
            1.1,
            1.2000000000000002,
            1.3,
            1.4000000000000001,
            1.5,
            1.6,
            1.7000000000000002,
            1.8,
            1.9000000000000001,
            2,
            2.1,
            2.2
           ],
           "y": [
            0,
            0.010000000000000002,
            0.04000000000000001,
            0.09000000000000002,
            0.16000000000000003,
            0.25,
            0.3600000000000001,
            0.4900000000000001,
            0.6400000000000001,
            0.81,
            1,
            1.2100000000000002,
            1.4400000000000004,
            1.6900000000000002,
            1.9600000000000004,
            2.25,
            2.5600000000000005,
            2.8900000000000006,
            3.24,
            3.6100000000000003,
            4,
            4.41,
            4.840000000000001
           ]
          }
         ]
        },
        {
         "data": [
          {
           "marker": {
            "color": [
             0,
             0.09983341664682815,
             0.19866933079506122,
             0.2955202066613396,
             0.3894183423086505,
             0.479425538604203,
             0.5646424733950355,
             0.6442176872376911,
             0.7173560908995228,
             0.7833269096274834,
             0.8414709848078965,
             0.8912073600614354,
             0.9320390859672264,
             0.963558185417193,
             0.9854497299884603,
             0.9974949866040544,
             0.9995736030415051,
             0.9916648104524686,
             0.9738476308781951,
             0.9463000876874145,
             0.9092974268256817,
             0.8632093666488737,
             0.8084964038195901,
             0.74570521217672
            ]
           },
           "type": "scatter",
           "x": [
            0,
            0.1,
            0.2,
            0.30000000000000004,
            0.4,
            0.5,
            0.6000000000000001,
            0.7000000000000001,
            0.8,
            0.9,
            1,
            1.1,
            1.2000000000000002,
            1.3,
            1.4000000000000001,
            1.5,
            1.6,
            1.7000000000000002,
            1.8,
            1.9000000000000001,
            2,
            2.1,
            2.2,
            2.3000000000000003
           ],
           "y": [
            0,
            0.010000000000000002,
            0.04000000000000001,
            0.09000000000000002,
            0.16000000000000003,
            0.25,
            0.3600000000000001,
            0.4900000000000001,
            0.6400000000000001,
            0.81,
            1,
            1.2100000000000002,
            1.4400000000000004,
            1.6900000000000002,
            1.9600000000000004,
            2.25,
            2.5600000000000005,
            2.8900000000000006,
            3.24,
            3.6100000000000003,
            4,
            4.41,
            4.840000000000001,
            5.290000000000001
           ]
          }
         ]
        },
        {
         "data": [
          {
           "marker": {
            "color": [
             0,
             0.09983341664682815,
             0.19866933079506122,
             0.2955202066613396,
             0.3894183423086505,
             0.479425538604203,
             0.5646424733950355,
             0.6442176872376911,
             0.7173560908995228,
             0.7833269096274834,
             0.8414709848078965,
             0.8912073600614354,
             0.9320390859672264,
             0.963558185417193,
             0.9854497299884603,
             0.9974949866040544,
             0.9995736030415051,
             0.9916648104524686,
             0.9738476308781951,
             0.9463000876874145,
             0.9092974268256817,
             0.8632093666488737,
             0.8084964038195901,
             0.74570521217672,
             0.6754631805511506
            ]
           },
           "type": "scatter",
           "x": [
            0,
            0.1,
            0.2,
            0.30000000000000004,
            0.4,
            0.5,
            0.6000000000000001,
            0.7000000000000001,
            0.8,
            0.9,
            1,
            1.1,
            1.2000000000000002,
            1.3,
            1.4000000000000001,
            1.5,
            1.6,
            1.7000000000000002,
            1.8,
            1.9000000000000001,
            2,
            2.1,
            2.2,
            2.3000000000000003,
            2.4000000000000004
           ],
           "y": [
            0,
            0.010000000000000002,
            0.04000000000000001,
            0.09000000000000002,
            0.16000000000000003,
            0.25,
            0.3600000000000001,
            0.4900000000000001,
            0.6400000000000001,
            0.81,
            1,
            1.2100000000000002,
            1.4400000000000004,
            1.6900000000000002,
            1.9600000000000004,
            2.25,
            2.5600000000000005,
            2.8900000000000006,
            3.24,
            3.6100000000000003,
            4,
            4.41,
            4.840000000000001,
            5.290000000000001,
            5.760000000000002
           ]
          }
         ]
        },
        {
         "data": [
          {
           "marker": {
            "color": [
             0,
             0.09983341664682815,
             0.19866933079506122,
             0.2955202066613396,
             0.3894183423086505,
             0.479425538604203,
             0.5646424733950355,
             0.6442176872376911,
             0.7173560908995228,
             0.7833269096274834,
             0.8414709848078965,
             0.8912073600614354,
             0.9320390859672264,
             0.963558185417193,
             0.9854497299884603,
             0.9974949866040544,
             0.9995736030415051,
             0.9916648104524686,
             0.9738476308781951,
             0.9463000876874145,
             0.9092974268256817,
             0.8632093666488737,
             0.8084964038195901,
             0.74570521217672,
             0.6754631805511506,
             0.5984721441039564
            ]
           },
           "type": "scatter",
           "x": [
            0,
            0.1,
            0.2,
            0.30000000000000004,
            0.4,
            0.5,
            0.6000000000000001,
            0.7000000000000001,
            0.8,
            0.9,
            1,
            1.1,
            1.2000000000000002,
            1.3,
            1.4000000000000001,
            1.5,
            1.6,
            1.7000000000000002,
            1.8,
            1.9000000000000001,
            2,
            2.1,
            2.2,
            2.3000000000000003,
            2.4000000000000004,
            2.5
           ],
           "y": [
            0,
            0.010000000000000002,
            0.04000000000000001,
            0.09000000000000002,
            0.16000000000000003,
            0.25,
            0.3600000000000001,
            0.4900000000000001,
            0.6400000000000001,
            0.81,
            1,
            1.2100000000000002,
            1.4400000000000004,
            1.6900000000000002,
            1.9600000000000004,
            2.25,
            2.5600000000000005,
            2.8900000000000006,
            3.24,
            3.6100000000000003,
            4,
            4.41,
            4.840000000000001,
            5.290000000000001,
            5.760000000000002,
            6.25
           ]
          }
         ]
        },
        {
         "data": [
          {
           "marker": {
            "color": [
             0,
             0.09983341664682815,
             0.19866933079506122,
             0.2955202066613396,
             0.3894183423086505,
             0.479425538604203,
             0.5646424733950355,
             0.6442176872376911,
             0.7173560908995228,
             0.7833269096274834,
             0.8414709848078965,
             0.8912073600614354,
             0.9320390859672264,
             0.963558185417193,
             0.9854497299884603,
             0.9974949866040544,
             0.9995736030415051,
             0.9916648104524686,
             0.9738476308781951,
             0.9463000876874145,
             0.9092974268256817,
             0.8632093666488737,
             0.8084964038195901,
             0.74570521217672,
             0.6754631805511506,
             0.5984721441039564,
             0.5155013718214642
            ]
           },
           "type": "scatter",
           "x": [
            0,
            0.1,
            0.2,
            0.30000000000000004,
            0.4,
            0.5,
            0.6000000000000001,
            0.7000000000000001,
            0.8,
            0.9,
            1,
            1.1,
            1.2000000000000002,
            1.3,
            1.4000000000000001,
            1.5,
            1.6,
            1.7000000000000002,
            1.8,
            1.9000000000000001,
            2,
            2.1,
            2.2,
            2.3000000000000003,
            2.4000000000000004,
            2.5,
            2.6
           ],
           "y": [
            0,
            0.010000000000000002,
            0.04000000000000001,
            0.09000000000000002,
            0.16000000000000003,
            0.25,
            0.3600000000000001,
            0.4900000000000001,
            0.6400000000000001,
            0.81,
            1,
            1.2100000000000002,
            1.4400000000000004,
            1.6900000000000002,
            1.9600000000000004,
            2.25,
            2.5600000000000005,
            2.8900000000000006,
            3.24,
            3.6100000000000003,
            4,
            4.41,
            4.840000000000001,
            5.290000000000001,
            5.760000000000002,
            6.25,
            6.760000000000001
           ]
          }
         ]
        },
        {
         "data": [
          {
           "marker": {
            "color": [
             0,
             0.09983341664682815,
             0.19866933079506122,
             0.2955202066613396,
             0.3894183423086505,
             0.479425538604203,
             0.5646424733950355,
             0.6442176872376911,
             0.7173560908995228,
             0.7833269096274834,
             0.8414709848078965,
             0.8912073600614354,
             0.9320390859672264,
             0.963558185417193,
             0.9854497299884603,
             0.9974949866040544,
             0.9995736030415051,
             0.9916648104524686,
             0.9738476308781951,
             0.9463000876874145,
             0.9092974268256817,
             0.8632093666488737,
             0.8084964038195901,
             0.74570521217672,
             0.6754631805511506,
             0.5984721441039564,
             0.5155013718214642,
             0.4273798802338298
            ]
           },
           "type": "scatter",
           "x": [
            0,
            0.1,
            0.2,
            0.30000000000000004,
            0.4,
            0.5,
            0.6000000000000001,
            0.7000000000000001,
            0.8,
            0.9,
            1,
            1.1,
            1.2000000000000002,
            1.3,
            1.4000000000000001,
            1.5,
            1.6,
            1.7000000000000002,
            1.8,
            1.9000000000000001,
            2,
            2.1,
            2.2,
            2.3000000000000003,
            2.4000000000000004,
            2.5,
            2.6,
            2.7
           ],
           "y": [
            0,
            0.010000000000000002,
            0.04000000000000001,
            0.09000000000000002,
            0.16000000000000003,
            0.25,
            0.3600000000000001,
            0.4900000000000001,
            0.6400000000000001,
            0.81,
            1,
            1.2100000000000002,
            1.4400000000000004,
            1.6900000000000002,
            1.9600000000000004,
            2.25,
            2.5600000000000005,
            2.8900000000000006,
            3.24,
            3.6100000000000003,
            4,
            4.41,
            4.840000000000001,
            5.290000000000001,
            5.760000000000002,
            6.25,
            6.760000000000001,
            7.290000000000001
           ]
          }
         ]
        },
        {
         "data": [
          {
           "marker": {
            "color": [
             0,
             0.09983341664682815,
             0.19866933079506122,
             0.2955202066613396,
             0.3894183423086505,
             0.479425538604203,
             0.5646424733950355,
             0.6442176872376911,
             0.7173560908995228,
             0.7833269096274834,
             0.8414709848078965,
             0.8912073600614354,
             0.9320390859672264,
             0.963558185417193,
             0.9854497299884603,
             0.9974949866040544,
             0.9995736030415051,
             0.9916648104524686,
             0.9738476308781951,
             0.9463000876874145,
             0.9092974268256817,
             0.8632093666488737,
             0.8084964038195901,
             0.74570521217672,
             0.6754631805511506,
             0.5984721441039564,
             0.5155013718214642,
             0.4273798802338298,
             0.33498815015590466
            ]
           },
           "type": "scatter",
           "x": [
            0,
            0.1,
            0.2,
            0.30000000000000004,
            0.4,
            0.5,
            0.6000000000000001,
            0.7000000000000001,
            0.8,
            0.9,
            1,
            1.1,
            1.2000000000000002,
            1.3,
            1.4000000000000001,
            1.5,
            1.6,
            1.7000000000000002,
            1.8,
            1.9000000000000001,
            2,
            2.1,
            2.2,
            2.3000000000000003,
            2.4000000000000004,
            2.5,
            2.6,
            2.7,
            2.8000000000000003
           ],
           "y": [
            0,
            0.010000000000000002,
            0.04000000000000001,
            0.09000000000000002,
            0.16000000000000003,
            0.25,
            0.3600000000000001,
            0.4900000000000001,
            0.6400000000000001,
            0.81,
            1,
            1.2100000000000002,
            1.4400000000000004,
            1.6900000000000002,
            1.9600000000000004,
            2.25,
            2.5600000000000005,
            2.8900000000000006,
            3.24,
            3.6100000000000003,
            4,
            4.41,
            4.840000000000001,
            5.290000000000001,
            5.760000000000002,
            6.25,
            6.760000000000001,
            7.290000000000001,
            7.840000000000002
           ]
          }
         ]
        },
        {
         "data": [
          {
           "marker": {
            "color": [
             0,
             0.09983341664682815,
             0.19866933079506122,
             0.2955202066613396,
             0.3894183423086505,
             0.479425538604203,
             0.5646424733950355,
             0.6442176872376911,
             0.7173560908995228,
             0.7833269096274834,
             0.8414709848078965,
             0.8912073600614354,
             0.9320390859672264,
             0.963558185417193,
             0.9854497299884603,
             0.9974949866040544,
             0.9995736030415051,
             0.9916648104524686,
             0.9738476308781951,
             0.9463000876874145,
             0.9092974268256817,
             0.8632093666488737,
             0.8084964038195901,
             0.74570521217672,
             0.6754631805511506,
             0.5984721441039564,
             0.5155013718214642,
             0.4273798802338298,
             0.33498815015590466,
             0.23924932921398198
            ]
           },
           "type": "scatter",
           "x": [
            0,
            0.1,
            0.2,
            0.30000000000000004,
            0.4,
            0.5,
            0.6000000000000001,
            0.7000000000000001,
            0.8,
            0.9,
            1,
            1.1,
            1.2000000000000002,
            1.3,
            1.4000000000000001,
            1.5,
            1.6,
            1.7000000000000002,
            1.8,
            1.9000000000000001,
            2,
            2.1,
            2.2,
            2.3000000000000003,
            2.4000000000000004,
            2.5,
            2.6,
            2.7,
            2.8000000000000003,
            2.9000000000000004
           ],
           "y": [
            0,
            0.010000000000000002,
            0.04000000000000001,
            0.09000000000000002,
            0.16000000000000003,
            0.25,
            0.3600000000000001,
            0.4900000000000001,
            0.6400000000000001,
            0.81,
            1,
            1.2100000000000002,
            1.4400000000000004,
            1.6900000000000002,
            1.9600000000000004,
            2.25,
            2.5600000000000005,
            2.8900000000000006,
            3.24,
            3.6100000000000003,
            4,
            4.41,
            4.840000000000001,
            5.290000000000001,
            5.760000000000002,
            6.25,
            6.760000000000001,
            7.290000000000001,
            7.840000000000002,
            8.410000000000002
           ]
          }
         ]
        },
        {
         "data": [
          {
           "marker": {
            "color": [
             0,
             0.09983341664682815,
             0.19866933079506122,
             0.2955202066613396,
             0.3894183423086505,
             0.479425538604203,
             0.5646424733950355,
             0.6442176872376911,
             0.7173560908995228,
             0.7833269096274834,
             0.8414709848078965,
             0.8912073600614354,
             0.9320390859672264,
             0.963558185417193,
             0.9854497299884603,
             0.9974949866040544,
             0.9995736030415051,
             0.9916648104524686,
             0.9738476308781951,
             0.9463000876874145,
             0.9092974268256817,
             0.8632093666488737,
             0.8084964038195901,
             0.74570521217672,
             0.6754631805511506,
             0.5984721441039564,
             0.5155013718214642,
             0.4273798802338298,
             0.33498815015590466,
             0.23924932921398198,
             0.1411200080598672
            ]
           },
           "type": "scatter",
           "x": [
            0,
            0.1,
            0.2,
            0.30000000000000004,
            0.4,
            0.5,
            0.6000000000000001,
            0.7000000000000001,
            0.8,
            0.9,
            1,
            1.1,
            1.2000000000000002,
            1.3,
            1.4000000000000001,
            1.5,
            1.6,
            1.7000000000000002,
            1.8,
            1.9000000000000001,
            2,
            2.1,
            2.2,
            2.3000000000000003,
            2.4000000000000004,
            2.5,
            2.6,
            2.7,
            2.8000000000000003,
            2.9000000000000004,
            3
           ],
           "y": [
            0,
            0.010000000000000002,
            0.04000000000000001,
            0.09000000000000002,
            0.16000000000000003,
            0.25,
            0.3600000000000001,
            0.4900000000000001,
            0.6400000000000001,
            0.81,
            1,
            1.2100000000000002,
            1.4400000000000004,
            1.6900000000000002,
            1.9600000000000004,
            2.25,
            2.5600000000000005,
            2.8900000000000006,
            3.24,
            3.6100000000000003,
            4,
            4.41,
            4.840000000000001,
            5.290000000000001,
            5.760000000000002,
            6.25,
            6.760000000000001,
            7.290000000000001,
            7.840000000000002,
            8.410000000000002,
            9
           ]
          }
         ]
        },
        {
         "data": [
          {
           "marker": {
            "color": [
             0,
             0.09983341664682815,
             0.19866933079506122,
             0.2955202066613396,
             0.3894183423086505,
             0.479425538604203,
             0.5646424733950355,
             0.6442176872376911,
             0.7173560908995228,
             0.7833269096274834,
             0.8414709848078965,
             0.8912073600614354,
             0.9320390859672264,
             0.963558185417193,
             0.9854497299884603,
             0.9974949866040544,
             0.9995736030415051,
             0.9916648104524686,
             0.9738476308781951,
             0.9463000876874145,
             0.9092974268256817,
             0.8632093666488737,
             0.8084964038195901,
             0.74570521217672,
             0.6754631805511506,
             0.5984721441039564,
             0.5155013718214642,
             0.4273798802338298,
             0.33498815015590466,
             0.23924932921398198,
             0.1411200080598672,
             0.04158066243329049
            ]
           },
           "type": "scatter",
           "x": [
            0,
            0.1,
            0.2,
            0.30000000000000004,
            0.4,
            0.5,
            0.6000000000000001,
            0.7000000000000001,
            0.8,
            0.9,
            1,
            1.1,
            1.2000000000000002,
            1.3,
            1.4000000000000001,
            1.5,
            1.6,
            1.7000000000000002,
            1.8,
            1.9000000000000001,
            2,
            2.1,
            2.2,
            2.3000000000000003,
            2.4000000000000004,
            2.5,
            2.6,
            2.7,
            2.8000000000000003,
            2.9000000000000004,
            3,
            3.1
           ],
           "y": [
            0,
            0.010000000000000002,
            0.04000000000000001,
            0.09000000000000002,
            0.16000000000000003,
            0.25,
            0.3600000000000001,
            0.4900000000000001,
            0.6400000000000001,
            0.81,
            1,
            1.2100000000000002,
            1.4400000000000004,
            1.6900000000000002,
            1.9600000000000004,
            2.25,
            2.5600000000000005,
            2.8900000000000006,
            3.24,
            3.6100000000000003,
            4,
            4.41,
            4.840000000000001,
            5.290000000000001,
            5.760000000000002,
            6.25,
            6.760000000000001,
            7.290000000000001,
            7.840000000000002,
            8.410000000000002,
            9,
            9.610000000000001
           ]
          }
         ]
        },
        {
         "data": [
          {
           "marker": {
            "color": [
             0,
             0.09983341664682815,
             0.19866933079506122,
             0.2955202066613396,
             0.3894183423086505,
             0.479425538604203,
             0.5646424733950355,
             0.6442176872376911,
             0.7173560908995228,
             0.7833269096274834,
             0.8414709848078965,
             0.8912073600614354,
             0.9320390859672264,
             0.963558185417193,
             0.9854497299884603,
             0.9974949866040544,
             0.9995736030415051,
             0.9916648104524686,
             0.9738476308781951,
             0.9463000876874145,
             0.9092974268256817,
             0.8632093666488737,
             0.8084964038195901,
             0.74570521217672,
             0.6754631805511506,
             0.5984721441039564,
             0.5155013718214642,
             0.4273798802338298,
             0.33498815015590466,
             0.23924932921398198,
             0.1411200080598672,
             0.04158066243329049,
             -0.058374143427580086
            ]
           },
           "type": "scatter",
           "x": [
            0,
            0.1,
            0.2,
            0.30000000000000004,
            0.4,
            0.5,
            0.6000000000000001,
            0.7000000000000001,
            0.8,
            0.9,
            1,
            1.1,
            1.2000000000000002,
            1.3,
            1.4000000000000001,
            1.5,
            1.6,
            1.7000000000000002,
            1.8,
            1.9000000000000001,
            2,
            2.1,
            2.2,
            2.3000000000000003,
            2.4000000000000004,
            2.5,
            2.6,
            2.7,
            2.8000000000000003,
            2.9000000000000004,
            3,
            3.1,
            3.2
           ],
           "y": [
            0,
            0.010000000000000002,
            0.04000000000000001,
            0.09000000000000002,
            0.16000000000000003,
            0.25,
            0.3600000000000001,
            0.4900000000000001,
            0.6400000000000001,
            0.81,
            1,
            1.2100000000000002,
            1.4400000000000004,
            1.6900000000000002,
            1.9600000000000004,
            2.25,
            2.5600000000000005,
            2.8900000000000006,
            3.24,
            3.6100000000000003,
            4,
            4.41,
            4.840000000000001,
            5.290000000000001,
            5.760000000000002,
            6.25,
            6.760000000000001,
            7.290000000000001,
            7.840000000000002,
            8.410000000000002,
            9,
            9.610000000000001,
            10.240000000000002
           ]
          }
         ]
        },
        {
         "data": [
          {
           "marker": {
            "color": [
             0,
             0.09983341664682815,
             0.19866933079506122,
             0.2955202066613396,
             0.3894183423086505,
             0.479425538604203,
             0.5646424733950355,
             0.6442176872376911,
             0.7173560908995228,
             0.7833269096274834,
             0.8414709848078965,
             0.8912073600614354,
             0.9320390859672264,
             0.963558185417193,
             0.9854497299884603,
             0.9974949866040544,
             0.9995736030415051,
             0.9916648104524686,
             0.9738476308781951,
             0.9463000876874145,
             0.9092974268256817,
             0.8632093666488737,
             0.8084964038195901,
             0.74570521217672,
             0.6754631805511506,
             0.5984721441039564,
             0.5155013718214642,
             0.4273798802338298,
             0.33498815015590466,
             0.23924932921398198,
             0.1411200080598672,
             0.04158066243329049,
             -0.058374143427580086,
             -0.15774569414324865
            ]
           },
           "type": "scatter",
           "x": [
            0,
            0.1,
            0.2,
            0.30000000000000004,
            0.4,
            0.5,
            0.6000000000000001,
            0.7000000000000001,
            0.8,
            0.9,
            1,
            1.1,
            1.2000000000000002,
            1.3,
            1.4000000000000001,
            1.5,
            1.6,
            1.7000000000000002,
            1.8,
            1.9000000000000001,
            2,
            2.1,
            2.2,
            2.3000000000000003,
            2.4000000000000004,
            2.5,
            2.6,
            2.7,
            2.8000000000000003,
            2.9000000000000004,
            3,
            3.1,
            3.2,
            3.3000000000000003
           ],
           "y": [
            0,
            0.010000000000000002,
            0.04000000000000001,
            0.09000000000000002,
            0.16000000000000003,
            0.25,
            0.3600000000000001,
            0.4900000000000001,
            0.6400000000000001,
            0.81,
            1,
            1.2100000000000002,
            1.4400000000000004,
            1.6900000000000002,
            1.9600000000000004,
            2.25,
            2.5600000000000005,
            2.8900000000000006,
            3.24,
            3.6100000000000003,
            4,
            4.41,
            4.840000000000001,
            5.290000000000001,
            5.760000000000002,
            6.25,
            6.760000000000001,
            7.290000000000001,
            7.840000000000002,
            8.410000000000002,
            9,
            9.610000000000001,
            10.240000000000002,
            10.890000000000002
           ]
          }
         ]
        },
        {
         "data": [
          {
           "marker": {
            "color": [
             0,
             0.09983341664682815,
             0.19866933079506122,
             0.2955202066613396,
             0.3894183423086505,
             0.479425538604203,
             0.5646424733950355,
             0.6442176872376911,
             0.7173560908995228,
             0.7833269096274834,
             0.8414709848078965,
             0.8912073600614354,
             0.9320390859672264,
             0.963558185417193,
             0.9854497299884603,
             0.9974949866040544,
             0.9995736030415051,
             0.9916648104524686,
             0.9738476308781951,
             0.9463000876874145,
             0.9092974268256817,
             0.8632093666488737,
             0.8084964038195901,
             0.74570521217672,
             0.6754631805511506,
             0.5984721441039564,
             0.5155013718214642,
             0.4273798802338298,
             0.33498815015590466,
             0.23924932921398198,
             0.1411200080598672,
             0.04158066243329049,
             -0.058374143427580086,
             -0.15774569414324865,
             -0.25554110202683167
            ]
           },
           "type": "scatter",
           "x": [
            0,
            0.1,
            0.2,
            0.30000000000000004,
            0.4,
            0.5,
            0.6000000000000001,
            0.7000000000000001,
            0.8,
            0.9,
            1,
            1.1,
            1.2000000000000002,
            1.3,
            1.4000000000000001,
            1.5,
            1.6,
            1.7000000000000002,
            1.8,
            1.9000000000000001,
            2,
            2.1,
            2.2,
            2.3000000000000003,
            2.4000000000000004,
            2.5,
            2.6,
            2.7,
            2.8000000000000003,
            2.9000000000000004,
            3,
            3.1,
            3.2,
            3.3000000000000003,
            3.4000000000000004
           ],
           "y": [
            0,
            0.010000000000000002,
            0.04000000000000001,
            0.09000000000000002,
            0.16000000000000003,
            0.25,
            0.3600000000000001,
            0.4900000000000001,
            0.6400000000000001,
            0.81,
            1,
            1.2100000000000002,
            1.4400000000000004,
            1.6900000000000002,
            1.9600000000000004,
            2.25,
            2.5600000000000005,
            2.8900000000000006,
            3.24,
            3.6100000000000003,
            4,
            4.41,
            4.840000000000001,
            5.290000000000001,
            5.760000000000002,
            6.25,
            6.760000000000001,
            7.290000000000001,
            7.840000000000002,
            8.410000000000002,
            9,
            9.610000000000001,
            10.240000000000002,
            10.890000000000002,
            11.560000000000002
           ]
          }
         ]
        },
        {
         "data": [
          {
           "marker": {
            "color": [
             0,
             0.09983341664682815,
             0.19866933079506122,
             0.2955202066613396,
             0.3894183423086505,
             0.479425538604203,
             0.5646424733950355,
             0.6442176872376911,
             0.7173560908995228,
             0.7833269096274834,
             0.8414709848078965,
             0.8912073600614354,
             0.9320390859672264,
             0.963558185417193,
             0.9854497299884603,
             0.9974949866040544,
             0.9995736030415051,
             0.9916648104524686,
             0.9738476308781951,
             0.9463000876874145,
             0.9092974268256817,
             0.8632093666488737,
             0.8084964038195901,
             0.74570521217672,
             0.6754631805511506,
             0.5984721441039564,
             0.5155013718214642,
             0.4273798802338298,
             0.33498815015590466,
             0.23924932921398198,
             0.1411200080598672,
             0.04158066243329049,
             -0.058374143427580086,
             -0.15774569414324865,
             -0.25554110202683167,
             -0.35078322768961984
            ]
           },
           "type": "scatter",
           "x": [
            0,
            0.1,
            0.2,
            0.30000000000000004,
            0.4,
            0.5,
            0.6000000000000001,
            0.7000000000000001,
            0.8,
            0.9,
            1,
            1.1,
            1.2000000000000002,
            1.3,
            1.4000000000000001,
            1.5,
            1.6,
            1.7000000000000002,
            1.8,
            1.9000000000000001,
            2,
            2.1,
            2.2,
            2.3000000000000003,
            2.4000000000000004,
            2.5,
            2.6,
            2.7,
            2.8000000000000003,
            2.9000000000000004,
            3,
            3.1,
            3.2,
            3.3000000000000003,
            3.4000000000000004,
            3.5
           ],
           "y": [
            0,
            0.010000000000000002,
            0.04000000000000001,
            0.09000000000000002,
            0.16000000000000003,
            0.25,
            0.3600000000000001,
            0.4900000000000001,
            0.6400000000000001,
            0.81,
            1,
            1.2100000000000002,
            1.4400000000000004,
            1.6900000000000002,
            1.9600000000000004,
            2.25,
            2.5600000000000005,
            2.8900000000000006,
            3.24,
            3.6100000000000003,
            4,
            4.41,
            4.840000000000001,
            5.290000000000001,
            5.760000000000002,
            6.25,
            6.760000000000001,
            7.290000000000001,
            7.840000000000002,
            8.410000000000002,
            9,
            9.610000000000001,
            10.240000000000002,
            10.890000000000002,
            11.560000000000002,
            12.25
           ]
          }
         ]
        },
        {
         "data": [
          {
           "marker": {
            "color": [
             0,
             0.09983341664682815,
             0.19866933079506122,
             0.2955202066613396,
             0.3894183423086505,
             0.479425538604203,
             0.5646424733950355,
             0.6442176872376911,
             0.7173560908995228,
             0.7833269096274834,
             0.8414709848078965,
             0.8912073600614354,
             0.9320390859672264,
             0.963558185417193,
             0.9854497299884603,
             0.9974949866040544,
             0.9995736030415051,
             0.9916648104524686,
             0.9738476308781951,
             0.9463000876874145,
             0.9092974268256817,
             0.8632093666488737,
             0.8084964038195901,
             0.74570521217672,
             0.6754631805511506,
             0.5984721441039564,
             0.5155013718214642,
             0.4273798802338298,
             0.33498815015590466,
             0.23924932921398198,
             0.1411200080598672,
             0.04158066243329049,
             -0.058374143427580086,
             -0.15774569414324865,
             -0.25554110202683167,
             -0.35078322768961984,
             -0.44252044329485246
            ]
           },
           "type": "scatter",
           "x": [
            0,
            0.1,
            0.2,
            0.30000000000000004,
            0.4,
            0.5,
            0.6000000000000001,
            0.7000000000000001,
            0.8,
            0.9,
            1,
            1.1,
            1.2000000000000002,
            1.3,
            1.4000000000000001,
            1.5,
            1.6,
            1.7000000000000002,
            1.8,
            1.9000000000000001,
            2,
            2.1,
            2.2,
            2.3000000000000003,
            2.4000000000000004,
            2.5,
            2.6,
            2.7,
            2.8000000000000003,
            2.9000000000000004,
            3,
            3.1,
            3.2,
            3.3000000000000003,
            3.4000000000000004,
            3.5,
            3.6
           ],
           "y": [
            0,
            0.010000000000000002,
            0.04000000000000001,
            0.09000000000000002,
            0.16000000000000003,
            0.25,
            0.3600000000000001,
            0.4900000000000001,
            0.6400000000000001,
            0.81,
            1,
            1.2100000000000002,
            1.4400000000000004,
            1.6900000000000002,
            1.9600000000000004,
            2.25,
            2.5600000000000005,
            2.8900000000000006,
            3.24,
            3.6100000000000003,
            4,
            4.41,
            4.840000000000001,
            5.290000000000001,
            5.760000000000002,
            6.25,
            6.760000000000001,
            7.290000000000001,
            7.840000000000002,
            8.410000000000002,
            9,
            9.610000000000001,
            10.240000000000002,
            10.890000000000002,
            11.560000000000002,
            12.25,
            12.96
           ]
          }
         ]
        },
        {
         "data": [
          {
           "marker": {
            "color": [
             0,
             0.09983341664682815,
             0.19866933079506122,
             0.2955202066613396,
             0.3894183423086505,
             0.479425538604203,
             0.5646424733950355,
             0.6442176872376911,
             0.7173560908995228,
             0.7833269096274834,
             0.8414709848078965,
             0.8912073600614354,
             0.9320390859672264,
             0.963558185417193,
             0.9854497299884603,
             0.9974949866040544,
             0.9995736030415051,
             0.9916648104524686,
             0.9738476308781951,
             0.9463000876874145,
             0.9092974268256817,
             0.8632093666488737,
             0.8084964038195901,
             0.74570521217672,
             0.6754631805511506,
             0.5984721441039564,
             0.5155013718214642,
             0.4273798802338298,
             0.33498815015590466,
             0.23924932921398198,
             0.1411200080598672,
             0.04158066243329049,
             -0.058374143427580086,
             -0.15774569414324865,
             -0.25554110202683167,
             -0.35078322768961984,
             -0.44252044329485246,
             -0.5298361409084934
            ]
           },
           "type": "scatter",
           "x": [
            0,
            0.1,
            0.2,
            0.30000000000000004,
            0.4,
            0.5,
            0.6000000000000001,
            0.7000000000000001,
            0.8,
            0.9,
            1,
            1.1,
            1.2000000000000002,
            1.3,
            1.4000000000000001,
            1.5,
            1.6,
            1.7000000000000002,
            1.8,
            1.9000000000000001,
            2,
            2.1,
            2.2,
            2.3000000000000003,
            2.4000000000000004,
            2.5,
            2.6,
            2.7,
            2.8000000000000003,
            2.9000000000000004,
            3,
            3.1,
            3.2,
            3.3000000000000003,
            3.4000000000000004,
            3.5,
            3.6,
            3.7
           ],
           "y": [
            0,
            0.010000000000000002,
            0.04000000000000001,
            0.09000000000000002,
            0.16000000000000003,
            0.25,
            0.3600000000000001,
            0.4900000000000001,
            0.6400000000000001,
            0.81,
            1,
            1.2100000000000002,
            1.4400000000000004,
            1.6900000000000002,
            1.9600000000000004,
            2.25,
            2.5600000000000005,
            2.8900000000000006,
            3.24,
            3.6100000000000003,
            4,
            4.41,
            4.840000000000001,
            5.290000000000001,
            5.760000000000002,
            6.25,
            6.760000000000001,
            7.290000000000001,
            7.840000000000002,
            8.410000000000002,
            9,
            9.610000000000001,
            10.240000000000002,
            10.890000000000002,
            11.560000000000002,
            12.25,
            12.96,
            13.690000000000001
           ]
          }
         ]
        },
        {
         "data": [
          {
           "marker": {
            "color": [
             0,
             0.09983341664682815,
             0.19866933079506122,
             0.2955202066613396,
             0.3894183423086505,
             0.479425538604203,
             0.5646424733950355,
             0.6442176872376911,
             0.7173560908995228,
             0.7833269096274834,
             0.8414709848078965,
             0.8912073600614354,
             0.9320390859672264,
             0.963558185417193,
             0.9854497299884603,
             0.9974949866040544,
             0.9995736030415051,
             0.9916648104524686,
             0.9738476308781951,
             0.9463000876874145,
             0.9092974268256817,
             0.8632093666488737,
             0.8084964038195901,
             0.74570521217672,
             0.6754631805511506,
             0.5984721441039564,
             0.5155013718214642,
             0.4273798802338298,
             0.33498815015590466,
             0.23924932921398198,
             0.1411200080598672,
             0.04158066243329049,
             -0.058374143427580086,
             -0.15774569414324865,
             -0.25554110202683167,
             -0.35078322768961984,
             -0.44252044329485246,
             -0.5298361409084934,
             -0.6118578909427193
            ]
           },
           "type": "scatter",
           "x": [
            0,
            0.1,
            0.2,
            0.30000000000000004,
            0.4,
            0.5,
            0.6000000000000001,
            0.7000000000000001,
            0.8,
            0.9,
            1,
            1.1,
            1.2000000000000002,
            1.3,
            1.4000000000000001,
            1.5,
            1.6,
            1.7000000000000002,
            1.8,
            1.9000000000000001,
            2,
            2.1,
            2.2,
            2.3000000000000003,
            2.4000000000000004,
            2.5,
            2.6,
            2.7,
            2.8000000000000003,
            2.9000000000000004,
            3,
            3.1,
            3.2,
            3.3000000000000003,
            3.4000000000000004,
            3.5,
            3.6,
            3.7,
            3.8000000000000003
           ],
           "y": [
            0,
            0.010000000000000002,
            0.04000000000000001,
            0.09000000000000002,
            0.16000000000000003,
            0.25,
            0.3600000000000001,
            0.4900000000000001,
            0.6400000000000001,
            0.81,
            1,
            1.2100000000000002,
            1.4400000000000004,
            1.6900000000000002,
            1.9600000000000004,
            2.25,
            2.5600000000000005,
            2.8900000000000006,
            3.24,
            3.6100000000000003,
            4,
            4.41,
            4.840000000000001,
            5.290000000000001,
            5.760000000000002,
            6.25,
            6.760000000000001,
            7.290000000000001,
            7.840000000000002,
            8.410000000000002,
            9,
            9.610000000000001,
            10.240000000000002,
            10.890000000000002,
            11.560000000000002,
            12.25,
            12.96,
            13.690000000000001,
            14.440000000000001
           ]
          }
         ]
        },
        {
         "data": [
          {
           "marker": {
            "color": [
             0,
             0.09983341664682815,
             0.19866933079506122,
             0.2955202066613396,
             0.3894183423086505,
             0.479425538604203,
             0.5646424733950355,
             0.6442176872376911,
             0.7173560908995228,
             0.7833269096274834,
             0.8414709848078965,
             0.8912073600614354,
             0.9320390859672264,
             0.963558185417193,
             0.9854497299884603,
             0.9974949866040544,
             0.9995736030415051,
             0.9916648104524686,
             0.9738476308781951,
             0.9463000876874145,
             0.9092974268256817,
             0.8632093666488737,
             0.8084964038195901,
             0.74570521217672,
             0.6754631805511506,
             0.5984721441039564,
             0.5155013718214642,
             0.4273798802338298,
             0.33498815015590466,
             0.23924932921398198,
             0.1411200080598672,
             0.04158066243329049,
             -0.058374143427580086,
             -0.15774569414324865,
             -0.25554110202683167,
             -0.35078322768961984,
             -0.44252044329485246,
             -0.5298361409084934,
             -0.6118578909427193,
             -0.6877661591839741
            ]
           },
           "type": "scatter",
           "x": [
            0,
            0.1,
            0.2,
            0.30000000000000004,
            0.4,
            0.5,
            0.6000000000000001,
            0.7000000000000001,
            0.8,
            0.9,
            1,
            1.1,
            1.2000000000000002,
            1.3,
            1.4000000000000001,
            1.5,
            1.6,
            1.7000000000000002,
            1.8,
            1.9000000000000001,
            2,
            2.1,
            2.2,
            2.3000000000000003,
            2.4000000000000004,
            2.5,
            2.6,
            2.7,
            2.8000000000000003,
            2.9000000000000004,
            3,
            3.1,
            3.2,
            3.3000000000000003,
            3.4000000000000004,
            3.5,
            3.6,
            3.7,
            3.8000000000000003,
            3.9000000000000004
           ],
           "y": [
            0,
            0.010000000000000002,
            0.04000000000000001,
            0.09000000000000002,
            0.16000000000000003,
            0.25,
            0.3600000000000001,
            0.4900000000000001,
            0.6400000000000001,
            0.81,
            1,
            1.2100000000000002,
            1.4400000000000004,
            1.6900000000000002,
            1.9600000000000004,
            2.25,
            2.5600000000000005,
            2.8900000000000006,
            3.24,
            3.6100000000000003,
            4,
            4.41,
            4.840000000000001,
            5.290000000000001,
            5.760000000000002,
            6.25,
            6.760000000000001,
            7.290000000000001,
            7.840000000000002,
            8.410000000000002,
            9,
            9.610000000000001,
            10.240000000000002,
            10.890000000000002,
            11.560000000000002,
            12.25,
            12.96,
            13.690000000000001,
            14.440000000000001,
            15.210000000000003
           ]
          }
         ]
        },
        {
         "data": [
          {
           "marker": {
            "color": [
             0,
             0.09983341664682815,
             0.19866933079506122,
             0.2955202066613396,
             0.3894183423086505,
             0.479425538604203,
             0.5646424733950355,
             0.6442176872376911,
             0.7173560908995228,
             0.7833269096274834,
             0.8414709848078965,
             0.8912073600614354,
             0.9320390859672264,
             0.963558185417193,
             0.9854497299884603,
             0.9974949866040544,
             0.9995736030415051,
             0.9916648104524686,
             0.9738476308781951,
             0.9463000876874145,
             0.9092974268256817,
             0.8632093666488737,
             0.8084964038195901,
             0.74570521217672,
             0.6754631805511506,
             0.5984721441039564,
             0.5155013718214642,
             0.4273798802338298,
             0.33498815015590466,
             0.23924932921398198,
             0.1411200080598672,
             0.04158066243329049,
             -0.058374143427580086,
             -0.15774569414324865,
             -0.25554110202683167,
             -0.35078322768961984,
             -0.44252044329485246,
             -0.5298361409084934,
             -0.6118578909427193,
             -0.6877661591839741,
             -0.7568024953079282
            ]
           },
           "type": "scatter",
           "x": [
            0,
            0.1,
            0.2,
            0.30000000000000004,
            0.4,
            0.5,
            0.6000000000000001,
            0.7000000000000001,
            0.8,
            0.9,
            1,
            1.1,
            1.2000000000000002,
            1.3,
            1.4000000000000001,
            1.5,
            1.6,
            1.7000000000000002,
            1.8,
            1.9000000000000001,
            2,
            2.1,
            2.2,
            2.3000000000000003,
            2.4000000000000004,
            2.5,
            2.6,
            2.7,
            2.8000000000000003,
            2.9000000000000004,
            3,
            3.1,
            3.2,
            3.3000000000000003,
            3.4000000000000004,
            3.5,
            3.6,
            3.7,
            3.8000000000000003,
            3.9000000000000004,
            4
           ],
           "y": [
            0,
            0.010000000000000002,
            0.04000000000000001,
            0.09000000000000002,
            0.16000000000000003,
            0.25,
            0.3600000000000001,
            0.4900000000000001,
            0.6400000000000001,
            0.81,
            1,
            1.2100000000000002,
            1.4400000000000004,
            1.6900000000000002,
            1.9600000000000004,
            2.25,
            2.5600000000000005,
            2.8900000000000006,
            3.24,
            3.6100000000000003,
            4,
            4.41,
            4.840000000000001,
            5.290000000000001,
            5.760000000000002,
            6.25,
            6.760000000000001,
            7.290000000000001,
            7.840000000000002,
            8.410000000000002,
            9,
            9.610000000000001,
            10.240000000000002,
            10.890000000000002,
            11.560000000000002,
            12.25,
            12.96,
            13.690000000000001,
            14.440000000000001,
            15.210000000000003,
            16
           ]
          }
         ]
        },
        {
         "data": [
          {
           "marker": {
            "color": [
             0,
             0.09983341664682815,
             0.19866933079506122,
             0.2955202066613396,
             0.3894183423086505,
             0.479425538604203,
             0.5646424733950355,
             0.6442176872376911,
             0.7173560908995228,
             0.7833269096274834,
             0.8414709848078965,
             0.8912073600614354,
             0.9320390859672264,
             0.963558185417193,
             0.9854497299884603,
             0.9974949866040544,
             0.9995736030415051,
             0.9916648104524686,
             0.9738476308781951,
             0.9463000876874145,
             0.9092974268256817,
             0.8632093666488737,
             0.8084964038195901,
             0.74570521217672,
             0.6754631805511506,
             0.5984721441039564,
             0.5155013718214642,
             0.4273798802338298,
             0.33498815015590466,
             0.23924932921398198,
             0.1411200080598672,
             0.04158066243329049,
             -0.058374143427580086,
             -0.15774569414324865,
             -0.25554110202683167,
             -0.35078322768961984,
             -0.44252044329485246,
             -0.5298361409084934,
             -0.6118578909427193,
             -0.6877661591839741,
             -0.7568024953079282,
             -0.8182771110644108
            ]
           },
           "type": "scatter",
           "x": [
            0,
            0.1,
            0.2,
            0.30000000000000004,
            0.4,
            0.5,
            0.6000000000000001,
            0.7000000000000001,
            0.8,
            0.9,
            1,
            1.1,
            1.2000000000000002,
            1.3,
            1.4000000000000001,
            1.5,
            1.6,
            1.7000000000000002,
            1.8,
            1.9000000000000001,
            2,
            2.1,
            2.2,
            2.3000000000000003,
            2.4000000000000004,
            2.5,
            2.6,
            2.7,
            2.8000000000000003,
            2.9000000000000004,
            3,
            3.1,
            3.2,
            3.3000000000000003,
            3.4000000000000004,
            3.5,
            3.6,
            3.7,
            3.8000000000000003,
            3.9000000000000004,
            4,
            4.1000000000000005
           ],
           "y": [
            0,
            0.010000000000000002,
            0.04000000000000001,
            0.09000000000000002,
            0.16000000000000003,
            0.25,
            0.3600000000000001,
            0.4900000000000001,
            0.6400000000000001,
            0.81,
            1,
            1.2100000000000002,
            1.4400000000000004,
            1.6900000000000002,
            1.9600000000000004,
            2.25,
            2.5600000000000005,
            2.8900000000000006,
            3.24,
            3.6100000000000003,
            4,
            4.41,
            4.840000000000001,
            5.290000000000001,
            5.760000000000002,
            6.25,
            6.760000000000001,
            7.290000000000001,
            7.840000000000002,
            8.410000000000002,
            9,
            9.610000000000001,
            10.240000000000002,
            10.890000000000002,
            11.560000000000002,
            12.25,
            12.96,
            13.690000000000001,
            14.440000000000001,
            15.210000000000003,
            16,
            16.810000000000006
           ]
          }
         ]
        },
        {
         "data": [
          {
           "marker": {
            "color": [
             0,
             0.09983341664682815,
             0.19866933079506122,
             0.2955202066613396,
             0.3894183423086505,
             0.479425538604203,
             0.5646424733950355,
             0.6442176872376911,
             0.7173560908995228,
             0.7833269096274834,
             0.8414709848078965,
             0.8912073600614354,
             0.9320390859672264,
             0.963558185417193,
             0.9854497299884603,
             0.9974949866040544,
             0.9995736030415051,
             0.9916648104524686,
             0.9738476308781951,
             0.9463000876874145,
             0.9092974268256817,
             0.8632093666488737,
             0.8084964038195901,
             0.74570521217672,
             0.6754631805511506,
             0.5984721441039564,
             0.5155013718214642,
             0.4273798802338298,
             0.33498815015590466,
             0.23924932921398198,
             0.1411200080598672,
             0.04158066243329049,
             -0.058374143427580086,
             -0.15774569414324865,
             -0.25554110202683167,
             -0.35078322768961984,
             -0.44252044329485246,
             -0.5298361409084934,
             -0.6118578909427193,
             -0.6877661591839741,
             -0.7568024953079282,
             -0.8182771110644108,
             -0.8715757724135882
            ]
           },
           "type": "scatter",
           "x": [
            0,
            0.1,
            0.2,
            0.30000000000000004,
            0.4,
            0.5,
            0.6000000000000001,
            0.7000000000000001,
            0.8,
            0.9,
            1,
            1.1,
            1.2000000000000002,
            1.3,
            1.4000000000000001,
            1.5,
            1.6,
            1.7000000000000002,
            1.8,
            1.9000000000000001,
            2,
            2.1,
            2.2,
            2.3000000000000003,
            2.4000000000000004,
            2.5,
            2.6,
            2.7,
            2.8000000000000003,
            2.9000000000000004,
            3,
            3.1,
            3.2,
            3.3000000000000003,
            3.4000000000000004,
            3.5,
            3.6,
            3.7,
            3.8000000000000003,
            3.9000000000000004,
            4,
            4.1000000000000005,
            4.2
           ],
           "y": [
            0,
            0.010000000000000002,
            0.04000000000000001,
            0.09000000000000002,
            0.16000000000000003,
            0.25,
            0.3600000000000001,
            0.4900000000000001,
            0.6400000000000001,
            0.81,
            1,
            1.2100000000000002,
            1.4400000000000004,
            1.6900000000000002,
            1.9600000000000004,
            2.25,
            2.5600000000000005,
            2.8900000000000006,
            3.24,
            3.6100000000000003,
            4,
            4.41,
            4.840000000000001,
            5.290000000000001,
            5.760000000000002,
            6.25,
            6.760000000000001,
            7.290000000000001,
            7.840000000000002,
            8.410000000000002,
            9,
            9.610000000000001,
            10.240000000000002,
            10.890000000000002,
            11.560000000000002,
            12.25,
            12.96,
            13.690000000000001,
            14.440000000000001,
            15.210000000000003,
            16,
            16.810000000000006,
            17.64
           ]
          }
         ]
        },
        {
         "data": [
          {
           "marker": {
            "color": [
             0,
             0.09983341664682815,
             0.19866933079506122,
             0.2955202066613396,
             0.3894183423086505,
             0.479425538604203,
             0.5646424733950355,
             0.6442176872376911,
             0.7173560908995228,
             0.7833269096274834,
             0.8414709848078965,
             0.8912073600614354,
             0.9320390859672264,
             0.963558185417193,
             0.9854497299884603,
             0.9974949866040544,
             0.9995736030415051,
             0.9916648104524686,
             0.9738476308781951,
             0.9463000876874145,
             0.9092974268256817,
             0.8632093666488737,
             0.8084964038195901,
             0.74570521217672,
             0.6754631805511506,
             0.5984721441039564,
             0.5155013718214642,
             0.4273798802338298,
             0.33498815015590466,
             0.23924932921398198,
             0.1411200080598672,
             0.04158066243329049,
             -0.058374143427580086,
             -0.15774569414324865,
             -0.25554110202683167,
             -0.35078322768961984,
             -0.44252044329485246,
             -0.5298361409084934,
             -0.6118578909427193,
             -0.6877661591839741,
             -0.7568024953079282,
             -0.8182771110644108,
             -0.8715757724135882,
             -0.9161659367494549
            ]
           },
           "type": "scatter",
           "x": [
            0,
            0.1,
            0.2,
            0.30000000000000004,
            0.4,
            0.5,
            0.6000000000000001,
            0.7000000000000001,
            0.8,
            0.9,
            1,
            1.1,
            1.2000000000000002,
            1.3,
            1.4000000000000001,
            1.5,
            1.6,
            1.7000000000000002,
            1.8,
            1.9000000000000001,
            2,
            2.1,
            2.2,
            2.3000000000000003,
            2.4000000000000004,
            2.5,
            2.6,
            2.7,
            2.8000000000000003,
            2.9000000000000004,
            3,
            3.1,
            3.2,
            3.3000000000000003,
            3.4000000000000004,
            3.5,
            3.6,
            3.7,
            3.8000000000000003,
            3.9000000000000004,
            4,
            4.1000000000000005,
            4.2,
            4.3
           ],
           "y": [
            0,
            0.010000000000000002,
            0.04000000000000001,
            0.09000000000000002,
            0.16000000000000003,
            0.25,
            0.3600000000000001,
            0.4900000000000001,
            0.6400000000000001,
            0.81,
            1,
            1.2100000000000002,
            1.4400000000000004,
            1.6900000000000002,
            1.9600000000000004,
            2.25,
            2.5600000000000005,
            2.8900000000000006,
            3.24,
            3.6100000000000003,
            4,
            4.41,
            4.840000000000001,
            5.290000000000001,
            5.760000000000002,
            6.25,
            6.760000000000001,
            7.290000000000001,
            7.840000000000002,
            8.410000000000002,
            9,
            9.610000000000001,
            10.240000000000002,
            10.890000000000002,
            11.560000000000002,
            12.25,
            12.96,
            13.690000000000001,
            14.440000000000001,
            15.210000000000003,
            16,
            16.810000000000006,
            17.64,
            18.49
           ]
          }
         ]
        },
        {
         "data": [
          {
           "marker": {
            "color": [
             0,
             0.09983341664682815,
             0.19866933079506122,
             0.2955202066613396,
             0.3894183423086505,
             0.479425538604203,
             0.5646424733950355,
             0.6442176872376911,
             0.7173560908995228,
             0.7833269096274834,
             0.8414709848078965,
             0.8912073600614354,
             0.9320390859672264,
             0.963558185417193,
             0.9854497299884603,
             0.9974949866040544,
             0.9995736030415051,
             0.9916648104524686,
             0.9738476308781951,
             0.9463000876874145,
             0.9092974268256817,
             0.8632093666488737,
             0.8084964038195901,
             0.74570521217672,
             0.6754631805511506,
             0.5984721441039564,
             0.5155013718214642,
             0.4273798802338298,
             0.33498815015590466,
             0.23924932921398198,
             0.1411200080598672,
             0.04158066243329049,
             -0.058374143427580086,
             -0.15774569414324865,
             -0.25554110202683167,
             -0.35078322768961984,
             -0.44252044329485246,
             -0.5298361409084934,
             -0.6118578909427193,
             -0.6877661591839741,
             -0.7568024953079282,
             -0.8182771110644108,
             -0.8715757724135882,
             -0.9161659367494549,
             -0.9516020738895161
            ]
           },
           "type": "scatter",
           "x": [
            0,
            0.1,
            0.2,
            0.30000000000000004,
            0.4,
            0.5,
            0.6000000000000001,
            0.7000000000000001,
            0.8,
            0.9,
            1,
            1.1,
            1.2000000000000002,
            1.3,
            1.4000000000000001,
            1.5,
            1.6,
            1.7000000000000002,
            1.8,
            1.9000000000000001,
            2,
            2.1,
            2.2,
            2.3000000000000003,
            2.4000000000000004,
            2.5,
            2.6,
            2.7,
            2.8000000000000003,
            2.9000000000000004,
            3,
            3.1,
            3.2,
            3.3000000000000003,
            3.4000000000000004,
            3.5,
            3.6,
            3.7,
            3.8000000000000003,
            3.9000000000000004,
            4,
            4.1000000000000005,
            4.2,
            4.3,
            4.4
           ],
           "y": [
            0,
            0.010000000000000002,
            0.04000000000000001,
            0.09000000000000002,
            0.16000000000000003,
            0.25,
            0.3600000000000001,
            0.4900000000000001,
            0.6400000000000001,
            0.81,
            1,
            1.2100000000000002,
            1.4400000000000004,
            1.6900000000000002,
            1.9600000000000004,
            2.25,
            2.5600000000000005,
            2.8900000000000006,
            3.24,
            3.6100000000000003,
            4,
            4.41,
            4.840000000000001,
            5.290000000000001,
            5.760000000000002,
            6.25,
            6.760000000000001,
            7.290000000000001,
            7.840000000000002,
            8.410000000000002,
            9,
            9.610000000000001,
            10.240000000000002,
            10.890000000000002,
            11.560000000000002,
            12.25,
            12.96,
            13.690000000000001,
            14.440000000000001,
            15.210000000000003,
            16,
            16.810000000000006,
            17.64,
            18.49,
            19.360000000000003
           ]
          }
         ]
        },
        {
         "data": [
          {
           "marker": {
            "color": [
             0,
             0.09983341664682815,
             0.19866933079506122,
             0.2955202066613396,
             0.3894183423086505,
             0.479425538604203,
             0.5646424733950355,
             0.6442176872376911,
             0.7173560908995228,
             0.7833269096274834,
             0.8414709848078965,
             0.8912073600614354,
             0.9320390859672264,
             0.963558185417193,
             0.9854497299884603,
             0.9974949866040544,
             0.9995736030415051,
             0.9916648104524686,
             0.9738476308781951,
             0.9463000876874145,
             0.9092974268256817,
             0.8632093666488737,
             0.8084964038195901,
             0.74570521217672,
             0.6754631805511506,
             0.5984721441039564,
             0.5155013718214642,
             0.4273798802338298,
             0.33498815015590466,
             0.23924932921398198,
             0.1411200080598672,
             0.04158066243329049,
             -0.058374143427580086,
             -0.15774569414324865,
             -0.25554110202683167,
             -0.35078322768961984,
             -0.44252044329485246,
             -0.5298361409084934,
             -0.6118578909427193,
             -0.6877661591839741,
             -0.7568024953079282,
             -0.8182771110644108,
             -0.8715757724135882,
             -0.9161659367494549,
             -0.9516020738895161,
             -0.977530117665097
            ]
           },
           "type": "scatter",
           "x": [
            0,
            0.1,
            0.2,
            0.30000000000000004,
            0.4,
            0.5,
            0.6000000000000001,
            0.7000000000000001,
            0.8,
            0.9,
            1,
            1.1,
            1.2000000000000002,
            1.3,
            1.4000000000000001,
            1.5,
            1.6,
            1.7000000000000002,
            1.8,
            1.9000000000000001,
            2,
            2.1,
            2.2,
            2.3000000000000003,
            2.4000000000000004,
            2.5,
            2.6,
            2.7,
            2.8000000000000003,
            2.9000000000000004,
            3,
            3.1,
            3.2,
            3.3000000000000003,
            3.4000000000000004,
            3.5,
            3.6,
            3.7,
            3.8000000000000003,
            3.9000000000000004,
            4,
            4.1000000000000005,
            4.2,
            4.3,
            4.4,
            4.5
           ],
           "y": [
            0,
            0.010000000000000002,
            0.04000000000000001,
            0.09000000000000002,
            0.16000000000000003,
            0.25,
            0.3600000000000001,
            0.4900000000000001,
            0.6400000000000001,
            0.81,
            1,
            1.2100000000000002,
            1.4400000000000004,
            1.6900000000000002,
            1.9600000000000004,
            2.25,
            2.5600000000000005,
            2.8900000000000006,
            3.24,
            3.6100000000000003,
            4,
            4.41,
            4.840000000000001,
            5.290000000000001,
            5.760000000000002,
            6.25,
            6.760000000000001,
            7.290000000000001,
            7.840000000000002,
            8.410000000000002,
            9,
            9.610000000000001,
            10.240000000000002,
            10.890000000000002,
            11.560000000000002,
            12.25,
            12.96,
            13.690000000000001,
            14.440000000000001,
            15.210000000000003,
            16,
            16.810000000000006,
            17.64,
            18.49,
            19.360000000000003,
            20.25
           ]
          }
         ]
        },
        {
         "data": [
          {
           "marker": {
            "color": [
             0,
             0.09983341664682815,
             0.19866933079506122,
             0.2955202066613396,
             0.3894183423086505,
             0.479425538604203,
             0.5646424733950355,
             0.6442176872376911,
             0.7173560908995228,
             0.7833269096274834,
             0.8414709848078965,
             0.8912073600614354,
             0.9320390859672264,
             0.963558185417193,
             0.9854497299884603,
             0.9974949866040544,
             0.9995736030415051,
             0.9916648104524686,
             0.9738476308781951,
             0.9463000876874145,
             0.9092974268256817,
             0.8632093666488737,
             0.8084964038195901,
             0.74570521217672,
             0.6754631805511506,
             0.5984721441039564,
             0.5155013718214642,
             0.4273798802338298,
             0.33498815015590466,
             0.23924932921398198,
             0.1411200080598672,
             0.04158066243329049,
             -0.058374143427580086,
             -0.15774569414324865,
             -0.25554110202683167,
             -0.35078322768961984,
             -0.44252044329485246,
             -0.5298361409084934,
             -0.6118578909427193,
             -0.6877661591839741,
             -0.7568024953079282,
             -0.8182771110644108,
             -0.8715757724135882,
             -0.9161659367494549,
             -0.9516020738895161,
             -0.977530117665097,
             -0.9936910036334645
            ]
           },
           "type": "scatter",
           "x": [
            0,
            0.1,
            0.2,
            0.30000000000000004,
            0.4,
            0.5,
            0.6000000000000001,
            0.7000000000000001,
            0.8,
            0.9,
            1,
            1.1,
            1.2000000000000002,
            1.3,
            1.4000000000000001,
            1.5,
            1.6,
            1.7000000000000002,
            1.8,
            1.9000000000000001,
            2,
            2.1,
            2.2,
            2.3000000000000003,
            2.4000000000000004,
            2.5,
            2.6,
            2.7,
            2.8000000000000003,
            2.9000000000000004,
            3,
            3.1,
            3.2,
            3.3000000000000003,
            3.4000000000000004,
            3.5,
            3.6,
            3.7,
            3.8000000000000003,
            3.9000000000000004,
            4,
            4.1000000000000005,
            4.2,
            4.3,
            4.4,
            4.5,
            4.6000000000000005
           ],
           "y": [
            0,
            0.010000000000000002,
            0.04000000000000001,
            0.09000000000000002,
            0.16000000000000003,
            0.25,
            0.3600000000000001,
            0.4900000000000001,
            0.6400000000000001,
            0.81,
            1,
            1.2100000000000002,
            1.4400000000000004,
            1.6900000000000002,
            1.9600000000000004,
            2.25,
            2.5600000000000005,
            2.8900000000000006,
            3.24,
            3.6100000000000003,
            4,
            4.41,
            4.840000000000001,
            5.290000000000001,
            5.760000000000002,
            6.25,
            6.760000000000001,
            7.290000000000001,
            7.840000000000002,
            8.410000000000002,
            9,
            9.610000000000001,
            10.240000000000002,
            10.890000000000002,
            11.560000000000002,
            12.25,
            12.96,
            13.690000000000001,
            14.440000000000001,
            15.210000000000003,
            16,
            16.810000000000006,
            17.64,
            18.49,
            19.360000000000003,
            20.25,
            21.160000000000004
           ]
          }
         ]
        },
        {
         "data": [
          {
           "marker": {
            "color": [
             0,
             0.09983341664682815,
             0.19866933079506122,
             0.2955202066613396,
             0.3894183423086505,
             0.479425538604203,
             0.5646424733950355,
             0.6442176872376911,
             0.7173560908995228,
             0.7833269096274834,
             0.8414709848078965,
             0.8912073600614354,
             0.9320390859672264,
             0.963558185417193,
             0.9854497299884603,
             0.9974949866040544,
             0.9995736030415051,
             0.9916648104524686,
             0.9738476308781951,
             0.9463000876874145,
             0.9092974268256817,
             0.8632093666488737,
             0.8084964038195901,
             0.74570521217672,
             0.6754631805511506,
             0.5984721441039564,
             0.5155013718214642,
             0.4273798802338298,
             0.33498815015590466,
             0.23924932921398198,
             0.1411200080598672,
             0.04158066243329049,
             -0.058374143427580086,
             -0.15774569414324865,
             -0.25554110202683167,
             -0.35078322768961984,
             -0.44252044329485246,
             -0.5298361409084934,
             -0.6118578909427193,
             -0.6877661591839741,
             -0.7568024953079282,
             -0.8182771110644108,
             -0.8715757724135882,
             -0.9161659367494549,
             -0.9516020738895161,
             -0.977530117665097,
             -0.9936910036334645,
             -0.9999232575641008
            ]
           },
           "type": "scatter",
           "x": [
            0,
            0.1,
            0.2,
            0.30000000000000004,
            0.4,
            0.5,
            0.6000000000000001,
            0.7000000000000001,
            0.8,
            0.9,
            1,
            1.1,
            1.2000000000000002,
            1.3,
            1.4000000000000001,
            1.5,
            1.6,
            1.7000000000000002,
            1.8,
            1.9000000000000001,
            2,
            2.1,
            2.2,
            2.3000000000000003,
            2.4000000000000004,
            2.5,
            2.6,
            2.7,
            2.8000000000000003,
            2.9000000000000004,
            3,
            3.1,
            3.2,
            3.3000000000000003,
            3.4000000000000004,
            3.5,
            3.6,
            3.7,
            3.8000000000000003,
            3.9000000000000004,
            4,
            4.1000000000000005,
            4.2,
            4.3,
            4.4,
            4.5,
            4.6000000000000005,
            4.7
           ],
           "y": [
            0,
            0.010000000000000002,
            0.04000000000000001,
            0.09000000000000002,
            0.16000000000000003,
            0.25,
            0.3600000000000001,
            0.4900000000000001,
            0.6400000000000001,
            0.81,
            1,
            1.2100000000000002,
            1.4400000000000004,
            1.6900000000000002,
            1.9600000000000004,
            2.25,
            2.5600000000000005,
            2.8900000000000006,
            3.24,
            3.6100000000000003,
            4,
            4.41,
            4.840000000000001,
            5.290000000000001,
            5.760000000000002,
            6.25,
            6.760000000000001,
            7.290000000000001,
            7.840000000000002,
            8.410000000000002,
            9,
            9.610000000000001,
            10.240000000000002,
            10.890000000000002,
            11.560000000000002,
            12.25,
            12.96,
            13.690000000000001,
            14.440000000000001,
            15.210000000000003,
            16,
            16.810000000000006,
            17.64,
            18.49,
            19.360000000000003,
            20.25,
            21.160000000000004,
            22.090000000000003
           ]
          }
         ]
        },
        {
         "data": [
          {
           "marker": {
            "color": [
             0,
             0.09983341664682815,
             0.19866933079506122,
             0.2955202066613396,
             0.3894183423086505,
             0.479425538604203,
             0.5646424733950355,
             0.6442176872376911,
             0.7173560908995228,
             0.7833269096274834,
             0.8414709848078965,
             0.8912073600614354,
             0.9320390859672264,
             0.963558185417193,
             0.9854497299884603,
             0.9974949866040544,
             0.9995736030415051,
             0.9916648104524686,
             0.9738476308781951,
             0.9463000876874145,
             0.9092974268256817,
             0.8632093666488737,
             0.8084964038195901,
             0.74570521217672,
             0.6754631805511506,
             0.5984721441039564,
             0.5155013718214642,
             0.4273798802338298,
             0.33498815015590466,
             0.23924932921398198,
             0.1411200080598672,
             0.04158066243329049,
             -0.058374143427580086,
             -0.15774569414324865,
             -0.25554110202683167,
             -0.35078322768961984,
             -0.44252044329485246,
             -0.5298361409084934,
             -0.6118578909427193,
             -0.6877661591839741,
             -0.7568024953079282,
             -0.8182771110644108,
             -0.8715757724135882,
             -0.9161659367494549,
             -0.9516020738895161,
             -0.977530117665097,
             -0.9936910036334645,
             -0.9999232575641008,
             -0.9961646088358406
            ]
           },
           "type": "scatter",
           "x": [
            0,
            0.1,
            0.2,
            0.30000000000000004,
            0.4,
            0.5,
            0.6000000000000001,
            0.7000000000000001,
            0.8,
            0.9,
            1,
            1.1,
            1.2000000000000002,
            1.3,
            1.4000000000000001,
            1.5,
            1.6,
            1.7000000000000002,
            1.8,
            1.9000000000000001,
            2,
            2.1,
            2.2,
            2.3000000000000003,
            2.4000000000000004,
            2.5,
            2.6,
            2.7,
            2.8000000000000003,
            2.9000000000000004,
            3,
            3.1,
            3.2,
            3.3000000000000003,
            3.4000000000000004,
            3.5,
            3.6,
            3.7,
            3.8000000000000003,
            3.9000000000000004,
            4,
            4.1000000000000005,
            4.2,
            4.3,
            4.4,
            4.5,
            4.6000000000000005,
            4.7,
            4.800000000000001
           ],
           "y": [
            0,
            0.010000000000000002,
            0.04000000000000001,
            0.09000000000000002,
            0.16000000000000003,
            0.25,
            0.3600000000000001,
            0.4900000000000001,
            0.6400000000000001,
            0.81,
            1,
            1.2100000000000002,
            1.4400000000000004,
            1.6900000000000002,
            1.9600000000000004,
            2.25,
            2.5600000000000005,
            2.8900000000000006,
            3.24,
            3.6100000000000003,
            4,
            4.41,
            4.840000000000001,
            5.290000000000001,
            5.760000000000002,
            6.25,
            6.760000000000001,
            7.290000000000001,
            7.840000000000002,
            8.410000000000002,
            9,
            9.610000000000001,
            10.240000000000002,
            10.890000000000002,
            11.560000000000002,
            12.25,
            12.96,
            13.690000000000001,
            14.440000000000001,
            15.210000000000003,
            16,
            16.810000000000006,
            17.64,
            18.49,
            19.360000000000003,
            20.25,
            21.160000000000004,
            22.090000000000003,
            23.040000000000006
           ]
          }
         ]
        },
        {
         "data": [
          {
           "marker": {
            "color": [
             0,
             0.09983341664682815,
             0.19866933079506122,
             0.2955202066613396,
             0.3894183423086505,
             0.479425538604203,
             0.5646424733950355,
             0.6442176872376911,
             0.7173560908995228,
             0.7833269096274834,
             0.8414709848078965,
             0.8912073600614354,
             0.9320390859672264,
             0.963558185417193,
             0.9854497299884603,
             0.9974949866040544,
             0.9995736030415051,
             0.9916648104524686,
             0.9738476308781951,
             0.9463000876874145,
             0.9092974268256817,
             0.8632093666488737,
             0.8084964038195901,
             0.74570521217672,
             0.6754631805511506,
             0.5984721441039564,
             0.5155013718214642,
             0.4273798802338298,
             0.33498815015590466,
             0.23924932921398198,
             0.1411200080598672,
             0.04158066243329049,
             -0.058374143427580086,
             -0.15774569414324865,
             -0.25554110202683167,
             -0.35078322768961984,
             -0.44252044329485246,
             -0.5298361409084934,
             -0.6118578909427193,
             -0.6877661591839741,
             -0.7568024953079282,
             -0.8182771110644108,
             -0.8715757724135882,
             -0.9161659367494549,
             -0.9516020738895161,
             -0.977530117665097,
             -0.9936910036334645,
             -0.9999232575641008,
             -0.9961646088358406,
             -0.9824526126243325
            ]
           },
           "type": "scatter",
           "x": [
            0,
            0.1,
            0.2,
            0.30000000000000004,
            0.4,
            0.5,
            0.6000000000000001,
            0.7000000000000001,
            0.8,
            0.9,
            1,
            1.1,
            1.2000000000000002,
            1.3,
            1.4000000000000001,
            1.5,
            1.6,
            1.7000000000000002,
            1.8,
            1.9000000000000001,
            2,
            2.1,
            2.2,
            2.3000000000000003,
            2.4000000000000004,
            2.5,
            2.6,
            2.7,
            2.8000000000000003,
            2.9000000000000004,
            3,
            3.1,
            3.2,
            3.3000000000000003,
            3.4000000000000004,
            3.5,
            3.6,
            3.7,
            3.8000000000000003,
            3.9000000000000004,
            4,
            4.1000000000000005,
            4.2,
            4.3,
            4.4,
            4.5,
            4.6000000000000005,
            4.7,
            4.800000000000001,
            4.9
           ],
           "y": [
            0,
            0.010000000000000002,
            0.04000000000000001,
            0.09000000000000002,
            0.16000000000000003,
            0.25,
            0.3600000000000001,
            0.4900000000000001,
            0.6400000000000001,
            0.81,
            1,
            1.2100000000000002,
            1.4400000000000004,
            1.6900000000000002,
            1.9600000000000004,
            2.25,
            2.5600000000000005,
            2.8900000000000006,
            3.24,
            3.6100000000000003,
            4,
            4.41,
            4.840000000000001,
            5.290000000000001,
            5.760000000000002,
            6.25,
            6.760000000000001,
            7.290000000000001,
            7.840000000000002,
            8.410000000000002,
            9,
            9.610000000000001,
            10.240000000000002,
            10.890000000000002,
            11.560000000000002,
            12.25,
            12.96,
            13.690000000000001,
            14.440000000000001,
            15.210000000000003,
            16,
            16.810000000000006,
            17.64,
            18.49,
            19.360000000000003,
            20.25,
            21.160000000000004,
            22.090000000000003,
            23.040000000000006,
            24.010000000000005
           ]
          }
         ]
        }
       ],
       "layout": {
        "autosize": false,
        "height": 500,
        "legend": {
         "orientation": "h",
         "x": 0.5,
         "xanchor": "center"
        },
        "template": {
         "data": {
          "bar": [
           {
            "error_x": {
             "color": "#2a3f5f"
            },
            "error_y": {
             "color": "#2a3f5f"
            },
            "marker": {
             "line": {
              "color": "#E5ECF6",
              "width": 0.5
             },
             "pattern": {
              "fillmode": "overlay",
              "size": 10,
              "solidity": 0.2
             }
            },
            "type": "bar"
           }
          ],
          "barpolar": [
           {
            "marker": {
             "line": {
              "color": "#E5ECF6",
              "width": 0.5
             },
             "pattern": {
              "fillmode": "overlay",
              "size": 10,
              "solidity": 0.2
             }
            },
            "type": "barpolar"
           }
          ],
          "carpet": [
           {
            "aaxis": {
             "endlinecolor": "#2a3f5f",
             "gridcolor": "white",
             "linecolor": "white",
             "minorgridcolor": "white",
             "startlinecolor": "#2a3f5f"
            },
            "baxis": {
             "endlinecolor": "#2a3f5f",
             "gridcolor": "white",
             "linecolor": "white",
             "minorgridcolor": "white",
             "startlinecolor": "#2a3f5f"
            },
            "type": "carpet"
           }
          ],
          "choropleth": [
           {
            "colorbar": {
             "outlinewidth": 0,
             "ticks": ""
            },
            "type": "choropleth"
           }
          ],
          "contour": [
           {
            "colorbar": {
             "outlinewidth": 0,
             "ticks": ""
            },
            "colorscale": [
             [
              0,
              "#0d0887"
             ],
             [
              0.1111111111111111,
              "#46039f"
             ],
             [
              0.2222222222222222,
              "#7201a8"
             ],
             [
              0.3333333333333333,
              "#9c179e"
             ],
             [
              0.4444444444444444,
              "#bd3786"
             ],
             [
              0.5555555555555556,
              "#d8576b"
             ],
             [
              0.6666666666666666,
              "#ed7953"
             ],
             [
              0.7777777777777778,
              "#fb9f3a"
             ],
             [
              0.8888888888888888,
              "#fdca26"
             ],
             [
              1,
              "#f0f921"
             ]
            ],
            "type": "contour"
           }
          ],
          "contourcarpet": [
           {
            "colorbar": {
             "outlinewidth": 0,
             "ticks": ""
            },
            "type": "contourcarpet"
           }
          ],
          "heatmap": [
           {
            "colorbar": {
             "outlinewidth": 0,
             "ticks": ""
            },
            "colorscale": [
             [
              0,
              "#0d0887"
             ],
             [
              0.1111111111111111,
              "#46039f"
             ],
             [
              0.2222222222222222,
              "#7201a8"
             ],
             [
              0.3333333333333333,
              "#9c179e"
             ],
             [
              0.4444444444444444,
              "#bd3786"
             ],
             [
              0.5555555555555556,
              "#d8576b"
             ],
             [
              0.6666666666666666,
              "#ed7953"
             ],
             [
              0.7777777777777778,
              "#fb9f3a"
             ],
             [
              0.8888888888888888,
              "#fdca26"
             ],
             [
              1,
              "#f0f921"
             ]
            ],
            "type": "heatmap"
           }
          ],
          "heatmapgl": [
           {
            "colorbar": {
             "outlinewidth": 0,
             "ticks": ""
            },
            "colorscale": [
             [
              0,
              "#0d0887"
             ],
             [
              0.1111111111111111,
              "#46039f"
             ],
             [
              0.2222222222222222,
              "#7201a8"
             ],
             [
              0.3333333333333333,
              "#9c179e"
             ],
             [
              0.4444444444444444,
              "#bd3786"
             ],
             [
              0.5555555555555556,
              "#d8576b"
             ],
             [
              0.6666666666666666,
              "#ed7953"
             ],
             [
              0.7777777777777778,
              "#fb9f3a"
             ],
             [
              0.8888888888888888,
              "#fdca26"
             ],
             [
              1,
              "#f0f921"
             ]
            ],
            "type": "heatmapgl"
           }
          ],
          "histogram": [
           {
            "marker": {
             "pattern": {
              "fillmode": "overlay",
              "size": 10,
              "solidity": 0.2
             }
            },
            "type": "histogram"
           }
          ],
          "histogram2d": [
           {
            "colorbar": {
             "outlinewidth": 0,
             "ticks": ""
            },
            "colorscale": [
             [
              0,
              "#0d0887"
             ],
             [
              0.1111111111111111,
              "#46039f"
             ],
             [
              0.2222222222222222,
              "#7201a8"
             ],
             [
              0.3333333333333333,
              "#9c179e"
             ],
             [
              0.4444444444444444,
              "#bd3786"
             ],
             [
              0.5555555555555556,
              "#d8576b"
             ],
             [
              0.6666666666666666,
              "#ed7953"
             ],
             [
              0.7777777777777778,
              "#fb9f3a"
             ],
             [
              0.8888888888888888,
              "#fdca26"
             ],
             [
              1,
              "#f0f921"
             ]
            ],
            "type": "histogram2d"
           }
          ],
          "histogram2dcontour": [
           {
            "colorbar": {
             "outlinewidth": 0,
             "ticks": ""
            },
            "colorscale": [
             [
              0,
              "#0d0887"
             ],
             [
              0.1111111111111111,
              "#46039f"
             ],
             [
              0.2222222222222222,
              "#7201a8"
             ],
             [
              0.3333333333333333,
              "#9c179e"
             ],
             [
              0.4444444444444444,
              "#bd3786"
             ],
             [
              0.5555555555555556,
              "#d8576b"
             ],
             [
              0.6666666666666666,
              "#ed7953"
             ],
             [
              0.7777777777777778,
              "#fb9f3a"
             ],
             [
              0.8888888888888888,
              "#fdca26"
             ],
             [
              1,
              "#f0f921"
             ]
            ],
            "type": "histogram2dcontour"
           }
          ],
          "mesh3d": [
           {
            "colorbar": {
             "outlinewidth": 0,
             "ticks": ""
            },
            "type": "mesh3d"
           }
          ],
          "parcoords": [
           {
            "line": {
             "colorbar": {
              "outlinewidth": 0,
              "ticks": ""
             }
            },
            "type": "parcoords"
           }
          ],
          "pie": [
           {
            "automargin": true,
            "type": "pie"
           }
          ],
          "scatter": [
           {
            "marker": {
             "colorbar": {
              "outlinewidth": 0,
              "ticks": ""
             }
            },
            "type": "scatter"
           }
          ],
          "scatter3d": [
           {
            "line": {
             "colorbar": {
              "outlinewidth": 0,
              "ticks": ""
             }
            },
            "marker": {
             "colorbar": {
              "outlinewidth": 0,
              "ticks": ""
             }
            },
            "type": "scatter3d"
           }
          ],
          "scattercarpet": [
           {
            "marker": {
             "colorbar": {
              "outlinewidth": 0,
              "ticks": ""
             }
            },
            "type": "scattercarpet"
           }
          ],
          "scattergeo": [
           {
            "marker": {
             "colorbar": {
              "outlinewidth": 0,
              "ticks": ""
             }
            },
            "type": "scattergeo"
           }
          ],
          "scattergl": [
           {
            "marker": {
             "colorbar": {
              "outlinewidth": 0,
              "ticks": ""
             }
            },
            "type": "scattergl"
           }
          ],
          "scattermapbox": [
           {
            "marker": {
             "colorbar": {
              "outlinewidth": 0,
              "ticks": ""
             }
            },
            "type": "scattermapbox"
           }
          ],
          "scatterpolar": [
           {
            "marker": {
             "colorbar": {
              "outlinewidth": 0,
              "ticks": ""
             }
            },
            "type": "scatterpolar"
           }
          ],
          "scatterpolargl": [
           {
            "marker": {
             "colorbar": {
              "outlinewidth": 0,
              "ticks": ""
             }
            },
            "type": "scatterpolargl"
           }
          ],
          "scatterternary": [
           {
            "marker": {
             "colorbar": {
              "outlinewidth": 0,
              "ticks": ""
             }
            },
            "type": "scatterternary"
           }
          ],
          "surface": [
           {
            "colorbar": {
             "outlinewidth": 0,
             "ticks": ""
            },
            "colorscale": [
             [
              0,
              "#0d0887"
             ],
             [
              0.1111111111111111,
              "#46039f"
             ],
             [
              0.2222222222222222,
              "#7201a8"
             ],
             [
              0.3333333333333333,
              "#9c179e"
             ],
             [
              0.4444444444444444,
              "#bd3786"
             ],
             [
              0.5555555555555556,
              "#d8576b"
             ],
             [
              0.6666666666666666,
              "#ed7953"
             ],
             [
              0.7777777777777778,
              "#fb9f3a"
             ],
             [
              0.8888888888888888,
              "#fdca26"
             ],
             [
              1,
              "#f0f921"
             ]
            ],
            "type": "surface"
           }
          ],
          "table": [
           {
            "cells": {
             "fill": {
              "color": "#EBF0F8"
             },
             "line": {
              "color": "white"
             }
            },
            "header": {
             "fill": {
              "color": "#C8D4E3"
             },
             "line": {
              "color": "white"
             }
            },
            "type": "table"
           }
          ]
         },
         "layout": {
          "annotationdefaults": {
           "arrowcolor": "#2a3f5f",
           "arrowhead": 0,
           "arrowwidth": 1
          },
          "autotypenumbers": "strict",
          "coloraxis": {
           "colorbar": {
            "outlinewidth": 0,
            "ticks": ""
           }
          },
          "colorscale": {
           "diverging": [
            [
             0,
             "#8e0152"
            ],
            [
             0.1,
             "#c51b7d"
            ],
            [
             0.2,
             "#de77ae"
            ],
            [
             0.3,
             "#f1b6da"
            ],
            [
             0.4,
             "#fde0ef"
            ],
            [
             0.5,
             "#f7f7f7"
            ],
            [
             0.6,
             "#e6f5d0"
            ],
            [
             0.7,
             "#b8e186"
            ],
            [
             0.8,
             "#7fbc41"
            ],
            [
             0.9,
             "#4d9221"
            ],
            [
             1,
             "#276419"
            ]
           ],
           "sequential": [
            [
             0,
             "#0d0887"
            ],
            [
             0.1111111111111111,
             "#46039f"
            ],
            [
             0.2222222222222222,
             "#7201a8"
            ],
            [
             0.3333333333333333,
             "#9c179e"
            ],
            [
             0.4444444444444444,
             "#bd3786"
            ],
            [
             0.5555555555555556,
             "#d8576b"
            ],
            [
             0.6666666666666666,
             "#ed7953"
            ],
            [
             0.7777777777777778,
             "#fb9f3a"
            ],
            [
             0.8888888888888888,
             "#fdca26"
            ],
            [
             1,
             "#f0f921"
            ]
           ],
           "sequentialminus": [
            [
             0,
             "#0d0887"
            ],
            [
             0.1111111111111111,
             "#46039f"
            ],
            [
             0.2222222222222222,
             "#7201a8"
            ],
            [
             0.3333333333333333,
             "#9c179e"
            ],
            [
             0.4444444444444444,
             "#bd3786"
            ],
            [
             0.5555555555555556,
             "#d8576b"
            ],
            [
             0.6666666666666666,
             "#ed7953"
            ],
            [
             0.7777777777777778,
             "#fb9f3a"
            ],
            [
             0.8888888888888888,
             "#fdca26"
            ],
            [
             1,
             "#f0f921"
            ]
           ]
          },
          "colorway": [
           "#636efa",
           "#EF553B",
           "#00cc96",
           "#ab63fa",
           "#FFA15A",
           "#19d3f3",
           "#FF6692",
           "#B6E880",
           "#FF97FF",
           "#FECB52"
          ],
          "font": {
           "color": "#2a3f5f"
          },
          "geo": {
           "bgcolor": "white",
           "lakecolor": "white",
           "landcolor": "#E5ECF6",
           "showlakes": true,
           "showland": true,
           "subunitcolor": "white"
          },
          "hoverlabel": {
           "align": "left"
          },
          "hovermode": "closest",
          "mapbox": {
           "style": "light"
          },
          "paper_bgcolor": "white",
          "plot_bgcolor": "#E5ECF6",
          "polar": {
           "angularaxis": {
            "gridcolor": "white",
            "linecolor": "white",
            "ticks": ""
           },
           "bgcolor": "#E5ECF6",
           "radialaxis": {
            "gridcolor": "white",
            "linecolor": "white",
            "ticks": ""
           }
          },
          "scene": {
           "xaxis": {
            "backgroundcolor": "#E5ECF6",
            "gridcolor": "white",
            "gridwidth": 2,
            "linecolor": "white",
            "showbackground": true,
            "ticks": "",
            "zerolinecolor": "white"
           },
           "yaxis": {
            "backgroundcolor": "#E5ECF6",
            "gridcolor": "white",
            "gridwidth": 2,
            "linecolor": "white",
            "showbackground": true,
            "ticks": "",
            "zerolinecolor": "white"
           },
           "zaxis": {
            "backgroundcolor": "#E5ECF6",
            "gridcolor": "white",
            "gridwidth": 2,
            "linecolor": "white",
            "showbackground": true,
            "ticks": "",
            "zerolinecolor": "white"
           }
          },
          "shapedefaults": {
           "line": {
            "color": "#2a3f5f"
           }
          },
          "ternary": {
           "aaxis": {
            "gridcolor": "white",
            "linecolor": "white",
            "ticks": ""
           },
           "baxis": {
            "gridcolor": "white",
            "linecolor": "white",
            "ticks": ""
           },
           "bgcolor": "#E5ECF6",
           "caxis": {
            "gridcolor": "white",
            "linecolor": "white",
            "ticks": ""
           }
          },
          "title": {
           "x": 0.05
          },
          "xaxis": {
           "automargin": true,
           "gridcolor": "white",
           "linecolor": "white",
           "ticks": "",
           "title": {
            "standoff": 15
           },
           "zerolinecolor": "white",
           "zerolinewidth": 2
          },
          "yaxis": {
           "automargin": true,
           "gridcolor": "white",
           "linecolor": "white",
           "ticks": "",
           "title": {
            "standoff": 15
           },
           "zerolinecolor": "white",
           "zerolinewidth": 2
          }
         }
        },
        "updatemenus": [
         {
          "buttons": [
           {
            "args": [
             null,
             {
              "fromcurrent": true
             }
            ],
            "label": "►",
            "method": "animate"
           },
           {
            "args": [
             [
              null
             ],
             {
              "frame": {
               "duration": 0,
               "redraw": false
              },
              "mode": "immediate",
              "transition": {
               "duration": 0
              }
             }
            ],
            "label": "❚❚",
            "method": "animate"
           }
          ],
          "type": "buttons"
         }
        ],
        "width": 500
       }
      },
      "text/html": [
       "<div>                            <div id=\"0ef33a0c-25eb-476d-9115-8af7f84c7d1e\" class=\"plotly-graph-div\" style=\"height:500px; width:500px;\"></div>            <script type=\"text/javascript\">                require([\"plotly\"], function(Plotly) {                    window.PLOTLYENV=window.PLOTLYENV || {};                                    if (document.getElementById(\"0ef33a0c-25eb-476d-9115-8af7f84c7d1e\")) {                    Plotly.newPlot(                        \"0ef33a0c-25eb-476d-9115-8af7f84c7d1e\",                        [{\"marker\":{\"color\":0.0,\"colorbar\":{\"title\":{\"text\":\"h(x)=sin(x)\"}},\"colorscale\":[[0.0,\"#000004\"],[0.1111111111111111,\"#1b0c41\"],[0.2222222222222222,\"#4a0c6b\"],[0.3333333333333333,\"#781c6d\"],[0.4444444444444444,\"#a52c60\"],[0.5555555555555556,\"#cf4446\"],[0.6666666666666666,\"#ed6925\"],[0.7777777777777778,\"#fb9b06\"],[0.8888888888888888,\"#f7d13d\"],[1.0,\"#fcffa4\"]]},\"mode\":\"lines+markers\",\"name\":\"f(x)=x<sup>2</sup>\",\"x\":[0.0],\"y\":[0.0],\"type\":\"scatter\",\"hoverinfo\":\"all\",\"hovertemplate\":\"\\u0410\\u0440\\u0433\\u0443\\u043c\\u0435\\u043d\\u0442: %{x}<br>\\u0424\\u0443\\u043d\\u043a\\u0446\\u0438\\u044f: %{y}\"}],                        {\"template\":{\"data\":{\"bar\":[{\"error_x\":{\"color\":\"#2a3f5f\"},\"error_y\":{\"color\":\"#2a3f5f\"},\"marker\":{\"line\":{\"color\":\"#E5ECF6\",\"width\":0.5},\"pattern\":{\"fillmode\":\"overlay\",\"size\":10,\"solidity\":0.2}},\"type\":\"bar\"}],\"barpolar\":[{\"marker\":{\"line\":{\"color\":\"#E5ECF6\",\"width\":0.5},\"pattern\":{\"fillmode\":\"overlay\",\"size\":10,\"solidity\":0.2}},\"type\":\"barpolar\"}],\"carpet\":[{\"aaxis\":{\"endlinecolor\":\"#2a3f5f\",\"gridcolor\":\"white\",\"linecolor\":\"white\",\"minorgridcolor\":\"white\",\"startlinecolor\":\"#2a3f5f\"},\"baxis\":{\"endlinecolor\":\"#2a3f5f\",\"gridcolor\":\"white\",\"linecolor\":\"white\",\"minorgridcolor\":\"white\",\"startlinecolor\":\"#2a3f5f\"},\"type\":\"carpet\"}],\"choropleth\":[{\"colorbar\":{\"outlinewidth\":0,\"ticks\":\"\"},\"type\":\"choropleth\"}],\"contour\":[{\"colorbar\":{\"outlinewidth\":0,\"ticks\":\"\"},\"colorscale\":[[0.0,\"#0d0887\"],[0.1111111111111111,\"#46039f\"],[0.2222222222222222,\"#7201a8\"],[0.3333333333333333,\"#9c179e\"],[0.4444444444444444,\"#bd3786\"],[0.5555555555555556,\"#d8576b\"],[0.6666666666666666,\"#ed7953\"],[0.7777777777777778,\"#fb9f3a\"],[0.8888888888888888,\"#fdca26\"],[1.0,\"#f0f921\"]],\"type\":\"contour\"}],\"contourcarpet\":[{\"colorbar\":{\"outlinewidth\":0,\"ticks\":\"\"},\"type\":\"contourcarpet\"}],\"heatmap\":[{\"colorbar\":{\"outlinewidth\":0,\"ticks\":\"\"},\"colorscale\":[[0.0,\"#0d0887\"],[0.1111111111111111,\"#46039f\"],[0.2222222222222222,\"#7201a8\"],[0.3333333333333333,\"#9c179e\"],[0.4444444444444444,\"#bd3786\"],[0.5555555555555556,\"#d8576b\"],[0.6666666666666666,\"#ed7953\"],[0.7777777777777778,\"#fb9f3a\"],[0.8888888888888888,\"#fdca26\"],[1.0,\"#f0f921\"]],\"type\":\"heatmap\"}],\"heatmapgl\":[{\"colorbar\":{\"outlinewidth\":0,\"ticks\":\"\"},\"colorscale\":[[0.0,\"#0d0887\"],[0.1111111111111111,\"#46039f\"],[0.2222222222222222,\"#7201a8\"],[0.3333333333333333,\"#9c179e\"],[0.4444444444444444,\"#bd3786\"],[0.5555555555555556,\"#d8576b\"],[0.6666666666666666,\"#ed7953\"],[0.7777777777777778,\"#fb9f3a\"],[0.8888888888888888,\"#fdca26\"],[1.0,\"#f0f921\"]],\"type\":\"heatmapgl\"}],\"histogram\":[{\"marker\":{\"pattern\":{\"fillmode\":\"overlay\",\"size\":10,\"solidity\":0.2}},\"type\":\"histogram\"}],\"histogram2d\":[{\"colorbar\":{\"outlinewidth\":0,\"ticks\":\"\"},\"colorscale\":[[0.0,\"#0d0887\"],[0.1111111111111111,\"#46039f\"],[0.2222222222222222,\"#7201a8\"],[0.3333333333333333,\"#9c179e\"],[0.4444444444444444,\"#bd3786\"],[0.5555555555555556,\"#d8576b\"],[0.6666666666666666,\"#ed7953\"],[0.7777777777777778,\"#fb9f3a\"],[0.8888888888888888,\"#fdca26\"],[1.0,\"#f0f921\"]],\"type\":\"histogram2d\"}],\"histogram2dcontour\":[{\"colorbar\":{\"outlinewidth\":0,\"ticks\":\"\"},\"colorscale\":[[0.0,\"#0d0887\"],[0.1111111111111111,\"#46039f\"],[0.2222222222222222,\"#7201a8\"],[0.3333333333333333,\"#9c179e\"],[0.4444444444444444,\"#bd3786\"],[0.5555555555555556,\"#d8576b\"],[0.6666666666666666,\"#ed7953\"],[0.7777777777777778,\"#fb9f3a\"],[0.8888888888888888,\"#fdca26\"],[1.0,\"#f0f921\"]],\"type\":\"histogram2dcontour\"}],\"mesh3d\":[{\"colorbar\":{\"outlinewidth\":0,\"ticks\":\"\"},\"type\":\"mesh3d\"}],\"parcoords\":[{\"line\":{\"colorbar\":{\"outlinewidth\":0,\"ticks\":\"\"}},\"type\":\"parcoords\"}],\"pie\":[{\"automargin\":true,\"type\":\"pie\"}],\"scatter\":[{\"marker\":{\"colorbar\":{\"outlinewidth\":0,\"ticks\":\"\"}},\"type\":\"scatter\"}],\"scatter3d\":[{\"line\":{\"colorbar\":{\"outlinewidth\":0,\"ticks\":\"\"}},\"marker\":{\"colorbar\":{\"outlinewidth\":0,\"ticks\":\"\"}},\"type\":\"scatter3d\"}],\"scattercarpet\":[{\"marker\":{\"colorbar\":{\"outlinewidth\":0,\"ticks\":\"\"}},\"type\":\"scattercarpet\"}],\"scattergeo\":[{\"marker\":{\"colorbar\":{\"outlinewidth\":0,\"ticks\":\"\"}},\"type\":\"scattergeo\"}],\"scattergl\":[{\"marker\":{\"colorbar\":{\"outlinewidth\":0,\"ticks\":\"\"}},\"type\":\"scattergl\"}],\"scattermapbox\":[{\"marker\":{\"colorbar\":{\"outlinewidth\":0,\"ticks\":\"\"}},\"type\":\"scattermapbox\"}],\"scatterpolar\":[{\"marker\":{\"colorbar\":{\"outlinewidth\":0,\"ticks\":\"\"}},\"type\":\"scatterpolar\"}],\"scatterpolargl\":[{\"marker\":{\"colorbar\":{\"outlinewidth\":0,\"ticks\":\"\"}},\"type\":\"scatterpolargl\"}],\"scatterternary\":[{\"marker\":{\"colorbar\":{\"outlinewidth\":0,\"ticks\":\"\"}},\"type\":\"scatterternary\"}],\"surface\":[{\"colorbar\":{\"outlinewidth\":0,\"ticks\":\"\"},\"colorscale\":[[0.0,\"#0d0887\"],[0.1111111111111111,\"#46039f\"],[0.2222222222222222,\"#7201a8\"],[0.3333333333333333,\"#9c179e\"],[0.4444444444444444,\"#bd3786\"],[0.5555555555555556,\"#d8576b\"],[0.6666666666666666,\"#ed7953\"],[0.7777777777777778,\"#fb9f3a\"],[0.8888888888888888,\"#fdca26\"],[1.0,\"#f0f921\"]],\"type\":\"surface\"}],\"table\":[{\"cells\":{\"fill\":{\"color\":\"#EBF0F8\"},\"line\":{\"color\":\"white\"}},\"header\":{\"fill\":{\"color\":\"#C8D4E3\"},\"line\":{\"color\":\"white\"}},\"type\":\"table\"}]},\"layout\":{\"annotationdefaults\":{\"arrowcolor\":\"#2a3f5f\",\"arrowhead\":0,\"arrowwidth\":1},\"autotypenumbers\":\"strict\",\"coloraxis\":{\"colorbar\":{\"outlinewidth\":0,\"ticks\":\"\"}},\"colorscale\":{\"diverging\":[[0,\"#8e0152\"],[0.1,\"#c51b7d\"],[0.2,\"#de77ae\"],[0.3,\"#f1b6da\"],[0.4,\"#fde0ef\"],[0.5,\"#f7f7f7\"],[0.6,\"#e6f5d0\"],[0.7,\"#b8e186\"],[0.8,\"#7fbc41\"],[0.9,\"#4d9221\"],[1,\"#276419\"]],\"sequential\":[[0.0,\"#0d0887\"],[0.1111111111111111,\"#46039f\"],[0.2222222222222222,\"#7201a8\"],[0.3333333333333333,\"#9c179e\"],[0.4444444444444444,\"#bd3786\"],[0.5555555555555556,\"#d8576b\"],[0.6666666666666666,\"#ed7953\"],[0.7777777777777778,\"#fb9f3a\"],[0.8888888888888888,\"#fdca26\"],[1.0,\"#f0f921\"]],\"sequentialminus\":[[0.0,\"#0d0887\"],[0.1111111111111111,\"#46039f\"],[0.2222222222222222,\"#7201a8\"],[0.3333333333333333,\"#9c179e\"],[0.4444444444444444,\"#bd3786\"],[0.5555555555555556,\"#d8576b\"],[0.6666666666666666,\"#ed7953\"],[0.7777777777777778,\"#fb9f3a\"],[0.8888888888888888,\"#fdca26\"],[1.0,\"#f0f921\"]]},\"colorway\":[\"#636efa\",\"#EF553B\",\"#00cc96\",\"#ab63fa\",\"#FFA15A\",\"#19d3f3\",\"#FF6692\",\"#B6E880\",\"#FF97FF\",\"#FECB52\"],\"font\":{\"color\":\"#2a3f5f\"},\"geo\":{\"bgcolor\":\"white\",\"lakecolor\":\"white\",\"landcolor\":\"#E5ECF6\",\"showlakes\":true,\"showland\":true,\"subunitcolor\":\"white\"},\"hoverlabel\":{\"align\":\"left\"},\"hovermode\":\"closest\",\"mapbox\":{\"style\":\"light\"},\"paper_bgcolor\":\"white\",\"plot_bgcolor\":\"#E5ECF6\",\"polar\":{\"angularaxis\":{\"gridcolor\":\"white\",\"linecolor\":\"white\",\"ticks\":\"\"},\"bgcolor\":\"#E5ECF6\",\"radialaxis\":{\"gridcolor\":\"white\",\"linecolor\":\"white\",\"ticks\":\"\"}},\"scene\":{\"xaxis\":{\"backgroundcolor\":\"#E5ECF6\",\"gridcolor\":\"white\",\"gridwidth\":2,\"linecolor\":\"white\",\"showbackground\":true,\"ticks\":\"\",\"zerolinecolor\":\"white\"},\"yaxis\":{\"backgroundcolor\":\"#E5ECF6\",\"gridcolor\":\"white\",\"gridwidth\":2,\"linecolor\":\"white\",\"showbackground\":true,\"ticks\":\"\",\"zerolinecolor\":\"white\"},\"zaxis\":{\"backgroundcolor\":\"#E5ECF6\",\"gridcolor\":\"white\",\"gridwidth\":2,\"linecolor\":\"white\",\"showbackground\":true,\"ticks\":\"\",\"zerolinecolor\":\"white\"}},\"shapedefaults\":{\"line\":{\"color\":\"#2a3f5f\"}},\"ternary\":{\"aaxis\":{\"gridcolor\":\"white\",\"linecolor\":\"white\",\"ticks\":\"\"},\"baxis\":{\"gridcolor\":\"white\",\"linecolor\":\"white\",\"ticks\":\"\"},\"bgcolor\":\"#E5ECF6\",\"caxis\":{\"gridcolor\":\"white\",\"linecolor\":\"white\",\"ticks\":\"\"}},\"title\":{\"x\":0.05},\"xaxis\":{\"automargin\":true,\"gridcolor\":\"white\",\"linecolor\":\"white\",\"ticks\":\"\",\"title\":{\"standoff\":15},\"zerolinecolor\":\"white\",\"zerolinewidth\":2},\"yaxis\":{\"automargin\":true,\"gridcolor\":\"white\",\"linecolor\":\"white\",\"ticks\":\"\",\"title\":{\"standoff\":15},\"zerolinecolor\":\"white\",\"zerolinewidth\":2}}},\"legend\":{\"orientation\":\"h\",\"x\":0.5,\"xanchor\":\"center\"},\"updatemenus\":[{\"buttons\":[{\"args\":[null,{\"fromcurrent\":true}],\"label\":\"\\u25ba\",\"method\":\"animate\"},{\"args\":[[null],{\"frame\":{\"duration\":0,\"redraw\":false},\"mode\":\"immediate\",\"transition\":{\"duration\":0}}],\"label\":\"\\u275a\\u275a\",\"method\":\"animate\"}],\"type\":\"buttons\"}],\"autosize\":false,\"width\":500,\"height\":500},                        {\"responsive\": true}                    ).then(function(){\n",
       "                            Plotly.addFrames('0ef33a0c-25eb-476d-9115-8af7f84c7d1e', [{\"data\":[{\"marker\":{\"color\":[0.0,0.09983341664682815]},\"x\":[0.0,0.1],\"y\":[0.0,0.010000000000000002],\"type\":\"scatter\"}]},{\"data\":[{\"marker\":{\"color\":[0.0,0.09983341664682815,0.19866933079506122]},\"x\":[0.0,0.1,0.2],\"y\":[0.0,0.010000000000000002,0.04000000000000001],\"type\":\"scatter\"}]},{\"data\":[{\"marker\":{\"color\":[0.0,0.09983341664682815,0.19866933079506122,0.2955202066613396]},\"x\":[0.0,0.1,0.2,0.30000000000000004],\"y\":[0.0,0.010000000000000002,0.04000000000000001,0.09000000000000002],\"type\":\"scatter\"}]},{\"data\":[{\"marker\":{\"color\":[0.0,0.09983341664682815,0.19866933079506122,0.2955202066613396,0.3894183423086505]},\"x\":[0.0,0.1,0.2,0.30000000000000004,0.4],\"y\":[0.0,0.010000000000000002,0.04000000000000001,0.09000000000000002,0.16000000000000003],\"type\":\"scatter\"}]},{\"data\":[{\"marker\":{\"color\":[0.0,0.09983341664682815,0.19866933079506122,0.2955202066613396,0.3894183423086505,0.479425538604203]},\"x\":[0.0,0.1,0.2,0.30000000000000004,0.4,0.5],\"y\":[0.0,0.010000000000000002,0.04000000000000001,0.09000000000000002,0.16000000000000003,0.25],\"type\":\"scatter\"}]},{\"data\":[{\"marker\":{\"color\":[0.0,0.09983341664682815,0.19866933079506122,0.2955202066613396,0.3894183423086505,0.479425538604203,0.5646424733950355]},\"x\":[0.0,0.1,0.2,0.30000000000000004,0.4,0.5,0.6000000000000001],\"y\":[0.0,0.010000000000000002,0.04000000000000001,0.09000000000000002,0.16000000000000003,0.25,0.3600000000000001],\"type\":\"scatter\"}]},{\"data\":[{\"marker\":{\"color\":[0.0,0.09983341664682815,0.19866933079506122,0.2955202066613396,0.3894183423086505,0.479425538604203,0.5646424733950355,0.6442176872376911]},\"x\":[0.0,0.1,0.2,0.30000000000000004,0.4,0.5,0.6000000000000001,0.7000000000000001],\"y\":[0.0,0.010000000000000002,0.04000000000000001,0.09000000000000002,0.16000000000000003,0.25,0.3600000000000001,0.4900000000000001],\"type\":\"scatter\"}]},{\"data\":[{\"marker\":{\"color\":[0.0,0.09983341664682815,0.19866933079506122,0.2955202066613396,0.3894183423086505,0.479425538604203,0.5646424733950355,0.6442176872376911,0.7173560908995228]},\"x\":[0.0,0.1,0.2,0.30000000000000004,0.4,0.5,0.6000000000000001,0.7000000000000001,0.8],\"y\":[0.0,0.010000000000000002,0.04000000000000001,0.09000000000000002,0.16000000000000003,0.25,0.3600000000000001,0.4900000000000001,0.6400000000000001],\"type\":\"scatter\"}]},{\"data\":[{\"marker\":{\"color\":[0.0,0.09983341664682815,0.19866933079506122,0.2955202066613396,0.3894183423086505,0.479425538604203,0.5646424733950355,0.6442176872376911,0.7173560908995228,0.7833269096274834]},\"x\":[0.0,0.1,0.2,0.30000000000000004,0.4,0.5,0.6000000000000001,0.7000000000000001,0.8,0.9],\"y\":[0.0,0.010000000000000002,0.04000000000000001,0.09000000000000002,0.16000000000000003,0.25,0.3600000000000001,0.4900000000000001,0.6400000000000001,0.81],\"type\":\"scatter\"}]},{\"data\":[{\"marker\":{\"color\":[0.0,0.09983341664682815,0.19866933079506122,0.2955202066613396,0.3894183423086505,0.479425538604203,0.5646424733950355,0.6442176872376911,0.7173560908995228,0.7833269096274834,0.8414709848078965]},\"x\":[0.0,0.1,0.2,0.30000000000000004,0.4,0.5,0.6000000000000001,0.7000000000000001,0.8,0.9,1.0],\"y\":[0.0,0.010000000000000002,0.04000000000000001,0.09000000000000002,0.16000000000000003,0.25,0.3600000000000001,0.4900000000000001,0.6400000000000001,0.81,1.0],\"type\":\"scatter\"}]},{\"data\":[{\"marker\":{\"color\":[0.0,0.09983341664682815,0.19866933079506122,0.2955202066613396,0.3894183423086505,0.479425538604203,0.5646424733950355,0.6442176872376911,0.7173560908995228,0.7833269096274834,0.8414709848078965,0.8912073600614354]},\"x\":[0.0,0.1,0.2,0.30000000000000004,0.4,0.5,0.6000000000000001,0.7000000000000001,0.8,0.9,1.0,1.1],\"y\":[0.0,0.010000000000000002,0.04000000000000001,0.09000000000000002,0.16000000000000003,0.25,0.3600000000000001,0.4900000000000001,0.6400000000000001,0.81,1.0,1.2100000000000002],\"type\":\"scatter\"}]},{\"data\":[{\"marker\":{\"color\":[0.0,0.09983341664682815,0.19866933079506122,0.2955202066613396,0.3894183423086505,0.479425538604203,0.5646424733950355,0.6442176872376911,0.7173560908995228,0.7833269096274834,0.8414709848078965,0.8912073600614354,0.9320390859672264]},\"x\":[0.0,0.1,0.2,0.30000000000000004,0.4,0.5,0.6000000000000001,0.7000000000000001,0.8,0.9,1.0,1.1,1.2000000000000002],\"y\":[0.0,0.010000000000000002,0.04000000000000001,0.09000000000000002,0.16000000000000003,0.25,0.3600000000000001,0.4900000000000001,0.6400000000000001,0.81,1.0,1.2100000000000002,1.4400000000000004],\"type\":\"scatter\"}]},{\"data\":[{\"marker\":{\"color\":[0.0,0.09983341664682815,0.19866933079506122,0.2955202066613396,0.3894183423086505,0.479425538604203,0.5646424733950355,0.6442176872376911,0.7173560908995228,0.7833269096274834,0.8414709848078965,0.8912073600614354,0.9320390859672264,0.963558185417193]},\"x\":[0.0,0.1,0.2,0.30000000000000004,0.4,0.5,0.6000000000000001,0.7000000000000001,0.8,0.9,1.0,1.1,1.2000000000000002,1.3],\"y\":[0.0,0.010000000000000002,0.04000000000000001,0.09000000000000002,0.16000000000000003,0.25,0.3600000000000001,0.4900000000000001,0.6400000000000001,0.81,1.0,1.2100000000000002,1.4400000000000004,1.6900000000000002],\"type\":\"scatter\"}]},{\"data\":[{\"marker\":{\"color\":[0.0,0.09983341664682815,0.19866933079506122,0.2955202066613396,0.3894183423086505,0.479425538604203,0.5646424733950355,0.6442176872376911,0.7173560908995228,0.7833269096274834,0.8414709848078965,0.8912073600614354,0.9320390859672264,0.963558185417193,0.9854497299884603]},\"x\":[0.0,0.1,0.2,0.30000000000000004,0.4,0.5,0.6000000000000001,0.7000000000000001,0.8,0.9,1.0,1.1,1.2000000000000002,1.3,1.4000000000000001],\"y\":[0.0,0.010000000000000002,0.04000000000000001,0.09000000000000002,0.16000000000000003,0.25,0.3600000000000001,0.4900000000000001,0.6400000000000001,0.81,1.0,1.2100000000000002,1.4400000000000004,1.6900000000000002,1.9600000000000004],\"type\":\"scatter\"}]},{\"data\":[{\"marker\":{\"color\":[0.0,0.09983341664682815,0.19866933079506122,0.2955202066613396,0.3894183423086505,0.479425538604203,0.5646424733950355,0.6442176872376911,0.7173560908995228,0.7833269096274834,0.8414709848078965,0.8912073600614354,0.9320390859672264,0.963558185417193,0.9854497299884603,0.9974949866040544]},\"x\":[0.0,0.1,0.2,0.30000000000000004,0.4,0.5,0.6000000000000001,0.7000000000000001,0.8,0.9,1.0,1.1,1.2000000000000002,1.3,1.4000000000000001,1.5],\"y\":[0.0,0.010000000000000002,0.04000000000000001,0.09000000000000002,0.16000000000000003,0.25,0.3600000000000001,0.4900000000000001,0.6400000000000001,0.81,1.0,1.2100000000000002,1.4400000000000004,1.6900000000000002,1.9600000000000004,2.25],\"type\":\"scatter\"}]},{\"data\":[{\"marker\":{\"color\":[0.0,0.09983341664682815,0.19866933079506122,0.2955202066613396,0.3894183423086505,0.479425538604203,0.5646424733950355,0.6442176872376911,0.7173560908995228,0.7833269096274834,0.8414709848078965,0.8912073600614354,0.9320390859672264,0.963558185417193,0.9854497299884603,0.9974949866040544,0.9995736030415051]},\"x\":[0.0,0.1,0.2,0.30000000000000004,0.4,0.5,0.6000000000000001,0.7000000000000001,0.8,0.9,1.0,1.1,1.2000000000000002,1.3,1.4000000000000001,1.5,1.6],\"y\":[0.0,0.010000000000000002,0.04000000000000001,0.09000000000000002,0.16000000000000003,0.25,0.3600000000000001,0.4900000000000001,0.6400000000000001,0.81,1.0,1.2100000000000002,1.4400000000000004,1.6900000000000002,1.9600000000000004,2.25,2.5600000000000005],\"type\":\"scatter\"}]},{\"data\":[{\"marker\":{\"color\":[0.0,0.09983341664682815,0.19866933079506122,0.2955202066613396,0.3894183423086505,0.479425538604203,0.5646424733950355,0.6442176872376911,0.7173560908995228,0.7833269096274834,0.8414709848078965,0.8912073600614354,0.9320390859672264,0.963558185417193,0.9854497299884603,0.9974949866040544,0.9995736030415051,0.9916648104524686]},\"x\":[0.0,0.1,0.2,0.30000000000000004,0.4,0.5,0.6000000000000001,0.7000000000000001,0.8,0.9,1.0,1.1,1.2000000000000002,1.3,1.4000000000000001,1.5,1.6,1.7000000000000002],\"y\":[0.0,0.010000000000000002,0.04000000000000001,0.09000000000000002,0.16000000000000003,0.25,0.3600000000000001,0.4900000000000001,0.6400000000000001,0.81,1.0,1.2100000000000002,1.4400000000000004,1.6900000000000002,1.9600000000000004,2.25,2.5600000000000005,2.8900000000000006],\"type\":\"scatter\"}]},{\"data\":[{\"marker\":{\"color\":[0.0,0.09983341664682815,0.19866933079506122,0.2955202066613396,0.3894183423086505,0.479425538604203,0.5646424733950355,0.6442176872376911,0.7173560908995228,0.7833269096274834,0.8414709848078965,0.8912073600614354,0.9320390859672264,0.963558185417193,0.9854497299884603,0.9974949866040544,0.9995736030415051,0.9916648104524686,0.9738476308781951]},\"x\":[0.0,0.1,0.2,0.30000000000000004,0.4,0.5,0.6000000000000001,0.7000000000000001,0.8,0.9,1.0,1.1,1.2000000000000002,1.3,1.4000000000000001,1.5,1.6,1.7000000000000002,1.8],\"y\":[0.0,0.010000000000000002,0.04000000000000001,0.09000000000000002,0.16000000000000003,0.25,0.3600000000000001,0.4900000000000001,0.6400000000000001,0.81,1.0,1.2100000000000002,1.4400000000000004,1.6900000000000002,1.9600000000000004,2.25,2.5600000000000005,2.8900000000000006,3.24],\"type\":\"scatter\"}]},{\"data\":[{\"marker\":{\"color\":[0.0,0.09983341664682815,0.19866933079506122,0.2955202066613396,0.3894183423086505,0.479425538604203,0.5646424733950355,0.6442176872376911,0.7173560908995228,0.7833269096274834,0.8414709848078965,0.8912073600614354,0.9320390859672264,0.963558185417193,0.9854497299884603,0.9974949866040544,0.9995736030415051,0.9916648104524686,0.9738476308781951,0.9463000876874145]},\"x\":[0.0,0.1,0.2,0.30000000000000004,0.4,0.5,0.6000000000000001,0.7000000000000001,0.8,0.9,1.0,1.1,1.2000000000000002,1.3,1.4000000000000001,1.5,1.6,1.7000000000000002,1.8,1.9000000000000001],\"y\":[0.0,0.010000000000000002,0.04000000000000001,0.09000000000000002,0.16000000000000003,0.25,0.3600000000000001,0.4900000000000001,0.6400000000000001,0.81,1.0,1.2100000000000002,1.4400000000000004,1.6900000000000002,1.9600000000000004,2.25,2.5600000000000005,2.8900000000000006,3.24,3.6100000000000003],\"type\":\"scatter\"}]},{\"data\":[{\"marker\":{\"color\":[0.0,0.09983341664682815,0.19866933079506122,0.2955202066613396,0.3894183423086505,0.479425538604203,0.5646424733950355,0.6442176872376911,0.7173560908995228,0.7833269096274834,0.8414709848078965,0.8912073600614354,0.9320390859672264,0.963558185417193,0.9854497299884603,0.9974949866040544,0.9995736030415051,0.9916648104524686,0.9738476308781951,0.9463000876874145,0.9092974268256817]},\"x\":[0.0,0.1,0.2,0.30000000000000004,0.4,0.5,0.6000000000000001,0.7000000000000001,0.8,0.9,1.0,1.1,1.2000000000000002,1.3,1.4000000000000001,1.5,1.6,1.7000000000000002,1.8,1.9000000000000001,2.0],\"y\":[0.0,0.010000000000000002,0.04000000000000001,0.09000000000000002,0.16000000000000003,0.25,0.3600000000000001,0.4900000000000001,0.6400000000000001,0.81,1.0,1.2100000000000002,1.4400000000000004,1.6900000000000002,1.9600000000000004,2.25,2.5600000000000005,2.8900000000000006,3.24,3.6100000000000003,4.0],\"type\":\"scatter\"}]},{\"data\":[{\"marker\":{\"color\":[0.0,0.09983341664682815,0.19866933079506122,0.2955202066613396,0.3894183423086505,0.479425538604203,0.5646424733950355,0.6442176872376911,0.7173560908995228,0.7833269096274834,0.8414709848078965,0.8912073600614354,0.9320390859672264,0.963558185417193,0.9854497299884603,0.9974949866040544,0.9995736030415051,0.9916648104524686,0.9738476308781951,0.9463000876874145,0.9092974268256817,0.8632093666488737]},\"x\":[0.0,0.1,0.2,0.30000000000000004,0.4,0.5,0.6000000000000001,0.7000000000000001,0.8,0.9,1.0,1.1,1.2000000000000002,1.3,1.4000000000000001,1.5,1.6,1.7000000000000002,1.8,1.9000000000000001,2.0,2.1],\"y\":[0.0,0.010000000000000002,0.04000000000000001,0.09000000000000002,0.16000000000000003,0.25,0.3600000000000001,0.4900000000000001,0.6400000000000001,0.81,1.0,1.2100000000000002,1.4400000000000004,1.6900000000000002,1.9600000000000004,2.25,2.5600000000000005,2.8900000000000006,3.24,3.6100000000000003,4.0,4.41],\"type\":\"scatter\"}]},{\"data\":[{\"marker\":{\"color\":[0.0,0.09983341664682815,0.19866933079506122,0.2955202066613396,0.3894183423086505,0.479425538604203,0.5646424733950355,0.6442176872376911,0.7173560908995228,0.7833269096274834,0.8414709848078965,0.8912073600614354,0.9320390859672264,0.963558185417193,0.9854497299884603,0.9974949866040544,0.9995736030415051,0.9916648104524686,0.9738476308781951,0.9463000876874145,0.9092974268256817,0.8632093666488737,0.8084964038195901]},\"x\":[0.0,0.1,0.2,0.30000000000000004,0.4,0.5,0.6000000000000001,0.7000000000000001,0.8,0.9,1.0,1.1,1.2000000000000002,1.3,1.4000000000000001,1.5,1.6,1.7000000000000002,1.8,1.9000000000000001,2.0,2.1,2.2],\"y\":[0.0,0.010000000000000002,0.04000000000000001,0.09000000000000002,0.16000000000000003,0.25,0.3600000000000001,0.4900000000000001,0.6400000000000001,0.81,1.0,1.2100000000000002,1.4400000000000004,1.6900000000000002,1.9600000000000004,2.25,2.5600000000000005,2.8900000000000006,3.24,3.6100000000000003,4.0,4.41,4.840000000000001],\"type\":\"scatter\"}]},{\"data\":[{\"marker\":{\"color\":[0.0,0.09983341664682815,0.19866933079506122,0.2955202066613396,0.3894183423086505,0.479425538604203,0.5646424733950355,0.6442176872376911,0.7173560908995228,0.7833269096274834,0.8414709848078965,0.8912073600614354,0.9320390859672264,0.963558185417193,0.9854497299884603,0.9974949866040544,0.9995736030415051,0.9916648104524686,0.9738476308781951,0.9463000876874145,0.9092974268256817,0.8632093666488737,0.8084964038195901,0.74570521217672]},\"x\":[0.0,0.1,0.2,0.30000000000000004,0.4,0.5,0.6000000000000001,0.7000000000000001,0.8,0.9,1.0,1.1,1.2000000000000002,1.3,1.4000000000000001,1.5,1.6,1.7000000000000002,1.8,1.9000000000000001,2.0,2.1,2.2,2.3000000000000003],\"y\":[0.0,0.010000000000000002,0.04000000000000001,0.09000000000000002,0.16000000000000003,0.25,0.3600000000000001,0.4900000000000001,0.6400000000000001,0.81,1.0,1.2100000000000002,1.4400000000000004,1.6900000000000002,1.9600000000000004,2.25,2.5600000000000005,2.8900000000000006,3.24,3.6100000000000003,4.0,4.41,4.840000000000001,5.290000000000001],\"type\":\"scatter\"}]},{\"data\":[{\"marker\":{\"color\":[0.0,0.09983341664682815,0.19866933079506122,0.2955202066613396,0.3894183423086505,0.479425538604203,0.5646424733950355,0.6442176872376911,0.7173560908995228,0.7833269096274834,0.8414709848078965,0.8912073600614354,0.9320390859672264,0.963558185417193,0.9854497299884603,0.9974949866040544,0.9995736030415051,0.9916648104524686,0.9738476308781951,0.9463000876874145,0.9092974268256817,0.8632093666488737,0.8084964038195901,0.74570521217672,0.6754631805511506]},\"x\":[0.0,0.1,0.2,0.30000000000000004,0.4,0.5,0.6000000000000001,0.7000000000000001,0.8,0.9,1.0,1.1,1.2000000000000002,1.3,1.4000000000000001,1.5,1.6,1.7000000000000002,1.8,1.9000000000000001,2.0,2.1,2.2,2.3000000000000003,2.4000000000000004],\"y\":[0.0,0.010000000000000002,0.04000000000000001,0.09000000000000002,0.16000000000000003,0.25,0.3600000000000001,0.4900000000000001,0.6400000000000001,0.81,1.0,1.2100000000000002,1.4400000000000004,1.6900000000000002,1.9600000000000004,2.25,2.5600000000000005,2.8900000000000006,3.24,3.6100000000000003,4.0,4.41,4.840000000000001,5.290000000000001,5.760000000000002],\"type\":\"scatter\"}]},{\"data\":[{\"marker\":{\"color\":[0.0,0.09983341664682815,0.19866933079506122,0.2955202066613396,0.3894183423086505,0.479425538604203,0.5646424733950355,0.6442176872376911,0.7173560908995228,0.7833269096274834,0.8414709848078965,0.8912073600614354,0.9320390859672264,0.963558185417193,0.9854497299884603,0.9974949866040544,0.9995736030415051,0.9916648104524686,0.9738476308781951,0.9463000876874145,0.9092974268256817,0.8632093666488737,0.8084964038195901,0.74570521217672,0.6754631805511506,0.5984721441039564]},\"x\":[0.0,0.1,0.2,0.30000000000000004,0.4,0.5,0.6000000000000001,0.7000000000000001,0.8,0.9,1.0,1.1,1.2000000000000002,1.3,1.4000000000000001,1.5,1.6,1.7000000000000002,1.8,1.9000000000000001,2.0,2.1,2.2,2.3000000000000003,2.4000000000000004,2.5],\"y\":[0.0,0.010000000000000002,0.04000000000000001,0.09000000000000002,0.16000000000000003,0.25,0.3600000000000001,0.4900000000000001,0.6400000000000001,0.81,1.0,1.2100000000000002,1.4400000000000004,1.6900000000000002,1.9600000000000004,2.25,2.5600000000000005,2.8900000000000006,3.24,3.6100000000000003,4.0,4.41,4.840000000000001,5.290000000000001,5.760000000000002,6.25],\"type\":\"scatter\"}]},{\"data\":[{\"marker\":{\"color\":[0.0,0.09983341664682815,0.19866933079506122,0.2955202066613396,0.3894183423086505,0.479425538604203,0.5646424733950355,0.6442176872376911,0.7173560908995228,0.7833269096274834,0.8414709848078965,0.8912073600614354,0.9320390859672264,0.963558185417193,0.9854497299884603,0.9974949866040544,0.9995736030415051,0.9916648104524686,0.9738476308781951,0.9463000876874145,0.9092974268256817,0.8632093666488737,0.8084964038195901,0.74570521217672,0.6754631805511506,0.5984721441039564,0.5155013718214642]},\"x\":[0.0,0.1,0.2,0.30000000000000004,0.4,0.5,0.6000000000000001,0.7000000000000001,0.8,0.9,1.0,1.1,1.2000000000000002,1.3,1.4000000000000001,1.5,1.6,1.7000000000000002,1.8,1.9000000000000001,2.0,2.1,2.2,2.3000000000000003,2.4000000000000004,2.5,2.6],\"y\":[0.0,0.010000000000000002,0.04000000000000001,0.09000000000000002,0.16000000000000003,0.25,0.3600000000000001,0.4900000000000001,0.6400000000000001,0.81,1.0,1.2100000000000002,1.4400000000000004,1.6900000000000002,1.9600000000000004,2.25,2.5600000000000005,2.8900000000000006,3.24,3.6100000000000003,4.0,4.41,4.840000000000001,5.290000000000001,5.760000000000002,6.25,6.760000000000001],\"type\":\"scatter\"}]},{\"data\":[{\"marker\":{\"color\":[0.0,0.09983341664682815,0.19866933079506122,0.2955202066613396,0.3894183423086505,0.479425538604203,0.5646424733950355,0.6442176872376911,0.7173560908995228,0.7833269096274834,0.8414709848078965,0.8912073600614354,0.9320390859672264,0.963558185417193,0.9854497299884603,0.9974949866040544,0.9995736030415051,0.9916648104524686,0.9738476308781951,0.9463000876874145,0.9092974268256817,0.8632093666488737,0.8084964038195901,0.74570521217672,0.6754631805511506,0.5984721441039564,0.5155013718214642,0.4273798802338298]},\"x\":[0.0,0.1,0.2,0.30000000000000004,0.4,0.5,0.6000000000000001,0.7000000000000001,0.8,0.9,1.0,1.1,1.2000000000000002,1.3,1.4000000000000001,1.5,1.6,1.7000000000000002,1.8,1.9000000000000001,2.0,2.1,2.2,2.3000000000000003,2.4000000000000004,2.5,2.6,2.7],\"y\":[0.0,0.010000000000000002,0.04000000000000001,0.09000000000000002,0.16000000000000003,0.25,0.3600000000000001,0.4900000000000001,0.6400000000000001,0.81,1.0,1.2100000000000002,1.4400000000000004,1.6900000000000002,1.9600000000000004,2.25,2.5600000000000005,2.8900000000000006,3.24,3.6100000000000003,4.0,4.41,4.840000000000001,5.290000000000001,5.760000000000002,6.25,6.760000000000001,7.290000000000001],\"type\":\"scatter\"}]},{\"data\":[{\"marker\":{\"color\":[0.0,0.09983341664682815,0.19866933079506122,0.2955202066613396,0.3894183423086505,0.479425538604203,0.5646424733950355,0.6442176872376911,0.7173560908995228,0.7833269096274834,0.8414709848078965,0.8912073600614354,0.9320390859672264,0.963558185417193,0.9854497299884603,0.9974949866040544,0.9995736030415051,0.9916648104524686,0.9738476308781951,0.9463000876874145,0.9092974268256817,0.8632093666488737,0.8084964038195901,0.74570521217672,0.6754631805511506,0.5984721441039564,0.5155013718214642,0.4273798802338298,0.33498815015590466]},\"x\":[0.0,0.1,0.2,0.30000000000000004,0.4,0.5,0.6000000000000001,0.7000000000000001,0.8,0.9,1.0,1.1,1.2000000000000002,1.3,1.4000000000000001,1.5,1.6,1.7000000000000002,1.8,1.9000000000000001,2.0,2.1,2.2,2.3000000000000003,2.4000000000000004,2.5,2.6,2.7,2.8000000000000003],\"y\":[0.0,0.010000000000000002,0.04000000000000001,0.09000000000000002,0.16000000000000003,0.25,0.3600000000000001,0.4900000000000001,0.6400000000000001,0.81,1.0,1.2100000000000002,1.4400000000000004,1.6900000000000002,1.9600000000000004,2.25,2.5600000000000005,2.8900000000000006,3.24,3.6100000000000003,4.0,4.41,4.840000000000001,5.290000000000001,5.760000000000002,6.25,6.760000000000001,7.290000000000001,7.840000000000002],\"type\":\"scatter\"}]},{\"data\":[{\"marker\":{\"color\":[0.0,0.09983341664682815,0.19866933079506122,0.2955202066613396,0.3894183423086505,0.479425538604203,0.5646424733950355,0.6442176872376911,0.7173560908995228,0.7833269096274834,0.8414709848078965,0.8912073600614354,0.9320390859672264,0.963558185417193,0.9854497299884603,0.9974949866040544,0.9995736030415051,0.9916648104524686,0.9738476308781951,0.9463000876874145,0.9092974268256817,0.8632093666488737,0.8084964038195901,0.74570521217672,0.6754631805511506,0.5984721441039564,0.5155013718214642,0.4273798802338298,0.33498815015590466,0.23924932921398198]},\"x\":[0.0,0.1,0.2,0.30000000000000004,0.4,0.5,0.6000000000000001,0.7000000000000001,0.8,0.9,1.0,1.1,1.2000000000000002,1.3,1.4000000000000001,1.5,1.6,1.7000000000000002,1.8,1.9000000000000001,2.0,2.1,2.2,2.3000000000000003,2.4000000000000004,2.5,2.6,2.7,2.8000000000000003,2.9000000000000004],\"y\":[0.0,0.010000000000000002,0.04000000000000001,0.09000000000000002,0.16000000000000003,0.25,0.3600000000000001,0.4900000000000001,0.6400000000000001,0.81,1.0,1.2100000000000002,1.4400000000000004,1.6900000000000002,1.9600000000000004,2.25,2.5600000000000005,2.8900000000000006,3.24,3.6100000000000003,4.0,4.41,4.840000000000001,5.290000000000001,5.760000000000002,6.25,6.760000000000001,7.290000000000001,7.840000000000002,8.410000000000002],\"type\":\"scatter\"}]},{\"data\":[{\"marker\":{\"color\":[0.0,0.09983341664682815,0.19866933079506122,0.2955202066613396,0.3894183423086505,0.479425538604203,0.5646424733950355,0.6442176872376911,0.7173560908995228,0.7833269096274834,0.8414709848078965,0.8912073600614354,0.9320390859672264,0.963558185417193,0.9854497299884603,0.9974949866040544,0.9995736030415051,0.9916648104524686,0.9738476308781951,0.9463000876874145,0.9092974268256817,0.8632093666488737,0.8084964038195901,0.74570521217672,0.6754631805511506,0.5984721441039564,0.5155013718214642,0.4273798802338298,0.33498815015590466,0.23924932921398198,0.1411200080598672]},\"x\":[0.0,0.1,0.2,0.30000000000000004,0.4,0.5,0.6000000000000001,0.7000000000000001,0.8,0.9,1.0,1.1,1.2000000000000002,1.3,1.4000000000000001,1.5,1.6,1.7000000000000002,1.8,1.9000000000000001,2.0,2.1,2.2,2.3000000000000003,2.4000000000000004,2.5,2.6,2.7,2.8000000000000003,2.9000000000000004,3.0],\"y\":[0.0,0.010000000000000002,0.04000000000000001,0.09000000000000002,0.16000000000000003,0.25,0.3600000000000001,0.4900000000000001,0.6400000000000001,0.81,1.0,1.2100000000000002,1.4400000000000004,1.6900000000000002,1.9600000000000004,2.25,2.5600000000000005,2.8900000000000006,3.24,3.6100000000000003,4.0,4.41,4.840000000000001,5.290000000000001,5.760000000000002,6.25,6.760000000000001,7.290000000000001,7.840000000000002,8.410000000000002,9.0],\"type\":\"scatter\"}]},{\"data\":[{\"marker\":{\"color\":[0.0,0.09983341664682815,0.19866933079506122,0.2955202066613396,0.3894183423086505,0.479425538604203,0.5646424733950355,0.6442176872376911,0.7173560908995228,0.7833269096274834,0.8414709848078965,0.8912073600614354,0.9320390859672264,0.963558185417193,0.9854497299884603,0.9974949866040544,0.9995736030415051,0.9916648104524686,0.9738476308781951,0.9463000876874145,0.9092974268256817,0.8632093666488737,0.8084964038195901,0.74570521217672,0.6754631805511506,0.5984721441039564,0.5155013718214642,0.4273798802338298,0.33498815015590466,0.23924932921398198,0.1411200080598672,0.04158066243329049]},\"x\":[0.0,0.1,0.2,0.30000000000000004,0.4,0.5,0.6000000000000001,0.7000000000000001,0.8,0.9,1.0,1.1,1.2000000000000002,1.3,1.4000000000000001,1.5,1.6,1.7000000000000002,1.8,1.9000000000000001,2.0,2.1,2.2,2.3000000000000003,2.4000000000000004,2.5,2.6,2.7,2.8000000000000003,2.9000000000000004,3.0,3.1],\"y\":[0.0,0.010000000000000002,0.04000000000000001,0.09000000000000002,0.16000000000000003,0.25,0.3600000000000001,0.4900000000000001,0.6400000000000001,0.81,1.0,1.2100000000000002,1.4400000000000004,1.6900000000000002,1.9600000000000004,2.25,2.5600000000000005,2.8900000000000006,3.24,3.6100000000000003,4.0,4.41,4.840000000000001,5.290000000000001,5.760000000000002,6.25,6.760000000000001,7.290000000000001,7.840000000000002,8.410000000000002,9.0,9.610000000000001],\"type\":\"scatter\"}]},{\"data\":[{\"marker\":{\"color\":[0.0,0.09983341664682815,0.19866933079506122,0.2955202066613396,0.3894183423086505,0.479425538604203,0.5646424733950355,0.6442176872376911,0.7173560908995228,0.7833269096274834,0.8414709848078965,0.8912073600614354,0.9320390859672264,0.963558185417193,0.9854497299884603,0.9974949866040544,0.9995736030415051,0.9916648104524686,0.9738476308781951,0.9463000876874145,0.9092974268256817,0.8632093666488737,0.8084964038195901,0.74570521217672,0.6754631805511506,0.5984721441039564,0.5155013718214642,0.4273798802338298,0.33498815015590466,0.23924932921398198,0.1411200080598672,0.04158066243329049,-0.058374143427580086]},\"x\":[0.0,0.1,0.2,0.30000000000000004,0.4,0.5,0.6000000000000001,0.7000000000000001,0.8,0.9,1.0,1.1,1.2000000000000002,1.3,1.4000000000000001,1.5,1.6,1.7000000000000002,1.8,1.9000000000000001,2.0,2.1,2.2,2.3000000000000003,2.4000000000000004,2.5,2.6,2.7,2.8000000000000003,2.9000000000000004,3.0,3.1,3.2],\"y\":[0.0,0.010000000000000002,0.04000000000000001,0.09000000000000002,0.16000000000000003,0.25,0.3600000000000001,0.4900000000000001,0.6400000000000001,0.81,1.0,1.2100000000000002,1.4400000000000004,1.6900000000000002,1.9600000000000004,2.25,2.5600000000000005,2.8900000000000006,3.24,3.6100000000000003,4.0,4.41,4.840000000000001,5.290000000000001,5.760000000000002,6.25,6.760000000000001,7.290000000000001,7.840000000000002,8.410000000000002,9.0,9.610000000000001,10.240000000000002],\"type\":\"scatter\"}]},{\"data\":[{\"marker\":{\"color\":[0.0,0.09983341664682815,0.19866933079506122,0.2955202066613396,0.3894183423086505,0.479425538604203,0.5646424733950355,0.6442176872376911,0.7173560908995228,0.7833269096274834,0.8414709848078965,0.8912073600614354,0.9320390859672264,0.963558185417193,0.9854497299884603,0.9974949866040544,0.9995736030415051,0.9916648104524686,0.9738476308781951,0.9463000876874145,0.9092974268256817,0.8632093666488737,0.8084964038195901,0.74570521217672,0.6754631805511506,0.5984721441039564,0.5155013718214642,0.4273798802338298,0.33498815015590466,0.23924932921398198,0.1411200080598672,0.04158066243329049,-0.058374143427580086,-0.15774569414324865]},\"x\":[0.0,0.1,0.2,0.30000000000000004,0.4,0.5,0.6000000000000001,0.7000000000000001,0.8,0.9,1.0,1.1,1.2000000000000002,1.3,1.4000000000000001,1.5,1.6,1.7000000000000002,1.8,1.9000000000000001,2.0,2.1,2.2,2.3000000000000003,2.4000000000000004,2.5,2.6,2.7,2.8000000000000003,2.9000000000000004,3.0,3.1,3.2,3.3000000000000003],\"y\":[0.0,0.010000000000000002,0.04000000000000001,0.09000000000000002,0.16000000000000003,0.25,0.3600000000000001,0.4900000000000001,0.6400000000000001,0.81,1.0,1.2100000000000002,1.4400000000000004,1.6900000000000002,1.9600000000000004,2.25,2.5600000000000005,2.8900000000000006,3.24,3.6100000000000003,4.0,4.41,4.840000000000001,5.290000000000001,5.760000000000002,6.25,6.760000000000001,7.290000000000001,7.840000000000002,8.410000000000002,9.0,9.610000000000001,10.240000000000002,10.890000000000002],\"type\":\"scatter\"}]},{\"data\":[{\"marker\":{\"color\":[0.0,0.09983341664682815,0.19866933079506122,0.2955202066613396,0.3894183423086505,0.479425538604203,0.5646424733950355,0.6442176872376911,0.7173560908995228,0.7833269096274834,0.8414709848078965,0.8912073600614354,0.9320390859672264,0.963558185417193,0.9854497299884603,0.9974949866040544,0.9995736030415051,0.9916648104524686,0.9738476308781951,0.9463000876874145,0.9092974268256817,0.8632093666488737,0.8084964038195901,0.74570521217672,0.6754631805511506,0.5984721441039564,0.5155013718214642,0.4273798802338298,0.33498815015590466,0.23924932921398198,0.1411200080598672,0.04158066243329049,-0.058374143427580086,-0.15774569414324865,-0.25554110202683167]},\"x\":[0.0,0.1,0.2,0.30000000000000004,0.4,0.5,0.6000000000000001,0.7000000000000001,0.8,0.9,1.0,1.1,1.2000000000000002,1.3,1.4000000000000001,1.5,1.6,1.7000000000000002,1.8,1.9000000000000001,2.0,2.1,2.2,2.3000000000000003,2.4000000000000004,2.5,2.6,2.7,2.8000000000000003,2.9000000000000004,3.0,3.1,3.2,3.3000000000000003,3.4000000000000004],\"y\":[0.0,0.010000000000000002,0.04000000000000001,0.09000000000000002,0.16000000000000003,0.25,0.3600000000000001,0.4900000000000001,0.6400000000000001,0.81,1.0,1.2100000000000002,1.4400000000000004,1.6900000000000002,1.9600000000000004,2.25,2.5600000000000005,2.8900000000000006,3.24,3.6100000000000003,4.0,4.41,4.840000000000001,5.290000000000001,5.760000000000002,6.25,6.760000000000001,7.290000000000001,7.840000000000002,8.410000000000002,9.0,9.610000000000001,10.240000000000002,10.890000000000002,11.560000000000002],\"type\":\"scatter\"}]},{\"data\":[{\"marker\":{\"color\":[0.0,0.09983341664682815,0.19866933079506122,0.2955202066613396,0.3894183423086505,0.479425538604203,0.5646424733950355,0.6442176872376911,0.7173560908995228,0.7833269096274834,0.8414709848078965,0.8912073600614354,0.9320390859672264,0.963558185417193,0.9854497299884603,0.9974949866040544,0.9995736030415051,0.9916648104524686,0.9738476308781951,0.9463000876874145,0.9092974268256817,0.8632093666488737,0.8084964038195901,0.74570521217672,0.6754631805511506,0.5984721441039564,0.5155013718214642,0.4273798802338298,0.33498815015590466,0.23924932921398198,0.1411200080598672,0.04158066243329049,-0.058374143427580086,-0.15774569414324865,-0.25554110202683167,-0.35078322768961984]},\"x\":[0.0,0.1,0.2,0.30000000000000004,0.4,0.5,0.6000000000000001,0.7000000000000001,0.8,0.9,1.0,1.1,1.2000000000000002,1.3,1.4000000000000001,1.5,1.6,1.7000000000000002,1.8,1.9000000000000001,2.0,2.1,2.2,2.3000000000000003,2.4000000000000004,2.5,2.6,2.7,2.8000000000000003,2.9000000000000004,3.0,3.1,3.2,3.3000000000000003,3.4000000000000004,3.5],\"y\":[0.0,0.010000000000000002,0.04000000000000001,0.09000000000000002,0.16000000000000003,0.25,0.3600000000000001,0.4900000000000001,0.6400000000000001,0.81,1.0,1.2100000000000002,1.4400000000000004,1.6900000000000002,1.9600000000000004,2.25,2.5600000000000005,2.8900000000000006,3.24,3.6100000000000003,4.0,4.41,4.840000000000001,5.290000000000001,5.760000000000002,6.25,6.760000000000001,7.290000000000001,7.840000000000002,8.410000000000002,9.0,9.610000000000001,10.240000000000002,10.890000000000002,11.560000000000002,12.25],\"type\":\"scatter\"}]},{\"data\":[{\"marker\":{\"color\":[0.0,0.09983341664682815,0.19866933079506122,0.2955202066613396,0.3894183423086505,0.479425538604203,0.5646424733950355,0.6442176872376911,0.7173560908995228,0.7833269096274834,0.8414709848078965,0.8912073600614354,0.9320390859672264,0.963558185417193,0.9854497299884603,0.9974949866040544,0.9995736030415051,0.9916648104524686,0.9738476308781951,0.9463000876874145,0.9092974268256817,0.8632093666488737,0.8084964038195901,0.74570521217672,0.6754631805511506,0.5984721441039564,0.5155013718214642,0.4273798802338298,0.33498815015590466,0.23924932921398198,0.1411200080598672,0.04158066243329049,-0.058374143427580086,-0.15774569414324865,-0.25554110202683167,-0.35078322768961984,-0.44252044329485246]},\"x\":[0.0,0.1,0.2,0.30000000000000004,0.4,0.5,0.6000000000000001,0.7000000000000001,0.8,0.9,1.0,1.1,1.2000000000000002,1.3,1.4000000000000001,1.5,1.6,1.7000000000000002,1.8,1.9000000000000001,2.0,2.1,2.2,2.3000000000000003,2.4000000000000004,2.5,2.6,2.7,2.8000000000000003,2.9000000000000004,3.0,3.1,3.2,3.3000000000000003,3.4000000000000004,3.5,3.6],\"y\":[0.0,0.010000000000000002,0.04000000000000001,0.09000000000000002,0.16000000000000003,0.25,0.3600000000000001,0.4900000000000001,0.6400000000000001,0.81,1.0,1.2100000000000002,1.4400000000000004,1.6900000000000002,1.9600000000000004,2.25,2.5600000000000005,2.8900000000000006,3.24,3.6100000000000003,4.0,4.41,4.840000000000001,5.290000000000001,5.760000000000002,6.25,6.760000000000001,7.290000000000001,7.840000000000002,8.410000000000002,9.0,9.610000000000001,10.240000000000002,10.890000000000002,11.560000000000002,12.25,12.96],\"type\":\"scatter\"}]},{\"data\":[{\"marker\":{\"color\":[0.0,0.09983341664682815,0.19866933079506122,0.2955202066613396,0.3894183423086505,0.479425538604203,0.5646424733950355,0.6442176872376911,0.7173560908995228,0.7833269096274834,0.8414709848078965,0.8912073600614354,0.9320390859672264,0.963558185417193,0.9854497299884603,0.9974949866040544,0.9995736030415051,0.9916648104524686,0.9738476308781951,0.9463000876874145,0.9092974268256817,0.8632093666488737,0.8084964038195901,0.74570521217672,0.6754631805511506,0.5984721441039564,0.5155013718214642,0.4273798802338298,0.33498815015590466,0.23924932921398198,0.1411200080598672,0.04158066243329049,-0.058374143427580086,-0.15774569414324865,-0.25554110202683167,-0.35078322768961984,-0.44252044329485246,-0.5298361409084934]},\"x\":[0.0,0.1,0.2,0.30000000000000004,0.4,0.5,0.6000000000000001,0.7000000000000001,0.8,0.9,1.0,1.1,1.2000000000000002,1.3,1.4000000000000001,1.5,1.6,1.7000000000000002,1.8,1.9000000000000001,2.0,2.1,2.2,2.3000000000000003,2.4000000000000004,2.5,2.6,2.7,2.8000000000000003,2.9000000000000004,3.0,3.1,3.2,3.3000000000000003,3.4000000000000004,3.5,3.6,3.7],\"y\":[0.0,0.010000000000000002,0.04000000000000001,0.09000000000000002,0.16000000000000003,0.25,0.3600000000000001,0.4900000000000001,0.6400000000000001,0.81,1.0,1.2100000000000002,1.4400000000000004,1.6900000000000002,1.9600000000000004,2.25,2.5600000000000005,2.8900000000000006,3.24,3.6100000000000003,4.0,4.41,4.840000000000001,5.290000000000001,5.760000000000002,6.25,6.760000000000001,7.290000000000001,7.840000000000002,8.410000000000002,9.0,9.610000000000001,10.240000000000002,10.890000000000002,11.560000000000002,12.25,12.96,13.690000000000001],\"type\":\"scatter\"}]},{\"data\":[{\"marker\":{\"color\":[0.0,0.09983341664682815,0.19866933079506122,0.2955202066613396,0.3894183423086505,0.479425538604203,0.5646424733950355,0.6442176872376911,0.7173560908995228,0.7833269096274834,0.8414709848078965,0.8912073600614354,0.9320390859672264,0.963558185417193,0.9854497299884603,0.9974949866040544,0.9995736030415051,0.9916648104524686,0.9738476308781951,0.9463000876874145,0.9092974268256817,0.8632093666488737,0.8084964038195901,0.74570521217672,0.6754631805511506,0.5984721441039564,0.5155013718214642,0.4273798802338298,0.33498815015590466,0.23924932921398198,0.1411200080598672,0.04158066243329049,-0.058374143427580086,-0.15774569414324865,-0.25554110202683167,-0.35078322768961984,-0.44252044329485246,-0.5298361409084934,-0.6118578909427193]},\"x\":[0.0,0.1,0.2,0.30000000000000004,0.4,0.5,0.6000000000000001,0.7000000000000001,0.8,0.9,1.0,1.1,1.2000000000000002,1.3,1.4000000000000001,1.5,1.6,1.7000000000000002,1.8,1.9000000000000001,2.0,2.1,2.2,2.3000000000000003,2.4000000000000004,2.5,2.6,2.7,2.8000000000000003,2.9000000000000004,3.0,3.1,3.2,3.3000000000000003,3.4000000000000004,3.5,3.6,3.7,3.8000000000000003],\"y\":[0.0,0.010000000000000002,0.04000000000000001,0.09000000000000002,0.16000000000000003,0.25,0.3600000000000001,0.4900000000000001,0.6400000000000001,0.81,1.0,1.2100000000000002,1.4400000000000004,1.6900000000000002,1.9600000000000004,2.25,2.5600000000000005,2.8900000000000006,3.24,3.6100000000000003,4.0,4.41,4.840000000000001,5.290000000000001,5.760000000000002,6.25,6.760000000000001,7.290000000000001,7.840000000000002,8.410000000000002,9.0,9.610000000000001,10.240000000000002,10.890000000000002,11.560000000000002,12.25,12.96,13.690000000000001,14.440000000000001],\"type\":\"scatter\"}]},{\"data\":[{\"marker\":{\"color\":[0.0,0.09983341664682815,0.19866933079506122,0.2955202066613396,0.3894183423086505,0.479425538604203,0.5646424733950355,0.6442176872376911,0.7173560908995228,0.7833269096274834,0.8414709848078965,0.8912073600614354,0.9320390859672264,0.963558185417193,0.9854497299884603,0.9974949866040544,0.9995736030415051,0.9916648104524686,0.9738476308781951,0.9463000876874145,0.9092974268256817,0.8632093666488737,0.8084964038195901,0.74570521217672,0.6754631805511506,0.5984721441039564,0.5155013718214642,0.4273798802338298,0.33498815015590466,0.23924932921398198,0.1411200080598672,0.04158066243329049,-0.058374143427580086,-0.15774569414324865,-0.25554110202683167,-0.35078322768961984,-0.44252044329485246,-0.5298361409084934,-0.6118578909427193,-0.6877661591839741]},\"x\":[0.0,0.1,0.2,0.30000000000000004,0.4,0.5,0.6000000000000001,0.7000000000000001,0.8,0.9,1.0,1.1,1.2000000000000002,1.3,1.4000000000000001,1.5,1.6,1.7000000000000002,1.8,1.9000000000000001,2.0,2.1,2.2,2.3000000000000003,2.4000000000000004,2.5,2.6,2.7,2.8000000000000003,2.9000000000000004,3.0,3.1,3.2,3.3000000000000003,3.4000000000000004,3.5,3.6,3.7,3.8000000000000003,3.9000000000000004],\"y\":[0.0,0.010000000000000002,0.04000000000000001,0.09000000000000002,0.16000000000000003,0.25,0.3600000000000001,0.4900000000000001,0.6400000000000001,0.81,1.0,1.2100000000000002,1.4400000000000004,1.6900000000000002,1.9600000000000004,2.25,2.5600000000000005,2.8900000000000006,3.24,3.6100000000000003,4.0,4.41,4.840000000000001,5.290000000000001,5.760000000000002,6.25,6.760000000000001,7.290000000000001,7.840000000000002,8.410000000000002,9.0,9.610000000000001,10.240000000000002,10.890000000000002,11.560000000000002,12.25,12.96,13.690000000000001,14.440000000000001,15.210000000000003],\"type\":\"scatter\"}]},{\"data\":[{\"marker\":{\"color\":[0.0,0.09983341664682815,0.19866933079506122,0.2955202066613396,0.3894183423086505,0.479425538604203,0.5646424733950355,0.6442176872376911,0.7173560908995228,0.7833269096274834,0.8414709848078965,0.8912073600614354,0.9320390859672264,0.963558185417193,0.9854497299884603,0.9974949866040544,0.9995736030415051,0.9916648104524686,0.9738476308781951,0.9463000876874145,0.9092974268256817,0.8632093666488737,0.8084964038195901,0.74570521217672,0.6754631805511506,0.5984721441039564,0.5155013718214642,0.4273798802338298,0.33498815015590466,0.23924932921398198,0.1411200080598672,0.04158066243329049,-0.058374143427580086,-0.15774569414324865,-0.25554110202683167,-0.35078322768961984,-0.44252044329485246,-0.5298361409084934,-0.6118578909427193,-0.6877661591839741,-0.7568024953079282]},\"x\":[0.0,0.1,0.2,0.30000000000000004,0.4,0.5,0.6000000000000001,0.7000000000000001,0.8,0.9,1.0,1.1,1.2000000000000002,1.3,1.4000000000000001,1.5,1.6,1.7000000000000002,1.8,1.9000000000000001,2.0,2.1,2.2,2.3000000000000003,2.4000000000000004,2.5,2.6,2.7,2.8000000000000003,2.9000000000000004,3.0,3.1,3.2,3.3000000000000003,3.4000000000000004,3.5,3.6,3.7,3.8000000000000003,3.9000000000000004,4.0],\"y\":[0.0,0.010000000000000002,0.04000000000000001,0.09000000000000002,0.16000000000000003,0.25,0.3600000000000001,0.4900000000000001,0.6400000000000001,0.81,1.0,1.2100000000000002,1.4400000000000004,1.6900000000000002,1.9600000000000004,2.25,2.5600000000000005,2.8900000000000006,3.24,3.6100000000000003,4.0,4.41,4.840000000000001,5.290000000000001,5.760000000000002,6.25,6.760000000000001,7.290000000000001,7.840000000000002,8.410000000000002,9.0,9.610000000000001,10.240000000000002,10.890000000000002,11.560000000000002,12.25,12.96,13.690000000000001,14.440000000000001,15.210000000000003,16.0],\"type\":\"scatter\"}]},{\"data\":[{\"marker\":{\"color\":[0.0,0.09983341664682815,0.19866933079506122,0.2955202066613396,0.3894183423086505,0.479425538604203,0.5646424733950355,0.6442176872376911,0.7173560908995228,0.7833269096274834,0.8414709848078965,0.8912073600614354,0.9320390859672264,0.963558185417193,0.9854497299884603,0.9974949866040544,0.9995736030415051,0.9916648104524686,0.9738476308781951,0.9463000876874145,0.9092974268256817,0.8632093666488737,0.8084964038195901,0.74570521217672,0.6754631805511506,0.5984721441039564,0.5155013718214642,0.4273798802338298,0.33498815015590466,0.23924932921398198,0.1411200080598672,0.04158066243329049,-0.058374143427580086,-0.15774569414324865,-0.25554110202683167,-0.35078322768961984,-0.44252044329485246,-0.5298361409084934,-0.6118578909427193,-0.6877661591839741,-0.7568024953079282,-0.8182771110644108]},\"x\":[0.0,0.1,0.2,0.30000000000000004,0.4,0.5,0.6000000000000001,0.7000000000000001,0.8,0.9,1.0,1.1,1.2000000000000002,1.3,1.4000000000000001,1.5,1.6,1.7000000000000002,1.8,1.9000000000000001,2.0,2.1,2.2,2.3000000000000003,2.4000000000000004,2.5,2.6,2.7,2.8000000000000003,2.9000000000000004,3.0,3.1,3.2,3.3000000000000003,3.4000000000000004,3.5,3.6,3.7,3.8000000000000003,3.9000000000000004,4.0,4.1000000000000005],\"y\":[0.0,0.010000000000000002,0.04000000000000001,0.09000000000000002,0.16000000000000003,0.25,0.3600000000000001,0.4900000000000001,0.6400000000000001,0.81,1.0,1.2100000000000002,1.4400000000000004,1.6900000000000002,1.9600000000000004,2.25,2.5600000000000005,2.8900000000000006,3.24,3.6100000000000003,4.0,4.41,4.840000000000001,5.290000000000001,5.760000000000002,6.25,6.760000000000001,7.290000000000001,7.840000000000002,8.410000000000002,9.0,9.610000000000001,10.240000000000002,10.890000000000002,11.560000000000002,12.25,12.96,13.690000000000001,14.440000000000001,15.210000000000003,16.0,16.810000000000006],\"type\":\"scatter\"}]},{\"data\":[{\"marker\":{\"color\":[0.0,0.09983341664682815,0.19866933079506122,0.2955202066613396,0.3894183423086505,0.479425538604203,0.5646424733950355,0.6442176872376911,0.7173560908995228,0.7833269096274834,0.8414709848078965,0.8912073600614354,0.9320390859672264,0.963558185417193,0.9854497299884603,0.9974949866040544,0.9995736030415051,0.9916648104524686,0.9738476308781951,0.9463000876874145,0.9092974268256817,0.8632093666488737,0.8084964038195901,0.74570521217672,0.6754631805511506,0.5984721441039564,0.5155013718214642,0.4273798802338298,0.33498815015590466,0.23924932921398198,0.1411200080598672,0.04158066243329049,-0.058374143427580086,-0.15774569414324865,-0.25554110202683167,-0.35078322768961984,-0.44252044329485246,-0.5298361409084934,-0.6118578909427193,-0.6877661591839741,-0.7568024953079282,-0.8182771110644108,-0.8715757724135882]},\"x\":[0.0,0.1,0.2,0.30000000000000004,0.4,0.5,0.6000000000000001,0.7000000000000001,0.8,0.9,1.0,1.1,1.2000000000000002,1.3,1.4000000000000001,1.5,1.6,1.7000000000000002,1.8,1.9000000000000001,2.0,2.1,2.2,2.3000000000000003,2.4000000000000004,2.5,2.6,2.7,2.8000000000000003,2.9000000000000004,3.0,3.1,3.2,3.3000000000000003,3.4000000000000004,3.5,3.6,3.7,3.8000000000000003,3.9000000000000004,4.0,4.1000000000000005,4.2],\"y\":[0.0,0.010000000000000002,0.04000000000000001,0.09000000000000002,0.16000000000000003,0.25,0.3600000000000001,0.4900000000000001,0.6400000000000001,0.81,1.0,1.2100000000000002,1.4400000000000004,1.6900000000000002,1.9600000000000004,2.25,2.5600000000000005,2.8900000000000006,3.24,3.6100000000000003,4.0,4.41,4.840000000000001,5.290000000000001,5.760000000000002,6.25,6.760000000000001,7.290000000000001,7.840000000000002,8.410000000000002,9.0,9.610000000000001,10.240000000000002,10.890000000000002,11.560000000000002,12.25,12.96,13.690000000000001,14.440000000000001,15.210000000000003,16.0,16.810000000000006,17.64],\"type\":\"scatter\"}]},{\"data\":[{\"marker\":{\"color\":[0.0,0.09983341664682815,0.19866933079506122,0.2955202066613396,0.3894183423086505,0.479425538604203,0.5646424733950355,0.6442176872376911,0.7173560908995228,0.7833269096274834,0.8414709848078965,0.8912073600614354,0.9320390859672264,0.963558185417193,0.9854497299884603,0.9974949866040544,0.9995736030415051,0.9916648104524686,0.9738476308781951,0.9463000876874145,0.9092974268256817,0.8632093666488737,0.8084964038195901,0.74570521217672,0.6754631805511506,0.5984721441039564,0.5155013718214642,0.4273798802338298,0.33498815015590466,0.23924932921398198,0.1411200080598672,0.04158066243329049,-0.058374143427580086,-0.15774569414324865,-0.25554110202683167,-0.35078322768961984,-0.44252044329485246,-0.5298361409084934,-0.6118578909427193,-0.6877661591839741,-0.7568024953079282,-0.8182771110644108,-0.8715757724135882,-0.9161659367494549]},\"x\":[0.0,0.1,0.2,0.30000000000000004,0.4,0.5,0.6000000000000001,0.7000000000000001,0.8,0.9,1.0,1.1,1.2000000000000002,1.3,1.4000000000000001,1.5,1.6,1.7000000000000002,1.8,1.9000000000000001,2.0,2.1,2.2,2.3000000000000003,2.4000000000000004,2.5,2.6,2.7,2.8000000000000003,2.9000000000000004,3.0,3.1,3.2,3.3000000000000003,3.4000000000000004,3.5,3.6,3.7,3.8000000000000003,3.9000000000000004,4.0,4.1000000000000005,4.2,4.3],\"y\":[0.0,0.010000000000000002,0.04000000000000001,0.09000000000000002,0.16000000000000003,0.25,0.3600000000000001,0.4900000000000001,0.6400000000000001,0.81,1.0,1.2100000000000002,1.4400000000000004,1.6900000000000002,1.9600000000000004,2.25,2.5600000000000005,2.8900000000000006,3.24,3.6100000000000003,4.0,4.41,4.840000000000001,5.290000000000001,5.760000000000002,6.25,6.760000000000001,7.290000000000001,7.840000000000002,8.410000000000002,9.0,9.610000000000001,10.240000000000002,10.890000000000002,11.560000000000002,12.25,12.96,13.690000000000001,14.440000000000001,15.210000000000003,16.0,16.810000000000006,17.64,18.49],\"type\":\"scatter\"}]},{\"data\":[{\"marker\":{\"color\":[0.0,0.09983341664682815,0.19866933079506122,0.2955202066613396,0.3894183423086505,0.479425538604203,0.5646424733950355,0.6442176872376911,0.7173560908995228,0.7833269096274834,0.8414709848078965,0.8912073600614354,0.9320390859672264,0.963558185417193,0.9854497299884603,0.9974949866040544,0.9995736030415051,0.9916648104524686,0.9738476308781951,0.9463000876874145,0.9092974268256817,0.8632093666488737,0.8084964038195901,0.74570521217672,0.6754631805511506,0.5984721441039564,0.5155013718214642,0.4273798802338298,0.33498815015590466,0.23924932921398198,0.1411200080598672,0.04158066243329049,-0.058374143427580086,-0.15774569414324865,-0.25554110202683167,-0.35078322768961984,-0.44252044329485246,-0.5298361409084934,-0.6118578909427193,-0.6877661591839741,-0.7568024953079282,-0.8182771110644108,-0.8715757724135882,-0.9161659367494549,-0.9516020738895161]},\"x\":[0.0,0.1,0.2,0.30000000000000004,0.4,0.5,0.6000000000000001,0.7000000000000001,0.8,0.9,1.0,1.1,1.2000000000000002,1.3,1.4000000000000001,1.5,1.6,1.7000000000000002,1.8,1.9000000000000001,2.0,2.1,2.2,2.3000000000000003,2.4000000000000004,2.5,2.6,2.7,2.8000000000000003,2.9000000000000004,3.0,3.1,3.2,3.3000000000000003,3.4000000000000004,3.5,3.6,3.7,3.8000000000000003,3.9000000000000004,4.0,4.1000000000000005,4.2,4.3,4.4],\"y\":[0.0,0.010000000000000002,0.04000000000000001,0.09000000000000002,0.16000000000000003,0.25,0.3600000000000001,0.4900000000000001,0.6400000000000001,0.81,1.0,1.2100000000000002,1.4400000000000004,1.6900000000000002,1.9600000000000004,2.25,2.5600000000000005,2.8900000000000006,3.24,3.6100000000000003,4.0,4.41,4.840000000000001,5.290000000000001,5.760000000000002,6.25,6.760000000000001,7.290000000000001,7.840000000000002,8.410000000000002,9.0,9.610000000000001,10.240000000000002,10.890000000000002,11.560000000000002,12.25,12.96,13.690000000000001,14.440000000000001,15.210000000000003,16.0,16.810000000000006,17.64,18.49,19.360000000000003],\"type\":\"scatter\"}]},{\"data\":[{\"marker\":{\"color\":[0.0,0.09983341664682815,0.19866933079506122,0.2955202066613396,0.3894183423086505,0.479425538604203,0.5646424733950355,0.6442176872376911,0.7173560908995228,0.7833269096274834,0.8414709848078965,0.8912073600614354,0.9320390859672264,0.963558185417193,0.9854497299884603,0.9974949866040544,0.9995736030415051,0.9916648104524686,0.9738476308781951,0.9463000876874145,0.9092974268256817,0.8632093666488737,0.8084964038195901,0.74570521217672,0.6754631805511506,0.5984721441039564,0.5155013718214642,0.4273798802338298,0.33498815015590466,0.23924932921398198,0.1411200080598672,0.04158066243329049,-0.058374143427580086,-0.15774569414324865,-0.25554110202683167,-0.35078322768961984,-0.44252044329485246,-0.5298361409084934,-0.6118578909427193,-0.6877661591839741,-0.7568024953079282,-0.8182771110644108,-0.8715757724135882,-0.9161659367494549,-0.9516020738895161,-0.977530117665097]},\"x\":[0.0,0.1,0.2,0.30000000000000004,0.4,0.5,0.6000000000000001,0.7000000000000001,0.8,0.9,1.0,1.1,1.2000000000000002,1.3,1.4000000000000001,1.5,1.6,1.7000000000000002,1.8,1.9000000000000001,2.0,2.1,2.2,2.3000000000000003,2.4000000000000004,2.5,2.6,2.7,2.8000000000000003,2.9000000000000004,3.0,3.1,3.2,3.3000000000000003,3.4000000000000004,3.5,3.6,3.7,3.8000000000000003,3.9000000000000004,4.0,4.1000000000000005,4.2,4.3,4.4,4.5],\"y\":[0.0,0.010000000000000002,0.04000000000000001,0.09000000000000002,0.16000000000000003,0.25,0.3600000000000001,0.4900000000000001,0.6400000000000001,0.81,1.0,1.2100000000000002,1.4400000000000004,1.6900000000000002,1.9600000000000004,2.25,2.5600000000000005,2.8900000000000006,3.24,3.6100000000000003,4.0,4.41,4.840000000000001,5.290000000000001,5.760000000000002,6.25,6.760000000000001,7.290000000000001,7.840000000000002,8.410000000000002,9.0,9.610000000000001,10.240000000000002,10.890000000000002,11.560000000000002,12.25,12.96,13.690000000000001,14.440000000000001,15.210000000000003,16.0,16.810000000000006,17.64,18.49,19.360000000000003,20.25],\"type\":\"scatter\"}]},{\"data\":[{\"marker\":{\"color\":[0.0,0.09983341664682815,0.19866933079506122,0.2955202066613396,0.3894183423086505,0.479425538604203,0.5646424733950355,0.6442176872376911,0.7173560908995228,0.7833269096274834,0.8414709848078965,0.8912073600614354,0.9320390859672264,0.963558185417193,0.9854497299884603,0.9974949866040544,0.9995736030415051,0.9916648104524686,0.9738476308781951,0.9463000876874145,0.9092974268256817,0.8632093666488737,0.8084964038195901,0.74570521217672,0.6754631805511506,0.5984721441039564,0.5155013718214642,0.4273798802338298,0.33498815015590466,0.23924932921398198,0.1411200080598672,0.04158066243329049,-0.058374143427580086,-0.15774569414324865,-0.25554110202683167,-0.35078322768961984,-0.44252044329485246,-0.5298361409084934,-0.6118578909427193,-0.6877661591839741,-0.7568024953079282,-0.8182771110644108,-0.8715757724135882,-0.9161659367494549,-0.9516020738895161,-0.977530117665097,-0.9936910036334645]},\"x\":[0.0,0.1,0.2,0.30000000000000004,0.4,0.5,0.6000000000000001,0.7000000000000001,0.8,0.9,1.0,1.1,1.2000000000000002,1.3,1.4000000000000001,1.5,1.6,1.7000000000000002,1.8,1.9000000000000001,2.0,2.1,2.2,2.3000000000000003,2.4000000000000004,2.5,2.6,2.7,2.8000000000000003,2.9000000000000004,3.0,3.1,3.2,3.3000000000000003,3.4000000000000004,3.5,3.6,3.7,3.8000000000000003,3.9000000000000004,4.0,4.1000000000000005,4.2,4.3,4.4,4.5,4.6000000000000005],\"y\":[0.0,0.010000000000000002,0.04000000000000001,0.09000000000000002,0.16000000000000003,0.25,0.3600000000000001,0.4900000000000001,0.6400000000000001,0.81,1.0,1.2100000000000002,1.4400000000000004,1.6900000000000002,1.9600000000000004,2.25,2.5600000000000005,2.8900000000000006,3.24,3.6100000000000003,4.0,4.41,4.840000000000001,5.290000000000001,5.760000000000002,6.25,6.760000000000001,7.290000000000001,7.840000000000002,8.410000000000002,9.0,9.610000000000001,10.240000000000002,10.890000000000002,11.560000000000002,12.25,12.96,13.690000000000001,14.440000000000001,15.210000000000003,16.0,16.810000000000006,17.64,18.49,19.360000000000003,20.25,21.160000000000004],\"type\":\"scatter\"}]},{\"data\":[{\"marker\":{\"color\":[0.0,0.09983341664682815,0.19866933079506122,0.2955202066613396,0.3894183423086505,0.479425538604203,0.5646424733950355,0.6442176872376911,0.7173560908995228,0.7833269096274834,0.8414709848078965,0.8912073600614354,0.9320390859672264,0.963558185417193,0.9854497299884603,0.9974949866040544,0.9995736030415051,0.9916648104524686,0.9738476308781951,0.9463000876874145,0.9092974268256817,0.8632093666488737,0.8084964038195901,0.74570521217672,0.6754631805511506,0.5984721441039564,0.5155013718214642,0.4273798802338298,0.33498815015590466,0.23924932921398198,0.1411200080598672,0.04158066243329049,-0.058374143427580086,-0.15774569414324865,-0.25554110202683167,-0.35078322768961984,-0.44252044329485246,-0.5298361409084934,-0.6118578909427193,-0.6877661591839741,-0.7568024953079282,-0.8182771110644108,-0.8715757724135882,-0.9161659367494549,-0.9516020738895161,-0.977530117665097,-0.9936910036334645,-0.9999232575641008]},\"x\":[0.0,0.1,0.2,0.30000000000000004,0.4,0.5,0.6000000000000001,0.7000000000000001,0.8,0.9,1.0,1.1,1.2000000000000002,1.3,1.4000000000000001,1.5,1.6,1.7000000000000002,1.8,1.9000000000000001,2.0,2.1,2.2,2.3000000000000003,2.4000000000000004,2.5,2.6,2.7,2.8000000000000003,2.9000000000000004,3.0,3.1,3.2,3.3000000000000003,3.4000000000000004,3.5,3.6,3.7,3.8000000000000003,3.9000000000000004,4.0,4.1000000000000005,4.2,4.3,4.4,4.5,4.6000000000000005,4.7],\"y\":[0.0,0.010000000000000002,0.04000000000000001,0.09000000000000002,0.16000000000000003,0.25,0.3600000000000001,0.4900000000000001,0.6400000000000001,0.81,1.0,1.2100000000000002,1.4400000000000004,1.6900000000000002,1.9600000000000004,2.25,2.5600000000000005,2.8900000000000006,3.24,3.6100000000000003,4.0,4.41,4.840000000000001,5.290000000000001,5.760000000000002,6.25,6.760000000000001,7.290000000000001,7.840000000000002,8.410000000000002,9.0,9.610000000000001,10.240000000000002,10.890000000000002,11.560000000000002,12.25,12.96,13.690000000000001,14.440000000000001,15.210000000000003,16.0,16.810000000000006,17.64,18.49,19.360000000000003,20.25,21.160000000000004,22.090000000000003],\"type\":\"scatter\"}]},{\"data\":[{\"marker\":{\"color\":[0.0,0.09983341664682815,0.19866933079506122,0.2955202066613396,0.3894183423086505,0.479425538604203,0.5646424733950355,0.6442176872376911,0.7173560908995228,0.7833269096274834,0.8414709848078965,0.8912073600614354,0.9320390859672264,0.963558185417193,0.9854497299884603,0.9974949866040544,0.9995736030415051,0.9916648104524686,0.9738476308781951,0.9463000876874145,0.9092974268256817,0.8632093666488737,0.8084964038195901,0.74570521217672,0.6754631805511506,0.5984721441039564,0.5155013718214642,0.4273798802338298,0.33498815015590466,0.23924932921398198,0.1411200080598672,0.04158066243329049,-0.058374143427580086,-0.15774569414324865,-0.25554110202683167,-0.35078322768961984,-0.44252044329485246,-0.5298361409084934,-0.6118578909427193,-0.6877661591839741,-0.7568024953079282,-0.8182771110644108,-0.8715757724135882,-0.9161659367494549,-0.9516020738895161,-0.977530117665097,-0.9936910036334645,-0.9999232575641008,-0.9961646088358406]},\"x\":[0.0,0.1,0.2,0.30000000000000004,0.4,0.5,0.6000000000000001,0.7000000000000001,0.8,0.9,1.0,1.1,1.2000000000000002,1.3,1.4000000000000001,1.5,1.6,1.7000000000000002,1.8,1.9000000000000001,2.0,2.1,2.2,2.3000000000000003,2.4000000000000004,2.5,2.6,2.7,2.8000000000000003,2.9000000000000004,3.0,3.1,3.2,3.3000000000000003,3.4000000000000004,3.5,3.6,3.7,3.8000000000000003,3.9000000000000004,4.0,4.1000000000000005,4.2,4.3,4.4,4.5,4.6000000000000005,4.7,4.800000000000001],\"y\":[0.0,0.010000000000000002,0.04000000000000001,0.09000000000000002,0.16000000000000003,0.25,0.3600000000000001,0.4900000000000001,0.6400000000000001,0.81,1.0,1.2100000000000002,1.4400000000000004,1.6900000000000002,1.9600000000000004,2.25,2.5600000000000005,2.8900000000000006,3.24,3.6100000000000003,4.0,4.41,4.840000000000001,5.290000000000001,5.760000000000002,6.25,6.760000000000001,7.290000000000001,7.840000000000002,8.410000000000002,9.0,9.610000000000001,10.240000000000002,10.890000000000002,11.560000000000002,12.25,12.96,13.690000000000001,14.440000000000001,15.210000000000003,16.0,16.810000000000006,17.64,18.49,19.360000000000003,20.25,21.160000000000004,22.090000000000003,23.040000000000006],\"type\":\"scatter\"}]},{\"data\":[{\"marker\":{\"color\":[0.0,0.09983341664682815,0.19866933079506122,0.2955202066613396,0.3894183423086505,0.479425538604203,0.5646424733950355,0.6442176872376911,0.7173560908995228,0.7833269096274834,0.8414709848078965,0.8912073600614354,0.9320390859672264,0.963558185417193,0.9854497299884603,0.9974949866040544,0.9995736030415051,0.9916648104524686,0.9738476308781951,0.9463000876874145,0.9092974268256817,0.8632093666488737,0.8084964038195901,0.74570521217672,0.6754631805511506,0.5984721441039564,0.5155013718214642,0.4273798802338298,0.33498815015590466,0.23924932921398198,0.1411200080598672,0.04158066243329049,-0.058374143427580086,-0.15774569414324865,-0.25554110202683167,-0.35078322768961984,-0.44252044329485246,-0.5298361409084934,-0.6118578909427193,-0.6877661591839741,-0.7568024953079282,-0.8182771110644108,-0.8715757724135882,-0.9161659367494549,-0.9516020738895161,-0.977530117665097,-0.9936910036334645,-0.9999232575641008,-0.9961646088358406,-0.9824526126243325]},\"x\":[0.0,0.1,0.2,0.30000000000000004,0.4,0.5,0.6000000000000001,0.7000000000000001,0.8,0.9,1.0,1.1,1.2000000000000002,1.3,1.4000000000000001,1.5,1.6,1.7000000000000002,1.8,1.9000000000000001,2.0,2.1,2.2,2.3000000000000003,2.4000000000000004,2.5,2.6,2.7,2.8000000000000003,2.9000000000000004,3.0,3.1,3.2,3.3000000000000003,3.4000000000000004,3.5,3.6,3.7,3.8000000000000003,3.9000000000000004,4.0,4.1000000000000005,4.2,4.3,4.4,4.5,4.6000000000000005,4.7,4.800000000000001,4.9],\"y\":[0.0,0.010000000000000002,0.04000000000000001,0.09000000000000002,0.16000000000000003,0.25,0.3600000000000001,0.4900000000000001,0.6400000000000001,0.81,1.0,1.2100000000000002,1.4400000000000004,1.6900000000000002,1.9600000000000004,2.25,2.5600000000000005,2.8900000000000006,3.24,3.6100000000000003,4.0,4.41,4.840000000000001,5.290000000000001,5.760000000000002,6.25,6.760000000000001,7.290000000000001,7.840000000000002,8.410000000000002,9.0,9.610000000000001,10.240000000000002,10.890000000000002,11.560000000000002,12.25,12.96,13.690000000000001,14.440000000000001,15.210000000000003,16.0,16.810000000000006,17.64,18.49,19.360000000000003,20.25,21.160000000000004,22.090000000000003,23.040000000000006,24.010000000000005],\"type\":\"scatter\"}]}]);\n",
       "                        }).then(function(){\n",
       "                            \n",
       "var gd = document.getElementById('0ef33a0c-25eb-476d-9115-8af7f84c7d1e');\n",
       "var x = new MutationObserver(function (mutations, observer) {{\n",
       "        var display = window.getComputedStyle(gd).display;\n",
       "        if (!display || display === 'none') {{\n",
       "            console.log([gd, 'removed!']);\n",
       "            Plotly.purge(gd);\n",
       "            observer.disconnect();\n",
       "        }}\n",
       "}});\n",
       "\n",
       "// Listen for the removal of the full notebook cells\n",
       "var notebookContainer = gd.closest('#notebook-container');\n",
       "if (notebookContainer) {{\n",
       "    x.observe(notebookContainer, {childList: true});\n",
       "}}\n",
       "\n",
       "// Listen for the clearing of the current output cell\n",
       "var outputEl = gd.closest('.output');\n",
       "if (outputEl) {{\n",
       "    x.observe(outputEl, {childList: true});\n",
       "}}\n",
       "\n",
       "                        })                };                });            </script>        </div>"
      ]
     },
     "metadata": {},
     "output_type": "display_data"
    }
   ],
   "source": [
    "def h(x):\n",
    "    return np.sin(x)\n",
    "fig = go.Figure()\n",
    "fig.add_trace(go.Scatter(x=[x[0]], y=[f(x)[0]], mode='lines+markers',  name='f(x)=x<sup>2</sup>',\n",
    "                         marker=dict(color=h(x[0]), colorbar=dict(title=\"h(x)=sin(x)\"), colorscale='Inferno')\n",
    "                        ))\n",
    "\n",
    "frames=[]\n",
    "for i in range(1, len(x)):\n",
    "    frames.append(go.Frame(data=[go.Scatter(x=x[:i+1], y=f(x[:i+1]), marker=dict(color=h(x[:i+1])))]))\n",
    "\n",
    "fig.frames = frames   \n",
    "\n",
    "fig.update_layout(legend_orientation=\"h\",\n",
    "                  legend=dict(x=.5, xanchor=\"center\"),\n",
    "                  updatemenus=[dict(type=\"buttons\", buttons=[dict(label=\"►\", method=\"animate\", args=[None, {\"fromcurrent\": True}]),\n",
    "                                                             dict(label=\"❚❚\", method=\"animate\", args=[[None], {\"frame\": {\"duration\": 0, \"redraw\": False},\n",
    "                                                                                                               \"mode\": \"immediate\",\n",
    "                                                                                                               \"transition\": {\"duration\": 0}}])])],\n",
    "                  )\n",
    "fig.update_layout(autosize = False, width=500,height=500 ) # МЕНЯТЬ РАЗМЕР ПОЛОТНА \n",
    "fig.update_traces(hoverinfo=\"all\", hovertemplate=\"Аргумент: %{x}<br>Функция: %{y}\")\n",
    "fig.show()"
   ]
  },
  {
   "cell_type": "code",
   "execution_count": 12,
   "metadata": {},
   "outputs": [
    {
     "data": {
      "application/vnd.plotly.v1+json": {
       "config": {
        "plotlyServerURL": "https://plot.ly"
       },
       "data": [
        {
         "mode": "lines+markers",
         "name": "f(x)=x<sup>2</sup>",
         "type": "scatter",
         "visible": true,
         "x": [
          0
         ],
         "y": [
          0
         ]
        },
        {
         "mode": "lines+markers",
         "name": "f(x)=x<sup>2</sup>",
         "type": "scatter",
         "visible": false,
         "x": [
          0,
          0.1
         ],
         "y": [
          0,
          0.010000000000000002
         ]
        },
        {
         "mode": "lines+markers",
         "name": "f(x)=x<sup>2</sup>",
         "type": "scatter",
         "visible": false,
         "x": [
          0,
          0.1,
          0.2
         ],
         "y": [
          0,
          0.010000000000000002,
          0.04000000000000001
         ]
        },
        {
         "mode": "lines+markers",
         "name": "f(x)=x<sup>2</sup>",
         "type": "scatter",
         "visible": false,
         "x": [
          0,
          0.1,
          0.2,
          0.30000000000000004
         ],
         "y": [
          0,
          0.010000000000000002,
          0.04000000000000001,
          0.09000000000000002
         ]
        },
        {
         "mode": "lines+markers",
         "name": "f(x)=x<sup>2</sup>",
         "type": "scatter",
         "visible": false,
         "x": [
          0,
          0.1,
          0.2,
          0.30000000000000004,
          0.4
         ],
         "y": [
          0,
          0.010000000000000002,
          0.04000000000000001,
          0.09000000000000002,
          0.16000000000000003
         ]
        },
        {
         "mode": "lines+markers",
         "name": "f(x)=x<sup>2</sup>",
         "type": "scatter",
         "visible": false,
         "x": [
          0,
          0.1,
          0.2,
          0.30000000000000004,
          0.4,
          0.5
         ],
         "y": [
          0,
          0.010000000000000002,
          0.04000000000000001,
          0.09000000000000002,
          0.16000000000000003,
          0.25
         ]
        },
        {
         "mode": "lines+markers",
         "name": "f(x)=x<sup>2</sup>",
         "type": "scatter",
         "visible": false,
         "x": [
          0,
          0.1,
          0.2,
          0.30000000000000004,
          0.4,
          0.5,
          0.6000000000000001
         ],
         "y": [
          0,
          0.010000000000000002,
          0.04000000000000001,
          0.09000000000000002,
          0.16000000000000003,
          0.25,
          0.3600000000000001
         ]
        },
        {
         "mode": "lines+markers",
         "name": "f(x)=x<sup>2</sup>",
         "type": "scatter",
         "visible": false,
         "x": [
          0,
          0.1,
          0.2,
          0.30000000000000004,
          0.4,
          0.5,
          0.6000000000000001,
          0.7000000000000001
         ],
         "y": [
          0,
          0.010000000000000002,
          0.04000000000000001,
          0.09000000000000002,
          0.16000000000000003,
          0.25,
          0.3600000000000001,
          0.4900000000000001
         ]
        },
        {
         "mode": "lines+markers",
         "name": "f(x)=x<sup>2</sup>",
         "type": "scatter",
         "visible": false,
         "x": [
          0,
          0.1,
          0.2,
          0.30000000000000004,
          0.4,
          0.5,
          0.6000000000000001,
          0.7000000000000001,
          0.8
         ],
         "y": [
          0,
          0.010000000000000002,
          0.04000000000000001,
          0.09000000000000002,
          0.16000000000000003,
          0.25,
          0.3600000000000001,
          0.4900000000000001,
          0.6400000000000001
         ]
        },
        {
         "mode": "lines+markers",
         "name": "f(x)=x<sup>2</sup>",
         "type": "scatter",
         "visible": false,
         "x": [
          0,
          0.1,
          0.2,
          0.30000000000000004,
          0.4,
          0.5,
          0.6000000000000001,
          0.7000000000000001,
          0.8,
          0.9
         ],
         "y": [
          0,
          0.010000000000000002,
          0.04000000000000001,
          0.09000000000000002,
          0.16000000000000003,
          0.25,
          0.3600000000000001,
          0.4900000000000001,
          0.6400000000000001,
          0.81
         ]
        },
        {
         "mode": "lines+markers",
         "name": "f(x)=x<sup>2</sup>",
         "type": "scatter",
         "visible": false,
         "x": [
          0,
          0.1,
          0.2,
          0.30000000000000004,
          0.4,
          0.5,
          0.6000000000000001,
          0.7000000000000001,
          0.8,
          0.9,
          1
         ],
         "y": [
          0,
          0.010000000000000002,
          0.04000000000000001,
          0.09000000000000002,
          0.16000000000000003,
          0.25,
          0.3600000000000001,
          0.4900000000000001,
          0.6400000000000001,
          0.81,
          1
         ]
        },
        {
         "mode": "lines+markers",
         "name": "f(x)=x<sup>2</sup>",
         "type": "scatter",
         "visible": false,
         "x": [
          0,
          0.1,
          0.2,
          0.30000000000000004,
          0.4,
          0.5,
          0.6000000000000001,
          0.7000000000000001,
          0.8,
          0.9,
          1,
          1.1
         ],
         "y": [
          0,
          0.010000000000000002,
          0.04000000000000001,
          0.09000000000000002,
          0.16000000000000003,
          0.25,
          0.3600000000000001,
          0.4900000000000001,
          0.6400000000000001,
          0.81,
          1,
          1.2100000000000002
         ]
        },
        {
         "mode": "lines+markers",
         "name": "f(x)=x<sup>2</sup>",
         "type": "scatter",
         "visible": false,
         "x": [
          0,
          0.1,
          0.2,
          0.30000000000000004,
          0.4,
          0.5,
          0.6000000000000001,
          0.7000000000000001,
          0.8,
          0.9,
          1,
          1.1,
          1.2000000000000002
         ],
         "y": [
          0,
          0.010000000000000002,
          0.04000000000000001,
          0.09000000000000002,
          0.16000000000000003,
          0.25,
          0.3600000000000001,
          0.4900000000000001,
          0.6400000000000001,
          0.81,
          1,
          1.2100000000000002,
          1.4400000000000004
         ]
        },
        {
         "mode": "lines+markers",
         "name": "f(x)=x<sup>2</sup>",
         "type": "scatter",
         "visible": false,
         "x": [
          0,
          0.1,
          0.2,
          0.30000000000000004,
          0.4,
          0.5,
          0.6000000000000001,
          0.7000000000000001,
          0.8,
          0.9,
          1,
          1.1,
          1.2000000000000002,
          1.3
         ],
         "y": [
          0,
          0.010000000000000002,
          0.04000000000000001,
          0.09000000000000002,
          0.16000000000000003,
          0.25,
          0.3600000000000001,
          0.4900000000000001,
          0.6400000000000001,
          0.81,
          1,
          1.2100000000000002,
          1.4400000000000004,
          1.6900000000000002
         ]
        },
        {
         "mode": "lines+markers",
         "name": "f(x)=x<sup>2</sup>",
         "type": "scatter",
         "visible": false,
         "x": [
          0,
          0.1,
          0.2,
          0.30000000000000004,
          0.4,
          0.5,
          0.6000000000000001,
          0.7000000000000001,
          0.8,
          0.9,
          1,
          1.1,
          1.2000000000000002,
          1.3,
          1.4000000000000001
         ],
         "y": [
          0,
          0.010000000000000002,
          0.04000000000000001,
          0.09000000000000002,
          0.16000000000000003,
          0.25,
          0.3600000000000001,
          0.4900000000000001,
          0.6400000000000001,
          0.81,
          1,
          1.2100000000000002,
          1.4400000000000004,
          1.6900000000000002,
          1.9600000000000004
         ]
        },
        {
         "mode": "lines+markers",
         "name": "f(x)=x<sup>2</sup>",
         "type": "scatter",
         "visible": false,
         "x": [
          0,
          0.1,
          0.2,
          0.30000000000000004,
          0.4,
          0.5,
          0.6000000000000001,
          0.7000000000000001,
          0.8,
          0.9,
          1,
          1.1,
          1.2000000000000002,
          1.3,
          1.4000000000000001,
          1.5
         ],
         "y": [
          0,
          0.010000000000000002,
          0.04000000000000001,
          0.09000000000000002,
          0.16000000000000003,
          0.25,
          0.3600000000000001,
          0.4900000000000001,
          0.6400000000000001,
          0.81,
          1,
          1.2100000000000002,
          1.4400000000000004,
          1.6900000000000002,
          1.9600000000000004,
          2.25
         ]
        },
        {
         "mode": "lines+markers",
         "name": "f(x)=x<sup>2</sup>",
         "type": "scatter",
         "visible": false,
         "x": [
          0,
          0.1,
          0.2,
          0.30000000000000004,
          0.4,
          0.5,
          0.6000000000000001,
          0.7000000000000001,
          0.8,
          0.9,
          1,
          1.1,
          1.2000000000000002,
          1.3,
          1.4000000000000001,
          1.5,
          1.6
         ],
         "y": [
          0,
          0.010000000000000002,
          0.04000000000000001,
          0.09000000000000002,
          0.16000000000000003,
          0.25,
          0.3600000000000001,
          0.4900000000000001,
          0.6400000000000001,
          0.81,
          1,
          1.2100000000000002,
          1.4400000000000004,
          1.6900000000000002,
          1.9600000000000004,
          2.25,
          2.5600000000000005
         ]
        },
        {
         "mode": "lines+markers",
         "name": "f(x)=x<sup>2</sup>",
         "type": "scatter",
         "visible": false,
         "x": [
          0,
          0.1,
          0.2,
          0.30000000000000004,
          0.4,
          0.5,
          0.6000000000000001,
          0.7000000000000001,
          0.8,
          0.9,
          1,
          1.1,
          1.2000000000000002,
          1.3,
          1.4000000000000001,
          1.5,
          1.6,
          1.7000000000000002
         ],
         "y": [
          0,
          0.010000000000000002,
          0.04000000000000001,
          0.09000000000000002,
          0.16000000000000003,
          0.25,
          0.3600000000000001,
          0.4900000000000001,
          0.6400000000000001,
          0.81,
          1,
          1.2100000000000002,
          1.4400000000000004,
          1.6900000000000002,
          1.9600000000000004,
          2.25,
          2.5600000000000005,
          2.8900000000000006
         ]
        },
        {
         "mode": "lines+markers",
         "name": "f(x)=x<sup>2</sup>",
         "type": "scatter",
         "visible": false,
         "x": [
          0,
          0.1,
          0.2,
          0.30000000000000004,
          0.4,
          0.5,
          0.6000000000000001,
          0.7000000000000001,
          0.8,
          0.9,
          1,
          1.1,
          1.2000000000000002,
          1.3,
          1.4000000000000001,
          1.5,
          1.6,
          1.7000000000000002,
          1.8
         ],
         "y": [
          0,
          0.010000000000000002,
          0.04000000000000001,
          0.09000000000000002,
          0.16000000000000003,
          0.25,
          0.3600000000000001,
          0.4900000000000001,
          0.6400000000000001,
          0.81,
          1,
          1.2100000000000002,
          1.4400000000000004,
          1.6900000000000002,
          1.9600000000000004,
          2.25,
          2.5600000000000005,
          2.8900000000000006,
          3.24
         ]
        },
        {
         "mode": "lines+markers",
         "name": "f(x)=x<sup>2</sup>",
         "type": "scatter",
         "visible": false,
         "x": [
          0,
          0.1,
          0.2,
          0.30000000000000004,
          0.4,
          0.5,
          0.6000000000000001,
          0.7000000000000001,
          0.8,
          0.9,
          1,
          1.1,
          1.2000000000000002,
          1.3,
          1.4000000000000001,
          1.5,
          1.6,
          1.7000000000000002,
          1.8,
          1.9000000000000001
         ],
         "y": [
          0,
          0.010000000000000002,
          0.04000000000000001,
          0.09000000000000002,
          0.16000000000000003,
          0.25,
          0.3600000000000001,
          0.4900000000000001,
          0.6400000000000001,
          0.81,
          1,
          1.2100000000000002,
          1.4400000000000004,
          1.6900000000000002,
          1.9600000000000004,
          2.25,
          2.5600000000000005,
          2.8900000000000006,
          3.24,
          3.6100000000000003
         ]
        },
        {
         "mode": "lines+markers",
         "name": "f(x)=x<sup>2</sup>",
         "type": "scatter",
         "visible": false,
         "x": [
          0,
          0.1,
          0.2,
          0.30000000000000004,
          0.4,
          0.5,
          0.6000000000000001,
          0.7000000000000001,
          0.8,
          0.9,
          1,
          1.1,
          1.2000000000000002,
          1.3,
          1.4000000000000001,
          1.5,
          1.6,
          1.7000000000000002,
          1.8,
          1.9000000000000001,
          2
         ],
         "y": [
          0,
          0.010000000000000002,
          0.04000000000000001,
          0.09000000000000002,
          0.16000000000000003,
          0.25,
          0.3600000000000001,
          0.4900000000000001,
          0.6400000000000001,
          0.81,
          1,
          1.2100000000000002,
          1.4400000000000004,
          1.6900000000000002,
          1.9600000000000004,
          2.25,
          2.5600000000000005,
          2.8900000000000006,
          3.24,
          3.6100000000000003,
          4
         ]
        },
        {
         "mode": "lines+markers",
         "name": "f(x)=x<sup>2</sup>",
         "type": "scatter",
         "visible": false,
         "x": [
          0,
          0.1,
          0.2,
          0.30000000000000004,
          0.4,
          0.5,
          0.6000000000000001,
          0.7000000000000001,
          0.8,
          0.9,
          1,
          1.1,
          1.2000000000000002,
          1.3,
          1.4000000000000001,
          1.5,
          1.6,
          1.7000000000000002,
          1.8,
          1.9000000000000001,
          2,
          2.1
         ],
         "y": [
          0,
          0.010000000000000002,
          0.04000000000000001,
          0.09000000000000002,
          0.16000000000000003,
          0.25,
          0.3600000000000001,
          0.4900000000000001,
          0.6400000000000001,
          0.81,
          1,
          1.2100000000000002,
          1.4400000000000004,
          1.6900000000000002,
          1.9600000000000004,
          2.25,
          2.5600000000000005,
          2.8900000000000006,
          3.24,
          3.6100000000000003,
          4,
          4.41
         ]
        },
        {
         "mode": "lines+markers",
         "name": "f(x)=x<sup>2</sup>",
         "type": "scatter",
         "visible": false,
         "x": [
          0,
          0.1,
          0.2,
          0.30000000000000004,
          0.4,
          0.5,
          0.6000000000000001,
          0.7000000000000001,
          0.8,
          0.9,
          1,
          1.1,
          1.2000000000000002,
          1.3,
          1.4000000000000001,
          1.5,
          1.6,
          1.7000000000000002,
          1.8,
          1.9000000000000001,
          2,
          2.1,
          2.2
         ],
         "y": [
          0,
          0.010000000000000002,
          0.04000000000000001,
          0.09000000000000002,
          0.16000000000000003,
          0.25,
          0.3600000000000001,
          0.4900000000000001,
          0.6400000000000001,
          0.81,
          1,
          1.2100000000000002,
          1.4400000000000004,
          1.6900000000000002,
          1.9600000000000004,
          2.25,
          2.5600000000000005,
          2.8900000000000006,
          3.24,
          3.6100000000000003,
          4,
          4.41,
          4.840000000000001
         ]
        },
        {
         "mode": "lines+markers",
         "name": "f(x)=x<sup>2</sup>",
         "type": "scatter",
         "visible": false,
         "x": [
          0,
          0.1,
          0.2,
          0.30000000000000004,
          0.4,
          0.5,
          0.6000000000000001,
          0.7000000000000001,
          0.8,
          0.9,
          1,
          1.1,
          1.2000000000000002,
          1.3,
          1.4000000000000001,
          1.5,
          1.6,
          1.7000000000000002,
          1.8,
          1.9000000000000001,
          2,
          2.1,
          2.2,
          2.3000000000000003
         ],
         "y": [
          0,
          0.010000000000000002,
          0.04000000000000001,
          0.09000000000000002,
          0.16000000000000003,
          0.25,
          0.3600000000000001,
          0.4900000000000001,
          0.6400000000000001,
          0.81,
          1,
          1.2100000000000002,
          1.4400000000000004,
          1.6900000000000002,
          1.9600000000000004,
          2.25,
          2.5600000000000005,
          2.8900000000000006,
          3.24,
          3.6100000000000003,
          4,
          4.41,
          4.840000000000001,
          5.290000000000001
         ]
        },
        {
         "mode": "lines+markers",
         "name": "f(x)=x<sup>2</sup>",
         "type": "scatter",
         "visible": false,
         "x": [
          0,
          0.1,
          0.2,
          0.30000000000000004,
          0.4,
          0.5,
          0.6000000000000001,
          0.7000000000000001,
          0.8,
          0.9,
          1,
          1.1,
          1.2000000000000002,
          1.3,
          1.4000000000000001,
          1.5,
          1.6,
          1.7000000000000002,
          1.8,
          1.9000000000000001,
          2,
          2.1,
          2.2,
          2.3000000000000003,
          2.4000000000000004
         ],
         "y": [
          0,
          0.010000000000000002,
          0.04000000000000001,
          0.09000000000000002,
          0.16000000000000003,
          0.25,
          0.3600000000000001,
          0.4900000000000001,
          0.6400000000000001,
          0.81,
          1,
          1.2100000000000002,
          1.4400000000000004,
          1.6900000000000002,
          1.9600000000000004,
          2.25,
          2.5600000000000005,
          2.8900000000000006,
          3.24,
          3.6100000000000003,
          4,
          4.41,
          4.840000000000001,
          5.290000000000001,
          5.760000000000002
         ]
        },
        {
         "mode": "lines+markers",
         "name": "f(x)=x<sup>2</sup>",
         "type": "scatter",
         "visible": false,
         "x": [
          0,
          0.1,
          0.2,
          0.30000000000000004,
          0.4,
          0.5,
          0.6000000000000001,
          0.7000000000000001,
          0.8,
          0.9,
          1,
          1.1,
          1.2000000000000002,
          1.3,
          1.4000000000000001,
          1.5,
          1.6,
          1.7000000000000002,
          1.8,
          1.9000000000000001,
          2,
          2.1,
          2.2,
          2.3000000000000003,
          2.4000000000000004,
          2.5
         ],
         "y": [
          0,
          0.010000000000000002,
          0.04000000000000001,
          0.09000000000000002,
          0.16000000000000003,
          0.25,
          0.3600000000000001,
          0.4900000000000001,
          0.6400000000000001,
          0.81,
          1,
          1.2100000000000002,
          1.4400000000000004,
          1.6900000000000002,
          1.9600000000000004,
          2.25,
          2.5600000000000005,
          2.8900000000000006,
          3.24,
          3.6100000000000003,
          4,
          4.41,
          4.840000000000001,
          5.290000000000001,
          5.760000000000002,
          6.25
         ]
        },
        {
         "mode": "lines+markers",
         "name": "f(x)=x<sup>2</sup>",
         "type": "scatter",
         "visible": false,
         "x": [
          0,
          0.1,
          0.2,
          0.30000000000000004,
          0.4,
          0.5,
          0.6000000000000001,
          0.7000000000000001,
          0.8,
          0.9,
          1,
          1.1,
          1.2000000000000002,
          1.3,
          1.4000000000000001,
          1.5,
          1.6,
          1.7000000000000002,
          1.8,
          1.9000000000000001,
          2,
          2.1,
          2.2,
          2.3000000000000003,
          2.4000000000000004,
          2.5,
          2.6
         ],
         "y": [
          0,
          0.010000000000000002,
          0.04000000000000001,
          0.09000000000000002,
          0.16000000000000003,
          0.25,
          0.3600000000000001,
          0.4900000000000001,
          0.6400000000000001,
          0.81,
          1,
          1.2100000000000002,
          1.4400000000000004,
          1.6900000000000002,
          1.9600000000000004,
          2.25,
          2.5600000000000005,
          2.8900000000000006,
          3.24,
          3.6100000000000003,
          4,
          4.41,
          4.840000000000001,
          5.290000000000001,
          5.760000000000002,
          6.25,
          6.760000000000001
         ]
        },
        {
         "mode": "lines+markers",
         "name": "f(x)=x<sup>2</sup>",
         "type": "scatter",
         "visible": false,
         "x": [
          0,
          0.1,
          0.2,
          0.30000000000000004,
          0.4,
          0.5,
          0.6000000000000001,
          0.7000000000000001,
          0.8,
          0.9,
          1,
          1.1,
          1.2000000000000002,
          1.3,
          1.4000000000000001,
          1.5,
          1.6,
          1.7000000000000002,
          1.8,
          1.9000000000000001,
          2,
          2.1,
          2.2,
          2.3000000000000003,
          2.4000000000000004,
          2.5,
          2.6,
          2.7
         ],
         "y": [
          0,
          0.010000000000000002,
          0.04000000000000001,
          0.09000000000000002,
          0.16000000000000003,
          0.25,
          0.3600000000000001,
          0.4900000000000001,
          0.6400000000000001,
          0.81,
          1,
          1.2100000000000002,
          1.4400000000000004,
          1.6900000000000002,
          1.9600000000000004,
          2.25,
          2.5600000000000005,
          2.8900000000000006,
          3.24,
          3.6100000000000003,
          4,
          4.41,
          4.840000000000001,
          5.290000000000001,
          5.760000000000002,
          6.25,
          6.760000000000001,
          7.290000000000001
         ]
        },
        {
         "mode": "lines+markers",
         "name": "f(x)=x<sup>2</sup>",
         "type": "scatter",
         "visible": false,
         "x": [
          0,
          0.1,
          0.2,
          0.30000000000000004,
          0.4,
          0.5,
          0.6000000000000001,
          0.7000000000000001,
          0.8,
          0.9,
          1,
          1.1,
          1.2000000000000002,
          1.3,
          1.4000000000000001,
          1.5,
          1.6,
          1.7000000000000002,
          1.8,
          1.9000000000000001,
          2,
          2.1,
          2.2,
          2.3000000000000003,
          2.4000000000000004,
          2.5,
          2.6,
          2.7,
          2.8000000000000003
         ],
         "y": [
          0,
          0.010000000000000002,
          0.04000000000000001,
          0.09000000000000002,
          0.16000000000000003,
          0.25,
          0.3600000000000001,
          0.4900000000000001,
          0.6400000000000001,
          0.81,
          1,
          1.2100000000000002,
          1.4400000000000004,
          1.6900000000000002,
          1.9600000000000004,
          2.25,
          2.5600000000000005,
          2.8900000000000006,
          3.24,
          3.6100000000000003,
          4,
          4.41,
          4.840000000000001,
          5.290000000000001,
          5.760000000000002,
          6.25,
          6.760000000000001,
          7.290000000000001,
          7.840000000000002
         ]
        },
        {
         "mode": "lines+markers",
         "name": "f(x)=x<sup>2</sup>",
         "type": "scatter",
         "visible": false,
         "x": [
          0,
          0.1,
          0.2,
          0.30000000000000004,
          0.4,
          0.5,
          0.6000000000000001,
          0.7000000000000001,
          0.8,
          0.9,
          1,
          1.1,
          1.2000000000000002,
          1.3,
          1.4000000000000001,
          1.5,
          1.6,
          1.7000000000000002,
          1.8,
          1.9000000000000001,
          2,
          2.1,
          2.2,
          2.3000000000000003,
          2.4000000000000004,
          2.5,
          2.6,
          2.7,
          2.8000000000000003,
          2.9000000000000004
         ],
         "y": [
          0,
          0.010000000000000002,
          0.04000000000000001,
          0.09000000000000002,
          0.16000000000000003,
          0.25,
          0.3600000000000001,
          0.4900000000000001,
          0.6400000000000001,
          0.81,
          1,
          1.2100000000000002,
          1.4400000000000004,
          1.6900000000000002,
          1.9600000000000004,
          2.25,
          2.5600000000000005,
          2.8900000000000006,
          3.24,
          3.6100000000000003,
          4,
          4.41,
          4.840000000000001,
          5.290000000000001,
          5.760000000000002,
          6.25,
          6.760000000000001,
          7.290000000000001,
          7.840000000000002,
          8.410000000000002
         ]
        },
        {
         "mode": "lines+markers",
         "name": "f(x)=x<sup>2</sup>",
         "type": "scatter",
         "visible": false,
         "x": [
          0,
          0.1,
          0.2,
          0.30000000000000004,
          0.4,
          0.5,
          0.6000000000000001,
          0.7000000000000001,
          0.8,
          0.9,
          1,
          1.1,
          1.2000000000000002,
          1.3,
          1.4000000000000001,
          1.5,
          1.6,
          1.7000000000000002,
          1.8,
          1.9000000000000001,
          2,
          2.1,
          2.2,
          2.3000000000000003,
          2.4000000000000004,
          2.5,
          2.6,
          2.7,
          2.8000000000000003,
          2.9000000000000004,
          3
         ],
         "y": [
          0,
          0.010000000000000002,
          0.04000000000000001,
          0.09000000000000002,
          0.16000000000000003,
          0.25,
          0.3600000000000001,
          0.4900000000000001,
          0.6400000000000001,
          0.81,
          1,
          1.2100000000000002,
          1.4400000000000004,
          1.6900000000000002,
          1.9600000000000004,
          2.25,
          2.5600000000000005,
          2.8900000000000006,
          3.24,
          3.6100000000000003,
          4,
          4.41,
          4.840000000000001,
          5.290000000000001,
          5.760000000000002,
          6.25,
          6.760000000000001,
          7.290000000000001,
          7.840000000000002,
          8.410000000000002,
          9
         ]
        },
        {
         "mode": "lines+markers",
         "name": "f(x)=x<sup>2</sup>",
         "type": "scatter",
         "visible": false,
         "x": [
          0,
          0.1,
          0.2,
          0.30000000000000004,
          0.4,
          0.5,
          0.6000000000000001,
          0.7000000000000001,
          0.8,
          0.9,
          1,
          1.1,
          1.2000000000000002,
          1.3,
          1.4000000000000001,
          1.5,
          1.6,
          1.7000000000000002,
          1.8,
          1.9000000000000001,
          2,
          2.1,
          2.2,
          2.3000000000000003,
          2.4000000000000004,
          2.5,
          2.6,
          2.7,
          2.8000000000000003,
          2.9000000000000004,
          3,
          3.1
         ],
         "y": [
          0,
          0.010000000000000002,
          0.04000000000000001,
          0.09000000000000002,
          0.16000000000000003,
          0.25,
          0.3600000000000001,
          0.4900000000000001,
          0.6400000000000001,
          0.81,
          1,
          1.2100000000000002,
          1.4400000000000004,
          1.6900000000000002,
          1.9600000000000004,
          2.25,
          2.5600000000000005,
          2.8900000000000006,
          3.24,
          3.6100000000000003,
          4,
          4.41,
          4.840000000000001,
          5.290000000000001,
          5.760000000000002,
          6.25,
          6.760000000000001,
          7.290000000000001,
          7.840000000000002,
          8.410000000000002,
          9,
          9.610000000000001
         ]
        },
        {
         "mode": "lines+markers",
         "name": "f(x)=x<sup>2</sup>",
         "type": "scatter",
         "visible": false,
         "x": [
          0,
          0.1,
          0.2,
          0.30000000000000004,
          0.4,
          0.5,
          0.6000000000000001,
          0.7000000000000001,
          0.8,
          0.9,
          1,
          1.1,
          1.2000000000000002,
          1.3,
          1.4000000000000001,
          1.5,
          1.6,
          1.7000000000000002,
          1.8,
          1.9000000000000001,
          2,
          2.1,
          2.2,
          2.3000000000000003,
          2.4000000000000004,
          2.5,
          2.6,
          2.7,
          2.8000000000000003,
          2.9000000000000004,
          3,
          3.1,
          3.2
         ],
         "y": [
          0,
          0.010000000000000002,
          0.04000000000000001,
          0.09000000000000002,
          0.16000000000000003,
          0.25,
          0.3600000000000001,
          0.4900000000000001,
          0.6400000000000001,
          0.81,
          1,
          1.2100000000000002,
          1.4400000000000004,
          1.6900000000000002,
          1.9600000000000004,
          2.25,
          2.5600000000000005,
          2.8900000000000006,
          3.24,
          3.6100000000000003,
          4,
          4.41,
          4.840000000000001,
          5.290000000000001,
          5.760000000000002,
          6.25,
          6.760000000000001,
          7.290000000000001,
          7.840000000000002,
          8.410000000000002,
          9,
          9.610000000000001,
          10.240000000000002
         ]
        },
        {
         "mode": "lines+markers",
         "name": "f(x)=x<sup>2</sup>",
         "type": "scatter",
         "visible": false,
         "x": [
          0,
          0.1,
          0.2,
          0.30000000000000004,
          0.4,
          0.5,
          0.6000000000000001,
          0.7000000000000001,
          0.8,
          0.9,
          1,
          1.1,
          1.2000000000000002,
          1.3,
          1.4000000000000001,
          1.5,
          1.6,
          1.7000000000000002,
          1.8,
          1.9000000000000001,
          2,
          2.1,
          2.2,
          2.3000000000000003,
          2.4000000000000004,
          2.5,
          2.6,
          2.7,
          2.8000000000000003,
          2.9000000000000004,
          3,
          3.1,
          3.2,
          3.3000000000000003
         ],
         "y": [
          0,
          0.010000000000000002,
          0.04000000000000001,
          0.09000000000000002,
          0.16000000000000003,
          0.25,
          0.3600000000000001,
          0.4900000000000001,
          0.6400000000000001,
          0.81,
          1,
          1.2100000000000002,
          1.4400000000000004,
          1.6900000000000002,
          1.9600000000000004,
          2.25,
          2.5600000000000005,
          2.8900000000000006,
          3.24,
          3.6100000000000003,
          4,
          4.41,
          4.840000000000001,
          5.290000000000001,
          5.760000000000002,
          6.25,
          6.760000000000001,
          7.290000000000001,
          7.840000000000002,
          8.410000000000002,
          9,
          9.610000000000001,
          10.240000000000002,
          10.890000000000002
         ]
        },
        {
         "mode": "lines+markers",
         "name": "f(x)=x<sup>2</sup>",
         "type": "scatter",
         "visible": false,
         "x": [
          0,
          0.1,
          0.2,
          0.30000000000000004,
          0.4,
          0.5,
          0.6000000000000001,
          0.7000000000000001,
          0.8,
          0.9,
          1,
          1.1,
          1.2000000000000002,
          1.3,
          1.4000000000000001,
          1.5,
          1.6,
          1.7000000000000002,
          1.8,
          1.9000000000000001,
          2,
          2.1,
          2.2,
          2.3000000000000003,
          2.4000000000000004,
          2.5,
          2.6,
          2.7,
          2.8000000000000003,
          2.9000000000000004,
          3,
          3.1,
          3.2,
          3.3000000000000003,
          3.4000000000000004
         ],
         "y": [
          0,
          0.010000000000000002,
          0.04000000000000001,
          0.09000000000000002,
          0.16000000000000003,
          0.25,
          0.3600000000000001,
          0.4900000000000001,
          0.6400000000000001,
          0.81,
          1,
          1.2100000000000002,
          1.4400000000000004,
          1.6900000000000002,
          1.9600000000000004,
          2.25,
          2.5600000000000005,
          2.8900000000000006,
          3.24,
          3.6100000000000003,
          4,
          4.41,
          4.840000000000001,
          5.290000000000001,
          5.760000000000002,
          6.25,
          6.760000000000001,
          7.290000000000001,
          7.840000000000002,
          8.410000000000002,
          9,
          9.610000000000001,
          10.240000000000002,
          10.890000000000002,
          11.560000000000002
         ]
        },
        {
         "mode": "lines+markers",
         "name": "f(x)=x<sup>2</sup>",
         "type": "scatter",
         "visible": false,
         "x": [
          0,
          0.1,
          0.2,
          0.30000000000000004,
          0.4,
          0.5,
          0.6000000000000001,
          0.7000000000000001,
          0.8,
          0.9,
          1,
          1.1,
          1.2000000000000002,
          1.3,
          1.4000000000000001,
          1.5,
          1.6,
          1.7000000000000002,
          1.8,
          1.9000000000000001,
          2,
          2.1,
          2.2,
          2.3000000000000003,
          2.4000000000000004,
          2.5,
          2.6,
          2.7,
          2.8000000000000003,
          2.9000000000000004,
          3,
          3.1,
          3.2,
          3.3000000000000003,
          3.4000000000000004,
          3.5
         ],
         "y": [
          0,
          0.010000000000000002,
          0.04000000000000001,
          0.09000000000000002,
          0.16000000000000003,
          0.25,
          0.3600000000000001,
          0.4900000000000001,
          0.6400000000000001,
          0.81,
          1,
          1.2100000000000002,
          1.4400000000000004,
          1.6900000000000002,
          1.9600000000000004,
          2.25,
          2.5600000000000005,
          2.8900000000000006,
          3.24,
          3.6100000000000003,
          4,
          4.41,
          4.840000000000001,
          5.290000000000001,
          5.760000000000002,
          6.25,
          6.760000000000001,
          7.290000000000001,
          7.840000000000002,
          8.410000000000002,
          9,
          9.610000000000001,
          10.240000000000002,
          10.890000000000002,
          11.560000000000002,
          12.25
         ]
        },
        {
         "mode": "lines+markers",
         "name": "f(x)=x<sup>2</sup>",
         "type": "scatter",
         "visible": false,
         "x": [
          0,
          0.1,
          0.2,
          0.30000000000000004,
          0.4,
          0.5,
          0.6000000000000001,
          0.7000000000000001,
          0.8,
          0.9,
          1,
          1.1,
          1.2000000000000002,
          1.3,
          1.4000000000000001,
          1.5,
          1.6,
          1.7000000000000002,
          1.8,
          1.9000000000000001,
          2,
          2.1,
          2.2,
          2.3000000000000003,
          2.4000000000000004,
          2.5,
          2.6,
          2.7,
          2.8000000000000003,
          2.9000000000000004,
          3,
          3.1,
          3.2,
          3.3000000000000003,
          3.4000000000000004,
          3.5,
          3.6
         ],
         "y": [
          0,
          0.010000000000000002,
          0.04000000000000001,
          0.09000000000000002,
          0.16000000000000003,
          0.25,
          0.3600000000000001,
          0.4900000000000001,
          0.6400000000000001,
          0.81,
          1,
          1.2100000000000002,
          1.4400000000000004,
          1.6900000000000002,
          1.9600000000000004,
          2.25,
          2.5600000000000005,
          2.8900000000000006,
          3.24,
          3.6100000000000003,
          4,
          4.41,
          4.840000000000001,
          5.290000000000001,
          5.760000000000002,
          6.25,
          6.760000000000001,
          7.290000000000001,
          7.840000000000002,
          8.410000000000002,
          9,
          9.610000000000001,
          10.240000000000002,
          10.890000000000002,
          11.560000000000002,
          12.25,
          12.96
         ]
        },
        {
         "mode": "lines+markers",
         "name": "f(x)=x<sup>2</sup>",
         "type": "scatter",
         "visible": false,
         "x": [
          0,
          0.1,
          0.2,
          0.30000000000000004,
          0.4,
          0.5,
          0.6000000000000001,
          0.7000000000000001,
          0.8,
          0.9,
          1,
          1.1,
          1.2000000000000002,
          1.3,
          1.4000000000000001,
          1.5,
          1.6,
          1.7000000000000002,
          1.8,
          1.9000000000000001,
          2,
          2.1,
          2.2,
          2.3000000000000003,
          2.4000000000000004,
          2.5,
          2.6,
          2.7,
          2.8000000000000003,
          2.9000000000000004,
          3,
          3.1,
          3.2,
          3.3000000000000003,
          3.4000000000000004,
          3.5,
          3.6,
          3.7
         ],
         "y": [
          0,
          0.010000000000000002,
          0.04000000000000001,
          0.09000000000000002,
          0.16000000000000003,
          0.25,
          0.3600000000000001,
          0.4900000000000001,
          0.6400000000000001,
          0.81,
          1,
          1.2100000000000002,
          1.4400000000000004,
          1.6900000000000002,
          1.9600000000000004,
          2.25,
          2.5600000000000005,
          2.8900000000000006,
          3.24,
          3.6100000000000003,
          4,
          4.41,
          4.840000000000001,
          5.290000000000001,
          5.760000000000002,
          6.25,
          6.760000000000001,
          7.290000000000001,
          7.840000000000002,
          8.410000000000002,
          9,
          9.610000000000001,
          10.240000000000002,
          10.890000000000002,
          11.560000000000002,
          12.25,
          12.96,
          13.690000000000001
         ]
        },
        {
         "mode": "lines+markers",
         "name": "f(x)=x<sup>2</sup>",
         "type": "scatter",
         "visible": false,
         "x": [
          0,
          0.1,
          0.2,
          0.30000000000000004,
          0.4,
          0.5,
          0.6000000000000001,
          0.7000000000000001,
          0.8,
          0.9,
          1,
          1.1,
          1.2000000000000002,
          1.3,
          1.4000000000000001,
          1.5,
          1.6,
          1.7000000000000002,
          1.8,
          1.9000000000000001,
          2,
          2.1,
          2.2,
          2.3000000000000003,
          2.4000000000000004,
          2.5,
          2.6,
          2.7,
          2.8000000000000003,
          2.9000000000000004,
          3,
          3.1,
          3.2,
          3.3000000000000003,
          3.4000000000000004,
          3.5,
          3.6,
          3.7,
          3.8000000000000003
         ],
         "y": [
          0,
          0.010000000000000002,
          0.04000000000000001,
          0.09000000000000002,
          0.16000000000000003,
          0.25,
          0.3600000000000001,
          0.4900000000000001,
          0.6400000000000001,
          0.81,
          1,
          1.2100000000000002,
          1.4400000000000004,
          1.6900000000000002,
          1.9600000000000004,
          2.25,
          2.5600000000000005,
          2.8900000000000006,
          3.24,
          3.6100000000000003,
          4,
          4.41,
          4.840000000000001,
          5.290000000000001,
          5.760000000000002,
          6.25,
          6.760000000000001,
          7.290000000000001,
          7.840000000000002,
          8.410000000000002,
          9,
          9.610000000000001,
          10.240000000000002,
          10.890000000000002,
          11.560000000000002,
          12.25,
          12.96,
          13.690000000000001,
          14.440000000000001
         ]
        },
        {
         "mode": "lines+markers",
         "name": "f(x)=x<sup>2</sup>",
         "type": "scatter",
         "visible": false,
         "x": [
          0,
          0.1,
          0.2,
          0.30000000000000004,
          0.4,
          0.5,
          0.6000000000000001,
          0.7000000000000001,
          0.8,
          0.9,
          1,
          1.1,
          1.2000000000000002,
          1.3,
          1.4000000000000001,
          1.5,
          1.6,
          1.7000000000000002,
          1.8,
          1.9000000000000001,
          2,
          2.1,
          2.2,
          2.3000000000000003,
          2.4000000000000004,
          2.5,
          2.6,
          2.7,
          2.8000000000000003,
          2.9000000000000004,
          3,
          3.1,
          3.2,
          3.3000000000000003,
          3.4000000000000004,
          3.5,
          3.6,
          3.7,
          3.8000000000000003,
          3.9000000000000004
         ],
         "y": [
          0,
          0.010000000000000002,
          0.04000000000000001,
          0.09000000000000002,
          0.16000000000000003,
          0.25,
          0.3600000000000001,
          0.4900000000000001,
          0.6400000000000001,
          0.81,
          1,
          1.2100000000000002,
          1.4400000000000004,
          1.6900000000000002,
          1.9600000000000004,
          2.25,
          2.5600000000000005,
          2.8900000000000006,
          3.24,
          3.6100000000000003,
          4,
          4.41,
          4.840000000000001,
          5.290000000000001,
          5.760000000000002,
          6.25,
          6.760000000000001,
          7.290000000000001,
          7.840000000000002,
          8.410000000000002,
          9,
          9.610000000000001,
          10.240000000000002,
          10.890000000000002,
          11.560000000000002,
          12.25,
          12.96,
          13.690000000000001,
          14.440000000000001,
          15.210000000000003
         ]
        },
        {
         "mode": "lines+markers",
         "name": "f(x)=x<sup>2</sup>",
         "type": "scatter",
         "visible": false,
         "x": [
          0,
          0.1,
          0.2,
          0.30000000000000004,
          0.4,
          0.5,
          0.6000000000000001,
          0.7000000000000001,
          0.8,
          0.9,
          1,
          1.1,
          1.2000000000000002,
          1.3,
          1.4000000000000001,
          1.5,
          1.6,
          1.7000000000000002,
          1.8,
          1.9000000000000001,
          2,
          2.1,
          2.2,
          2.3000000000000003,
          2.4000000000000004,
          2.5,
          2.6,
          2.7,
          2.8000000000000003,
          2.9000000000000004,
          3,
          3.1,
          3.2,
          3.3000000000000003,
          3.4000000000000004,
          3.5,
          3.6,
          3.7,
          3.8000000000000003,
          3.9000000000000004,
          4
         ],
         "y": [
          0,
          0.010000000000000002,
          0.04000000000000001,
          0.09000000000000002,
          0.16000000000000003,
          0.25,
          0.3600000000000001,
          0.4900000000000001,
          0.6400000000000001,
          0.81,
          1,
          1.2100000000000002,
          1.4400000000000004,
          1.6900000000000002,
          1.9600000000000004,
          2.25,
          2.5600000000000005,
          2.8900000000000006,
          3.24,
          3.6100000000000003,
          4,
          4.41,
          4.840000000000001,
          5.290000000000001,
          5.760000000000002,
          6.25,
          6.760000000000001,
          7.290000000000001,
          7.840000000000002,
          8.410000000000002,
          9,
          9.610000000000001,
          10.240000000000002,
          10.890000000000002,
          11.560000000000002,
          12.25,
          12.96,
          13.690000000000001,
          14.440000000000001,
          15.210000000000003,
          16
         ]
        },
        {
         "mode": "lines+markers",
         "name": "f(x)=x<sup>2</sup>",
         "type": "scatter",
         "visible": false,
         "x": [
          0,
          0.1,
          0.2,
          0.30000000000000004,
          0.4,
          0.5,
          0.6000000000000001,
          0.7000000000000001,
          0.8,
          0.9,
          1,
          1.1,
          1.2000000000000002,
          1.3,
          1.4000000000000001,
          1.5,
          1.6,
          1.7000000000000002,
          1.8,
          1.9000000000000001,
          2,
          2.1,
          2.2,
          2.3000000000000003,
          2.4000000000000004,
          2.5,
          2.6,
          2.7,
          2.8000000000000003,
          2.9000000000000004,
          3,
          3.1,
          3.2,
          3.3000000000000003,
          3.4000000000000004,
          3.5,
          3.6,
          3.7,
          3.8000000000000003,
          3.9000000000000004,
          4,
          4.1000000000000005
         ],
         "y": [
          0,
          0.010000000000000002,
          0.04000000000000001,
          0.09000000000000002,
          0.16000000000000003,
          0.25,
          0.3600000000000001,
          0.4900000000000001,
          0.6400000000000001,
          0.81,
          1,
          1.2100000000000002,
          1.4400000000000004,
          1.6900000000000002,
          1.9600000000000004,
          2.25,
          2.5600000000000005,
          2.8900000000000006,
          3.24,
          3.6100000000000003,
          4,
          4.41,
          4.840000000000001,
          5.290000000000001,
          5.760000000000002,
          6.25,
          6.760000000000001,
          7.290000000000001,
          7.840000000000002,
          8.410000000000002,
          9,
          9.610000000000001,
          10.240000000000002,
          10.890000000000002,
          11.560000000000002,
          12.25,
          12.96,
          13.690000000000001,
          14.440000000000001,
          15.210000000000003,
          16,
          16.810000000000006
         ]
        },
        {
         "mode": "lines+markers",
         "name": "f(x)=x<sup>2</sup>",
         "type": "scatter",
         "visible": false,
         "x": [
          0,
          0.1,
          0.2,
          0.30000000000000004,
          0.4,
          0.5,
          0.6000000000000001,
          0.7000000000000001,
          0.8,
          0.9,
          1,
          1.1,
          1.2000000000000002,
          1.3,
          1.4000000000000001,
          1.5,
          1.6,
          1.7000000000000002,
          1.8,
          1.9000000000000001,
          2,
          2.1,
          2.2,
          2.3000000000000003,
          2.4000000000000004,
          2.5,
          2.6,
          2.7,
          2.8000000000000003,
          2.9000000000000004,
          3,
          3.1,
          3.2,
          3.3000000000000003,
          3.4000000000000004,
          3.5,
          3.6,
          3.7,
          3.8000000000000003,
          3.9000000000000004,
          4,
          4.1000000000000005,
          4.2
         ],
         "y": [
          0,
          0.010000000000000002,
          0.04000000000000001,
          0.09000000000000002,
          0.16000000000000003,
          0.25,
          0.3600000000000001,
          0.4900000000000001,
          0.6400000000000001,
          0.81,
          1,
          1.2100000000000002,
          1.4400000000000004,
          1.6900000000000002,
          1.9600000000000004,
          2.25,
          2.5600000000000005,
          2.8900000000000006,
          3.24,
          3.6100000000000003,
          4,
          4.41,
          4.840000000000001,
          5.290000000000001,
          5.760000000000002,
          6.25,
          6.760000000000001,
          7.290000000000001,
          7.840000000000002,
          8.410000000000002,
          9,
          9.610000000000001,
          10.240000000000002,
          10.890000000000002,
          11.560000000000002,
          12.25,
          12.96,
          13.690000000000001,
          14.440000000000001,
          15.210000000000003,
          16,
          16.810000000000006,
          17.64
         ]
        },
        {
         "mode": "lines+markers",
         "name": "f(x)=x<sup>2</sup>",
         "type": "scatter",
         "visible": false,
         "x": [
          0,
          0.1,
          0.2,
          0.30000000000000004,
          0.4,
          0.5,
          0.6000000000000001,
          0.7000000000000001,
          0.8,
          0.9,
          1,
          1.1,
          1.2000000000000002,
          1.3,
          1.4000000000000001,
          1.5,
          1.6,
          1.7000000000000002,
          1.8,
          1.9000000000000001,
          2,
          2.1,
          2.2,
          2.3000000000000003,
          2.4000000000000004,
          2.5,
          2.6,
          2.7,
          2.8000000000000003,
          2.9000000000000004,
          3,
          3.1,
          3.2,
          3.3000000000000003,
          3.4000000000000004,
          3.5,
          3.6,
          3.7,
          3.8000000000000003,
          3.9000000000000004,
          4,
          4.1000000000000005,
          4.2,
          4.3
         ],
         "y": [
          0,
          0.010000000000000002,
          0.04000000000000001,
          0.09000000000000002,
          0.16000000000000003,
          0.25,
          0.3600000000000001,
          0.4900000000000001,
          0.6400000000000001,
          0.81,
          1,
          1.2100000000000002,
          1.4400000000000004,
          1.6900000000000002,
          1.9600000000000004,
          2.25,
          2.5600000000000005,
          2.8900000000000006,
          3.24,
          3.6100000000000003,
          4,
          4.41,
          4.840000000000001,
          5.290000000000001,
          5.760000000000002,
          6.25,
          6.760000000000001,
          7.290000000000001,
          7.840000000000002,
          8.410000000000002,
          9,
          9.610000000000001,
          10.240000000000002,
          10.890000000000002,
          11.560000000000002,
          12.25,
          12.96,
          13.690000000000001,
          14.440000000000001,
          15.210000000000003,
          16,
          16.810000000000006,
          17.64,
          18.49
         ]
        },
        {
         "mode": "lines+markers",
         "name": "f(x)=x<sup>2</sup>",
         "type": "scatter",
         "visible": false,
         "x": [
          0,
          0.1,
          0.2,
          0.30000000000000004,
          0.4,
          0.5,
          0.6000000000000001,
          0.7000000000000001,
          0.8,
          0.9,
          1,
          1.1,
          1.2000000000000002,
          1.3,
          1.4000000000000001,
          1.5,
          1.6,
          1.7000000000000002,
          1.8,
          1.9000000000000001,
          2,
          2.1,
          2.2,
          2.3000000000000003,
          2.4000000000000004,
          2.5,
          2.6,
          2.7,
          2.8000000000000003,
          2.9000000000000004,
          3,
          3.1,
          3.2,
          3.3000000000000003,
          3.4000000000000004,
          3.5,
          3.6,
          3.7,
          3.8000000000000003,
          3.9000000000000004,
          4,
          4.1000000000000005,
          4.2,
          4.3,
          4.4
         ],
         "y": [
          0,
          0.010000000000000002,
          0.04000000000000001,
          0.09000000000000002,
          0.16000000000000003,
          0.25,
          0.3600000000000001,
          0.4900000000000001,
          0.6400000000000001,
          0.81,
          1,
          1.2100000000000002,
          1.4400000000000004,
          1.6900000000000002,
          1.9600000000000004,
          2.25,
          2.5600000000000005,
          2.8900000000000006,
          3.24,
          3.6100000000000003,
          4,
          4.41,
          4.840000000000001,
          5.290000000000001,
          5.760000000000002,
          6.25,
          6.760000000000001,
          7.290000000000001,
          7.840000000000002,
          8.410000000000002,
          9,
          9.610000000000001,
          10.240000000000002,
          10.890000000000002,
          11.560000000000002,
          12.25,
          12.96,
          13.690000000000001,
          14.440000000000001,
          15.210000000000003,
          16,
          16.810000000000006,
          17.64,
          18.49,
          19.360000000000003
         ]
        },
        {
         "mode": "lines+markers",
         "name": "f(x)=x<sup>2</sup>",
         "type": "scatter",
         "visible": false,
         "x": [
          0,
          0.1,
          0.2,
          0.30000000000000004,
          0.4,
          0.5,
          0.6000000000000001,
          0.7000000000000001,
          0.8,
          0.9,
          1,
          1.1,
          1.2000000000000002,
          1.3,
          1.4000000000000001,
          1.5,
          1.6,
          1.7000000000000002,
          1.8,
          1.9000000000000001,
          2,
          2.1,
          2.2,
          2.3000000000000003,
          2.4000000000000004,
          2.5,
          2.6,
          2.7,
          2.8000000000000003,
          2.9000000000000004,
          3,
          3.1,
          3.2,
          3.3000000000000003,
          3.4000000000000004,
          3.5,
          3.6,
          3.7,
          3.8000000000000003,
          3.9000000000000004,
          4,
          4.1000000000000005,
          4.2,
          4.3,
          4.4,
          4.5
         ],
         "y": [
          0,
          0.010000000000000002,
          0.04000000000000001,
          0.09000000000000002,
          0.16000000000000003,
          0.25,
          0.3600000000000001,
          0.4900000000000001,
          0.6400000000000001,
          0.81,
          1,
          1.2100000000000002,
          1.4400000000000004,
          1.6900000000000002,
          1.9600000000000004,
          2.25,
          2.5600000000000005,
          2.8900000000000006,
          3.24,
          3.6100000000000003,
          4,
          4.41,
          4.840000000000001,
          5.290000000000001,
          5.760000000000002,
          6.25,
          6.760000000000001,
          7.290000000000001,
          7.840000000000002,
          8.410000000000002,
          9,
          9.610000000000001,
          10.240000000000002,
          10.890000000000002,
          11.560000000000002,
          12.25,
          12.96,
          13.690000000000001,
          14.440000000000001,
          15.210000000000003,
          16,
          16.810000000000006,
          17.64,
          18.49,
          19.360000000000003,
          20.25
         ]
        },
        {
         "mode": "lines+markers",
         "name": "f(x)=x<sup>2</sup>",
         "type": "scatter",
         "visible": false,
         "x": [
          0,
          0.1,
          0.2,
          0.30000000000000004,
          0.4,
          0.5,
          0.6000000000000001,
          0.7000000000000001,
          0.8,
          0.9,
          1,
          1.1,
          1.2000000000000002,
          1.3,
          1.4000000000000001,
          1.5,
          1.6,
          1.7000000000000002,
          1.8,
          1.9000000000000001,
          2,
          2.1,
          2.2,
          2.3000000000000003,
          2.4000000000000004,
          2.5,
          2.6,
          2.7,
          2.8000000000000003,
          2.9000000000000004,
          3,
          3.1,
          3.2,
          3.3000000000000003,
          3.4000000000000004,
          3.5,
          3.6,
          3.7,
          3.8000000000000003,
          3.9000000000000004,
          4,
          4.1000000000000005,
          4.2,
          4.3,
          4.4,
          4.5,
          4.6000000000000005
         ],
         "y": [
          0,
          0.010000000000000002,
          0.04000000000000001,
          0.09000000000000002,
          0.16000000000000003,
          0.25,
          0.3600000000000001,
          0.4900000000000001,
          0.6400000000000001,
          0.81,
          1,
          1.2100000000000002,
          1.4400000000000004,
          1.6900000000000002,
          1.9600000000000004,
          2.25,
          2.5600000000000005,
          2.8900000000000006,
          3.24,
          3.6100000000000003,
          4,
          4.41,
          4.840000000000001,
          5.290000000000001,
          5.760000000000002,
          6.25,
          6.760000000000001,
          7.290000000000001,
          7.840000000000002,
          8.410000000000002,
          9,
          9.610000000000001,
          10.240000000000002,
          10.890000000000002,
          11.560000000000002,
          12.25,
          12.96,
          13.690000000000001,
          14.440000000000001,
          15.210000000000003,
          16,
          16.810000000000006,
          17.64,
          18.49,
          19.360000000000003,
          20.25,
          21.160000000000004
         ]
        },
        {
         "mode": "lines+markers",
         "name": "f(x)=x<sup>2</sup>",
         "type": "scatter",
         "visible": false,
         "x": [
          0,
          0.1,
          0.2,
          0.30000000000000004,
          0.4,
          0.5,
          0.6000000000000001,
          0.7000000000000001,
          0.8,
          0.9,
          1,
          1.1,
          1.2000000000000002,
          1.3,
          1.4000000000000001,
          1.5,
          1.6,
          1.7000000000000002,
          1.8,
          1.9000000000000001,
          2,
          2.1,
          2.2,
          2.3000000000000003,
          2.4000000000000004,
          2.5,
          2.6,
          2.7,
          2.8000000000000003,
          2.9000000000000004,
          3,
          3.1,
          3.2,
          3.3000000000000003,
          3.4000000000000004,
          3.5,
          3.6,
          3.7,
          3.8000000000000003,
          3.9000000000000004,
          4,
          4.1000000000000005,
          4.2,
          4.3,
          4.4,
          4.5,
          4.6000000000000005,
          4.7
         ],
         "y": [
          0,
          0.010000000000000002,
          0.04000000000000001,
          0.09000000000000002,
          0.16000000000000003,
          0.25,
          0.3600000000000001,
          0.4900000000000001,
          0.6400000000000001,
          0.81,
          1,
          1.2100000000000002,
          1.4400000000000004,
          1.6900000000000002,
          1.9600000000000004,
          2.25,
          2.5600000000000005,
          2.8900000000000006,
          3.24,
          3.6100000000000003,
          4,
          4.41,
          4.840000000000001,
          5.290000000000001,
          5.760000000000002,
          6.25,
          6.760000000000001,
          7.290000000000001,
          7.840000000000002,
          8.410000000000002,
          9,
          9.610000000000001,
          10.240000000000002,
          10.890000000000002,
          11.560000000000002,
          12.25,
          12.96,
          13.690000000000001,
          14.440000000000001,
          15.210000000000003,
          16,
          16.810000000000006,
          17.64,
          18.49,
          19.360000000000003,
          20.25,
          21.160000000000004,
          22.090000000000003
         ]
        },
        {
         "mode": "lines+markers",
         "name": "f(x)=x<sup>2</sup>",
         "type": "scatter",
         "visible": false,
         "x": [
          0,
          0.1,
          0.2,
          0.30000000000000004,
          0.4,
          0.5,
          0.6000000000000001,
          0.7000000000000001,
          0.8,
          0.9,
          1,
          1.1,
          1.2000000000000002,
          1.3,
          1.4000000000000001,
          1.5,
          1.6,
          1.7000000000000002,
          1.8,
          1.9000000000000001,
          2,
          2.1,
          2.2,
          2.3000000000000003,
          2.4000000000000004,
          2.5,
          2.6,
          2.7,
          2.8000000000000003,
          2.9000000000000004,
          3,
          3.1,
          3.2,
          3.3000000000000003,
          3.4000000000000004,
          3.5,
          3.6,
          3.7,
          3.8000000000000003,
          3.9000000000000004,
          4,
          4.1000000000000005,
          4.2,
          4.3,
          4.4,
          4.5,
          4.6000000000000005,
          4.7,
          4.800000000000001
         ],
         "y": [
          0,
          0.010000000000000002,
          0.04000000000000001,
          0.09000000000000002,
          0.16000000000000003,
          0.25,
          0.3600000000000001,
          0.4900000000000001,
          0.6400000000000001,
          0.81,
          1,
          1.2100000000000002,
          1.4400000000000004,
          1.6900000000000002,
          1.9600000000000004,
          2.25,
          2.5600000000000005,
          2.8900000000000006,
          3.24,
          3.6100000000000003,
          4,
          4.41,
          4.840000000000001,
          5.290000000000001,
          5.760000000000002,
          6.25,
          6.760000000000001,
          7.290000000000001,
          7.840000000000002,
          8.410000000000002,
          9,
          9.610000000000001,
          10.240000000000002,
          10.890000000000002,
          11.560000000000002,
          12.25,
          12.96,
          13.690000000000001,
          14.440000000000001,
          15.210000000000003,
          16,
          16.810000000000006,
          17.64,
          18.49,
          19.360000000000003,
          20.25,
          21.160000000000004,
          22.090000000000003,
          23.040000000000006
         ]
        },
        {
         "mode": "lines+markers",
         "name": "f(x)=x<sup>2</sup>",
         "type": "scatter",
         "visible": false,
         "x": [
          0,
          0.1,
          0.2,
          0.30000000000000004,
          0.4,
          0.5,
          0.6000000000000001,
          0.7000000000000001,
          0.8,
          0.9,
          1,
          1.1,
          1.2000000000000002,
          1.3,
          1.4000000000000001,
          1.5,
          1.6,
          1.7000000000000002,
          1.8,
          1.9000000000000001,
          2,
          2.1,
          2.2,
          2.3000000000000003,
          2.4000000000000004,
          2.5,
          2.6,
          2.7,
          2.8000000000000003,
          2.9000000000000004,
          3,
          3.1,
          3.2,
          3.3000000000000003,
          3.4000000000000004,
          3.5,
          3.6,
          3.7,
          3.8000000000000003,
          3.9000000000000004,
          4,
          4.1000000000000005,
          4.2,
          4.3,
          4.4,
          4.5,
          4.6000000000000005,
          4.7,
          4.800000000000001,
          4.9
         ],
         "y": [
          0,
          0.010000000000000002,
          0.04000000000000001,
          0.09000000000000002,
          0.16000000000000003,
          0.25,
          0.3600000000000001,
          0.4900000000000001,
          0.6400000000000001,
          0.81,
          1,
          1.2100000000000002,
          1.4400000000000004,
          1.6900000000000002,
          1.9600000000000004,
          2.25,
          2.5600000000000005,
          2.8900000000000006,
          3.24,
          3.6100000000000003,
          4,
          4.41,
          4.840000000000001,
          5.290000000000001,
          5.760000000000002,
          6.25,
          6.760000000000001,
          7.290000000000001,
          7.840000000000002,
          8.410000000000002,
          9,
          9.610000000000001,
          10.240000000000002,
          10.890000000000002,
          11.560000000000002,
          12.25,
          12.96,
          13.690000000000001,
          14.440000000000001,
          15.210000000000003,
          16,
          16.810000000000006,
          17.64,
          18.49,
          19.360000000000003,
          20.25,
          21.160000000000004,
          22.090000000000003,
          23.040000000000006,
          24.010000000000005
         ]
        }
       ],
       "layout": {
        "autosize": false,
        "height": 500,
        "sliders": [
         {
          "steps": [
           {
            "args": [
             "visible",
             [
              true,
              false,
              false,
              false,
              false,
              false,
              false,
              false,
              false,
              false,
              false,
              false,
              false,
              false,
              false,
              false,
              false,
              false,
              false,
              false,
              false,
              false,
              false,
              false,
              false,
              false,
              false,
              false,
              false,
              false,
              false,
              false,
              false,
              false,
              false,
              false,
              false,
              false,
              false,
              false,
              false,
              false,
              false,
              false,
              false,
              false,
              false,
              false,
              false,
              false
             ]
            ],
            "method": "restyle"
           },
           {
            "args": [
             "visible",
             [
              false,
              true,
              false,
              false,
              false,
              false,
              false,
              false,
              false,
              false,
              false,
              false,
              false,
              false,
              false,
              false,
              false,
              false,
              false,
              false,
              false,
              false,
              false,
              false,
              false,
              false,
              false,
              false,
              false,
              false,
              false,
              false,
              false,
              false,
              false,
              false,
              false,
              false,
              false,
              false,
              false,
              false,
              false,
              false,
              false,
              false,
              false,
              false,
              false,
              false
             ]
            ],
            "method": "restyle"
           },
           {
            "args": [
             "visible",
             [
              false,
              false,
              true,
              false,
              false,
              false,
              false,
              false,
              false,
              false,
              false,
              false,
              false,
              false,
              false,
              false,
              false,
              false,
              false,
              false,
              false,
              false,
              false,
              false,
              false,
              false,
              false,
              false,
              false,
              false,
              false,
              false,
              false,
              false,
              false,
              false,
              false,
              false,
              false,
              false,
              false,
              false,
              false,
              false,
              false,
              false,
              false,
              false,
              false,
              false
             ]
            ],
            "method": "restyle"
           },
           {
            "args": [
             "visible",
             [
              false,
              false,
              false,
              true,
              false,
              false,
              false,
              false,
              false,
              false,
              false,
              false,
              false,
              false,
              false,
              false,
              false,
              false,
              false,
              false,
              false,
              false,
              false,
              false,
              false,
              false,
              false,
              false,
              false,
              false,
              false,
              false,
              false,
              false,
              false,
              false,
              false,
              false,
              false,
              false,
              false,
              false,
              false,
              false,
              false,
              false,
              false,
              false,
              false,
              false
             ]
            ],
            "method": "restyle"
           },
           {
            "args": [
             "visible",
             [
              false,
              false,
              false,
              false,
              true,
              false,
              false,
              false,
              false,
              false,
              false,
              false,
              false,
              false,
              false,
              false,
              false,
              false,
              false,
              false,
              false,
              false,
              false,
              false,
              false,
              false,
              false,
              false,
              false,
              false,
              false,
              false,
              false,
              false,
              false,
              false,
              false,
              false,
              false,
              false,
              false,
              false,
              false,
              false,
              false,
              false,
              false,
              false,
              false,
              false
             ]
            ],
            "method": "restyle"
           },
           {
            "args": [
             "visible",
             [
              false,
              false,
              false,
              false,
              false,
              true,
              false,
              false,
              false,
              false,
              false,
              false,
              false,
              false,
              false,
              false,
              false,
              false,
              false,
              false,
              false,
              false,
              false,
              false,
              false,
              false,
              false,
              false,
              false,
              false,
              false,
              false,
              false,
              false,
              false,
              false,
              false,
              false,
              false,
              false,
              false,
              false,
              false,
              false,
              false,
              false,
              false,
              false,
              false,
              false
             ]
            ],
            "method": "restyle"
           },
           {
            "args": [
             "visible",
             [
              false,
              false,
              false,
              false,
              false,
              false,
              true,
              false,
              false,
              false,
              false,
              false,
              false,
              false,
              false,
              false,
              false,
              false,
              false,
              false,
              false,
              false,
              false,
              false,
              false,
              false,
              false,
              false,
              false,
              false,
              false,
              false,
              false,
              false,
              false,
              false,
              false,
              false,
              false,
              false,
              false,
              false,
              false,
              false,
              false,
              false,
              false,
              false,
              false,
              false
             ]
            ],
            "method": "restyle"
           },
           {
            "args": [
             "visible",
             [
              false,
              false,
              false,
              false,
              false,
              false,
              false,
              true,
              false,
              false,
              false,
              false,
              false,
              false,
              false,
              false,
              false,
              false,
              false,
              false,
              false,
              false,
              false,
              false,
              false,
              false,
              false,
              false,
              false,
              false,
              false,
              false,
              false,
              false,
              false,
              false,
              false,
              false,
              false,
              false,
              false,
              false,
              false,
              false,
              false,
              false,
              false,
              false,
              false,
              false
             ]
            ],
            "method": "restyle"
           },
           {
            "args": [
             "visible",
             [
              false,
              false,
              false,
              false,
              false,
              false,
              false,
              false,
              true,
              false,
              false,
              false,
              false,
              false,
              false,
              false,
              false,
              false,
              false,
              false,
              false,
              false,
              false,
              false,
              false,
              false,
              false,
              false,
              false,
              false,
              false,
              false,
              false,
              false,
              false,
              false,
              false,
              false,
              false,
              false,
              false,
              false,
              false,
              false,
              false,
              false,
              false,
              false,
              false,
              false
             ]
            ],
            "method": "restyle"
           },
           {
            "args": [
             "visible",
             [
              false,
              false,
              false,
              false,
              false,
              false,
              false,
              false,
              false,
              true,
              false,
              false,
              false,
              false,
              false,
              false,
              false,
              false,
              false,
              false,
              false,
              false,
              false,
              false,
              false,
              false,
              false,
              false,
              false,
              false,
              false,
              false,
              false,
              false,
              false,
              false,
              false,
              false,
              false,
              false,
              false,
              false,
              false,
              false,
              false,
              false,
              false,
              false,
              false,
              false
             ]
            ],
            "method": "restyle"
           },
           {
            "args": [
             "visible",
             [
              false,
              false,
              false,
              false,
              false,
              false,
              false,
              false,
              false,
              false,
              true,
              false,
              false,
              false,
              false,
              false,
              false,
              false,
              false,
              false,
              false,
              false,
              false,
              false,
              false,
              false,
              false,
              false,
              false,
              false,
              false,
              false,
              false,
              false,
              false,
              false,
              false,
              false,
              false,
              false,
              false,
              false,
              false,
              false,
              false,
              false,
              false,
              false,
              false,
              false
             ]
            ],
            "method": "restyle"
           },
           {
            "args": [
             "visible",
             [
              false,
              false,
              false,
              false,
              false,
              false,
              false,
              false,
              false,
              false,
              false,
              true,
              false,
              false,
              false,
              false,
              false,
              false,
              false,
              false,
              false,
              false,
              false,
              false,
              false,
              false,
              false,
              false,
              false,
              false,
              false,
              false,
              false,
              false,
              false,
              false,
              false,
              false,
              false,
              false,
              false,
              false,
              false,
              false,
              false,
              false,
              false,
              false,
              false,
              false
             ]
            ],
            "method": "restyle"
           },
           {
            "args": [
             "visible",
             [
              false,
              false,
              false,
              false,
              false,
              false,
              false,
              false,
              false,
              false,
              false,
              false,
              true,
              false,
              false,
              false,
              false,
              false,
              false,
              false,
              false,
              false,
              false,
              false,
              false,
              false,
              false,
              false,
              false,
              false,
              false,
              false,
              false,
              false,
              false,
              false,
              false,
              false,
              false,
              false,
              false,
              false,
              false,
              false,
              false,
              false,
              false,
              false,
              false,
              false
             ]
            ],
            "method": "restyle"
           },
           {
            "args": [
             "visible",
             [
              false,
              false,
              false,
              false,
              false,
              false,
              false,
              false,
              false,
              false,
              false,
              false,
              false,
              true,
              false,
              false,
              false,
              false,
              false,
              false,
              false,
              false,
              false,
              false,
              false,
              false,
              false,
              false,
              false,
              false,
              false,
              false,
              false,
              false,
              false,
              false,
              false,
              false,
              false,
              false,
              false,
              false,
              false,
              false,
              false,
              false,
              false,
              false,
              false,
              false
             ]
            ],
            "method": "restyle"
           },
           {
            "args": [
             "visible",
             [
              false,
              false,
              false,
              false,
              false,
              false,
              false,
              false,
              false,
              false,
              false,
              false,
              false,
              false,
              true,
              false,
              false,
              false,
              false,
              false,
              false,
              false,
              false,
              false,
              false,
              false,
              false,
              false,
              false,
              false,
              false,
              false,
              false,
              false,
              false,
              false,
              false,
              false,
              false,
              false,
              false,
              false,
              false,
              false,
              false,
              false,
              false,
              false,
              false,
              false
             ]
            ],
            "method": "restyle"
           },
           {
            "args": [
             "visible",
             [
              false,
              false,
              false,
              false,
              false,
              false,
              false,
              false,
              false,
              false,
              false,
              false,
              false,
              false,
              false,
              true,
              false,
              false,
              false,
              false,
              false,
              false,
              false,
              false,
              false,
              false,
              false,
              false,
              false,
              false,
              false,
              false,
              false,
              false,
              false,
              false,
              false,
              false,
              false,
              false,
              false,
              false,
              false,
              false,
              false,
              false,
              false,
              false,
              false,
              false
             ]
            ],
            "method": "restyle"
           },
           {
            "args": [
             "visible",
             [
              false,
              false,
              false,
              false,
              false,
              false,
              false,
              false,
              false,
              false,
              false,
              false,
              false,
              false,
              false,
              false,
              true,
              false,
              false,
              false,
              false,
              false,
              false,
              false,
              false,
              false,
              false,
              false,
              false,
              false,
              false,
              false,
              false,
              false,
              false,
              false,
              false,
              false,
              false,
              false,
              false,
              false,
              false,
              false,
              false,
              false,
              false,
              false,
              false,
              false
             ]
            ],
            "method": "restyle"
           },
           {
            "args": [
             "visible",
             [
              false,
              false,
              false,
              false,
              false,
              false,
              false,
              false,
              false,
              false,
              false,
              false,
              false,
              false,
              false,
              false,
              false,
              true,
              false,
              false,
              false,
              false,
              false,
              false,
              false,
              false,
              false,
              false,
              false,
              false,
              false,
              false,
              false,
              false,
              false,
              false,
              false,
              false,
              false,
              false,
              false,
              false,
              false,
              false,
              false,
              false,
              false,
              false,
              false,
              false
             ]
            ],
            "method": "restyle"
           },
           {
            "args": [
             "visible",
             [
              false,
              false,
              false,
              false,
              false,
              false,
              false,
              false,
              false,
              false,
              false,
              false,
              false,
              false,
              false,
              false,
              false,
              false,
              true,
              false,
              false,
              false,
              false,
              false,
              false,
              false,
              false,
              false,
              false,
              false,
              false,
              false,
              false,
              false,
              false,
              false,
              false,
              false,
              false,
              false,
              false,
              false,
              false,
              false,
              false,
              false,
              false,
              false,
              false,
              false
             ]
            ],
            "method": "restyle"
           },
           {
            "args": [
             "visible",
             [
              false,
              false,
              false,
              false,
              false,
              false,
              false,
              false,
              false,
              false,
              false,
              false,
              false,
              false,
              false,
              false,
              false,
              false,
              false,
              true,
              false,
              false,
              false,
              false,
              false,
              false,
              false,
              false,
              false,
              false,
              false,
              false,
              false,
              false,
              false,
              false,
              false,
              false,
              false,
              false,
              false,
              false,
              false,
              false,
              false,
              false,
              false,
              false,
              false,
              false
             ]
            ],
            "method": "restyle"
           },
           {
            "args": [
             "visible",
             [
              false,
              false,
              false,
              false,
              false,
              false,
              false,
              false,
              false,
              false,
              false,
              false,
              false,
              false,
              false,
              false,
              false,
              false,
              false,
              false,
              true,
              false,
              false,
              false,
              false,
              false,
              false,
              false,
              false,
              false,
              false,
              false,
              false,
              false,
              false,
              false,
              false,
              false,
              false,
              false,
              false,
              false,
              false,
              false,
              false,
              false,
              false,
              false,
              false,
              false
             ]
            ],
            "method": "restyle"
           },
           {
            "args": [
             "visible",
             [
              false,
              false,
              false,
              false,
              false,
              false,
              false,
              false,
              false,
              false,
              false,
              false,
              false,
              false,
              false,
              false,
              false,
              false,
              false,
              false,
              false,
              true,
              false,
              false,
              false,
              false,
              false,
              false,
              false,
              false,
              false,
              false,
              false,
              false,
              false,
              false,
              false,
              false,
              false,
              false,
              false,
              false,
              false,
              false,
              false,
              false,
              false,
              false,
              false,
              false
             ]
            ],
            "method": "restyle"
           },
           {
            "args": [
             "visible",
             [
              false,
              false,
              false,
              false,
              false,
              false,
              false,
              false,
              false,
              false,
              false,
              false,
              false,
              false,
              false,
              false,
              false,
              false,
              false,
              false,
              false,
              false,
              true,
              false,
              false,
              false,
              false,
              false,
              false,
              false,
              false,
              false,
              false,
              false,
              false,
              false,
              false,
              false,
              false,
              false,
              false,
              false,
              false,
              false,
              false,
              false,
              false,
              false,
              false,
              false
             ]
            ],
            "method": "restyle"
           },
           {
            "args": [
             "visible",
             [
              false,
              false,
              false,
              false,
              false,
              false,
              false,
              false,
              false,
              false,
              false,
              false,
              false,
              false,
              false,
              false,
              false,
              false,
              false,
              false,
              false,
              false,
              false,
              true,
              false,
              false,
              false,
              false,
              false,
              false,
              false,
              false,
              false,
              false,
              false,
              false,
              false,
              false,
              false,
              false,
              false,
              false,
              false,
              false,
              false,
              false,
              false,
              false,
              false,
              false
             ]
            ],
            "method": "restyle"
           },
           {
            "args": [
             "visible",
             [
              false,
              false,
              false,
              false,
              false,
              false,
              false,
              false,
              false,
              false,
              false,
              false,
              false,
              false,
              false,
              false,
              false,
              false,
              false,
              false,
              false,
              false,
              false,
              false,
              true,
              false,
              false,
              false,
              false,
              false,
              false,
              false,
              false,
              false,
              false,
              false,
              false,
              false,
              false,
              false,
              false,
              false,
              false,
              false,
              false,
              false,
              false,
              false,
              false,
              false
             ]
            ],
            "method": "restyle"
           },
           {
            "args": [
             "visible",
             [
              false,
              false,
              false,
              false,
              false,
              false,
              false,
              false,
              false,
              false,
              false,
              false,
              false,
              false,
              false,
              false,
              false,
              false,
              false,
              false,
              false,
              false,
              false,
              false,
              false,
              true,
              false,
              false,
              false,
              false,
              false,
              false,
              false,
              false,
              false,
              false,
              false,
              false,
              false,
              false,
              false,
              false,
              false,
              false,
              false,
              false,
              false,
              false,
              false,
              false
             ]
            ],
            "method": "restyle"
           },
           {
            "args": [
             "visible",
             [
              false,
              false,
              false,
              false,
              false,
              false,
              false,
              false,
              false,
              false,
              false,
              false,
              false,
              false,
              false,
              false,
              false,
              false,
              false,
              false,
              false,
              false,
              false,
              false,
              false,
              false,
              true,
              false,
              false,
              false,
              false,
              false,
              false,
              false,
              false,
              false,
              false,
              false,
              false,
              false,
              false,
              false,
              false,
              false,
              false,
              false,
              false,
              false,
              false,
              false
             ]
            ],
            "method": "restyle"
           },
           {
            "args": [
             "visible",
             [
              false,
              false,
              false,
              false,
              false,
              false,
              false,
              false,
              false,
              false,
              false,
              false,
              false,
              false,
              false,
              false,
              false,
              false,
              false,
              false,
              false,
              false,
              false,
              false,
              false,
              false,
              false,
              true,
              false,
              false,
              false,
              false,
              false,
              false,
              false,
              false,
              false,
              false,
              false,
              false,
              false,
              false,
              false,
              false,
              false,
              false,
              false,
              false,
              false,
              false
             ]
            ],
            "method": "restyle"
           },
           {
            "args": [
             "visible",
             [
              false,
              false,
              false,
              false,
              false,
              false,
              false,
              false,
              false,
              false,
              false,
              false,
              false,
              false,
              false,
              false,
              false,
              false,
              false,
              false,
              false,
              false,
              false,
              false,
              false,
              false,
              false,
              false,
              true,
              false,
              false,
              false,
              false,
              false,
              false,
              false,
              false,
              false,
              false,
              false,
              false,
              false,
              false,
              false,
              false,
              false,
              false,
              false,
              false,
              false
             ]
            ],
            "method": "restyle"
           },
           {
            "args": [
             "visible",
             [
              false,
              false,
              false,
              false,
              false,
              false,
              false,
              false,
              false,
              false,
              false,
              false,
              false,
              false,
              false,
              false,
              false,
              false,
              false,
              false,
              false,
              false,
              false,
              false,
              false,
              false,
              false,
              false,
              false,
              true,
              false,
              false,
              false,
              false,
              false,
              false,
              false,
              false,
              false,
              false,
              false,
              false,
              false,
              false,
              false,
              false,
              false,
              false,
              false,
              false
             ]
            ],
            "method": "restyle"
           },
           {
            "args": [
             "visible",
             [
              false,
              false,
              false,
              false,
              false,
              false,
              false,
              false,
              false,
              false,
              false,
              false,
              false,
              false,
              false,
              false,
              false,
              false,
              false,
              false,
              false,
              false,
              false,
              false,
              false,
              false,
              false,
              false,
              false,
              false,
              true,
              false,
              false,
              false,
              false,
              false,
              false,
              false,
              false,
              false,
              false,
              false,
              false,
              false,
              false,
              false,
              false,
              false,
              false,
              false
             ]
            ],
            "method": "restyle"
           },
           {
            "args": [
             "visible",
             [
              false,
              false,
              false,
              false,
              false,
              false,
              false,
              false,
              false,
              false,
              false,
              false,
              false,
              false,
              false,
              false,
              false,
              false,
              false,
              false,
              false,
              false,
              false,
              false,
              false,
              false,
              false,
              false,
              false,
              false,
              false,
              true,
              false,
              false,
              false,
              false,
              false,
              false,
              false,
              false,
              false,
              false,
              false,
              false,
              false,
              false,
              false,
              false,
              false,
              false
             ]
            ],
            "method": "restyle"
           },
           {
            "args": [
             "visible",
             [
              false,
              false,
              false,
              false,
              false,
              false,
              false,
              false,
              false,
              false,
              false,
              false,
              false,
              false,
              false,
              false,
              false,
              false,
              false,
              false,
              false,
              false,
              false,
              false,
              false,
              false,
              false,
              false,
              false,
              false,
              false,
              false,
              true,
              false,
              false,
              false,
              false,
              false,
              false,
              false,
              false,
              false,
              false,
              false,
              false,
              false,
              false,
              false,
              false,
              false
             ]
            ],
            "method": "restyle"
           },
           {
            "args": [
             "visible",
             [
              false,
              false,
              false,
              false,
              false,
              false,
              false,
              false,
              false,
              false,
              false,
              false,
              false,
              false,
              false,
              false,
              false,
              false,
              false,
              false,
              false,
              false,
              false,
              false,
              false,
              false,
              false,
              false,
              false,
              false,
              false,
              false,
              false,
              true,
              false,
              false,
              false,
              false,
              false,
              false,
              false,
              false,
              false,
              false,
              false,
              false,
              false,
              false,
              false,
              false
             ]
            ],
            "method": "restyle"
           },
           {
            "args": [
             "visible",
             [
              false,
              false,
              false,
              false,
              false,
              false,
              false,
              false,
              false,
              false,
              false,
              false,
              false,
              false,
              false,
              false,
              false,
              false,
              false,
              false,
              false,
              false,
              false,
              false,
              false,
              false,
              false,
              false,
              false,
              false,
              false,
              false,
              false,
              false,
              true,
              false,
              false,
              false,
              false,
              false,
              false,
              false,
              false,
              false,
              false,
              false,
              false,
              false,
              false,
              false
             ]
            ],
            "method": "restyle"
           },
           {
            "args": [
             "visible",
             [
              false,
              false,
              false,
              false,
              false,
              false,
              false,
              false,
              false,
              false,
              false,
              false,
              false,
              false,
              false,
              false,
              false,
              false,
              false,
              false,
              false,
              false,
              false,
              false,
              false,
              false,
              false,
              false,
              false,
              false,
              false,
              false,
              false,
              false,
              false,
              true,
              false,
              false,
              false,
              false,
              false,
              false,
              false,
              false,
              false,
              false,
              false,
              false,
              false,
              false
             ]
            ],
            "method": "restyle"
           },
           {
            "args": [
             "visible",
             [
              false,
              false,
              false,
              false,
              false,
              false,
              false,
              false,
              false,
              false,
              false,
              false,
              false,
              false,
              false,
              false,
              false,
              false,
              false,
              false,
              false,
              false,
              false,
              false,
              false,
              false,
              false,
              false,
              false,
              false,
              false,
              false,
              false,
              false,
              false,
              false,
              true,
              false,
              false,
              false,
              false,
              false,
              false,
              false,
              false,
              false,
              false,
              false,
              false,
              false
             ]
            ],
            "method": "restyle"
           },
           {
            "args": [
             "visible",
             [
              false,
              false,
              false,
              false,
              false,
              false,
              false,
              false,
              false,
              false,
              false,
              false,
              false,
              false,
              false,
              false,
              false,
              false,
              false,
              false,
              false,
              false,
              false,
              false,
              false,
              false,
              false,
              false,
              false,
              false,
              false,
              false,
              false,
              false,
              false,
              false,
              false,
              true,
              false,
              false,
              false,
              false,
              false,
              false,
              false,
              false,
              false,
              false,
              false,
              false
             ]
            ],
            "method": "restyle"
           },
           {
            "args": [
             "visible",
             [
              false,
              false,
              false,
              false,
              false,
              false,
              false,
              false,
              false,
              false,
              false,
              false,
              false,
              false,
              false,
              false,
              false,
              false,
              false,
              false,
              false,
              false,
              false,
              false,
              false,
              false,
              false,
              false,
              false,
              false,
              false,
              false,
              false,
              false,
              false,
              false,
              false,
              false,
              true,
              false,
              false,
              false,
              false,
              false,
              false,
              false,
              false,
              false,
              false,
              false
             ]
            ],
            "method": "restyle"
           },
           {
            "args": [
             "visible",
             [
              false,
              false,
              false,
              false,
              false,
              false,
              false,
              false,
              false,
              false,
              false,
              false,
              false,
              false,
              false,
              false,
              false,
              false,
              false,
              false,
              false,
              false,
              false,
              false,
              false,
              false,
              false,
              false,
              false,
              false,
              false,
              false,
              false,
              false,
              false,
              false,
              false,
              false,
              false,
              true,
              false,
              false,
              false,
              false,
              false,
              false,
              false,
              false,
              false,
              false
             ]
            ],
            "method": "restyle"
           },
           {
            "args": [
             "visible",
             [
              false,
              false,
              false,
              false,
              false,
              false,
              false,
              false,
              false,
              false,
              false,
              false,
              false,
              false,
              false,
              false,
              false,
              false,
              false,
              false,
              false,
              false,
              false,
              false,
              false,
              false,
              false,
              false,
              false,
              false,
              false,
              false,
              false,
              false,
              false,
              false,
              false,
              false,
              false,
              false,
              true,
              false,
              false,
              false,
              false,
              false,
              false,
              false,
              false,
              false
             ]
            ],
            "method": "restyle"
           },
           {
            "args": [
             "visible",
             [
              false,
              false,
              false,
              false,
              false,
              false,
              false,
              false,
              false,
              false,
              false,
              false,
              false,
              false,
              false,
              false,
              false,
              false,
              false,
              false,
              false,
              false,
              false,
              false,
              false,
              false,
              false,
              false,
              false,
              false,
              false,
              false,
              false,
              false,
              false,
              false,
              false,
              false,
              false,
              false,
              false,
              true,
              false,
              false,
              false,
              false,
              false,
              false,
              false,
              false
             ]
            ],
            "method": "restyle"
           },
           {
            "args": [
             "visible",
             [
              false,
              false,
              false,
              false,
              false,
              false,
              false,
              false,
              false,
              false,
              false,
              false,
              false,
              false,
              false,
              false,
              false,
              false,
              false,
              false,
              false,
              false,
              false,
              false,
              false,
              false,
              false,
              false,
              false,
              false,
              false,
              false,
              false,
              false,
              false,
              false,
              false,
              false,
              false,
              false,
              false,
              false,
              true,
              false,
              false,
              false,
              false,
              false,
              false,
              false
             ]
            ],
            "method": "restyle"
           },
           {
            "args": [
             "visible",
             [
              false,
              false,
              false,
              false,
              false,
              false,
              false,
              false,
              false,
              false,
              false,
              false,
              false,
              false,
              false,
              false,
              false,
              false,
              false,
              false,
              false,
              false,
              false,
              false,
              false,
              false,
              false,
              false,
              false,
              false,
              false,
              false,
              false,
              false,
              false,
              false,
              false,
              false,
              false,
              false,
              false,
              false,
              false,
              true,
              false,
              false,
              false,
              false,
              false,
              false
             ]
            ],
            "method": "restyle"
           },
           {
            "args": [
             "visible",
             [
              false,
              false,
              false,
              false,
              false,
              false,
              false,
              false,
              false,
              false,
              false,
              false,
              false,
              false,
              false,
              false,
              false,
              false,
              false,
              false,
              false,
              false,
              false,
              false,
              false,
              false,
              false,
              false,
              false,
              false,
              false,
              false,
              false,
              false,
              false,
              false,
              false,
              false,
              false,
              false,
              false,
              false,
              false,
              false,
              true,
              false,
              false,
              false,
              false,
              false
             ]
            ],
            "method": "restyle"
           },
           {
            "args": [
             "visible",
             [
              false,
              false,
              false,
              false,
              false,
              false,
              false,
              false,
              false,
              false,
              false,
              false,
              false,
              false,
              false,
              false,
              false,
              false,
              false,
              false,
              false,
              false,
              false,
              false,
              false,
              false,
              false,
              false,
              false,
              false,
              false,
              false,
              false,
              false,
              false,
              false,
              false,
              false,
              false,
              false,
              false,
              false,
              false,
              false,
              false,
              true,
              false,
              false,
              false,
              false
             ]
            ],
            "method": "restyle"
           },
           {
            "args": [
             "visible",
             [
              false,
              false,
              false,
              false,
              false,
              false,
              false,
              false,
              false,
              false,
              false,
              false,
              false,
              false,
              false,
              false,
              false,
              false,
              false,
              false,
              false,
              false,
              false,
              false,
              false,
              false,
              false,
              false,
              false,
              false,
              false,
              false,
              false,
              false,
              false,
              false,
              false,
              false,
              false,
              false,
              false,
              false,
              false,
              false,
              false,
              false,
              true,
              false,
              false,
              false
             ]
            ],
            "method": "restyle"
           },
           {
            "args": [
             "visible",
             [
              false,
              false,
              false,
              false,
              false,
              false,
              false,
              false,
              false,
              false,
              false,
              false,
              false,
              false,
              false,
              false,
              false,
              false,
              false,
              false,
              false,
              false,
              false,
              false,
              false,
              false,
              false,
              false,
              false,
              false,
              false,
              false,
              false,
              false,
              false,
              false,
              false,
              false,
              false,
              false,
              false,
              false,
              false,
              false,
              false,
              false,
              false,
              true,
              false,
              false
             ]
            ],
            "method": "restyle"
           },
           {
            "args": [
             "visible",
             [
              false,
              false,
              false,
              false,
              false,
              false,
              false,
              false,
              false,
              false,
              false,
              false,
              false,
              false,
              false,
              false,
              false,
              false,
              false,
              false,
              false,
              false,
              false,
              false,
              false,
              false,
              false,
              false,
              false,
              false,
              false,
              false,
              false,
              false,
              false,
              false,
              false,
              false,
              false,
              false,
              false,
              false,
              false,
              false,
              false,
              false,
              false,
              false,
              true,
              false
             ]
            ],
            "method": "restyle"
           },
           {
            "args": [
             "visible",
             [
              false,
              false,
              false,
              false,
              false,
              false,
              false,
              false,
              false,
              false,
              false,
              false,
              false,
              false,
              false,
              false,
              false,
              false,
              false,
              false,
              false,
              false,
              false,
              false,
              false,
              false,
              false,
              false,
              false,
              false,
              false,
              false,
              false,
              false,
              false,
              false,
              false,
              false,
              false,
              false,
              false,
              false,
              false,
              false,
              false,
              false,
              false,
              false,
              false,
              true
             ]
            ],
            "method": "restyle"
           }
          ]
         }
        ],
        "template": {
         "data": {
          "bar": [
           {
            "error_x": {
             "color": "#2a3f5f"
            },
            "error_y": {
             "color": "#2a3f5f"
            },
            "marker": {
             "line": {
              "color": "#E5ECF6",
              "width": 0.5
             },
             "pattern": {
              "fillmode": "overlay",
              "size": 10,
              "solidity": 0.2
             }
            },
            "type": "bar"
           }
          ],
          "barpolar": [
           {
            "marker": {
             "line": {
              "color": "#E5ECF6",
              "width": 0.5
             },
             "pattern": {
              "fillmode": "overlay",
              "size": 10,
              "solidity": 0.2
             }
            },
            "type": "barpolar"
           }
          ],
          "carpet": [
           {
            "aaxis": {
             "endlinecolor": "#2a3f5f",
             "gridcolor": "white",
             "linecolor": "white",
             "minorgridcolor": "white",
             "startlinecolor": "#2a3f5f"
            },
            "baxis": {
             "endlinecolor": "#2a3f5f",
             "gridcolor": "white",
             "linecolor": "white",
             "minorgridcolor": "white",
             "startlinecolor": "#2a3f5f"
            },
            "type": "carpet"
           }
          ],
          "choropleth": [
           {
            "colorbar": {
             "outlinewidth": 0,
             "ticks": ""
            },
            "type": "choropleth"
           }
          ],
          "contour": [
           {
            "colorbar": {
             "outlinewidth": 0,
             "ticks": ""
            },
            "colorscale": [
             [
              0,
              "#0d0887"
             ],
             [
              0.1111111111111111,
              "#46039f"
             ],
             [
              0.2222222222222222,
              "#7201a8"
             ],
             [
              0.3333333333333333,
              "#9c179e"
             ],
             [
              0.4444444444444444,
              "#bd3786"
             ],
             [
              0.5555555555555556,
              "#d8576b"
             ],
             [
              0.6666666666666666,
              "#ed7953"
             ],
             [
              0.7777777777777778,
              "#fb9f3a"
             ],
             [
              0.8888888888888888,
              "#fdca26"
             ],
             [
              1,
              "#f0f921"
             ]
            ],
            "type": "contour"
           }
          ],
          "contourcarpet": [
           {
            "colorbar": {
             "outlinewidth": 0,
             "ticks": ""
            },
            "type": "contourcarpet"
           }
          ],
          "heatmap": [
           {
            "colorbar": {
             "outlinewidth": 0,
             "ticks": ""
            },
            "colorscale": [
             [
              0,
              "#0d0887"
             ],
             [
              0.1111111111111111,
              "#46039f"
             ],
             [
              0.2222222222222222,
              "#7201a8"
             ],
             [
              0.3333333333333333,
              "#9c179e"
             ],
             [
              0.4444444444444444,
              "#bd3786"
             ],
             [
              0.5555555555555556,
              "#d8576b"
             ],
             [
              0.6666666666666666,
              "#ed7953"
             ],
             [
              0.7777777777777778,
              "#fb9f3a"
             ],
             [
              0.8888888888888888,
              "#fdca26"
             ],
             [
              1,
              "#f0f921"
             ]
            ],
            "type": "heatmap"
           }
          ],
          "heatmapgl": [
           {
            "colorbar": {
             "outlinewidth": 0,
             "ticks": ""
            },
            "colorscale": [
             [
              0,
              "#0d0887"
             ],
             [
              0.1111111111111111,
              "#46039f"
             ],
             [
              0.2222222222222222,
              "#7201a8"
             ],
             [
              0.3333333333333333,
              "#9c179e"
             ],
             [
              0.4444444444444444,
              "#bd3786"
             ],
             [
              0.5555555555555556,
              "#d8576b"
             ],
             [
              0.6666666666666666,
              "#ed7953"
             ],
             [
              0.7777777777777778,
              "#fb9f3a"
             ],
             [
              0.8888888888888888,
              "#fdca26"
             ],
             [
              1,
              "#f0f921"
             ]
            ],
            "type": "heatmapgl"
           }
          ],
          "histogram": [
           {
            "marker": {
             "pattern": {
              "fillmode": "overlay",
              "size": 10,
              "solidity": 0.2
             }
            },
            "type": "histogram"
           }
          ],
          "histogram2d": [
           {
            "colorbar": {
             "outlinewidth": 0,
             "ticks": ""
            },
            "colorscale": [
             [
              0,
              "#0d0887"
             ],
             [
              0.1111111111111111,
              "#46039f"
             ],
             [
              0.2222222222222222,
              "#7201a8"
             ],
             [
              0.3333333333333333,
              "#9c179e"
             ],
             [
              0.4444444444444444,
              "#bd3786"
             ],
             [
              0.5555555555555556,
              "#d8576b"
             ],
             [
              0.6666666666666666,
              "#ed7953"
             ],
             [
              0.7777777777777778,
              "#fb9f3a"
             ],
             [
              0.8888888888888888,
              "#fdca26"
             ],
             [
              1,
              "#f0f921"
             ]
            ],
            "type": "histogram2d"
           }
          ],
          "histogram2dcontour": [
           {
            "colorbar": {
             "outlinewidth": 0,
             "ticks": ""
            },
            "colorscale": [
             [
              0,
              "#0d0887"
             ],
             [
              0.1111111111111111,
              "#46039f"
             ],
             [
              0.2222222222222222,
              "#7201a8"
             ],
             [
              0.3333333333333333,
              "#9c179e"
             ],
             [
              0.4444444444444444,
              "#bd3786"
             ],
             [
              0.5555555555555556,
              "#d8576b"
             ],
             [
              0.6666666666666666,
              "#ed7953"
             ],
             [
              0.7777777777777778,
              "#fb9f3a"
             ],
             [
              0.8888888888888888,
              "#fdca26"
             ],
             [
              1,
              "#f0f921"
             ]
            ],
            "type": "histogram2dcontour"
           }
          ],
          "mesh3d": [
           {
            "colorbar": {
             "outlinewidth": 0,
             "ticks": ""
            },
            "type": "mesh3d"
           }
          ],
          "parcoords": [
           {
            "line": {
             "colorbar": {
              "outlinewidth": 0,
              "ticks": ""
             }
            },
            "type": "parcoords"
           }
          ],
          "pie": [
           {
            "automargin": true,
            "type": "pie"
           }
          ],
          "scatter": [
           {
            "marker": {
             "colorbar": {
              "outlinewidth": 0,
              "ticks": ""
             }
            },
            "type": "scatter"
           }
          ],
          "scatter3d": [
           {
            "line": {
             "colorbar": {
              "outlinewidth": 0,
              "ticks": ""
             }
            },
            "marker": {
             "colorbar": {
              "outlinewidth": 0,
              "ticks": ""
             }
            },
            "type": "scatter3d"
           }
          ],
          "scattercarpet": [
           {
            "marker": {
             "colorbar": {
              "outlinewidth": 0,
              "ticks": ""
             }
            },
            "type": "scattercarpet"
           }
          ],
          "scattergeo": [
           {
            "marker": {
             "colorbar": {
              "outlinewidth": 0,
              "ticks": ""
             }
            },
            "type": "scattergeo"
           }
          ],
          "scattergl": [
           {
            "marker": {
             "colorbar": {
              "outlinewidth": 0,
              "ticks": ""
             }
            },
            "type": "scattergl"
           }
          ],
          "scattermapbox": [
           {
            "marker": {
             "colorbar": {
              "outlinewidth": 0,
              "ticks": ""
             }
            },
            "type": "scattermapbox"
           }
          ],
          "scatterpolar": [
           {
            "marker": {
             "colorbar": {
              "outlinewidth": 0,
              "ticks": ""
             }
            },
            "type": "scatterpolar"
           }
          ],
          "scatterpolargl": [
           {
            "marker": {
             "colorbar": {
              "outlinewidth": 0,
              "ticks": ""
             }
            },
            "type": "scatterpolargl"
           }
          ],
          "scatterternary": [
           {
            "marker": {
             "colorbar": {
              "outlinewidth": 0,
              "ticks": ""
             }
            },
            "type": "scatterternary"
           }
          ],
          "surface": [
           {
            "colorbar": {
             "outlinewidth": 0,
             "ticks": ""
            },
            "colorscale": [
             [
              0,
              "#0d0887"
             ],
             [
              0.1111111111111111,
              "#46039f"
             ],
             [
              0.2222222222222222,
              "#7201a8"
             ],
             [
              0.3333333333333333,
              "#9c179e"
             ],
             [
              0.4444444444444444,
              "#bd3786"
             ],
             [
              0.5555555555555556,
              "#d8576b"
             ],
             [
              0.6666666666666666,
              "#ed7953"
             ],
             [
              0.7777777777777778,
              "#fb9f3a"
             ],
             [
              0.8888888888888888,
              "#fdca26"
             ],
             [
              1,
              "#f0f921"
             ]
            ],
            "type": "surface"
           }
          ],
          "table": [
           {
            "cells": {
             "fill": {
              "color": "#EBF0F8"
             },
             "line": {
              "color": "white"
             }
            },
            "header": {
             "fill": {
              "color": "#C8D4E3"
             },
             "line": {
              "color": "white"
             }
            },
            "type": "table"
           }
          ]
         },
         "layout": {
          "annotationdefaults": {
           "arrowcolor": "#2a3f5f",
           "arrowhead": 0,
           "arrowwidth": 1
          },
          "autotypenumbers": "strict",
          "coloraxis": {
           "colorbar": {
            "outlinewidth": 0,
            "ticks": ""
           }
          },
          "colorscale": {
           "diverging": [
            [
             0,
             "#8e0152"
            ],
            [
             0.1,
             "#c51b7d"
            ],
            [
             0.2,
             "#de77ae"
            ],
            [
             0.3,
             "#f1b6da"
            ],
            [
             0.4,
             "#fde0ef"
            ],
            [
             0.5,
             "#f7f7f7"
            ],
            [
             0.6,
             "#e6f5d0"
            ],
            [
             0.7,
             "#b8e186"
            ],
            [
             0.8,
             "#7fbc41"
            ],
            [
             0.9,
             "#4d9221"
            ],
            [
             1,
             "#276419"
            ]
           ],
           "sequential": [
            [
             0,
             "#0d0887"
            ],
            [
             0.1111111111111111,
             "#46039f"
            ],
            [
             0.2222222222222222,
             "#7201a8"
            ],
            [
             0.3333333333333333,
             "#9c179e"
            ],
            [
             0.4444444444444444,
             "#bd3786"
            ],
            [
             0.5555555555555556,
             "#d8576b"
            ],
            [
             0.6666666666666666,
             "#ed7953"
            ],
            [
             0.7777777777777778,
             "#fb9f3a"
            ],
            [
             0.8888888888888888,
             "#fdca26"
            ],
            [
             1,
             "#f0f921"
            ]
           ],
           "sequentialminus": [
            [
             0,
             "#0d0887"
            ],
            [
             0.1111111111111111,
             "#46039f"
            ],
            [
             0.2222222222222222,
             "#7201a8"
            ],
            [
             0.3333333333333333,
             "#9c179e"
            ],
            [
             0.4444444444444444,
             "#bd3786"
            ],
            [
             0.5555555555555556,
             "#d8576b"
            ],
            [
             0.6666666666666666,
             "#ed7953"
            ],
            [
             0.7777777777777778,
             "#fb9f3a"
            ],
            [
             0.8888888888888888,
             "#fdca26"
            ],
            [
             1,
             "#f0f921"
            ]
           ]
          },
          "colorway": [
           "#636efa",
           "#EF553B",
           "#00cc96",
           "#ab63fa",
           "#FFA15A",
           "#19d3f3",
           "#FF6692",
           "#B6E880",
           "#FF97FF",
           "#FECB52"
          ],
          "font": {
           "color": "#2a3f5f"
          },
          "geo": {
           "bgcolor": "white",
           "lakecolor": "white",
           "landcolor": "#E5ECF6",
           "showlakes": true,
           "showland": true,
           "subunitcolor": "white"
          },
          "hoverlabel": {
           "align": "left"
          },
          "hovermode": "closest",
          "mapbox": {
           "style": "light"
          },
          "paper_bgcolor": "white",
          "plot_bgcolor": "#E5ECF6",
          "polar": {
           "angularaxis": {
            "gridcolor": "white",
            "linecolor": "white",
            "ticks": ""
           },
           "bgcolor": "#E5ECF6",
           "radialaxis": {
            "gridcolor": "white",
            "linecolor": "white",
            "ticks": ""
           }
          },
          "scene": {
           "xaxis": {
            "backgroundcolor": "#E5ECF6",
            "gridcolor": "white",
            "gridwidth": 2,
            "linecolor": "white",
            "showbackground": true,
            "ticks": "",
            "zerolinecolor": "white"
           },
           "yaxis": {
            "backgroundcolor": "#E5ECF6",
            "gridcolor": "white",
            "gridwidth": 2,
            "linecolor": "white",
            "showbackground": true,
            "ticks": "",
            "zerolinecolor": "white"
           },
           "zaxis": {
            "backgroundcolor": "#E5ECF6",
            "gridcolor": "white",
            "gridwidth": 2,
            "linecolor": "white",
            "showbackground": true,
            "ticks": "",
            "zerolinecolor": "white"
           }
          },
          "shapedefaults": {
           "line": {
            "color": "#2a3f5f"
           }
          },
          "ternary": {
           "aaxis": {
            "gridcolor": "white",
            "linecolor": "white",
            "ticks": ""
           },
           "baxis": {
            "gridcolor": "white",
            "linecolor": "white",
            "ticks": ""
           },
           "bgcolor": "#E5ECF6",
           "caxis": {
            "gridcolor": "white",
            "linecolor": "white",
            "ticks": ""
           }
          },
          "title": {
           "x": 0.05
          },
          "xaxis": {
           "automargin": true,
           "gridcolor": "white",
           "linecolor": "white",
           "ticks": "",
           "title": {
            "standoff": 15
           },
           "zerolinecolor": "white",
           "zerolinewidth": 2
          },
          "yaxis": {
           "automargin": true,
           "gridcolor": "white",
           "linecolor": "white",
           "ticks": "",
           "title": {
            "standoff": 15
           },
           "zerolinecolor": "white",
           "zerolinewidth": 2
          }
         }
        },
        "width": 500
       }
      },
      "text/html": [
       "<div>                            <div id=\"c508a49c-08a8-4cdf-b815-938371eed059\" class=\"plotly-graph-div\" style=\"height:500px; width:500px;\"></div>            <script type=\"text/javascript\">                require([\"plotly\"], function(Plotly) {                    window.PLOTLYENV=window.PLOTLYENV || {};                                    if (document.getElementById(\"c508a49c-08a8-4cdf-b815-938371eed059\")) {                    Plotly.newPlot(                        \"c508a49c-08a8-4cdf-b815-938371eed059\",                        [{\"mode\":\"lines+markers\",\"name\":\"f(x)=x<sup>2</sup>\",\"visible\":true,\"x\":[0.0],\"y\":[0.0],\"type\":\"scatter\"},{\"mode\":\"lines+markers\",\"name\":\"f(x)=x<sup>2</sup>\",\"visible\":false,\"x\":[0.0,0.1],\"y\":[0.0,0.010000000000000002],\"type\":\"scatter\"},{\"mode\":\"lines+markers\",\"name\":\"f(x)=x<sup>2</sup>\",\"visible\":false,\"x\":[0.0,0.1,0.2],\"y\":[0.0,0.010000000000000002,0.04000000000000001],\"type\":\"scatter\"},{\"mode\":\"lines+markers\",\"name\":\"f(x)=x<sup>2</sup>\",\"visible\":false,\"x\":[0.0,0.1,0.2,0.30000000000000004],\"y\":[0.0,0.010000000000000002,0.04000000000000001,0.09000000000000002],\"type\":\"scatter\"},{\"mode\":\"lines+markers\",\"name\":\"f(x)=x<sup>2</sup>\",\"visible\":false,\"x\":[0.0,0.1,0.2,0.30000000000000004,0.4],\"y\":[0.0,0.010000000000000002,0.04000000000000001,0.09000000000000002,0.16000000000000003],\"type\":\"scatter\"},{\"mode\":\"lines+markers\",\"name\":\"f(x)=x<sup>2</sup>\",\"visible\":false,\"x\":[0.0,0.1,0.2,0.30000000000000004,0.4,0.5],\"y\":[0.0,0.010000000000000002,0.04000000000000001,0.09000000000000002,0.16000000000000003,0.25],\"type\":\"scatter\"},{\"mode\":\"lines+markers\",\"name\":\"f(x)=x<sup>2</sup>\",\"visible\":false,\"x\":[0.0,0.1,0.2,0.30000000000000004,0.4,0.5,0.6000000000000001],\"y\":[0.0,0.010000000000000002,0.04000000000000001,0.09000000000000002,0.16000000000000003,0.25,0.3600000000000001],\"type\":\"scatter\"},{\"mode\":\"lines+markers\",\"name\":\"f(x)=x<sup>2</sup>\",\"visible\":false,\"x\":[0.0,0.1,0.2,0.30000000000000004,0.4,0.5,0.6000000000000001,0.7000000000000001],\"y\":[0.0,0.010000000000000002,0.04000000000000001,0.09000000000000002,0.16000000000000003,0.25,0.3600000000000001,0.4900000000000001],\"type\":\"scatter\"},{\"mode\":\"lines+markers\",\"name\":\"f(x)=x<sup>2</sup>\",\"visible\":false,\"x\":[0.0,0.1,0.2,0.30000000000000004,0.4,0.5,0.6000000000000001,0.7000000000000001,0.8],\"y\":[0.0,0.010000000000000002,0.04000000000000001,0.09000000000000002,0.16000000000000003,0.25,0.3600000000000001,0.4900000000000001,0.6400000000000001],\"type\":\"scatter\"},{\"mode\":\"lines+markers\",\"name\":\"f(x)=x<sup>2</sup>\",\"visible\":false,\"x\":[0.0,0.1,0.2,0.30000000000000004,0.4,0.5,0.6000000000000001,0.7000000000000001,0.8,0.9],\"y\":[0.0,0.010000000000000002,0.04000000000000001,0.09000000000000002,0.16000000000000003,0.25,0.3600000000000001,0.4900000000000001,0.6400000000000001,0.81],\"type\":\"scatter\"},{\"mode\":\"lines+markers\",\"name\":\"f(x)=x<sup>2</sup>\",\"visible\":false,\"x\":[0.0,0.1,0.2,0.30000000000000004,0.4,0.5,0.6000000000000001,0.7000000000000001,0.8,0.9,1.0],\"y\":[0.0,0.010000000000000002,0.04000000000000001,0.09000000000000002,0.16000000000000003,0.25,0.3600000000000001,0.4900000000000001,0.6400000000000001,0.81,1.0],\"type\":\"scatter\"},{\"mode\":\"lines+markers\",\"name\":\"f(x)=x<sup>2</sup>\",\"visible\":false,\"x\":[0.0,0.1,0.2,0.30000000000000004,0.4,0.5,0.6000000000000001,0.7000000000000001,0.8,0.9,1.0,1.1],\"y\":[0.0,0.010000000000000002,0.04000000000000001,0.09000000000000002,0.16000000000000003,0.25,0.3600000000000001,0.4900000000000001,0.6400000000000001,0.81,1.0,1.2100000000000002],\"type\":\"scatter\"},{\"mode\":\"lines+markers\",\"name\":\"f(x)=x<sup>2</sup>\",\"visible\":false,\"x\":[0.0,0.1,0.2,0.30000000000000004,0.4,0.5,0.6000000000000001,0.7000000000000001,0.8,0.9,1.0,1.1,1.2000000000000002],\"y\":[0.0,0.010000000000000002,0.04000000000000001,0.09000000000000002,0.16000000000000003,0.25,0.3600000000000001,0.4900000000000001,0.6400000000000001,0.81,1.0,1.2100000000000002,1.4400000000000004],\"type\":\"scatter\"},{\"mode\":\"lines+markers\",\"name\":\"f(x)=x<sup>2</sup>\",\"visible\":false,\"x\":[0.0,0.1,0.2,0.30000000000000004,0.4,0.5,0.6000000000000001,0.7000000000000001,0.8,0.9,1.0,1.1,1.2000000000000002,1.3],\"y\":[0.0,0.010000000000000002,0.04000000000000001,0.09000000000000002,0.16000000000000003,0.25,0.3600000000000001,0.4900000000000001,0.6400000000000001,0.81,1.0,1.2100000000000002,1.4400000000000004,1.6900000000000002],\"type\":\"scatter\"},{\"mode\":\"lines+markers\",\"name\":\"f(x)=x<sup>2</sup>\",\"visible\":false,\"x\":[0.0,0.1,0.2,0.30000000000000004,0.4,0.5,0.6000000000000001,0.7000000000000001,0.8,0.9,1.0,1.1,1.2000000000000002,1.3,1.4000000000000001],\"y\":[0.0,0.010000000000000002,0.04000000000000001,0.09000000000000002,0.16000000000000003,0.25,0.3600000000000001,0.4900000000000001,0.6400000000000001,0.81,1.0,1.2100000000000002,1.4400000000000004,1.6900000000000002,1.9600000000000004],\"type\":\"scatter\"},{\"mode\":\"lines+markers\",\"name\":\"f(x)=x<sup>2</sup>\",\"visible\":false,\"x\":[0.0,0.1,0.2,0.30000000000000004,0.4,0.5,0.6000000000000001,0.7000000000000001,0.8,0.9,1.0,1.1,1.2000000000000002,1.3,1.4000000000000001,1.5],\"y\":[0.0,0.010000000000000002,0.04000000000000001,0.09000000000000002,0.16000000000000003,0.25,0.3600000000000001,0.4900000000000001,0.6400000000000001,0.81,1.0,1.2100000000000002,1.4400000000000004,1.6900000000000002,1.9600000000000004,2.25],\"type\":\"scatter\"},{\"mode\":\"lines+markers\",\"name\":\"f(x)=x<sup>2</sup>\",\"visible\":false,\"x\":[0.0,0.1,0.2,0.30000000000000004,0.4,0.5,0.6000000000000001,0.7000000000000001,0.8,0.9,1.0,1.1,1.2000000000000002,1.3,1.4000000000000001,1.5,1.6],\"y\":[0.0,0.010000000000000002,0.04000000000000001,0.09000000000000002,0.16000000000000003,0.25,0.3600000000000001,0.4900000000000001,0.6400000000000001,0.81,1.0,1.2100000000000002,1.4400000000000004,1.6900000000000002,1.9600000000000004,2.25,2.5600000000000005],\"type\":\"scatter\"},{\"mode\":\"lines+markers\",\"name\":\"f(x)=x<sup>2</sup>\",\"visible\":false,\"x\":[0.0,0.1,0.2,0.30000000000000004,0.4,0.5,0.6000000000000001,0.7000000000000001,0.8,0.9,1.0,1.1,1.2000000000000002,1.3,1.4000000000000001,1.5,1.6,1.7000000000000002],\"y\":[0.0,0.010000000000000002,0.04000000000000001,0.09000000000000002,0.16000000000000003,0.25,0.3600000000000001,0.4900000000000001,0.6400000000000001,0.81,1.0,1.2100000000000002,1.4400000000000004,1.6900000000000002,1.9600000000000004,2.25,2.5600000000000005,2.8900000000000006],\"type\":\"scatter\"},{\"mode\":\"lines+markers\",\"name\":\"f(x)=x<sup>2</sup>\",\"visible\":false,\"x\":[0.0,0.1,0.2,0.30000000000000004,0.4,0.5,0.6000000000000001,0.7000000000000001,0.8,0.9,1.0,1.1,1.2000000000000002,1.3,1.4000000000000001,1.5,1.6,1.7000000000000002,1.8],\"y\":[0.0,0.010000000000000002,0.04000000000000001,0.09000000000000002,0.16000000000000003,0.25,0.3600000000000001,0.4900000000000001,0.6400000000000001,0.81,1.0,1.2100000000000002,1.4400000000000004,1.6900000000000002,1.9600000000000004,2.25,2.5600000000000005,2.8900000000000006,3.24],\"type\":\"scatter\"},{\"mode\":\"lines+markers\",\"name\":\"f(x)=x<sup>2</sup>\",\"visible\":false,\"x\":[0.0,0.1,0.2,0.30000000000000004,0.4,0.5,0.6000000000000001,0.7000000000000001,0.8,0.9,1.0,1.1,1.2000000000000002,1.3,1.4000000000000001,1.5,1.6,1.7000000000000002,1.8,1.9000000000000001],\"y\":[0.0,0.010000000000000002,0.04000000000000001,0.09000000000000002,0.16000000000000003,0.25,0.3600000000000001,0.4900000000000001,0.6400000000000001,0.81,1.0,1.2100000000000002,1.4400000000000004,1.6900000000000002,1.9600000000000004,2.25,2.5600000000000005,2.8900000000000006,3.24,3.6100000000000003],\"type\":\"scatter\"},{\"mode\":\"lines+markers\",\"name\":\"f(x)=x<sup>2</sup>\",\"visible\":false,\"x\":[0.0,0.1,0.2,0.30000000000000004,0.4,0.5,0.6000000000000001,0.7000000000000001,0.8,0.9,1.0,1.1,1.2000000000000002,1.3,1.4000000000000001,1.5,1.6,1.7000000000000002,1.8,1.9000000000000001,2.0],\"y\":[0.0,0.010000000000000002,0.04000000000000001,0.09000000000000002,0.16000000000000003,0.25,0.3600000000000001,0.4900000000000001,0.6400000000000001,0.81,1.0,1.2100000000000002,1.4400000000000004,1.6900000000000002,1.9600000000000004,2.25,2.5600000000000005,2.8900000000000006,3.24,3.6100000000000003,4.0],\"type\":\"scatter\"},{\"mode\":\"lines+markers\",\"name\":\"f(x)=x<sup>2</sup>\",\"visible\":false,\"x\":[0.0,0.1,0.2,0.30000000000000004,0.4,0.5,0.6000000000000001,0.7000000000000001,0.8,0.9,1.0,1.1,1.2000000000000002,1.3,1.4000000000000001,1.5,1.6,1.7000000000000002,1.8,1.9000000000000001,2.0,2.1],\"y\":[0.0,0.010000000000000002,0.04000000000000001,0.09000000000000002,0.16000000000000003,0.25,0.3600000000000001,0.4900000000000001,0.6400000000000001,0.81,1.0,1.2100000000000002,1.4400000000000004,1.6900000000000002,1.9600000000000004,2.25,2.5600000000000005,2.8900000000000006,3.24,3.6100000000000003,4.0,4.41],\"type\":\"scatter\"},{\"mode\":\"lines+markers\",\"name\":\"f(x)=x<sup>2</sup>\",\"visible\":false,\"x\":[0.0,0.1,0.2,0.30000000000000004,0.4,0.5,0.6000000000000001,0.7000000000000001,0.8,0.9,1.0,1.1,1.2000000000000002,1.3,1.4000000000000001,1.5,1.6,1.7000000000000002,1.8,1.9000000000000001,2.0,2.1,2.2],\"y\":[0.0,0.010000000000000002,0.04000000000000001,0.09000000000000002,0.16000000000000003,0.25,0.3600000000000001,0.4900000000000001,0.6400000000000001,0.81,1.0,1.2100000000000002,1.4400000000000004,1.6900000000000002,1.9600000000000004,2.25,2.5600000000000005,2.8900000000000006,3.24,3.6100000000000003,4.0,4.41,4.840000000000001],\"type\":\"scatter\"},{\"mode\":\"lines+markers\",\"name\":\"f(x)=x<sup>2</sup>\",\"visible\":false,\"x\":[0.0,0.1,0.2,0.30000000000000004,0.4,0.5,0.6000000000000001,0.7000000000000001,0.8,0.9,1.0,1.1,1.2000000000000002,1.3,1.4000000000000001,1.5,1.6,1.7000000000000002,1.8,1.9000000000000001,2.0,2.1,2.2,2.3000000000000003],\"y\":[0.0,0.010000000000000002,0.04000000000000001,0.09000000000000002,0.16000000000000003,0.25,0.3600000000000001,0.4900000000000001,0.6400000000000001,0.81,1.0,1.2100000000000002,1.4400000000000004,1.6900000000000002,1.9600000000000004,2.25,2.5600000000000005,2.8900000000000006,3.24,3.6100000000000003,4.0,4.41,4.840000000000001,5.290000000000001],\"type\":\"scatter\"},{\"mode\":\"lines+markers\",\"name\":\"f(x)=x<sup>2</sup>\",\"visible\":false,\"x\":[0.0,0.1,0.2,0.30000000000000004,0.4,0.5,0.6000000000000001,0.7000000000000001,0.8,0.9,1.0,1.1,1.2000000000000002,1.3,1.4000000000000001,1.5,1.6,1.7000000000000002,1.8,1.9000000000000001,2.0,2.1,2.2,2.3000000000000003,2.4000000000000004],\"y\":[0.0,0.010000000000000002,0.04000000000000001,0.09000000000000002,0.16000000000000003,0.25,0.3600000000000001,0.4900000000000001,0.6400000000000001,0.81,1.0,1.2100000000000002,1.4400000000000004,1.6900000000000002,1.9600000000000004,2.25,2.5600000000000005,2.8900000000000006,3.24,3.6100000000000003,4.0,4.41,4.840000000000001,5.290000000000001,5.760000000000002],\"type\":\"scatter\"},{\"mode\":\"lines+markers\",\"name\":\"f(x)=x<sup>2</sup>\",\"visible\":false,\"x\":[0.0,0.1,0.2,0.30000000000000004,0.4,0.5,0.6000000000000001,0.7000000000000001,0.8,0.9,1.0,1.1,1.2000000000000002,1.3,1.4000000000000001,1.5,1.6,1.7000000000000002,1.8,1.9000000000000001,2.0,2.1,2.2,2.3000000000000003,2.4000000000000004,2.5],\"y\":[0.0,0.010000000000000002,0.04000000000000001,0.09000000000000002,0.16000000000000003,0.25,0.3600000000000001,0.4900000000000001,0.6400000000000001,0.81,1.0,1.2100000000000002,1.4400000000000004,1.6900000000000002,1.9600000000000004,2.25,2.5600000000000005,2.8900000000000006,3.24,3.6100000000000003,4.0,4.41,4.840000000000001,5.290000000000001,5.760000000000002,6.25],\"type\":\"scatter\"},{\"mode\":\"lines+markers\",\"name\":\"f(x)=x<sup>2</sup>\",\"visible\":false,\"x\":[0.0,0.1,0.2,0.30000000000000004,0.4,0.5,0.6000000000000001,0.7000000000000001,0.8,0.9,1.0,1.1,1.2000000000000002,1.3,1.4000000000000001,1.5,1.6,1.7000000000000002,1.8,1.9000000000000001,2.0,2.1,2.2,2.3000000000000003,2.4000000000000004,2.5,2.6],\"y\":[0.0,0.010000000000000002,0.04000000000000001,0.09000000000000002,0.16000000000000003,0.25,0.3600000000000001,0.4900000000000001,0.6400000000000001,0.81,1.0,1.2100000000000002,1.4400000000000004,1.6900000000000002,1.9600000000000004,2.25,2.5600000000000005,2.8900000000000006,3.24,3.6100000000000003,4.0,4.41,4.840000000000001,5.290000000000001,5.760000000000002,6.25,6.760000000000001],\"type\":\"scatter\"},{\"mode\":\"lines+markers\",\"name\":\"f(x)=x<sup>2</sup>\",\"visible\":false,\"x\":[0.0,0.1,0.2,0.30000000000000004,0.4,0.5,0.6000000000000001,0.7000000000000001,0.8,0.9,1.0,1.1,1.2000000000000002,1.3,1.4000000000000001,1.5,1.6,1.7000000000000002,1.8,1.9000000000000001,2.0,2.1,2.2,2.3000000000000003,2.4000000000000004,2.5,2.6,2.7],\"y\":[0.0,0.010000000000000002,0.04000000000000001,0.09000000000000002,0.16000000000000003,0.25,0.3600000000000001,0.4900000000000001,0.6400000000000001,0.81,1.0,1.2100000000000002,1.4400000000000004,1.6900000000000002,1.9600000000000004,2.25,2.5600000000000005,2.8900000000000006,3.24,3.6100000000000003,4.0,4.41,4.840000000000001,5.290000000000001,5.760000000000002,6.25,6.760000000000001,7.290000000000001],\"type\":\"scatter\"},{\"mode\":\"lines+markers\",\"name\":\"f(x)=x<sup>2</sup>\",\"visible\":false,\"x\":[0.0,0.1,0.2,0.30000000000000004,0.4,0.5,0.6000000000000001,0.7000000000000001,0.8,0.9,1.0,1.1,1.2000000000000002,1.3,1.4000000000000001,1.5,1.6,1.7000000000000002,1.8,1.9000000000000001,2.0,2.1,2.2,2.3000000000000003,2.4000000000000004,2.5,2.6,2.7,2.8000000000000003],\"y\":[0.0,0.010000000000000002,0.04000000000000001,0.09000000000000002,0.16000000000000003,0.25,0.3600000000000001,0.4900000000000001,0.6400000000000001,0.81,1.0,1.2100000000000002,1.4400000000000004,1.6900000000000002,1.9600000000000004,2.25,2.5600000000000005,2.8900000000000006,3.24,3.6100000000000003,4.0,4.41,4.840000000000001,5.290000000000001,5.760000000000002,6.25,6.760000000000001,7.290000000000001,7.840000000000002],\"type\":\"scatter\"},{\"mode\":\"lines+markers\",\"name\":\"f(x)=x<sup>2</sup>\",\"visible\":false,\"x\":[0.0,0.1,0.2,0.30000000000000004,0.4,0.5,0.6000000000000001,0.7000000000000001,0.8,0.9,1.0,1.1,1.2000000000000002,1.3,1.4000000000000001,1.5,1.6,1.7000000000000002,1.8,1.9000000000000001,2.0,2.1,2.2,2.3000000000000003,2.4000000000000004,2.5,2.6,2.7,2.8000000000000003,2.9000000000000004],\"y\":[0.0,0.010000000000000002,0.04000000000000001,0.09000000000000002,0.16000000000000003,0.25,0.3600000000000001,0.4900000000000001,0.6400000000000001,0.81,1.0,1.2100000000000002,1.4400000000000004,1.6900000000000002,1.9600000000000004,2.25,2.5600000000000005,2.8900000000000006,3.24,3.6100000000000003,4.0,4.41,4.840000000000001,5.290000000000001,5.760000000000002,6.25,6.760000000000001,7.290000000000001,7.840000000000002,8.410000000000002],\"type\":\"scatter\"},{\"mode\":\"lines+markers\",\"name\":\"f(x)=x<sup>2</sup>\",\"visible\":false,\"x\":[0.0,0.1,0.2,0.30000000000000004,0.4,0.5,0.6000000000000001,0.7000000000000001,0.8,0.9,1.0,1.1,1.2000000000000002,1.3,1.4000000000000001,1.5,1.6,1.7000000000000002,1.8,1.9000000000000001,2.0,2.1,2.2,2.3000000000000003,2.4000000000000004,2.5,2.6,2.7,2.8000000000000003,2.9000000000000004,3.0],\"y\":[0.0,0.010000000000000002,0.04000000000000001,0.09000000000000002,0.16000000000000003,0.25,0.3600000000000001,0.4900000000000001,0.6400000000000001,0.81,1.0,1.2100000000000002,1.4400000000000004,1.6900000000000002,1.9600000000000004,2.25,2.5600000000000005,2.8900000000000006,3.24,3.6100000000000003,4.0,4.41,4.840000000000001,5.290000000000001,5.760000000000002,6.25,6.760000000000001,7.290000000000001,7.840000000000002,8.410000000000002,9.0],\"type\":\"scatter\"},{\"mode\":\"lines+markers\",\"name\":\"f(x)=x<sup>2</sup>\",\"visible\":false,\"x\":[0.0,0.1,0.2,0.30000000000000004,0.4,0.5,0.6000000000000001,0.7000000000000001,0.8,0.9,1.0,1.1,1.2000000000000002,1.3,1.4000000000000001,1.5,1.6,1.7000000000000002,1.8,1.9000000000000001,2.0,2.1,2.2,2.3000000000000003,2.4000000000000004,2.5,2.6,2.7,2.8000000000000003,2.9000000000000004,3.0,3.1],\"y\":[0.0,0.010000000000000002,0.04000000000000001,0.09000000000000002,0.16000000000000003,0.25,0.3600000000000001,0.4900000000000001,0.6400000000000001,0.81,1.0,1.2100000000000002,1.4400000000000004,1.6900000000000002,1.9600000000000004,2.25,2.5600000000000005,2.8900000000000006,3.24,3.6100000000000003,4.0,4.41,4.840000000000001,5.290000000000001,5.760000000000002,6.25,6.760000000000001,7.290000000000001,7.840000000000002,8.410000000000002,9.0,9.610000000000001],\"type\":\"scatter\"},{\"mode\":\"lines+markers\",\"name\":\"f(x)=x<sup>2</sup>\",\"visible\":false,\"x\":[0.0,0.1,0.2,0.30000000000000004,0.4,0.5,0.6000000000000001,0.7000000000000001,0.8,0.9,1.0,1.1,1.2000000000000002,1.3,1.4000000000000001,1.5,1.6,1.7000000000000002,1.8,1.9000000000000001,2.0,2.1,2.2,2.3000000000000003,2.4000000000000004,2.5,2.6,2.7,2.8000000000000003,2.9000000000000004,3.0,3.1,3.2],\"y\":[0.0,0.010000000000000002,0.04000000000000001,0.09000000000000002,0.16000000000000003,0.25,0.3600000000000001,0.4900000000000001,0.6400000000000001,0.81,1.0,1.2100000000000002,1.4400000000000004,1.6900000000000002,1.9600000000000004,2.25,2.5600000000000005,2.8900000000000006,3.24,3.6100000000000003,4.0,4.41,4.840000000000001,5.290000000000001,5.760000000000002,6.25,6.760000000000001,7.290000000000001,7.840000000000002,8.410000000000002,9.0,9.610000000000001,10.240000000000002],\"type\":\"scatter\"},{\"mode\":\"lines+markers\",\"name\":\"f(x)=x<sup>2</sup>\",\"visible\":false,\"x\":[0.0,0.1,0.2,0.30000000000000004,0.4,0.5,0.6000000000000001,0.7000000000000001,0.8,0.9,1.0,1.1,1.2000000000000002,1.3,1.4000000000000001,1.5,1.6,1.7000000000000002,1.8,1.9000000000000001,2.0,2.1,2.2,2.3000000000000003,2.4000000000000004,2.5,2.6,2.7,2.8000000000000003,2.9000000000000004,3.0,3.1,3.2,3.3000000000000003],\"y\":[0.0,0.010000000000000002,0.04000000000000001,0.09000000000000002,0.16000000000000003,0.25,0.3600000000000001,0.4900000000000001,0.6400000000000001,0.81,1.0,1.2100000000000002,1.4400000000000004,1.6900000000000002,1.9600000000000004,2.25,2.5600000000000005,2.8900000000000006,3.24,3.6100000000000003,4.0,4.41,4.840000000000001,5.290000000000001,5.760000000000002,6.25,6.760000000000001,7.290000000000001,7.840000000000002,8.410000000000002,9.0,9.610000000000001,10.240000000000002,10.890000000000002],\"type\":\"scatter\"},{\"mode\":\"lines+markers\",\"name\":\"f(x)=x<sup>2</sup>\",\"visible\":false,\"x\":[0.0,0.1,0.2,0.30000000000000004,0.4,0.5,0.6000000000000001,0.7000000000000001,0.8,0.9,1.0,1.1,1.2000000000000002,1.3,1.4000000000000001,1.5,1.6,1.7000000000000002,1.8,1.9000000000000001,2.0,2.1,2.2,2.3000000000000003,2.4000000000000004,2.5,2.6,2.7,2.8000000000000003,2.9000000000000004,3.0,3.1,3.2,3.3000000000000003,3.4000000000000004],\"y\":[0.0,0.010000000000000002,0.04000000000000001,0.09000000000000002,0.16000000000000003,0.25,0.3600000000000001,0.4900000000000001,0.6400000000000001,0.81,1.0,1.2100000000000002,1.4400000000000004,1.6900000000000002,1.9600000000000004,2.25,2.5600000000000005,2.8900000000000006,3.24,3.6100000000000003,4.0,4.41,4.840000000000001,5.290000000000001,5.760000000000002,6.25,6.760000000000001,7.290000000000001,7.840000000000002,8.410000000000002,9.0,9.610000000000001,10.240000000000002,10.890000000000002,11.560000000000002],\"type\":\"scatter\"},{\"mode\":\"lines+markers\",\"name\":\"f(x)=x<sup>2</sup>\",\"visible\":false,\"x\":[0.0,0.1,0.2,0.30000000000000004,0.4,0.5,0.6000000000000001,0.7000000000000001,0.8,0.9,1.0,1.1,1.2000000000000002,1.3,1.4000000000000001,1.5,1.6,1.7000000000000002,1.8,1.9000000000000001,2.0,2.1,2.2,2.3000000000000003,2.4000000000000004,2.5,2.6,2.7,2.8000000000000003,2.9000000000000004,3.0,3.1,3.2,3.3000000000000003,3.4000000000000004,3.5],\"y\":[0.0,0.010000000000000002,0.04000000000000001,0.09000000000000002,0.16000000000000003,0.25,0.3600000000000001,0.4900000000000001,0.6400000000000001,0.81,1.0,1.2100000000000002,1.4400000000000004,1.6900000000000002,1.9600000000000004,2.25,2.5600000000000005,2.8900000000000006,3.24,3.6100000000000003,4.0,4.41,4.840000000000001,5.290000000000001,5.760000000000002,6.25,6.760000000000001,7.290000000000001,7.840000000000002,8.410000000000002,9.0,9.610000000000001,10.240000000000002,10.890000000000002,11.560000000000002,12.25],\"type\":\"scatter\"},{\"mode\":\"lines+markers\",\"name\":\"f(x)=x<sup>2</sup>\",\"visible\":false,\"x\":[0.0,0.1,0.2,0.30000000000000004,0.4,0.5,0.6000000000000001,0.7000000000000001,0.8,0.9,1.0,1.1,1.2000000000000002,1.3,1.4000000000000001,1.5,1.6,1.7000000000000002,1.8,1.9000000000000001,2.0,2.1,2.2,2.3000000000000003,2.4000000000000004,2.5,2.6,2.7,2.8000000000000003,2.9000000000000004,3.0,3.1,3.2,3.3000000000000003,3.4000000000000004,3.5,3.6],\"y\":[0.0,0.010000000000000002,0.04000000000000001,0.09000000000000002,0.16000000000000003,0.25,0.3600000000000001,0.4900000000000001,0.6400000000000001,0.81,1.0,1.2100000000000002,1.4400000000000004,1.6900000000000002,1.9600000000000004,2.25,2.5600000000000005,2.8900000000000006,3.24,3.6100000000000003,4.0,4.41,4.840000000000001,5.290000000000001,5.760000000000002,6.25,6.760000000000001,7.290000000000001,7.840000000000002,8.410000000000002,9.0,9.610000000000001,10.240000000000002,10.890000000000002,11.560000000000002,12.25,12.96],\"type\":\"scatter\"},{\"mode\":\"lines+markers\",\"name\":\"f(x)=x<sup>2</sup>\",\"visible\":false,\"x\":[0.0,0.1,0.2,0.30000000000000004,0.4,0.5,0.6000000000000001,0.7000000000000001,0.8,0.9,1.0,1.1,1.2000000000000002,1.3,1.4000000000000001,1.5,1.6,1.7000000000000002,1.8,1.9000000000000001,2.0,2.1,2.2,2.3000000000000003,2.4000000000000004,2.5,2.6,2.7,2.8000000000000003,2.9000000000000004,3.0,3.1,3.2,3.3000000000000003,3.4000000000000004,3.5,3.6,3.7],\"y\":[0.0,0.010000000000000002,0.04000000000000001,0.09000000000000002,0.16000000000000003,0.25,0.3600000000000001,0.4900000000000001,0.6400000000000001,0.81,1.0,1.2100000000000002,1.4400000000000004,1.6900000000000002,1.9600000000000004,2.25,2.5600000000000005,2.8900000000000006,3.24,3.6100000000000003,4.0,4.41,4.840000000000001,5.290000000000001,5.760000000000002,6.25,6.760000000000001,7.290000000000001,7.840000000000002,8.410000000000002,9.0,9.610000000000001,10.240000000000002,10.890000000000002,11.560000000000002,12.25,12.96,13.690000000000001],\"type\":\"scatter\"},{\"mode\":\"lines+markers\",\"name\":\"f(x)=x<sup>2</sup>\",\"visible\":false,\"x\":[0.0,0.1,0.2,0.30000000000000004,0.4,0.5,0.6000000000000001,0.7000000000000001,0.8,0.9,1.0,1.1,1.2000000000000002,1.3,1.4000000000000001,1.5,1.6,1.7000000000000002,1.8,1.9000000000000001,2.0,2.1,2.2,2.3000000000000003,2.4000000000000004,2.5,2.6,2.7,2.8000000000000003,2.9000000000000004,3.0,3.1,3.2,3.3000000000000003,3.4000000000000004,3.5,3.6,3.7,3.8000000000000003],\"y\":[0.0,0.010000000000000002,0.04000000000000001,0.09000000000000002,0.16000000000000003,0.25,0.3600000000000001,0.4900000000000001,0.6400000000000001,0.81,1.0,1.2100000000000002,1.4400000000000004,1.6900000000000002,1.9600000000000004,2.25,2.5600000000000005,2.8900000000000006,3.24,3.6100000000000003,4.0,4.41,4.840000000000001,5.290000000000001,5.760000000000002,6.25,6.760000000000001,7.290000000000001,7.840000000000002,8.410000000000002,9.0,9.610000000000001,10.240000000000002,10.890000000000002,11.560000000000002,12.25,12.96,13.690000000000001,14.440000000000001],\"type\":\"scatter\"},{\"mode\":\"lines+markers\",\"name\":\"f(x)=x<sup>2</sup>\",\"visible\":false,\"x\":[0.0,0.1,0.2,0.30000000000000004,0.4,0.5,0.6000000000000001,0.7000000000000001,0.8,0.9,1.0,1.1,1.2000000000000002,1.3,1.4000000000000001,1.5,1.6,1.7000000000000002,1.8,1.9000000000000001,2.0,2.1,2.2,2.3000000000000003,2.4000000000000004,2.5,2.6,2.7,2.8000000000000003,2.9000000000000004,3.0,3.1,3.2,3.3000000000000003,3.4000000000000004,3.5,3.6,3.7,3.8000000000000003,3.9000000000000004],\"y\":[0.0,0.010000000000000002,0.04000000000000001,0.09000000000000002,0.16000000000000003,0.25,0.3600000000000001,0.4900000000000001,0.6400000000000001,0.81,1.0,1.2100000000000002,1.4400000000000004,1.6900000000000002,1.9600000000000004,2.25,2.5600000000000005,2.8900000000000006,3.24,3.6100000000000003,4.0,4.41,4.840000000000001,5.290000000000001,5.760000000000002,6.25,6.760000000000001,7.290000000000001,7.840000000000002,8.410000000000002,9.0,9.610000000000001,10.240000000000002,10.890000000000002,11.560000000000002,12.25,12.96,13.690000000000001,14.440000000000001,15.210000000000003],\"type\":\"scatter\"},{\"mode\":\"lines+markers\",\"name\":\"f(x)=x<sup>2</sup>\",\"visible\":false,\"x\":[0.0,0.1,0.2,0.30000000000000004,0.4,0.5,0.6000000000000001,0.7000000000000001,0.8,0.9,1.0,1.1,1.2000000000000002,1.3,1.4000000000000001,1.5,1.6,1.7000000000000002,1.8,1.9000000000000001,2.0,2.1,2.2,2.3000000000000003,2.4000000000000004,2.5,2.6,2.7,2.8000000000000003,2.9000000000000004,3.0,3.1,3.2,3.3000000000000003,3.4000000000000004,3.5,3.6,3.7,3.8000000000000003,3.9000000000000004,4.0],\"y\":[0.0,0.010000000000000002,0.04000000000000001,0.09000000000000002,0.16000000000000003,0.25,0.3600000000000001,0.4900000000000001,0.6400000000000001,0.81,1.0,1.2100000000000002,1.4400000000000004,1.6900000000000002,1.9600000000000004,2.25,2.5600000000000005,2.8900000000000006,3.24,3.6100000000000003,4.0,4.41,4.840000000000001,5.290000000000001,5.760000000000002,6.25,6.760000000000001,7.290000000000001,7.840000000000002,8.410000000000002,9.0,9.610000000000001,10.240000000000002,10.890000000000002,11.560000000000002,12.25,12.96,13.690000000000001,14.440000000000001,15.210000000000003,16.0],\"type\":\"scatter\"},{\"mode\":\"lines+markers\",\"name\":\"f(x)=x<sup>2</sup>\",\"visible\":false,\"x\":[0.0,0.1,0.2,0.30000000000000004,0.4,0.5,0.6000000000000001,0.7000000000000001,0.8,0.9,1.0,1.1,1.2000000000000002,1.3,1.4000000000000001,1.5,1.6,1.7000000000000002,1.8,1.9000000000000001,2.0,2.1,2.2,2.3000000000000003,2.4000000000000004,2.5,2.6,2.7,2.8000000000000003,2.9000000000000004,3.0,3.1,3.2,3.3000000000000003,3.4000000000000004,3.5,3.6,3.7,3.8000000000000003,3.9000000000000004,4.0,4.1000000000000005],\"y\":[0.0,0.010000000000000002,0.04000000000000001,0.09000000000000002,0.16000000000000003,0.25,0.3600000000000001,0.4900000000000001,0.6400000000000001,0.81,1.0,1.2100000000000002,1.4400000000000004,1.6900000000000002,1.9600000000000004,2.25,2.5600000000000005,2.8900000000000006,3.24,3.6100000000000003,4.0,4.41,4.840000000000001,5.290000000000001,5.760000000000002,6.25,6.760000000000001,7.290000000000001,7.840000000000002,8.410000000000002,9.0,9.610000000000001,10.240000000000002,10.890000000000002,11.560000000000002,12.25,12.96,13.690000000000001,14.440000000000001,15.210000000000003,16.0,16.810000000000006],\"type\":\"scatter\"},{\"mode\":\"lines+markers\",\"name\":\"f(x)=x<sup>2</sup>\",\"visible\":false,\"x\":[0.0,0.1,0.2,0.30000000000000004,0.4,0.5,0.6000000000000001,0.7000000000000001,0.8,0.9,1.0,1.1,1.2000000000000002,1.3,1.4000000000000001,1.5,1.6,1.7000000000000002,1.8,1.9000000000000001,2.0,2.1,2.2,2.3000000000000003,2.4000000000000004,2.5,2.6,2.7,2.8000000000000003,2.9000000000000004,3.0,3.1,3.2,3.3000000000000003,3.4000000000000004,3.5,3.6,3.7,3.8000000000000003,3.9000000000000004,4.0,4.1000000000000005,4.2],\"y\":[0.0,0.010000000000000002,0.04000000000000001,0.09000000000000002,0.16000000000000003,0.25,0.3600000000000001,0.4900000000000001,0.6400000000000001,0.81,1.0,1.2100000000000002,1.4400000000000004,1.6900000000000002,1.9600000000000004,2.25,2.5600000000000005,2.8900000000000006,3.24,3.6100000000000003,4.0,4.41,4.840000000000001,5.290000000000001,5.760000000000002,6.25,6.760000000000001,7.290000000000001,7.840000000000002,8.410000000000002,9.0,9.610000000000001,10.240000000000002,10.890000000000002,11.560000000000002,12.25,12.96,13.690000000000001,14.440000000000001,15.210000000000003,16.0,16.810000000000006,17.64],\"type\":\"scatter\"},{\"mode\":\"lines+markers\",\"name\":\"f(x)=x<sup>2</sup>\",\"visible\":false,\"x\":[0.0,0.1,0.2,0.30000000000000004,0.4,0.5,0.6000000000000001,0.7000000000000001,0.8,0.9,1.0,1.1,1.2000000000000002,1.3,1.4000000000000001,1.5,1.6,1.7000000000000002,1.8,1.9000000000000001,2.0,2.1,2.2,2.3000000000000003,2.4000000000000004,2.5,2.6,2.7,2.8000000000000003,2.9000000000000004,3.0,3.1,3.2,3.3000000000000003,3.4000000000000004,3.5,3.6,3.7,3.8000000000000003,3.9000000000000004,4.0,4.1000000000000005,4.2,4.3],\"y\":[0.0,0.010000000000000002,0.04000000000000001,0.09000000000000002,0.16000000000000003,0.25,0.3600000000000001,0.4900000000000001,0.6400000000000001,0.81,1.0,1.2100000000000002,1.4400000000000004,1.6900000000000002,1.9600000000000004,2.25,2.5600000000000005,2.8900000000000006,3.24,3.6100000000000003,4.0,4.41,4.840000000000001,5.290000000000001,5.760000000000002,6.25,6.760000000000001,7.290000000000001,7.840000000000002,8.410000000000002,9.0,9.610000000000001,10.240000000000002,10.890000000000002,11.560000000000002,12.25,12.96,13.690000000000001,14.440000000000001,15.210000000000003,16.0,16.810000000000006,17.64,18.49],\"type\":\"scatter\"},{\"mode\":\"lines+markers\",\"name\":\"f(x)=x<sup>2</sup>\",\"visible\":false,\"x\":[0.0,0.1,0.2,0.30000000000000004,0.4,0.5,0.6000000000000001,0.7000000000000001,0.8,0.9,1.0,1.1,1.2000000000000002,1.3,1.4000000000000001,1.5,1.6,1.7000000000000002,1.8,1.9000000000000001,2.0,2.1,2.2,2.3000000000000003,2.4000000000000004,2.5,2.6,2.7,2.8000000000000003,2.9000000000000004,3.0,3.1,3.2,3.3000000000000003,3.4000000000000004,3.5,3.6,3.7,3.8000000000000003,3.9000000000000004,4.0,4.1000000000000005,4.2,4.3,4.4],\"y\":[0.0,0.010000000000000002,0.04000000000000001,0.09000000000000002,0.16000000000000003,0.25,0.3600000000000001,0.4900000000000001,0.6400000000000001,0.81,1.0,1.2100000000000002,1.4400000000000004,1.6900000000000002,1.9600000000000004,2.25,2.5600000000000005,2.8900000000000006,3.24,3.6100000000000003,4.0,4.41,4.840000000000001,5.290000000000001,5.760000000000002,6.25,6.760000000000001,7.290000000000001,7.840000000000002,8.410000000000002,9.0,9.610000000000001,10.240000000000002,10.890000000000002,11.560000000000002,12.25,12.96,13.690000000000001,14.440000000000001,15.210000000000003,16.0,16.810000000000006,17.64,18.49,19.360000000000003],\"type\":\"scatter\"},{\"mode\":\"lines+markers\",\"name\":\"f(x)=x<sup>2</sup>\",\"visible\":false,\"x\":[0.0,0.1,0.2,0.30000000000000004,0.4,0.5,0.6000000000000001,0.7000000000000001,0.8,0.9,1.0,1.1,1.2000000000000002,1.3,1.4000000000000001,1.5,1.6,1.7000000000000002,1.8,1.9000000000000001,2.0,2.1,2.2,2.3000000000000003,2.4000000000000004,2.5,2.6,2.7,2.8000000000000003,2.9000000000000004,3.0,3.1,3.2,3.3000000000000003,3.4000000000000004,3.5,3.6,3.7,3.8000000000000003,3.9000000000000004,4.0,4.1000000000000005,4.2,4.3,4.4,4.5],\"y\":[0.0,0.010000000000000002,0.04000000000000001,0.09000000000000002,0.16000000000000003,0.25,0.3600000000000001,0.4900000000000001,0.6400000000000001,0.81,1.0,1.2100000000000002,1.4400000000000004,1.6900000000000002,1.9600000000000004,2.25,2.5600000000000005,2.8900000000000006,3.24,3.6100000000000003,4.0,4.41,4.840000000000001,5.290000000000001,5.760000000000002,6.25,6.760000000000001,7.290000000000001,7.840000000000002,8.410000000000002,9.0,9.610000000000001,10.240000000000002,10.890000000000002,11.560000000000002,12.25,12.96,13.690000000000001,14.440000000000001,15.210000000000003,16.0,16.810000000000006,17.64,18.49,19.360000000000003,20.25],\"type\":\"scatter\"},{\"mode\":\"lines+markers\",\"name\":\"f(x)=x<sup>2</sup>\",\"visible\":false,\"x\":[0.0,0.1,0.2,0.30000000000000004,0.4,0.5,0.6000000000000001,0.7000000000000001,0.8,0.9,1.0,1.1,1.2000000000000002,1.3,1.4000000000000001,1.5,1.6,1.7000000000000002,1.8,1.9000000000000001,2.0,2.1,2.2,2.3000000000000003,2.4000000000000004,2.5,2.6,2.7,2.8000000000000003,2.9000000000000004,3.0,3.1,3.2,3.3000000000000003,3.4000000000000004,3.5,3.6,3.7,3.8000000000000003,3.9000000000000004,4.0,4.1000000000000005,4.2,4.3,4.4,4.5,4.6000000000000005],\"y\":[0.0,0.010000000000000002,0.04000000000000001,0.09000000000000002,0.16000000000000003,0.25,0.3600000000000001,0.4900000000000001,0.6400000000000001,0.81,1.0,1.2100000000000002,1.4400000000000004,1.6900000000000002,1.9600000000000004,2.25,2.5600000000000005,2.8900000000000006,3.24,3.6100000000000003,4.0,4.41,4.840000000000001,5.290000000000001,5.760000000000002,6.25,6.760000000000001,7.290000000000001,7.840000000000002,8.410000000000002,9.0,9.610000000000001,10.240000000000002,10.890000000000002,11.560000000000002,12.25,12.96,13.690000000000001,14.440000000000001,15.210000000000003,16.0,16.810000000000006,17.64,18.49,19.360000000000003,20.25,21.160000000000004],\"type\":\"scatter\"},{\"mode\":\"lines+markers\",\"name\":\"f(x)=x<sup>2</sup>\",\"visible\":false,\"x\":[0.0,0.1,0.2,0.30000000000000004,0.4,0.5,0.6000000000000001,0.7000000000000001,0.8,0.9,1.0,1.1,1.2000000000000002,1.3,1.4000000000000001,1.5,1.6,1.7000000000000002,1.8,1.9000000000000001,2.0,2.1,2.2,2.3000000000000003,2.4000000000000004,2.5,2.6,2.7,2.8000000000000003,2.9000000000000004,3.0,3.1,3.2,3.3000000000000003,3.4000000000000004,3.5,3.6,3.7,3.8000000000000003,3.9000000000000004,4.0,4.1000000000000005,4.2,4.3,4.4,4.5,4.6000000000000005,4.7],\"y\":[0.0,0.010000000000000002,0.04000000000000001,0.09000000000000002,0.16000000000000003,0.25,0.3600000000000001,0.4900000000000001,0.6400000000000001,0.81,1.0,1.2100000000000002,1.4400000000000004,1.6900000000000002,1.9600000000000004,2.25,2.5600000000000005,2.8900000000000006,3.24,3.6100000000000003,4.0,4.41,4.840000000000001,5.290000000000001,5.760000000000002,6.25,6.760000000000001,7.290000000000001,7.840000000000002,8.410000000000002,9.0,9.610000000000001,10.240000000000002,10.890000000000002,11.560000000000002,12.25,12.96,13.690000000000001,14.440000000000001,15.210000000000003,16.0,16.810000000000006,17.64,18.49,19.360000000000003,20.25,21.160000000000004,22.090000000000003],\"type\":\"scatter\"},{\"mode\":\"lines+markers\",\"name\":\"f(x)=x<sup>2</sup>\",\"visible\":false,\"x\":[0.0,0.1,0.2,0.30000000000000004,0.4,0.5,0.6000000000000001,0.7000000000000001,0.8,0.9,1.0,1.1,1.2000000000000002,1.3,1.4000000000000001,1.5,1.6,1.7000000000000002,1.8,1.9000000000000001,2.0,2.1,2.2,2.3000000000000003,2.4000000000000004,2.5,2.6,2.7,2.8000000000000003,2.9000000000000004,3.0,3.1,3.2,3.3000000000000003,3.4000000000000004,3.5,3.6,3.7,3.8000000000000003,3.9000000000000004,4.0,4.1000000000000005,4.2,4.3,4.4,4.5,4.6000000000000005,4.7,4.800000000000001],\"y\":[0.0,0.010000000000000002,0.04000000000000001,0.09000000000000002,0.16000000000000003,0.25,0.3600000000000001,0.4900000000000001,0.6400000000000001,0.81,1.0,1.2100000000000002,1.4400000000000004,1.6900000000000002,1.9600000000000004,2.25,2.5600000000000005,2.8900000000000006,3.24,3.6100000000000003,4.0,4.41,4.840000000000001,5.290000000000001,5.760000000000002,6.25,6.760000000000001,7.290000000000001,7.840000000000002,8.410000000000002,9.0,9.610000000000001,10.240000000000002,10.890000000000002,11.560000000000002,12.25,12.96,13.690000000000001,14.440000000000001,15.210000000000003,16.0,16.810000000000006,17.64,18.49,19.360000000000003,20.25,21.160000000000004,22.090000000000003,23.040000000000006],\"type\":\"scatter\"},{\"mode\":\"lines+markers\",\"name\":\"f(x)=x<sup>2</sup>\",\"visible\":false,\"x\":[0.0,0.1,0.2,0.30000000000000004,0.4,0.5,0.6000000000000001,0.7000000000000001,0.8,0.9,1.0,1.1,1.2000000000000002,1.3,1.4000000000000001,1.5,1.6,1.7000000000000002,1.8,1.9000000000000001,2.0,2.1,2.2,2.3000000000000003,2.4000000000000004,2.5,2.6,2.7,2.8000000000000003,2.9000000000000004,3.0,3.1,3.2,3.3000000000000003,3.4000000000000004,3.5,3.6,3.7,3.8000000000000003,3.9000000000000004,4.0,4.1000000000000005,4.2,4.3,4.4,4.5,4.6000000000000005,4.7,4.800000000000001,4.9],\"y\":[0.0,0.010000000000000002,0.04000000000000001,0.09000000000000002,0.16000000000000003,0.25,0.3600000000000001,0.4900000000000001,0.6400000000000001,0.81,1.0,1.2100000000000002,1.4400000000000004,1.6900000000000002,1.9600000000000004,2.25,2.5600000000000005,2.8900000000000006,3.24,3.6100000000000003,4.0,4.41,4.840000000000001,5.290000000000001,5.760000000000002,6.25,6.760000000000001,7.290000000000001,7.840000000000002,8.410000000000002,9.0,9.610000000000001,10.240000000000002,10.890000000000002,11.560000000000002,12.25,12.96,13.690000000000001,14.440000000000001,15.210000000000003,16.0,16.810000000000006,17.64,18.49,19.360000000000003,20.25,21.160000000000004,22.090000000000003,23.040000000000006,24.010000000000005],\"type\":\"scatter\"}],                        {\"template\":{\"data\":{\"bar\":[{\"error_x\":{\"color\":\"#2a3f5f\"},\"error_y\":{\"color\":\"#2a3f5f\"},\"marker\":{\"line\":{\"color\":\"#E5ECF6\",\"width\":0.5},\"pattern\":{\"fillmode\":\"overlay\",\"size\":10,\"solidity\":0.2}},\"type\":\"bar\"}],\"barpolar\":[{\"marker\":{\"line\":{\"color\":\"#E5ECF6\",\"width\":0.5},\"pattern\":{\"fillmode\":\"overlay\",\"size\":10,\"solidity\":0.2}},\"type\":\"barpolar\"}],\"carpet\":[{\"aaxis\":{\"endlinecolor\":\"#2a3f5f\",\"gridcolor\":\"white\",\"linecolor\":\"white\",\"minorgridcolor\":\"white\",\"startlinecolor\":\"#2a3f5f\"},\"baxis\":{\"endlinecolor\":\"#2a3f5f\",\"gridcolor\":\"white\",\"linecolor\":\"white\",\"minorgridcolor\":\"white\",\"startlinecolor\":\"#2a3f5f\"},\"type\":\"carpet\"}],\"choropleth\":[{\"colorbar\":{\"outlinewidth\":0,\"ticks\":\"\"},\"type\":\"choropleth\"}],\"contour\":[{\"colorbar\":{\"outlinewidth\":0,\"ticks\":\"\"},\"colorscale\":[[0.0,\"#0d0887\"],[0.1111111111111111,\"#46039f\"],[0.2222222222222222,\"#7201a8\"],[0.3333333333333333,\"#9c179e\"],[0.4444444444444444,\"#bd3786\"],[0.5555555555555556,\"#d8576b\"],[0.6666666666666666,\"#ed7953\"],[0.7777777777777778,\"#fb9f3a\"],[0.8888888888888888,\"#fdca26\"],[1.0,\"#f0f921\"]],\"type\":\"contour\"}],\"contourcarpet\":[{\"colorbar\":{\"outlinewidth\":0,\"ticks\":\"\"},\"type\":\"contourcarpet\"}],\"heatmap\":[{\"colorbar\":{\"outlinewidth\":0,\"ticks\":\"\"},\"colorscale\":[[0.0,\"#0d0887\"],[0.1111111111111111,\"#46039f\"],[0.2222222222222222,\"#7201a8\"],[0.3333333333333333,\"#9c179e\"],[0.4444444444444444,\"#bd3786\"],[0.5555555555555556,\"#d8576b\"],[0.6666666666666666,\"#ed7953\"],[0.7777777777777778,\"#fb9f3a\"],[0.8888888888888888,\"#fdca26\"],[1.0,\"#f0f921\"]],\"type\":\"heatmap\"}],\"heatmapgl\":[{\"colorbar\":{\"outlinewidth\":0,\"ticks\":\"\"},\"colorscale\":[[0.0,\"#0d0887\"],[0.1111111111111111,\"#46039f\"],[0.2222222222222222,\"#7201a8\"],[0.3333333333333333,\"#9c179e\"],[0.4444444444444444,\"#bd3786\"],[0.5555555555555556,\"#d8576b\"],[0.6666666666666666,\"#ed7953\"],[0.7777777777777778,\"#fb9f3a\"],[0.8888888888888888,\"#fdca26\"],[1.0,\"#f0f921\"]],\"type\":\"heatmapgl\"}],\"histogram\":[{\"marker\":{\"pattern\":{\"fillmode\":\"overlay\",\"size\":10,\"solidity\":0.2}},\"type\":\"histogram\"}],\"histogram2d\":[{\"colorbar\":{\"outlinewidth\":0,\"ticks\":\"\"},\"colorscale\":[[0.0,\"#0d0887\"],[0.1111111111111111,\"#46039f\"],[0.2222222222222222,\"#7201a8\"],[0.3333333333333333,\"#9c179e\"],[0.4444444444444444,\"#bd3786\"],[0.5555555555555556,\"#d8576b\"],[0.6666666666666666,\"#ed7953\"],[0.7777777777777778,\"#fb9f3a\"],[0.8888888888888888,\"#fdca26\"],[1.0,\"#f0f921\"]],\"type\":\"histogram2d\"}],\"histogram2dcontour\":[{\"colorbar\":{\"outlinewidth\":0,\"ticks\":\"\"},\"colorscale\":[[0.0,\"#0d0887\"],[0.1111111111111111,\"#46039f\"],[0.2222222222222222,\"#7201a8\"],[0.3333333333333333,\"#9c179e\"],[0.4444444444444444,\"#bd3786\"],[0.5555555555555556,\"#d8576b\"],[0.6666666666666666,\"#ed7953\"],[0.7777777777777778,\"#fb9f3a\"],[0.8888888888888888,\"#fdca26\"],[1.0,\"#f0f921\"]],\"type\":\"histogram2dcontour\"}],\"mesh3d\":[{\"colorbar\":{\"outlinewidth\":0,\"ticks\":\"\"},\"type\":\"mesh3d\"}],\"parcoords\":[{\"line\":{\"colorbar\":{\"outlinewidth\":0,\"ticks\":\"\"}},\"type\":\"parcoords\"}],\"pie\":[{\"automargin\":true,\"type\":\"pie\"}],\"scatter\":[{\"marker\":{\"colorbar\":{\"outlinewidth\":0,\"ticks\":\"\"}},\"type\":\"scatter\"}],\"scatter3d\":[{\"line\":{\"colorbar\":{\"outlinewidth\":0,\"ticks\":\"\"}},\"marker\":{\"colorbar\":{\"outlinewidth\":0,\"ticks\":\"\"}},\"type\":\"scatter3d\"}],\"scattercarpet\":[{\"marker\":{\"colorbar\":{\"outlinewidth\":0,\"ticks\":\"\"}},\"type\":\"scattercarpet\"}],\"scattergeo\":[{\"marker\":{\"colorbar\":{\"outlinewidth\":0,\"ticks\":\"\"}},\"type\":\"scattergeo\"}],\"scattergl\":[{\"marker\":{\"colorbar\":{\"outlinewidth\":0,\"ticks\":\"\"}},\"type\":\"scattergl\"}],\"scattermapbox\":[{\"marker\":{\"colorbar\":{\"outlinewidth\":0,\"ticks\":\"\"}},\"type\":\"scattermapbox\"}],\"scatterpolar\":[{\"marker\":{\"colorbar\":{\"outlinewidth\":0,\"ticks\":\"\"}},\"type\":\"scatterpolar\"}],\"scatterpolargl\":[{\"marker\":{\"colorbar\":{\"outlinewidth\":0,\"ticks\":\"\"}},\"type\":\"scatterpolargl\"}],\"scatterternary\":[{\"marker\":{\"colorbar\":{\"outlinewidth\":0,\"ticks\":\"\"}},\"type\":\"scatterternary\"}],\"surface\":[{\"colorbar\":{\"outlinewidth\":0,\"ticks\":\"\"},\"colorscale\":[[0.0,\"#0d0887\"],[0.1111111111111111,\"#46039f\"],[0.2222222222222222,\"#7201a8\"],[0.3333333333333333,\"#9c179e\"],[0.4444444444444444,\"#bd3786\"],[0.5555555555555556,\"#d8576b\"],[0.6666666666666666,\"#ed7953\"],[0.7777777777777778,\"#fb9f3a\"],[0.8888888888888888,\"#fdca26\"],[1.0,\"#f0f921\"]],\"type\":\"surface\"}],\"table\":[{\"cells\":{\"fill\":{\"color\":\"#EBF0F8\"},\"line\":{\"color\":\"white\"}},\"header\":{\"fill\":{\"color\":\"#C8D4E3\"},\"line\":{\"color\":\"white\"}},\"type\":\"table\"}]},\"layout\":{\"annotationdefaults\":{\"arrowcolor\":\"#2a3f5f\",\"arrowhead\":0,\"arrowwidth\":1},\"autotypenumbers\":\"strict\",\"coloraxis\":{\"colorbar\":{\"outlinewidth\":0,\"ticks\":\"\"}},\"colorscale\":{\"diverging\":[[0,\"#8e0152\"],[0.1,\"#c51b7d\"],[0.2,\"#de77ae\"],[0.3,\"#f1b6da\"],[0.4,\"#fde0ef\"],[0.5,\"#f7f7f7\"],[0.6,\"#e6f5d0\"],[0.7,\"#b8e186\"],[0.8,\"#7fbc41\"],[0.9,\"#4d9221\"],[1,\"#276419\"]],\"sequential\":[[0.0,\"#0d0887\"],[0.1111111111111111,\"#46039f\"],[0.2222222222222222,\"#7201a8\"],[0.3333333333333333,\"#9c179e\"],[0.4444444444444444,\"#bd3786\"],[0.5555555555555556,\"#d8576b\"],[0.6666666666666666,\"#ed7953\"],[0.7777777777777778,\"#fb9f3a\"],[0.8888888888888888,\"#fdca26\"],[1.0,\"#f0f921\"]],\"sequentialminus\":[[0.0,\"#0d0887\"],[0.1111111111111111,\"#46039f\"],[0.2222222222222222,\"#7201a8\"],[0.3333333333333333,\"#9c179e\"],[0.4444444444444444,\"#bd3786\"],[0.5555555555555556,\"#d8576b\"],[0.6666666666666666,\"#ed7953\"],[0.7777777777777778,\"#fb9f3a\"],[0.8888888888888888,\"#fdca26\"],[1.0,\"#f0f921\"]]},\"colorway\":[\"#636efa\",\"#EF553B\",\"#00cc96\",\"#ab63fa\",\"#FFA15A\",\"#19d3f3\",\"#FF6692\",\"#B6E880\",\"#FF97FF\",\"#FECB52\"],\"font\":{\"color\":\"#2a3f5f\"},\"geo\":{\"bgcolor\":\"white\",\"lakecolor\":\"white\",\"landcolor\":\"#E5ECF6\",\"showlakes\":true,\"showland\":true,\"subunitcolor\":\"white\"},\"hoverlabel\":{\"align\":\"left\"},\"hovermode\":\"closest\",\"mapbox\":{\"style\":\"light\"},\"paper_bgcolor\":\"white\",\"plot_bgcolor\":\"#E5ECF6\",\"polar\":{\"angularaxis\":{\"gridcolor\":\"white\",\"linecolor\":\"white\",\"ticks\":\"\"},\"bgcolor\":\"#E5ECF6\",\"radialaxis\":{\"gridcolor\":\"white\",\"linecolor\":\"white\",\"ticks\":\"\"}},\"scene\":{\"xaxis\":{\"backgroundcolor\":\"#E5ECF6\",\"gridcolor\":\"white\",\"gridwidth\":2,\"linecolor\":\"white\",\"showbackground\":true,\"ticks\":\"\",\"zerolinecolor\":\"white\"},\"yaxis\":{\"backgroundcolor\":\"#E5ECF6\",\"gridcolor\":\"white\",\"gridwidth\":2,\"linecolor\":\"white\",\"showbackground\":true,\"ticks\":\"\",\"zerolinecolor\":\"white\"},\"zaxis\":{\"backgroundcolor\":\"#E5ECF6\",\"gridcolor\":\"white\",\"gridwidth\":2,\"linecolor\":\"white\",\"showbackground\":true,\"ticks\":\"\",\"zerolinecolor\":\"white\"}},\"shapedefaults\":{\"line\":{\"color\":\"#2a3f5f\"}},\"ternary\":{\"aaxis\":{\"gridcolor\":\"white\",\"linecolor\":\"white\",\"ticks\":\"\"},\"baxis\":{\"gridcolor\":\"white\",\"linecolor\":\"white\",\"ticks\":\"\"},\"bgcolor\":\"#E5ECF6\",\"caxis\":{\"gridcolor\":\"white\",\"linecolor\":\"white\",\"ticks\":\"\"}},\"title\":{\"x\":0.05},\"xaxis\":{\"automargin\":true,\"gridcolor\":\"white\",\"linecolor\":\"white\",\"ticks\":\"\",\"title\":{\"standoff\":15},\"zerolinecolor\":\"white\",\"zerolinewidth\":2},\"yaxis\":{\"automargin\":true,\"gridcolor\":\"white\",\"linecolor\":\"white\",\"ticks\":\"\",\"title\":{\"standoff\":15},\"zerolinecolor\":\"white\",\"zerolinewidth\":2}}},\"sliders\":[{\"steps\":[{\"args\":[\"visible\",[true,false,false,false,false,false,false,false,false,false,false,false,false,false,false,false,false,false,false,false,false,false,false,false,false,false,false,false,false,false,false,false,false,false,false,false,false,false,false,false,false,false,false,false,false,false,false,false,false,false]],\"method\":\"restyle\"},{\"args\":[\"visible\",[false,true,false,false,false,false,false,false,false,false,false,false,false,false,false,false,false,false,false,false,false,false,false,false,false,false,false,false,false,false,false,false,false,false,false,false,false,false,false,false,false,false,false,false,false,false,false,false,false,false]],\"method\":\"restyle\"},{\"args\":[\"visible\",[false,false,true,false,false,false,false,false,false,false,false,false,false,false,false,false,false,false,false,false,false,false,false,false,false,false,false,false,false,false,false,false,false,false,false,false,false,false,false,false,false,false,false,false,false,false,false,false,false,false]],\"method\":\"restyle\"},{\"args\":[\"visible\",[false,false,false,true,false,false,false,false,false,false,false,false,false,false,false,false,false,false,false,false,false,false,false,false,false,false,false,false,false,false,false,false,false,false,false,false,false,false,false,false,false,false,false,false,false,false,false,false,false,false]],\"method\":\"restyle\"},{\"args\":[\"visible\",[false,false,false,false,true,false,false,false,false,false,false,false,false,false,false,false,false,false,false,false,false,false,false,false,false,false,false,false,false,false,false,false,false,false,false,false,false,false,false,false,false,false,false,false,false,false,false,false,false,false]],\"method\":\"restyle\"},{\"args\":[\"visible\",[false,false,false,false,false,true,false,false,false,false,false,false,false,false,false,false,false,false,false,false,false,false,false,false,false,false,false,false,false,false,false,false,false,false,false,false,false,false,false,false,false,false,false,false,false,false,false,false,false,false]],\"method\":\"restyle\"},{\"args\":[\"visible\",[false,false,false,false,false,false,true,false,false,false,false,false,false,false,false,false,false,false,false,false,false,false,false,false,false,false,false,false,false,false,false,false,false,false,false,false,false,false,false,false,false,false,false,false,false,false,false,false,false,false]],\"method\":\"restyle\"},{\"args\":[\"visible\",[false,false,false,false,false,false,false,true,false,false,false,false,false,false,false,false,false,false,false,false,false,false,false,false,false,false,false,false,false,false,false,false,false,false,false,false,false,false,false,false,false,false,false,false,false,false,false,false,false,false]],\"method\":\"restyle\"},{\"args\":[\"visible\",[false,false,false,false,false,false,false,false,true,false,false,false,false,false,false,false,false,false,false,false,false,false,false,false,false,false,false,false,false,false,false,false,false,false,false,false,false,false,false,false,false,false,false,false,false,false,false,false,false,false]],\"method\":\"restyle\"},{\"args\":[\"visible\",[false,false,false,false,false,false,false,false,false,true,false,false,false,false,false,false,false,false,false,false,false,false,false,false,false,false,false,false,false,false,false,false,false,false,false,false,false,false,false,false,false,false,false,false,false,false,false,false,false,false]],\"method\":\"restyle\"},{\"args\":[\"visible\",[false,false,false,false,false,false,false,false,false,false,true,false,false,false,false,false,false,false,false,false,false,false,false,false,false,false,false,false,false,false,false,false,false,false,false,false,false,false,false,false,false,false,false,false,false,false,false,false,false,false]],\"method\":\"restyle\"},{\"args\":[\"visible\",[false,false,false,false,false,false,false,false,false,false,false,true,false,false,false,false,false,false,false,false,false,false,false,false,false,false,false,false,false,false,false,false,false,false,false,false,false,false,false,false,false,false,false,false,false,false,false,false,false,false]],\"method\":\"restyle\"},{\"args\":[\"visible\",[false,false,false,false,false,false,false,false,false,false,false,false,true,false,false,false,false,false,false,false,false,false,false,false,false,false,false,false,false,false,false,false,false,false,false,false,false,false,false,false,false,false,false,false,false,false,false,false,false,false]],\"method\":\"restyle\"},{\"args\":[\"visible\",[false,false,false,false,false,false,false,false,false,false,false,false,false,true,false,false,false,false,false,false,false,false,false,false,false,false,false,false,false,false,false,false,false,false,false,false,false,false,false,false,false,false,false,false,false,false,false,false,false,false]],\"method\":\"restyle\"},{\"args\":[\"visible\",[false,false,false,false,false,false,false,false,false,false,false,false,false,false,true,false,false,false,false,false,false,false,false,false,false,false,false,false,false,false,false,false,false,false,false,false,false,false,false,false,false,false,false,false,false,false,false,false,false,false]],\"method\":\"restyle\"},{\"args\":[\"visible\",[false,false,false,false,false,false,false,false,false,false,false,false,false,false,false,true,false,false,false,false,false,false,false,false,false,false,false,false,false,false,false,false,false,false,false,false,false,false,false,false,false,false,false,false,false,false,false,false,false,false]],\"method\":\"restyle\"},{\"args\":[\"visible\",[false,false,false,false,false,false,false,false,false,false,false,false,false,false,false,false,true,false,false,false,false,false,false,false,false,false,false,false,false,false,false,false,false,false,false,false,false,false,false,false,false,false,false,false,false,false,false,false,false,false]],\"method\":\"restyle\"},{\"args\":[\"visible\",[false,false,false,false,false,false,false,false,false,false,false,false,false,false,false,false,false,true,false,false,false,false,false,false,false,false,false,false,false,false,false,false,false,false,false,false,false,false,false,false,false,false,false,false,false,false,false,false,false,false]],\"method\":\"restyle\"},{\"args\":[\"visible\",[false,false,false,false,false,false,false,false,false,false,false,false,false,false,false,false,false,false,true,false,false,false,false,false,false,false,false,false,false,false,false,false,false,false,false,false,false,false,false,false,false,false,false,false,false,false,false,false,false,false]],\"method\":\"restyle\"},{\"args\":[\"visible\",[false,false,false,false,false,false,false,false,false,false,false,false,false,false,false,false,false,false,false,true,false,false,false,false,false,false,false,false,false,false,false,false,false,false,false,false,false,false,false,false,false,false,false,false,false,false,false,false,false,false]],\"method\":\"restyle\"},{\"args\":[\"visible\",[false,false,false,false,false,false,false,false,false,false,false,false,false,false,false,false,false,false,false,false,true,false,false,false,false,false,false,false,false,false,false,false,false,false,false,false,false,false,false,false,false,false,false,false,false,false,false,false,false,false]],\"method\":\"restyle\"},{\"args\":[\"visible\",[false,false,false,false,false,false,false,false,false,false,false,false,false,false,false,false,false,false,false,false,false,true,false,false,false,false,false,false,false,false,false,false,false,false,false,false,false,false,false,false,false,false,false,false,false,false,false,false,false,false]],\"method\":\"restyle\"},{\"args\":[\"visible\",[false,false,false,false,false,false,false,false,false,false,false,false,false,false,false,false,false,false,false,false,false,false,true,false,false,false,false,false,false,false,false,false,false,false,false,false,false,false,false,false,false,false,false,false,false,false,false,false,false,false]],\"method\":\"restyle\"},{\"args\":[\"visible\",[false,false,false,false,false,false,false,false,false,false,false,false,false,false,false,false,false,false,false,false,false,false,false,true,false,false,false,false,false,false,false,false,false,false,false,false,false,false,false,false,false,false,false,false,false,false,false,false,false,false]],\"method\":\"restyle\"},{\"args\":[\"visible\",[false,false,false,false,false,false,false,false,false,false,false,false,false,false,false,false,false,false,false,false,false,false,false,false,true,false,false,false,false,false,false,false,false,false,false,false,false,false,false,false,false,false,false,false,false,false,false,false,false,false]],\"method\":\"restyle\"},{\"args\":[\"visible\",[false,false,false,false,false,false,false,false,false,false,false,false,false,false,false,false,false,false,false,false,false,false,false,false,false,true,false,false,false,false,false,false,false,false,false,false,false,false,false,false,false,false,false,false,false,false,false,false,false,false]],\"method\":\"restyle\"},{\"args\":[\"visible\",[false,false,false,false,false,false,false,false,false,false,false,false,false,false,false,false,false,false,false,false,false,false,false,false,false,false,true,false,false,false,false,false,false,false,false,false,false,false,false,false,false,false,false,false,false,false,false,false,false,false]],\"method\":\"restyle\"},{\"args\":[\"visible\",[false,false,false,false,false,false,false,false,false,false,false,false,false,false,false,false,false,false,false,false,false,false,false,false,false,false,false,true,false,false,false,false,false,false,false,false,false,false,false,false,false,false,false,false,false,false,false,false,false,false]],\"method\":\"restyle\"},{\"args\":[\"visible\",[false,false,false,false,false,false,false,false,false,false,false,false,false,false,false,false,false,false,false,false,false,false,false,false,false,false,false,false,true,false,false,false,false,false,false,false,false,false,false,false,false,false,false,false,false,false,false,false,false,false]],\"method\":\"restyle\"},{\"args\":[\"visible\",[false,false,false,false,false,false,false,false,false,false,false,false,false,false,false,false,false,false,false,false,false,false,false,false,false,false,false,false,false,true,false,false,false,false,false,false,false,false,false,false,false,false,false,false,false,false,false,false,false,false]],\"method\":\"restyle\"},{\"args\":[\"visible\",[false,false,false,false,false,false,false,false,false,false,false,false,false,false,false,false,false,false,false,false,false,false,false,false,false,false,false,false,false,false,true,false,false,false,false,false,false,false,false,false,false,false,false,false,false,false,false,false,false,false]],\"method\":\"restyle\"},{\"args\":[\"visible\",[false,false,false,false,false,false,false,false,false,false,false,false,false,false,false,false,false,false,false,false,false,false,false,false,false,false,false,false,false,false,false,true,false,false,false,false,false,false,false,false,false,false,false,false,false,false,false,false,false,false]],\"method\":\"restyle\"},{\"args\":[\"visible\",[false,false,false,false,false,false,false,false,false,false,false,false,false,false,false,false,false,false,false,false,false,false,false,false,false,false,false,false,false,false,false,false,true,false,false,false,false,false,false,false,false,false,false,false,false,false,false,false,false,false]],\"method\":\"restyle\"},{\"args\":[\"visible\",[false,false,false,false,false,false,false,false,false,false,false,false,false,false,false,false,false,false,false,false,false,false,false,false,false,false,false,false,false,false,false,false,false,true,false,false,false,false,false,false,false,false,false,false,false,false,false,false,false,false]],\"method\":\"restyle\"},{\"args\":[\"visible\",[false,false,false,false,false,false,false,false,false,false,false,false,false,false,false,false,false,false,false,false,false,false,false,false,false,false,false,false,false,false,false,false,false,false,true,false,false,false,false,false,false,false,false,false,false,false,false,false,false,false]],\"method\":\"restyle\"},{\"args\":[\"visible\",[false,false,false,false,false,false,false,false,false,false,false,false,false,false,false,false,false,false,false,false,false,false,false,false,false,false,false,false,false,false,false,false,false,false,false,true,false,false,false,false,false,false,false,false,false,false,false,false,false,false]],\"method\":\"restyle\"},{\"args\":[\"visible\",[false,false,false,false,false,false,false,false,false,false,false,false,false,false,false,false,false,false,false,false,false,false,false,false,false,false,false,false,false,false,false,false,false,false,false,false,true,false,false,false,false,false,false,false,false,false,false,false,false,false]],\"method\":\"restyle\"},{\"args\":[\"visible\",[false,false,false,false,false,false,false,false,false,false,false,false,false,false,false,false,false,false,false,false,false,false,false,false,false,false,false,false,false,false,false,false,false,false,false,false,false,true,false,false,false,false,false,false,false,false,false,false,false,false]],\"method\":\"restyle\"},{\"args\":[\"visible\",[false,false,false,false,false,false,false,false,false,false,false,false,false,false,false,false,false,false,false,false,false,false,false,false,false,false,false,false,false,false,false,false,false,false,false,false,false,false,true,false,false,false,false,false,false,false,false,false,false,false]],\"method\":\"restyle\"},{\"args\":[\"visible\",[false,false,false,false,false,false,false,false,false,false,false,false,false,false,false,false,false,false,false,false,false,false,false,false,false,false,false,false,false,false,false,false,false,false,false,false,false,false,false,true,false,false,false,false,false,false,false,false,false,false]],\"method\":\"restyle\"},{\"args\":[\"visible\",[false,false,false,false,false,false,false,false,false,false,false,false,false,false,false,false,false,false,false,false,false,false,false,false,false,false,false,false,false,false,false,false,false,false,false,false,false,false,false,false,true,false,false,false,false,false,false,false,false,false]],\"method\":\"restyle\"},{\"args\":[\"visible\",[false,false,false,false,false,false,false,false,false,false,false,false,false,false,false,false,false,false,false,false,false,false,false,false,false,false,false,false,false,false,false,false,false,false,false,false,false,false,false,false,false,true,false,false,false,false,false,false,false,false]],\"method\":\"restyle\"},{\"args\":[\"visible\",[false,false,false,false,false,false,false,false,false,false,false,false,false,false,false,false,false,false,false,false,false,false,false,false,false,false,false,false,false,false,false,false,false,false,false,false,false,false,false,false,false,false,true,false,false,false,false,false,false,false]],\"method\":\"restyle\"},{\"args\":[\"visible\",[false,false,false,false,false,false,false,false,false,false,false,false,false,false,false,false,false,false,false,false,false,false,false,false,false,false,false,false,false,false,false,false,false,false,false,false,false,false,false,false,false,false,false,true,false,false,false,false,false,false]],\"method\":\"restyle\"},{\"args\":[\"visible\",[false,false,false,false,false,false,false,false,false,false,false,false,false,false,false,false,false,false,false,false,false,false,false,false,false,false,false,false,false,false,false,false,false,false,false,false,false,false,false,false,false,false,false,false,true,false,false,false,false,false]],\"method\":\"restyle\"},{\"args\":[\"visible\",[false,false,false,false,false,false,false,false,false,false,false,false,false,false,false,false,false,false,false,false,false,false,false,false,false,false,false,false,false,false,false,false,false,false,false,false,false,false,false,false,false,false,false,false,false,true,false,false,false,false]],\"method\":\"restyle\"},{\"args\":[\"visible\",[false,false,false,false,false,false,false,false,false,false,false,false,false,false,false,false,false,false,false,false,false,false,false,false,false,false,false,false,false,false,false,false,false,false,false,false,false,false,false,false,false,false,false,false,false,false,true,false,false,false]],\"method\":\"restyle\"},{\"args\":[\"visible\",[false,false,false,false,false,false,false,false,false,false,false,false,false,false,false,false,false,false,false,false,false,false,false,false,false,false,false,false,false,false,false,false,false,false,false,false,false,false,false,false,false,false,false,false,false,false,false,true,false,false]],\"method\":\"restyle\"},{\"args\":[\"visible\",[false,false,false,false,false,false,false,false,false,false,false,false,false,false,false,false,false,false,false,false,false,false,false,false,false,false,false,false,false,false,false,false,false,false,false,false,false,false,false,false,false,false,false,false,false,false,false,false,true,false]],\"method\":\"restyle\"},{\"args\":[\"visible\",[false,false,false,false,false,false,false,false,false,false,false,false,false,false,false,false,false,false,false,false,false,false,false,false,false,false,false,false,false,false,false,false,false,false,false,false,false,false,false,false,false,false,false,false,false,false,false,false,false,true]],\"method\":\"restyle\"}]}],\"autosize\":false,\"width\":500,\"height\":500},                        {\"responsive\": true}                    ).then(function(){\n",
       "                            \n",
       "var gd = document.getElementById('c508a49c-08a8-4cdf-b815-938371eed059');\n",
       "var x = new MutationObserver(function (mutations, observer) {{\n",
       "        var display = window.getComputedStyle(gd).display;\n",
       "        if (!display || display === 'none') {{\n",
       "            console.log([gd, 'removed!']);\n",
       "            Plotly.purge(gd);\n",
       "            observer.disconnect();\n",
       "        }}\n",
       "}});\n",
       "\n",
       "// Listen for the removal of the full notebook cells\n",
       "var notebookContainer = gd.closest('#notebook-container');\n",
       "if (notebookContainer) {{\n",
       "    x.observe(notebookContainer, {childList: true});\n",
       "}}\n",
       "\n",
       "// Listen for the clearing of the current output cell\n",
       "var outputEl = gd.closest('.output');\n",
       "if (outputEl) {{\n",
       "    x.observe(outputEl, {childList: true});\n",
       "}}\n",
       "\n",
       "                        })                };                });            </script>        </div>"
      ]
     },
     "metadata": {},
     "output_type": "display_data"
    }
   ],
   "source": [
    "num_steps = len(x)\n",
    "trace_list = [go.Scatter(visible=True, x=[x[0]], y=[f(x)[0]], mode='lines+markers', name='f(x)=x<sup>2</sup>')]\n",
    "\n",
    "for i in range(1, len(x)):\n",
    "    trace_list.append(go.Scatter(visible=False, x=x[:i+1], y=f(x[:i+1]), mode='lines+markers', name='f(x)=x<sup>2</sup>'))\n",
    "\n",
    "fig = go.Figure(data=trace_list)\n",
    "\n",
    "steps = []\n",
    "for i in range(num_steps):\n",
    "    # скрыть все шаги\n",
    "    step = dict(\n",
    "        method = 'restyle',  \n",
    "        args = ['visible', [False] * len(fig.data)],\n",
    "    )\n",
    "    # Первоначальный вид\n",
    "    step['args'][1][i] = True\n",
    "    \n",
    "    # добавляем шаги\n",
    "    steps.append(step)\n",
    "\n",
    "sliders = [dict(\n",
    "    steps = steps,\n",
    ")]\n",
    "\n",
    "fig.layout.sliders = sliders\n",
    "fig.update_layout(autosize = False, width=500,height=500 ) # МЕНЯТЬ РАЗМЕР ПОЛОТНА \n",
    "\n",
    "fig.show()\n"
   ]
  }
 ],
 "metadata": {
  "kernelspec": {
   "display_name": "Python 3 (ipykernel)",
   "language": "python",
   "name": "python3"
  },
  "language_info": {
   "codemirror_mode": {
    "name": "ipython",
    "version": 3
   },
   "file_extension": ".py",
   "mimetype": "text/x-python",
   "name": "python",
   "nbconvert_exporter": "python",
   "pygments_lexer": "ipython3",
   "version": "3.9.12"
  },
  "vscode": {
   "interpreter": {
    "hash": "5e1558d60cdc2f00be7c263309c56e01e34d09b80f3b0bbd04d98dd54a05f2f1"
   }
  }
 },
 "nbformat": 4,
 "nbformat_minor": 2
}
